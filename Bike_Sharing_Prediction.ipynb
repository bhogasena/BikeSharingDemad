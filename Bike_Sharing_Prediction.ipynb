{
  "nbformat": 4,
  "nbformat_minor": 0,
  "metadata": {
    "colab": {
      "name": "Bike Sharing Prediction.ipynb",
      "provenance": [],
      "authorship_tag": "ABX9TyNzkR1HXiyPIUNZKahtj0/W",
      "include_colab_link": true
    },
    "kernelspec": {
      "name": "python3",
      "display_name": "Python 3"
    },
    "language_info": {
      "name": "python"
    }
  },
  "cells": [
    {
      "cell_type": "markdown",
      "metadata": {
        "id": "view-in-github",
        "colab_type": "text"
      },
      "source": [
        "<a href=\"https://colab.research.google.com/github/bhogasena/BikeSharingDemad/blob/main/Bike_Sharing_Prediction.ipynb\" target=\"_parent\"><img src=\"https://colab.research.google.com/assets/colab-badge.svg\" alt=\"Open In Colab\"/></a>"
      ]
    },
    {
      "cell_type": "markdown",
      "source": [
        "# Bike Sharing Demand Prediction and Interpretation using Linear Regression\n",
        "\n",
        "## Problem Statement\n",
        "\n",
        "A bike-sharing system is a service in which bikes are made available for shared use to individuals on a short term basis for a price or free. Many bike share systems allow people to borrow a bike from a \"dock\" which is usually computer-controlled wherein the user enters the payment information, and the system unlocks it. This bike can then be returned to another dock belonging to the same system.\n",
        "\n",
        "Compnay wants to understand the factors on which the demand for these shared bikes depends. Specifically, they want to understand the factors affecting the demand for these shared bikes in the American market.\n",
        "\n",
        "The company wants to know:\n",
        "\n",
        "*   Which variables are significant in predicting the demand for shared bikes.\n",
        "*   How well those variables describe the bike demands\n",
        "\n",
        "\n"
      ],
      "metadata": {
        "id": "aeGAvC-vbk9l"
      }
    },
    {
      "cell_type": "markdown",
      "source": [
        "## Step 1: Reading and Understanding the Data"
      ],
      "metadata": {
        "id": "3cv44S7icd2d"
      }
    },
    {
      "cell_type": "code",
      "source": [
        "import numpy as np\n",
        "import pandas as pd\n",
        "import sklearn\n",
        "import statsmodels.api as sm\n",
        "from datetime import datetime\n",
        "import matplotlib.pyplot as plt\n",
        "import seaborn as sns\n",
        "import plotly.express as px\n",
        "from plotly.subplots import make_subplots\n",
        "from sklearn.preprocessing import MinMaxScaler\n",
        "from sklearn.model_selection import train_test_split\n",
        "from statsmodels.stats.outliers_influence import variance_inflation_factor\n",
        "from sklearn.feature_selection import RFE\n",
        "from sklearn.linear_model import LinearRegression\n",
        "from sklearn.metrics import r2_score\n",
        "import plotly.graph_objects as go\n",
        "import warnings\n",
        "pd.options.display.max_columns=None\n"
      ],
      "metadata": {
        "id": "W5HTeEzicdH3"
      },
      "execution_count": 347,
      "outputs": []
    },
    {
      "cell_type": "code",
      "source": [
        "bike_df = pd.read_csv(\"day.csv\")\n",
        "bike_df.head()"
      ],
      "metadata": {
        "colab": {
          "base_uri": "https://localhost:8080/",
          "height": 206
        },
        "id": "0V9zp57Pc5qU",
        "outputId": "d9d82003-8e74-406f-be86-f60b9261a2f5"
      },
      "execution_count": 348,
      "outputs": [
        {
          "output_type": "execute_result",
          "data": {
            "text/plain": [
              "   instant      dteday  season  yr  mnth  holiday  weekday  workingday  \\\n",
              "0        1  01-01-2018       1   0     1        0        6           0   \n",
              "1        2  02-01-2018       1   0     1        0        0           0   \n",
              "2        3  03-01-2018       1   0     1        0        1           1   \n",
              "3        4  04-01-2018       1   0     1        0        2           1   \n",
              "4        5  05-01-2018       1   0     1        0        3           1   \n",
              "\n",
              "   weathersit       temp     atemp      hum  windspeed  casual  registered  \\\n",
              "0           2  14.110847  18.18125  80.5833  10.749882     331         654   \n",
              "1           2  14.902598  17.68695  69.6087  16.652113     131         670   \n",
              "2           1   8.050924   9.47025  43.7273  16.636703     120        1229   \n",
              "3           1   8.200000  10.60610  59.0435  10.739832     108        1454   \n",
              "4           1   9.305237  11.46350  43.6957  12.522300      82        1518   \n",
              "\n",
              "    cnt  \n",
              "0   985  \n",
              "1   801  \n",
              "2  1349  \n",
              "3  1562  \n",
              "4  1600  "
            ],
            "text/html": [
              "\n",
              "  <div id=\"df-ba27227d-a88a-41ba-9192-5c69fdce12ad\">\n",
              "    <div class=\"colab-df-container\">\n",
              "      <div>\n",
              "<style scoped>\n",
              "    .dataframe tbody tr th:only-of-type {\n",
              "        vertical-align: middle;\n",
              "    }\n",
              "\n",
              "    .dataframe tbody tr th {\n",
              "        vertical-align: top;\n",
              "    }\n",
              "\n",
              "    .dataframe thead th {\n",
              "        text-align: right;\n",
              "    }\n",
              "</style>\n",
              "<table border=\"1\" class=\"dataframe\">\n",
              "  <thead>\n",
              "    <tr style=\"text-align: right;\">\n",
              "      <th></th>\n",
              "      <th>instant</th>\n",
              "      <th>dteday</th>\n",
              "      <th>season</th>\n",
              "      <th>yr</th>\n",
              "      <th>mnth</th>\n",
              "      <th>holiday</th>\n",
              "      <th>weekday</th>\n",
              "      <th>workingday</th>\n",
              "      <th>weathersit</th>\n",
              "      <th>temp</th>\n",
              "      <th>atemp</th>\n",
              "      <th>hum</th>\n",
              "      <th>windspeed</th>\n",
              "      <th>casual</th>\n",
              "      <th>registered</th>\n",
              "      <th>cnt</th>\n",
              "    </tr>\n",
              "  </thead>\n",
              "  <tbody>\n",
              "    <tr>\n",
              "      <th>0</th>\n",
              "      <td>1</td>\n",
              "      <td>01-01-2018</td>\n",
              "      <td>1</td>\n",
              "      <td>0</td>\n",
              "      <td>1</td>\n",
              "      <td>0</td>\n",
              "      <td>6</td>\n",
              "      <td>0</td>\n",
              "      <td>2</td>\n",
              "      <td>14.110847</td>\n",
              "      <td>18.18125</td>\n",
              "      <td>80.5833</td>\n",
              "      <td>10.749882</td>\n",
              "      <td>331</td>\n",
              "      <td>654</td>\n",
              "      <td>985</td>\n",
              "    </tr>\n",
              "    <tr>\n",
              "      <th>1</th>\n",
              "      <td>2</td>\n",
              "      <td>02-01-2018</td>\n",
              "      <td>1</td>\n",
              "      <td>0</td>\n",
              "      <td>1</td>\n",
              "      <td>0</td>\n",
              "      <td>0</td>\n",
              "      <td>0</td>\n",
              "      <td>2</td>\n",
              "      <td>14.902598</td>\n",
              "      <td>17.68695</td>\n",
              "      <td>69.6087</td>\n",
              "      <td>16.652113</td>\n",
              "      <td>131</td>\n",
              "      <td>670</td>\n",
              "      <td>801</td>\n",
              "    </tr>\n",
              "    <tr>\n",
              "      <th>2</th>\n",
              "      <td>3</td>\n",
              "      <td>03-01-2018</td>\n",
              "      <td>1</td>\n",
              "      <td>0</td>\n",
              "      <td>1</td>\n",
              "      <td>0</td>\n",
              "      <td>1</td>\n",
              "      <td>1</td>\n",
              "      <td>1</td>\n",
              "      <td>8.050924</td>\n",
              "      <td>9.47025</td>\n",
              "      <td>43.7273</td>\n",
              "      <td>16.636703</td>\n",
              "      <td>120</td>\n",
              "      <td>1229</td>\n",
              "      <td>1349</td>\n",
              "    </tr>\n",
              "    <tr>\n",
              "      <th>3</th>\n",
              "      <td>4</td>\n",
              "      <td>04-01-2018</td>\n",
              "      <td>1</td>\n",
              "      <td>0</td>\n",
              "      <td>1</td>\n",
              "      <td>0</td>\n",
              "      <td>2</td>\n",
              "      <td>1</td>\n",
              "      <td>1</td>\n",
              "      <td>8.200000</td>\n",
              "      <td>10.60610</td>\n",
              "      <td>59.0435</td>\n",
              "      <td>10.739832</td>\n",
              "      <td>108</td>\n",
              "      <td>1454</td>\n",
              "      <td>1562</td>\n",
              "    </tr>\n",
              "    <tr>\n",
              "      <th>4</th>\n",
              "      <td>5</td>\n",
              "      <td>05-01-2018</td>\n",
              "      <td>1</td>\n",
              "      <td>0</td>\n",
              "      <td>1</td>\n",
              "      <td>0</td>\n",
              "      <td>3</td>\n",
              "      <td>1</td>\n",
              "      <td>1</td>\n",
              "      <td>9.305237</td>\n",
              "      <td>11.46350</td>\n",
              "      <td>43.6957</td>\n",
              "      <td>12.522300</td>\n",
              "      <td>82</td>\n",
              "      <td>1518</td>\n",
              "      <td>1600</td>\n",
              "    </tr>\n",
              "  </tbody>\n",
              "</table>\n",
              "</div>\n",
              "      <button class=\"colab-df-convert\" onclick=\"convertToInteractive('df-ba27227d-a88a-41ba-9192-5c69fdce12ad')\"\n",
              "              title=\"Convert this dataframe to an interactive table.\"\n",
              "              style=\"display:none;\">\n",
              "        \n",
              "  <svg xmlns=\"http://www.w3.org/2000/svg\" height=\"24px\"viewBox=\"0 0 24 24\"\n",
              "       width=\"24px\">\n",
              "    <path d=\"M0 0h24v24H0V0z\" fill=\"none\"/>\n",
              "    <path d=\"M18.56 5.44l.94 2.06.94-2.06 2.06-.94-2.06-.94-.94-2.06-.94 2.06-2.06.94zm-11 1L8.5 8.5l.94-2.06 2.06-.94-2.06-.94L8.5 2.5l-.94 2.06-2.06.94zm10 10l.94 2.06.94-2.06 2.06-.94-2.06-.94-.94-2.06-.94 2.06-2.06.94z\"/><path d=\"M17.41 7.96l-1.37-1.37c-.4-.4-.92-.59-1.43-.59-.52 0-1.04.2-1.43.59L10.3 9.45l-7.72 7.72c-.78.78-.78 2.05 0 2.83L4 21.41c.39.39.9.59 1.41.59.51 0 1.02-.2 1.41-.59l7.78-7.78 2.81-2.81c.8-.78.8-2.07 0-2.86zM5.41 20L4 18.59l7.72-7.72 1.47 1.35L5.41 20z\"/>\n",
              "  </svg>\n",
              "      </button>\n",
              "      \n",
              "  <style>\n",
              "    .colab-df-container {\n",
              "      display:flex;\n",
              "      flex-wrap:wrap;\n",
              "      gap: 12px;\n",
              "    }\n",
              "\n",
              "    .colab-df-convert {\n",
              "      background-color: #E8F0FE;\n",
              "      border: none;\n",
              "      border-radius: 50%;\n",
              "      cursor: pointer;\n",
              "      display: none;\n",
              "      fill: #1967D2;\n",
              "      height: 32px;\n",
              "      padding: 0 0 0 0;\n",
              "      width: 32px;\n",
              "    }\n",
              "\n",
              "    .colab-df-convert:hover {\n",
              "      background-color: #E2EBFA;\n",
              "      box-shadow: 0px 1px 2px rgba(60, 64, 67, 0.3), 0px 1px 3px 1px rgba(60, 64, 67, 0.15);\n",
              "      fill: #174EA6;\n",
              "    }\n",
              "\n",
              "    [theme=dark] .colab-df-convert {\n",
              "      background-color: #3B4455;\n",
              "      fill: #D2E3FC;\n",
              "    }\n",
              "\n",
              "    [theme=dark] .colab-df-convert:hover {\n",
              "      background-color: #434B5C;\n",
              "      box-shadow: 0px 1px 3px 1px rgba(0, 0, 0, 0.15);\n",
              "      filter: drop-shadow(0px 1px 2px rgba(0, 0, 0, 0.3));\n",
              "      fill: #FFFFFF;\n",
              "    }\n",
              "  </style>\n",
              "\n",
              "      <script>\n",
              "        const buttonEl =\n",
              "          document.querySelector('#df-ba27227d-a88a-41ba-9192-5c69fdce12ad button.colab-df-convert');\n",
              "        buttonEl.style.display =\n",
              "          google.colab.kernel.accessAllowed ? 'block' : 'none';\n",
              "\n",
              "        async function convertToInteractive(key) {\n",
              "          const element = document.querySelector('#df-ba27227d-a88a-41ba-9192-5c69fdce12ad');\n",
              "          const dataTable =\n",
              "            await google.colab.kernel.invokeFunction('convertToInteractive',\n",
              "                                                     [key], {});\n",
              "          if (!dataTable) return;\n",
              "\n",
              "          const docLinkHtml = 'Like what you see? Visit the ' +\n",
              "            '<a target=\"_blank\" href=https://colab.research.google.com/notebooks/data_table.ipynb>data table notebook</a>'\n",
              "            + ' to learn more about interactive tables.';\n",
              "          element.innerHTML = '';\n",
              "          dataTable['output_type'] = 'display_data';\n",
              "          await google.colab.output.renderOutput(dataTable, element);\n",
              "          const docLink = document.createElement('div');\n",
              "          docLink.innerHTML = docLinkHtml;\n",
              "          element.appendChild(docLink);\n",
              "        }\n",
              "      </script>\n",
              "    </div>\n",
              "  </div>\n",
              "  "
            ]
          },
          "metadata": {},
          "execution_count": 348
        }
      ]
    },
    {
      "cell_type": "code",
      "source": [
        "bike_df.info()"
      ],
      "metadata": {
        "colab": {
          "base_uri": "https://localhost:8080/"
        },
        "id": "JkIDJDvBdeJV",
        "outputId": "8c2cf8df-759b-4cae-d381-ccc917676421"
      },
      "execution_count": 349,
      "outputs": [
        {
          "output_type": "stream",
          "name": "stdout",
          "text": [
            "<class 'pandas.core.frame.DataFrame'>\n",
            "RangeIndex: 730 entries, 0 to 729\n",
            "Data columns (total 16 columns):\n",
            " #   Column      Non-Null Count  Dtype  \n",
            "---  ------      --------------  -----  \n",
            " 0   instant     730 non-null    int64  \n",
            " 1   dteday      730 non-null    object \n",
            " 2   season      730 non-null    int64  \n",
            " 3   yr          730 non-null    int64  \n",
            " 4   mnth        730 non-null    int64  \n",
            " 5   holiday     730 non-null    int64  \n",
            " 6   weekday     730 non-null    int64  \n",
            " 7   workingday  730 non-null    int64  \n",
            " 8   weathersit  730 non-null    int64  \n",
            " 9   temp        730 non-null    float64\n",
            " 10  atemp       730 non-null    float64\n",
            " 11  hum         730 non-null    float64\n",
            " 12  windspeed   730 non-null    float64\n",
            " 13  casual      730 non-null    int64  \n",
            " 14  registered  730 non-null    int64  \n",
            " 15  cnt         730 non-null    int64  \n",
            "dtypes: float64(4), int64(11), object(1)\n",
            "memory usage: 91.4+ KB\n"
          ]
        }
      ]
    },
    {
      "cell_type": "markdown",
      "source": [
        "#### Data Cleaning\n",
        "\n",
        "\n",
        "*   instant is unique id and so we can delete.\n",
        "*   dteday as well can be deleted as we already have month and year in separate columns\n",
        "*   As we are dealing with total bike shares, we can drop casual and registered columns as well.\n",
        "\n",
        "\n",
        "\n",
        "\n"
      ],
      "metadata": {
        "id": "KALpoon-kcMv"
      }
    },
    {
      "cell_type": "code",
      "source": [
        "bike_df.drop(['instant','dteday','casual','registered'],inplace=True,axis=1)"
      ],
      "metadata": {
        "id": "6KTY6ajUHJPs"
      },
      "execution_count": 350,
      "outputs": []
    },
    {
      "cell_type": "code",
      "source": [
        "bike_df.describe()"
      ],
      "metadata": {
        "colab": {
          "base_uri": "https://localhost:8080/",
          "height": 300
        },
        "id": "BM7oAkbpl77K",
        "outputId": "362769a4-e5a1-4439-b9a6-5c17da997ff3"
      },
      "execution_count": 351,
      "outputs": [
        {
          "output_type": "execute_result",
          "data": {
            "text/plain": [
              "           season          yr        mnth     holiday     weekday  workingday  \\\n",
              "count  730.000000  730.000000  730.000000  730.000000  730.000000  730.000000   \n",
              "mean     2.498630    0.500000    6.526027    0.028767    2.997260    0.683562   \n",
              "std      1.110184    0.500343    3.450215    0.167266    2.006161    0.465405   \n",
              "min      1.000000    0.000000    1.000000    0.000000    0.000000    0.000000   \n",
              "25%      2.000000    0.000000    4.000000    0.000000    1.000000    0.000000   \n",
              "50%      3.000000    0.500000    7.000000    0.000000    3.000000    1.000000   \n",
              "75%      3.000000    1.000000   10.000000    0.000000    5.000000    1.000000   \n",
              "max      4.000000    1.000000   12.000000    1.000000    6.000000    1.000000   \n",
              "\n",
              "       weathersit        temp       atemp         hum   windspeed          cnt  \n",
              "count  730.000000  730.000000  730.000000  730.000000  730.000000   730.000000  \n",
              "mean     1.394521   20.319259   23.726322   62.765175   12.763620  4508.006849  \n",
              "std      0.544807    7.506729    8.150308   14.237589    5.195841  1936.011647  \n",
              "min      1.000000    2.424346    3.953480    0.000000    1.500244    22.000000  \n",
              "25%      1.000000   13.811885   16.889713   52.000000    9.041650  3169.750000  \n",
              "50%      1.000000   20.465826   24.368225   62.625000   12.125325  4548.500000  \n",
              "75%      2.000000   26.880615   30.445775   72.989575   15.625589  5966.000000  \n",
              "max      3.000000   35.328347   42.044800   97.250000   34.000021  8714.000000  "
            ],
            "text/html": [
              "\n",
              "  <div id=\"df-d27ca461-cb3c-459e-a6c1-1c9da05deb4b\">\n",
              "    <div class=\"colab-df-container\">\n",
              "      <div>\n",
              "<style scoped>\n",
              "    .dataframe tbody tr th:only-of-type {\n",
              "        vertical-align: middle;\n",
              "    }\n",
              "\n",
              "    .dataframe tbody tr th {\n",
              "        vertical-align: top;\n",
              "    }\n",
              "\n",
              "    .dataframe thead th {\n",
              "        text-align: right;\n",
              "    }\n",
              "</style>\n",
              "<table border=\"1\" class=\"dataframe\">\n",
              "  <thead>\n",
              "    <tr style=\"text-align: right;\">\n",
              "      <th></th>\n",
              "      <th>season</th>\n",
              "      <th>yr</th>\n",
              "      <th>mnth</th>\n",
              "      <th>holiday</th>\n",
              "      <th>weekday</th>\n",
              "      <th>workingday</th>\n",
              "      <th>weathersit</th>\n",
              "      <th>temp</th>\n",
              "      <th>atemp</th>\n",
              "      <th>hum</th>\n",
              "      <th>windspeed</th>\n",
              "      <th>cnt</th>\n",
              "    </tr>\n",
              "  </thead>\n",
              "  <tbody>\n",
              "    <tr>\n",
              "      <th>count</th>\n",
              "      <td>730.000000</td>\n",
              "      <td>730.000000</td>\n",
              "      <td>730.000000</td>\n",
              "      <td>730.000000</td>\n",
              "      <td>730.000000</td>\n",
              "      <td>730.000000</td>\n",
              "      <td>730.000000</td>\n",
              "      <td>730.000000</td>\n",
              "      <td>730.000000</td>\n",
              "      <td>730.000000</td>\n",
              "      <td>730.000000</td>\n",
              "      <td>730.000000</td>\n",
              "    </tr>\n",
              "    <tr>\n",
              "      <th>mean</th>\n",
              "      <td>2.498630</td>\n",
              "      <td>0.500000</td>\n",
              "      <td>6.526027</td>\n",
              "      <td>0.028767</td>\n",
              "      <td>2.997260</td>\n",
              "      <td>0.683562</td>\n",
              "      <td>1.394521</td>\n",
              "      <td>20.319259</td>\n",
              "      <td>23.726322</td>\n",
              "      <td>62.765175</td>\n",
              "      <td>12.763620</td>\n",
              "      <td>4508.006849</td>\n",
              "    </tr>\n",
              "    <tr>\n",
              "      <th>std</th>\n",
              "      <td>1.110184</td>\n",
              "      <td>0.500343</td>\n",
              "      <td>3.450215</td>\n",
              "      <td>0.167266</td>\n",
              "      <td>2.006161</td>\n",
              "      <td>0.465405</td>\n",
              "      <td>0.544807</td>\n",
              "      <td>7.506729</td>\n",
              "      <td>8.150308</td>\n",
              "      <td>14.237589</td>\n",
              "      <td>5.195841</td>\n",
              "      <td>1936.011647</td>\n",
              "    </tr>\n",
              "    <tr>\n",
              "      <th>min</th>\n",
              "      <td>1.000000</td>\n",
              "      <td>0.000000</td>\n",
              "      <td>1.000000</td>\n",
              "      <td>0.000000</td>\n",
              "      <td>0.000000</td>\n",
              "      <td>0.000000</td>\n",
              "      <td>1.000000</td>\n",
              "      <td>2.424346</td>\n",
              "      <td>3.953480</td>\n",
              "      <td>0.000000</td>\n",
              "      <td>1.500244</td>\n",
              "      <td>22.000000</td>\n",
              "    </tr>\n",
              "    <tr>\n",
              "      <th>25%</th>\n",
              "      <td>2.000000</td>\n",
              "      <td>0.000000</td>\n",
              "      <td>4.000000</td>\n",
              "      <td>0.000000</td>\n",
              "      <td>1.000000</td>\n",
              "      <td>0.000000</td>\n",
              "      <td>1.000000</td>\n",
              "      <td>13.811885</td>\n",
              "      <td>16.889713</td>\n",
              "      <td>52.000000</td>\n",
              "      <td>9.041650</td>\n",
              "      <td>3169.750000</td>\n",
              "    </tr>\n",
              "    <tr>\n",
              "      <th>50%</th>\n",
              "      <td>3.000000</td>\n",
              "      <td>0.500000</td>\n",
              "      <td>7.000000</td>\n",
              "      <td>0.000000</td>\n",
              "      <td>3.000000</td>\n",
              "      <td>1.000000</td>\n",
              "      <td>1.000000</td>\n",
              "      <td>20.465826</td>\n",
              "      <td>24.368225</td>\n",
              "      <td>62.625000</td>\n",
              "      <td>12.125325</td>\n",
              "      <td>4548.500000</td>\n",
              "    </tr>\n",
              "    <tr>\n",
              "      <th>75%</th>\n",
              "      <td>3.000000</td>\n",
              "      <td>1.000000</td>\n",
              "      <td>10.000000</td>\n",
              "      <td>0.000000</td>\n",
              "      <td>5.000000</td>\n",
              "      <td>1.000000</td>\n",
              "      <td>2.000000</td>\n",
              "      <td>26.880615</td>\n",
              "      <td>30.445775</td>\n",
              "      <td>72.989575</td>\n",
              "      <td>15.625589</td>\n",
              "      <td>5966.000000</td>\n",
              "    </tr>\n",
              "    <tr>\n",
              "      <th>max</th>\n",
              "      <td>4.000000</td>\n",
              "      <td>1.000000</td>\n",
              "      <td>12.000000</td>\n",
              "      <td>1.000000</td>\n",
              "      <td>6.000000</td>\n",
              "      <td>1.000000</td>\n",
              "      <td>3.000000</td>\n",
              "      <td>35.328347</td>\n",
              "      <td>42.044800</td>\n",
              "      <td>97.250000</td>\n",
              "      <td>34.000021</td>\n",
              "      <td>8714.000000</td>\n",
              "    </tr>\n",
              "  </tbody>\n",
              "</table>\n",
              "</div>\n",
              "      <button class=\"colab-df-convert\" onclick=\"convertToInteractive('df-d27ca461-cb3c-459e-a6c1-1c9da05deb4b')\"\n",
              "              title=\"Convert this dataframe to an interactive table.\"\n",
              "              style=\"display:none;\">\n",
              "        \n",
              "  <svg xmlns=\"http://www.w3.org/2000/svg\" height=\"24px\"viewBox=\"0 0 24 24\"\n",
              "       width=\"24px\">\n",
              "    <path d=\"M0 0h24v24H0V0z\" fill=\"none\"/>\n",
              "    <path d=\"M18.56 5.44l.94 2.06.94-2.06 2.06-.94-2.06-.94-.94-2.06-.94 2.06-2.06.94zm-11 1L8.5 8.5l.94-2.06 2.06-.94-2.06-.94L8.5 2.5l-.94 2.06-2.06.94zm10 10l.94 2.06.94-2.06 2.06-.94-2.06-.94-.94-2.06-.94 2.06-2.06.94z\"/><path d=\"M17.41 7.96l-1.37-1.37c-.4-.4-.92-.59-1.43-.59-.52 0-1.04.2-1.43.59L10.3 9.45l-7.72 7.72c-.78.78-.78 2.05 0 2.83L4 21.41c.39.39.9.59 1.41.59.51 0 1.02-.2 1.41-.59l7.78-7.78 2.81-2.81c.8-.78.8-2.07 0-2.86zM5.41 20L4 18.59l7.72-7.72 1.47 1.35L5.41 20z\"/>\n",
              "  </svg>\n",
              "      </button>\n",
              "      \n",
              "  <style>\n",
              "    .colab-df-container {\n",
              "      display:flex;\n",
              "      flex-wrap:wrap;\n",
              "      gap: 12px;\n",
              "    }\n",
              "\n",
              "    .colab-df-convert {\n",
              "      background-color: #E8F0FE;\n",
              "      border: none;\n",
              "      border-radius: 50%;\n",
              "      cursor: pointer;\n",
              "      display: none;\n",
              "      fill: #1967D2;\n",
              "      height: 32px;\n",
              "      padding: 0 0 0 0;\n",
              "      width: 32px;\n",
              "    }\n",
              "\n",
              "    .colab-df-convert:hover {\n",
              "      background-color: #E2EBFA;\n",
              "      box-shadow: 0px 1px 2px rgba(60, 64, 67, 0.3), 0px 1px 3px 1px rgba(60, 64, 67, 0.15);\n",
              "      fill: #174EA6;\n",
              "    }\n",
              "\n",
              "    [theme=dark] .colab-df-convert {\n",
              "      background-color: #3B4455;\n",
              "      fill: #D2E3FC;\n",
              "    }\n",
              "\n",
              "    [theme=dark] .colab-df-convert:hover {\n",
              "      background-color: #434B5C;\n",
              "      box-shadow: 0px 1px 3px 1px rgba(0, 0, 0, 0.15);\n",
              "      filter: drop-shadow(0px 1px 2px rgba(0, 0, 0, 0.3));\n",
              "      fill: #FFFFFF;\n",
              "    }\n",
              "  </style>\n",
              "\n",
              "      <script>\n",
              "        const buttonEl =\n",
              "          document.querySelector('#df-d27ca461-cb3c-459e-a6c1-1c9da05deb4b button.colab-df-convert');\n",
              "        buttonEl.style.display =\n",
              "          google.colab.kernel.accessAllowed ? 'block' : 'none';\n",
              "\n",
              "        async function convertToInteractive(key) {\n",
              "          const element = document.querySelector('#df-d27ca461-cb3c-459e-a6c1-1c9da05deb4b');\n",
              "          const dataTable =\n",
              "            await google.colab.kernel.invokeFunction('convertToInteractive',\n",
              "                                                     [key], {});\n",
              "          if (!dataTable) return;\n",
              "\n",
              "          const docLinkHtml = 'Like what you see? Visit the ' +\n",
              "            '<a target=\"_blank\" href=https://colab.research.google.com/notebooks/data_table.ipynb>data table notebook</a>'\n",
              "            + ' to learn more about interactive tables.';\n",
              "          element.innerHTML = '';\n",
              "          dataTable['output_type'] = 'display_data';\n",
              "          await google.colab.output.renderOutput(dataTable, element);\n",
              "          const docLink = document.createElement('div');\n",
              "          docLink.innerHTML = docLinkHtml;\n",
              "          element.appendChild(docLink);\n",
              "        }\n",
              "      </script>\n",
              "    </div>\n",
              "  </div>\n",
              "  "
            ]
          },
          "metadata": {},
          "execution_count": 351
        }
      ]
    },
    {
      "cell_type": "markdown",
      "source": [
        "## Step 2: Visualising the Data\n",
        "\n",
        "### Quantitative Continuous Variables Analysis using scatter plot"
      ],
      "metadata": {
        "id": "z5lDpiEWmVaN"
      }
    },
    {
      "cell_type": "code",
      "source": [
        "cont_vars = ['temp','atemp','hum','windspeed']\n",
        "dep_vars=['cnt']\n",
        "sns.pairplot(bike_df,x_vars=cont_vars,y_vars=dep_vars)\n",
        "plt.show()"
      ],
      "metadata": {
        "colab": {
          "base_uri": "https://localhost:8080/",
          "height": 197
        },
        "id": "tle3OFM8mYSv",
        "outputId": "e7ea14f9-bb5a-492c-dd37-b7ad2b47a545"
      },
      "execution_count": 352,
      "outputs": [
        {
          "output_type": "display_data",
          "data": {
            "text/plain": [
              "<Figure size 720x180 with 4 Axes>"
            ],
            "image/png": "[encoded data removed]"
          },
          "metadata": {
            "needs_background": "light"
          }
        }
      ]
    },
    {
      "cell_type": "markdown",
      "source": [
        "#### Observations\n",
        "\n",
        "As per above plots, there seems to be linear relationship for temperature and feeling temperature with total rental bikes"
      ],
      "metadata": {
        "id": "XZLalBSYrki5"
      }
    },
    {
      "cell_type": "code",
      "source": [
        "desc_vars = ['season','yr','mnth','holiday','weekday','workingday','weathersit']\n",
        "def create_box_plot(x_var,y_var,row,col,title,bins):\n",
        "  tr1 = go.Histogram(x=bike_df[x_var],y=bike_df[y_var],histfunc='sum')\n",
        "  tr1.update(name=title)\n",
        "  fig.add_trace(tr1,row,col)\n",
        "  fig.update_xaxes(title={\n",
        "        'text': title},row=row,col=col)\n",
        "\n",
        "fig = make_subplots(3,3,shared_yaxes=True)\n",
        "create_box_plot('season','cnt',1,1,'Season',{'start':1,'end':4,'size':1})\n",
        "create_box_plot('yr','cnt',1,2,'Year',{'start':0,'end':2,'size':1})\n",
        "create_box_plot('mnth','cnt',1,3,'Month',{'start':1,'end':12,'size':1})\n",
        "create_box_plot('holiday','cnt',2,1,'Holiday',{'start':0,'end':1,'size':1})\n",
        "create_box_plot('weekday','cnt',2,2,'Weekday',{'start':0,'end':6,'size':1})\n",
        "create_box_plot('workingday','cnt',2,3,'Workingday',{'start':0,'end':1,'size':1})\n",
        "create_box_plot('weathersit','cnt',3,1,'Weathersit',{'start':1,'end':4,'size':1})\n",
        "\n",
        "fig.update_layout(width=1200,height=1200,barmode='group', bargap=0.15)\n",
        "fig.update_yaxes(title={'text':\"Total Bikes Rented\"},row=1,col=1)\n",
        "fig.show()"
      ],
      "metadata": {
        "colab": {
          "base_uri": "https://localhost:8080/",
          "height": 1000
        },
        "id": "PFSXr6QFqVug",
        "outputId": "eecc30b1-49fe-4d0a-ac26-bd7da7bc5798"
      },
      "execution_count": 353,
      "outputs": [
        {
          "output_type": "display_data",
          "data": {
            "text/html": [
              "<html>\n",
              "<head><meta charset=\"utf-8\" /></head>\n",
              "<body>\n",
              "    <div>            <script src=\"https://cdnjs.cloudflare.com/ajax/libs/mathjax/2.7.5/MathJax.js?config=TeX-AMS-MML_SVG\"></script><script type=\"text/javascript\">if (window.MathJax) {MathJax.Hub.Config({SVG: {font: \"STIX-Web\"}});}</script>                <script type=\"text/javascript\">window.PlotlyConfig = {MathJaxConfig: 'local'};</script>\n",
              "        <script src=\"https://cdn.plot.ly/plotly-2.8.3.min.js\"></script>                <div id=\"e495be5b-5d2a-4399-ad4b-0d24e2138265\" class=\"plotly-graph-div\" style=\"height:1200px; width:1200px;\"></div>            <script type=\"text/javascript\">                                    window.PLOTLYENV=window.PLOTLYENV || {};                                    if (document.getElementById(\"e495be5b-5d2a-4399-ad4b-0d24e2138265\")) {                    Plotly.newPlot(                        \"e495be5b-5d2a-4399-ad4b-0d24e2138265\",                        [{\"histfunc\":\"sum\",\"name\":\"Season\",\"x\":[1,1,1,1,1,1,1,1,1,1,1,1,1,1,1,1,1,1,1,1,1,1,1,1,1,1,1,1,1,1,1,1,1,1,1,1,1,1,1,1,1,1,1,1,1,1,1,1,1,1,1,1,1,1,1,1,1,1,1,1,1,1,1,1,1,1,1,1,1,1,1,1,1,1,1,1,1,1,1,2,2,2,2,2,2,2,2,2,2,2,2,2,2,2,2,2,2,2,2,2,2,2,2,2,2,2,2,2,2,2,2,2,2,2,2,2,2,2,2,2,2,2,2,2,2,2,2,2,2,2,2,2,2,2,2,2,2,2,2,2,2,2,2,2,2,2,2,2,2,2,2,2,2,2,2,2,2,2,2,2,2,2,2,2,2,2,2,2,2,2,2,3,3,3,3,3,3,3,3,3,3,3,3,3,3,3,3,3,3,3,3,3,3,3,3,3,3,3,3,3,3,3,3,3,3,3,3,3,3,3,3,3,3,3,3,3,3,3,3,3,3,3,3,3,3,3,3,3,3,3,3,3,3,3,3,3,3,3,3,3,3,3,3,3,3,3,3,3,3,3,3,3,3,3,3,3,3,3,3,3,3,3,3,3,3,4,4,4,4,4,4,4,4,4,4,4,4,4,4,4,4,4,4,4,4,4,4,4,4,4,4,4,4,4,4,4,4,4,4,4,4,4,4,4,4,4,4,4,4,4,4,4,4,4,4,4,4,4,4,4,4,4,4,4,4,4,4,4,4,4,4,4,4,4,4,4,4,4,4,4,4,4,4,4,4,4,4,4,4,4,4,4,4,4,1,1,1,1,1,1,1,1,1,1,1,1,1,1,1,1,1,1,1,1,1,1,1,1,1,1,1,1,1,1,1,1,1,1,1,1,1,1,1,1,1,1,1,1,1,1,1,1,1,1,1,1,1,1,1,1,1,1,1,1,1,1,1,1,1,1,1,1,1,1,1,1,1,1,1,1,1,1,1,1,1,1,1,1,1,1,1,1,1,1,2,2,2,2,2,2,2,2,2,2,2,2,2,2,2,2,2,2,2,2,2,2,2,2,2,2,2,2,2,2,2,2,2,2,2,2,2,2,2,2,2,2,2,2,2,2,2,2,2,2,2,2,2,2,2,2,2,2,2,2,2,2,2,2,2,2,2,2,2,2,2,2,2,2,2,2,2,2,2,2,2,2,2,2,2,2,2,2,2,2,2,2,3,3,3,3,3,3,3,3,3,3,3,3,3,3,3,3,3,3,3,3,3,3,3,3,3,3,3,3,3,3,3,3,3,3,3,3,3,3,3,3,3,3,3,3,3,3,3,3,3,3,3,3,3,3,3,3,3,3,3,3,3,3,3,3,3,3,3,3,3,3,3,3,3,3,3,3,3,3,3,3,3,3,3,3,3,3,3,3,3,3,3,3,3,3,4,4,4,4,4,4,4,4,4,4,4,4,4,4,4,4,4,4,4,4,4,4,4,4,4,4,4,4,4,4,4,4,4,4,4,4,4,4,4,4,4,4,4,4,4,4,4,4,4,4,4,4,4,4,4,4,4,4,4,4,4,4,4,4,4,4,4,4,4,4,4,4,4,4,4,4,4,4,4,4,4,4,4,4,4,4,4,4,4,1,1,1,1,1,1,1,1,1,1,1],\"y\":[985,801,1349,1562,1600,1606,1510,959,822,1321,1263,1162,1406,1421,1248,1204,1000,683,1650,1927,1543,981,986,1416,1985,506,431,1167,1098,1096,1501,1360,1526,1550,1708,1005,1623,1712,1530,1605,1538,1746,1472,1589,1913,1815,2115,2475,2927,1635,1812,1107,1450,1917,1807,1461,1969,2402,1446,1851,2134,1685,1944,2077,605,1872,2133,1891,623,1977,2132,2417,2046,2056,2192,2744,3239,3117,2471,2077,2703,2121,1865,2210,2496,1693,2028,2425,1536,1685,2227,2252,3249,3115,1795,2808,3141,1471,2455,2895,3348,2034,2162,3267,3126,795,3744,3429,3204,3944,4189,1683,4036,4191,4073,4400,3872,4058,4595,5312,3351,4401,4451,2633,4433,4608,4714,4333,4362,4803,4182,4864,4105,3409,4553,3958,4123,3855,4575,4917,5805,4660,4274,4492,4978,4677,4679,4758,4788,4098,3982,3974,4968,5312,5342,4906,4548,4833,4401,3915,4586,4966,4460,5020,4891,5180,3767,4844,5119,4744,4010,4835,4507,4790,4991,5202,5305,4708,4648,5225,5515,5362,5119,4649,6043,4665,4629,4592,4040,5336,4881,4086,4258,4342,5084,5538,5923,5302,4458,4541,4332,3784,3387,3285,3606,3840,4590,4656,4390,3846,4475,4302,4266,4845,3574,4576,4866,4294,3785,4326,4602,4780,4792,4905,4150,3820,4338,4725,4694,3805,4153,5191,3873,4758,5895,5130,3542,4661,1115,4334,4634,5204,5058,5115,4727,4484,4940,3351,2710,1996,1842,3544,5345,5046,4713,4763,4785,3659,4760,4511,4274,4539,3641,4352,4795,2395,5423,5010,4630,4120,3907,4839,5202,2429,2918,3570,4456,4826,4765,4985,5409,5511,5117,4563,2416,2913,3644,5217,5041,4570,4748,2424,4195,4304,4308,4381,4187,4687,3894,2659,3747,627,3331,3669,4068,4186,3974,4046,3926,3649,4035,4205,4109,2933,3368,4067,3717,4486,4195,1817,3053,3392,3663,3520,2765,1607,2566,1495,2792,3068,3071,3867,2914,3613,3727,3940,3614,3485,3811,2594,705,3322,3620,3190,2743,3310,3523,3740,3709,3577,2739,2431,3403,3750,2660,3068,2209,1011,754,1317,1162,2302,2423,2999,2485,2294,1951,2236,2368,3272,4098,4521,3425,2376,3598,2177,4097,3214,2493,2311,2298,2935,3376,3292,3163,1301,1977,2432,4339,4270,4075,3456,4023,3243,3624,4509,4579,3761,4151,2832,2947,3784,4375,2802,3830,3831,2169,1529,3422,3922,4169,3005,4154,4318,2689,3129,3777,4773,5062,3487,2732,3389,4322,4363,4990,3194,4066,3423,3333,3956,4916,5382,4569,4118,4911,5298,5847,6312,6192,4378,7836,5892,6153,6093,6230,6871,8362,3372,4996,5558,5102,5698,6133,5459,6235,6041,5936,6772,6436,6457,6460,6857,5169,5585,5918,4862,5409,6398,7460,7132,6370,6691,4367,6565,7290,6624,1027,3214,5633,6196,5026,6233,4220,6304,5572,5740,6169,6421,6296,6883,6359,6273,5728,4717,6572,7030,7429,6118,2843,5115,7424,7384,7639,8294,7129,4359,6073,5260,6770,6734,6536,6591,6043,5743,6855,7338,4127,8120,7641,6998,7001,7055,7494,7736,7498,6598,6664,4972,7421,7363,7665,7702,6978,5099,6825,6211,5905,5823,7458,6891,6779,7442,7335,6879,5463,5687,5531,6227,6660,7403,6241,6207,4840,4672,6569,6290,7264,7446,7499,6969,6031,6830,6786,5713,6591,5870,4459,7410,6966,7592,8173,6861,6904,6685,6597,7105,7216,7580,7261,7175,6824,5464,7013,7273,7534,7286,5786,6299,6544,6883,6784,7347,7605,7148,7865,4549,6530,7006,7375,7765,7582,6053,5255,6917,7040,7697,7713,7350,6140,5810,6034,6864,7112,6203,7504,5976,8227,7525,7767,7870,7804,8009,8714,7333,6869,4073,7591,7720,8167,8395,7907,7436,7538,7733,7393,7415,8555,6889,6778,4639,7572,7328,8156,7965,3510,5478,6392,7691,7570,7282,7109,6639,5875,7534,7461,7509,5424,8090,6824,7058,7466,7693,7359,7444,7852,4459,22,1096,5566,5986,5847,5138,5107,5259,5686,5035,5315,5992,6536,6852,6269,4094,5495,5445,5698,5629,4669,5499,5634,5146,2425,3910,2277,2424,5087,3959,5260,5323,5668,5191,4649,6234,6606,5729,5375,5008,5582,3228,5170,5501,5319,5532,5611,5047,3786,4585,5557,5267,4128,3623,1749,1787,920,1013,441,2114,3095,1341,1796,2729],\"type\":\"histogram\",\"xaxis\":\"x\",\"yaxis\":\"y\"},{\"histfunc\":\"sum\",\"name\":\"Year\",\"x\":[0,0,0,0,0,0,0,0,0,0,0,0,0,0,0,0,0,0,0,0,0,0,0,0,0,0,0,0,0,0,0,0,0,0,0,0,0,0,0,0,0,0,0,0,0,0,0,0,0,0,0,0,0,0,0,0,0,0,0,0,0,0,0,0,0,0,0,0,0,0,0,0,0,0,0,0,0,0,0,0,0,0,0,0,0,0,0,0,0,0,0,0,0,0,0,0,0,0,0,0,0,0,0,0,0,0,0,0,0,0,0,0,0,0,0,0,0,0,0,0,0,0,0,0,0,0,0,0,0,0,0,0,0,0,0,0,0,0,0,0,0,0,0,0,0,0,0,0,0,0,0,0,0,0,0,0,0,0,0,0,0,0,0,0,0,0,0,0,0,0,0,0,0,0,0,0,0,0,0,0,0,0,0,0,0,0,0,0,0,0,0,0,0,0,0,0,0,0,0,0,0,0,0,0,0,0,0,0,0,0,0,0,0,0,0,0,0,0,0,0,0,0,0,0,0,0,0,0,0,0,0,0,0,0,0,0,0,0,0,0,0,0,0,0,0,0,0,0,0,0,0,0,0,0,0,0,0,0,0,0,0,0,0,0,0,0,0,0,0,0,0,0,0,0,0,0,0,0,0,0,0,0,0,0,0,0,0,0,0,0,0,0,0,0,0,0,0,0,0,0,0,0,0,0,0,0,0,0,0,0,0,0,0,0,0,0,0,0,0,0,0,0,0,0,0,0,0,0,0,0,0,0,0,0,0,0,0,0,0,0,0,0,0,0,0,0,0,0,0,0,0,0,0,0,0,0,0,0,0,0,0,0,0,0,0,1,1,1,1,1,1,1,1,1,1,1,1,1,1,1,1,1,1,1,1,1,1,1,1,1,1,1,1,1,1,1,1,1,1,1,1,1,1,1,1,1,1,1,1,1,1,1,1,1,1,1,1,1,1,1,1,1,1,1,1,1,1,1,1,1,1,1,1,1,1,1,1,1,1,1,1,1,1,1,1,1,1,1,1,1,1,1,1,1,1,1,1,1,1,1,1,1,1,1,1,1,1,1,1,1,1,1,1,1,1,1,1,1,1,1,1,1,1,1,1,1,1,1,1,1,1,1,1,1,1,1,1,1,1,1,1,1,1,1,1,1,1,1,1,1,1,1,1,1,1,1,1,1,1,1,1,1,1,1,1,1,1,1,1,1,1,1,1,1,1,1,1,1,1,1,1,1,1,1,1,1,1,1,1,1,1,1,1,1,1,1,1,1,1,1,1,1,1,1,1,1,1,1,1,1,1,1,1,1,1,1,1,1,1,1,1,1,1,1,1,1,1,1,1,1,1,1,1,1,1,1,1,1,1,1,1,1,1,1,1,1,1,1,1,1,1,1,1,1,1,1,1,1,1,1,1,1,1,1,1,1,1,1,1,1,1,1,1,1,1,1,1,1,1,1,1,1,1,1,1,1,1,1,1,1,1,1,1,1,1,1,1,1,1,1,1,1,1,1,1,1,1,1,1,1,1,1,1,1,1,1,1,1,1,1,1,1,1,1,1,1,1,1,1,1,1,1,1,1,1,1,1,1,1,1,1,1,1,1,1,1,1,1,1,1,1,1,1,1,1,1,1,1,1,1,1,1,1,1,1,1,1,1,1,1],\"y\":[985,801,1349,1562,1600,1606,1510,959,822,1321,1263,1162,1406,1421,1248,1204,1000,683,1650,1927,1543,981,986,1416,1985,506,431,1167,1098,1096,1501,1360,1526,1550,1708,1005,1623,1712,1530,1605,1538,1746,1472,1589,1913,1815,2115,2475,2927,1635,1812,1107,1450,1917,1807,1461,1969,2402,1446,1851,2134,1685,1944,2077,605,1872,2133,1891,623,1977,2132,2417,2046,2056,2192,2744,3239,3117,2471,2077,2703,2121,1865,2210,2496,1693,2028,2425,1536,1685,2227,2252,3249,3115,1795,2808,3141,1471,2455,2895,3348,2034,2162,3267,3126,795,3744,3429,3204,3944,4189,1683,4036,4191,4073,4400,3872,4058,4595,5312,3351,4401,4451,2633,4433,4608,4714,4333,4362,4803,4182,4864,4105,3409,4553,3958,4123,3855,4575,4917,5805,4660,4274,4492,4978,4677,4679,4758,4788,4098,3982,3974,4968,5312,5342,4906,4548,4833,4401,3915,4586,4966,4460,5020,4891,5180,3767,4844,5119,4744,4010,4835,4507,4790,4991,5202,5305,4708,4648,5225,5515,5362,5119,4649,6043,4665,4629,4592,4040,5336,4881,4086,4258,4342,5084,5538,5923,5302,4458,4541,4332,3784,3387,3285,3606,3840,4590,4656,4390,3846,4475,4302,4266,4845,3574,4576,4866,4294,3785,4326,4602,4780,4792,4905,4150,3820,4338,4725,4694,3805,4153,5191,3873,4758,5895,5130,3542,4661,1115,4334,4634,5204,5058,5115,4727,4484,4940,3351,2710,1996,1842,3544,5345,5046,4713,4763,4785,3659,4760,4511,4274,4539,3641,4352,4795,2395,5423,5010,4630,4120,3907,4839,5202,2429,2918,3570,4456,4826,4765,4985,5409,5511,5117,4563,2416,2913,3644,5217,5041,4570,4748,2424,4195,4304,4308,4381,4187,4687,3894,2659,3747,627,3331,3669,4068,4186,3974,4046,3926,3649,4035,4205,4109,2933,3368,4067,3717,4486,4195,1817,3053,3392,3663,3520,2765,1607,2566,1495,2792,3068,3071,3867,2914,3613,3727,3940,3614,3485,3811,2594,705,3322,3620,3190,2743,3310,3523,3740,3709,3577,2739,2431,3403,3750,2660,3068,2209,1011,754,1317,1162,2302,2423,2999,2485,2294,1951,2236,2368,3272,4098,4521,3425,2376,3598,2177,4097,3214,2493,2311,2298,2935,3376,3292,3163,1301,1977,2432,4339,4270,4075,3456,4023,3243,3624,4509,4579,3761,4151,2832,2947,3784,4375,2802,3830,3831,2169,1529,3422,3922,4169,3005,4154,4318,2689,3129,3777,4773,5062,3487,2732,3389,4322,4363,4990,3194,4066,3423,3333,3956,4916,5382,4569,4118,4911,5298,5847,6312,6192,4378,7836,5892,6153,6093,6230,6871,8362,3372,4996,5558,5102,5698,6133,5459,6235,6041,5936,6772,6436,6457,6460,6857,5169,5585,5918,4862,5409,6398,7460,7132,6370,6691,4367,6565,7290,6624,1027,3214,5633,6196,5026,6233,4220,6304,5572,5740,6169,6421,6296,6883,6359,6273,5728,4717,6572,7030,7429,6118,2843,5115,7424,7384,7639,8294,7129,4359,6073,5260,6770,6734,6536,6591,6043,5743,6855,7338,4127,8120,7641,6998,7001,7055,7494,7736,7498,6598,6664,4972,7421,7363,7665,7702,6978,5099,6825,6211,5905,5823,7458,6891,6779,7442,7335,6879,5463,5687,5531,6227,6660,7403,6241,6207,4840,4672,6569,6290,7264,7446,7499,6969,6031,6830,6786,5713,6591,5870,4459,7410,6966,7592,8173,6861,6904,6685,6597,7105,7216,7580,7261,7175,6824,5464,7013,7273,7534,7286,5786,6299,6544,6883,6784,7347,7605,7148,7865,4549,6530,7006,7375,7765,7582,6053,5255,6917,7040,7697,7713,7350,6140,5810,6034,6864,7112,6203,7504,5976,8227,7525,7767,7870,7804,8009,8714,7333,6869,4073,7591,7720,8167,8395,7907,7436,7538,7733,7393,7415,8555,6889,6778,4639,7572,7328,8156,7965,3510,5478,6392,7691,7570,7282,7109,6639,5875,7534,7461,7509,5424,8090,6824,7058,7466,7693,7359,7444,7852,4459,22,1096,5566,5986,5847,5138,5107,5259,5686,5035,5315,5992,6536,6852,6269,4094,5495,5445,5698,5629,4669,5499,5634,5146,2425,3910,2277,2424,5087,3959,5260,5323,5668,5191,4649,6234,6606,5729,5375,5008,5582,3228,5170,5501,5319,5532,5611,5047,3786,4585,5557,5267,4128,3623,1749,1787,920,1013,441,2114,3095,1341,1796,2729],\"type\":\"histogram\",\"xaxis\":\"x2\",\"yaxis\":\"y2\"},{\"histfunc\":\"sum\",\"name\":\"Month\",\"x\":[1,1,1,1,1,1,1,1,1,1,1,1,1,1,1,1,1,1,1,1,1,1,1,1,1,1,1,1,1,1,1,2,2,2,2,2,2,2,2,2,2,2,2,2,2,2,2,2,2,2,2,2,2,2,2,2,2,2,2,3,3,3,3,3,3,3,3,3,3,3,3,3,3,3,3,3,3,3,3,3,3,3,3,3,3,3,3,3,3,3,4,4,4,4,4,4,4,4,4,4,4,4,4,4,4,4,4,4,4,4,4,4,4,4,4,4,4,4,4,4,5,5,5,5,5,5,5,5,5,5,5,5,5,5,5,5,5,5,5,5,5,5,5,5,5,5,5,5,5,5,5,6,6,6,6,6,6,6,6,6,6,6,6,6,6,6,6,6,6,6,6,6,6,6,6,6,6,6,6,6,6,7,7,7,7,7,7,7,7,7,7,7,7,7,7,7,7,7,7,7,7,7,7,7,7,7,7,7,7,7,7,7,8,8,8,8,8,8,8,8,8,8,8,8,8,8,8,8,8,8,8,8,8,8,8,8,8,8,8,8,8,8,8,9,9,9,9,9,9,9,9,9,9,9,9,9,9,9,9,9,9,9,9,9,9,9,9,9,9,9,9,9,9,10,10,10,10,10,10,10,10,10,10,10,10,10,10,10,10,10,10,10,10,10,10,10,10,10,10,10,10,10,10,10,11,11,11,11,11,11,11,11,11,11,11,11,11,11,11,11,11,11,11,11,11,11,11,11,11,11,11,11,11,11,12,12,12,12,12,12,12,12,12,12,12,12,12,12,12,12,12,12,12,12,12,12,12,12,12,12,12,12,12,12,12,1,1,1,1,1,1,1,1,1,1,1,1,1,1,1,1,1,1,1,1,1,1,1,1,1,1,1,1,1,1,1,2,2,2,2,2,2,2,2,2,2,2,2,2,2,2,2,2,2,2,2,2,2,2,2,2,2,2,2,3,3,3,3,3,3,3,3,3,3,3,3,3,3,3,3,3,3,3,3,3,3,3,3,3,3,3,3,3,3,3,4,4,4,4,4,4,4,4,4,4,4,4,4,4,4,4,4,4,4,4,4,4,4,4,4,4,4,4,4,4,5,5,5,5,5,5,5,5,5,5,5,5,5,5,5,5,5,5,5,5,5,5,5,5,5,5,5,5,5,5,5,6,6,6,6,6,6,6,6,6,6,6,6,6,6,6,6,6,6,6,6,6,6,6,6,6,6,6,6,6,6,7,7,7,7,7,7,7,7,7,7,7,7,7,7,7,7,7,7,7,7,7,7,7,7,7,7,7,7,7,7,7,8,8,8,8,8,8,8,8,8,8,8,8,8,8,8,8,8,8,8,8,8,8,8,8,8,8,8,8,8,8,8,9,9,9,9,9,9,9,9,9,9,9,9,9,9,9,9,9,9,9,9,9,9,9,9,9,9,9,9,9,9,10,10,10,10,10,10,10,10,10,10,10,10,10,10,10,10,10,10,10,10,10,10,10,10,10,10,10,10,10,10,10,11,11,11,11,11,11,11,11,11,11,11,11,11,11,11,11,11,11,11,11,11,11,11,11,11,11,11,11,11,11,12,12,12,12,12,12,12,12,12,12,12,12,12,12,12,12,12,12,12,12,12,12,12,12,12,12,12,12,12,12,12],\"y\":[985,801,1349,1562,1600,1606,1510,959,822,1321,1263,1162,1406,1421,1248,1204,1000,683,1650,1927,1543,981,986,1416,1985,506,431,1167,1098,1096,1501,1360,1526,1550,1708,1005,1623,1712,1530,1605,1538,1746,1472,1589,1913,1815,2115,2475,2927,1635,1812,1107,1450,1917,1807,1461,1969,2402,1446,1851,2134,1685,1944,2077,605,1872,2133,1891,623,1977,2132,2417,2046,2056,2192,2744,3239,3117,2471,2077,2703,2121,1865,2210,2496,1693,2028,2425,1536,1685,2227,2252,3249,3115,1795,2808,3141,1471,2455,2895,3348,2034,2162,3267,3126,795,3744,3429,3204,3944,4189,1683,4036,4191,4073,4400,3872,4058,4595,5312,3351,4401,4451,2633,4433,4608,4714,4333,4362,4803,4182,4864,4105,3409,4553,3958,4123,3855,4575,4917,5805,4660,4274,4492,4978,4677,4679,4758,4788,4098,3982,3974,4968,5312,5342,4906,4548,4833,4401,3915,4586,4966,4460,5020,4891,5180,3767,4844,5119,4744,4010,4835,4507,4790,4991,5202,5305,4708,4648,5225,5515,5362,5119,4649,6043,4665,4629,4592,4040,5336,4881,4086,4258,4342,5084,5538,5923,5302,4458,4541,4332,3784,3387,3285,3606,3840,4590,4656,4390,3846,4475,4302,4266,4845,3574,4576,4866,4294,3785,4326,4602,4780,4792,4905,4150,3820,4338,4725,4694,3805,4153,5191,3873,4758,5895,5130,3542,4661,1115,4334,4634,5204,5058,5115,4727,4484,4940,3351,2710,1996,1842,3544,5345,5046,4713,4763,4785,3659,4760,4511,4274,4539,3641,4352,4795,2395,5423,5010,4630,4120,3907,4839,5202,2429,2918,3570,4456,4826,4765,4985,5409,5511,5117,4563,2416,2913,3644,5217,5041,4570,4748,2424,4195,4304,4308,4381,4187,4687,3894,2659,3747,627,3331,3669,4068,4186,3974,4046,3926,3649,4035,4205,4109,2933,3368,4067,3717,4486,4195,1817,3053,3392,3663,3520,2765,1607,2566,1495,2792,3068,3071,3867,2914,3613,3727,3940,3614,3485,3811,2594,705,3322,3620,3190,2743,3310,3523,3740,3709,3577,2739,2431,3403,3750,2660,3068,2209,1011,754,1317,1162,2302,2423,2999,2485,2294,1951,2236,2368,3272,4098,4521,3425,2376,3598,2177,4097,3214,2493,2311,2298,2935,3376,3292,3163,1301,1977,2432,4339,4270,4075,3456,4023,3243,3624,4509,4579,3761,4151,2832,2947,3784,4375,2802,3830,3831,2169,1529,3422,3922,4169,3005,4154,4318,2689,3129,3777,4773,5062,3487,2732,3389,4322,4363,4990,3194,4066,3423,3333,3956,4916,5382,4569,4118,4911,5298,5847,6312,6192,4378,7836,5892,6153,6093,6230,6871,8362,3372,4996,5558,5102,5698,6133,5459,6235,6041,5936,6772,6436,6457,6460,6857,5169,5585,5918,4862,5409,6398,7460,7132,6370,6691,4367,6565,7290,6624,1027,3214,5633,6196,5026,6233,4220,6304,5572,5740,6169,6421,6296,6883,6359,6273,5728,4717,6572,7030,7429,6118,2843,5115,7424,7384,7639,8294,7129,4359,6073,5260,6770,6734,6536,6591,6043,5743,6855,7338,4127,8120,7641,6998,7001,7055,7494,7736,7498,6598,6664,4972,7421,7363,7665,7702,6978,5099,6825,6211,5905,5823,7458,6891,6779,7442,7335,6879,5463,5687,5531,6227,6660,7403,6241,6207,4840,4672,6569,6290,7264,7446,7499,6969,6031,6830,6786,5713,6591,5870,4459,7410,6966,7592,8173,6861,6904,6685,6597,7105,7216,7580,7261,7175,6824,5464,7013,7273,7534,7286,5786,6299,6544,6883,6784,7347,7605,7148,7865,4549,6530,7006,7375,7765,7582,6053,5255,6917,7040,7697,7713,7350,6140,5810,6034,6864,7112,6203,7504,5976,8227,7525,7767,7870,7804,8009,8714,7333,6869,4073,7591,7720,8167,8395,7907,7436,7538,7733,7393,7415,8555,6889,6778,4639,7572,7328,8156,7965,3510,5478,6392,7691,7570,7282,7109,6639,5875,7534,7461,7509,5424,8090,6824,7058,7466,7693,7359,7444,7852,4459,22,1096,5566,5986,5847,5138,5107,5259,5686,5035,5315,5992,6536,6852,6269,4094,5495,5445,5698,5629,4669,5499,5634,5146,2425,3910,2277,2424,5087,3959,5260,5323,5668,5191,4649,6234,6606,5729,5375,5008,5582,3228,5170,5501,5319,5532,5611,5047,3786,4585,5557,5267,4128,3623,1749,1787,920,1013,441,2114,3095,1341,1796,2729],\"type\":\"histogram\",\"xaxis\":\"x3\",\"yaxis\":\"y3\"},{\"histfunc\":\"sum\",\"name\":\"Holiday\",\"x\":[0,0,0,0,0,0,0,0,0,0,0,0,0,0,0,0,1,0,0,0,0,0,0,0,0,0,0,0,0,0,0,0,0,0,0,0,0,0,0,0,0,0,0,0,0,0,0,0,0,0,0,1,0,0,0,0,0,0,0,0,0,0,0,0,0,0,0,0,0,0,0,0,0,0,0,0,0,0,0,0,0,0,0,0,0,0,0,0,0,0,0,0,0,0,0,0,0,0,0,0,0,0,0,0,1,0,0,0,0,0,0,0,0,0,0,0,0,0,0,0,0,0,0,0,0,0,0,0,0,0,0,0,0,0,0,0,0,0,0,0,0,0,0,0,0,0,0,0,0,1,0,0,0,0,0,0,0,0,0,0,0,0,0,0,0,0,0,0,0,0,0,0,0,0,0,0,0,0,0,0,0,0,0,0,1,0,0,0,0,0,0,0,0,0,0,0,0,0,0,0,0,0,0,0,0,0,0,0,0,0,0,0,0,0,0,0,0,0,0,0,0,0,0,0,0,0,0,0,0,0,0,0,0,0,0,0,0,0,0,0,0,0,0,0,0,0,0,1,0,0,0,0,0,0,0,0,0,0,0,0,0,0,0,0,0,0,0,0,0,0,0,0,0,0,0,0,0,0,0,0,0,0,1,0,0,0,0,0,0,0,0,0,0,0,0,0,0,0,0,0,0,0,0,0,0,0,0,0,0,0,0,0,0,0,1,0,0,0,0,0,0,0,0,0,0,0,0,1,0,0,0,0,0,0,0,0,0,0,0,0,0,0,0,0,0,0,0,0,0,0,0,0,0,0,0,0,0,0,0,1,0,0,0,0,0,0,1,0,0,0,0,0,0,0,0,0,0,0,0,0,1,0,0,0,0,0,0,0,0,0,0,0,0,0,0,0,0,0,0,0,0,0,0,0,0,0,0,0,0,0,0,0,0,0,0,1,0,0,0,0,0,0,0,0,0,0,0,0,0,0,0,0,0,0,0,0,0,0,0,0,0,0,0,0,0,0,0,0,0,0,0,0,0,0,0,0,0,0,0,0,0,0,0,0,0,0,0,0,0,0,1,0,0,0,0,0,0,0,0,0,0,0,0,0,0,0,0,0,0,0,0,0,0,0,0,0,0,0,0,0,0,0,0,0,0,0,0,0,0,0,0,0,1,0,0,0,0,0,0,0,0,0,0,0,0,0,0,0,0,0,0,0,0,0,0,0,0,0,0,0,0,0,0,0,0,0,0,0,0,1,0,0,0,0,0,0,0,0,0,0,0,0,0,0,0,0,0,0,0,0,0,0,0,0,0,0,0,0,0,0,0,0,0,0,0,0,0,0,0,0,0,0,0,0,0,0,0,0,0,0,0,0,0,0,0,0,0,0,0,0,1,0,0,0,0,0,0,0,0,0,0,0,0,0,0,0,0,0,0,0,0,0,0,0,0,0,0,0,0,0,0,0,0,0,0,1,0,0,0,0,0,0,0,0,0,0,0,0,0,0,0,0,0,0,0,0,0,0,0,0,0,0,0,0,0,0,0,0,0,0,1,0,0,0,0,0,0,0,0,0,1,0,0,0,0,0,0,0,0,0,0,0,0,0,0,0,0,0,0,0,0,0,0,0,0,0,0,0,0,0,0,0,0,1,0,0,0,0,0,0],\"y\":[985,801,1349,1562,1600,1606,1510,959,822,1321,1263,1162,1406,1421,1248,1204,1000,683,1650,1927,1543,981,986,1416,1985,506,431,1167,1098,1096,1501,1360,1526,1550,1708,1005,1623,1712,1530,1605,1538,1746,1472,1589,1913,1815,2115,2475,2927,1635,1812,1107,1450,1917,1807,1461,1969,2402,1446,1851,2134,1685,1944,2077,605,1872,2133,1891,623,1977,2132,2417,2046,2056,2192,2744,3239,3117,2471,2077,2703,2121,1865,2210,2496,1693,2028,2425,1536,1685,2227,2252,3249,3115,1795,2808,3141,1471,2455,2895,3348,2034,2162,3267,3126,795,3744,3429,3204,3944,4189,1683,4036,4191,4073,4400,3872,4058,4595,5312,3351,4401,4451,2633,4433,4608,4714,4333,4362,4803,4182,4864,4105,3409,4553,3958,4123,3855,4575,4917,5805,4660,4274,4492,4978,4677,4679,4758,4788,4098,3982,3974,4968,5312,5342,4906,4548,4833,4401,3915,4586,4966,4460,5020,4891,5180,3767,4844,5119,4744,4010,4835,4507,4790,4991,5202,5305,4708,4648,5225,5515,5362,5119,4649,6043,4665,4629,4592,4040,5336,4881,4086,4258,4342,5084,5538,5923,5302,4458,4541,4332,3784,3387,3285,3606,3840,4590,4656,4390,3846,4475,4302,4266,4845,3574,4576,4866,4294,3785,4326,4602,4780,4792,4905,4150,3820,4338,4725,4694,3805,4153,5191,3873,4758,5895,5130,3542,4661,1115,4334,4634,5204,5058,5115,4727,4484,4940,3351,2710,1996,1842,3544,5345,5046,4713,4763,4785,3659,4760,4511,4274,4539,3641,4352,4795,2395,5423,5010,4630,4120,3907,4839,5202,2429,2918,3570,4456,4826,4765,4985,5409,5511,5117,4563,2416,2913,3644,5217,5041,4570,4748,2424,4195,4304,4308,4381,4187,4687,3894,2659,3747,627,3331,3669,4068,4186,3974,4046,3926,3649,4035,4205,4109,2933,3368,4067,3717,4486,4195,1817,3053,3392,3663,3520,2765,1607,2566,1495,2792,3068,3071,3867,2914,3613,3727,3940,3614,3485,3811,2594,705,3322,3620,3190,2743,3310,3523,3740,3709,3577,2739,2431,3403,3750,2660,3068,2209,1011,754,1317,1162,2302,2423,2999,2485,2294,1951,2236,2368,3272,4098,4521,3425,2376,3598,2177,4097,3214,2493,2311,2298,2935,3376,3292,3163,1301,1977,2432,4339,4270,4075,3456,4023,3243,3624,4509,4579,3761,4151,2832,2947,3784,4375,2802,3830,3831,2169,1529,3422,3922,4169,3005,4154,4318,2689,3129,3777,4773,5062,3487,2732,3389,4322,4363,4990,3194,4066,3423,3333,3956,4916,5382,4569,4118,4911,5298,5847,6312,6192,4378,7836,5892,6153,6093,6230,6871,8362,3372,4996,5558,5102,5698,6133,5459,6235,6041,5936,6772,6436,6457,6460,6857,5169,5585,5918,4862,5409,6398,7460,7132,6370,6691,4367,6565,7290,6624,1027,3214,5633,6196,5026,6233,4220,6304,5572,5740,6169,6421,6296,6883,6359,6273,5728,4717,6572,7030,7429,6118,2843,5115,7424,7384,7639,8294,7129,4359,6073,5260,6770,6734,6536,6591,6043,5743,6855,7338,4127,8120,7641,6998,7001,7055,7494,7736,7498,6598,6664,4972,7421,7363,7665,7702,6978,5099,6825,6211,5905,5823,7458,6891,6779,7442,7335,6879,5463,5687,5531,6227,6660,7403,6241,6207,4840,4672,6569,6290,7264,7446,7499,6969,6031,6830,6786,5713,6591,5870,4459,7410,6966,7592,8173,6861,6904,6685,6597,7105,7216,7580,7261,7175,6824,5464,7013,7273,7534,7286,5786,6299,6544,6883,6784,7347,7605,7148,7865,4549,6530,7006,7375,7765,7582,6053,5255,6917,7040,7697,7713,7350,6140,5810,6034,6864,7112,6203,7504,5976,8227,7525,7767,7870,7804,8009,8714,7333,6869,4073,7591,7720,8167,8395,7907,7436,7538,7733,7393,7415,8555,6889,6778,4639,7572,7328,8156,7965,3510,5478,6392,7691,7570,7282,7109,6639,5875,7534,7461,7509,5424,8090,6824,7058,7466,7693,7359,7444,7852,4459,22,1096,5566,5986,5847,5138,5107,5259,5686,5035,5315,5992,6536,6852,6269,4094,5495,5445,5698,5629,4669,5499,5634,5146,2425,3910,2277,2424,5087,3959,5260,5323,5668,5191,4649,6234,6606,5729,5375,5008,5582,3228,5170,5501,5319,5532,5611,5047,3786,4585,5557,5267,4128,3623,1749,1787,920,1013,441,2114,3095,1341,1796,2729],\"type\":\"histogram\",\"xaxis\":\"x4\",\"yaxis\":\"y4\"},{\"histfunc\":\"sum\",\"name\":\"Weekday\",\"x\":[6,0,1,2,3,4,5,6,0,1,2,3,4,5,6,0,1,2,3,4,5,6,0,1,2,3,4,5,6,0,1,2,3,4,5,6,0,1,2,3,4,5,6,0,1,2,3,4,5,6,0,1,2,3,4,5,6,0,1,2,3,4,5,6,0,1,2,3,4,5,6,0,1,2,3,4,5,6,0,1,2,3,4,5,6,0,1,2,3,4,5,6,0,1,2,3,4,5,6,0,1,2,3,4,5,6,0,1,2,3,4,5,6,0,1,2,3,4,5,6,0,1,2,3,4,5,6,0,1,2,3,4,5,6,0,1,2,3,4,5,6,0,1,2,3,4,5,6,0,1,2,3,4,5,6,0,1,2,3,4,5,6,0,1,2,3,4,5,6,0,1,2,3,4,5,6,0,1,2,3,4,5,6,0,1,2,3,4,5,6,0,1,2,3,4,5,6,0,1,2,3,4,5,6,0,1,2,3,4,5,6,0,1,2,3,4,5,6,0,1,2,3,4,5,6,0,1,2,3,4,5,6,0,1,2,3,4,5,6,0,1,2,3,4,5,6,0,1,2,3,4,5,6,0,1,2,3,4,5,6,0,1,2,3,4,5,6,0,1,2,3,4,5,6,0,1,2,3,4,5,6,0,1,2,3,4,5,6,0,1,2,3,4,5,6,0,1,2,3,4,5,6,0,1,2,3,4,5,6,0,1,2,3,4,5,6,0,1,2,3,4,5,6,0,1,2,3,4,5,6,0,1,2,3,4,5,6,0,1,2,3,4,5,6,0,1,2,3,4,5,6,0,1,2,3,4,5,6,0,1,2,3,4,5,6,0,1,2,3,4,5,6,0,1,2,3,4,5,6,0,1,2,3,4,5,6,0,1,2,3,4,5,6,0,1,2,3,4,5,6,0,1,2,3,4,5,6,0,1,2,3,4,5,6,0,1,2,3,4,5,6,0,1,2,4,5,6,0,1,2,3,4,5,6,0,1,2,3,4,5,6,0,1,2,3,4,5,6,0,1,2,3,4,5,6,0,1,2,3,4,5,6,0,1,2,3,4,5,6,0,1,2,3,4,5,6,0,1,2,3,4,5,6,0,1,2,3,4,5,6,0,1,2,3,4,5,6,0,1,2,3,4,5,6,0,1,2,3,4,5,6,0,1,2,3,4,5,6,0,1,2,3,4,5,6,0,1,2,3,4,5,6,0,1,2,3,4,5,6,0,1,2,3,4,5,6,0,1,2,3,4,5,6,0,1,2,3,4,5,6,0,1,2,3,4,5,6,0,1,2,3,4,5,6,0,1,2,3,4,5,6,0,1,2,3,4,5,6,0,1,2,3,4,5,6,0,1,2,3,4,5,6,0,1,2,3,4,5,6,0,1,2,3,4,5,6,0,1,2,3,4,5,6,0,1,2,3,4,5,6,0,1,2,3,4,5,6,0,1,2,3,4,5,6,0,1,2,3,4,5,6,0,1,2,3,4,5,6,0,1,2,3,4,5,6,0,1,2,3,4,5,6,0,1,2,3,4,5,6,0,1,2,3,4,5,6,0,1,2,3,4,5,6,0,1,2,3,4,5,6,0,1,2,3,4,5,6,0,1,2,3,4,5,6,0,1,2,3,4,5,6,0,1,2,3,4,5,6,0,1],\"y\":[985,801,1349,1562,1600,1606,1510,959,822,1321,1263,1162,1406,1421,1248,1204,1000,683,1650,1927,1543,981,986,1416,1985,506,431,1167,1098,1096,1501,1360,1526,1550,1708,1005,1623,1712,1530,1605,1538,1746,1472,1589,1913,1815,2115,2475,2927,1635,1812,1107,1450,1917,1807,1461,1969,2402,1446,1851,2134,1685,1944,2077,605,1872,2133,1891,623,1977,2132,2417,2046,2056,2192,2744,3239,3117,2471,2077,2703,2121,1865,2210,2496,1693,2028,2425,1536,1685,2227,2252,3249,3115,1795,2808,3141,1471,2455,2895,3348,2034,2162,3267,3126,795,3744,3429,3204,3944,4189,1683,4036,4191,4073,4400,3872,4058,4595,5312,3351,4401,4451,2633,4433,4608,4714,4333,4362,4803,4182,4864,4105,3409,4553,3958,4123,3855,4575,4917,5805,4660,4274,4492,4978,4677,4679,4758,4788,4098,3982,3974,4968,5312,5342,4906,4548,4833,4401,3915,4586,4966,4460,5020,4891,5180,3767,4844,5119,4744,4010,4835,4507,4790,4991,5202,5305,4708,4648,5225,5515,5362,5119,4649,6043,4665,4629,4592,4040,5336,4881,4086,4258,4342,5084,5538,5923,5302,4458,4541,4332,3784,3387,3285,3606,3840,4590,4656,4390,3846,4475,4302,4266,4845,3574,4576,4866,4294,3785,4326,4602,4780,4792,4905,4150,3820,4338,4725,4694,3805,4153,5191,3873,4758,5895,5130,3542,4661,1115,4334,4634,5204,5058,5115,4727,4484,4940,3351,2710,1996,1842,3544,5345,5046,4713,4763,4785,3659,4760,4511,4274,4539,3641,4352,4795,2395,5423,5010,4630,4120,3907,4839,5202,2429,2918,3570,4456,4826,4765,4985,5409,5511,5117,4563,2416,2913,3644,5217,5041,4570,4748,2424,4195,4304,4308,4381,4187,4687,3894,2659,3747,627,3331,3669,4068,4186,3974,4046,3926,3649,4035,4205,4109,2933,3368,4067,3717,4486,4195,1817,3053,3392,3663,3520,2765,1607,2566,1495,2792,3068,3071,3867,2914,3613,3727,3940,3614,3485,3811,2594,705,3322,3620,3190,2743,3310,3523,3740,3709,3577,2739,2431,3403,3750,2660,3068,2209,1011,754,1317,1162,2302,2423,2999,2485,2294,1951,2236,2368,3272,4098,4521,3425,2376,3598,2177,4097,3214,2493,2311,2298,2935,3376,3292,3163,1301,1977,2432,4339,4270,4075,3456,4023,3243,3624,4509,4579,3761,4151,2832,2947,3784,4375,2802,3830,3831,2169,1529,3422,3922,4169,3005,4154,4318,2689,3129,3777,4773,5062,3487,2732,3389,4322,4363,4990,3194,4066,3423,3333,3956,4916,5382,4569,4118,4911,5298,5847,6312,6192,4378,7836,5892,6153,6093,6230,6871,8362,3372,4996,5558,5102,5698,6133,5459,6235,6041,5936,6772,6436,6457,6460,6857,5169,5585,5918,4862,5409,6398,7460,7132,6370,6691,4367,6565,7290,6624,1027,3214,5633,6196,5026,6233,4220,6304,5572,5740,6169,6421,6296,6883,6359,6273,5728,4717,6572,7030,7429,6118,2843,5115,7424,7384,7639,8294,7129,4359,6073,5260,6770,6734,6536,6591,6043,5743,6855,7338,4127,8120,7641,6998,7001,7055,7494,7736,7498,6598,6664,4972,7421,7363,7665,7702,6978,5099,6825,6211,5905,5823,7458,6891,6779,7442,7335,6879,5463,5687,5531,6227,6660,7403,6241,6207,4840,4672,6569,6290,7264,7446,7499,6969,6031,6830,6786,5713,6591,5870,4459,7410,6966,7592,8173,6861,6904,6685,6597,7105,7216,7580,7261,7175,6824,5464,7013,7273,7534,7286,5786,6299,6544,6883,6784,7347,7605,7148,7865,4549,6530,7006,7375,7765,7582,6053,5255,6917,7040,7697,7713,7350,6140,5810,6034,6864,7112,6203,7504,5976,8227,7525,7767,7870,7804,8009,8714,7333,6869,4073,7591,7720,8167,8395,7907,7436,7538,7733,7393,7415,8555,6889,6778,4639,7572,7328,8156,7965,3510,5478,6392,7691,7570,7282,7109,6639,5875,7534,7461,7509,5424,8090,6824,7058,7466,7693,7359,7444,7852,4459,22,1096,5566,5986,5847,5138,5107,5259,5686,5035,5315,5992,6536,6852,6269,4094,5495,5445,5698,5629,4669,5499,5634,5146,2425,3910,2277,2424,5087,3959,5260,5323,5668,5191,4649,6234,6606,5729,5375,5008,5582,3228,5170,5501,5319,5532,5611,5047,3786,4585,5557,5267,4128,3623,1749,1787,920,1013,441,2114,3095,1341,1796,2729],\"type\":\"histogram\",\"xaxis\":\"x5\",\"yaxis\":\"y5\"},{\"histfunc\":\"sum\",\"name\":\"Workingday\",\"x\":[0,0,1,1,1,1,1,0,0,1,1,1,1,1,0,0,0,1,1,1,1,0,0,1,1,1,1,1,0,0,1,1,1,1,1,0,0,1,1,1,1,1,0,0,1,1,1,1,1,0,0,0,1,1,1,1,0,0,1,1,1,1,1,0,0,1,1,1,1,1,0,0,1,1,1,1,1,0,0,1,1,1,1,1,0,0,1,1,1,1,1,0,0,1,1,1,1,1,0,0,1,1,1,1,0,0,0,1,1,1,1,1,0,0,1,1,1,1,1,0,0,1,1,1,1,1,0,0,1,1,1,1,1,0,0,1,1,1,1,1,0,0,1,1,1,1,1,0,0,0,1,1,1,1,0,0,1,1,1,1,1,0,0,1,1,1,1,1,0,0,1,1,1,1,1,0,0,1,1,1,1,1,0,0,0,1,1,1,1,0,0,1,1,1,1,1,0,0,1,1,1,1,1,0,0,1,1,1,1,1,0,0,1,1,1,1,1,0,0,1,1,1,1,1,0,0,1,1,1,1,1,0,0,1,1,1,1,1,0,0,1,1,1,1,1,0,0,0,1,1,1,1,0,0,1,1,1,1,1,0,0,1,1,1,1,1,0,0,1,1,1,1,1,0,0,1,1,1,1,1,0,0,0,1,1,1,1,0,0,1,1,1,1,1,0,0,1,1,1,1,1,0,0,1,1,1,1,1,0,0,1,1,1,1,0,0,0,1,1,1,1,1,0,0,1,1,1,0,1,0,0,1,1,1,1,1,0,0,1,1,1,1,1,0,0,1,1,1,1,1,0,0,1,1,1,1,1,0,0,0,1,1,1,1,0,0,0,1,1,1,1,0,0,1,1,1,1,1,0,0,0,1,1,1,1,0,0,1,1,1,1,1,0,0,1,1,1,1,1,0,0,1,1,1,1,1,0,0,1,1,1,1,1,0,0,0,1,1,1,1,0,0,1,1,1,1,0,0,1,1,1,1,1,0,0,1,1,1,1,1,0,0,1,1,1,1,1,0,0,1,1,1,1,1,0,0,1,1,1,1,1,0,0,1,1,1,1,1,0,0,0,1,1,1,1,0,0,1,1,1,1,1,0,0,1,1,1,1,1,0,0,1,1,1,1,1,0,0,1,1,1,1,1,0,0,1,1,1,1,1,0,0,0,1,1,1,1,0,0,1,1,1,1,1,0,0,1,1,1,1,1,0,0,1,1,1,1,1,0,0,1,1,1,1,1,0,0,1,1,0,1,1,0,0,1,1,1,1,1,0,0,1,1,1,1,1,0,0,1,1,1,1,1,0,0,1,1,1,1,1,0,0,1,1,1,1,1,0,0,1,1,1,1,1,0,0,1,1,1,1,1,0,0,1,1,1,1,1,0,0,0,1,1,1,1,0,0,1,1,1,1,1,0,0,1,1,1,1,1,0,0,1,1,1,1,1,0,0,1,1,1,1,1,0,0,0,1,1,1,1,0,0,1,1,1,1,1,0,0,1,1,1,1,1,0,0,1,1,1,1,1,0,0,1,1,1,1,1,0,0,0,1,1,1,1,0,0,1,1,1,0,1,0,0,1,1,1,1,1,0,0,1,1,1,1,1,0,0,1,1,1,1,1,0,0,1,1,1,1,1,0,0,1,0,1,1,1,0,0,1],\"y\":[985,801,1349,1562,1600,1606,1510,959,822,1321,1263,1162,1406,1421,1248,1204,1000,683,1650,1927,1543,981,986,1416,1985,506,431,1167,1098,1096,1501,1360,1526,1550,1708,1005,1623,1712,1530,1605,1538,1746,1472,1589,1913,1815,2115,2475,2927,1635,1812,1107,1450,1917,1807,1461,1969,2402,1446,1851,2134,1685,1944,2077,605,1872,2133,1891,623,1977,2132,2417,2046,2056,2192,2744,3239,3117,2471,2077,2703,2121,1865,2210,2496,1693,2028,2425,1536,1685,2227,2252,3249,3115,1795,2808,3141,1471,2455,2895,3348,2034,2162,3267,3126,795,3744,3429,3204,3944,4189,1683,4036,4191,4073,4400,3872,4058,4595,5312,3351,4401,4451,2633,4433,4608,4714,4333,4362,4803,4182,4864,4105,3409,4553,3958,4123,3855,4575,4917,5805,4660,4274,4492,4978,4677,4679,4758,4788,4098,3982,3974,4968,5312,5342,4906,4548,4833,4401,3915,4586,4966,4460,5020,4891,5180,3767,4844,5119,4744,4010,4835,4507,4790,4991,5202,5305,4708,4648,5225,5515,5362,5119,4649,6043,4665,4629,4592,4040,5336,4881,4086,4258,4342,5084,5538,5923,5302,4458,4541,4332,3784,3387,3285,3606,3840,4590,4656,4390,3846,4475,4302,4266,4845,3574,4576,4866,4294,3785,4326,4602,4780,4792,4905,4150,3820,4338,4725,4694,3805,4153,5191,3873,4758,5895,5130,3542,4661,1115,4334,4634,5204,5058,5115,4727,4484,4940,3351,2710,1996,1842,3544,5345,5046,4713,4763,4785,3659,4760,4511,4274,4539,3641,4352,4795,2395,5423,5010,4630,4120,3907,4839,5202,2429,2918,3570,4456,4826,4765,4985,5409,5511,5117,4563,2416,2913,3644,5217,5041,4570,4748,2424,4195,4304,4308,4381,4187,4687,3894,2659,3747,627,3331,3669,4068,4186,3974,4046,3926,3649,4035,4205,4109,2933,3368,4067,3717,4486,4195,1817,3053,3392,3663,3520,2765,1607,2566,1495,2792,3068,3071,3867,2914,3613,3727,3940,3614,3485,3811,2594,705,3322,3620,3190,2743,3310,3523,3740,3709,3577,2739,2431,3403,3750,2660,3068,2209,1011,754,1317,1162,2302,2423,2999,2485,2294,1951,2236,2368,3272,4098,4521,3425,2376,3598,2177,4097,3214,2493,2311,2298,2935,3376,3292,3163,1301,1977,2432,4339,4270,4075,3456,4023,3243,3624,4509,4579,3761,4151,2832,2947,3784,4375,2802,3830,3831,2169,1529,3422,3922,4169,3005,4154,4318,2689,3129,3777,4773,5062,3487,2732,3389,4322,4363,4990,3194,4066,3423,3333,3956,4916,5382,4569,4118,4911,5298,5847,6312,6192,4378,7836,5892,6153,6093,6230,6871,8362,3372,4996,5558,5102,5698,6133,5459,6235,6041,5936,6772,6436,6457,6460,6857,5169,5585,5918,4862,5409,6398,7460,7132,6370,6691,4367,6565,7290,6624,1027,3214,5633,6196,5026,6233,4220,6304,5572,5740,6169,6421,6296,6883,6359,6273,5728,4717,6572,7030,7429,6118,2843,5115,7424,7384,7639,8294,7129,4359,6073,5260,6770,6734,6536,6591,6043,5743,6855,7338,4127,8120,7641,6998,7001,7055,7494,7736,7498,6598,6664,4972,7421,7363,7665,7702,6978,5099,6825,6211,5905,5823,7458,6891,6779,7442,7335,6879,5463,5687,5531,6227,6660,7403,6241,6207,4840,4672,6569,6290,7264,7446,7499,6969,6031,6830,6786,5713,6591,5870,4459,7410,6966,7592,8173,6861,6904,6685,6597,7105,7216,7580,7261,7175,6824,5464,7013,7273,7534,7286,5786,6299,6544,6883,6784,7347,7605,7148,7865,4549,6530,7006,7375,7765,7582,6053,5255,6917,7040,7697,7713,7350,6140,5810,6034,6864,7112,6203,7504,5976,8227,7525,7767,7870,7804,8009,8714,7333,6869,4073,7591,7720,8167,8395,7907,7436,7538,7733,7393,7415,8555,6889,6778,4639,7572,7328,8156,7965,3510,5478,6392,7691,7570,7282,7109,6639,5875,7534,7461,7509,5424,8090,6824,7058,7466,7693,7359,7444,7852,4459,22,1096,5566,5986,5847,5138,5107,5259,5686,5035,5315,5992,6536,6852,6269,4094,5495,5445,5698,5629,4669,5499,5634,5146,2425,3910,2277,2424,5087,3959,5260,5323,5668,5191,4649,6234,6606,5729,5375,5008,5582,3228,5170,5501,5319,5532,5611,5047,3786,4585,5557,5267,4128,3623,1749,1787,920,1013,441,2114,3095,1341,1796,2729],\"type\":\"histogram\",\"xaxis\":\"x6\",\"yaxis\":\"y6\"},{\"histfunc\":\"sum\",\"name\":\"Weathersit\",\"x\":[2,2,1,1,1,1,2,2,1,1,2,1,1,1,2,1,2,2,2,2,1,1,1,1,2,3,1,2,1,1,2,2,2,1,2,2,1,1,1,2,1,1,1,1,1,1,1,1,1,1,1,2,1,1,2,2,1,1,2,1,1,1,2,2,2,1,1,2,3,2,1,1,1,2,2,1,1,1,1,2,1,2,2,1,1,2,1,1,2,3,2,2,1,1,2,1,1,2,2,2,2,2,2,1,1,3,1,1,2,1,1,2,2,2,1,1,2,2,1,1,2,2,2,2,1,1,1,1,1,1,1,1,2,2,2,1,2,2,2,1,1,1,2,2,1,1,1,1,1,1,1,2,1,1,1,2,1,1,1,2,1,1,1,1,1,1,2,1,1,2,2,2,1,2,1,1,1,2,1,1,1,1,1,2,2,1,1,1,2,1,1,1,1,1,1,1,1,1,1,1,1,2,1,1,1,1,1,1,1,1,1,1,1,1,2,2,1,2,1,1,1,1,1,1,2,2,1,1,1,1,2,1,1,1,1,1,2,1,2,1,1,1,1,1,2,1,1,2,3,3,3,2,1,1,1,1,1,2,2,2,1,2,2,2,2,2,2,2,2,2,2,1,1,2,2,2,1,1,1,1,1,1,1,2,3,2,2,1,1,1,2,3,1,1,1,1,1,1,2,2,2,3,1,1,1,1,1,2,1,1,1,1,1,2,1,1,1,1,2,3,2,1,1,2,3,3,2,1,1,1,1,1,2,1,1,1,1,1,2,3,3,1,1,1,1,1,1,2,2,2,2,1,1,2,2,2,1,1,1,1,2,1,1,1,1,1,1,1,2,1,1,1,1,2,1,2,2,1,1,1,1,2,1,1,2,2,2,2,1,1,2,2,1,1,1,1,1,2,1,2,2,1,1,2,1,2,3,1,1,2,1,2,1,1,2,1,1,1,1,2,1,1,1,1,1,2,2,1,1,1,1,1,2,1,1,1,1,1,1,2,2,2,1,1,2,1,2,2,2,1,1,1,1,2,2,2,1,1,1,1,1,1,1,1,1,1,1,1,1,1,1,1,2,1,1,1,3,2,1,1,2,1,2,1,2,2,1,2,1,2,2,2,2,2,1,1,1,1,2,2,1,1,1,1,1,2,2,2,1,1,1,1,1,1,2,1,2,1,1,1,2,1,1,1,1,1,2,2,1,1,1,1,1,2,1,1,1,1,1,1,1,1,1,1,1,1,1,1,1,1,1,1,1,1,2,2,1,1,2,2,1,1,1,1,1,2,3,2,1,1,1,1,1,1,1,1,1,1,1,2,1,1,2,2,2,1,2,2,1,1,1,1,1,1,1,2,2,1,1,1,2,2,2,1,1,1,1,1,2,2,1,1,1,2,1,2,1,1,1,1,1,1,1,1,2,2,1,1,1,1,1,1,1,1,2,2,1,1,2,3,2,2,1,1,2,2,2,1,1,1,1,1,2,1,1,2,2,1,1,1,1,1,2,2,2,2,3,2,2,2,1,2,1,1,1,2,1,1,1,1,1,2,1,2,1,1,1,2,2,1,1,1,1,1,1,2,1,1,1,2,2,1,1,1,1,2,2,2,2,2,2,1,1,1,2,2,1,1,2,2,1,1,2,2,3,2,2,2,1,2],\"y\":[985,801,1349,1562,1600,1606,1510,959,822,1321,1263,1162,1406,1421,1248,1204,1000,683,1650,1927,1543,981,986,1416,1985,506,431,1167,1098,1096,1501,1360,1526,1550,1708,1005,1623,1712,1530,1605,1538,1746,1472,1589,1913,1815,2115,2475,2927,1635,1812,1107,1450,1917,1807,1461,1969,2402,1446,1851,2134,1685,1944,2077,605,1872,2133,1891,623,1977,2132,2417,2046,2056,2192,2744,3239,3117,2471,2077,2703,2121,1865,2210,2496,1693,2028,2425,1536,1685,2227,2252,3249,3115,1795,2808,3141,1471,2455,2895,3348,2034,2162,3267,3126,795,3744,3429,3204,3944,4189,1683,4036,4191,4073,4400,3872,4058,4595,5312,3351,4401,4451,2633,4433,4608,4714,4333,4362,4803,4182,4864,4105,3409,4553,3958,4123,3855,4575,4917,5805,4660,4274,4492,4978,4677,4679,4758,4788,4098,3982,3974,4968,5312,5342,4906,4548,4833,4401,3915,4586,4966,4460,5020,4891,5180,3767,4844,5119,4744,4010,4835,4507,4790,4991,5202,5305,4708,4648,5225,5515,5362,5119,4649,6043,4665,4629,4592,4040,5336,4881,4086,4258,4342,5084,5538,5923,5302,4458,4541,4332,3784,3387,3285,3606,3840,4590,4656,4390,3846,4475,4302,4266,4845,3574,4576,4866,4294,3785,4326,4602,4780,4792,4905,4150,3820,4338,4725,4694,3805,4153,5191,3873,4758,5895,5130,3542,4661,1115,4334,4634,5204,5058,5115,4727,4484,4940,3351,2710,1996,1842,3544,5345,5046,4713,4763,4785,3659,4760,4511,4274,4539,3641,4352,4795,2395,5423,5010,4630,4120,3907,4839,5202,2429,2918,3570,4456,4826,4765,4985,5409,5511,5117,4563,2416,2913,3644,5217,5041,4570,4748,2424,4195,4304,4308,4381,4187,4687,3894,2659,3747,627,3331,3669,4068,4186,3974,4046,3926,3649,4035,4205,4109,2933,3368,4067,3717,4486,4195,1817,3053,3392,3663,3520,2765,1607,2566,1495,2792,3068,3071,3867,2914,3613,3727,3940,3614,3485,3811,2594,705,3322,3620,3190,2743,3310,3523,3740,3709,3577,2739,2431,3403,3750,2660,3068,2209,1011,754,1317,1162,2302,2423,2999,2485,2294,1951,2236,2368,3272,4098,4521,3425,2376,3598,2177,4097,3214,2493,2311,2298,2935,3376,3292,3163,1301,1977,2432,4339,4270,4075,3456,4023,3243,3624,4509,4579,3761,4151,2832,2947,3784,4375,2802,3830,3831,2169,1529,3422,3922,4169,3005,4154,4318,2689,3129,3777,4773,5062,3487,2732,3389,4322,4363,4990,3194,4066,3423,3333,3956,4916,5382,4569,4118,4911,5298,5847,6312,6192,4378,7836,5892,6153,6093,6230,6871,8362,3372,4996,5558,5102,5698,6133,5459,6235,6041,5936,6772,6436,6457,6460,6857,5169,5585,5918,4862,5409,6398,7460,7132,6370,6691,4367,6565,7290,6624,1027,3214,5633,6196,5026,6233,4220,6304,5572,5740,6169,6421,6296,6883,6359,6273,5728,4717,6572,7030,7429,6118,2843,5115,7424,7384,7639,8294,7129,4359,6073,5260,6770,6734,6536,6591,6043,5743,6855,7338,4127,8120,7641,6998,7001,7055,7494,7736,7498,6598,6664,4972,7421,7363,7665,7702,6978,5099,6825,6211,5905,5823,7458,6891,6779,7442,7335,6879,5463,5687,5531,6227,6660,7403,6241,6207,4840,4672,6569,6290,7264,7446,7499,6969,6031,6830,6786,5713,6591,5870,4459,7410,6966,7592,8173,6861,6904,6685,6597,7105,7216,7580,7261,7175,6824,5464,7013,7273,7534,7286,5786,6299,6544,6883,6784,7347,7605,7148,7865,4549,6530,7006,7375,7765,7582,6053,5255,6917,7040,7697,7713,7350,6140,5810,6034,6864,7112,6203,7504,5976,8227,7525,7767,7870,7804,8009,8714,7333,6869,4073,7591,7720,8167,8395,7907,7436,7538,7733,7393,7415,8555,6889,6778,4639,7572,7328,8156,7965,3510,5478,6392,7691,7570,7282,7109,6639,5875,7534,7461,7509,5424,8090,6824,7058,7466,7693,7359,7444,7852,4459,22,1096,5566,5986,5847,5138,5107,5259,5686,5035,5315,5992,6536,6852,6269,4094,5495,5445,5698,5629,4669,5499,5634,5146,2425,3910,2277,2424,5087,3959,5260,5323,5668,5191,4649,6234,6606,5729,5375,5008,5582,3228,5170,5501,5319,5532,5611,5047,3786,4585,5557,5267,4128,3623,1749,1787,920,1013,441,2114,3095,1341,1796,2729],\"type\":\"histogram\",\"xaxis\":\"x7\",\"yaxis\":\"y7\"}],                        {\"template\":{\"data\":{\"bar\":[{\"error_x\":{\"color\":\"#2a3f5f\"},\"error_y\":{\"color\":\"#2a3f5f\"},\"marker\":{\"line\":{\"color\":\"#E5ECF6\",\"width\":0.5},\"pattern\":{\"fillmode\":\"overlay\",\"size\":10,\"solidity\":0.2}},\"type\":\"bar\"}],\"barpolar\":[{\"marker\":{\"line\":{\"color\":\"#E5ECF6\",\"width\":0.5},\"pattern\":{\"fillmode\":\"overlay\",\"size\":10,\"solidity\":0.2}},\"type\":\"barpolar\"}],\"carpet\":[{\"aaxis\":{\"endlinecolor\":\"#2a3f5f\",\"gridcolor\":\"white\",\"linecolor\":\"white\",\"minorgridcolor\":\"white\",\"startlinecolor\":\"#2a3f5f\"},\"baxis\":{\"endlinecolor\":\"#2a3f5f\",\"gridcolor\":\"white\",\"linecolor\":\"white\",\"minorgridcolor\":\"white\",\"startlinecolor\":\"#2a3f5f\"},\"type\":\"carpet\"}],\"choropleth\":[{\"colorbar\":{\"outlinewidth\":0,\"ticks\":\"\"},\"type\":\"choropleth\"}],\"contour\":[{\"colorbar\":{\"outlinewidth\":0,\"ticks\":\"\"},\"colorscale\":[[0.0,\"#0d0887\"],[0.1111111111111111,\"#46039f\"],[0.2222222222222222,\"#7201a8\"],[0.3333333333333333,\"#9c179e\"],[0.4444444444444444,\"#bd3786\"],[0.5555555555555556,\"#d8576b\"],[0.6666666666666666,\"#ed7953\"],[0.7777777777777778,\"#fb9f3a\"],[0.8888888888888888,\"#fdca26\"],[1.0,\"#f0f921\"]],\"type\":\"contour\"}],\"contourcarpet\":[{\"colorbar\":{\"outlinewidth\":0,\"ticks\":\"\"},\"type\":\"contourcarpet\"}],\"heatmap\":[{\"colorbar\":{\"outlinewidth\":0,\"ticks\":\"\"},\"colorscale\":[[0.0,\"#0d0887\"],[0.1111111111111111,\"#46039f\"],[0.2222222222222222,\"#7201a8\"],[0.3333333333333333,\"#9c179e\"],[0.4444444444444444,\"#bd3786\"],[0.5555555555555556,\"#d8576b\"],[0.6666666666666666,\"#ed7953\"],[0.7777777777777778,\"#fb9f3a\"],[0.8888888888888888,\"#fdca26\"],[1.0,\"#f0f921\"]],\"type\":\"heatmap\"}],\"heatmapgl\":[{\"colorbar\":{\"outlinewidth\":0,\"ticks\":\"\"},\"colorscale\":[[0.0,\"#0d0887\"],[0.1111111111111111,\"#46039f\"],[0.2222222222222222,\"#7201a8\"],[0.3333333333333333,\"#9c179e\"],[0.4444444444444444,\"#bd3786\"],[0.5555555555555556,\"#d8576b\"],[0.6666666666666666,\"#ed7953\"],[0.7777777777777778,\"#fb9f3a\"],[0.8888888888888888,\"#fdca26\"],[1.0,\"#f0f921\"]],\"type\":\"heatmapgl\"}],\"histogram\":[{\"marker\":{\"pattern\":{\"fillmode\":\"overlay\",\"size\":10,\"solidity\":0.2}},\"type\":\"histogram\"}],\"histogram2d\":[{\"colorbar\":{\"outlinewidth\":0,\"ticks\":\"\"},\"colorscale\":[[0.0,\"#0d0887\"],[0.1111111111111111,\"#46039f\"],[0.2222222222222222,\"#7201a8\"],[0.3333333333333333,\"#9c179e\"],[0.4444444444444444,\"#bd3786\"],[0.5555555555555556,\"#d8576b\"],[0.6666666666666666,\"#ed7953\"],[0.7777777777777778,\"#fb9f3a\"],[0.8888888888888888,\"#fdca26\"],[1.0,\"#f0f921\"]],\"type\":\"histogram2d\"}],\"histogram2dcontour\":[{\"colorbar\":{\"outlinewidth\":0,\"ticks\":\"\"},\"colorscale\":[[0.0,\"#0d0887\"],[0.1111111111111111,\"#46039f\"],[0.2222222222222222,\"#7201a8\"],[0.3333333333333333,\"#9c179e\"],[0.4444444444444444,\"#bd3786\"],[0.5555555555555556,\"#d8576b\"],[0.6666666666666666,\"#ed7953\"],[0.7777777777777778,\"#fb9f3a\"],[0.8888888888888888,\"#fdca26\"],[1.0,\"#f0f921\"]],\"type\":\"histogram2dcontour\"}],\"mesh3d\":[{\"colorbar\":{\"outlinewidth\":0,\"ticks\":\"\"},\"type\":\"mesh3d\"}],\"parcoords\":[{\"line\":{\"colorbar\":{\"outlinewidth\":0,\"ticks\":\"\"}},\"type\":\"parcoords\"}],\"pie\":[{\"automargin\":true,\"type\":\"pie\"}],\"scatter\":[{\"marker\":{\"colorbar\":{\"outlinewidth\":0,\"ticks\":\"\"}},\"type\":\"scatter\"}],\"scatter3d\":[{\"line\":{\"colorbar\":{\"outlinewidth\":0,\"ticks\":\"\"}},\"marker\":{\"colorbar\":{\"outlinewidth\":0,\"ticks\":\"\"}},\"type\":\"scatter3d\"}],\"scattercarpet\":[{\"marker\":{\"colorbar\":{\"outlinewidth\":0,\"ticks\":\"\"}},\"type\":\"scattercarpet\"}],\"scattergeo\":[{\"marker\":{\"colorbar\":{\"outlinewidth\":0,\"ticks\":\"\"}},\"type\":\"scattergeo\"}],\"scattergl\":[{\"marker\":{\"colorbar\":{\"outlinewidth\":0,\"ticks\":\"\"}},\"type\":\"scattergl\"}],\"scattermapbox\":[{\"marker\":{\"colorbar\":{\"outlinewidth\":0,\"ticks\":\"\"}},\"type\":\"scattermapbox\"}],\"scatterpolar\":[{\"marker\":{\"colorbar\":{\"outlinewidth\":0,\"ticks\":\"\"}},\"type\":\"scatterpolar\"}],\"scatterpolargl\":[{\"marker\":{\"colorbar\":{\"outlinewidth\":0,\"ticks\":\"\"}},\"type\":\"scatterpolargl\"}],\"scatterternary\":[{\"marker\":{\"colorbar\":{\"outlinewidth\":0,\"ticks\":\"\"}},\"type\":\"scatterternary\"}],\"surface\":[{\"colorbar\":{\"outlinewidth\":0,\"ticks\":\"\"},\"colorscale\":[[0.0,\"#0d0887\"],[0.1111111111111111,\"#46039f\"],[0.2222222222222222,\"#7201a8\"],[0.3333333333333333,\"#9c179e\"],[0.4444444444444444,\"#bd3786\"],[0.5555555555555556,\"#d8576b\"],[0.6666666666666666,\"#ed7953\"],[0.7777777777777778,\"#fb9f3a\"],[0.8888888888888888,\"#fdca26\"],[1.0,\"#f0f921\"]],\"type\":\"surface\"}],\"table\":[{\"cells\":{\"fill\":{\"color\":\"#EBF0F8\"},\"line\":{\"color\":\"white\"}},\"header\":{\"fill\":{\"color\":\"#C8D4E3\"},\"line\":{\"color\":\"white\"}},\"type\":\"table\"}]},\"layout\":{\"annotationdefaults\":{\"arrowcolor\":\"#2a3f5f\",\"arrowhead\":0,\"arrowwidth\":1},\"autotypenumbers\":\"strict\",\"coloraxis\":{\"colorbar\":{\"outlinewidth\":0,\"ticks\":\"\"}},\"colorscale\":{\"diverging\":[[0,\"#8e0152\"],[0.1,\"#c51b7d\"],[0.2,\"#de77ae\"],[0.3,\"#f1b6da\"],[0.4,\"#fde0ef\"],[0.5,\"#f7f7f7\"],[0.6,\"#e6f5d0\"],[0.7,\"#b8e186\"],[0.8,\"#7fbc41\"],[0.9,\"#4d9221\"],[1,\"#276419\"]],\"sequential\":[[0.0,\"#0d0887\"],[0.1111111111111111,\"#46039f\"],[0.2222222222222222,\"#7201a8\"],[0.3333333333333333,\"#9c179e\"],[0.4444444444444444,\"#bd3786\"],[0.5555555555555556,\"#d8576b\"],[0.6666666666666666,\"#ed7953\"],[0.7777777777777778,\"#fb9f3a\"],[0.8888888888888888,\"#fdca26\"],[1.0,\"#f0f921\"]],\"sequentialminus\":[[0.0,\"#0d0887\"],[0.1111111111111111,\"#46039f\"],[0.2222222222222222,\"#7201a8\"],[0.3333333333333333,\"#9c179e\"],[0.4444444444444444,\"#bd3786\"],[0.5555555555555556,\"#d8576b\"],[0.6666666666666666,\"#ed7953\"],[0.7777777777777778,\"#fb9f3a\"],[0.8888888888888888,\"#fdca26\"],[1.0,\"#f0f921\"]]},\"colorway\":[\"#636efa\",\"#EF553B\",\"#00cc96\",\"#ab63fa\",\"#FFA15A\",\"#19d3f3\",\"#FF6692\",\"#B6E880\",\"#FF97FF\",\"#FECB52\"],\"font\":{\"color\":\"#2a3f5f\"},\"geo\":{\"bgcolor\":\"white\",\"lakecolor\":\"white\",\"landcolor\":\"#E5ECF6\",\"showlakes\":true,\"showland\":true,\"subunitcolor\":\"white\"},\"hoverlabel\":{\"align\":\"left\"},\"hovermode\":\"closest\",\"mapbox\":{\"style\":\"light\"},\"paper_bgcolor\":\"white\",\"plot_bgcolor\":\"#E5ECF6\",\"polar\":{\"angularaxis\":{\"gridcolor\":\"white\",\"linecolor\":\"white\",\"ticks\":\"\"},\"bgcolor\":\"#E5ECF6\",\"radialaxis\":{\"gridcolor\":\"white\",\"linecolor\":\"white\",\"ticks\":\"\"}},\"scene\":{\"xaxis\":{\"backgroundcolor\":\"#E5ECF6\",\"gridcolor\":\"white\",\"gridwidth\":2,\"linecolor\":\"white\",\"showbackground\":true,\"ticks\":\"\",\"zerolinecolor\":\"white\"},\"yaxis\":{\"backgroundcolor\":\"#E5ECF6\",\"gridcolor\":\"white\",\"gridwidth\":2,\"linecolor\":\"white\",\"showbackground\":true,\"ticks\":\"\",\"zerolinecolor\":\"white\"},\"zaxis\":{\"backgroundcolor\":\"#E5ECF6\",\"gridcolor\":\"white\",\"gridwidth\":2,\"linecolor\":\"white\",\"showbackground\":true,\"ticks\":\"\",\"zerolinecolor\":\"white\"}},\"shapedefaults\":{\"line\":{\"color\":\"#2a3f5f\"}},\"ternary\":{\"aaxis\":{\"gridcolor\":\"white\",\"linecolor\":\"white\",\"ticks\":\"\"},\"baxis\":{\"gridcolor\":\"white\",\"linecolor\":\"white\",\"ticks\":\"\"},\"bgcolor\":\"#E5ECF6\",\"caxis\":{\"gridcolor\":\"white\",\"linecolor\":\"white\",\"ticks\":\"\"}},\"title\":{\"x\":0.05},\"xaxis\":{\"automargin\":true,\"gridcolor\":\"white\",\"linecolor\":\"white\",\"ticks\":\"\",\"title\":{\"standoff\":15},\"zerolinecolor\":\"white\",\"zerolinewidth\":2},\"yaxis\":{\"automargin\":true,\"gridcolor\":\"white\",\"linecolor\":\"white\",\"ticks\":\"\",\"title\":{\"standoff\":15},\"zerolinecolor\":\"white\",\"zerolinewidth\":2}}},\"xaxis\":{\"anchor\":\"y\",\"domain\":[0.0,0.2888888888888889],\"title\":{\"text\":\"Season\"}},\"yaxis\":{\"anchor\":\"x\",\"domain\":[0.7333333333333333,1.0],\"title\":{\"text\":\"Total Bikes Rented\"}},\"xaxis2\":{\"anchor\":\"y2\",\"domain\":[0.35555555555555557,0.6444444444444445],\"title\":{\"text\":\"Year\"}},\"yaxis2\":{\"anchor\":\"x2\",\"domain\":[0.7333333333333333,1.0],\"matches\":\"y\",\"showticklabels\":false},\"xaxis3\":{\"anchor\":\"y3\",\"domain\":[0.7111111111111111,1.0],\"title\":{\"text\":\"Month\"}},\"yaxis3\":{\"anchor\":\"x3\",\"domain\":[0.7333333333333333,1.0],\"matches\":\"y\",\"showticklabels\":false},\"xaxis4\":{\"anchor\":\"y4\",\"domain\":[0.0,0.2888888888888889],\"title\":{\"text\":\"Holiday\"}},\"yaxis4\":{\"anchor\":\"x4\",\"domain\":[0.36666666666666664,0.6333333333333333]},\"xaxis5\":{\"anchor\":\"y5\",\"domain\":[0.35555555555555557,0.6444444444444445],\"title\":{\"text\":\"Weekday\"}},\"yaxis5\":{\"anchor\":\"x5\",\"domain\":[0.36666666666666664,0.6333333333333333],\"matches\":\"y4\",\"showticklabels\":false},\"xaxis6\":{\"anchor\":\"y6\",\"domain\":[0.7111111111111111,1.0],\"title\":{\"text\":\"Workingday\"}},\"yaxis6\":{\"anchor\":\"x6\",\"domain\":[0.36666666666666664,0.6333333333333333],\"matches\":\"y4\",\"showticklabels\":false},\"xaxis7\":{\"anchor\":\"y7\",\"domain\":[0.0,0.2888888888888889],\"title\":{\"text\":\"Weathersit\"}},\"yaxis7\":{\"anchor\":\"x7\",\"domain\":[0.0,0.26666666666666666]},\"xaxis8\":{\"anchor\":\"y8\",\"domain\":[0.35555555555555557,0.6444444444444445]},\"yaxis8\":{\"anchor\":\"x8\",\"domain\":[0.0,0.26666666666666666],\"matches\":\"y7\",\"showticklabels\":false},\"xaxis9\":{\"anchor\":\"y9\",\"domain\":[0.7111111111111111,1.0]},\"yaxis9\":{\"anchor\":\"x9\",\"domain\":[0.0,0.26666666666666666],\"matches\":\"y7\",\"showticklabels\":false},\"width\":1200,\"height\":1200,\"barmode\":\"group\",\"bargap\":0.15},                        {\"responsive\": true}                    ).then(function(){\n",
              "                            \n",
              "var gd = document.getElementById('e495be5b-5d2a-4399-ad4b-0d24e2138265');\n",
              "var x = new MutationObserver(function (mutations, observer) {{\n",
              "        var display = window.getComputedStyle(gd).display;\n",
              "        if (!display || display === 'none') {{\n",
              "            console.log([gd, 'removed!']);\n",
              "            Plotly.purge(gd);\n",
              "            observer.disconnect();\n",
              "        }}\n",
              "}});\n",
              "\n",
              "// Listen for the removal of the full notebook cells\n",
              "var notebookContainer = gd.closest('#notebook-container');\n",
              "if (notebookContainer) {{\n",
              "    x.observe(notebookContainer, {childList: true});\n",
              "}}\n",
              "\n",
              "// Listen for the clearing of the current output cell\n",
              "var outputEl = gd.closest('.output');\n",
              "if (outputEl) {{\n",
              "    x.observe(outputEl, {childList: true});\n",
              "}}\n",
              "\n",
              "                        })                };                            </script>        </div>\n",
              "</body>\n",
              "</html>"
            ]
          },
          "metadata": {}
        }
      ]
    },
    {
      "cell_type": "markdown",
      "source": [
        "#### Observations\n",
        "\n",
        "*   Summer and fall seasons have more bikes rented compared to spring and winter\n",
        "*   Seems bikes rentals increases year by year\n",
        "*   May to September months have higher bike rentals compared to other months\n",
        "*   Seems non-holidays have more bike rentals compared to holdiays.\n",
        "*   There seems to be no significance difference on weekdays.\n",
        "*   Working days have higher bike rentals.\n",
        "*   Clear weather have higher bike rentals"
      ],
      "metadata": {
        "id": "pJJWnvyn83Oj"
      }
    },
    {
      "cell_type": "markdown",
      "source": [
        "## Step 3: Data Preparation"
      ],
      "metadata": {
        "id": "qPKJ8mH7_S-H"
      }
    },
    {
      "cell_type": "code",
      "source": [
        "bike_df = pd.get_dummies(bike_df,columns=['season','mnth','weathersit','weekday'],prefix=[\"Season\",\"Month\",\"weathersit\",\"Weekday\"],drop_first=True)\n"
      ],
      "metadata": {
        "id": "t2FBaGLL_XfM"
      },
      "execution_count": 354,
      "outputs": []
    },
    {
      "cell_type": "code",
      "source": [
        "bike_df.rename(columns={\"Season_2\":\"isSummer\",\"Season_3\":\"isFall\",\"Season_4\":\"isWinter\",\"Year_1\":\"Year_2019\",\"weathersit_2\":\"Mist\",\"weathersit_3\":\"Light_Snow_Rain\"},inplace=True)"
      ],
      "metadata": {
        "id": "iQBGSl8LDpo0"
      },
      "execution_count": 355,
      "outputs": []
    },
    {
      "cell_type": "code",
      "source": [
        "bike_df.head()"
      ],
      "metadata": {
        "colab": {
          "base_uri": "https://localhost:8080/",
          "height": 270
        },
        "id": "Xt2z_a2mGnzF",
        "outputId": "10e223a5-ba0b-4aaa-d21a-c08f3aa51b4b"
      },
      "execution_count": 356,
      "outputs": [
        {
          "output_type": "execute_result",
          "data": {
            "text/plain": [
              "   yr  holiday  workingday       temp     atemp      hum  windspeed   cnt  \\\n",
              "0   0        0           0  14.110847  18.18125  80.5833  10.749882   985   \n",
              "1   0        0           0  14.902598  17.68695  69.6087  16.652113   801   \n",
              "2   0        0           1   8.050924   9.47025  43.7273  16.636703  1349   \n",
              "3   0        0           1   8.200000  10.60610  59.0435  10.739832  1562   \n",
              "4   0        0           1   9.305237  11.46350  43.6957  12.522300  1600   \n",
              "\n",
              "   isSummer  isFall  isWinter  Month_2  Month_3  Month_4  Month_5  Month_6  \\\n",
              "0         0       0         0        0        0        0        0        0   \n",
              "1         0       0         0        0        0        0        0        0   \n",
              "2         0       0         0        0        0        0        0        0   \n",
              "3         0       0         0        0        0        0        0        0   \n",
              "4         0       0         0        0        0        0        0        0   \n",
              "\n",
              "   Month_7  Month_8  Month_9  Month_10  Month_11  Month_12  Mist  \\\n",
              "0        0        0        0         0         0         0     1   \n",
              "1        0        0        0         0         0         0     1   \n",
              "2        0        0        0         0         0         0     0   \n",
              "3        0        0        0         0         0         0     0   \n",
              "4        0        0        0         0         0         0     0   \n",
              "\n",
              "   Light_Snow_Rain  Weekday_1  Weekday_2  Weekday_3  Weekday_4  Weekday_5  \\\n",
              "0                0          0          0          0          0          0   \n",
              "1                0          0          0          0          0          0   \n",
              "2                0          1          0          0          0          0   \n",
              "3                0          0          1          0          0          0   \n",
              "4                0          0          0          1          0          0   \n",
              "\n",
              "   Weekday_6  \n",
              "0          1  \n",
              "1          0  \n",
              "2          0  \n",
              "3          0  \n",
              "4          0  "
            ],
            "text/html": [
              "\n",
              "  <div id=\"df-989ef48b-0b71-449a-893f-a24d0448145a\">\n",
              "    <div class=\"colab-df-container\">\n",
              "      <div>\n",
              "<style scoped>\n",
              "    .dataframe tbody tr th:only-of-type {\n",
              "        vertical-align: middle;\n",
              "    }\n",
              "\n",
              "    .dataframe tbody tr th {\n",
              "        vertical-align: top;\n",
              "    }\n",
              "\n",
              "    .dataframe thead th {\n",
              "        text-align: right;\n",
              "    }\n",
              "</style>\n",
              "<table border=\"1\" class=\"dataframe\">\n",
              "  <thead>\n",
              "    <tr style=\"text-align: right;\">\n",
              "      <th></th>\n",
              "      <th>yr</th>\n",
              "      <th>holiday</th>\n",
              "      <th>workingday</th>\n",
              "      <th>temp</th>\n",
              "      <th>atemp</th>\n",
              "      <th>hum</th>\n",
              "      <th>windspeed</th>\n",
              "      <th>cnt</th>\n",
              "      <th>isSummer</th>\n",
              "      <th>isFall</th>\n",
              "      <th>isWinter</th>\n",
              "      <th>Month_2</th>\n",
              "      <th>Month_3</th>\n",
              "      <th>Month_4</th>\n",
              "      <th>Month_5</th>\n",
              "      <th>Month_6</th>\n",
              "      <th>Month_7</th>\n",
              "      <th>Month_8</th>\n",
              "      <th>Month_9</th>\n",
              "      <th>Month_10</th>\n",
              "      <th>Month_11</th>\n",
              "      <th>Month_12</th>\n",
              "      <th>Mist</th>\n",
              "      <th>Light_Snow_Rain</th>\n",
              "      <th>Weekday_1</th>\n",
              "      <th>Weekday_2</th>\n",
              "      <th>Weekday_3</th>\n",
              "      <th>Weekday_4</th>\n",
              "      <th>Weekday_5</th>\n",
              "      <th>Weekday_6</th>\n",
              "    </tr>\n",
              "  </thead>\n",
              "  <tbody>\n",
              "    <tr>\n",
              "      <th>0</th>\n",
              "      <td>0</td>\n",
              "      <td>0</td>\n",
              "      <td>0</td>\n",
              "      <td>14.110847</td>\n",
              "      <td>18.18125</td>\n",
              "      <td>80.5833</td>\n",
              "      <td>10.749882</td>\n",
              "      <td>985</td>\n",
              "      <td>0</td>\n",
              "      <td>0</td>\n",
              "      <td>0</td>\n",
              "      <td>0</td>\n",
              "      <td>0</td>\n",
              "      <td>0</td>\n",
              "      <td>0</td>\n",
              "      <td>0</td>\n",
              "      <td>0</td>\n",
              "      <td>0</td>\n",
              "      <td>0</td>\n",
              "      <td>0</td>\n",
              "      <td>0</td>\n",
              "      <td>0</td>\n",
              "      <td>1</td>\n",
              "      <td>0</td>\n",
              "      <td>0</td>\n",
              "      <td>0</td>\n",
              "      <td>0</td>\n",
              "      <td>0</td>\n",
              "      <td>0</td>\n",
              "      <td>1</td>\n",
              "    </tr>\n",
              "    <tr>\n",
              "      <th>1</th>\n",
              "      <td>0</td>\n",
              "      <td>0</td>\n",
              "      <td>0</td>\n",
              "      <td>14.902598</td>\n",
              "      <td>17.68695</td>\n",
              "      <td>69.6087</td>\n",
              "      <td>16.652113</td>\n",
              "      <td>801</td>\n",
              "      <td>0</td>\n",
              "      <td>0</td>\n",
              "      <td>0</td>\n",
              "      <td>0</td>\n",
              "      <td>0</td>\n",
              "      <td>0</td>\n",
              "      <td>0</td>\n",
              "      <td>0</td>\n",
              "      <td>0</td>\n",
              "      <td>0</td>\n",
              "      <td>0</td>\n",
              "      <td>0</td>\n",
              "      <td>0</td>\n",
              "      <td>0</td>\n",
              "      <td>1</td>\n",
              "      <td>0</td>\n",
              "      <td>0</td>\n",
              "      <td>0</td>\n",
              "      <td>0</td>\n",
              "      <td>0</td>\n",
              "      <td>0</td>\n",
              "      <td>0</td>\n",
              "    </tr>\n",
              "    <tr>\n",
              "      <th>2</th>\n",
              "      <td>0</td>\n",
              "      <td>0</td>\n",
              "      <td>1</td>\n",
              "      <td>8.050924</td>\n",
              "      <td>9.47025</td>\n",
              "      <td>43.7273</td>\n",
              "      <td>16.636703</td>\n",
              "      <td>1349</td>\n",
              "      <td>0</td>\n",
              "      <td>0</td>\n",
              "      <td>0</td>\n",
              "      <td>0</td>\n",
              "      <td>0</td>\n",
              "      <td>0</td>\n",
              "      <td>0</td>\n",
              "      <td>0</td>\n",
              "      <td>0</td>\n",
              "      <td>0</td>\n",
              "      <td>0</td>\n",
              "      <td>0</td>\n",
              "      <td>0</td>\n",
              "      <td>0</td>\n",
              "      <td>0</td>\n",
              "      <td>0</td>\n",
              "      <td>1</td>\n",
              "      <td>0</td>\n",
              "      <td>0</td>\n",
              "      <td>0</td>\n",
              "      <td>0</td>\n",
              "      <td>0</td>\n",
              "    </tr>\n",
              "    <tr>\n",
              "      <th>3</th>\n",
              "      <td>0</td>\n",
              "      <td>0</td>\n",
              "      <td>1</td>\n",
              "      <td>8.200000</td>\n",
              "      <td>10.60610</td>\n",
              "      <td>59.0435</td>\n",
              "      <td>10.739832</td>\n",
              "      <td>1562</td>\n",
              "      <td>0</td>\n",
              "      <td>0</td>\n",
              "      <td>0</td>\n",
              "      <td>0</td>\n",
              "      <td>0</td>\n",
              "      <td>0</td>\n",
              "      <td>0</td>\n",
              "      <td>0</td>\n",
              "      <td>0</td>\n",
              "      <td>0</td>\n",
              "      <td>0</td>\n",
              "      <td>0</td>\n",
              "      <td>0</td>\n",
              "      <td>0</td>\n",
              "      <td>0</td>\n",
              "      <td>0</td>\n",
              "      <td>0</td>\n",
              "      <td>1</td>\n",
              "      <td>0</td>\n",
              "      <td>0</td>\n",
              "      <td>0</td>\n",
              "      <td>0</td>\n",
              "    </tr>\n",
              "    <tr>\n",
              "      <th>4</th>\n",
              "      <td>0</td>\n",
              "      <td>0</td>\n",
              "      <td>1</td>\n",
              "      <td>9.305237</td>\n",
              "      <td>11.46350</td>\n",
              "      <td>43.6957</td>\n",
              "      <td>12.522300</td>\n",
              "      <td>1600</td>\n",
              "      <td>0</td>\n",
              "      <td>0</td>\n",
              "      <td>0</td>\n",
              "      <td>0</td>\n",
              "      <td>0</td>\n",
              "      <td>0</td>\n",
              "      <td>0</td>\n",
              "      <td>0</td>\n",
              "      <td>0</td>\n",
              "      <td>0</td>\n",
              "      <td>0</td>\n",
              "      <td>0</td>\n",
              "      <td>0</td>\n",
              "      <td>0</td>\n",
              "      <td>0</td>\n",
              "      <td>0</td>\n",
              "      <td>0</td>\n",
              "      <td>0</td>\n",
              "      <td>1</td>\n",
              "      <td>0</td>\n",
              "      <td>0</td>\n",
              "      <td>0</td>\n",
              "    </tr>\n",
              "  </tbody>\n",
              "</table>\n",
              "</div>\n",
              "      <button class=\"colab-df-convert\" onclick=\"convertToInteractive('df-989ef48b-0b71-449a-893f-a24d0448145a')\"\n",
              "              title=\"Convert this dataframe to an interactive table.\"\n",
              "              style=\"display:none;\">\n",
              "        \n",
              "  <svg xmlns=\"http://www.w3.org/2000/svg\" height=\"24px\"viewBox=\"0 0 24 24\"\n",
              "       width=\"24px\">\n",
              "    <path d=\"M0 0h24v24H0V0z\" fill=\"none\"/>\n",
              "    <path d=\"M18.56 5.44l.94 2.06.94-2.06 2.06-.94-2.06-.94-.94-2.06-.94 2.06-2.06.94zm-11 1L8.5 8.5l.94-2.06 2.06-.94-2.06-.94L8.5 2.5l-.94 2.06-2.06.94zm10 10l.94 2.06.94-2.06 2.06-.94-2.06-.94-.94-2.06-.94 2.06-2.06.94z\"/><path d=\"M17.41 7.96l-1.37-1.37c-.4-.4-.92-.59-1.43-.59-.52 0-1.04.2-1.43.59L10.3 9.45l-7.72 7.72c-.78.78-.78 2.05 0 2.83L4 21.41c.39.39.9.59 1.41.59.51 0 1.02-.2 1.41-.59l7.78-7.78 2.81-2.81c.8-.78.8-2.07 0-2.86zM5.41 20L4 18.59l7.72-7.72 1.47 1.35L5.41 20z\"/>\n",
              "  </svg>\n",
              "      </button>\n",
              "      \n",
              "  <style>\n",
              "    .colab-df-container {\n",
              "      display:flex;\n",
              "      flex-wrap:wrap;\n",
              "      gap: 12px;\n",
              "    }\n",
              "\n",
              "    .colab-df-convert {\n",
              "      background-color: #E8F0FE;\n",
              "      border: none;\n",
              "      border-radius: 50%;\n",
              "      cursor: pointer;\n",
              "      display: none;\n",
              "      fill: #1967D2;\n",
              "      height: 32px;\n",
              "      padding: 0 0 0 0;\n",
              "      width: 32px;\n",
              "    }\n",
              "\n",
              "    .colab-df-convert:hover {\n",
              "      background-color: #E2EBFA;\n",
              "      box-shadow: 0px 1px 2px rgba(60, 64, 67, 0.3), 0px 1px 3px 1px rgba(60, 64, 67, 0.15);\n",
              "      fill: #174EA6;\n",
              "    }\n",
              "\n",
              "    [theme=dark] .colab-df-convert {\n",
              "      background-color: #3B4455;\n",
              "      fill: #D2E3FC;\n",
              "    }\n",
              "\n",
              "    [theme=dark] .colab-df-convert:hover {\n",
              "      background-color: #434B5C;\n",
              "      box-shadow: 0px 1px 3px 1px rgba(0, 0, 0, 0.15);\n",
              "      filter: drop-shadow(0px 1px 2px rgba(0, 0, 0, 0.3));\n",
              "      fill: #FFFFFF;\n",
              "    }\n",
              "  </style>\n",
              "\n",
              "      <script>\n",
              "        const buttonEl =\n",
              "          document.querySelector('#df-989ef48b-0b71-449a-893f-a24d0448145a button.colab-df-convert');\n",
              "        buttonEl.style.display =\n",
              "          google.colab.kernel.accessAllowed ? 'block' : 'none';\n",
              "\n",
              "        async function convertToInteractive(key) {\n",
              "          const element = document.querySelector('#df-989ef48b-0b71-449a-893f-a24d0448145a');\n",
              "          const dataTable =\n",
              "            await google.colab.kernel.invokeFunction('convertToInteractive',\n",
              "                                                     [key], {});\n",
              "          if (!dataTable) return;\n",
              "\n",
              "          const docLinkHtml = 'Like what you see? Visit the ' +\n",
              "            '<a target=\"_blank\" href=https://colab.research.google.com/notebooks/data_table.ipynb>data table notebook</a>'\n",
              "            + ' to learn more about interactive tables.';\n",
              "          element.innerHTML = '';\n",
              "          dataTable['output_type'] = 'display_data';\n",
              "          await google.colab.output.renderOutput(dataTable, element);\n",
              "          const docLink = document.createElement('div');\n",
              "          docLink.innerHTML = docLinkHtml;\n",
              "          element.appendChild(docLink);\n",
              "        }\n",
              "      </script>\n",
              "    </div>\n",
              "  </div>\n",
              "  "
            ]
          },
          "metadata": {},
          "execution_count": 356
        }
      ]
    },
    {
      "cell_type": "markdown",
      "source": [
        "## Step 4: Splitting the Data into Training and Testing Sets"
      ],
      "metadata": {
        "id": "WwWgD9z3IliQ"
      }
    },
    {
      "cell_type": "code",
      "source": [
        "np.random.seed(1)\n",
        "bike_train_df, bike_test_df = train_test_split(bike_df,train_size=0.7, test_size=0.3, random_state=100)\n"
      ],
      "metadata": {
        "id": "qUVyK357Ijz-"
      },
      "execution_count": 357,
      "outputs": []
    },
    {
      "cell_type": "markdown",
      "source": [
        "### Rescaling the Features "
      ],
      "metadata": {
        "id": "AfqpZPBCJMkR"
      }
    },
    {
      "cell_type": "code",
      "source": [
        "scalar = MinMaxScaler()\n",
        "scalar_cols = ['temp','atemp','hum','windspeed','cnt']\n",
        "scalar.fit(bike_train_df[scalar_cols])\n",
        "bike_train_df[scalar_cols] = scalar.transform(bike_train_df[scalar_cols])\n",
        "bike_test_df[scalar_cols] = scalar.transform(bike_test_df[scalar_cols])\n",
        "bike_train_df.head()"
      ],
      "metadata": {
        "colab": {
          "base_uri": "https://localhost:8080/",
          "height": 270
        },
        "id": "MplHAvNeJL77",
        "outputId": "ed5e81d1-d5e5-4a07-e8f5-e4d55c45f446"
      },
      "execution_count": 358,
      "outputs": [
        {
          "output_type": "execute_result",
          "data": {
            "text/plain": [
              "     yr  holiday  workingday      temp     atemp       hum  windspeed  \\\n",
              "653   1        0           1  0.509887  0.501133  0.575354   0.300794   \n",
              "576   1        0           1  0.815169  0.766351  0.725633   0.264686   \n",
              "426   1        0           0  0.442393  0.438975  0.640189   0.255342   \n",
              "728   1        0           0  0.245101  0.200348  0.498067   0.663106   \n",
              "482   1        0           0  0.395666  0.391735  0.504508   0.188475   \n",
              "\n",
              "          cnt  isSummer  isFall  isWinter  Month_2  Month_3  Month_4  Month_5  \\\n",
              "653  0.864243         0       0         1        0        0        0        0   \n",
              "576  0.827658         0       1         0        0        0        0        0   \n",
              "426  0.465255         0       0         0        0        1        0        0   \n",
              "728  0.204096         0       0         0        0        0        0        0   \n",
              "482  0.482973         1       0         0        0        0        1        0   \n",
              "\n",
              "     Month_6  Month_7  Month_8  Month_9  Month_10  Month_11  Month_12  Mist  \\\n",
              "653        0        0        0        0         1         0         0     0   \n",
              "576        0        1        0        0         0         0         0     0   \n",
              "426        0        0        0        0         0         0         0     1   \n",
              "728        0        0        0        0         0         0         1     0   \n",
              "482        0        0        0        0         0         0         0     1   \n",
              "\n",
              "     Light_Snow_Rain  Weekday_1  Weekday_2  Weekday_3  Weekday_4  Weekday_5  \\\n",
              "653                0          0          1          0          0          0   \n",
              "576                0          0          1          0          0          0   \n",
              "426                0          0          0          0          0          0   \n",
              "728                0          0          0          0          0          0   \n",
              "482                0          0          0          0          0          0   \n",
              "\n",
              "     Weekday_6  \n",
              "653          0  \n",
              "576          0  \n",
              "426          1  \n",
              "728          0  \n",
              "482          1  "
            ],
            "text/html": [
              "\n",
              "  <div id=\"df-92226709-d4cc-4cb9-a2eb-f09c68b4103c\">\n",
              "    <div class=\"colab-df-container\">\n",
              "      <div>\n",
              "<style scoped>\n",
              "    .dataframe tbody tr th:only-of-type {\n",
              "        vertical-align: middle;\n",
              "    }\n",
              "\n",
              "    .dataframe tbody tr th {\n",
              "        vertical-align: top;\n",
              "    }\n",
              "\n",
              "    .dataframe thead th {\n",
              "        text-align: right;\n",
              "    }\n",
              "</style>\n",
              "<table border=\"1\" class=\"dataframe\">\n",
              "  <thead>\n",
              "    <tr style=\"text-align: right;\">\n",
              "      <th></th>\n",
              "      <th>yr</th>\n",
              "      <th>holiday</th>\n",
              "      <th>workingday</th>\n",
              "      <th>temp</th>\n",
              "      <th>atemp</th>\n",
              "      <th>hum</th>\n",
              "      <th>windspeed</th>\n",
              "      <th>cnt</th>\n",
              "      <th>isSummer</th>\n",
              "      <th>isFall</th>\n",
              "      <th>isWinter</th>\n",
              "      <th>Month_2</th>\n",
              "      <th>Month_3</th>\n",
              "      <th>Month_4</th>\n",
              "      <th>Month_5</th>\n",
              "      <th>Month_6</th>\n",
              "      <th>Month_7</th>\n",
              "      <th>Month_8</th>\n",
              "      <th>Month_9</th>\n",
              "      <th>Month_10</th>\n",
              "      <th>Month_11</th>\n",
              "      <th>Month_12</th>\n",
              "      <th>Mist</th>\n",
              "      <th>Light_Snow_Rain</th>\n",
              "      <th>Weekday_1</th>\n",
              "      <th>Weekday_2</th>\n",
              "      <th>Weekday_3</th>\n",
              "      <th>Weekday_4</th>\n",
              "      <th>Weekday_5</th>\n",
              "      <th>Weekday_6</th>\n",
              "    </tr>\n",
              "  </thead>\n",
              "  <tbody>\n",
              "    <tr>\n",
              "      <th>653</th>\n",
              "      <td>1</td>\n",
              "      <td>0</td>\n",
              "      <td>1</td>\n",
              "      <td>0.509887</td>\n",
              "      <td>0.501133</td>\n",
              "      <td>0.575354</td>\n",
              "      <td>0.300794</td>\n",
              "      <td>0.864243</td>\n",
              "      <td>0</td>\n",
              "      <td>0</td>\n",
              "      <td>1</td>\n",
              "      <td>0</td>\n",
              "      <td>0</td>\n",
              "      <td>0</td>\n",
              "      <td>0</td>\n",
              "      <td>0</td>\n",
              "      <td>0</td>\n",
              "      <td>0</td>\n",
              "      <td>0</td>\n",
              "      <td>1</td>\n",
              "      <td>0</td>\n",
              "      <td>0</td>\n",
              "      <td>0</td>\n",
              "      <td>0</td>\n",
              "      <td>0</td>\n",
              "      <td>1</td>\n",
              "      <td>0</td>\n",
              "      <td>0</td>\n",
              "      <td>0</td>\n",
              "      <td>0</td>\n",
              "    </tr>\n",
              "    <tr>\n",
              "      <th>576</th>\n",
              "      <td>1</td>\n",
              "      <td>0</td>\n",
              "      <td>1</td>\n",
              "      <td>0.815169</td>\n",
              "      <td>0.766351</td>\n",
              "      <td>0.725633</td>\n",
              "      <td>0.264686</td>\n",
              "      <td>0.827658</td>\n",
              "      <td>0</td>\n",
              "      <td>1</td>\n",
              "      <td>0</td>\n",
              "      <td>0</td>\n",
              "      <td>0</td>\n",
              "      <td>0</td>\n",
              "      <td>0</td>\n",
              "      <td>0</td>\n",
              "      <td>1</td>\n",
              "      <td>0</td>\n",
              "      <td>0</td>\n",
              "      <td>0</td>\n",
              "      <td>0</td>\n",
              "      <td>0</td>\n",
              "      <td>0</td>\n",
              "      <td>0</td>\n",
              "      <td>0</td>\n",
              "      <td>1</td>\n",
              "      <td>0</td>\n",
              "      <td>0</td>\n",
              "      <td>0</td>\n",
              "      <td>0</td>\n",
              "    </tr>\n",
              "    <tr>\n",
              "      <th>426</th>\n",
              "      <td>1</td>\n",
              "      <td>0</td>\n",
              "      <td>0</td>\n",
              "      <td>0.442393</td>\n",
              "      <td>0.438975</td>\n",
              "      <td>0.640189</td>\n",
              "      <td>0.255342</td>\n",
              "      <td>0.465255</td>\n",
              "      <td>0</td>\n",
              "      <td>0</td>\n",
              "      <td>0</td>\n",
              "      <td>0</td>\n",
              "      <td>1</td>\n",
              "      <td>0</td>\n",
              "      <td>0</td>\n",
              "      <td>0</td>\n",
              "      <td>0</td>\n",
              "      <td>0</td>\n",
              "      <td>0</td>\n",
              "      <td>0</td>\n",
              "      <td>0</td>\n",
              "      <td>0</td>\n",
              "      <td>1</td>\n",
              "      <td>0</td>\n",
              "      <td>0</td>\n",
              "      <td>0</td>\n",
              "      <td>0</td>\n",
              "      <td>0</td>\n",
              "      <td>0</td>\n",
              "      <td>1</td>\n",
              "    </tr>\n",
              "    <tr>\n",
              "      <th>728</th>\n",
              "      <td>1</td>\n",
              "      <td>0</td>\n",
              "      <td>0</td>\n",
              "      <td>0.245101</td>\n",
              "      <td>0.200348</td>\n",
              "      <td>0.498067</td>\n",
              "      <td>0.663106</td>\n",
              "      <td>0.204096</td>\n",
              "      <td>0</td>\n",
              "      <td>0</td>\n",
              "      <td>0</td>\n",
              "      <td>0</td>\n",
              "      <td>0</td>\n",
              "      <td>0</td>\n",
              "      <td>0</td>\n",
              "      <td>0</td>\n",
              "      <td>0</td>\n",
              "      <td>0</td>\n",
              "      <td>0</td>\n",
              "      <td>0</td>\n",
              "      <td>0</td>\n",
              "      <td>1</td>\n",
              "      <td>0</td>\n",
              "      <td>0</td>\n",
              "      <td>0</td>\n",
              "      <td>0</td>\n",
              "      <td>0</td>\n",
              "      <td>0</td>\n",
              "      <td>0</td>\n",
              "      <td>0</td>\n",
              "    </tr>\n",
              "    <tr>\n",
              "      <th>482</th>\n",
              "      <td>1</td>\n",
              "      <td>0</td>\n",
              "      <td>0</td>\n",
              "      <td>0.395666</td>\n",
              "      <td>0.391735</td>\n",
              "      <td>0.504508</td>\n",
              "      <td>0.188475</td>\n",
              "      <td>0.482973</td>\n",
              "      <td>1</td>\n",
              "      <td>0</td>\n",
              "      <td>0</td>\n",
              "      <td>0</td>\n",
              "      <td>0</td>\n",
              "      <td>1</td>\n",
              "      <td>0</td>\n",
              "      <td>0</td>\n",
              "      <td>0</td>\n",
              "      <td>0</td>\n",
              "      <td>0</td>\n",
              "      <td>0</td>\n",
              "      <td>0</td>\n",
              "      <td>0</td>\n",
              "      <td>1</td>\n",
              "      <td>0</td>\n",
              "      <td>0</td>\n",
              "      <td>0</td>\n",
              "      <td>0</td>\n",
              "      <td>0</td>\n",
              "      <td>0</td>\n",
              "      <td>1</td>\n",
              "    </tr>\n",
              "  </tbody>\n",
              "</table>\n",
              "</div>\n",
              "      <button class=\"colab-df-convert\" onclick=\"convertToInteractive('df-92226709-d4cc-4cb9-a2eb-f09c68b4103c')\"\n",
              "              title=\"Convert this dataframe to an interactive table.\"\n",
              "              style=\"display:none;\">\n",
              "        \n",
              "  <svg xmlns=\"http://www.w3.org/2000/svg\" height=\"24px\"viewBox=\"0 0 24 24\"\n",
              "       width=\"24px\">\n",
              "    <path d=\"M0 0h24v24H0V0z\" fill=\"none\"/>\n",
              "    <path d=\"M18.56 5.44l.94 2.06.94-2.06 2.06-.94-2.06-.94-.94-2.06-.94 2.06-2.06.94zm-11 1L8.5 8.5l.94-2.06 2.06-.94-2.06-.94L8.5 2.5l-.94 2.06-2.06.94zm10 10l.94 2.06.94-2.06 2.06-.94-2.06-.94-.94-2.06-.94 2.06-2.06.94z\"/><path d=\"M17.41 7.96l-1.37-1.37c-.4-.4-.92-.59-1.43-.59-.52 0-1.04.2-1.43.59L10.3 9.45l-7.72 7.72c-.78.78-.78 2.05 0 2.83L4 21.41c.39.39.9.59 1.41.59.51 0 1.02-.2 1.41-.59l7.78-7.78 2.81-2.81c.8-.78.8-2.07 0-2.86zM5.41 20L4 18.59l7.72-7.72 1.47 1.35L5.41 20z\"/>\n",
              "  </svg>\n",
              "      </button>\n",
              "      \n",
              "  <style>\n",
              "    .colab-df-container {\n",
              "      display:flex;\n",
              "      flex-wrap:wrap;\n",
              "      gap: 12px;\n",
              "    }\n",
              "\n",
              "    .colab-df-convert {\n",
              "      background-color: #E8F0FE;\n",
              "      border: none;\n",
              "      border-radius: 50%;\n",
              "      cursor: pointer;\n",
              "      display: none;\n",
              "      fill: #1967D2;\n",
              "      height: 32px;\n",
              "      padding: 0 0 0 0;\n",
              "      width: 32px;\n",
              "    }\n",
              "\n",
              "    .colab-df-convert:hover {\n",
              "      background-color: #E2EBFA;\n",
              "      box-shadow: 0px 1px 2px rgba(60, 64, 67, 0.3), 0px 1px 3px 1px rgba(60, 64, 67, 0.15);\n",
              "      fill: #174EA6;\n",
              "    }\n",
              "\n",
              "    [theme=dark] .colab-df-convert {\n",
              "      background-color: #3B4455;\n",
              "      fill: #D2E3FC;\n",
              "    }\n",
              "\n",
              "    [theme=dark] .colab-df-convert:hover {\n",
              "      background-color: #434B5C;\n",
              "      box-shadow: 0px 1px 3px 1px rgba(0, 0, 0, 0.15);\n",
              "      filter: drop-shadow(0px 1px 2px rgba(0, 0, 0, 0.3));\n",
              "      fill: #FFFFFF;\n",
              "    }\n",
              "  </style>\n",
              "\n",
              "      <script>\n",
              "        const buttonEl =\n",
              "          document.querySelector('#df-92226709-d4cc-4cb9-a2eb-f09c68b4103c button.colab-df-convert');\n",
              "        buttonEl.style.display =\n",
              "          google.colab.kernel.accessAllowed ? 'block' : 'none';\n",
              "\n",
              "        async function convertToInteractive(key) {\n",
              "          const element = document.querySelector('#df-92226709-d4cc-4cb9-a2eb-f09c68b4103c');\n",
              "          const dataTable =\n",
              "            await google.colab.kernel.invokeFunction('convertToInteractive',\n",
              "                                                     [key], {});\n",
              "          if (!dataTable) return;\n",
              "\n",
              "          const docLinkHtml = 'Like what you see? Visit the ' +\n",
              "            '<a target=\"_blank\" href=https://colab.research.google.com/notebooks/data_table.ipynb>data table notebook</a>'\n",
              "            + ' to learn more about interactive tables.';\n",
              "          element.innerHTML = '';\n",
              "          dataTable['output_type'] = 'display_data';\n",
              "          await google.colab.output.renderOutput(dataTable, element);\n",
              "          const docLink = document.createElement('div');\n",
              "          docLink.innerHTML = docLinkHtml;\n",
              "          element.appendChild(docLink);\n",
              "        }\n",
              "      </script>\n",
              "    </div>\n",
              "  </div>\n",
              "  "
            ]
          },
          "metadata": {},
          "execution_count": 358
        }
      ]
    },
    {
      "cell_type": "code",
      "source": [
        "px.imshow(bike_train_df[['temp','atemp','cnt','hum','windspeed']].corr(),text_auto=True)"
      ],
      "metadata": {
        "colab": {
          "base_uri": "https://localhost:8080/",
          "height": 542
        },
        "id": "VRuH9TMLIib8",
        "outputId": "3af6637c-8e9b-4cfc-df2d-5400f299fff0"
      },
      "execution_count": 359,
      "outputs": [
        {
          "output_type": "display_data",
          "data": {
            "text/html": [
              "<html>\n",
              "<head><meta charset=\"utf-8\" /></head>\n",
              "<body>\n",
              "    <div>            <script src=\"https://cdnjs.cloudflare.com/ajax/libs/mathjax/2.7.5/MathJax.js?config=TeX-AMS-MML_SVG\"></script><script type=\"text/javascript\">if (window.MathJax) {MathJax.Hub.Config({SVG: {font: \"STIX-Web\"}});}</script>                <script type=\"text/javascript\">window.PlotlyConfig = {MathJaxConfig: 'local'};</script>\n",
              "        <script src=\"https://cdn.plot.ly/plotly-2.8.3.min.js\"></script>                <div id=\"01195538-c3bf-447b-b937-a160995c89c5\" class=\"plotly-graph-div\" style=\"height:525px; width:100%;\"></div>            <script type=\"text/javascript\">                                    window.PLOTLYENV=window.PLOTLYENV || {};                                    if (document.getElementById(\"01195538-c3bf-447b-b937-a160995c89c5\")) {                    Plotly.newPlot(                        \"01195538-c3bf-447b-b937-a160995c89c5\",                        [{\"coloraxis\":\"coloraxis\",\"name\":\"0\",\"texttemplate\":\"%{z}\",\"x\":[\"temp\",\"atemp\",\"cnt\",\"hum\",\"windspeed\"],\"y\":[\"temp\",\"atemp\",\"cnt\",\"hum\",\"windspeed\"],\"z\":[[1.0,0.9895370539889047,0.6435170928988454,0.15541509545520527,-0.1873962343481819],[0.9895370539889047,1.0,0.646475242861109,0.16946136022972536,-0.21528302426036328],[0.6435170928988454,0.646475242861109,1.0,-0.05999334087885598,-0.25379383357496016],[0.15541509545520527,0.16946136022972536,-0.05999334087885598,1.0,-0.26689462353335924],[-0.1873962343481819,-0.21528302426036328,-0.25379383357496016,-0.26689462353335924,1.0]],\"type\":\"heatmap\",\"xaxis\":\"x\",\"yaxis\":\"y\",\"hovertemplate\":\"x: %{x}<br>y: %{y}<br>color: %{z}<extra></extra>\"}],                        {\"template\":{\"data\":{\"bar\":[{\"error_x\":{\"color\":\"#2a3f5f\"},\"error_y\":{\"color\":\"#2a3f5f\"},\"marker\":{\"line\":{\"color\":\"#E5ECF6\",\"width\":0.5},\"pattern\":{\"fillmode\":\"overlay\",\"size\":10,\"solidity\":0.2}},\"type\":\"bar\"}],\"barpolar\":[{\"marker\":{\"line\":{\"color\":\"#E5ECF6\",\"width\":0.5},\"pattern\":{\"fillmode\":\"overlay\",\"size\":10,\"solidity\":0.2}},\"type\":\"barpolar\"}],\"carpet\":[{\"aaxis\":{\"endlinecolor\":\"#2a3f5f\",\"gridcolor\":\"white\",\"linecolor\":\"white\",\"minorgridcolor\":\"white\",\"startlinecolor\":\"#2a3f5f\"},\"baxis\":{\"endlinecolor\":\"#2a3f5f\",\"gridcolor\":\"white\",\"linecolor\":\"white\",\"minorgridcolor\":\"white\",\"startlinecolor\":\"#2a3f5f\"},\"type\":\"carpet\"}],\"choropleth\":[{\"colorbar\":{\"outlinewidth\":0,\"ticks\":\"\"},\"type\":\"choropleth\"}],\"contour\":[{\"colorbar\":{\"outlinewidth\":0,\"ticks\":\"\"},\"colorscale\":[[0.0,\"#0d0887\"],[0.1111111111111111,\"#46039f\"],[0.2222222222222222,\"#7201a8\"],[0.3333333333333333,\"#9c179e\"],[0.4444444444444444,\"#bd3786\"],[0.5555555555555556,\"#d8576b\"],[0.6666666666666666,\"#ed7953\"],[0.7777777777777778,\"#fb9f3a\"],[0.8888888888888888,\"#fdca26\"],[1.0,\"#f0f921\"]],\"type\":\"contour\"}],\"contourcarpet\":[{\"colorbar\":{\"outlinewidth\":0,\"ticks\":\"\"},\"type\":\"contourcarpet\"}],\"heatmap\":[{\"colorbar\":{\"outlinewidth\":0,\"ticks\":\"\"},\"colorscale\":[[0.0,\"#0d0887\"],[0.1111111111111111,\"#46039f\"],[0.2222222222222222,\"#7201a8\"],[0.3333333333333333,\"#9c179e\"],[0.4444444444444444,\"#bd3786\"],[0.5555555555555556,\"#d8576b\"],[0.6666666666666666,\"#ed7953\"],[0.7777777777777778,\"#fb9f3a\"],[0.8888888888888888,\"#fdca26\"],[1.0,\"#f0f921\"]],\"type\":\"heatmap\"}],\"heatmapgl\":[{\"colorbar\":{\"outlinewidth\":0,\"ticks\":\"\"},\"colorscale\":[[0.0,\"#0d0887\"],[0.1111111111111111,\"#46039f\"],[0.2222222222222222,\"#7201a8\"],[0.3333333333333333,\"#9c179e\"],[0.4444444444444444,\"#bd3786\"],[0.5555555555555556,\"#d8576b\"],[0.6666666666666666,\"#ed7953\"],[0.7777777777777778,\"#fb9f3a\"],[0.8888888888888888,\"#fdca26\"],[1.0,\"#f0f921\"]],\"type\":\"heatmapgl\"}],\"histogram\":[{\"marker\":{\"pattern\":{\"fillmode\":\"overlay\",\"size\":10,\"solidity\":0.2}},\"type\":\"histogram\"}],\"histogram2d\":[{\"colorbar\":{\"outlinewidth\":0,\"ticks\":\"\"},\"colorscale\":[[0.0,\"#0d0887\"],[0.1111111111111111,\"#46039f\"],[0.2222222222222222,\"#7201a8\"],[0.3333333333333333,\"#9c179e\"],[0.4444444444444444,\"#bd3786\"],[0.5555555555555556,\"#d8576b\"],[0.6666666666666666,\"#ed7953\"],[0.7777777777777778,\"#fb9f3a\"],[0.8888888888888888,\"#fdca26\"],[1.0,\"#f0f921\"]],\"type\":\"histogram2d\"}],\"histogram2dcontour\":[{\"colorbar\":{\"outlinewidth\":0,\"ticks\":\"\"},\"colorscale\":[[0.0,\"#0d0887\"],[0.1111111111111111,\"#46039f\"],[0.2222222222222222,\"#7201a8\"],[0.3333333333333333,\"#9c179e\"],[0.4444444444444444,\"#bd3786\"],[0.5555555555555556,\"#d8576b\"],[0.6666666666666666,\"#ed7953\"],[0.7777777777777778,\"#fb9f3a\"],[0.8888888888888888,\"#fdca26\"],[1.0,\"#f0f921\"]],\"type\":\"histogram2dcontour\"}],\"mesh3d\":[{\"colorbar\":{\"outlinewidth\":0,\"ticks\":\"\"},\"type\":\"mesh3d\"}],\"parcoords\":[{\"line\":{\"colorbar\":{\"outlinewidth\":0,\"ticks\":\"\"}},\"type\":\"parcoords\"}],\"pie\":[{\"automargin\":true,\"type\":\"pie\"}],\"scatter\":[{\"marker\":{\"colorbar\":{\"outlinewidth\":0,\"ticks\":\"\"}},\"type\":\"scatter\"}],\"scatter3d\":[{\"line\":{\"colorbar\":{\"outlinewidth\":0,\"ticks\":\"\"}},\"marker\":{\"colorbar\":{\"outlinewidth\":0,\"ticks\":\"\"}},\"type\":\"scatter3d\"}],\"scattercarpet\":[{\"marker\":{\"colorbar\":{\"outlinewidth\":0,\"ticks\":\"\"}},\"type\":\"scattercarpet\"}],\"scattergeo\":[{\"marker\":{\"colorbar\":{\"outlinewidth\":0,\"ticks\":\"\"}},\"type\":\"scattergeo\"}],\"scattergl\":[{\"marker\":{\"colorbar\":{\"outlinewidth\":0,\"ticks\":\"\"}},\"type\":\"scattergl\"}],\"scattermapbox\":[{\"marker\":{\"colorbar\":{\"outlinewidth\":0,\"ticks\":\"\"}},\"type\":\"scattermapbox\"}],\"scatterpolar\":[{\"marker\":{\"colorbar\":{\"outlinewidth\":0,\"ticks\":\"\"}},\"type\":\"scatterpolar\"}],\"scatterpolargl\":[{\"marker\":{\"colorbar\":{\"outlinewidth\":0,\"ticks\":\"\"}},\"type\":\"scatterpolargl\"}],\"scatterternary\":[{\"marker\":{\"colorbar\":{\"outlinewidth\":0,\"ticks\":\"\"}},\"type\":\"scatterternary\"}],\"surface\":[{\"colorbar\":{\"outlinewidth\":0,\"ticks\":\"\"},\"colorscale\":[[0.0,\"#0d0887\"],[0.1111111111111111,\"#46039f\"],[0.2222222222222222,\"#7201a8\"],[0.3333333333333333,\"#9c179e\"],[0.4444444444444444,\"#bd3786\"],[0.5555555555555556,\"#d8576b\"],[0.6666666666666666,\"#ed7953\"],[0.7777777777777778,\"#fb9f3a\"],[0.8888888888888888,\"#fdca26\"],[1.0,\"#f0f921\"]],\"type\":\"surface\"}],\"table\":[{\"cells\":{\"fill\":{\"color\":\"#EBF0F8\"},\"line\":{\"color\":\"white\"}},\"header\":{\"fill\":{\"color\":\"#C8D4E3\"},\"line\":{\"color\":\"white\"}},\"type\":\"table\"}]},\"layout\":{\"annotationdefaults\":{\"arrowcolor\":\"#2a3f5f\",\"arrowhead\":0,\"arrowwidth\":1},\"autotypenumbers\":\"strict\",\"coloraxis\":{\"colorbar\":{\"outlinewidth\":0,\"ticks\":\"\"}},\"colorscale\":{\"diverging\":[[0,\"#8e0152\"],[0.1,\"#c51b7d\"],[0.2,\"#de77ae\"],[0.3,\"#f1b6da\"],[0.4,\"#fde0ef\"],[0.5,\"#f7f7f7\"],[0.6,\"#e6f5d0\"],[0.7,\"#b8e186\"],[0.8,\"#7fbc41\"],[0.9,\"#4d9221\"],[1,\"#276419\"]],\"sequential\":[[0.0,\"#0d0887\"],[0.1111111111111111,\"#46039f\"],[0.2222222222222222,\"#7201a8\"],[0.3333333333333333,\"#9c179e\"],[0.4444444444444444,\"#bd3786\"],[0.5555555555555556,\"#d8576b\"],[0.6666666666666666,\"#ed7953\"],[0.7777777777777778,\"#fb9f3a\"],[0.8888888888888888,\"#fdca26\"],[1.0,\"#f0f921\"]],\"sequentialminus\":[[0.0,\"#0d0887\"],[0.1111111111111111,\"#46039f\"],[0.2222222222222222,\"#7201a8\"],[0.3333333333333333,\"#9c179e\"],[0.4444444444444444,\"#bd3786\"],[0.5555555555555556,\"#d8576b\"],[0.6666666666666666,\"#ed7953\"],[0.7777777777777778,\"#fb9f3a\"],[0.8888888888888888,\"#fdca26\"],[1.0,\"#f0f921\"]]},\"colorway\":[\"#636efa\",\"#EF553B\",\"#00cc96\",\"#ab63fa\",\"#FFA15A\",\"#19d3f3\",\"#FF6692\",\"#B6E880\",\"#FF97FF\",\"#FECB52\"],\"font\":{\"color\":\"#2a3f5f\"},\"geo\":{\"bgcolor\":\"white\",\"lakecolor\":\"white\",\"landcolor\":\"#E5ECF6\",\"showlakes\":true,\"showland\":true,\"subunitcolor\":\"white\"},\"hoverlabel\":{\"align\":\"left\"},\"hovermode\":\"closest\",\"mapbox\":{\"style\":\"light\"},\"paper_bgcolor\":\"white\",\"plot_bgcolor\":\"#E5ECF6\",\"polar\":{\"angularaxis\":{\"gridcolor\":\"white\",\"linecolor\":\"white\",\"ticks\":\"\"},\"bgcolor\":\"#E5ECF6\",\"radialaxis\":{\"gridcolor\":\"white\",\"linecolor\":\"white\",\"ticks\":\"\"}},\"scene\":{\"xaxis\":{\"backgroundcolor\":\"#E5ECF6\",\"gridcolor\":\"white\",\"gridwidth\":2,\"linecolor\":\"white\",\"showbackground\":true,\"ticks\":\"\",\"zerolinecolor\":\"white\"},\"yaxis\":{\"backgroundcolor\":\"#E5ECF6\",\"gridcolor\":\"white\",\"gridwidth\":2,\"linecolor\":\"white\",\"showbackground\":true,\"ticks\":\"\",\"zerolinecolor\":\"white\"},\"zaxis\":{\"backgroundcolor\":\"#E5ECF6\",\"gridcolor\":\"white\",\"gridwidth\":2,\"linecolor\":\"white\",\"showbackground\":true,\"ticks\":\"\",\"zerolinecolor\":\"white\"}},\"shapedefaults\":{\"line\":{\"color\":\"#2a3f5f\"}},\"ternary\":{\"aaxis\":{\"gridcolor\":\"white\",\"linecolor\":\"white\",\"ticks\":\"\"},\"baxis\":{\"gridcolor\":\"white\",\"linecolor\":\"white\",\"ticks\":\"\"},\"bgcolor\":\"#E5ECF6\",\"caxis\":{\"gridcolor\":\"white\",\"linecolor\":\"white\",\"ticks\":\"\"}},\"title\":{\"x\":0.05},\"xaxis\":{\"automargin\":true,\"gridcolor\":\"white\",\"linecolor\":\"white\",\"ticks\":\"\",\"title\":{\"standoff\":15},\"zerolinecolor\":\"white\",\"zerolinewidth\":2},\"yaxis\":{\"automargin\":true,\"gridcolor\":\"white\",\"linecolor\":\"white\",\"ticks\":\"\",\"title\":{\"standoff\":15},\"zerolinecolor\":\"white\",\"zerolinewidth\":2}}},\"xaxis\":{\"anchor\":\"y\",\"domain\":[0.0,1.0],\"scaleanchor\":\"y\",\"constrain\":\"domain\"},\"yaxis\":{\"anchor\":\"x\",\"domain\":[0.0,1.0],\"autorange\":\"reversed\",\"constrain\":\"domain\"},\"coloraxis\":{\"colorscale\":[[0.0,\"#0d0887\"],[0.1111111111111111,\"#46039f\"],[0.2222222222222222,\"#7201a8\"],[0.3333333333333333,\"#9c179e\"],[0.4444444444444444,\"#bd3786\"],[0.5555555555555556,\"#d8576b\"],[0.6666666666666666,\"#ed7953\"],[0.7777777777777778,\"#fb9f3a\"],[0.8888888888888888,\"#fdca26\"],[1.0,\"#f0f921\"]]},\"margin\":{\"t\":60}},                        {\"responsive\": true}                    ).then(function(){\n",
              "                            \n",
              "var gd = document.getElementById('01195538-c3bf-447b-b937-a160995c89c5');\n",
              "var x = new MutationObserver(function (mutations, observer) {{\n",
              "        var display = window.getComputedStyle(gd).display;\n",
              "        if (!display || display === 'none') {{\n",
              "            console.log([gd, 'removed!']);\n",
              "            Plotly.purge(gd);\n",
              "            observer.disconnect();\n",
              "        }}\n",
              "}});\n",
              "\n",
              "// Listen for the removal of the full notebook cells\n",
              "var notebookContainer = gd.closest('#notebook-container');\n",
              "if (notebookContainer) {{\n",
              "    x.observe(notebookContainer, {childList: true});\n",
              "}}\n",
              "\n",
              "// Listen for the clearing of the current output cell\n",
              "var outputEl = gd.closest('.output');\n",
              "if (outputEl) {{\n",
              "    x.observe(outputEl, {childList: true});\n",
              "}}\n",
              "\n",
              "                        })                };                            </script>        </div>\n",
              "</body>\n",
              "</html>"
            ]
          },
          "metadata": {}
        }
      ]
    },
    {
      "cell_type": "markdown",
      "source": [
        "#### Observations\n",
        "\n",
        "*   Temperature and feeling temperature are highly correlated. We see VIFs in later sections below\n",
        "*   As feeling tempeterature ('atemp')  is correlated with bike rentals we start with this variable first to build a model\n",
        "\n"
      ],
      "metadata": {
        "id": "9gTRHzLTJR6y"
      }
    },
    {
      "cell_type": "markdown",
      "source": [
        "## Step 5: Building a linear model"
      ],
      "metadata": {
        "id": "ckJqTiksJq8L"
      }
    },
    {
      "cell_type": "code",
      "source": [
        "y_train = bike_train_df.pop('cnt')\n",
        "X_train = bike_train_df\n",
        "y_test = bike_test_df.pop('cnt')\n",
        "X_test = bike_test_df\n",
        "X_train_sk = X_train.copy()\n",
        "y_train_sk = y_train.copy()"
      ],
      "metadata": {
        "id": "Thav27W3JsCJ"
      },
      "execution_count": 360,
      "outputs": []
    },
    {
      "cell_type": "markdown",
      "source": [
        "## Manual - Model 1"
      ],
      "metadata": {
        "id": "35x0q74dTq6o"
      }
    },
    {
      "cell_type": "code",
      "source": [
        "def linear_model(x_vars,df):\n",
        "  X_train_lm = sm.add_constant(df[x_vars])\n",
        "  model =  sm.OLS(y_train, X_train_lm).fit()\n",
        "  print(model.summary())\n",
        "  return model\n",
        "\n"
      ],
      "metadata": {
        "id": "t3DZFIiLLAln"
      },
      "execution_count": 361,
      "outputs": []
    },
    {
      "cell_type": "markdown",
      "source": [
        "#### Let's build a linear regression model with one variable 'atemp' first as this has high correlation with dependent variable 'cnt'"
      ],
      "metadata": {
        "id": "6sWaXZYnl9VO"
      }
    },
    {
      "cell_type": "code",
      "source": [
        "lr_atemp = linear_model(['atemp'],X_train)\n"
      ],
      "metadata": {
        "colab": {
          "base_uri": "https://localhost:8080/"
        },
        "id": "eIHPVCgqLSbl",
        "outputId": "6bec4d0c-6154-4acf-c102-df8fb3c7337b"
      },
      "execution_count": 362,
      "outputs": [
        {
          "output_type": "stream",
          "name": "stdout",
          "text": [
            "                            OLS Regression Results                            \n",
            "==============================================================================\n",
            "Dep. Variable:                    cnt   R-squared:                       0.418\n",
            "Model:                            OLS   Adj. R-squared:                  0.417\n",
            "Method:                 Least Squares   F-statistic:                     364.7\n",
            "Date:                Fri, 03 Jun 2022   Prob (F-statistic):           1.10e-61\n",
            "Time:                        02:01:17   Log-Likelihood:                 176.51\n",
            "No. Observations:                 510   AIC:                            -349.0\n",
            "Df Residuals:                     508   BIC:                            -340.5\n",
            "Df Model:                           1                                         \n",
            "Covariance Type:            nonrobust                                         \n",
            "==============================================================================\n",
            "                 coef    std err          t      P>|t|      [0.025      0.975]\n",
            "------------------------------------------------------------------------------\n",
            "const          0.1629      0.020      8.199      0.000       0.124       0.202\n",
            "atemp          0.6836      0.036     19.098      0.000       0.613       0.754\n",
            "==============================================================================\n",
            "Omnibus:                        3.316   Durbin-Watson:                   2.080\n",
            "Prob(Omnibus):                  0.190   Jarque-Bera (JB):                2.842\n",
            "Skew:                           0.090   Prob(JB):                        0.241\n",
            "Kurtosis:                       2.682   Cond. No.                         6.00\n",
            "==============================================================================\n",
            "\n",
            "Warnings:\n",
            "[1] Standard Errors assume that the covariance matrix of the errors is correctly specified.\n"
          ]
        },
        {
          "output_type": "stream",
          "name": "stderr",
          "text": [
            "/usr/local/lib/python3.7/dist-packages/statsmodels/tsa/tsatools.py:117: FutureWarning:\n",
            "\n",
            "In a future version of pandas all arguments of concat except for the argument 'objs' will be keyword-only\n",
            "\n"
          ]
        }
      ]
    },
    {
      "cell_type": "markdown",
      "source": [
        "Lets also build with 'temp' variable alone.  As we know 'temp and 'atemp' are highly correlated we need to drop of of these."
      ],
      "metadata": {
        "id": "--StqJF1mIpg"
      }
    },
    {
      "cell_type": "markdown",
      "source": [
        "## Manual - Model 2"
      ],
      "metadata": {
        "id": "Ayv9ofwzTxOK"
      }
    },
    {
      "cell_type": "code",
      "source": [
        "lr_temp = linear_model(['temp'],X_train)"
      ],
      "metadata": {
        "colab": {
          "base_uri": "https://localhost:8080/"
        },
        "id": "RmHNq1YGmIO6",
        "outputId": "0768fc09-21f4-43c2-c137-9b8a68061202"
      },
      "execution_count": 363,
      "outputs": [
        {
          "output_type": "stream",
          "name": "stdout",
          "text": [
            "                            OLS Regression Results                            \n",
            "==============================================================================\n",
            "Dep. Variable:                    cnt   R-squared:                       0.414\n",
            "Model:                            OLS   Adj. R-squared:                  0.413\n",
            "Method:                 Least Squares   F-statistic:                     359.1\n",
            "Date:                Fri, 03 Jun 2022   Prob (F-statistic):           5.80e-61\n",
            "Time:                        02:01:17   Log-Likelihood:                 174.84\n",
            "No. Observations:                 510   AIC:                            -345.7\n",
            "Df Residuals:                     508   BIC:                            -337.2\n",
            "Df Model:                           1                                         \n",
            "Covariance Type:            nonrobust                                         \n",
            "==============================================================================\n",
            "                 coef    std err          t      P>|t|      [0.025      0.975]\n",
            "------------------------------------------------------------------------------\n",
            "const          0.1698      0.020      8.628      0.000       0.131       0.208\n",
            "temp           0.6400      0.034     18.949      0.000       0.574       0.706\n",
            "==============================================================================\n",
            "Omnibus:                        6.280   Durbin-Watson:                   2.047\n",
            "Prob(Omnibus):                  0.043   Jarque-Bera (JB):                4.555\n",
            "Skew:                           0.098   Prob(JB):                        0.103\n",
            "Kurtosis:                       2.580   Cond. No.                         5.76\n",
            "==============================================================================\n",
            "\n",
            "Warnings:\n",
            "[1] Standard Errors assume that the covariance matrix of the errors is correctly specified.\n"
          ]
        },
        {
          "output_type": "stream",
          "name": "stderr",
          "text": [
            "/usr/local/lib/python3.7/dist-packages/statsmodels/tsa/tsatools.py:117: FutureWarning:\n",
            "\n",
            "In a future version of pandas all arguments of concat except for the argument 'objs' will be keyword-only\n",
            "\n"
          ]
        }
      ]
    },
    {
      "cell_type": "markdown",
      "source": [
        "#### Let's build a model together with 'temp' annd 'atemp"
      ],
      "metadata": {
        "id": "i5wRi_WgmezN"
      }
    },
    {
      "cell_type": "markdown",
      "source": [
        "## Manual - Model 3"
      ],
      "metadata": {
        "id": "cCigL83UTytj"
      }
    },
    {
      "cell_type": "code",
      "source": [
        "lr2 = linear_model(['temp','atemp'],X_train)"
      ],
      "metadata": {
        "colab": {
          "base_uri": "https://localhost:8080/"
        },
        "id": "J1xVGFGLLhkK",
        "outputId": "43b8a4f6-e873-4edb-b430-1108ba42212b"
      },
      "execution_count": 364,
      "outputs": [
        {
          "output_type": "stream",
          "name": "stdout",
          "text": [
            "                            OLS Regression Results                            \n",
            "==============================================================================\n",
            "Dep. Variable:                    cnt   R-squared:                       0.419\n",
            "Model:                            OLS   Adj. R-squared:                  0.416\n",
            "Method:                 Least Squares   F-statistic:                     182.5\n",
            "Date:                Fri, 03 Jun 2022   Prob (F-statistic):           1.95e-60\n",
            "Time:                        02:01:17   Log-Likelihood:                 176.81\n",
            "No. Observations:                 510   AIC:                            -347.6\n",
            "Df Residuals:                     507   BIC:                            -334.9\n",
            "Df Model:                           2                                         \n",
            "Covariance Type:            nonrobust                                         \n",
            "==============================================================================\n",
            "                 coef    std err          t      P>|t|      [0.025      0.975]\n",
            "------------------------------------------------------------------------------\n",
            "const          0.1634      0.020      8.215      0.000       0.124       0.202\n",
            "temp           0.1818      0.233      0.779      0.436      -0.277       0.640\n",
            "atemp          0.4923      0.248      1.984      0.048       0.005       0.980\n",
            "==============================================================================\n",
            "Omnibus:                        4.934   Durbin-Watson:                   2.072\n",
            "Prob(Omnibus):                  0.085   Jarque-Bera (JB):                3.720\n",
            "Skew:                           0.079   Prob(JB):                        0.156\n",
            "Kurtosis:                       2.612   Cond. No.                         56.3\n",
            "==============================================================================\n",
            "\n",
            "Warnings:\n",
            "[1] Standard Errors assume that the covariance matrix of the errors is correctly specified.\n"
          ]
        },
        {
          "output_type": "stream",
          "name": "stderr",
          "text": [
            "/usr/local/lib/python3.7/dist-packages/statsmodels/tsa/tsatools.py:117: FutureWarning:\n",
            "\n",
            "In a future version of pandas all arguments of concat except for the argument 'objs' will be keyword-only\n",
            "\n"
          ]
        }
      ]
    },
    {
      "cell_type": "markdown",
      "source": [
        "#### Observations\n",
        "\n",
        "\n",
        "*   We can clearly see that when we add feeling temperature('atemp') and 'temp' though R2 increased very slightly  F-Static value decreased significantly. That means overall model is not good fit.\n",
        "*   We can obviously see the P- value of temp is greater than significane level we need to remove this from our model. Let's also see VIF as we saw in correlation matrix temp and atemp are highly correlated.\n",
        "\n"
      ],
      "metadata": {
        "id": "ruQ1tozONnHt"
      }
    },
    {
      "cell_type": "code",
      "source": [
        "def get_vif(df):\n",
        "  vif = pd.DataFrame()\n",
        "  vif['features'] = df.columns\n",
        "  vif['VIF'] = [variance_inflation_factor(df.values, i) for i in range(df.shape[1])]\n",
        "  vif['VIF'] = round(vif['VIF'], 2)\n",
        "  vif = vif.sort_values(by = \"VIF\", ascending = False)\n",
        "  print(vif)"
      ],
      "metadata": {
        "id": "vvUsIURGMU1_"
      },
      "execution_count": 365,
      "outputs": []
    },
    {
      "cell_type": "code",
      "source": [
        "get_vif(bike_train_df)"
      ],
      "metadata": {
        "colab": {
          "base_uri": "https://localhost:8080/"
        },
        "id": "pw6geoyyO4wL",
        "outputId": "dddc7123-fb0a-42b7-f6cc-edf7d1de8f4d"
      },
      "execution_count": 366,
      "outputs": [
        {
          "output_type": "stream",
          "name": "stderr",
          "text": [
            "/usr/local/lib/python3.7/dist-packages/statsmodels/stats/outliers_influence.py:185: RuntimeWarning:\n",
            "\n",
            "divide by zero encountered in double_scalars\n",
            "\n"
          ]
        },
        {
          "output_type": "stream",
          "name": "stdout",
          "text": [
            "           features     VIF\n",
            "24        Weekday_2     inf\n",
            "2        workingday     inf\n",
            "23        Weekday_1     inf\n",
            "27        Weekday_5     inf\n",
            "26        Weekday_4     inf\n",
            "25        Weekday_3     inf\n",
            "1           holiday     inf\n",
            "3              temp  447.70\n",
            "4             atemp  383.54\n",
            "5               hum   20.79\n",
            "8            isFall   15.42\n",
            "16          Month_8   11.01\n",
            "9          isWinter   10.93\n",
            "15          Month_7    9.62\n",
            "7          isSummer    8.88\n",
            "14          Month_6    7.35\n",
            "17          Month_9    7.34\n",
            "13          Month_5    7.16\n",
            "18         Month_10    6.64\n",
            "19         Month_11    5.99\n",
            "12          Month_4    5.64\n",
            "6         windspeed    4.71\n",
            "20         Month_12    3.78\n",
            "11          Month_3    3.06\n",
            "21             Mist    2.21\n",
            "0                yr    2.09\n",
            "28        Weekday_6    1.93\n",
            "10          Month_2    1.71\n",
            "22  Light_Snow_Rain    1.23\n"
          ]
        }
      ]
    },
    {
      "cell_type": "markdown",
      "source": [
        "#### Observation\n",
        "\n",
        "\n",
        "*   'temp' variable VIF is also highest among all variables. and also P > significance level of 0.05. So we can eliminate 'temp' from our model features.\n",
        "\n"
      ],
      "metadata": {
        "id": "CcPOhPygOmI6"
      }
    },
    {
      "cell_type": "markdown",
      "source": [
        "## Manual - Model 4"
      ],
      "metadata": {
        "id": "06rgQkLaT2bi"
      }
    },
    {
      "cell_type": "code",
      "source": [
        "## Add one more variable 'hum'\n",
        "lr3 = linear_model(['atemp','hum'],X_train)"
      ],
      "metadata": {
        "colab": {
          "base_uri": "https://localhost:8080/"
        },
        "id": "GEZnXs4YO8qv",
        "outputId": "c6f10a75-db44-4845-8414-a6d79e0a3367"
      },
      "execution_count": 367,
      "outputs": [
        {
          "output_type": "stream",
          "name": "stderr",
          "text": [
            "/usr/local/lib/python3.7/dist-packages/statsmodels/tsa/tsatools.py:117: FutureWarning:\n",
            "\n",
            "In a future version of pandas all arguments of concat except for the argument 'objs' will be keyword-only\n",
            "\n"
          ]
        },
        {
          "output_type": "stream",
          "name": "stdout",
          "text": [
            "                            OLS Regression Results                            \n",
            "==============================================================================\n",
            "Dep. Variable:                    cnt   R-squared:                       0.448\n",
            "Model:                            OLS   Adj. R-squared:                  0.445\n",
            "Method:                 Least Squares   F-statistic:                     205.3\n",
            "Date:                Fri, 03 Jun 2022   Prob (F-statistic):           4.74e-66\n",
            "Time:                        02:01:18   Log-Likelihood:                 189.81\n",
            "No. Observations:                 510   AIC:                            -373.6\n",
            "Df Residuals:                     507   BIC:                            -360.9\n",
            "Df Model:                           2                                         \n",
            "Covariance Type:            nonrobust                                         \n",
            "==============================================================================\n",
            "                 coef    std err          t      P>|t|      [0.025      0.975]\n",
            "------------------------------------------------------------------------------\n",
            "const          0.3217      0.036      8.910      0.000       0.251       0.393\n",
            "atemp          0.7149      0.035     20.184      0.000       0.645       0.785\n",
            "hum           -0.2687      0.052     -5.211      0.000      -0.370      -0.167\n",
            "==============================================================================\n",
            "Omnibus:                        1.079   Durbin-Watson:                   2.063\n",
            "Prob(Omnibus):                  0.583   Jarque-Bera (JB):                1.150\n",
            "Skew:                           0.065   Prob(JB):                        0.563\n",
            "Kurtosis:                       2.807   Cond. No.                         10.7\n",
            "==============================================================================\n",
            "\n",
            "Warnings:\n",
            "[1] Standard Errors assume that the covariance matrix of the errors is correctly specified.\n"
          ]
        }
      ]
    },
    {
      "cell_type": "markdown",
      "source": [
        "#### Observations\n",
        "\n",
        "*   R2 increased from 0.418 to 0.448\n",
        "\n",
        "\n"
      ],
      "metadata": {
        "id": "rhiqHWl1nrxo"
      }
    },
    {
      "cell_type": "markdown",
      "source": [
        "## Manual - Model 5"
      ],
      "metadata": {
        "id": "MpGvI78iT4zk"
      }
    },
    {
      "cell_type": "code",
      "source": [
        "## Add one more variable 'windspeed'\n",
        "lr4 = linear_model(['atemp','hum','windspeed'],X_train)"
      ],
      "metadata": {
        "colab": {
          "base_uri": "https://localhost:8080/"
        },
        "id": "epw5moGsPXHi",
        "outputId": "4dc57212-1883-484a-e3c5-810ad01255ad"
      },
      "execution_count": 368,
      "outputs": [
        {
          "output_type": "stream",
          "name": "stdout",
          "text": [
            "                            OLS Regression Results                            \n",
            "==============================================================================\n",
            "Dep. Variable:                    cnt   R-squared:                       0.474\n",
            "Model:                            OLS   Adj. R-squared:                  0.471\n",
            "Method:                 Least Squares   F-statistic:                     152.1\n",
            "Date:                Fri, 03 Jun 2022   Prob (F-statistic):           2.90e-70\n",
            "Time:                        02:01:18   Log-Likelihood:                 202.43\n",
            "No. Observations:                 510   AIC:                            -396.9\n",
            "Df Residuals:                     506   BIC:                            -379.9\n",
            "Df Model:                           3                                         \n",
            "Covariance Type:            nonrobust                                         \n",
            "==============================================================================\n",
            "                 coef    std err          t      P>|t|      [0.025      0.975]\n",
            "------------------------------------------------------------------------------\n",
            "const          0.4520      0.044     10.357      0.000       0.366       0.538\n",
            "atemp          0.6830      0.035     19.428      0.000       0.614       0.752\n",
            "hum           -0.3316      0.052     -6.394      0.000      -0.434      -0.230\n",
            "windspeed     -0.2278      0.045     -5.066      0.000      -0.316      -0.139\n",
            "==============================================================================\n",
            "Omnibus:                        1.351   Durbin-Watson:                   2.073\n",
            "Prob(Omnibus):                  0.509   Jarque-Bera (JB):                1.435\n",
            "Skew:                           0.097   Prob(JB):                        0.488\n",
            "Kurtosis:                       2.827   Cond. No.                         12.7\n",
            "==============================================================================\n",
            "\n",
            "Warnings:\n",
            "[1] Standard Errors assume that the covariance matrix of the errors is correctly specified.\n"
          ]
        },
        {
          "output_type": "stream",
          "name": "stderr",
          "text": [
            "/usr/local/lib/python3.7/dist-packages/statsmodels/tsa/tsatools.py:117: FutureWarning:\n",
            "\n",
            "In a future version of pandas all arguments of concat except for the argument 'objs' will be keyword-only\n",
            "\n"
          ]
        }
      ]
    },
    {
      "cell_type": "markdown",
      "source": [
        "#### Observations\n",
        "\n",
        "*   R2 increased from 0.448 to 0.474"
      ],
      "metadata": {
        "id": "AS2jA1Rbn5jk"
      }
    },
    {
      "cell_type": "markdown",
      "source": [
        "Let's include all variables and see ...."
      ],
      "metadata": {
        "id": "FYp-HddSoMFN"
      }
    },
    {
      "cell_type": "markdown",
      "source": [
        "## Manual - Model 6"
      ],
      "metadata": {
        "id": "7YQKT5aQT6VY"
      }
    },
    {
      "cell_type": "code",
      "source": [
        "### Adding All variables to Model\n",
        "lr_all = linear_model(X_train.columns,X_train)"
      ],
      "metadata": {
        "colab": {
          "base_uri": "https://localhost:8080/"
        },
        "id": "bKG3DBCDQb5q",
        "outputId": "54d72a8b-eb09-4974-907b-4d1e8862deb5"
      },
      "execution_count": 369,
      "outputs": [
        {
          "output_type": "stream",
          "name": "stdout",
          "text": [
            "                            OLS Regression Results                            \n",
            "==============================================================================\n",
            "Dep. Variable:                    cnt   R-squared:                       0.853\n",
            "Model:                            OLS   Adj. R-squared:                  0.845\n",
            "Method:                 Least Squares   F-statistic:                     99.96\n",
            "Date:                Fri, 03 Jun 2022   Prob (F-statistic):          8.42e-181\n",
            "Time:                        02:01:18   Log-Likelihood:                 528.03\n",
            "No. Observations:                 510   AIC:                            -998.1\n",
            "Df Residuals:                     481   BIC:                            -875.3\n",
            "Df Model:                          28                                         \n",
            "Covariance Type:            nonrobust                                         \n",
            "===================================================================================\n",
            "                      coef    std err          t      P>|t|      [0.025      0.975]\n",
            "-----------------------------------------------------------------------------------\n",
            "const               0.1756      0.030      5.777      0.000       0.116       0.235\n",
            "yr                  0.2322      0.008     28.792      0.000       0.216       0.248\n",
            "holiday            -0.0424      0.024     -1.793      0.074      -0.089       0.004\n",
            "workingday          0.0439      0.009      4.689      0.000       0.025       0.062\n",
            "temp                0.4013      0.142      2.821      0.005       0.122       0.681\n",
            "atemp               0.0506      0.138      0.366      0.714      -0.221       0.322\n",
            "hum                -0.1518      0.039     -3.940      0.000      -0.228      -0.076\n",
            "windspeed          -0.1844      0.026     -7.003      0.000      -0.236      -0.133\n",
            "isSummer            0.0868      0.024      3.679      0.000       0.040       0.133\n",
            "isFall              0.0486      0.030      1.618      0.106      -0.010       0.108\n",
            "isWinter            0.1540      0.026      5.932      0.000       0.103       0.205\n",
            "Month_2             0.0304      0.021      1.474      0.141      -0.010       0.071\n",
            "Month_3             0.0639      0.022      2.857      0.004       0.020       0.108\n",
            "Month_4             0.0626      0.034      1.864      0.063      -0.003       0.129\n",
            "Month_5             0.0873      0.036      2.412      0.016       0.016       0.158\n",
            "Month_6             0.0609      0.039      1.556      0.120      -0.016       0.138\n",
            "Month_7             0.0233      0.044      0.529      0.597      -0.063       0.110\n",
            "Month_8             0.0786      0.042      1.873      0.062      -0.004       0.161\n",
            "Month_9             0.1444      0.037      3.853      0.000       0.071       0.218\n",
            "Month_10            0.0703      0.034      2.041      0.042       0.003       0.138\n",
            "Month_11            0.0208      0.033      0.633      0.527      -0.044       0.085\n",
            "Month_12            0.0170      0.027      0.641      0.522      -0.035       0.069\n",
            "Mist               -0.0610      0.010     -5.845      0.000      -0.082      -0.041\n",
            "Light_Snow_Rain    -0.2567      0.026     -9.712      0.000      -0.309      -0.205\n",
            "Weekday_1          -0.0099      0.010     -1.023      0.307      -0.029       0.009\n",
            "Weekday_2          -0.0078      0.011     -0.695      0.488      -0.030       0.014\n",
            "Weekday_3           0.0058      0.011      0.554      0.580      -0.015       0.026\n",
            "Weekday_4           0.0018      0.011      0.165      0.869      -0.020       0.023\n",
            "Weekday_5           0.0116      0.011      1.031      0.303      -0.010       0.034\n",
            "Weekday_6           0.0545      0.015      3.757      0.000       0.026       0.083\n",
            "==============================================================================\n",
            "Omnibus:                       85.143   Durbin-Watson:                   2.041\n",
            "Prob(Omnibus):                  0.000   Jarque-Bera (JB):              237.880\n",
            "Skew:                          -0.809   Prob(JB):                     2.21e-52\n",
            "Kurtosis:                       5.929   Cond. No.                     7.88e+15\n",
            "==============================================================================\n",
            "\n",
            "Warnings:\n",
            "[1] Standard Errors assume that the covariance matrix of the errors is correctly specified.\n",
            "[2] The smallest eigenvalue is 2.81e-29. This might indicate that there are\n",
            "strong multicollinearity problems or that the design matrix is singular.\n"
          ]
        },
        {
          "output_type": "stream",
          "name": "stderr",
          "text": [
            "/usr/local/lib/python3.7/dist-packages/statsmodels/tsa/tsatools.py:117: FutureWarning:\n",
            "\n",
            "In a future version of pandas all arguments of concat except for the argument 'objs' will be keyword-only\n",
            "\n"
          ]
        }
      ]
    },
    {
      "cell_type": "markdown",
      "source": [
        "#### Observations\n",
        "\n",
        "*  Weekday_4 has highest P value and so delete this feature and rebuild the model.\n",
        "\n"
      ],
      "metadata": {
        "id": "1_YYI1qqoV8f"
      }
    },
    {
      "cell_type": "code",
      "source": [
        "X_train.drop(['Weekday_4'],axis=1,inplace=True)\n"
      ],
      "metadata": {
        "id": "xmf5i4fiQ-oj"
      },
      "execution_count": 370,
      "outputs": []
    },
    {
      "cell_type": "markdown",
      "source": [
        "## Manual - Model 7"
      ],
      "metadata": {
        "id": "IdiTKSjST8f7"
      }
    },
    {
      "cell_type": "code",
      "source": [
        "lr_all = linear_model(X_train.columns,X_train)"
      ],
      "metadata": {
        "colab": {
          "base_uri": "https://localhost:8080/"
        },
        "id": "r29sXYaxRGDa",
        "outputId": "fd53c8b6-8d7d-4926-d80c-b26f80cf48ad"
      },
      "execution_count": 371,
      "outputs": [
        {
          "output_type": "stream",
          "name": "stdout",
          "text": [
            "                            OLS Regression Results                            \n",
            "==============================================================================\n",
            "Dep. Variable:                    cnt   R-squared:                       0.853\n",
            "Model:                            OLS   Adj. R-squared:                  0.845\n",
            "Method:                 Least Squares   F-statistic:                     99.96\n",
            "Date:                Fri, 03 Jun 2022   Prob (F-statistic):          8.42e-181\n",
            "Time:                        02:01:18   Log-Likelihood:                 528.03\n",
            "No. Observations:                 510   AIC:                            -998.1\n",
            "Df Residuals:                     481   BIC:                            -875.3\n",
            "Df Model:                          28                                         \n",
            "Covariance Type:            nonrobust                                         \n",
            "===================================================================================\n",
            "                      coef    std err          t      P>|t|      [0.025      0.975]\n",
            "-----------------------------------------------------------------------------------\n",
            "const               0.1756      0.030      5.777      0.000       0.116       0.235\n",
            "yr                  0.2322      0.008     28.792      0.000       0.216       0.248\n",
            "holiday            -0.0406      0.030     -1.351      0.177      -0.100       0.018\n",
            "workingday          0.0457      0.015      3.016      0.003       0.016       0.075\n",
            "temp                0.4013      0.142      2.821      0.005       0.122       0.681\n",
            "atemp               0.0506      0.138      0.366      0.714      -0.221       0.322\n",
            "hum                -0.1518      0.039     -3.940      0.000      -0.228      -0.076\n",
            "windspeed          -0.1844      0.026     -7.003      0.000      -0.236      -0.133\n",
            "isSummer            0.0868      0.024      3.679      0.000       0.040       0.133\n",
            "isFall              0.0486      0.030      1.618      0.106      -0.010       0.108\n",
            "isWinter            0.1540      0.026      5.932      0.000       0.103       0.205\n",
            "Month_2             0.0304      0.021      1.474      0.141      -0.010       0.071\n",
            "Month_3             0.0639      0.022      2.857      0.004       0.020       0.108\n",
            "Month_4             0.0626      0.034      1.864      0.063      -0.003       0.129\n",
            "Month_5             0.0873      0.036      2.412      0.016       0.016       0.158\n",
            "Month_6             0.0609      0.039      1.556      0.120      -0.016       0.138\n",
            "Month_7             0.0233      0.044      0.529      0.597      -0.063       0.110\n",
            "Month_8             0.0786      0.042      1.873      0.062      -0.004       0.161\n",
            "Month_9             0.1444      0.037      3.853      0.000       0.071       0.218\n",
            "Month_10            0.0703      0.034      2.041      0.042       0.003       0.138\n",
            "Month_11            0.0208      0.033      0.633      0.527      -0.044       0.085\n",
            "Month_12            0.0170      0.027      0.641      0.522      -0.035       0.069\n",
            "Mist               -0.0610      0.010     -5.845      0.000      -0.082      -0.041\n",
            "Light_Snow_Rain    -0.2567      0.026     -9.712      0.000      -0.309      -0.205\n",
            "Weekday_1          -0.0118      0.015     -0.777      0.437      -0.041       0.018\n",
            "Weekday_2          -0.0096      0.015     -0.620      0.535      -0.040       0.021\n",
            "Weekday_3           0.0040      0.015      0.274      0.784      -0.025       0.033\n",
            "Weekday_5           0.0097      0.016      0.625      0.532      -0.021       0.040\n",
            "Weekday_6           0.0545      0.015      3.757      0.000       0.026       0.083\n",
            "==============================================================================\n",
            "Omnibus:                       85.143   Durbin-Watson:                   2.041\n",
            "Prob(Omnibus):                  0.000   Jarque-Bera (JB):              237.880\n",
            "Skew:                          -0.809   Prob(JB):                     2.21e-52\n",
            "Kurtosis:                       5.929   Cond. No.                         92.5\n",
            "==============================================================================\n",
            "\n",
            "Warnings:\n",
            "[1] Standard Errors assume that the covariance matrix of the errors is correctly specified.\n"
          ]
        },
        {
          "output_type": "stream",
          "name": "stderr",
          "text": [
            "/usr/local/lib/python3.7/dist-packages/statsmodels/tsa/tsatools.py:117: FutureWarning:\n",
            "\n",
            "In a future version of pandas all arguments of concat except for the argument 'objs' will be keyword-only\n",
            "\n"
          ]
        }
      ]
    },
    {
      "cell_type": "markdown",
      "source": [
        "### Observations\n",
        "\n",
        "\n",
        "*   There is no change in R2 even after we drop Weekday4. That means Weekday4 is not significance variable to describe the dependent variable 'cnt'\n",
        "*   Drop next highest P-value feature 'Weekday_3'\n",
        "\n"
      ],
      "metadata": {
        "id": "2IP4IzYQp6Ub"
      }
    },
    {
      "cell_type": "markdown",
      "source": [
        "## Manual - Model 8"
      ],
      "metadata": {
        "id": "xWe8sCyQT-4O"
      }
    },
    {
      "cell_type": "code",
      "source": [
        "X_train.drop(['Weekday_3'],axis=1,inplace=True)\n",
        "lr_all = linear_model(X_train.columns,X_train)"
      ],
      "metadata": {
        "colab": {
          "base_uri": "https://localhost:8080/"
        },
        "id": "epgsZF3zROLn",
        "outputId": "25e7abd5-4f70-4082-8722-fdf83f1ad2e3"
      },
      "execution_count": 372,
      "outputs": [
        {
          "output_type": "stream",
          "name": "stdout",
          "text": [
            "                            OLS Regression Results                            \n",
            "==============================================================================\n",
            "Dep. Variable:                    cnt   R-squared:                       0.853\n",
            "Model:                            OLS   Adj. R-squared:                  0.845\n",
            "Method:                 Least Squares   F-statistic:                     103.9\n",
            "Date:                Fri, 03 Jun 2022   Prob (F-statistic):          8.49e-182\n",
            "Time:                        02:01:18   Log-Likelihood:                 527.99\n",
            "No. Observations:                 510   AIC:                            -1000.\n",
            "Df Residuals:                     482   BIC:                            -881.4\n",
            "Df Model:                          27                                         \n",
            "Covariance Type:            nonrobust                                         \n",
            "===================================================================================\n",
            "                      coef    std err          t      P>|t|      [0.025      0.975]\n",
            "-----------------------------------------------------------------------------------\n",
            "const               0.1754      0.030      5.777      0.000       0.116       0.235\n",
            "yr                  0.2322      0.008     28.821      0.000       0.216       0.248\n",
            "holiday            -0.0387      0.029     -1.325      0.186      -0.096       0.019\n",
            "workingday          0.0479      0.013      3.734      0.000       0.023       0.073\n",
            "temp                0.4023      0.142      2.832      0.005       0.123       0.681\n",
            "atemp               0.0494      0.138      0.358      0.720      -0.222       0.321\n",
            "hum                -0.1515      0.038     -3.936      0.000      -0.227      -0.076\n",
            "windspeed          -0.1845      0.026     -7.014      0.000      -0.236      -0.133\n",
            "isSummer            0.0867      0.024      3.678      0.000       0.040       0.133\n",
            "isFall              0.0483      0.030      1.611      0.108      -0.011       0.107\n",
            "isWinter            0.1540      0.026      5.938      0.000       0.103       0.205\n",
            "Month_2             0.0305      0.021      1.482      0.139      -0.010       0.071\n",
            "Month_3             0.0638      0.022      2.858      0.004       0.020       0.108\n",
            "Month_4             0.0628      0.034      1.874      0.062      -0.003       0.129\n",
            "Month_5             0.0875      0.036      2.422      0.016       0.017       0.158\n",
            "Month_6             0.0612      0.039      1.567      0.118      -0.016       0.138\n",
            "Month_7             0.0236      0.044      0.537      0.592      -0.063       0.110\n",
            "Month_8             0.0789      0.042      1.883      0.060      -0.003       0.161\n",
            "Month_9             0.1446      0.037      3.863      0.000       0.071       0.218\n",
            "Month_10            0.0704      0.034      2.046      0.041       0.003       0.138\n",
            "Month_11            0.0207      0.033      0.631      0.528      -0.044       0.085\n",
            "Month_12            0.0169      0.026      0.637      0.525      -0.035       0.069\n",
            "Mist               -0.0610      0.010     -5.847      0.000      -0.081      -0.040\n",
            "Light_Snow_Rain    -0.2566      0.026     -9.718      0.000      -0.308      -0.205\n",
            "Weekday_1          -0.0139      0.013     -1.077      0.282      -0.039       0.011\n",
            "Weekday_2          -0.0118      0.013     -0.895      0.371      -0.038       0.014\n",
            "Weekday_5           0.0076      0.013      0.565      0.572      -0.019       0.034\n",
            "Weekday_6           0.0545      0.015      3.762      0.000       0.026       0.083\n",
            "==============================================================================\n",
            "Omnibus:                       85.557   Durbin-Watson:                   2.040\n",
            "Prob(Omnibus):                  0.000   Jarque-Bera (JB):              239.597\n",
            "Skew:                          -0.812   Prob(JB):                     9.38e-53\n",
            "Kurtosis:                       5.939   Cond. No.                         92.1\n",
            "==============================================================================\n",
            "\n",
            "Warnings:\n",
            "[1] Standard Errors assume that the covariance matrix of the errors is correctly specified.\n"
          ]
        },
        {
          "output_type": "stream",
          "name": "stderr",
          "text": [
            "/usr/local/lib/python3.7/dist-packages/statsmodels/tsa/tsatools.py:117: FutureWarning:\n",
            "\n",
            "In a future version of pandas all arguments of concat except for the argument 'objs' will be keyword-only\n",
            "\n"
          ]
        }
      ]
    },
    {
      "cell_type": "markdown",
      "source": [
        "#### Observations\n",
        "\n",
        "*   R2- still same and F-Static got increased and that means overall model is good compared to previous model.\n",
        "*   Drop the highest p-value column 'atemp'\n",
        "\n",
        "\n",
        "\n"
      ],
      "metadata": {
        "id": "Syrxco51qV_c"
      }
    },
    {
      "cell_type": "markdown",
      "source": [
        "## Manual - Model 9"
      ],
      "metadata": {
        "id": "hG3CZlkUUAak"
      }
    },
    {
      "cell_type": "code",
      "source": [
        "X_train.drop(['atemp'],axis=1,inplace=True)\n",
        "lr_all = linear_model(X_train.columns,X_train)"
      ],
      "metadata": {
        "colab": {
          "base_uri": "https://localhost:8080/"
        },
        "id": "7uBbE_vZRXqF",
        "outputId": "c61ec8bf-aa35-4413-93c6-2d842716baa7"
      },
      "execution_count": 373,
      "outputs": [
        {
          "output_type": "stream",
          "name": "stderr",
          "text": [
            "/usr/local/lib/python3.7/dist-packages/statsmodels/tsa/tsatools.py:117: FutureWarning:\n",
            "\n",
            "In a future version of pandas all arguments of concat except for the argument 'objs' will be keyword-only\n",
            "\n"
          ]
        },
        {
          "output_type": "stream",
          "name": "stdout",
          "text": [
            "                            OLS Regression Results                            \n",
            "==============================================================================\n",
            "Dep. Variable:                    cnt   R-squared:                       0.853\n",
            "Model:                            OLS   Adj. R-squared:                  0.845\n",
            "Method:                 Least Squares   F-statistic:                     108.0\n",
            "Date:                Fri, 03 Jun 2022   Prob (F-statistic):          8.61e-183\n",
            "Time:                        02:01:18   Log-Likelihood:                 527.92\n",
            "No. Observations:                 510   AIC:                            -1002.\n",
            "Df Residuals:                     483   BIC:                            -887.5\n",
            "Df Model:                          26                                         \n",
            "Covariance Type:            nonrobust                                         \n",
            "===================================================================================\n",
            "                      coef    std err          t      P>|t|      [0.025      0.975]\n",
            "-----------------------------------------------------------------------------------\n",
            "const               0.1758      0.030      5.799      0.000       0.116       0.235\n",
            "yr                  0.2321      0.008     28.850      0.000       0.216       0.248\n",
            "holiday            -0.0393      0.029     -1.349      0.178      -0.097       0.018\n",
            "workingday          0.0479      0.013      3.739      0.000       0.023       0.073\n",
            "temp                0.4504      0.046      9.741      0.000       0.360       0.541\n",
            "hum                -0.1510      0.038     -3.930      0.000      -0.226      -0.076\n",
            "windspeed          -0.1865      0.026     -7.265      0.000      -0.237      -0.136\n",
            "isSummer            0.0868      0.024      3.686      0.000       0.041       0.133\n",
            "isFall              0.0479      0.030      1.600      0.110      -0.011       0.107\n",
            "isWinter            0.1540      0.026      5.945      0.000       0.103       0.205\n",
            "Month_2             0.0306      0.021      1.488      0.137      -0.010       0.071\n",
            "Month_3             0.0638      0.022      2.859      0.004       0.020       0.108\n",
            "Month_4             0.0630      0.033      1.881      0.061      -0.003       0.129\n",
            "Month_5             0.0870      0.036      2.412      0.016       0.016       0.158\n",
            "Month_6             0.0602      0.039      1.546      0.123      -0.016       0.137\n",
            "Month_7             0.0228      0.044      0.519      0.604      -0.063       0.109\n",
            "Month_8             0.0775      0.042      1.859      0.064      -0.004       0.159\n",
            "Month_9             0.1441      0.037      3.856      0.000       0.071       0.217\n",
            "Month_10            0.0704      0.034      2.049      0.041       0.003       0.138\n",
            "Month_11            0.0209      0.033      0.636      0.525      -0.044       0.085\n",
            "Month_12            0.0171      0.026      0.645      0.519      -0.035       0.069\n",
            "Mist               -0.0610      0.010     -5.857      0.000      -0.082      -0.041\n",
            "Light_Snow_Rain    -0.2573      0.026     -9.784      0.000      -0.309      -0.206\n",
            "Weekday_1          -0.0137      0.013     -1.065      0.287      -0.039       0.012\n",
            "Weekday_2          -0.0118      0.013     -0.896      0.371      -0.038       0.014\n",
            "Weekday_5           0.0071      0.013      0.537      0.591      -0.019       0.033\n",
            "Weekday_6           0.0546      0.014      3.765      0.000       0.026       0.083\n",
            "==============================================================================\n",
            "Omnibus:                       84.887   Durbin-Watson:                   2.039\n",
            "Prob(Omnibus):                  0.000   Jarque-Bera (JB):              237.065\n",
            "Skew:                          -0.807   Prob(JB):                     3.33e-52\n",
            "Kurtosis:                       5.924   Cond. No.                         45.2\n",
            "==============================================================================\n",
            "\n",
            "Warnings:\n",
            "[1] Standard Errors assume that the covariance matrix of the errors is correctly specified.\n"
          ]
        }
      ]
    },
    {
      "cell_type": "markdown",
      "source": [
        "Lets drop the variables one by one and rebuild model and keep delete until we have features which P-values are less than significance level 0.05"
      ],
      "metadata": {
        "id": "eUHZc3q9rQnR"
      }
    },
    {
      "cell_type": "markdown",
      "source": [
        "## Manual - Model 10"
      ],
      "metadata": {
        "id": "yW1kvCzRUB5W"
      }
    },
    {
      "cell_type": "code",
      "source": [
        "X_train.drop(['Weekday_5'],axis=1,inplace=True) # drop Weekday_5 as this has highest P-value\n",
        "lr_all = linear_model(X_train.columns,X_train)"
      ],
      "metadata": {
        "colab": {
          "base_uri": "https://localhost:8080/"
        },
        "id": "wvrXtIFVRfAr",
        "outputId": "00d2de87-bb91-4c60-8ebd-11a3367fe366"
      },
      "execution_count": 374,
      "outputs": [
        {
          "output_type": "stream",
          "name": "stdout",
          "text": [
            "                            OLS Regression Results                            \n",
            "==============================================================================\n",
            "Dep. Variable:                    cnt   R-squared:                       0.853\n",
            "Model:                            OLS   Adj. R-squared:                  0.846\n",
            "Method:                 Least Squares   F-statistic:                     112.5\n",
            "Date:                Fri, 03 Jun 2022   Prob (F-statistic):          9.26e-184\n",
            "Time:                        02:01:18   Log-Likelihood:                 527.77\n",
            "No. Observations:                 510   AIC:                            -1004.\n",
            "Df Residuals:                     484   BIC:                            -893.4\n",
            "Df Model:                          25                                         \n",
            "Covariance Type:            nonrobust                                         \n",
            "===================================================================================\n",
            "                      coef    std err          t      P>|t|      [0.025      0.975]\n",
            "-----------------------------------------------------------------------------------\n",
            "const               0.1762      0.030      5.816      0.000       0.117       0.236\n",
            "yr                  0.2321      0.008     28.867      0.000       0.216       0.248\n",
            "holiday            -0.0369      0.029     -1.283      0.200      -0.094       0.020\n",
            "workingday          0.0501      0.012      4.129      0.000       0.026       0.074\n",
            "temp                0.4500      0.046      9.741      0.000       0.359       0.541\n",
            "hum                -0.1517      0.038     -3.953      0.000      -0.227      -0.076\n",
            "windspeed          -0.1865      0.026     -7.271      0.000      -0.237      -0.136\n",
            "isSummer            0.0866      0.024      3.682      0.000       0.040       0.133\n",
            "isFall              0.0479      0.030      1.603      0.110      -0.011       0.107\n",
            "isWinter            0.1542      0.026      5.956      0.000       0.103       0.205\n",
            "Month_2             0.0309      0.021      1.503      0.134      -0.009       0.071\n",
            "Month_3             0.0638      0.022      2.863      0.004       0.020       0.108\n",
            "Month_4             0.0634      0.033      1.894      0.059      -0.002       0.129\n",
            "Month_5             0.0873      0.036      2.423      0.016       0.017       0.158\n",
            "Month_6             0.0603      0.039      1.552      0.121      -0.016       0.137\n",
            "Month_7             0.0234      0.044      0.534      0.593      -0.063       0.110\n",
            "Month_8             0.0779      0.042      1.870      0.062      -0.004       0.160\n",
            "Month_9             0.1441      0.037      3.859      0.000       0.071       0.217\n",
            "Month_10            0.0707      0.034      2.059      0.040       0.003       0.138\n",
            "Month_11            0.0204      0.033      0.624      0.533      -0.044       0.085\n",
            "Month_12            0.0171      0.026      0.648      0.517      -0.035       0.069\n",
            "Mist               -0.0606      0.010     -5.837      0.000      -0.081      -0.040\n",
            "Light_Snow_Rain    -0.2583      0.026     -9.849      0.000      -0.310      -0.207\n",
            "Weekday_1          -0.0159      0.012     -1.305      0.193      -0.040       0.008\n",
            "Weekday_2          -0.0140      0.012     -1.122      0.262      -0.038       0.011\n",
            "Weekday_6           0.0545      0.014      3.768      0.000       0.026       0.083\n",
            "==============================================================================\n",
            "Omnibus:                       84.536   Durbin-Watson:                   2.033\n",
            "Prob(Omnibus):                  0.000   Jarque-Bera (JB):              236.621\n",
            "Skew:                          -0.803   Prob(JB):                     4.15e-52\n",
            "Kurtosis:                       5.925   Cond. No.                         45.1\n",
            "==============================================================================\n",
            "\n",
            "Warnings:\n",
            "[1] Standard Errors assume that the covariance matrix of the errors is correctly specified.\n"
          ]
        },
        {
          "output_type": "stream",
          "name": "stderr",
          "text": [
            "/usr/local/lib/python3.7/dist-packages/statsmodels/tsa/tsatools.py:117: FutureWarning:\n",
            "\n",
            "In a future version of pandas all arguments of concat except for the argument 'objs' will be keyword-only\n",
            "\n"
          ]
        }
      ]
    },
    {
      "cell_type": "markdown",
      "source": [
        "## Manual - Model 11"
      ],
      "metadata": {
        "id": "bxgsliDxUDjo"
      }
    },
    {
      "cell_type": "code",
      "source": [
        "X_train.drop(['Month_7'],axis=1,inplace=True)\n",
        "lr_all = linear_model(X_train.columns,X_train)"
      ],
      "metadata": {
        "colab": {
          "base_uri": "https://localhost:8080/"
        },
        "id": "wHHL_mxARiXy",
        "outputId": "9f6551e5-6494-436d-dc83-009779183f2a"
      },
      "execution_count": 375,
      "outputs": [
        {
          "output_type": "stream",
          "name": "stderr",
          "text": [
            "/usr/local/lib/python3.7/dist-packages/statsmodels/tsa/tsatools.py:117: FutureWarning:\n",
            "\n",
            "In a future version of pandas all arguments of concat except for the argument 'objs' will be keyword-only\n",
            "\n"
          ]
        },
        {
          "output_type": "stream",
          "name": "stdout",
          "text": [
            "                            OLS Regression Results                            \n",
            "==============================================================================\n",
            "Dep. Variable:                    cnt   R-squared:                       0.853\n",
            "Model:                            OLS   Adj. R-squared:                  0.846\n",
            "Method:                 Least Squares   F-statistic:                     117.4\n",
            "Date:                Fri, 03 Jun 2022   Prob (F-statistic):          9.74e-185\n",
            "Time:                        02:01:18   Log-Likelihood:                 527.61\n",
            "No. Observations:                 510   AIC:                            -1005.\n",
            "Df Residuals:                     485   BIC:                            -899.4\n",
            "Df Model:                          24                                         \n",
            "Covariance Type:            nonrobust                                         \n",
            "===================================================================================\n",
            "                      coef    std err          t      P>|t|      [0.025      0.975]\n",
            "-----------------------------------------------------------------------------------\n",
            "const               0.1771      0.030      5.863      0.000       0.118       0.236\n",
            "yr                  0.2317      0.008     28.958      0.000       0.216       0.247\n",
            "holiday            -0.0381      0.029     -1.330      0.184      -0.094       0.018\n",
            "workingday          0.0497      0.012      4.107      0.000       0.026       0.073\n",
            "temp                0.4645      0.037     12.430      0.000       0.391       0.538\n",
            "hum                -0.1543      0.038     -4.059      0.000      -0.229      -0.080\n",
            "windspeed          -0.1864      0.026     -7.272      0.000      -0.237      -0.136\n",
            "isSummer            0.0914      0.022      4.202      0.000       0.049       0.134\n",
            "isFall              0.0575      0.024      2.396      0.017       0.010       0.105\n",
            "isWinter            0.1585      0.025      6.442      0.000       0.110       0.207\n",
            "Month_2             0.0276      0.020      1.409      0.160      -0.011       0.066\n",
            "Month_3             0.0570      0.018      3.119      0.002       0.021       0.093\n",
            "Month_4             0.0523      0.026      1.992      0.047       0.001       0.104\n",
            "Month_5             0.0743      0.027      2.797      0.005       0.022       0.127\n",
            "Month_6             0.0435      0.023      1.907      0.057      -0.001       0.088\n",
            "Month_8             0.0579      0.018      3.176      0.002       0.022       0.094\n",
            "Month_9             0.1269      0.019      6.670      0.000       0.090       0.164\n",
            "Month_10            0.0600      0.028      2.152      0.032       0.005       0.115\n",
            "Month_11            0.0116      0.028      0.410      0.682      -0.044       0.067\n",
            "Month_12            0.0104      0.023      0.448      0.654      -0.035       0.056\n",
            "Mist               -0.0603      0.010     -5.822      0.000      -0.081      -0.040\n",
            "Light_Snow_Rain    -0.2576      0.026     -9.843      0.000      -0.309      -0.206\n",
            "Weekday_1          -0.0158      0.012     -1.296      0.196      -0.040       0.008\n",
            "Weekday_2          -0.0139      0.012     -1.114      0.266      -0.038       0.011\n",
            "Weekday_6           0.0545      0.014      3.769      0.000       0.026       0.083\n",
            "==============================================================================\n",
            "Omnibus:                       82.825   Durbin-Watson:                   2.030\n",
            "Prob(Omnibus):                  0.000   Jarque-Bera (JB):              227.790\n",
            "Skew:                          -0.793   Prob(JB):                     3.44e-50\n",
            "Kurtosis:                       5.865   Cond. No.                         23.3\n",
            "==============================================================================\n",
            "\n",
            "Warnings:\n",
            "[1] Standard Errors assume that the covariance matrix of the errors is correctly specified.\n"
          ]
        }
      ]
    },
    {
      "cell_type": "markdown",
      "source": [
        "## Manual - Model 12"
      ],
      "metadata": {
        "id": "MXNyvMtTUFAL"
      }
    },
    {
      "cell_type": "code",
      "source": [
        "X_train.drop(['Month_11'],axis=1,inplace=True)\n",
        "lr_all = linear_model(X_train.columns,X_train)"
      ],
      "metadata": {
        "colab": {
          "base_uri": "https://localhost:8080/"
        },
        "id": "FvaEaEEORoil",
        "outputId": "d8dfd677-4e8b-4a98-976e-8444f6785c33"
      },
      "execution_count": 376,
      "outputs": [
        {
          "output_type": "stream",
          "name": "stderr",
          "text": [
            "/usr/local/lib/python3.7/dist-packages/statsmodels/tsa/tsatools.py:117: FutureWarning:\n",
            "\n",
            "In a future version of pandas all arguments of concat except for the argument 'objs' will be keyword-only\n",
            "\n"
          ]
        },
        {
          "output_type": "stream",
          "name": "stdout",
          "text": [
            "                            OLS Regression Results                            \n",
            "==============================================================================\n",
            "Dep. Variable:                    cnt   R-squared:                       0.853\n",
            "Model:                            OLS   Adj. R-squared:                  0.846\n",
            "Method:                 Least Squares   F-statistic:                     122.7\n",
            "Date:                Fri, 03 Jun 2022   Prob (F-statistic):          9.45e-186\n",
            "Time:                        02:01:18   Log-Likelihood:                 527.53\n",
            "No. Observations:                 510   AIC:                            -1007.\n",
            "Df Residuals:                     486   BIC:                            -905.4\n",
            "Df Model:                          23                                         \n",
            "Covariance Type:            nonrobust                                         \n",
            "===================================================================================\n",
            "                      coef    std err          t      P>|t|      [0.025      0.975]\n",
            "-----------------------------------------------------------------------------------\n",
            "const               0.1783      0.030      5.934      0.000       0.119       0.237\n",
            "yr                  0.2316      0.008     28.980      0.000       0.216       0.247\n",
            "holiday            -0.0366      0.028     -1.288      0.198      -0.092       0.019\n",
            "workingday          0.0498      0.012      4.115      0.000       0.026       0.074\n",
            "temp                0.4624      0.037     12.507      0.000       0.390       0.535\n",
            "hum                -0.1534      0.038     -4.046      0.000      -0.228      -0.079\n",
            "windspeed          -0.1852      0.025     -7.278      0.000      -0.235      -0.135\n",
            "isSummer            0.0918      0.022      4.225      0.000       0.049       0.134\n",
            "isFall              0.0585      0.024      2.452      0.015       0.012       0.105\n",
            "isWinter            0.1661      0.016     10.441      0.000       0.135       0.197\n",
            "Month_2             0.0261      0.019      1.357      0.176      -0.012       0.064\n",
            "Month_3             0.0557      0.018      3.097      0.002       0.020       0.091\n",
            "Month_4             0.0509      0.026      1.958      0.051      -0.000       0.102\n",
            "Month_5             0.0733      0.026      2.774      0.006       0.021       0.125\n",
            "Month_6             0.0426      0.023      1.878      0.061      -0.002       0.087\n",
            "Month_8             0.0566      0.018      3.154      0.002       0.021       0.092\n",
            "Month_9             0.1239      0.018      7.069      0.000       0.089       0.158\n",
            "Month_10            0.0513      0.018      2.813      0.005       0.015       0.087\n",
            "Month_12            0.0037      0.017      0.226      0.821      -0.029       0.036\n",
            "Mist               -0.0605      0.010     -5.854      0.000      -0.081      -0.040\n",
            "Light_Snow_Rain    -0.2577      0.026     -9.853      0.000      -0.309      -0.206\n",
            "Weekday_1          -0.0162      0.012     -1.328      0.185      -0.040       0.008\n",
            "Weekday_2          -0.0140      0.012     -1.125      0.261      -0.038       0.010\n",
            "Weekday_6           0.0544      0.014      3.765      0.000       0.026       0.083\n",
            "==============================================================================\n",
            "Omnibus:                       82.496   Durbin-Watson:                   2.028\n",
            "Prob(Omnibus):                  0.000   Jarque-Bera (JB):              227.051\n",
            "Skew:                          -0.789   Prob(JB):                     4.97e-50\n",
            "Kurtosis:                       5.862   Cond. No.                         22.9\n",
            "==============================================================================\n",
            "\n",
            "Warnings:\n",
            "[1] Standard Errors assume that the covariance matrix of the errors is correctly specified.\n"
          ]
        }
      ]
    },
    {
      "cell_type": "markdown",
      "source": [
        "## Manual - Model 13"
      ],
      "metadata": {
        "id": "Kg2yMDn-UGYe"
      }
    },
    {
      "cell_type": "code",
      "source": [
        "X_train.drop(['Month_12'],axis=1,inplace=True)\n",
        "lr_all = linear_model(X_train.columns,X_train)"
      ],
      "metadata": {
        "colab": {
          "base_uri": "https://localhost:8080/"
        },
        "id": "Nd01hkQxR1Uc",
        "outputId": "555dad57-a3be-4a56-d5ef-0ce962ed92e8"
      },
      "execution_count": 377,
      "outputs": [
        {
          "output_type": "stream",
          "name": "stderr",
          "text": [
            "/usr/local/lib/python3.7/dist-packages/statsmodels/tsa/tsatools.py:117: FutureWarning:\n",
            "\n",
            "In a future version of pandas all arguments of concat except for the argument 'objs' will be keyword-only\n",
            "\n"
          ]
        },
        {
          "output_type": "stream",
          "name": "stdout",
          "text": [
            "                            OLS Regression Results                            \n",
            "==============================================================================\n",
            "Dep. Variable:                    cnt   R-squared:                       0.853\n",
            "Model:                            OLS   Adj. R-squared:                  0.846\n",
            "Method:                 Least Squares   F-statistic:                     128.5\n",
            "Date:                Fri, 03 Jun 2022   Prob (F-statistic):          8.44e-187\n",
            "Time:                        02:01:18   Log-Likelihood:                 527.50\n",
            "No. Observations:                 510   AIC:                            -1009.\n",
            "Df Residuals:                     487   BIC:                            -911.6\n",
            "Df Model:                          22                                         \n",
            "Covariance Type:            nonrobust                                         \n",
            "===================================================================================\n",
            "                      coef    std err          t      P>|t|      [0.025      0.975]\n",
            "-----------------------------------------------------------------------------------\n",
            "const               0.1789      0.030      5.982      0.000       0.120       0.238\n",
            "yr                  0.2316      0.008     29.008      0.000       0.216       0.247\n",
            "holiday            -0.0368      0.028     -1.299      0.194      -0.093       0.019\n",
            "workingday          0.0498      0.012      4.126      0.000       0.026       0.074\n",
            "temp                0.4615      0.037     12.563      0.000       0.389       0.534\n",
            "hum                -0.1526      0.038     -4.046      0.000      -0.227      -0.079\n",
            "windspeed          -0.1853      0.025     -7.289      0.000      -0.235      -0.135\n",
            "isSummer            0.0916      0.022      4.225      0.000       0.049       0.134\n",
            "isFall              0.0583      0.024      2.450      0.015       0.012       0.105\n",
            "isWinter            0.1668      0.016     10.699      0.000       0.136       0.197\n",
            "Month_2             0.0254      0.019      1.339      0.181      -0.012       0.063\n",
            "Month_3             0.0551      0.018      3.102      0.002       0.020       0.090\n",
            "Month_4             0.0505      0.026      1.948      0.052      -0.000       0.101\n",
            "Month_5             0.0729      0.026      2.767      0.006       0.021       0.125\n",
            "Month_6             0.0424      0.023      1.871      0.062      -0.002       0.087\n",
            "Month_8             0.0564      0.018      3.149      0.002       0.021       0.092\n",
            "Month_9             0.1234      0.017      7.114      0.000       0.089       0.157\n",
            "Month_10            0.0500      0.017      2.898      0.004       0.016       0.084\n",
            "Mist               -0.0607      0.010     -5.880      0.000      -0.081      -0.040\n",
            "Light_Snow_Rain    -0.2579      0.026     -9.882      0.000      -0.309      -0.207\n",
            "Weekday_1          -0.0161      0.012     -1.329      0.184      -0.040       0.008\n",
            "Weekday_2          -0.0141      0.012     -1.136      0.256      -0.038       0.010\n",
            "Weekday_6           0.0545      0.014      3.779      0.000       0.026       0.083\n",
            "==============================================================================\n",
            "Omnibus:                       82.832   Durbin-Watson:                   2.027\n",
            "Prob(Omnibus):                  0.000   Jarque-Bera (JB):              228.519\n",
            "Skew:                          -0.792   Prob(JB):                     2.39e-50\n",
            "Kurtosis:                       5.872   Cond. No.                         22.8\n",
            "==============================================================================\n",
            "\n",
            "Warnings:\n",
            "[1] Standard Errors assume that the covariance matrix of the errors is correctly specified.\n"
          ]
        }
      ]
    },
    {
      "cell_type": "markdown",
      "source": [
        "## Manual - Model 14"
      ],
      "metadata": {
        "id": "zbEXIudwUHop"
      }
    },
    {
      "cell_type": "code",
      "source": [
        "X_train.drop(['Weekday_2'],axis=1,inplace=True)\n",
        "lr_all = linear_model(X_train.columns,X_train)"
      ],
      "metadata": {
        "colab": {
          "base_uri": "https://localhost:8080/"
        },
        "id": "8BivCJU0SAgc",
        "outputId": "8ac7d05a-1eba-4b4f-cc78-0c43827c4e09"
      },
      "execution_count": 378,
      "outputs": [
        {
          "output_type": "stream",
          "name": "stderr",
          "text": [
            "/usr/local/lib/python3.7/dist-packages/statsmodels/tsa/tsatools.py:117: FutureWarning:\n",
            "\n",
            "In a future version of pandas all arguments of concat except for the argument 'objs' will be keyword-only\n",
            "\n"
          ]
        },
        {
          "output_type": "stream",
          "name": "stdout",
          "text": [
            "                            OLS Regression Results                            \n",
            "==============================================================================\n",
            "Dep. Variable:                    cnt   R-squared:                       0.853\n",
            "Model:                            OLS   Adj. R-squared:                  0.846\n",
            "Method:                 Least Squares   F-statistic:                     134.5\n",
            "Date:                Fri, 03 Jun 2022   Prob (F-statistic):          1.36e-187\n",
            "Time:                        02:01:18   Log-Likelihood:                 526.82\n",
            "No. Observations:                 510   AIC:                            -1010.\n",
            "Df Residuals:                     488   BIC:                            -916.5\n",
            "Df Model:                          21                                         \n",
            "Covariance Type:            nonrobust                                         \n",
            "===================================================================================\n",
            "                      coef    std err          t      P>|t|      [0.025      0.975]\n",
            "-----------------------------------------------------------------------------------\n",
            "const               0.1805      0.030      6.042      0.000       0.122       0.239\n",
            "yr                  0.2316      0.008     29.000      0.000       0.216       0.247\n",
            "holiday            -0.0393      0.028     -1.391      0.165      -0.095       0.016\n",
            "workingday          0.0464      0.012      3.966      0.000       0.023       0.069\n",
            "temp                0.4604      0.037     12.534      0.000       0.388       0.533\n",
            "hum                -0.1537      0.038     -4.075      0.000      -0.228      -0.080\n",
            "windspeed          -0.1857      0.025     -7.304      0.000      -0.236      -0.136\n",
            "isSummer            0.0913      0.022      4.207      0.000       0.049       0.134\n",
            "isFall              0.0579      0.024      2.431      0.015       0.011       0.105\n",
            "isWinter            0.1664      0.016     10.669      0.000       0.136       0.197\n",
            "Month_2             0.0241      0.019      1.275      0.203      -0.013       0.061\n",
            "Month_3             0.0551      0.018      3.099      0.002       0.020       0.090\n",
            "Month_4             0.0502      0.026      1.935      0.054      -0.001       0.101\n",
            "Month_5             0.0728      0.026      2.762      0.006       0.021       0.125\n",
            "Month_6             0.0434      0.023      1.920      0.056      -0.001       0.088\n",
            "Month_8             0.0569      0.018      3.181      0.002       0.022       0.092\n",
            "Month_9             0.1240      0.017      7.152      0.000       0.090       0.158\n",
            "Month_10            0.0497      0.017      2.881      0.004       0.016       0.084\n",
            "Mist               -0.0604      0.010     -5.851      0.000      -0.081      -0.040\n",
            "Light_Snow_Rain    -0.2562      0.026     -9.830      0.000      -0.307      -0.205\n",
            "Weekday_1          -0.0129      0.012     -1.091      0.276      -0.036       0.010\n",
            "Weekday_6           0.0544      0.014      3.766      0.000       0.026       0.083\n",
            "==============================================================================\n",
            "Omnibus:                       83.113   Durbin-Watson:                   2.025\n",
            "Prob(Omnibus):                  0.000   Jarque-Bera (JB):              235.395\n",
            "Skew:                          -0.786   Prob(JB):                     7.67e-52\n",
            "Kurtosis:                       5.934   Cond. No.                         22.7\n",
            "==============================================================================\n",
            "\n",
            "Warnings:\n",
            "[1] Standard Errors assume that the covariance matrix of the errors is correctly specified.\n"
          ]
        }
      ]
    },
    {
      "cell_type": "markdown",
      "source": [
        "## Manual - Model 15"
      ],
      "metadata": {
        "id": "_eYdcU4qUJCw"
      }
    },
    {
      "cell_type": "code",
      "source": [
        "X_train.drop(['Weekday_1'],axis=1,inplace=True)\n",
        "lr_all = linear_model(X_train.columns,X_train)"
      ],
      "metadata": {
        "colab": {
          "base_uri": "https://localhost:8080/"
        },
        "id": "wiVWJjafSGla",
        "outputId": "e0d33c2b-1a77-4dd8-f311-35d114e698b5"
      },
      "execution_count": 379,
      "outputs": [
        {
          "output_type": "stream",
          "name": "stdout",
          "text": [
            "                            OLS Regression Results                            \n",
            "==============================================================================\n",
            "Dep. Variable:                    cnt   R-squared:                       0.852\n",
            "Model:                            OLS   Adj. R-squared:                  0.846\n",
            "Method:                 Least Squares   F-statistic:                     141.1\n",
            "Date:                Fri, 03 Jun 2022   Prob (F-statistic):          2.04e-188\n",
            "Time:                        02:01:18   Log-Likelihood:                 526.20\n",
            "No. Observations:                 510   AIC:                            -1010.\n",
            "Df Residuals:                     489   BIC:                            -921.5\n",
            "Df Model:                          20                                         \n",
            "Covariance Type:            nonrobust                                         \n",
            "===================================================================================\n",
            "                      coef    std err          t      P>|t|      [0.025      0.975]\n",
            "-----------------------------------------------------------------------------------\n",
            "const               0.1816      0.030      6.078      0.000       0.123       0.240\n",
            "yr                  0.2311      0.008     28.985      0.000       0.215       0.247\n",
            "holiday            -0.0494      0.027     -1.846      0.065      -0.102       0.003\n",
            "workingday          0.0438      0.011      3.824      0.000       0.021       0.066\n",
            "temp                0.4626      0.037     12.610      0.000       0.391       0.535\n",
            "hum                -0.1557      0.038     -4.133      0.000      -0.230      -0.082\n",
            "windspeed          -0.1860      0.025     -7.312      0.000      -0.236      -0.136\n",
            "isSummer            0.0905      0.022      4.173      0.000       0.048       0.133\n",
            "isFall              0.0569      0.024      2.391      0.017       0.010       0.104\n",
            "isWinter            0.1660      0.016     10.646      0.000       0.135       0.197\n",
            "Month_2             0.0243      0.019      1.284      0.200      -0.013       0.061\n",
            "Month_3             0.0550      0.018      3.093      0.002       0.020       0.090\n",
            "Month_4             0.0501      0.026      1.933      0.054      -0.001       0.101\n",
            "Month_5             0.0733      0.026      2.781      0.006       0.022       0.125\n",
            "Month_6             0.0429      0.023      1.894      0.059      -0.002       0.087\n",
            "Month_8             0.0572      0.018      3.192      0.002       0.022       0.092\n",
            "Month_9             0.1244      0.017      7.178      0.000       0.090       0.158\n",
            "Month_10            0.0491      0.017      2.844      0.005       0.015       0.083\n",
            "Mist               -0.0601      0.010     -5.828      0.000      -0.080      -0.040\n",
            "Light_Snow_Rain    -0.2555      0.026     -9.802      0.000      -0.307      -0.204\n",
            "Weekday_6           0.0543      0.014      3.760      0.000       0.026       0.083\n",
            "==============================================================================\n",
            "Omnibus:                       82.115   Durbin-Watson:                   2.027\n",
            "Prob(Omnibus):                  0.000   Jarque-Bera (JB):              232.769\n",
            "Skew:                          -0.776   Prob(JB):                     2.85e-51\n",
            "Kurtosis:                       5.923   Cond. No.                         22.6\n",
            "==============================================================================\n",
            "\n",
            "Warnings:\n",
            "[1] Standard Errors assume that the covariance matrix of the errors is correctly specified.\n"
          ]
        },
        {
          "output_type": "stream",
          "name": "stderr",
          "text": [
            "/usr/local/lib/python3.7/dist-packages/statsmodels/tsa/tsatools.py:117: FutureWarning:\n",
            "\n",
            "In a future version of pandas all arguments of concat except for the argument 'objs' will be keyword-only\n",
            "\n"
          ]
        }
      ]
    },
    {
      "cell_type": "markdown",
      "source": [
        "## Manual - Model 16"
      ],
      "metadata": {
        "id": "mBBo0sqQUKB1"
      }
    },
    {
      "cell_type": "code",
      "source": [
        "X_train.drop(['Month_2'],axis=1,inplace=True)\n",
        "lr_all = linear_model(X_train.columns,X_train)"
      ],
      "metadata": {
        "colab": {
          "base_uri": "https://localhost:8080/"
        },
        "id": "ZOhWJcFWSPBO",
        "outputId": "2e7cd10f-091b-43ec-81d2-ba0ef357bdd8"
      },
      "execution_count": 380,
      "outputs": [
        {
          "output_type": "stream",
          "name": "stdout",
          "text": [
            "                            OLS Regression Results                            \n",
            "==============================================================================\n",
            "Dep. Variable:                    cnt   R-squared:                       0.852\n",
            "Model:                            OLS   Adj. R-squared:                  0.846\n",
            "Method:                 Least Squares   F-statistic:                     148.2\n",
            "Date:                Fri, 03 Jun 2022   Prob (F-statistic):          3.75e-189\n",
            "Time:                        02:01:18   Log-Likelihood:                 525.34\n",
            "No. Observations:                 510   AIC:                            -1011.\n",
            "Df Residuals:                     490   BIC:                            -926.0\n",
            "Df Model:                          19                                         \n",
            "Covariance Type:            nonrobust                                         \n",
            "===================================================================================\n",
            "                      coef    std err          t      P>|t|      [0.025      0.975]\n",
            "-----------------------------------------------------------------------------------\n",
            "const               0.1908      0.029      6.576      0.000       0.134       0.248\n",
            "yr                  0.2310      0.008     28.956      0.000       0.215       0.247\n",
            "holiday            -0.0493      0.027     -1.843      0.066      -0.102       0.003\n",
            "workingday          0.0436      0.011      3.804      0.000       0.021       0.066\n",
            "temp                0.4648      0.037     12.674      0.000       0.393       0.537\n",
            "hum                -0.1587      0.038     -4.217      0.000      -0.233      -0.085\n",
            "windspeed          -0.1839      0.025     -7.240      0.000      -0.234      -0.134\n",
            "isSummer            0.0871      0.022      4.043      0.000       0.045       0.129\n",
            "isFall              0.0484      0.023      2.115      0.035       0.003       0.093\n",
            "isWinter            0.1575      0.014     11.139      0.000       0.130       0.185\n",
            "Month_3             0.0473      0.017      2.823      0.005       0.014       0.080\n",
            "Month_4             0.0443      0.026      1.734      0.084      -0.006       0.094\n",
            "Month_5             0.0678      0.026      2.605      0.009       0.017       0.119\n",
            "Month_6             0.0387      0.022      1.728      0.085      -0.005       0.083\n",
            "Month_8             0.0564      0.018      3.152      0.002       0.021       0.092\n",
            "Month_9             0.1240      0.017      7.150      0.000       0.090       0.158\n",
            "Month_10            0.0487      0.017      2.822      0.005       0.015       0.083\n",
            "Mist               -0.0599      0.010     -5.804      0.000      -0.080      -0.040\n",
            "Light_Snow_Rain    -0.2538      0.026     -9.744      0.000      -0.305      -0.203\n",
            "Weekday_6           0.0534      0.014      3.699      0.000       0.025       0.082\n",
            "==============================================================================\n",
            "Omnibus:                       82.440   Durbin-Watson:                   2.030\n",
            "Prob(Omnibus):                  0.000   Jarque-Bera (JB):              232.258\n",
            "Skew:                          -0.781   Prob(JB):                     3.68e-51\n",
            "Kurtosis:                       5.914   Cond. No.                         22.1\n",
            "==============================================================================\n",
            "\n",
            "Warnings:\n",
            "[1] Standard Errors assume that the covariance matrix of the errors is correctly specified.\n"
          ]
        },
        {
          "output_type": "stream",
          "name": "stderr",
          "text": [
            "/usr/local/lib/python3.7/dist-packages/statsmodels/tsa/tsatools.py:117: FutureWarning:\n",
            "\n",
            "In a future version of pandas all arguments of concat except for the argument 'objs' will be keyword-only\n",
            "\n"
          ]
        }
      ]
    },
    {
      "cell_type": "markdown",
      "source": [
        "## Manual - Model 17"
      ],
      "metadata": {
        "id": "pV47ZBs3ULP3"
      }
    },
    {
      "cell_type": "code",
      "source": [
        "X_train.drop(['Month_6'],axis=1,inplace=True)\n",
        "lr_all = linear_model(X_train.columns,X_train)"
      ],
      "metadata": {
        "colab": {
          "base_uri": "https://localhost:8080/"
        },
        "id": "y485xdnLSUjQ",
        "outputId": "b31b2fcd-dea7-4d2e-e9f3-2b66309eefbd"
      },
      "execution_count": 381,
      "outputs": [
        {
          "output_type": "stream",
          "name": "stdout",
          "text": [
            "                            OLS Regression Results                            \n",
            "==============================================================================\n",
            "Dep. Variable:                    cnt   R-squared:                       0.851\n",
            "Model:                            OLS   Adj. R-squared:                  0.845\n",
            "Method:                 Least Squares   F-statistic:                     155.7\n",
            "Date:                Fri, 03 Jun 2022   Prob (F-statistic):          1.30e-189\n",
            "Time:                        02:01:18   Log-Likelihood:                 523.80\n",
            "No. Observations:                 510   AIC:                            -1010.\n",
            "Df Residuals:                     491   BIC:                            -929.1\n",
            "Df Model:                          18                                         \n",
            "Covariance Type:            nonrobust                                         \n",
            "===================================================================================\n",
            "                      coef    std err          t      P>|t|      [0.025      0.975]\n",
            "-----------------------------------------------------------------------------------\n",
            "const               0.1925      0.029      6.625      0.000       0.135       0.250\n",
            "yr                  0.2304      0.008     28.850      0.000       0.215       0.246\n",
            "holiday            -0.0515      0.027     -1.923      0.055      -0.104       0.001\n",
            "workingday          0.0434      0.011      3.784      0.000       0.021       0.066\n",
            "temp                0.4872      0.034     14.176      0.000       0.420       0.555\n",
            "hum                -0.1663      0.037     -4.439      0.000      -0.240      -0.093\n",
            "windspeed          -0.1849      0.025     -7.268      0.000      -0.235      -0.135\n",
            "isSummer            0.1045      0.019      5.481      0.000       0.067       0.142\n",
            "isFall              0.0430      0.023      1.894      0.059      -0.002       0.088\n",
            "isWinter            0.1531      0.014     10.985      0.000       0.126       0.181\n",
            "Month_3             0.0352      0.015      2.309      0.021       0.005       0.065\n",
            "Month_4             0.0192      0.021      0.912      0.362      -0.022       0.061\n",
            "Month_5             0.0399      0.020      1.951      0.052      -0.000       0.080\n",
            "Month_8             0.0477      0.017      2.773      0.006       0.014       0.082\n",
            "Month_9             0.1179      0.017      6.929      0.000       0.084       0.151\n",
            "Month_10            0.0457      0.017      2.654      0.008       0.012       0.079\n",
            "Mist               -0.0594      0.010     -5.747      0.000      -0.080      -0.039\n",
            "Light_Snow_Rain    -0.2531      0.026     -9.697      0.000      -0.304      -0.202\n",
            "Weekday_6           0.0531      0.014      3.672      0.000       0.025       0.081\n",
            "==============================================================================\n",
            "Omnibus:                       82.458   Durbin-Watson:                   2.038\n",
            "Prob(Omnibus):                  0.000   Jarque-Bera (JB):              222.981\n",
            "Skew:                          -0.795   Prob(JB):                     3.80e-49\n",
            "Kurtosis:                       5.822   Cond. No.                         21.6\n",
            "==============================================================================\n",
            "\n",
            "Warnings:\n",
            "[1] Standard Errors assume that the covariance matrix of the errors is correctly specified.\n"
          ]
        },
        {
          "output_type": "stream",
          "name": "stderr",
          "text": [
            "/usr/local/lib/python3.7/dist-packages/statsmodels/tsa/tsatools.py:117: FutureWarning:\n",
            "\n",
            "In a future version of pandas all arguments of concat except for the argument 'objs' will be keyword-only\n",
            "\n"
          ]
        }
      ]
    },
    {
      "cell_type": "markdown",
      "source": [
        "## Manual - Model 18"
      ],
      "metadata": {
        "id": "-Ajl_DVZUMnt"
      }
    },
    {
      "cell_type": "code",
      "source": [
        "X_train.drop(['Month_4'],axis=1,inplace=True)\n",
        "lr_all = linear_model(X_train.columns,X_train)"
      ],
      "metadata": {
        "colab": {
          "base_uri": "https://localhost:8080/"
        },
        "id": "DvuyWnAySZg6",
        "outputId": "18783002-26d5-40c5-fd80-6eed994e3415"
      },
      "execution_count": 382,
      "outputs": [
        {
          "output_type": "stream",
          "name": "stdout",
          "text": [
            "                            OLS Regression Results                            \n",
            "==============================================================================\n",
            "Dep. Variable:                    cnt   R-squared:                       0.851\n",
            "Model:                            OLS   Adj. R-squared:                  0.845\n",
            "Method:                 Least Squares   F-statistic:                     164.8\n",
            "Date:                Fri, 03 Jun 2022   Prob (F-statistic):          1.51e-190\n",
            "Time:                        02:01:18   Log-Likelihood:                 523.36\n",
            "No. Observations:                 510   AIC:                            -1011.\n",
            "Df Residuals:                     492   BIC:                            -934.5\n",
            "Df Model:                          17                                         \n",
            "Covariance Type:            nonrobust                                         \n",
            "===================================================================================\n",
            "                      coef    std err          t      P>|t|      [0.025      0.975]\n",
            "-----------------------------------------------------------------------------------\n",
            "const               0.1944      0.029      6.711      0.000       0.138       0.251\n",
            "yr                  0.2308      0.008     28.959      0.000       0.215       0.246\n",
            "holiday            -0.0513      0.027     -1.917      0.056      -0.104       0.001\n",
            "workingday          0.0434      0.011      3.782      0.000       0.021       0.066\n",
            "temp                0.4823      0.034     14.209      0.000       0.416       0.549\n",
            "hum                -0.1671      0.037     -4.464      0.000      -0.241      -0.094\n",
            "windspeed          -0.1823      0.025     -7.212      0.000      -0.232      -0.133\n",
            "isSummer            0.1149      0.015      7.530      0.000       0.085       0.145\n",
            "isFall              0.0446      0.023      1.971      0.049       0.000       0.089\n",
            "isWinter            0.1528      0.014     10.968      0.000       0.125       0.180\n",
            "Month_3             0.0309      0.014      2.131      0.034       0.002       0.059\n",
            "Month_5             0.0304      0.018      1.728      0.085      -0.004       0.065\n",
            "Month_8             0.0478      0.017      2.777      0.006       0.014       0.082\n",
            "Month_9             0.1179      0.017      6.933      0.000       0.085       0.151\n",
            "Month_10            0.0462      0.017      2.688      0.007       0.012       0.080\n",
            "Mist               -0.0594      0.010     -5.746      0.000      -0.080      -0.039\n",
            "Light_Snow_Rain    -0.2529      0.026     -9.693      0.000      -0.304      -0.202\n",
            "Weekday_6           0.0528      0.014      3.654      0.000       0.024       0.081\n",
            "==============================================================================\n",
            "Omnibus:                       83.588   Durbin-Watson:                   2.045\n",
            "Prob(Omnibus):                  0.000   Jarque-Bera (JB):              228.804\n",
            "Skew:                          -0.801   Prob(JB):                     2.07e-50\n",
            "Kurtosis:                       5.863   Cond. No.                         21.5\n",
            "==============================================================================\n",
            "\n",
            "Warnings:\n",
            "[1] Standard Errors assume that the covariance matrix of the errors is correctly specified.\n"
          ]
        },
        {
          "output_type": "stream",
          "name": "stderr",
          "text": [
            "/usr/local/lib/python3.7/dist-packages/statsmodels/tsa/tsatools.py:117: FutureWarning:\n",
            "\n",
            "In a future version of pandas all arguments of concat except for the argument 'objs' will be keyword-only\n",
            "\n"
          ]
        }
      ]
    },
    {
      "cell_type": "markdown",
      "source": [
        "## Manual - Model 19"
      ],
      "metadata": {
        "id": "2wKECCtPUNws"
      }
    },
    {
      "cell_type": "code",
      "source": [
        "X_train.drop(['Month_5'],axis=1,inplace=True)\n",
        "lr_all = linear_model(X_train.columns,X_train)"
      ],
      "metadata": {
        "colab": {
          "base_uri": "https://localhost:8080/"
        },
        "id": "btFw4qO3Sp5C",
        "outputId": "848879ef-8cfc-49e5-d141-9fa3f56b1569"
      },
      "execution_count": 383,
      "outputs": [
        {
          "output_type": "stream",
          "name": "stderr",
          "text": [
            "/usr/local/lib/python3.7/dist-packages/statsmodels/tsa/tsatools.py:117: FutureWarning:\n",
            "\n",
            "In a future version of pandas all arguments of concat except for the argument 'objs' will be keyword-only\n",
            "\n"
          ]
        },
        {
          "output_type": "stream",
          "name": "stdout",
          "text": [
            "                            OLS Regression Results                            \n",
            "==============================================================================\n",
            "Dep. Variable:                    cnt   R-squared:                       0.850\n",
            "Model:                            OLS   Adj. R-squared:                  0.845\n",
            "Method:                 Least Squares   F-statistic:                     174.2\n",
            "Date:                Fri, 03 Jun 2022   Prob (F-statistic):          4.93e-191\n",
            "Time:                        02:01:18   Log-Likelihood:                 521.82\n",
            "No. Observations:                 510   AIC:                            -1010.\n",
            "Df Residuals:                     493   BIC:                            -937.7\n",
            "Df Model:                          16                                         \n",
            "Covariance Type:            nonrobust                                         \n",
            "===================================================================================\n",
            "                      coef    std err          t      P>|t|      [0.025      0.975]\n",
            "-----------------------------------------------------------------------------------\n",
            "const               0.1888      0.029      6.545      0.000       0.132       0.245\n",
            "yr                  0.2301      0.008     28.851      0.000       0.214       0.246\n",
            "holiday            -0.0524      0.027     -1.953      0.051      -0.105       0.000\n",
            "workingday          0.0438      0.011      3.808      0.000       0.021       0.066\n",
            "temp                0.4927      0.033     14.718      0.000       0.427       0.558\n",
            "hum                -0.1591      0.037     -4.273      0.000      -0.232      -0.086\n",
            "windspeed          -0.1843      0.025     -7.286      0.000      -0.234      -0.135\n",
            "isSummer            0.1213      0.015      8.183      0.000       0.092       0.150\n",
            "isFall              0.0377      0.022      1.690      0.092      -0.006       0.082\n",
            "isWinter            0.1498      0.014     10.815      0.000       0.123       0.177\n",
            "Month_3             0.0261      0.014      1.833      0.067      -0.002       0.054\n",
            "Month_8             0.0473      0.017      2.744      0.006       0.013       0.081\n",
            "Month_9             0.1174      0.017      6.890      0.000       0.084       0.151\n",
            "Month_10            0.0447      0.017      2.598      0.010       0.011       0.079\n",
            "Mist               -0.0595      0.010     -5.748      0.000      -0.080      -0.039\n",
            "Light_Snow_Rain    -0.2550      0.026     -9.766      0.000      -0.306      -0.204\n",
            "Weekday_6           0.0524      0.014      3.619      0.000       0.024       0.081\n",
            "==============================================================================\n",
            "Omnibus:                       80.361   Durbin-Watson:                   2.052\n",
            "Prob(Omnibus):                  0.000   Jarque-Bera (JB):              206.547\n",
            "Skew:                          -0.792   Prob(JB):                     1.41e-45\n",
            "Kurtosis:                       5.685   Cond. No.                         21.5\n",
            "==============================================================================\n",
            "\n",
            "Warnings:\n",
            "[1] Standard Errors assume that the covariance matrix of the errors is correctly specified.\n"
          ]
        }
      ]
    },
    {
      "cell_type": "markdown",
      "source": [
        "## Manual - Model 20"
      ],
      "metadata": {
        "id": "61N_i70ZUO-5"
      }
    },
    {
      "cell_type": "code",
      "source": [
        "X_train.drop(['isFall'],axis=1,inplace=True)\n",
        "lr_all = linear_model(X_train.columns,X_train)"
      ],
      "metadata": {
        "colab": {
          "base_uri": "https://localhost:8080/"
        },
        "id": "i70mtBCLu6cm",
        "outputId": "337e67fe-ea3b-43a0-e075-5d463ee163a4"
      },
      "execution_count": 384,
      "outputs": [
        {
          "output_type": "stream",
          "name": "stdout",
          "text": [
            "                            OLS Regression Results                            \n",
            "==============================================================================\n",
            "Dep. Variable:                    cnt   R-squared:                       0.849\n",
            "Model:                            OLS   Adj. R-squared:                  0.844\n",
            "Method:                 Least Squares   F-statistic:                     185.0\n",
            "Date:                Fri, 03 Jun 2022   Prob (F-statistic):          1.47e-191\n",
            "Time:                        02:01:19   Log-Likelihood:                 520.35\n",
            "No. Observations:                 510   AIC:                            -1009.\n",
            "Df Residuals:                     494   BIC:                            -940.9\n",
            "Df Model:                          15                                         \n",
            "Covariance Type:            nonrobust                                         \n",
            "===================================================================================\n",
            "                      coef    std err          t      P>|t|      [0.025      0.975]\n",
            "-----------------------------------------------------------------------------------\n",
            "const               0.1894      0.029      6.554      0.000       0.133       0.246\n",
            "yr                  0.2290      0.008     28.757      0.000       0.213       0.245\n",
            "holiday            -0.0543      0.027     -2.022      0.044      -0.107      -0.002\n",
            "workingday          0.0436      0.012      3.785      0.000       0.021       0.066\n",
            "temp                0.5351      0.022     24.124      0.000       0.492       0.579\n",
            "hum                -0.1682      0.037     -4.558      0.000      -0.241      -0.096\n",
            "windspeed          -0.1880      0.025     -7.446      0.000      -0.238      -0.138\n",
            "isSummer            0.1040      0.011      9.699      0.000       0.083       0.125\n",
            "isWinter            0.1384      0.012     11.408      0.000       0.115       0.162\n",
            "Month_3             0.0213      0.014      1.521      0.129      -0.006       0.049\n",
            "Month_8             0.0578      0.016      3.586      0.000       0.026       0.089\n",
            "Month_9             0.1269      0.016      7.870      0.000       0.095       0.159\n",
            "Month_10            0.0408      0.017      2.387      0.017       0.007       0.074\n",
            "Mist               -0.0583      0.010     -5.632      0.000      -0.079      -0.038\n",
            "Light_Snow_Rain    -0.2499      0.026     -9.618      0.000      -0.301      -0.199\n",
            "Weekday_6           0.0521      0.015      3.592      0.000       0.024       0.081\n",
            "==============================================================================\n",
            "Omnibus:                       72.210   Durbin-Watson:                   2.051\n",
            "Prob(Omnibus):                  0.000   Jarque-Bera (JB):              174.411\n",
            "Skew:                          -0.735   Prob(JB):                     1.34e-38\n",
            "Kurtosis:                       5.459   Cond. No.                         20.7\n",
            "==============================================================================\n",
            "\n",
            "Warnings:\n",
            "[1] Standard Errors assume that the covariance matrix of the errors is correctly specified.\n"
          ]
        },
        {
          "output_type": "stream",
          "name": "stderr",
          "text": [
            "/usr/local/lib/python3.7/dist-packages/statsmodels/tsa/tsatools.py:117: FutureWarning:\n",
            "\n",
            "In a future version of pandas all arguments of concat except for the argument 'objs' will be keyword-only\n",
            "\n"
          ]
        }
      ]
    },
    {
      "cell_type": "markdown",
      "source": [
        "## Manual - Model 21"
      ],
      "metadata": {
        "id": "CQfeVf46UQJ3"
      }
    },
    {
      "cell_type": "code",
      "source": [
        "X_train.drop(['Month_3'],axis=1,inplace=True)\n",
        "lr_all = linear_model(X_train.columns,X_train)"
      ],
      "metadata": {
        "colab": {
          "base_uri": "https://localhost:8080/"
        },
        "id": "g0DeConnvBTn",
        "outputId": "a76e07e3-2661-4f38-de1d-37e167b502ff"
      },
      "execution_count": 385,
      "outputs": [
        {
          "output_type": "stream",
          "name": "stdout",
          "text": [
            "                            OLS Regression Results                            \n",
            "==============================================================================\n",
            "Dep. Variable:                    cnt   R-squared:                       0.848\n",
            "Model:                            OLS   Adj. R-squared:                  0.844\n",
            "Method:                 Least Squares   F-statistic:                     197.5\n",
            "Date:                Fri, 03 Jun 2022   Prob (F-statistic):          3.24e-192\n",
            "Time:                        02:01:19   Log-Likelihood:                 519.16\n",
            "No. Observations:                 510   AIC:                            -1008.\n",
            "Df Residuals:                     495   BIC:                            -944.8\n",
            "Df Model:                          14                                         \n",
            "Covariance Type:            nonrobust                                         \n",
            "===================================================================================\n",
            "                      coef    std err          t      P>|t|      [0.025      0.975]\n",
            "-----------------------------------------------------------------------------------\n",
            "const               0.1945      0.029      6.770      0.000       0.138       0.251\n",
            "yr                  0.2292      0.008     28.743      0.000       0.213       0.245\n",
            "holiday            -0.0558      0.027     -2.078      0.038      -0.109      -0.003\n",
            "workingday          0.0444      0.012      3.850      0.000       0.022       0.067\n",
            "temp                0.5301      0.022     24.136      0.000       0.487       0.573\n",
            "hum                -0.1692      0.037     -4.580      0.000      -0.242      -0.097\n",
            "windspeed          -0.1857      0.025     -7.359      0.000      -0.235      -0.136\n",
            "isSummer            0.1039      0.011      9.680      0.000       0.083       0.125\n",
            "isWinter            0.1348      0.012     11.316      0.000       0.111       0.158\n",
            "Month_8             0.0560      0.016      3.478      0.001       0.024       0.088\n",
            "Month_9             0.1255      0.016      7.783      0.000       0.094       0.157\n",
            "Month_10            0.0411      0.017      2.403      0.017       0.007       0.075\n",
            "Mist               -0.0582      0.010     -5.618      0.000      -0.079      -0.038\n",
            "Light_Snow_Rain    -0.2486      0.026     -9.559      0.000      -0.300      -0.197\n",
            "Weekday_6           0.0529      0.015      3.647      0.000       0.024       0.081\n",
            "==============================================================================\n",
            "Omnibus:                       71.668   Durbin-Watson:                   2.052\n",
            "Prob(Omnibus):                  0.000   Jarque-Bera (JB):              182.034\n",
            "Skew:                          -0.713   Prob(JB):                     2.96e-40\n",
            "Kurtosis:                       5.555   Cond. No.                         20.6\n",
            "==============================================================================\n",
            "\n",
            "Warnings:\n",
            "[1] Standard Errors assume that the covariance matrix of the errors is correctly specified.\n"
          ]
        },
        {
          "output_type": "stream",
          "name": "stderr",
          "text": [
            "/usr/local/lib/python3.7/dist-packages/statsmodels/tsa/tsatools.py:117: FutureWarning:\n",
            "\n",
            "In a future version of pandas all arguments of concat except for the argument 'objs' will be keyword-only\n",
            "\n"
          ]
        }
      ]
    },
    {
      "cell_type": "code",
      "source": [
        "get_vif(X_train)"
      ],
      "metadata": {
        "colab": {
          "base_uri": "https://localhost:8080/"
        },
        "id": "RVTkof8ZSxkx",
        "outputId": "95a808c2-cd6a-40af-d78e-b7b85527676e"
      },
      "execution_count": 386,
      "outputs": [
        {
          "output_type": "stream",
          "name": "stdout",
          "text": [
            "           features    VIF\n",
            "4               hum  16.59\n",
            "3              temp  10.01\n",
            "2        workingday   5.05\n",
            "5         windspeed   3.82\n",
            "7          isWinter   2.27\n",
            "11             Mist   2.14\n",
            "0                yr   2.03\n",
            "13        Weekday_6   1.90\n",
            "6          isSummer   1.83\n",
            "10         Month_10   1.62\n",
            "8           Month_8   1.60\n",
            "9           Month_9   1.34\n",
            "12  Light_Snow_Rain   1.18\n",
            "1           holiday   1.16\n"
          ]
        }
      ]
    },
    {
      "cell_type": "markdown",
      "source": [
        "## Manual - Model 22"
      ],
      "metadata": {
        "id": "M8NlvANSURdC"
      }
    },
    {
      "cell_type": "code",
      "source": [
        "X_train.drop(['hum'],axis=1,inplace=True) # drop the 'hum' variable as it has high VIF \n",
        "lr_all = linear_model(X_train.columns,X_train)\n"
      ],
      "metadata": {
        "colab": {
          "base_uri": "https://localhost:8080/"
        },
        "id": "mOUTTZzyS5hU",
        "outputId": "71a12aa4-64b5-468a-efd9-35097d2d01bd"
      },
      "execution_count": 387,
      "outputs": [
        {
          "output_type": "stream",
          "name": "stdout",
          "text": [
            "                            OLS Regression Results                            \n",
            "==============================================================================\n",
            "Dep. Variable:                    cnt   R-squared:                       0.842\n",
            "Model:                            OLS   Adj. R-squared:                  0.838\n",
            "Method:                 Least Squares   F-statistic:                     202.9\n",
            "Date:                Fri, 03 Jun 2022   Prob (F-statistic):          6.16e-189\n",
            "Time:                        02:01:19   Log-Likelihood:                 508.57\n",
            "No. Observations:                 510   AIC:                            -989.1\n",
            "Df Residuals:                     496   BIC:                            -929.9\n",
            "Df Model:                          13                                         \n",
            "Covariance Type:            nonrobust                                         \n",
            "===================================================================================\n",
            "                      coef    std err          t      P>|t|      [0.025      0.975]\n",
            "-----------------------------------------------------------------------------------\n",
            "const               0.0945      0.019      4.961      0.000       0.057       0.132\n",
            "yr                  0.2329      0.008     28.799      0.000       0.217       0.249\n",
            "holiday            -0.0543      0.027     -1.982      0.048      -0.108      -0.000\n",
            "workingday          0.0475      0.012      4.045      0.000       0.024       0.070\n",
            "temp                0.5099      0.022     23.236      0.000       0.467       0.553\n",
            "windspeed          -0.1532      0.025     -6.203      0.000      -0.202      -0.105\n",
            "isSummer            0.1008      0.011      9.226      0.000       0.079       0.122\n",
            "isWinter            0.1267      0.012     10.544      0.000       0.103       0.150\n",
            "Month_8             0.0542      0.016      3.305      0.001       0.022       0.086\n",
            "Month_9             0.1189      0.016      7.259      0.000       0.087       0.151\n",
            "Month_10            0.0371      0.017      2.132      0.033       0.003       0.071\n",
            "Mist               -0.0854      0.009     -9.839      0.000      -0.102      -0.068\n",
            "Light_Snow_Rain    -0.2942      0.025    -12.009      0.000      -0.342      -0.246\n",
            "Weekday_6           0.0580      0.015      3.931      0.000       0.029       0.087\n",
            "==============================================================================\n",
            "Omnibus:                       70.507   Durbin-Watson:                   2.053\n",
            "Prob(Omnibus):                  0.000   Jarque-Bera (JB):              177.937\n",
            "Skew:                          -0.704   Prob(JB):                     2.30e-39\n",
            "Kurtosis:                       5.528   Cond. No.                         12.4\n",
            "==============================================================================\n",
            "\n",
            "Warnings:\n",
            "[1] Standard Errors assume that the covariance matrix of the errors is correctly specified.\n"
          ]
        },
        {
          "output_type": "stream",
          "name": "stderr",
          "text": [
            "/usr/local/lib/python3.7/dist-packages/statsmodels/tsa/tsatools.py:117: FutureWarning:\n",
            "\n",
            "In a future version of pandas all arguments of concat except for the argument 'objs' will be keyword-only\n",
            "\n"
          ]
        }
      ]
    },
    {
      "cell_type": "markdown",
      "source": [
        "#### Observations\n",
        "\n",
        "Even aftre 'hum' drop our model is still having good F-static and R2 values."
      ],
      "metadata": {
        "id": "w5fyxYkOv0ck"
      }
    },
    {
      "cell_type": "code",
      "source": [
        "get_vif(X_train)"
      ],
      "metadata": {
        "colab": {
          "base_uri": "https://localhost:8080/"
        },
        "id": "R5rVuUi3TJp3",
        "outputId": "5b1c996c-641a-45f7-fa4a-31169801ce40"
      },
      "execution_count": 388,
      "outputs": [
        {
          "output_type": "stream",
          "name": "stdout",
          "text": [
            "           features   VIF\n",
            "3              temp  6.38\n",
            "2        workingday  4.39\n",
            "4         windspeed  3.60\n",
            "0                yr  2.02\n",
            "6          isWinter  2.02\n",
            "5          isSummer  1.82\n",
            "12        Weekday_6  1.77\n",
            "9          Month_10  1.62\n",
            "7           Month_8  1.59\n",
            "10             Mist  1.54\n",
            "8           Month_9  1.34\n",
            "1           holiday  1.12\n",
            "11  Light_Snow_Rain  1.10\n"
          ]
        }
      ]
    },
    {
      "cell_type": "markdown",
      "source": [
        "## Manual - Model 23"
      ],
      "metadata": {
        "id": "GzWsTPM6UTKT"
      }
    },
    {
      "cell_type": "code",
      "source": [
        "X_train.drop(['holiday'],axis=1,inplace=True) # drop the 'holiday' variable as it has P-value almost at Significance level \n",
        "lr_all = linear_model(X_train.columns,X_train)"
      ],
      "metadata": {
        "colab": {
          "base_uri": "https://localhost:8080/"
        },
        "id": "GqszNzyGvqNx",
        "outputId": "6dd6d40d-2d8e-4fd7-db59-5f014e04d7ec"
      },
      "execution_count": 389,
      "outputs": [
        {
          "output_type": "stream",
          "name": "stdout",
          "text": [
            "                            OLS Regression Results                            \n",
            "==============================================================================\n",
            "Dep. Variable:                    cnt   R-squared:                       0.840\n",
            "Model:                            OLS   Adj. R-squared:                  0.837\n",
            "Method:                 Least Squares   F-statistic:                     218.2\n",
            "Date:                Fri, 03 Jun 2022   Prob (F-statistic):          2.86e-189\n",
            "Time:                        02:01:19   Log-Likelihood:                 506.56\n",
            "No. Observations:                 510   AIC:                            -987.1\n",
            "Df Residuals:                     497   BIC:                            -932.1\n",
            "Df Model:                          12                                         \n",
            "Covariance Type:            nonrobust                                         \n",
            "===================================================================================\n",
            "                      coef    std err          t      P>|t|      [0.025      0.975]\n",
            "-----------------------------------------------------------------------------------\n",
            "const               0.0856      0.019      4.610      0.000       0.049       0.122\n",
            "yr                  0.2331      0.008     28.734      0.000       0.217       0.249\n",
            "workingday          0.0555      0.011      5.031      0.000       0.034       0.077\n",
            "temp                0.5116      0.022     23.259      0.000       0.468       0.555\n",
            "windspeed          -0.1542      0.025     -6.226      0.000      -0.203      -0.106\n",
            "isSummer            0.1015      0.011      9.269      0.000       0.080       0.123\n",
            "isWinter            0.1260      0.012     10.461      0.000       0.102       0.150\n",
            "Month_8             0.0546      0.016      3.318      0.001       0.022       0.087\n",
            "Month_9             0.1172      0.016      7.146      0.000       0.085       0.149\n",
            "Month_10            0.0384      0.017      2.198      0.028       0.004       0.073\n",
            "Mist               -0.0849      0.009     -9.764      0.000      -0.102      -0.068\n",
            "Light_Snow_Rain    -0.2932      0.025    -11.936      0.000      -0.342      -0.245\n",
            "Weekday_6           0.0662      0.014      4.656      0.000       0.038       0.094\n",
            "==============================================================================\n",
            "Omnibus:                       74.837   Durbin-Watson:                   2.032\n",
            "Prob(Omnibus):                  0.000   Jarque-Bera (JB):              194.872\n",
            "Skew:                          -0.735   Prob(JB):                     4.83e-43\n",
            "Kurtosis:                       5.647   Cond. No.                         12.1\n",
            "==============================================================================\n",
            "\n",
            "Warnings:\n",
            "[1] Standard Errors assume that the covariance matrix of the errors is correctly specified.\n"
          ]
        },
        {
          "output_type": "stream",
          "name": "stderr",
          "text": [
            "/usr/local/lib/python3.7/dist-packages/statsmodels/tsa/tsatools.py:117: FutureWarning:\n",
            "\n",
            "In a future version of pandas all arguments of concat except for the argument 'objs' will be keyword-only\n",
            "\n"
          ]
        }
      ]
    },
    {
      "cell_type": "markdown",
      "source": [
        "## Manual - Model 24"
      ],
      "metadata": {
        "id": "0nR89ueyUUlC"
      }
    },
    {
      "cell_type": "code",
      "source": [
        "X_train.drop(['Month_10'],axis=1,inplace=True)  \n",
        "lr_all = linear_model(X_train.columns,X_train)"
      ],
      "metadata": {
        "colab": {
          "base_uri": "https://localhost:8080/"
        },
        "id": "LM362h7fwfnj",
        "outputId": "661ba3a7-93cf-484b-d1be-3deafad61778"
      },
      "execution_count": 390,
      "outputs": [
        {
          "output_type": "stream",
          "name": "stdout",
          "text": [
            "                            OLS Regression Results                            \n",
            "==============================================================================\n",
            "Dep. Variable:                    cnt   R-squared:                       0.839\n",
            "Model:                            OLS   Adj. R-squared:                  0.835\n",
            "Method:                 Least Squares   F-statistic:                     235.8\n",
            "Date:                Fri, 03 Jun 2022   Prob (F-statistic):          2.00e-189\n",
            "Time:                        02:01:19   Log-Likelihood:                 504.10\n",
            "No. Observations:                 510   AIC:                            -984.2\n",
            "Df Residuals:                     498   BIC:                            -933.4\n",
            "Df Model:                          11                                         \n",
            "Covariance Type:            nonrobust                                         \n",
            "===================================================================================\n",
            "                      coef    std err          t      P>|t|      [0.025      0.975]\n",
            "-----------------------------------------------------------------------------------\n",
            "const               0.0813      0.019      4.384      0.000       0.045       0.118\n",
            "yr                  0.2328      0.008     28.590      0.000       0.217       0.249\n",
            "workingday          0.0548      0.011      4.951      0.000       0.033       0.077\n",
            "temp                0.5209      0.022     24.043      0.000       0.478       0.563\n",
            "windspeed          -0.1518      0.025     -6.111      0.000      -0.201      -0.103\n",
            "isSummer            0.0998      0.011      9.102      0.000       0.078       0.121\n",
            "isWinter            0.1391      0.011     13.242      0.000       0.118       0.160\n",
            "Month_8             0.0512      0.016      3.115      0.002       0.019       0.084\n",
            "Month_9             0.1116      0.016      6.862      0.000       0.080       0.144\n",
            "Mist               -0.0839      0.009     -9.626      0.000      -0.101      -0.067\n",
            "Light_Snow_Rain    -0.2869      0.024    -11.714      0.000      -0.335      -0.239\n",
            "Weekday_6           0.0655      0.014      4.593      0.000       0.037       0.094\n",
            "==============================================================================\n",
            "Omnibus:                       66.187   Durbin-Watson:                   2.044\n",
            "Prob(Omnibus):                  0.000   Jarque-Bera (JB):              160.561\n",
            "Skew:                          -0.676   Prob(JB):                     1.36e-35\n",
            "Kurtosis:                       5.394   Cond. No.                         11.8\n",
            "==============================================================================\n",
            "\n",
            "Warnings:\n",
            "[1] Standard Errors assume that the covariance matrix of the errors is correctly specified.\n"
          ]
        },
        {
          "output_type": "stream",
          "name": "stderr",
          "text": [
            "/usr/local/lib/python3.7/dist-packages/statsmodels/tsa/tsatools.py:117: FutureWarning:\n",
            "\n",
            "In a future version of pandas all arguments of concat except for the argument 'objs' will be keyword-only\n",
            "\n"
          ]
        }
      ]
    },
    {
      "cell_type": "markdown",
      "source": [
        "## Manual - Model 25"
      ],
      "metadata": {
        "id": "ZoOfOG69UV7o"
      }
    },
    {
      "cell_type": "code",
      "source": [
        "X_train.drop(['Month_8'],axis=1,inplace=True)  \n",
        "lr_all = linear_model(X_train.columns,X_train)"
      ],
      "metadata": {
        "colab": {
          "base_uri": "https://localhost:8080/"
        },
        "id": "0i8XIADMwkod",
        "outputId": "cee0c09b-712e-417b-b0f4-4b2bcbc00e2f"
      },
      "execution_count": 391,
      "outputs": [
        {
          "output_type": "stream",
          "name": "stderr",
          "text": [
            "/usr/local/lib/python3.7/dist-packages/statsmodels/tsa/tsatools.py:117: FutureWarning:\n",
            "\n",
            "In a future version of pandas all arguments of concat except for the argument 'objs' will be keyword-only\n",
            "\n"
          ]
        },
        {
          "output_type": "stream",
          "name": "stdout",
          "text": [
            "                            OLS Regression Results                            \n",
            "==============================================================================\n",
            "Dep. Variable:                    cnt   R-squared:                       0.836\n",
            "Model:                            OLS   Adj. R-squared:                  0.832\n",
            "Method:                 Least Squares   F-statistic:                     254.0\n",
            "Date:                Fri, 03 Jun 2022   Prob (F-statistic):          1.47e-188\n",
            "Time:                        02:01:19   Log-Likelihood:                 499.18\n",
            "No. Observations:                 510   AIC:                            -976.4\n",
            "Df Residuals:                     499   BIC:                            -929.8\n",
            "Df Model:                          10                                         \n",
            "Covariance Type:            nonrobust                                         \n",
            "===================================================================================\n",
            "                      coef    std err          t      P>|t|      [0.025      0.975]\n",
            "-----------------------------------------------------------------------------------\n",
            "const               0.0753      0.019      4.051      0.000       0.039       0.112\n",
            "yr                  0.2331      0.008     28.382      0.000       0.217       0.249\n",
            "workingday          0.0563      0.011      5.048      0.000       0.034       0.078\n",
            "temp                0.5499      0.020     27.885      0.000       0.511       0.589\n",
            "windspeed          -0.1552      0.025     -6.201      0.000      -0.204      -0.106\n",
            "isSummer            0.0874      0.010      8.481      0.000       0.067       0.108\n",
            "isWinter            0.1318      0.010     12.760      0.000       0.112       0.152\n",
            "Month_9             0.0972      0.016      6.181      0.000       0.066       0.128\n",
            "Mist               -0.0813      0.009     -9.292      0.000      -0.099      -0.064\n",
            "Light_Snow_Rain    -0.2880      0.025    -11.659      0.000      -0.337      -0.239\n",
            "Weekday_6           0.0677      0.014      4.710      0.000       0.039       0.096\n",
            "==============================================================================\n",
            "Omnibus:                       68.959   Durbin-Watson:                   2.080\n",
            "Prob(Omnibus):                  0.000   Jarque-Bera (JB):              153.793\n",
            "Skew:                          -0.731   Prob(JB):                     4.02e-34\n",
            "Kurtosis:                       5.258   Cond. No.                         11.6\n",
            "==============================================================================\n",
            "\n",
            "Warnings:\n",
            "[1] Standard Errors assume that the covariance matrix of the errors is correctly specified.\n"
          ]
        }
      ]
    },
    {
      "cell_type": "code",
      "source": [
        "get_vif(X_train)"
      ],
      "metadata": {
        "colab": {
          "base_uri": "https://localhost:8080/"
        },
        "id": "kMfAcsaIwN6Z",
        "outputId": "65f06999-0002-47d9-ed82-d25998b121b4"
      },
      "execution_count": 392,
      "outputs": [
        {
          "output_type": "stream",
          "name": "stdout",
          "text": [
            "          features   VIF\n",
            "2             temp  4.76\n",
            "1       workingday  4.04\n",
            "3        windspeed  3.43\n",
            "0               yr  2.02\n",
            "9        Weekday_6  1.69\n",
            "4         isSummer  1.57\n",
            "7             Mist  1.53\n",
            "5         isWinter  1.40\n",
            "6          Month_9  1.20\n",
            "8  Light_Snow_Rain  1.08\n"
          ]
        }
      ]
    },
    {
      "cell_type": "markdown",
      "source": [
        "# **Final Manual Model**"
      ],
      "metadata": {
        "id": "Lk4E-QF2UbbQ"
      }
    },
    {
      "cell_type": "code",
      "source": [
        "lr_manual_final = linear_model(X_train.columns,X_train)"
      ],
      "metadata": {
        "colab": {
          "base_uri": "https://localhost:8080/"
        },
        "id": "XDcPmW0XxGEO",
        "outputId": "d0962590-7e67-441f-f1c2-b4685b6f1f56"
      },
      "execution_count": 393,
      "outputs": [
        {
          "output_type": "stream",
          "name": "stdout",
          "text": [
            "                            OLS Regression Results                            \n",
            "==============================================================================\n",
            "Dep. Variable:                    cnt   R-squared:                       0.836\n",
            "Model:                            OLS   Adj. R-squared:                  0.832\n",
            "Method:                 Least Squares   F-statistic:                     254.0\n",
            "Date:                Fri, 03 Jun 2022   Prob (F-statistic):          1.47e-188\n",
            "Time:                        02:01:19   Log-Likelihood:                 499.18\n",
            "No. Observations:                 510   AIC:                            -976.4\n",
            "Df Residuals:                     499   BIC:                            -929.8\n",
            "Df Model:                          10                                         \n",
            "Covariance Type:            nonrobust                                         \n",
            "===================================================================================\n",
            "                      coef    std err          t      P>|t|      [0.025      0.975]\n",
            "-----------------------------------------------------------------------------------\n",
            "const               0.0753      0.019      4.051      0.000       0.039       0.112\n",
            "yr                  0.2331      0.008     28.382      0.000       0.217       0.249\n",
            "workingday          0.0563      0.011      5.048      0.000       0.034       0.078\n",
            "temp                0.5499      0.020     27.885      0.000       0.511       0.589\n",
            "windspeed          -0.1552      0.025     -6.201      0.000      -0.204      -0.106\n",
            "isSummer            0.0874      0.010      8.481      0.000       0.067       0.108\n",
            "isWinter            0.1318      0.010     12.760      0.000       0.112       0.152\n",
            "Month_9             0.0972      0.016      6.181      0.000       0.066       0.128\n",
            "Mist               -0.0813      0.009     -9.292      0.000      -0.099      -0.064\n",
            "Light_Snow_Rain    -0.2880      0.025    -11.659      0.000      -0.337      -0.239\n",
            "Weekday_6           0.0677      0.014      4.710      0.000       0.039       0.096\n",
            "==============================================================================\n",
            "Omnibus:                       68.959   Durbin-Watson:                   2.080\n",
            "Prob(Omnibus):                  0.000   Jarque-Bera (JB):              153.793\n",
            "Skew:                          -0.731   Prob(JB):                     4.02e-34\n",
            "Kurtosis:                       5.258   Cond. No.                         11.6\n",
            "==============================================================================\n",
            "\n",
            "Warnings:\n",
            "[1] Standard Errors assume that the covariance matrix of the errors is correctly specified.\n"
          ]
        },
        {
          "output_type": "stream",
          "name": "stderr",
          "text": [
            "/usr/local/lib/python3.7/dist-packages/statsmodels/tsa/tsatools.py:117: FutureWarning:\n",
            "\n",
            "In a future version of pandas all arguments of concat except for the argument 'objs' will be keyword-only\n",
            "\n"
          ]
        }
      ]
    },
    {
      "cell_type": "markdown",
      "source": [
        "#### Observations\n",
        "\n",
        "\n",
        "1.   I think it should be our final model as we have all P-values 0.000 and also VIF <5.\n",
        "\n",
        "R2 of our final model is 0.836 - which is good.\n",
        "\n",
        "2.   Let's try to predict the y_train values and see Error terms.\n",
        "\n"
      ],
      "metadata": {
        "id": "RfJiNPNpwv5j"
      }
    },
    {
      "cell_type": "markdown",
      "source": [
        "## Step 6: Residual Analysis"
      ],
      "metadata": {
        "id": "aSTOAd4U3BKJ"
      }
    },
    {
      "cell_type": "code",
      "source": [
        "X_train_pred = sm.add_constant(X_train)\n",
        "y_train_pred = lr_manual_final.predict(X_train_pred)\n",
        "res = y_train - y_train_pred"
      ],
      "metadata": {
        "colab": {
          "base_uri": "https://localhost:8080/"
        },
        "id": "7WY8XAPm3EdO",
        "outputId": "ad8b74cc-2058-4f4b-8c96-a18e14d8c95d"
      },
      "execution_count": 394,
      "outputs": [
        {
          "output_type": "stream",
          "name": "stderr",
          "text": [
            "/usr/local/lib/python3.7/dist-packages/statsmodels/tsa/tsatools.py:117: FutureWarning:\n",
            "\n",
            "In a future version of pandas all arguments of concat except for the argument 'objs' will be keyword-only\n",
            "\n"
          ]
        }
      ]
    },
    {
      "cell_type": "code",
      "source": [
        "fig = px.histogram(data_frame=res,histnorm='probability')\n",
        "fig.update_xaxes(title={'text':'Error Terms - (y_test - y_predicted)'})\n",
        "fig.update_layout(title={'text':'Error Terms'})\n",
        "fig.show()\n"
      ],
      "metadata": {
        "colab": {
          "base_uri": "https://localhost:8080/",
          "height": 542
        },
        "id": "xCpCpqDX30SQ",
        "outputId": "c45dc5ef-1b9b-45f1-80a1-49963c30ff56"
      },
      "execution_count": 395,
      "outputs": [
        {
          "output_type": "display_data",
          "data": {
            "text/html": [
              "<html>\n",
              "<head><meta charset=\"utf-8\" /></head>\n",
              "<body>\n",
              "    <div>            <script src=\"https://cdnjs.cloudflare.com/ajax/libs/mathjax/2.7.5/MathJax.js?config=TeX-AMS-MML_SVG\"></script><script type=\"text/javascript\">if (window.MathJax) {MathJax.Hub.Config({SVG: {font: \"STIX-Web\"}});}</script>                <script type=\"text/javascript\">window.PlotlyConfig = {MathJaxConfig: 'local'};</script>\n",
              "        <script src=\"https://cdn.plot.ly/plotly-2.8.3.min.js\"></script>                <div id=\"d517825f-0cfc-4790-a5a4-4a99a3cb24e3\" class=\"plotly-graph-div\" style=\"height:525px; width:100%;\"></div>            <script type=\"text/javascript\">                                    window.PLOTLYENV=window.PLOTLYENV || {};                                    if (document.getElementById(\"d517825f-0cfc-4790-a5a4-4a99a3cb24e3\")) {                    Plotly.newPlot(                        \"d517825f-0cfc-4790-a5a4-4a99a3cb24e3\",                        [{\"alignmentgroup\":\"True\",\"bingroup\":\"x\",\"histnorm\":\"probability\",\"hovertemplate\":\"variable=0<br>value=%{x}<br>probability=%{y}<extra></extra>\",\"legendgroup\":\"0\",\"marker\":{\"color\":\"#636efa\",\"pattern\":{\"shape\":\"\"}},\"name\":\"0\",\"offsetgroup\":\"0\",\"orientation\":\"v\",\"showlegend\":true,\"x\":[0.13400265081369078,0.055752542622089396,-0.03311635562363069,-0.1361360210725337,-0.08751129294129173,-0.0776724920431919,-0.024817553138458126,0.03046756290067132,-0.00241371338327645,-0.10596028447995187,0.17010331068930995,0.10718844333485056,0.040257493760552765,0.0014092779308901848,0.026023101839088514,0.11493695377126667,-0.08666182170061287,0.08868641173152336,0.15202393321867536,-0.04571476634540583,0.03497622365829023,0.02807962624438043,0.03248612033958964,-0.00043885578188451735,0.06076793530921243,-0.06533852466381318,0.06816552533938991,-0.0013499923821648219,0.09955884944148752,-0.041656274024206685,-0.0023204901094427965,0.14007661856875436,-0.25033793154259115,0.11033745035077136,0.04429168736133704,-0.04052652257763434,-0.21127502935496142,-0.031004785317867767,-0.0018395955657065644,-0.08797670640977706,0.028736369837562337,0.010152869301860656,-0.21000013170962545,-0.008800270354299977,-0.10827549306944262,-0.02093018435285643,0.0008552555599836698,-0.023331626841662678,0.03046324351349139,0.07684212952614233,0.04242043003357049,0.04464028913453866,-0.09831866910911458,-0.01287859935269442,0.029324907096263342,0.013980167253309084,0.015985521206898667,0.0946653063769427,-0.3312378726834152,0.08297873319415838,0.023033203091064214,0.04329847950480692,0.03334493092206703,0.059971679534279954,0.09824368715818244,-0.07293728045494918,-0.08655166652914181,0.028461760722935825,-0.17952771750999025,-0.04611321835798732,-0.12192452798125464,0.048514998807963505,0.14718910410538621,0.00954667268372364,0.043455038900249376,-0.07946684672274357,-0.033148466792706055,-0.1915290606090697,-0.07396698373654853,-0.034874439988151595,0.08344071613849136,-0.042130291284661614,-0.02488005885975958,0.036871981510652074,0.05917636731009801,-0.07487644120255998,0.03650761747434156,-0.07707364176078746,-0.03163259092016468,-0.08182007002579553,0.06893493726045591,-0.007945311768914776,0.059248173774516855,0.03476423318570088,-0.03250968277733679,0.052129867538818764,-0.04049037824535398,0.028377236430670805,-0.029494185434571718,0.05397976612342131,-0.00980571686169171,-0.17414323228599615,-0.10124442425562624,0.023117708845325824,0.07370032485439115,-0.1455699898381101,0.08577928572798718,0.03606866579524992,-0.040281297346726586,0.08617053571189126,0.034112251564356266,0.03203798895009202,-0.016195744798595313,-0.044081754331588646,-0.04225463352664749,0.036466527147113514,0.0015255720403870854,-0.08828580329734892,-0.04489361323065333,-0.0009359053969915654,0.0014744121137185706,0.041233143150028975,0.03656175670361822,0.06599840022715234,0.22328494642505015,-0.007460463125851802,0.04385423480979084,-0.055695568224152114,0.031079386271676612,0.05910333117402056,0.048509701552603854,0.04335927659033467,-0.02254991524762867,-0.017391768124981832,0.032709226672910346,0.012289190467850597,-0.09141514017308527,-0.0414221506739727,0.02754214980446279,-0.0758314398290082,-0.09646512539929658,-9.966098576730253e-05,-0.09730763312263424,0.0032543266228135526,0.020857123795080756,-0.014170291785448597,0.015298328952128126,0.00763717590867885,-0.035031827200671106,-0.04368369273990036,0.08862285302395323,0.025512677820876628,-0.3640742343832559,-0.03791705188938044,0.05222653895913648,-0.050944338779592924,-0.05904946234229169,0.1352839474972024,-0.009952389786600513,-0.034819825578257246,0.0586583422257817,-0.005496405806023508,0.040178830370392604,-0.016550918063986453,-0.12626015618003505,0.0449543094324264,0.05196824392623545,-0.12602686221341608,0.01703099420731552,-0.02830688896141134,-0.07897383104996802,0.03539991744928794,0.13188010583499876,0.0657596495665923,-0.10055554879092254,0.31527934536722135,-0.06555472062767656,0.005183513493110026,0.020020960655505682,0.035129924655602746,0.08163945483803658,-0.24109556609550753,0.10393060201517701,0.03737240302179501,-0.1327059097027231,0.08672643237771205,0.010591658850720609,0.11204736224370093,-0.08502156392776475,-0.14266741061382215,-0.07311615890678852,-0.1690096790025462,0.15550005630637842,0.018979001694303388,-0.07985790574179435,0.021726758179489103,0.011817454684937112,-0.09228848009280138,-0.08578453872523056,-0.005401830445090516,-0.06259411610750346,0.11321597110033232,0.0025974276726754564,0.03202904383580796,0.03298411936548895,0.04759514671761195,-0.17759900428942688,0.02000977419416372,0.01594022026035294,-0.04394914587212195,0.08668303935082444,0.07286337743603655,0.04130090451822638,-0.043274613727507405,-0.153106859948295,-0.09235529410758231,-0.1401376047881273,0.08602672530595834,0.21884236457964257,-0.18165199173244584,-0.031655351428268586,0.07737710946145104,-0.11154214290293035,-0.19719747867158524,0.06318643461364787,0.1068942777961644,0.09125711006202186,-0.0006801671752360017,0.05228312621031275,0.007711724492124761,-0.03501912092425974,-0.13245238434419207,-0.08603449843844235,-0.05304733663023936,-0.12839777325621426,-0.005778949874098993,-0.0991094199300585,0.0806368434835048,-0.17485618590462915,0.04880311707827678,-0.032754453814370255,0.11286381553008684,0.1225265185741451,-0.11983713700897208,0.06149686828416068,-0.033795531452860295,0.15571797382531083,0.050189495402303,0.09134877978805322,-0.00029745255477287014,0.04748569223900356,0.10089600974413138,0.03680830035582627,0.01631786513371436,-0.2550073376119619,0.07826861112055361,-0.26869542434198,0.0994533868612435,-0.0054849055000085745,-0.10673643982268893,0.025349258652996115,-0.14499385676250498,-0.09489669352985064,0.010911093096505398,-0.06688562437374201,0.14314940794599862,-0.01466816157702211,0.029739998755168084,0.0732167865621931,0.04376510620597146,-0.06754679725973856,0.0009231118309529496,0.10132072008380266,0.0945553891037314,-0.07223358646389683,-0.28701421183201326,0.05369554378555974,-0.02390607973383274,0.06911631085113674,-0.005328366027841425,0.180282414419914,-0.11118790294566921,0.003177857282290253,-0.004640942988034746,0.019787266982123852,-0.08036826935756614,-0.03784856731611713,-0.04774429961621962,0.039958244023763634,-0.12259367160201518,-0.0013770417937224444,0.0991909031101923,0.062467771674966976,0.15709795969684237,0.0672042771855571,-0.15382427550256292,0.03727906720034241,0.057887057936437836,0.12888335403416623,-0.14888853532311574,0.048211082713770614,0.029006753652743855,0.005424617895568307,0.11171370155694993,-0.16837981566275007,0.04215668889635657,0.011354546314576885,0.019180487546215375,0.019812878921108834,-0.14660657349325618,0.000476797106030713,0.027359429886792075,0.15416644770117194,-0.04852174828350264,-0.018409487077655773,0.11578521306192091,-0.012660064002324667,-0.03574973913991103,-0.013932787744242114,0.06765960441678232,-0.0010128524397353678,0.01505207280081422,-0.34172659062316824,-0.04096954478424997,0.053552217091981436,0.15923700788188577,0.1059505731598046,-0.021647330975321843,-0.1813236784915393,0.02365941159116891,-0.0005193166894735535,0.030096579260507017,0.010703965389924464,0.04445719459893527,0.04559538934917051,0.028556962275464948,-0.025741743316705118,0.09066599173735745,-0.009298712025844091,0.02781331074720711,0.15726078860683196,0.09017944267624145,0.06956573398027543,-0.017936919874426194,0.21615692719067703,-0.04496927855650129,0.1500342457936557,0.002247938602034205,-0.023857605525487435,-0.3526851648825727,0.0075733687076158795,-0.03021872996251107,-0.04774595551354277,-0.018116809468340545,0.10610017298602947,0.009211291850209552,-0.004956893402486617,-0.040727516833467814,0.09090711384674988,-0.04782053354310861,-0.013230691560991159,-0.0014885210821251604,0.05882165153511043,0.04327750200162114,0.06307940482218155,-0.07513452598353185,-0.023189769842439034,-0.07588195153726973,-0.016368220247910625,-0.04555911018686587,0.027049646023072804,0.03659064064072559,0.010029731648630413,0.047768647705870415,-0.09628605027694054,-0.17402576154460891,-0.05517889968264578,0.02596267795090168,-0.021340134385919085,-0.0013900561583770898,-0.16564860337009177,-0.0900195070405938,0.038551754684488904,-0.007151869631627283,0.06793987947430793,0.019034815975287667,0.018229898530930044,0.002599429188592628,0.03157086986136004,-0.018818463150432174,0.03132258933529919,-0.09719876155423735,0.054420788937541875,0.03373549793359587,0.08326505508843085,-0.0011976990232311358,0.007550542077527478,0.08484850623971507,0.0130746318771634,-0.05895821405781021,0.06187760373562279,0.018572985479317516,-0.015939629205194095,0.08920032498002739,0.004313273054405042,0.17543189144592888,-0.054729391172774644,-0.037913115326518976,-0.016683527853322833,-0.01805665421647673,-0.07359201332867268,-0.04176106573233723,0.10078384690887054,0.0650094917880975,-0.018576476347615167,0.14242312222944398,0.09000982163008608,-0.04461829702424014,0.039540318652397044,0.020139640783077783,0.06956472787602697,0.02940052671738158,-0.05940479247402339,-0.058268551544903346,0.04537916685732157,0.2416401977468503,0.16128129188932583,0.004776130075333396,-0.060073734057645045,0.12846528177098515,-0.06415096241588658,0.08708376008373242,-0.02807213919072188,-0.019203746427155832,0.1284733513034113,-0.05217567206854329,-0.035761091190373295,-0.06164453442480544,-0.0713727973792031,0.0377150958353131,-0.013275047451230426,0.11116899956891257,0.12445664187280964,0.059691489419331445,0.09413514222215036,0.10965740703224625,0.0792997499308643,-0.03632845611928076,-0.0934629564400184,0.1420407739135715,0.07486741363295268,0.06107905177062417,0.04066624830939383,0.1388153608354622,-0.040592641985754074,-0.012296885207849717,-0.10676779052029106,0.026502423733884783,0.07480115450952163,-0.07953383041118889,0.07269154706355671,-0.025123060859661817,-0.047340079440111704,0.08481304073802717,0.0905013214611804,-0.06617125507984745,0.13029526895914867,-0.07357349564339027,0.03144652654314262,-0.09527171219563313,0.06346400901149235,-0.03428018242761732,0.1261493210412299,-0.01498347614368567,-0.10317672832934816,-0.2501306592439533,0.02613890558840437,0.04826364248184878,0.0219665407063116,-0.06837550452200225,0.019795925870806252,0.11428196219050779,-0.00426698005353221,-0.00822262584277833,-0.05641935278739729,0.015642548340411677,0.06425155442300745,-0.035211088760136455,-0.09323476736931757,0.015960270451339298,-0.016847768445649947,-0.06196795090881724,0.03263229756427899,-0.039942488749100835,-0.41216614472306046,-0.02044154975655113,-0.07221315364916514,-0.1010285984228047,0.14378344606652727,-0.13371700296867306,0.15822123498279084,0.03629277414605747,-0.015456742628410014,0.19361594604598453,0.02900849822400897,-0.004862565416912323,0.02205259353719291,-0.0077678258306467796,0.049624942087148516,-0.07348276036111193],\"xaxis\":\"x\",\"yaxis\":\"y\",\"type\":\"histogram\"}],                        {\"template\":{\"data\":{\"bar\":[{\"error_x\":{\"color\":\"#2a3f5f\"},\"error_y\":{\"color\":\"#2a3f5f\"},\"marker\":{\"line\":{\"color\":\"#E5ECF6\",\"width\":0.5},\"pattern\":{\"fillmode\":\"overlay\",\"size\":10,\"solidity\":0.2}},\"type\":\"bar\"}],\"barpolar\":[{\"marker\":{\"line\":{\"color\":\"#E5ECF6\",\"width\":0.5},\"pattern\":{\"fillmode\":\"overlay\",\"size\":10,\"solidity\":0.2}},\"type\":\"barpolar\"}],\"carpet\":[{\"aaxis\":{\"endlinecolor\":\"#2a3f5f\",\"gridcolor\":\"white\",\"linecolor\":\"white\",\"minorgridcolor\":\"white\",\"startlinecolor\":\"#2a3f5f\"},\"baxis\":{\"endlinecolor\":\"#2a3f5f\",\"gridcolor\":\"white\",\"linecolor\":\"white\",\"minorgridcolor\":\"white\",\"startlinecolor\":\"#2a3f5f\"},\"type\":\"carpet\"}],\"choropleth\":[{\"colorbar\":{\"outlinewidth\":0,\"ticks\":\"\"},\"type\":\"choropleth\"}],\"contour\":[{\"colorbar\":{\"outlinewidth\":0,\"ticks\":\"\"},\"colorscale\":[[0.0,\"#0d0887\"],[0.1111111111111111,\"#46039f\"],[0.2222222222222222,\"#7201a8\"],[0.3333333333333333,\"#9c179e\"],[0.4444444444444444,\"#bd3786\"],[0.5555555555555556,\"#d8576b\"],[0.6666666666666666,\"#ed7953\"],[0.7777777777777778,\"#fb9f3a\"],[0.8888888888888888,\"#fdca26\"],[1.0,\"#f0f921\"]],\"type\":\"contour\"}],\"contourcarpet\":[{\"colorbar\":{\"outlinewidth\":0,\"ticks\":\"\"},\"type\":\"contourcarpet\"}],\"heatmap\":[{\"colorbar\":{\"outlinewidth\":0,\"ticks\":\"\"},\"colorscale\":[[0.0,\"#0d0887\"],[0.1111111111111111,\"#46039f\"],[0.2222222222222222,\"#7201a8\"],[0.3333333333333333,\"#9c179e\"],[0.4444444444444444,\"#bd3786\"],[0.5555555555555556,\"#d8576b\"],[0.6666666666666666,\"#ed7953\"],[0.7777777777777778,\"#fb9f3a\"],[0.8888888888888888,\"#fdca26\"],[1.0,\"#f0f921\"]],\"type\":\"heatmap\"}],\"heatmapgl\":[{\"colorbar\":{\"outlinewidth\":0,\"ticks\":\"\"},\"colorscale\":[[0.0,\"#0d0887\"],[0.1111111111111111,\"#46039f\"],[0.2222222222222222,\"#7201a8\"],[0.3333333333333333,\"#9c179e\"],[0.4444444444444444,\"#bd3786\"],[0.5555555555555556,\"#d8576b\"],[0.6666666666666666,\"#ed7953\"],[0.7777777777777778,\"#fb9f3a\"],[0.8888888888888888,\"#fdca26\"],[1.0,\"#f0f921\"]],\"type\":\"heatmapgl\"}],\"histogram\":[{\"marker\":{\"pattern\":{\"fillmode\":\"overlay\",\"size\":10,\"solidity\":0.2}},\"type\":\"histogram\"}],\"histogram2d\":[{\"colorbar\":{\"outlinewidth\":0,\"ticks\":\"\"},\"colorscale\":[[0.0,\"#0d0887\"],[0.1111111111111111,\"#46039f\"],[0.2222222222222222,\"#7201a8\"],[0.3333333333333333,\"#9c179e\"],[0.4444444444444444,\"#bd3786\"],[0.5555555555555556,\"#d8576b\"],[0.6666666666666666,\"#ed7953\"],[0.7777777777777778,\"#fb9f3a\"],[0.8888888888888888,\"#fdca26\"],[1.0,\"#f0f921\"]],\"type\":\"histogram2d\"}],\"histogram2dcontour\":[{\"colorbar\":{\"outlinewidth\":0,\"ticks\":\"\"},\"colorscale\":[[0.0,\"#0d0887\"],[0.1111111111111111,\"#46039f\"],[0.2222222222222222,\"#7201a8\"],[0.3333333333333333,\"#9c179e\"],[0.4444444444444444,\"#bd3786\"],[0.5555555555555556,\"#d8576b\"],[0.6666666666666666,\"#ed7953\"],[0.7777777777777778,\"#fb9f3a\"],[0.8888888888888888,\"#fdca26\"],[1.0,\"#f0f921\"]],\"type\":\"histogram2dcontour\"}],\"mesh3d\":[{\"colorbar\":{\"outlinewidth\":0,\"ticks\":\"\"},\"type\":\"mesh3d\"}],\"parcoords\":[{\"line\":{\"colorbar\":{\"outlinewidth\":0,\"ticks\":\"\"}},\"type\":\"parcoords\"}],\"pie\":[{\"automargin\":true,\"type\":\"pie\"}],\"scatter\":[{\"marker\":{\"colorbar\":{\"outlinewidth\":0,\"ticks\":\"\"}},\"type\":\"scatter\"}],\"scatter3d\":[{\"line\":{\"colorbar\":{\"outlinewidth\":0,\"ticks\":\"\"}},\"marker\":{\"colorbar\":{\"outlinewidth\":0,\"ticks\":\"\"}},\"type\":\"scatter3d\"}],\"scattercarpet\":[{\"marker\":{\"colorbar\":{\"outlinewidth\":0,\"ticks\":\"\"}},\"type\":\"scattercarpet\"}],\"scattergeo\":[{\"marker\":{\"colorbar\":{\"outlinewidth\":0,\"ticks\":\"\"}},\"type\":\"scattergeo\"}],\"scattergl\":[{\"marker\":{\"colorbar\":{\"outlinewidth\":0,\"ticks\":\"\"}},\"type\":\"scattergl\"}],\"scattermapbox\":[{\"marker\":{\"colorbar\":{\"outlinewidth\":0,\"ticks\":\"\"}},\"type\":\"scattermapbox\"}],\"scatterpolar\":[{\"marker\":{\"colorbar\":{\"outlinewidth\":0,\"ticks\":\"\"}},\"type\":\"scatterpolar\"}],\"scatterpolargl\":[{\"marker\":{\"colorbar\":{\"outlinewidth\":0,\"ticks\":\"\"}},\"type\":\"scatterpolargl\"}],\"scatterternary\":[{\"marker\":{\"colorbar\":{\"outlinewidth\":0,\"ticks\":\"\"}},\"type\":\"scatterternary\"}],\"surface\":[{\"colorbar\":{\"outlinewidth\":0,\"ticks\":\"\"},\"colorscale\":[[0.0,\"#0d0887\"],[0.1111111111111111,\"#46039f\"],[0.2222222222222222,\"#7201a8\"],[0.3333333333333333,\"#9c179e\"],[0.4444444444444444,\"#bd3786\"],[0.5555555555555556,\"#d8576b\"],[0.6666666666666666,\"#ed7953\"],[0.7777777777777778,\"#fb9f3a\"],[0.8888888888888888,\"#fdca26\"],[1.0,\"#f0f921\"]],\"type\":\"surface\"}],\"table\":[{\"cells\":{\"fill\":{\"color\":\"#EBF0F8\"},\"line\":{\"color\":\"white\"}},\"header\":{\"fill\":{\"color\":\"#C8D4E3\"},\"line\":{\"color\":\"white\"}},\"type\":\"table\"}]},\"layout\":{\"annotationdefaults\":{\"arrowcolor\":\"#2a3f5f\",\"arrowhead\":0,\"arrowwidth\":1},\"autotypenumbers\":\"strict\",\"coloraxis\":{\"colorbar\":{\"outlinewidth\":0,\"ticks\":\"\"}},\"colorscale\":{\"diverging\":[[0,\"#8e0152\"],[0.1,\"#c51b7d\"],[0.2,\"#de77ae\"],[0.3,\"#f1b6da\"],[0.4,\"#fde0ef\"],[0.5,\"#f7f7f7\"],[0.6,\"#e6f5d0\"],[0.7,\"#b8e186\"],[0.8,\"#7fbc41\"],[0.9,\"#4d9221\"],[1,\"#276419\"]],\"sequential\":[[0.0,\"#0d0887\"],[0.1111111111111111,\"#46039f\"],[0.2222222222222222,\"#7201a8\"],[0.3333333333333333,\"#9c179e\"],[0.4444444444444444,\"#bd3786\"],[0.5555555555555556,\"#d8576b\"],[0.6666666666666666,\"#ed7953\"],[0.7777777777777778,\"#fb9f3a\"],[0.8888888888888888,\"#fdca26\"],[1.0,\"#f0f921\"]],\"sequentialminus\":[[0.0,\"#0d0887\"],[0.1111111111111111,\"#46039f\"],[0.2222222222222222,\"#7201a8\"],[0.3333333333333333,\"#9c179e\"],[0.4444444444444444,\"#bd3786\"],[0.5555555555555556,\"#d8576b\"],[0.6666666666666666,\"#ed7953\"],[0.7777777777777778,\"#fb9f3a\"],[0.8888888888888888,\"#fdca26\"],[1.0,\"#f0f921\"]]},\"colorway\":[\"#636efa\",\"#EF553B\",\"#00cc96\",\"#ab63fa\",\"#FFA15A\",\"#19d3f3\",\"#FF6692\",\"#B6E880\",\"#FF97FF\",\"#FECB52\"],\"font\":{\"color\":\"#2a3f5f\"},\"geo\":{\"bgcolor\":\"white\",\"lakecolor\":\"white\",\"landcolor\":\"#E5ECF6\",\"showlakes\":true,\"showland\":true,\"subunitcolor\":\"white\"},\"hoverlabel\":{\"align\":\"left\"},\"hovermode\":\"closest\",\"mapbox\":{\"style\":\"light\"},\"paper_bgcolor\":\"white\",\"plot_bgcolor\":\"#E5ECF6\",\"polar\":{\"angularaxis\":{\"gridcolor\":\"white\",\"linecolor\":\"white\",\"ticks\":\"\"},\"bgcolor\":\"#E5ECF6\",\"radialaxis\":{\"gridcolor\":\"white\",\"linecolor\":\"white\",\"ticks\":\"\"}},\"scene\":{\"xaxis\":{\"backgroundcolor\":\"#E5ECF6\",\"gridcolor\":\"white\",\"gridwidth\":2,\"linecolor\":\"white\",\"showbackground\":true,\"ticks\":\"\",\"zerolinecolor\":\"white\"},\"yaxis\":{\"backgroundcolor\":\"#E5ECF6\",\"gridcolor\":\"white\",\"gridwidth\":2,\"linecolor\":\"white\",\"showbackground\":true,\"ticks\":\"\",\"zerolinecolor\":\"white\"},\"zaxis\":{\"backgroundcolor\":\"#E5ECF6\",\"gridcolor\":\"white\",\"gridwidth\":2,\"linecolor\":\"white\",\"showbackground\":true,\"ticks\":\"\",\"zerolinecolor\":\"white\"}},\"shapedefaults\":{\"line\":{\"color\":\"#2a3f5f\"}},\"ternary\":{\"aaxis\":{\"gridcolor\":\"white\",\"linecolor\":\"white\",\"ticks\":\"\"},\"baxis\":{\"gridcolor\":\"white\",\"linecolor\":\"white\",\"ticks\":\"\"},\"bgcolor\":\"#E5ECF6\",\"caxis\":{\"gridcolor\":\"white\",\"linecolor\":\"white\",\"ticks\":\"\"}},\"title\":{\"x\":0.05},\"xaxis\":{\"automargin\":true,\"gridcolor\":\"white\",\"linecolor\":\"white\",\"ticks\":\"\",\"title\":{\"standoff\":15},\"zerolinecolor\":\"white\",\"zerolinewidth\":2},\"yaxis\":{\"automargin\":true,\"gridcolor\":\"white\",\"linecolor\":\"white\",\"ticks\":\"\",\"title\":{\"standoff\":15},\"zerolinecolor\":\"white\",\"zerolinewidth\":2}}},\"xaxis\":{\"anchor\":\"y\",\"domain\":[0.0,1.0],\"title\":{\"text\":\"Error Terms - (y_test - y_predicted)\"}},\"yaxis\":{\"anchor\":\"x\",\"domain\":[0.0,1.0],\"title\":{\"text\":\"probability\"}},\"legend\":{\"title\":{\"text\":\"variable\"},\"tracegroupgap\":0},\"margin\":{\"t\":60},\"barmode\":\"relative\",\"title\":{\"text\":\"Error Terms\"}},                        {\"responsive\": true}                    ).then(function(){\n",
              "                            \n",
              "var gd = document.getElementById('d517825f-0cfc-4790-a5a4-4a99a3cb24e3');\n",
              "var x = new MutationObserver(function (mutations, observer) {{\n",
              "        var display = window.getComputedStyle(gd).display;\n",
              "        if (!display || display === 'none') {{\n",
              "            console.log([gd, 'removed!']);\n",
              "            Plotly.purge(gd);\n",
              "            observer.disconnect();\n",
              "        }}\n",
              "}});\n",
              "\n",
              "// Listen for the removal of the full notebook cells\n",
              "var notebookContainer = gd.closest('#notebook-container');\n",
              "if (notebookContainer) {{\n",
              "    x.observe(notebookContainer, {childList: true});\n",
              "}}\n",
              "\n",
              "// Listen for the clearing of the current output cell\n",
              "var outputEl = gd.closest('.output');\n",
              "if (outputEl) {{\n",
              "    x.observe(outputEl, {childList: true});\n",
              "}}\n",
              "\n",
              "                        })                };                            </script>        </div>\n",
              "</body>\n",
              "</html>"
            ]
          },
          "metadata": {}
        }
      ]
    },
    {
      "cell_type": "markdown",
      "source": [
        "#### Observations\n",
        "\n",
        "*   Assumptions of Linear regression model is Error terms should be normally distributed and we saw that our model has almost mean of zero and normally distributed. \n",
        "*   And also there is no multicollinality as we have all features in final model <5 for VIF\n",
        "\n",
        "\n",
        "\n",
        "\n",
        "\n"
      ],
      "metadata": {
        "id": "EuUDyRkW5k1f"
      }
    },
    {
      "cell_type": "code",
      "source": [
        "px.scatter(x=y_train,y=y_train_pred)"
      ],
      "metadata": {
        "colab": {
          "base_uri": "https://localhost:8080/",
          "height": 542
        },
        "id": "ZMxQ713D43ME",
        "outputId": "6d91d6a4-eb65-4230-ae6a-2ce147cb0895"
      },
      "execution_count": 396,
      "outputs": [
        {
          "output_type": "display_data",
          "data": {
            "text/html": [
              "<html>\n",
              "<head><meta charset=\"utf-8\" /></head>\n",
              "<body>\n",
              "    <div>            <script src=\"https://cdnjs.cloudflare.com/ajax/libs/mathjax/2.7.5/MathJax.js?config=TeX-AMS-MML_SVG\"></script><script type=\"text/javascript\">if (window.MathJax) {MathJax.Hub.Config({SVG: {font: \"STIX-Web\"}});}</script>                <script type=\"text/javascript\">window.PlotlyConfig = {MathJaxConfig: 'local'};</script>\n",
              "        <script src=\"https://cdn.plot.ly/plotly-2.8.3.min.js\"></script>                <div id=\"78feaad3-39fa-427e-91e3-ed3634860730\" class=\"plotly-graph-div\" style=\"height:525px; width:100%;\"></div>            <script type=\"text/javascript\">                                    window.PLOTLYENV=window.PLOTLYENV || {};                                    if (document.getElementById(\"78feaad3-39fa-427e-91e3-ed3634860730\")) {                    Plotly.newPlot(                        \"78feaad3-39fa-427e-91e3-ed3634860730\",                        [{\"hovertemplate\":\"x=%{x}<br>y=%{y}<extra></extra>\",\"legendgroup\":\"\",\"marker\":{\"color\":\"#636efa\",\"symbol\":\"circle\"},\"mode\":\"markers\",\"name\":\"\",\"orientation\":\"v\",\"showlegend\":false,\"x\":[0.8642429820524621,0.8276576161988035,0.46525540727105386,0.20409572020248506,0.4829728485964105,0.19109526000920388,0.7825586746433503,0.8515876668200645,0.7103083294983893,0.4998849516797055,0.6924758398527382,0.9817073170731707,0.47491946617579384,0.737919926369075,0.541302346985734,0.8856419696272435,0.5208237459733088,0.6653244362632306,0.7147952139898758,0.5105844454670961,0.594684767602393,0.645651173492867,0.8094799815922687,0.6026231017027152,0.3487114588127013,0.7826737229636448,0.4718131615278417,0.7988955361251726,0.8361711919005983,0.5255407271053842,0.3912793373216751,0.5774275195582145,0.3854118729866544,0.5164519098021169,0.5716751035434883,0.5738610216290843,0.1694661757938334,0.5008053382420616,0.7779567418315693,0.6658996778647032,0.6158536585365854,0.4688219052001841,0.26138978370915783,0.13598711458812704,0.621491026231017,0.5311780947998159,0.7303267372296365,0.7832489645651174,0.7187068568798896,0.8427289461573861,0.5306028531983433,0.8034974689369535,0.4723884031293143,0.5036815462494247,0.6728025770823746,0.6120570639668661,0.7672572480441786,0.5961803957662218,0.5543028071790151,0.7612747353888634,0.3613667740450989,0.4653704555913484,0.6385181776346065,0.3034974689369535,0.6303497468936954,0.711113667740451,0.5827197422917626,0.4752646111366774,0.332604693971468,0.6913253566497929,0.6916705016106764,0.4262540266912103,0.9023239760699494,0.13173032673722965,0.5885872066267832,0.35883571099861944,0.18223653934652556,0.44696272434422457,0.5199033594109526,0.43200644270593647,0.5391164289001381,0.43085595950299127,0.37057063966866083,0.2754256787850897,0.17303267372296366,0.35078232857800273,0.49263690750115047,0.5025310630464795,0.2846295444086516,0.19443166129774506,0.1711919005982513,0.4184307409111827,0.8445697192820985,0.6369075011504832,0.6213759779107225,0.12482742751955822,0.1489875747814082,0.5861711919005983,0.4753796594569719,0.3829958582604694,0.20651173492867006,0.368844914864243,0.08421537045559135,0.25368154624942474,0.8459502991256328,0.7115738610216291,0.22112287160607458,0.20593649332719743,0.5257708237459733,0.7877358490566038,0.8825356649792914,0.5367004141739531,0.25655775425678784,0.08962264150943397,0.5921537045559135,0.371260929590428,0.18028071790151864,0.5895075931891395,0.2822135296824666,0.3782788771283939,0.4981592268752876,0.16037735849056606,0.4359180855959503,0.17498849516797058,0.8499769903359411,0.6025080533824206,0.4131385181776346,0.5454440865163369,0.5500460193281178,0.5590197883110907,0.10780027611596871,0.5601702715140359,0.24286700414173956,0.4049700874367234,0.1872986654394846,0.6564657156005522,0.5841003221352968,0.4684767602393005,0.46226415094339623,0.41141279337321673,0.3117809479981592,0.4712379199263691,0.39196962724344225,0.5323285780027611,0.7211228716060746,0.6098711458812701,0.5465945697192821,0.1655545329038196,0.4966635987114588,0.5357800276115968,0.8724114127933732,0.19132535664979292,0.0,0.7146801656695813,0.3504371836171192,0.33271974229176254,0.7072020248504371,0.8538886332259549,0.4430510814542108,0.5322135296824666,0.7893465255407272,0.7888863322595491,0.38069489185457894,0.45467096180395766,0.28428439944776807,0.8564196962724344,0.5793833410032213,0.5401518637827888,0.4081914404049701,0.1130924988495168,0.12379199263690752,0.7142199723884032,0.5212839392544869,0.6239070409572021,0.5249654855039116,0.8989875747814082,0.2271053842613898,0.4139438564196963,0.38897837091578463,0.17579383341003224,0.5985964104924069,0.4722733548090198,0.890819144040497,0.8430740911182697,0.3504371836171192,0.5767372296364474,0.11033133916244822,0.8342153704555914,0.17418315692590888,0.667395306028532,0.2618499769903359,0.4012885411872987,0.8697653014265992,0.3984123331799356,0.4352277956741832,0.7879659456971928,0.6396686608375518,0.4423607915324436,0.36493327197422915,0.49470777726645193,0.0785780027611597,0.8229406350667281,0.5658076392084675,0.45075931891394383,0.5398067188219052,0.4024390243902439,0.4989645651173493,0.44098021168890933,0.20628163828808102,0.06707317073170732,0.8695352047860101,0.5196732627703635,0.49148642429820527,0.5176023930050622,0.24792913023469862,0.2772664519098021,0.703865623561896,0.7535664979291302,1.0000000000000002,0.43994477680625865,0.5922687528762081,0.5037965945697193,0.308444546709618,0.19868844914864245,0.563046479521399,0.5624712379199264,0.8469857340082835,0.8647031753336402,0.06960423377818684,0.585020708697653,0.5547630004601933,0.2314772204325817,0.6260929590427979,0.2926829268292683,0.5859410952600093,0.6565807639208467,0.512310170271514,0.47940635066728027,0.5037965945697193,0.7773815002300967,0.36723423838011965,0.8829958582604694,0.8823055683387023,0.40520018407731245,0.6803957662218132,0.8871375977910723,0.8765531523239761,0.26231017027151404,0.7145651173492867,0.46629084215370453,0.7902669121030833,0.46180395766221816,0.7564427059364933,0.6984583525080534,0.38713759779107226,0.7227335480901979,0.5349746893695352,0.7487344684767603,0.6495628163828808,0.27082374597330877,0.19224574321214913,0.5541877588587206,0.7138748274275196,0.24298205246203408,0.7871606074551312,0.8557294063506673,0.7557524160147262,0.6783248964565117,0.8002761159687068,0.14277496548550392,0.7636907501150484,0.2699033594109526,0.6315002300966406,0.8411182696732628,0.3829958582604694,0.25943396226415094,0.6938564196962724,0.5715600552231938,0.09203865623561897,0.21042337781868387,0.6756787850897377,0.45467096180395766,0.31304647952139897,0.6631385181776346,0.514265991716521,0.5687988955361252,0.4301656695812241,0.380924988495168,0.4491486424298205,0.11562356189599632,0.6400138057984354,0.6861481822365394,0.8025770823745974,0.9316612977450529,0.4697422917625403,0.047054763000460194,0.27634606534744593,0.4800966405890474,0.18212149102623104,0.41233317993557295,0.7221583064887253,0.7503451449608836,0.36447307869305107,0.5104693971468016,0.6517487344684768,0.21283939254486886,0.7868154624942476,0.6339162448228256,0.4188909341923608,0.11378278877128395,0.4993097100782329,0.5934192360791533,0.9282098481362172,0.7665669581224114,0.47503451449608836,0.8413483663138518,0.7013345605154165,0.47917625402669123,0.4930971007823286,0.8953060285319835,0.4654855039116429,0.30039116428900137,0.3245513115508514,0.6367924528301887,0.27554072710538424,0.6086056143580304,0.3155775425678785,0.3858720662678325,0.6547399907961344,0.643005062126093,0.16428900138057986,0.6020478601012426,0.4790612057063967,0.5631615278416935,0.6701564657156006,0.41728025770823746,0.24275195582144501,0.8512425218591809,0.5568338702254947,0.4800966405890474,0.5450989415554532,0.4796364473078693,0.7532213529682467,0.25161067648412333,0.9008283479061205,0.25172572480441785,0.5323285780027611,0.5864012885411873,0.5701794753796595,0.27646111366774045,0.44546709618039576,0.6961573861021629,0.27646111366774045,0.33490566037735847,0.7825586746433503,0.13115508513575702,0.8505522319374137,0.28336401288541185,0.5823745973308789,0.43281178094799816,0.2120340543028072,0.6733778186838473,0.6301196502531063,0.24965485503911647,0.819834330418776,0.20938794293603316,0.5337091578462955,0.5355499309710078,0.5104693971468016,0.4786010124252186,0.8148872526461114,0.7861251725724805,0.594684767602393,0.7053612517257248,0.36723423838011965,0.676829268292683,0.5864012885411873,0.5483202945237,0.5232397606994937,0.14104924068108607,0.14714680165669583,0.5781178094799816,0.35607455131155086,0.6530142659917165,0.19397146801656698,0.4027841693511275,0.606994937873907,0.4887252646111367,0.8357109986194202,0.3762080073630925,0.2738150023009664,0.5133456051541647,0.8331799355729407,0.8074091118269674,0.40899677864703177,0.3068338702254947,0.7527611596870686,0.5238150023009664,0.5617809479981593,0.5269213069489186,0.21502531063046482,0.6197653014265991,0.8601012425218592,0.11251725724804418,0.45260009203865625,0.19132535664979292,0.6578462954440866,0.5346295444086516,0.5011504832029452,0.5859410952600093,0.2406810860561436,0.41670501610676486,0.902899217671422,0.5014956281638289,0.5300276115968707,0.9370685687988956,0.5095490105844455,0.41635987114588124,0.7098481362172112,0.4486884491486424,0.8521629084215371,0.8091348366313852,0.17337781868384722,0.3986424298205246,0.7030602853198343,0.9595029912563277,0.6789001380579843,0.4965485503911643,0.5479751495628163,0.2470087436723424,0.24620340543028074,0.3849516797054763,0.37011044638748275,0.8529682466635987,0.8708007363092499,0.320524620340543,0.45881270133456054,0.20398067188219055,0.4086516336861482,0.17349286700414177,0.18419236079153245,0.6319604233778187,0.6078002761159688,0.6378278877128394,0.8062586286240221,0.8763230556833871,0.523930050621261,0.41440404970087436,0.4882650713299586,0.9138288080994018,0.8043028071790153,0.5570639668660837,0.2762310170271514,0.7406810860561436,0.5341693511274735,0.16095260009203868,0.11079153244362633,0.7595490105844455,0.42774965485503913,0.7218131615278417,0.06914404049700876,0.3535434882650713,0.07604693971468016,0.17015646571560056,0.891049240681086,0.7565577542567878,0.8642429820524621,0.27692130694891853,0.7236539346525541,0.4873446847676024,0.3331799355729406,0.5159917165209388,0.7857800276115969,0.41958122411412796,0.373907040957202,0.1257478140819144,0.5224344224574321,0.6143580303727566,0.2364242982052462,0.3198343304187759,0.6455361251725725,0.8632075471698113,0.15266912103083297,0.4132535664979291,0.4529452369995398,0.5135757017947538,0.616658996778647,0.18557294063506674,0.4528301886792453,0.7932581684307409,0.18154624942475842,0.815692590888173,0.533594109526001,0.35745513115508515,0.12356189599631848,0.22491946617579386,0.23078693051081456,0.3558444546709618,0.835250805338242,0.6026231017027152,0.9377588587206627,0.42510354348826507,0.5375057524160147,0.861366774045099,0.6197653014265991,0.7641509433962265,0.8328347906120571,0.21801656695812244,0.3125862862402209,0.2364242982052462],\"xaxis\":\"x\",\"y\":[0.7302403312387713,0.7719050735767141,0.49837176289468454,0.34023174127501876,0.5704841415377022,0.2687677520523958,0.8073762277818084,0.8211201039193932,0.7127220428816657,0.6058452361596574,0.5223725291634282,0.8745188737383202,0.43466197241524107,0.7365106484381848,0.5152792451466455,0.7707050158559768,0.6074855676739217,0.5766380245317072,0.5627712807712004,0.556299211812502,0.5597085439441027,0.6175715472484866,0.7769938612526791,0.6030619574845997,0.2879435235034889,0.848012247627458,0.4036476361884518,0.8002455285073374,0.7366123424591108,0.5671970011295909,0.3935998274311179,0.4373509009894601,0.6357498045292456,0.4061144594513455,0.5273834161821512,0.6143875442067186,0.38074120514879484,0.5318101235599294,0.7797963373972758,0.7538763842744802,0.587117288699023,0.4586690358983234,0.4713899154187833,0.14478738494242702,0.7297665193004597,0.5521082791526724,0.7294714816696528,0.8065805914067801,0.6882436133663982,0.7658868166312438,0.48818242316477284,0.7588571798024148,0.5707070722384289,0.5165601456021192,0.6434776699861112,0.598076896713557,0.7512717268372799,0.5015150893892791,0.8855406798624303,0.678296002194705,0.3383335709540347,0.42207197608654146,0.6051732467125395,0.24352578940267355,0.532106059735513,0.7840509481954002,0.6692714088209044,0.44680285041374157,0.5121324114814583,0.7374385750077802,0.8135950295919311,0.3777390278832468,0.7551348719645632,0.12218365405350601,0.5451321677265338,0.438302557721363,0.21538500613923162,0.6384917849532943,0.5938703431475011,0.46688088269408806,0.45567571276164676,0.4729862507876529,0.3954506985284204,0.23855369727443765,0.11385630641286565,0.4256587697805627,0.4561292900268089,0.579604704807267,0.3162621353288163,0.2762517313235406,0.10225696333779538,0.4263760526800975,0.7853215455075816,0.6021432679647823,0.6538856606880593,0.07269755998073946,0.18947795302676218,0.5577939554699275,0.5048738448915436,0.3290160921370481,0.21631745179036177,0.5429881471502391,0.1854597947112176,0.23056383740409891,0.7722499742712416,0.8571438508597392,0.1353435858780874,0.1698678275319475,0.5660521210926999,0.7015653133447125,0.8484234134149351,0.5046624252238611,0.27275349905538315,0.13370439584102262,0.634408338082561,0.3347944024433145,0.17875514586113156,0.6777933964864884,0.32710714291311993,0.3792147825253855,0.496684814761569,0.11914421534053708,0.3993563288923321,0.10899009494081824,0.626692043910891,0.6099685165082724,0.36928428336784375,0.601139654740489,0.5189666330564412,0.4999164571370701,0.05929057456336485,0.5168109949237012,0.26541691938936823,0.42236185556170525,0.15458943876657424,0.6441765251327016,0.6755154623083821,0.5098989109132732,0.43472200113893344,0.48724423320222493,0.4082460733974558,0.4713375809121364,0.4892772603660765,0.5290742513799476,0.7002657478109938,0.6240414376667187,0.531296240767154,0.15791735699514076,0.5316954259121299,0.5794637203514972,0.78378855976942,0.1658126788289163,0.3640742343832559,0.7525972175589617,0.2982106446579827,0.38366408107135547,0.7662514871927288,0.7186046857287525,0.4530034712408113,0.5670333552607238,0.7306881833149454,0.7943827380655726,0.34051606148418634,0.4712218798679441,0.4105445556278031,0.811465386840008,0.5274150970769859,0.6661787259962049,0.39116044619765455,0.14139938781092815,0.20276582368687554,0.6788200549391152,0.38940383341948814,0.5581473913906098,0.6255210342948342,0.5837082294141869,0.29266010488906635,0.40876034292658625,0.36895741026027895,0.1406639087544295,0.5169569556543703,0.7133689209045273,0.78688854202532,0.8057016880964747,0.4831430933198423,0.4900107972587353,0.09973968031172761,0.7221680082118904,0.25920472085367363,0.8100627166423542,0.33496613589712443,0.5702982201898449,0.7142652451202208,0.3794333314856322,0.5150857014159775,0.7662391875177037,0.6278512061526147,0.534649271625245,0.4507178106994597,0.5001096077115424,0.14117211886866315,0.7097246639663958,0.5632102115357921,0.41873027507813587,0.5068225994564163,0.354843877672632,0.6765635694067762,0.4209704374947456,0.19034141802772808,0.11102231660382927,0.7828521654351857,0.446809885334327,0.4501855197799789,0.5608770067325696,0.40103599018299363,0.3696217460173844,0.8440032283500233,0.6675397726231719,0.7811576354203577,0.6215967685387045,0.6239241043044766,0.4264194851082682,0.41998668961254837,0.3958859278202277,0.4998600449077511,0.455576960123762,0.7557286239462616,0.8653833425088762,0.017321107567874083,0.5773089842055282,0.5897821213844531,0.3639296047767738,0.7121274574812403,0.34573026345950764,0.7143388685162235,0.6623597137949457,0.6114195902015725,0.39876950718377546,0.6786527804743484,0.7285783831518199,0.3999886921944899,0.7701320427303826,0.7597790497645572,0.5250373210862845,0.6188988979376525,0.9209331292439326,0.7208351784986653,0.21212067486921105,0.6232163375612335,0.4665882947084774,0.7427812198640797,0.3609079479180868,0.719634405580667,0.6821404873743391,0.6421449354030342,0.6444649369696442,0.8036701137115152,0.6492810816155168,0.6550477218828894,0.3775601857959977,0.166896484559153,0.6991816156212256,0.8087715209573703,0.23207095936552868,0.8540462318288732,0.7125799984046687,0.7704205775917483,0.6485848977013436,0.7270593294065137,0.09900985927953246,0.831237547374787,0.26898024757999967,0.5301795100128379,0.7465628805695314,0.4552294447243662,0.5464481740961642,0.6401608759107127,0.5954661349570265,0.02292234538448222,0.2157517438465253,0.49539637066982367,0.5658588647496269,0.3098686222391087,0.6677794611656693,0.49447872473439713,0.6491671648936913,0.46801423689734123,0.4286692881113876,0.40919039840605687,0.2382172334980115,0.6413908475921578,0.5869572791263471,0.7401093106996304,0.7745633380482105,0.4025380145769832,0.2008790385030231,0.23906699814710353,0.42220958265260955,0.05323813699206481,0.5612217152586887,0.6739472237749546,0.7213383913081397,0.35904846079748276,0.3987556955898517,0.8201285501312269,0.1706827036485123,0.7754609161796707,0.6147357572766102,0.39907805527125195,0.2603893622645401,0.49883291297220217,0.5660598061923612,0.7740434004350453,0.815088706405914,0.49344400157374413,0.7255631532519309,0.7139946245177412,0.5149259931666023,0.5070298885265707,0.8276464241152012,0.46649835635137826,0.28533909148818715,0.6662779021740196,0.6777619976144387,0.2219885100134028,0.4493686064761446,0.2096269694080739,0.40751939724315434,0.8360636692876737,0.6193456505349241,0.16480831807005342,0.5719512808407355,0.46835724031647225,0.5187043332427582,0.6245610763664301,0.3887232954327725,0.26849369913815013,0.7605765301218235,0.5661325822513388,0.4522833298418403,0.3878381529486213,0.38945700463162786,0.6836556189879712,0.2695475963585495,0.6846714207154435,0.29669500336091914,0.3822943322091054,0.5841533499391531,0.594037080905147,0.6291462785503131,0.4378937274727799,0.726376116064674,0.3242070691812832,0.353022469845699,0.6764585016573208,0.12194379328554747,0.8555091253399003,0.32409152971887967,0.49146748348412905,0.48063231449110677,0.22526474586379835,0.6748663397659724,0.5712979987179959,0.20637735303749533,0.7567549255965944,0.284522468919565,0.5568989276887345,0.6114318825082775,0.5268376173947122,0.5241601226120844,0.7878376066230386,0.7495345319317549,0.5846550359537626,0.6575926040198544,0.4635202886570602,0.8508550298372919,0.6415801882238331,0.5223576165727983,0.5445798950854128,0.14243929683946316,0.3127954050267876,0.6681373165205754,0.31752279662706195,0.6601661356233438,0.12603158854225904,0.3837493533758398,0.588765039342977,0.48612583542254406,0.8041401287580602,0.3950264705135247,0.2424924129656672,0.6105443667084021,0.7787591466353988,0.7736736138933715,0.3257317235586009,0.3080315692487258,0.7452106176095411,0.4389664960612514,0.5487063161209959,0.5858795210067288,0.15314770689484203,0.6011923159472816,0.8760408717270532,0.023316932268016788,0.4482868189842512,0.015893465203864032,0.7125756866168612,0.5725426597351706,0.517834011056268,0.603997749476486,0.3142730993848163,0.4584660818391021,0.8021153707625515,0.43648613637573136,0.5486040879444859,0.7946454465694516,0.4195391889543594,0.4609781681701214,0.6703078175648142,0.42854880836556464,0.7825981805455101,0.7797343099140036,0.2327826111578706,0.45691098136542796,0.6576811184625128,0.7178627935094773,0.5176188461686585,0.4917724203158309,0.6080488836204614,0.11854346190135726,0.3103543678461673,0.29786791962174386,0.39818258557820463,0.8721719930907545,0.7423273850058386,0.3727002924090863,0.49457379252493383,0.265625206306996,0.4800244310653513,0.13577777116882866,0.19746740824276288,0.5207914238089061,0.4833436342431591,0.5781363982935079,0.7121234864018717,0.7666656486511408,0.44463030069039666,0.4507325058201551,0.581728027769977,0.7717880341858303,0.7294353935460626,0.49598491509545956,0.23556476871775758,0.6018657252206814,0.5747619931132276,0.1732494852998884,0.2175593229639174,0.7330465868505607,0.3529485003455175,0.8013469919390306,-0.0035475065665479533,0.37866654912473313,0.12338701915479186,0.08534342497757338,0.8005479192199056,0.8227290093366353,0.7339477130933134,0.3504948025923088,0.6922074081094115,0.5826163969632355,0.26971592656144827,0.5502718989485561,0.659630706570367,0.43456470025781363,0.47708376928655016,0.37587847332586766,0.49629551686902773,0.5660943878909078,0.21445775749893461,0.38820983494077815,0.6257401993017663,0.7489255849793035,0.15693610108436518,0.42147619234070743,0.5093645897869371,0.4979331534543421,0.5524074423556395,0.2207840293952032,0.5460649560485629,0.7772978979794016,0.19839401787040836,0.8776605417969903,0.500961811961722,0.397397619904186,0.535728040719379,0.245361015932345,0.3030000841599797,0.4568730530937665,0.6914673592717148,0.7363401046713882,0.7795376237378718,0.3888107693422076,0.5529624950444247,0.6677508279991144,0.5907568032025902,0.7690135088131388,0.8107821970748642,0.22578439278876922,0.2629613441530724,0.30990705856635814],\"yaxis\":\"y\",\"type\":\"scatter\"}],                        {\"template\":{\"data\":{\"bar\":[{\"error_x\":{\"color\":\"#2a3f5f\"},\"error_y\":{\"color\":\"#2a3f5f\"},\"marker\":{\"line\":{\"color\":\"#E5ECF6\",\"width\":0.5},\"pattern\":{\"fillmode\":\"overlay\",\"size\":10,\"solidity\":0.2}},\"type\":\"bar\"}],\"barpolar\":[{\"marker\":{\"line\":{\"color\":\"#E5ECF6\",\"width\":0.5},\"pattern\":{\"fillmode\":\"overlay\",\"size\":10,\"solidity\":0.2}},\"type\":\"barpolar\"}],\"carpet\":[{\"aaxis\":{\"endlinecolor\":\"#2a3f5f\",\"gridcolor\":\"white\",\"linecolor\":\"white\",\"minorgridcolor\":\"white\",\"startlinecolor\":\"#2a3f5f\"},\"baxis\":{\"endlinecolor\":\"#2a3f5f\",\"gridcolor\":\"white\",\"linecolor\":\"white\",\"minorgridcolor\":\"white\",\"startlinecolor\":\"#2a3f5f\"},\"type\":\"carpet\"}],\"choropleth\":[{\"colorbar\":{\"outlinewidth\":0,\"ticks\":\"\"},\"type\":\"choropleth\"}],\"contour\":[{\"colorbar\":{\"outlinewidth\":0,\"ticks\":\"\"},\"colorscale\":[[0.0,\"#0d0887\"],[0.1111111111111111,\"#46039f\"],[0.2222222222222222,\"#7201a8\"],[0.3333333333333333,\"#9c179e\"],[0.4444444444444444,\"#bd3786\"],[0.5555555555555556,\"#d8576b\"],[0.6666666666666666,\"#ed7953\"],[0.7777777777777778,\"#fb9f3a\"],[0.8888888888888888,\"#fdca26\"],[1.0,\"#f0f921\"]],\"type\":\"contour\"}],\"contourcarpet\":[{\"colorbar\":{\"outlinewidth\":0,\"ticks\":\"\"},\"type\":\"contourcarpet\"}],\"heatmap\":[{\"colorbar\":{\"outlinewidth\":0,\"ticks\":\"\"},\"colorscale\":[[0.0,\"#0d0887\"],[0.1111111111111111,\"#46039f\"],[0.2222222222222222,\"#7201a8\"],[0.3333333333333333,\"#9c179e\"],[0.4444444444444444,\"#bd3786\"],[0.5555555555555556,\"#d8576b\"],[0.6666666666666666,\"#ed7953\"],[0.7777777777777778,\"#fb9f3a\"],[0.8888888888888888,\"#fdca26\"],[1.0,\"#f0f921\"]],\"type\":\"heatmap\"}],\"heatmapgl\":[{\"colorbar\":{\"outlinewidth\":0,\"ticks\":\"\"},\"colorscale\":[[0.0,\"#0d0887\"],[0.1111111111111111,\"#46039f\"],[0.2222222222222222,\"#7201a8\"],[0.3333333333333333,\"#9c179e\"],[0.4444444444444444,\"#bd3786\"],[0.5555555555555556,\"#d8576b\"],[0.6666666666666666,\"#ed7953\"],[0.7777777777777778,\"#fb9f3a\"],[0.8888888888888888,\"#fdca26\"],[1.0,\"#f0f921\"]],\"type\":\"heatmapgl\"}],\"histogram\":[{\"marker\":{\"pattern\":{\"fillmode\":\"overlay\",\"size\":10,\"solidity\":0.2}},\"type\":\"histogram\"}],\"histogram2d\":[{\"colorbar\":{\"outlinewidth\":0,\"ticks\":\"\"},\"colorscale\":[[0.0,\"#0d0887\"],[0.1111111111111111,\"#46039f\"],[0.2222222222222222,\"#7201a8\"],[0.3333333333333333,\"#9c179e\"],[0.4444444444444444,\"#bd3786\"],[0.5555555555555556,\"#d8576b\"],[0.6666666666666666,\"#ed7953\"],[0.7777777777777778,\"#fb9f3a\"],[0.8888888888888888,\"#fdca26\"],[1.0,\"#f0f921\"]],\"type\":\"histogram2d\"}],\"histogram2dcontour\":[{\"colorbar\":{\"outlinewidth\":0,\"ticks\":\"\"},\"colorscale\":[[0.0,\"#0d0887\"],[0.1111111111111111,\"#46039f\"],[0.2222222222222222,\"#7201a8\"],[0.3333333333333333,\"#9c179e\"],[0.4444444444444444,\"#bd3786\"],[0.5555555555555556,\"#d8576b\"],[0.6666666666666666,\"#ed7953\"],[0.7777777777777778,\"#fb9f3a\"],[0.8888888888888888,\"#fdca26\"],[1.0,\"#f0f921\"]],\"type\":\"histogram2dcontour\"}],\"mesh3d\":[{\"colorbar\":{\"outlinewidth\":0,\"ticks\":\"\"},\"type\":\"mesh3d\"}],\"parcoords\":[{\"line\":{\"colorbar\":{\"outlinewidth\":0,\"ticks\":\"\"}},\"type\":\"parcoords\"}],\"pie\":[{\"automargin\":true,\"type\":\"pie\"}],\"scatter\":[{\"marker\":{\"colorbar\":{\"outlinewidth\":0,\"ticks\":\"\"}},\"type\":\"scatter\"}],\"scatter3d\":[{\"line\":{\"colorbar\":{\"outlinewidth\":0,\"ticks\":\"\"}},\"marker\":{\"colorbar\":{\"outlinewidth\":0,\"ticks\":\"\"}},\"type\":\"scatter3d\"}],\"scattercarpet\":[{\"marker\":{\"colorbar\":{\"outlinewidth\":0,\"ticks\":\"\"}},\"type\":\"scattercarpet\"}],\"scattergeo\":[{\"marker\":{\"colorbar\":{\"outlinewidth\":0,\"ticks\":\"\"}},\"type\":\"scattergeo\"}],\"scattergl\":[{\"marker\":{\"colorbar\":{\"outlinewidth\":0,\"ticks\":\"\"}},\"type\":\"scattergl\"}],\"scattermapbox\":[{\"marker\":{\"colorbar\":{\"outlinewidth\":0,\"ticks\":\"\"}},\"type\":\"scattermapbox\"}],\"scatterpolar\":[{\"marker\":{\"colorbar\":{\"outlinewidth\":0,\"ticks\":\"\"}},\"type\":\"scatterpolar\"}],\"scatterpolargl\":[{\"marker\":{\"colorbar\":{\"outlinewidth\":0,\"ticks\":\"\"}},\"type\":\"scatterpolargl\"}],\"scatterternary\":[{\"marker\":{\"colorbar\":{\"outlinewidth\":0,\"ticks\":\"\"}},\"type\":\"scatterternary\"}],\"surface\":[{\"colorbar\":{\"outlinewidth\":0,\"ticks\":\"\"},\"colorscale\":[[0.0,\"#0d0887\"],[0.1111111111111111,\"#46039f\"],[0.2222222222222222,\"#7201a8\"],[0.3333333333333333,\"#9c179e\"],[0.4444444444444444,\"#bd3786\"],[0.5555555555555556,\"#d8576b\"],[0.6666666666666666,\"#ed7953\"],[0.7777777777777778,\"#fb9f3a\"],[0.8888888888888888,\"#fdca26\"],[1.0,\"#f0f921\"]],\"type\":\"surface\"}],\"table\":[{\"cells\":{\"fill\":{\"color\":\"#EBF0F8\"},\"line\":{\"color\":\"white\"}},\"header\":{\"fill\":{\"color\":\"#C8D4E3\"},\"line\":{\"color\":\"white\"}},\"type\":\"table\"}]},\"layout\":{\"annotationdefaults\":{\"arrowcolor\":\"#2a3f5f\",\"arrowhead\":0,\"arrowwidth\":1},\"autotypenumbers\":\"strict\",\"coloraxis\":{\"colorbar\":{\"outlinewidth\":0,\"ticks\":\"\"}},\"colorscale\":{\"diverging\":[[0,\"#8e0152\"],[0.1,\"#c51b7d\"],[0.2,\"#de77ae\"],[0.3,\"#f1b6da\"],[0.4,\"#fde0ef\"],[0.5,\"#f7f7f7\"],[0.6,\"#e6f5d0\"],[0.7,\"#b8e186\"],[0.8,\"#7fbc41\"],[0.9,\"#4d9221\"],[1,\"#276419\"]],\"sequential\":[[0.0,\"#0d0887\"],[0.1111111111111111,\"#46039f\"],[0.2222222222222222,\"#7201a8\"],[0.3333333333333333,\"#9c179e\"],[0.4444444444444444,\"#bd3786\"],[0.5555555555555556,\"#d8576b\"],[0.6666666666666666,\"#ed7953\"],[0.7777777777777778,\"#fb9f3a\"],[0.8888888888888888,\"#fdca26\"],[1.0,\"#f0f921\"]],\"sequentialminus\":[[0.0,\"#0d0887\"],[0.1111111111111111,\"#46039f\"],[0.2222222222222222,\"#7201a8\"],[0.3333333333333333,\"#9c179e\"],[0.4444444444444444,\"#bd3786\"],[0.5555555555555556,\"#d8576b\"],[0.6666666666666666,\"#ed7953\"],[0.7777777777777778,\"#fb9f3a\"],[0.8888888888888888,\"#fdca26\"],[1.0,\"#f0f921\"]]},\"colorway\":[\"#636efa\",\"#EF553B\",\"#00cc96\",\"#ab63fa\",\"#FFA15A\",\"#19d3f3\",\"#FF6692\",\"#B6E880\",\"#FF97FF\",\"#FECB52\"],\"font\":{\"color\":\"#2a3f5f\"},\"geo\":{\"bgcolor\":\"white\",\"lakecolor\":\"white\",\"landcolor\":\"#E5ECF6\",\"showlakes\":true,\"showland\":true,\"subunitcolor\":\"white\"},\"hoverlabel\":{\"align\":\"left\"},\"hovermode\":\"closest\",\"mapbox\":{\"style\":\"light\"},\"paper_bgcolor\":\"white\",\"plot_bgcolor\":\"#E5ECF6\",\"polar\":{\"angularaxis\":{\"gridcolor\":\"white\",\"linecolor\":\"white\",\"ticks\":\"\"},\"bgcolor\":\"#E5ECF6\",\"radialaxis\":{\"gridcolor\":\"white\",\"linecolor\":\"white\",\"ticks\":\"\"}},\"scene\":{\"xaxis\":{\"backgroundcolor\":\"#E5ECF6\",\"gridcolor\":\"white\",\"gridwidth\":2,\"linecolor\":\"white\",\"showbackground\":true,\"ticks\":\"\",\"zerolinecolor\":\"white\"},\"yaxis\":{\"backgroundcolor\":\"#E5ECF6\",\"gridcolor\":\"white\",\"gridwidth\":2,\"linecolor\":\"white\",\"showbackground\":true,\"ticks\":\"\",\"zerolinecolor\":\"white\"},\"zaxis\":{\"backgroundcolor\":\"#E5ECF6\",\"gridcolor\":\"white\",\"gridwidth\":2,\"linecolor\":\"white\",\"showbackground\":true,\"ticks\":\"\",\"zerolinecolor\":\"white\"}},\"shapedefaults\":{\"line\":{\"color\":\"#2a3f5f\"}},\"ternary\":{\"aaxis\":{\"gridcolor\":\"white\",\"linecolor\":\"white\",\"ticks\":\"\"},\"baxis\":{\"gridcolor\":\"white\",\"linecolor\":\"white\",\"ticks\":\"\"},\"bgcolor\":\"#E5ECF6\",\"caxis\":{\"gridcolor\":\"white\",\"linecolor\":\"white\",\"ticks\":\"\"}},\"title\":{\"x\":0.05},\"xaxis\":{\"automargin\":true,\"gridcolor\":\"white\",\"linecolor\":\"white\",\"ticks\":\"\",\"title\":{\"standoff\":15},\"zerolinecolor\":\"white\",\"zerolinewidth\":2},\"yaxis\":{\"automargin\":true,\"gridcolor\":\"white\",\"linecolor\":\"white\",\"ticks\":\"\",\"title\":{\"standoff\":15},\"zerolinecolor\":\"white\",\"zerolinewidth\":2}}},\"xaxis\":{\"anchor\":\"y\",\"domain\":[0.0,1.0],\"title\":{\"text\":\"x\"}},\"yaxis\":{\"anchor\":\"x\",\"domain\":[0.0,1.0],\"title\":{\"text\":\"y\"}},\"legend\":{\"tracegroupgap\":0},\"margin\":{\"t\":60}},                        {\"responsive\": true}                    ).then(function(){\n",
              "                            \n",
              "var gd = document.getElementById('78feaad3-39fa-427e-91e3-ed3634860730');\n",
              "var x = new MutationObserver(function (mutations, observer) {{\n",
              "        var display = window.getComputedStyle(gd).display;\n",
              "        if (!display || display === 'none') {{\n",
              "            console.log([gd, 'removed!']);\n",
              "            Plotly.purge(gd);\n",
              "            observer.disconnect();\n",
              "        }}\n",
              "}});\n",
              "\n",
              "// Listen for the removal of the full notebook cells\n",
              "var notebookContainer = gd.closest('#notebook-container');\n",
              "if (notebookContainer) {{\n",
              "    x.observe(notebookContainer, {childList: true});\n",
              "}}\n",
              "\n",
              "// Listen for the clearing of the current output cell\n",
              "var outputEl = gd.closest('.output');\n",
              "if (outputEl) {{\n",
              "    x.observe(outputEl, {childList: true});\n",
              "}}\n",
              "\n",
              "                        })                };                            </script>        </div>\n",
              "</body>\n",
              "</html>"
            ]
          },
          "metadata": {}
        }
      ]
    },
    {
      "cell_type": "markdown",
      "source": [
        "## Step 7 : Model Evaluation"
      ],
      "metadata": {
        "id": "ArlV0uvl6Onn"
      }
    },
    {
      "cell_type": "code",
      "source": [
        "lr_manual_final.params.index"
      ],
      "metadata": {
        "colab": {
          "base_uri": "https://localhost:8080/"
        },
        "id": "DmhnEIkO6ssR",
        "outputId": "2a2c4e1d-4e8a-415a-8fea-beba3bd3eb5b"
      },
      "execution_count": 397,
      "outputs": [
        {
          "output_type": "execute_result",
          "data": {
            "text/plain": [
              "Index(['const', 'yr', 'workingday', 'temp', 'windspeed', 'isSummer',\n",
              "       'isWinter', 'Month_9', 'Mist', 'Light_Snow_Rain', 'Weekday_6'],\n",
              "      dtype='object')"
            ]
          },
          "metadata": {},
          "execution_count": 397
        }
      ]
    },
    {
      "cell_type": "code",
      "source": [
        "X_test_lm = sm.add_constant(X_test[X_train.columns])\n",
        "y_test_pred = lr_manual_final.predict(X_test_lm)"
      ],
      "metadata": {
        "colab": {
          "base_uri": "https://localhost:8080/"
        },
        "id": "rnUNK5276S59",
        "outputId": "f08c9ef8-2297-4d40-8e3a-8aecb62a0a54"
      },
      "execution_count": 398,
      "outputs": [
        {
          "output_type": "stream",
          "name": "stderr",
          "text": [
            "/usr/local/lib/python3.7/dist-packages/statsmodels/tsa/tsatools.py:117: FutureWarning:\n",
            "\n",
            "In a future version of pandas all arguments of concat except for the argument 'objs' will be keyword-only\n",
            "\n"
          ]
        }
      ]
    },
    {
      "cell_type": "code",
      "source": [
        "r2 = r2_score(y_test, y_test_pred)\n",
        "r2"
      ],
      "metadata": {
        "colab": {
          "base_uri": "https://localhost:8080/"
        },
        "id": "asGQFheY7AqZ",
        "outputId": "aef6d32c-2983-4525-fd96-1e9fea752dd1"
      },
      "execution_count": 399,
      "outputs": [
        {
          "output_type": "execute_result",
          "data": {
            "text/plain": [
              "0.7955844377237248"
            ]
          },
          "metadata": {},
          "execution_count": 399
        }
      ]
    },
    {
      "cell_type": "markdown",
      "source": [
        "#### Observations\n",
        "\n",
        "\n",
        "*   Our model has **R2-Score of 0.836** with train data and with **test data** predictions we got **0.796** which is good.\n",
        "\n",
        "\n"
      ],
      "metadata": {
        "id": "p8_gCLKD7egI"
      }
    },
    {
      "cell_type": "markdown",
      "source": [
        "----------------------------------------------------------------------------------------------------------------------------------------------------------------\n",
        "\n",
        "# Lets Try to Build model with RFE (Recursive Feature Eliminatin)\n",
        "\n",
        "-------------------------------------------------------------------------------\n",
        "-------------------------------------------------------------------------------"
      ],
      "metadata": {
        "id": "f39ZzmW474Gz"
      }
    },
    {
      "cell_type": "markdown",
      "source": [
        "#### We have 11 independent variables in our final model which is built manually. Lets' start with 15 features "
      ],
      "metadata": {
        "id": "FTzfcRrW5bHJ"
      }
    },
    {
      "cell_type": "code",
      "source": [
        "sk_lr_model = LinearRegression()\n",
        "rfe = RFE(sk_lr_model,n_features_to_select=15)\n",
        "rfe = rfe.fit(X_train_sk, y_train_sk)"
      ],
      "metadata": {
        "id": "whZ9PR9h6WJf"
      },
      "execution_count": 400,
      "outputs": []
    },
    {
      "cell_type": "code",
      "source": [
        "list(zip(X_train_sk.columns,rfe.support_,rfe.ranking_))"
      ],
      "metadata": {
        "colab": {
          "base_uri": "https://localhost:8080/"
        },
        "id": "Y1UYx02d8A0g",
        "outputId": "7c654433-8755-49a1-c391-8d1047951a23"
      },
      "execution_count": 401,
      "outputs": [
        {
          "output_type": "execute_result",
          "data": {
            "text/plain": [
              "[('yr', True, 1),\n",
              " ('holiday', True, 1),\n",
              " ('workingday', True, 1),\n",
              " ('temp', True, 1),\n",
              " ('atemp', False, 4),\n",
              " ('hum', True, 1),\n",
              " ('windspeed', True, 1),\n",
              " ('isSummer', True, 1),\n",
              " ('isFall', False, 15),\n",
              " ('isWinter', True, 1),\n",
              " ('Month_2', False, 6),\n",
              " ('Month_3', True, 1),\n",
              " ('Month_4', False, 2),\n",
              " ('Month_5', True, 1),\n",
              " ('Month_6', False, 3),\n",
              " ('Month_7', False, 5),\n",
              " ('Month_8', True, 1),\n",
              " ('Month_9', True, 1),\n",
              " ('Month_10', True, 1),\n",
              " ('Month_11', False, 13),\n",
              " ('Month_12', False, 12),\n",
              " ('Mist', False, 14),\n",
              " ('Light_Snow_Rain', True, 1),\n",
              " ('Weekday_1', False, 7),\n",
              " ('Weekday_2', False, 8),\n",
              " ('Weekday_3', False, 10),\n",
              " ('Weekday_4', False, 11),\n",
              " ('Weekday_5', False, 9),\n",
              " ('Weekday_6', True, 1)]"
            ]
          },
          "metadata": {},
          "execution_count": 401
        }
      ]
    },
    {
      "cell_type": "code",
      "source": [
        "sig_cols = X_train_sk.columns[rfe.support_]"
      ],
      "metadata": {
        "id": "as7CdZVk8_qf"
      },
      "execution_count": 402,
      "outputs": []
    },
    {
      "cell_type": "markdown",
      "source": [
        "## RFE - Model 1"
      ],
      "metadata": {
        "id": "eXTHw0ToL-NL"
      }
    },
    {
      "cell_type": "code",
      "source": [
        "X_train_sk = X_train_sk[sig_cols]\n",
        "rfe_model1 = linear_model(sig_cols,X_train_sk)\n"
      ],
      "metadata": {
        "colab": {
          "base_uri": "https://localhost:8080/"
        },
        "id": "XVWdCvCT9JbX",
        "outputId": "d2444262-2ca3-4993-ecfe-0ca4d0a57cc6"
      },
      "execution_count": 403,
      "outputs": [
        {
          "output_type": "stream",
          "name": "stdout",
          "text": [
            "                            OLS Regression Results                            \n",
            "==============================================================================\n",
            "Dep. Variable:                    cnt   R-squared:                       0.840\n",
            "Model:                            OLS   Adj. R-squared:                  0.835\n",
            "Method:                 Least Squares   F-statistic:                     172.7\n",
            "Date:                Fri, 03 Jun 2022   Prob (F-statistic):          2.23e-185\n",
            "Time:                        02:01:19   Log-Likelihood:                 505.58\n",
            "No. Observations:                 510   AIC:                            -979.2\n",
            "Df Residuals:                     494   BIC:                            -911.4\n",
            "Df Model:                          15                                         \n",
            "Covariance Type:            nonrobust                                         \n",
            "===================================================================================\n",
            "                      coef    std err          t      P>|t|      [0.025      0.975]\n",
            "-----------------------------------------------------------------------------------\n",
            "const               0.2465      0.028      8.698      0.000       0.191       0.302\n",
            "yr                  0.2272      0.008     27.736      0.000       0.211       0.243\n",
            "holiday            -0.0517      0.028     -1.871      0.062      -0.106       0.003\n",
            "workingday          0.0382      0.012      3.233      0.001       0.015       0.061\n",
            "temp                0.5618      0.022     25.227      0.000       0.518       0.606\n",
            "hum                -0.2947      0.032     -9.321      0.000      -0.357      -0.233\n",
            "windspeed          -0.2059      0.026     -7.989      0.000      -0.256      -0.155\n",
            "isSummer            0.0928      0.012      7.494      0.000       0.068       0.117\n",
            "isWinter            0.1437      0.012     11.514      0.000       0.119       0.168\n",
            "Month_3             0.0243      0.015      1.665      0.096      -0.004       0.053\n",
            "Month_5             0.0262      0.018      1.465      0.144      -0.009       0.061\n",
            "Month_8             0.0538      0.017      3.235      0.001       0.021       0.086\n",
            "Month_9             0.1252      0.017      7.526      0.000       0.093       0.158\n",
            "Month_10            0.0402      0.018      2.285      0.023       0.006       0.075\n",
            "Light_Snow_Rain    -0.2002      0.025     -7.893      0.000      -0.250      -0.150\n",
            "Weekday_6           0.0462      0.015      3.105      0.002       0.017       0.075\n",
            "==============================================================================\n",
            "Omnibus:                       74.308   Durbin-Watson:                   2.006\n",
            "Prob(Omnibus):                  0.000   Jarque-Bera (JB):              156.156\n",
            "Skew:                          -0.804   Prob(JB):                     1.23e-34\n",
            "Kurtosis:                       5.183   Cond. No.                         17.8\n",
            "==============================================================================\n",
            "\n",
            "Warnings:\n",
            "[1] Standard Errors assume that the covariance matrix of the errors is correctly specified.\n"
          ]
        },
        {
          "output_type": "stream",
          "name": "stderr",
          "text": [
            "/usr/local/lib/python3.7/dist-packages/statsmodels/tsa/tsatools.py:117: FutureWarning:\n",
            "\n",
            "In a future version of pandas all arguments of concat except for the argument 'objs' will be keyword-only\n",
            "\n"
          ]
        }
      ]
    },
    {
      "cell_type": "code",
      "source": [
        "get_vif(X_train_sk[sig_cols])"
      ],
      "metadata": {
        "colab": {
          "base_uri": "https://localhost:8080/"
        },
        "id": "jbKTdUx6MD1C",
        "outputId": "70d6eeb2-1869-4efb-a110-eb808fd260c1"
      },
      "execution_count": 404,
      "outputs": [
        {
          "output_type": "stream",
          "name": "stdout",
          "text": [
            "           features    VIF\n",
            "4               hum  12.28\n",
            "3              temp   8.99\n",
            "2        workingday   5.08\n",
            "5         windspeed   3.94\n",
            "7          isWinter   2.33\n",
            "6          isSummer   2.30\n",
            "0                yr   2.03\n",
            "14        Weekday_6   1.92\n",
            "9           Month_5   1.64\n",
            "12         Month_10   1.61\n",
            "10          Month_8   1.60\n",
            "11          Month_9   1.34\n",
            "8           Month_3   1.26\n",
            "1           holiday   1.16\n",
            "13  Light_Snow_Rain   1.11\n"
          ]
        }
      ]
    },
    {
      "cell_type": "markdown",
      "source": [
        "#### Drop the **Month_5** as which has P-value > 0.05\n",
        "\n"
      ],
      "metadata": {
        "id": "XjXfLFkXMkX6"
      }
    },
    {
      "cell_type": "code",
      "source": [
        "X_train_sk.drop('Month_5',axis=1,inplace=True)"
      ],
      "metadata": {
        "colab": {
          "base_uri": "https://localhost:8080/"
        },
        "id": "-RG4-eR8Mpz4",
        "outputId": "6202c1f6-e964-4649-fc0e-cee1a2329cc3"
      },
      "execution_count": 405,
      "outputs": [
        {
          "output_type": "stream",
          "name": "stderr",
          "text": [
            "/usr/local/lib/python3.7/dist-packages/pandas/core/frame.py:4913: SettingWithCopyWarning:\n",
            "\n",
            "\n",
            "A value is trying to be set on a copy of a slice from a DataFrame\n",
            "\n",
            "See the caveats in the documentation: https://pandas.pydata.org/pandas-docs/stable/user_guide/indexing.html#returning-a-view-versus-a-copy\n",
            "\n"
          ]
        }
      ]
    },
    {
      "cell_type": "markdown",
      "source": [
        "## RFE - Model 2"
      ],
      "metadata": {
        "id": "u0Yy72rJMxkl"
      }
    },
    {
      "cell_type": "code",
      "source": [
        "rfe_model2 = linear_model(X_train_sk.columns,X_train_sk)"
      ],
      "metadata": {
        "colab": {
          "base_uri": "https://localhost:8080/"
        },
        "id": "Ps27_zEnMxGV",
        "outputId": "8db42849-a108-4f81-8d47-cf4f94ec3364"
      },
      "execution_count": 406,
      "outputs": [
        {
          "output_type": "stream",
          "name": "stdout",
          "text": [
            "                            OLS Regression Results                            \n",
            "==============================================================================\n",
            "Dep. Variable:                    cnt   R-squared:                       0.839\n",
            "Model:                            OLS   Adj. R-squared:                  0.835\n",
            "Method:                 Least Squares   F-statistic:                     184.5\n",
            "Date:                Fri, 03 Jun 2022   Prob (F-statistic):          4.68e-186\n",
            "Time:                        02:01:19   Log-Likelihood:                 504.48\n",
            "No. Observations:                 510   AIC:                            -979.0\n",
            "Df Residuals:                     495   BIC:                            -915.4\n",
            "Df Model:                          14                                         \n",
            "Covariance Type:            nonrobust                                         \n",
            "===================================================================================\n",
            "                      coef    std err          t      P>|t|      [0.025      0.975]\n",
            "-----------------------------------------------------------------------------------\n",
            "const               0.2418      0.028      8.578      0.000       0.186       0.297\n",
            "yr                  0.2268      0.008     27.669      0.000       0.211       0.243\n",
            "holiday            -0.0523      0.028     -1.891      0.059      -0.107       0.002\n",
            "workingday          0.0385      0.012      3.258      0.001       0.015       0.062\n",
            "temp                0.5642      0.022     25.376      0.000       0.520       0.608\n",
            "hum                -0.2870      0.031     -9.195      0.000      -0.348      -0.226\n",
            "windspeed          -0.2071      0.026     -8.033      0.000      -0.258      -0.156\n",
            "isSummer            0.1011      0.011      9.158      0.000       0.079       0.123\n",
            "isWinter            0.1429      0.012     11.448      0.000       0.118       0.167\n",
            "Month_3             0.0209      0.014      1.452      0.147      -0.007       0.049\n",
            "Month_8             0.0517      0.017      3.116      0.002       0.019       0.084\n",
            "Month_9             0.1233      0.017      7.424      0.000       0.091       0.156\n",
            "Month_10            0.0395      0.018      2.244      0.025       0.005       0.074\n",
            "Light_Snow_Rain    -0.2026      0.025     -7.995      0.000      -0.252      -0.153\n",
            "Weekday_6           0.0459      0.015      3.080      0.002       0.017       0.075\n",
            "==============================================================================\n",
            "Omnibus:                       72.874   Durbin-Watson:                   2.009\n",
            "Prob(Omnibus):                  0.000   Jarque-Bera (JB):              146.714\n",
            "Skew:                          -0.805   Prob(JB):                     1.39e-32\n",
            "Kurtosis:                       5.076   Cond. No.                         17.6\n",
            "==============================================================================\n",
            "\n",
            "Warnings:\n",
            "[1] Standard Errors assume that the covariance matrix of the errors is correctly specified.\n"
          ]
        },
        {
          "output_type": "stream",
          "name": "stderr",
          "text": [
            "/usr/local/lib/python3.7/dist-packages/statsmodels/tsa/tsatools.py:117: FutureWarning:\n",
            "\n",
            "In a future version of pandas all arguments of concat except for the argument 'objs' will be keyword-only\n",
            "\n"
          ]
        }
      ]
    },
    {
      "cell_type": "code",
      "source": [
        "get_vif(X_train_sk)"
      ],
      "metadata": {
        "colab": {
          "base_uri": "https://localhost:8080/"
        },
        "id": "GseDDonrMxD9",
        "outputId": "a441d20c-1ef7-485c-e206-7c3dde2a5328"
      },
      "execution_count": 407,
      "outputs": [
        {
          "output_type": "stream",
          "name": "stdout",
          "text": [
            "           features    VIF\n",
            "4               hum  12.09\n",
            "3              temp   8.98\n",
            "2        workingday   5.08\n",
            "5         windspeed   3.90\n",
            "7          isWinter   2.33\n",
            "0                yr   2.03\n",
            "13        Weekday_6   1.91\n",
            "6          isSummer   1.82\n",
            "11         Month_10   1.61\n",
            "9           Month_8   1.60\n",
            "10          Month_9   1.34\n",
            "8           Month_3   1.23\n",
            "1           holiday   1.15\n",
            "12  Light_Snow_Rain   1.10\n"
          ]
        }
      ]
    },
    {
      "cell_type": "markdown",
      "source": [
        "#### Drop the **Month_3** as which has P-value > 0.05"
      ],
      "metadata": {
        "id": "dd1v-1I4Nyfg"
      }
    },
    {
      "cell_type": "code",
      "source": [
        "X_train_sk.drop('Month_3',axis=1,inplace=True)"
      ],
      "metadata": {
        "id": "rBl3ky24Np3e"
      },
      "execution_count": 408,
      "outputs": []
    },
    {
      "cell_type": "markdown",
      "source": [
        "## RFE - Model 3"
      ],
      "metadata": {
        "id": "KBMfpIlyOSm9"
      }
    },
    {
      "cell_type": "code",
      "source": [
        "rfe_model3 = linear_model(X_train_sk.columns,X_train_sk)"
      ],
      "metadata": {
        "colab": {
          "base_uri": "https://localhost:8080/"
        },
        "id": "eISmwOIqOTjv",
        "outputId": "e2961e8d-c617-439d-f95b-565ad14937f9"
      },
      "execution_count": 409,
      "outputs": [
        {
          "output_type": "stream",
          "name": "stdout",
          "text": [
            "                            OLS Regression Results                            \n",
            "==============================================================================\n",
            "Dep. Variable:                    cnt   R-squared:                       0.838\n",
            "Model:                            OLS   Adj. R-squared:                  0.834\n",
            "Method:                 Least Squares   F-statistic:                     198.1\n",
            "Date:                Fri, 03 Jun 2022   Prob (F-statistic):          9.28e-187\n",
            "Time:                        02:01:19   Log-Likelihood:                 503.40\n",
            "No. Observations:                 510   AIC:                            -978.8\n",
            "Df Residuals:                     496   BIC:                            -919.5\n",
            "Df Model:                          13                                         \n",
            "Covariance Type:            nonrobust                                         \n",
            "===================================================================================\n",
            "                      coef    std err          t      P>|t|      [0.025      0.975]\n",
            "-----------------------------------------------------------------------------------\n",
            "const               0.2468      0.028      8.812      0.000       0.192       0.302\n",
            "yr                  0.2270      0.008     27.661      0.000       0.211       0.243\n",
            "holiday            -0.0538      0.028     -1.945      0.052      -0.108       0.001\n",
            "workingday          0.0393      0.012      3.321      0.001       0.016       0.063\n",
            "temp                0.5592      0.022     25.430      0.000       0.516       0.602\n",
            "hum                -0.2878      0.031     -9.214      0.000      -0.349      -0.226\n",
            "windspeed          -0.2049      0.026     -7.951      0.000      -0.255      -0.154\n",
            "isSummer            0.1010      0.011      9.142      0.000       0.079       0.123\n",
            "isWinter            0.1393      0.012     11.373      0.000       0.115       0.163\n",
            "Month_8             0.0499      0.017      3.013      0.003       0.017       0.082\n",
            "Month_9             0.1218      0.017      7.343      0.000       0.089       0.154\n",
            "Month_10            0.0398      0.018      2.260      0.024       0.005       0.074\n",
            "Light_Snow_Rain    -0.2014      0.025     -7.941      0.000      -0.251      -0.152\n",
            "Weekday_6           0.0467      0.015      3.134      0.002       0.017       0.076\n",
            "==============================================================================\n",
            "Omnibus:                       71.638   Durbin-Watson:                   2.009\n",
            "Prob(Omnibus):                  0.000   Jarque-Bera (JB):              148.861\n",
            "Skew:                          -0.782   Prob(JB):                     4.73e-33\n",
            "Kurtosis:                       5.136   Cond. No.                         17.5\n",
            "==============================================================================\n",
            "\n",
            "Warnings:\n",
            "[1] Standard Errors assume that the covariance matrix of the errors is correctly specified.\n"
          ]
        },
        {
          "output_type": "stream",
          "name": "stderr",
          "text": [
            "/usr/local/lib/python3.7/dist-packages/statsmodels/tsa/tsatools.py:117: FutureWarning:\n",
            "\n",
            "In a future version of pandas all arguments of concat except for the argument 'objs' will be keyword-only\n",
            "\n"
          ]
        }
      ]
    },
    {
      "cell_type": "code",
      "source": [
        "get_vif(X_train_sk)"
      ],
      "metadata": {
        "colab": {
          "base_uri": "https://localhost:8080/"
        },
        "id": "Ca7MjzkkObA2",
        "outputId": "59ea8d62-0a7a-4254-be1c-e9a03c6ff81e"
      },
      "execution_count": 410,
      "outputs": [
        {
          "output_type": "stream",
          "name": "stdout",
          "text": [
            "           features    VIF\n",
            "4               hum  11.95\n",
            "3              temp   8.85\n",
            "2        workingday   5.03\n",
            "5         windspeed   3.81\n",
            "7          isWinter   2.25\n",
            "0                yr   2.03\n",
            "12        Weekday_6   1.90\n",
            "6          isSummer   1.82\n",
            "10         Month_10   1.61\n",
            "8           Month_8   1.58\n",
            "9           Month_9   1.33\n",
            "1           holiday   1.15\n",
            "11  Light_Snow_Rain   1.10\n"
          ]
        }
      ]
    },
    {
      "cell_type": "markdown",
      "source": [
        "#### Drop the **holiday** as which has P-value > 0.05"
      ],
      "metadata": {
        "id": "7dCXV9icOlrk"
      }
    },
    {
      "cell_type": "code",
      "source": [
        "X_train_sk.drop('holiday',axis=1,inplace=True)"
      ],
      "metadata": {
        "id": "EXhN4ROfOa9T"
      },
      "execution_count": 411,
      "outputs": []
    },
    {
      "cell_type": "markdown",
      "source": [
        "## RFE - Model 4"
      ],
      "metadata": {
        "id": "11I9ZvjOO3IQ"
      }
    },
    {
      "cell_type": "code",
      "source": [
        "rfe_model4 = linear_model(X_train_sk.columns,X_train_sk)"
      ],
      "metadata": {
        "colab": {
          "base_uri": "https://localhost:8080/"
        },
        "id": "ENeLnKn7O2pG",
        "outputId": "82b83a17-0e75-45b7-dbcd-f3dbaab82745"
      },
      "execution_count": 412,
      "outputs": [
        {
          "output_type": "stream",
          "name": "stdout",
          "text": [
            "                            OLS Regression Results                            \n",
            "==============================================================================\n",
            "Dep. Variable:                    cnt   R-squared:                       0.837\n",
            "Model:                            OLS   Adj. R-squared:                  0.833\n",
            "Method:                 Least Squares   F-statistic:                     213.0\n",
            "Date:                Fri, 03 Jun 2022   Prob (F-statistic):          4.06e-187\n",
            "Time:                        02:01:19   Log-Likelihood:                 501.46\n",
            "No. Observations:                 510   AIC:                            -976.9\n",
            "Df Residuals:                     497   BIC:                            -921.9\n",
            "Df Model:                          12                                         \n",
            "Covariance Type:            nonrobust                                         \n",
            "===================================================================================\n",
            "                      coef    std err          t      P>|t|      [0.025      0.975]\n",
            "-----------------------------------------------------------------------------------\n",
            "const               0.2372      0.028      8.580      0.000       0.183       0.292\n",
            "yr                  0.2271      0.008     27.607      0.000       0.211       0.243\n",
            "workingday          0.0473      0.011      4.257      0.000       0.025       0.069\n",
            "temp                0.5606      0.022     25.435      0.000       0.517       0.604\n",
            "hum                -0.2863      0.031     -9.143      0.000      -0.348      -0.225\n",
            "windspeed          -0.2056      0.026     -7.957      0.000      -0.256      -0.155\n",
            "isSummer            0.1017      0.011      9.186      0.000       0.080       0.123\n",
            "isWinter            0.1386      0.012     11.287      0.000       0.114       0.163\n",
            "Month_8             0.0502      0.017      3.028      0.003       0.018       0.083\n",
            "Month_9             0.1202      0.017      7.232      0.000       0.088       0.153\n",
            "Month_10            0.0410      0.018      2.323      0.021       0.006       0.076\n",
            "Light_Snow_Rain    -0.2008      0.025     -7.898      0.000      -0.251      -0.151\n",
            "Weekday_6           0.0549      0.014      3.825      0.000       0.027       0.083\n",
            "==============================================================================\n",
            "Omnibus:                       75.634   Durbin-Watson:                   1.992\n",
            "Prob(Omnibus):                  0.000   Jarque-Bera (JB):              163.157\n",
            "Skew:                          -0.807   Prob(JB):                     3.72e-36\n",
            "Kurtosis:                       5.252   Cond. No.                         17.4\n",
            "==============================================================================\n",
            "\n",
            "Warnings:\n",
            "[1] Standard Errors assume that the covariance matrix of the errors is correctly specified.\n"
          ]
        },
        {
          "output_type": "stream",
          "name": "stderr",
          "text": [
            "/usr/local/lib/python3.7/dist-packages/statsmodels/tsa/tsatools.py:117: FutureWarning:\n",
            "\n",
            "In a future version of pandas all arguments of concat except for the argument 'objs' will be keyword-only\n",
            "\n"
          ]
        }
      ]
    },
    {
      "cell_type": "code",
      "source": [
        "get_vif(X_train_sk)"
      ],
      "metadata": {
        "colab": {
          "base_uri": "https://localhost:8080/"
        },
        "id": "ce1NtzTxO_fY",
        "outputId": "4599f64f-810b-44f3-e9b0-20ce7105f8a3"
      },
      "execution_count": 413,
      "outputs": [
        {
          "output_type": "stream",
          "name": "stdout",
          "text": [
            "           features    VIF\n",
            "3               hum  11.64\n",
            "2              temp   8.85\n",
            "1        workingday   4.55\n",
            "4         windspeed   3.75\n",
            "6          isWinter   2.24\n",
            "0                yr   2.03\n",
            "5          isSummer   1.82\n",
            "11        Weekday_6   1.79\n",
            "9          Month_10   1.61\n",
            "7           Month_8   1.58\n",
            "8           Month_9   1.33\n",
            "10  Light_Snow_Rain   1.10\n"
          ]
        }
      ]
    },
    {
      "cell_type": "markdown",
      "source": [
        "#### We now have all independent variables P-vales less than Significance level of 0.05 but 'hum' has high VIF of 11.64.\n",
        "\n",
        "Let's try to drop the 'hum' and observe the R2 score and F-static"
      ],
      "metadata": {
        "id": "eFaglibDPF8a"
      }
    },
    {
      "cell_type": "code",
      "source": [
        "X_train_sk.drop('hum',axis=1,inplace=True)"
      ],
      "metadata": {
        "id": "uF7iX1BLPcWy"
      },
      "execution_count": 414,
      "outputs": []
    },
    {
      "cell_type": "markdown",
      "source": [
        "## RFE - Model 5"
      ],
      "metadata": {
        "id": "vJrFKS8KPW6-"
      }
    },
    {
      "cell_type": "code",
      "source": [
        "rfe_model5 = linear_model(X_train_sk.columns,X_train_sk)"
      ],
      "metadata": {
        "colab": {
          "base_uri": "https://localhost:8080/"
        },
        "id": "91r3YrfpPU92",
        "outputId": "e317c6d1-b56f-403b-dad5-79df73a9732b"
      },
      "execution_count": 415,
      "outputs": [
        {
          "output_type": "stream",
          "name": "stdout",
          "text": [
            "                            OLS Regression Results                            \n",
            "==============================================================================\n",
            "Dep. Variable:                    cnt   R-squared:                       0.810\n",
            "Model:                            OLS   Adj. R-squared:                  0.806\n",
            "Method:                 Least Squares   F-statistic:                     192.8\n",
            "Date:                Fri, 03 Jun 2022   Prob (F-statistic):          1.46e-171\n",
            "Time:                        02:01:20   Log-Likelihood:                 461.81\n",
            "No. Observations:                 510   AIC:                            -899.6\n",
            "Df Residuals:                     498   BIC:                            -848.8\n",
            "Df Model:                          11                                         \n",
            "Covariance Type:            nonrobust                                         \n",
            "===================================================================================\n",
            "                      coef    std err          t      P>|t|      [0.025      0.975]\n",
            "-----------------------------------------------------------------------------------\n",
            "const               0.0481      0.020      2.429      0.015       0.009       0.087\n",
            "yr                  0.2340      0.009     26.455      0.000       0.217       0.251\n",
            "workingday          0.0483      0.012      4.021      0.000       0.025       0.072\n",
            "temp                0.5438      0.024     22.932      0.000       0.497       0.590\n",
            "windspeed          -0.1462      0.027     -5.416      0.000      -0.199      -0.093\n",
            "isSummer            0.0904      0.012      7.610      0.000       0.067       0.114\n",
            "isWinter            0.1235      0.013      9.400      0.000       0.098       0.149\n",
            "Month_8             0.0387      0.018      2.164      0.031       0.004       0.074\n",
            "Month_9             0.0996      0.018      5.601      0.000       0.065       0.135\n",
            "Month_10            0.0295      0.019      1.549      0.122      -0.008       0.067\n",
            "Light_Snow_Rain    -0.2603      0.027     -9.809      0.000      -0.312      -0.208\n",
            "Weekday_6           0.0595      0.015      3.841      0.000       0.029       0.090\n",
            "==============================================================================\n",
            "Omnibus:                       78.625   Durbin-Watson:                   1.965\n",
            "Prob(Omnibus):                  0.000   Jarque-Bera (JB):              156.698\n",
            "Skew:                          -0.866   Prob(JB):                     9.41e-35\n",
            "Kurtosis:                       5.091   Cond. No.                         11.6\n",
            "==============================================================================\n",
            "\n",
            "Warnings:\n",
            "[1] Standard Errors assume that the covariance matrix of the errors is correctly specified.\n"
          ]
        },
        {
          "output_type": "stream",
          "name": "stderr",
          "text": [
            "/usr/local/lib/python3.7/dist-packages/statsmodels/tsa/tsatools.py:117: FutureWarning:\n",
            "\n",
            "In a future version of pandas all arguments of concat except for the argument 'objs' will be keyword-only\n",
            "\n"
          ]
        }
      ]
    },
    {
      "cell_type": "code",
      "source": [
        "get_vif(X_train_sk)"
      ],
      "metadata": {
        "colab": {
          "base_uri": "https://localhost:8080/"
        },
        "id": "nVdQABTSPjlo",
        "outputId": "8a118d09-0ea2-46f8-ebae-cd39d5856b6b"
      },
      "execution_count": 416,
      "outputs": [
        {
          "output_type": "stream",
          "name": "stdout",
          "text": [
            "           features   VIF\n",
            "2              temp  6.26\n",
            "1        workingday  3.93\n",
            "3         windspeed  3.45\n",
            "0                yr  2.02\n",
            "5          isWinter  1.97\n",
            "4          isSummer  1.80\n",
            "10        Weekday_6  1.67\n",
            "8          Month_10  1.61\n",
            "6           Month_8  1.58\n",
            "7           Month_9  1.32\n",
            "9   Light_Snow_Rain  1.08\n"
          ]
        }
      ]
    },
    {
      "cell_type": "markdown",
      "source": [
        "#### Drop the **Month_10** as which has P-value > 0.05"
      ],
      "metadata": {
        "id": "x3Mg96yPQC7F"
      }
    },
    {
      "cell_type": "code",
      "source": [
        "X_train_sk.drop('Month_10',axis=1,inplace=True)"
      ],
      "metadata": {
        "id": "qixFfi9LQxnm"
      },
      "execution_count": 417,
      "outputs": []
    },
    {
      "cell_type": "markdown",
      "source": [
        "## RFE - Model 6"
      ],
      "metadata": {
        "id": "vVaRXYlWQQD-"
      }
    },
    {
      "cell_type": "code",
      "source": [
        "rfe_model6 = linear_model(X_train_sk.columns,X_train_sk)"
      ],
      "metadata": {
        "colab": {
          "base_uri": "https://localhost:8080/"
        },
        "id": "tazQNLkvQRR6",
        "outputId": "74a887cb-bb63-4e1a-a292-68cd8ec1fbc2"
      },
      "execution_count": 418,
      "outputs": [
        {
          "output_type": "stream",
          "name": "stdout",
          "text": [
            "                            OLS Regression Results                            \n",
            "==============================================================================\n",
            "Dep. Variable:                    cnt   R-squared:                       0.809\n",
            "Model:                            OLS   Adj. R-squared:                  0.805\n",
            "Method:                 Least Squares   F-statistic:                     211.3\n",
            "Date:                Fri, 03 Jun 2022   Prob (F-statistic):          3.22e-172\n",
            "Time:                        02:01:20   Log-Likelihood:                 460.58\n",
            "No. Observations:                 510   AIC:                            -899.2\n",
            "Df Residuals:                     499   BIC:                            -852.6\n",
            "Df Model:                          10                                         \n",
            "Covariance Type:            nonrobust                                         \n",
            "===================================================================================\n",
            "                      coef    std err          t      P>|t|      [0.025      0.975]\n",
            "-----------------------------------------------------------------------------------\n",
            "const               0.0451      0.020      2.286      0.023       0.006       0.084\n",
            "yr                  0.2338      0.009     26.394      0.000       0.216       0.251\n",
            "workingday          0.0478      0.012      3.977      0.000       0.024       0.071\n",
            "temp                0.5507      0.023     23.607      0.000       0.505       0.597\n",
            "windspeed          -0.1445      0.027     -5.348      0.000      -0.198      -0.091\n",
            "isSummer            0.0892      0.012      7.513      0.000       0.066       0.113\n",
            "isWinter            0.1336      0.011     11.704      0.000       0.111       0.156\n",
            "Month_8             0.0362      0.018      2.032      0.043       0.001       0.071\n",
            "Month_9             0.0954      0.018      5.422      0.000       0.061       0.130\n",
            "Light_Snow_Rain    -0.2558      0.026     -9.683      0.000      -0.308      -0.204\n",
            "Weekday_6           0.0590      0.016      3.808      0.000       0.029       0.089\n",
            "==============================================================================\n",
            "Omnibus:                       70.121   Durbin-Watson:                   1.971\n",
            "Prob(Omnibus):                  0.000   Jarque-Bera (JB):              130.612\n",
            "Skew:                          -0.807   Prob(JB):                     4.34e-29\n",
            "Kurtosis:                       4.882   Cond. No.                         11.4\n",
            "==============================================================================\n",
            "\n",
            "Warnings:\n",
            "[1] Standard Errors assume that the covariance matrix of the errors is correctly specified.\n"
          ]
        },
        {
          "output_type": "stream",
          "name": "stderr",
          "text": [
            "/usr/local/lib/python3.7/dist-packages/statsmodels/tsa/tsatools.py:117: FutureWarning:\n",
            "\n",
            "In a future version of pandas all arguments of concat except for the argument 'objs' will be keyword-only\n",
            "\n"
          ]
        }
      ]
    },
    {
      "cell_type": "code",
      "source": [
        "get_vif(X_train_sk)"
      ],
      "metadata": {
        "colab": {
          "base_uri": "https://localhost:8080/"
        },
        "id": "OxZt58p8Q2z2",
        "outputId": "dfeebc57-7c18-4e08-a606-9e881c6ac06c"
      },
      "execution_count": 419,
      "outputs": [
        {
          "output_type": "stream",
          "name": "stdout",
          "text": [
            "          features   VIF\n",
            "2             temp  6.09\n",
            "1       workingday  3.91\n",
            "3        windspeed  3.45\n",
            "0               yr  2.02\n",
            "4         isSummer  1.79\n",
            "9        Weekday_6  1.66\n",
            "6          Month_8  1.57\n",
            "5         isWinter  1.49\n",
            "7          Month_9  1.29\n",
            "8  Light_Snow_Rain  1.06\n"
          ]
        }
      ]
    },
    {
      "cell_type": "markdown",
      "source": [
        "#### Drop the **Month_8** as which has P-value almost at significance level"
      ],
      "metadata": {
        "id": "KJ2fj-zwRN5n"
      }
    },
    {
      "cell_type": "code",
      "source": [
        "X_train_sk.drop('Month_8',axis=1,inplace=True)"
      ],
      "metadata": {
        "id": "EOnH2ZKbQlst"
      },
      "execution_count": 420,
      "outputs": []
    },
    {
      "cell_type": "markdown",
      "source": [
        "## RFE - Model 7"
      ],
      "metadata": {
        "id": "tG2savlWRaJi"
      }
    },
    {
      "cell_type": "code",
      "source": [
        "rfe_model7 = linear_model(X_train_sk.columns,X_train_sk)"
      ],
      "metadata": {
        "colab": {
          "base_uri": "https://localhost:8080/"
        },
        "id": "5RLt2EjBQ-Rm",
        "outputId": "2ca22a49-eb00-42fa-d709-ec358b68992c"
      },
      "execution_count": 421,
      "outputs": [
        {
          "output_type": "stream",
          "name": "stdout",
          "text": [
            "                            OLS Regression Results                            \n",
            "==============================================================================\n",
            "Dep. Variable:                    cnt   R-squared:                       0.807\n",
            "Model:                            OLS   Adj. R-squared:                  0.804\n",
            "Method:                 Least Squares   F-statistic:                     232.8\n",
            "Date:                Fri, 03 Jun 2022   Prob (F-statistic):          1.59e-172\n",
            "Time:                        02:01:20   Log-Likelihood:                 458.48\n",
            "No. Observations:                 510   AIC:                            -897.0\n",
            "Df Residuals:                     500   BIC:                            -854.6\n",
            "Df Model:                           9                                         \n",
            "Covariance Type:            nonrobust                                         \n",
            "===================================================================================\n",
            "                      coef    std err          t      P>|t|      [0.025      0.975]\n",
            "-----------------------------------------------------------------------------------\n",
            "const               0.0417      0.020      2.113      0.035       0.003       0.080\n",
            "yr                  0.2340      0.009     26.335      0.000       0.217       0.251\n",
            "workingday          0.0490      0.012      4.072      0.000       0.025       0.073\n",
            "temp                0.5708      0.021     26.923      0.000       0.529       0.612\n",
            "windspeed          -0.1471      0.027     -5.433      0.000      -0.200      -0.094\n",
            "isSummer            0.0806      0.011      7.244      0.000       0.059       0.102\n",
            "isWinter            0.1285      0.011     11.503      0.000       0.107       0.150\n",
            "Month_9             0.0855      0.017      5.042      0.000       0.052       0.119\n",
            "Light_Snow_Rain    -0.2572      0.026     -9.712      0.000      -0.309      -0.205\n",
            "Weekday_6           0.0607      0.016      3.910      0.000       0.030       0.091\n",
            "==============================================================================\n",
            "Omnibus:                       69.929   Durbin-Watson:                   1.994\n",
            "Prob(Omnibus):                  0.000   Jarque-Bera (JB):              126.171\n",
            "Skew:                          -0.818   Prob(JB):                     4.00e-28\n",
            "Kurtosis:                       4.806   Cond. No.                         11.2\n",
            "==============================================================================\n",
            "\n",
            "Warnings:\n",
            "[1] Standard Errors assume that the covariance matrix of the errors is correctly specified.\n"
          ]
        },
        {
          "output_type": "stream",
          "name": "stderr",
          "text": [
            "/usr/local/lib/python3.7/dist-packages/statsmodels/tsa/tsatools.py:117: FutureWarning:\n",
            "\n",
            "In a future version of pandas all arguments of concat except for the argument 'objs' will be keyword-only\n",
            "\n"
          ]
        }
      ]
    },
    {
      "cell_type": "code",
      "source": [
        "get_vif(X_train_sk)"
      ],
      "metadata": {
        "colab": {
          "base_uri": "https://localhost:8080/"
        },
        "id": "plTj7SOSRDVI",
        "outputId": "8b626041-4b1c-4efe-e52f-d319fde9767b"
      },
      "execution_count": 422,
      "outputs": [
        {
          "output_type": "stream",
          "name": "stdout",
          "text": [
            "          features   VIF\n",
            "2             temp  4.76\n",
            "1       workingday  3.90\n",
            "3        windspeed  3.41\n",
            "0               yr  2.02\n",
            "8        Weekday_6  1.66\n",
            "4         isSummer  1.55\n",
            "5         isWinter  1.38\n",
            "6          Month_9  1.19\n",
            "7  Light_Snow_Rain  1.06\n"
          ]
        }
      ]
    },
    {
      "cell_type": "markdown",
      "source": [
        "#### This should be our good fit model as all p-values are zero and also VIF <5 (i.e, no multicollinearity)"
      ],
      "metadata": {
        "id": "c8N5AL59Rcz4"
      }
    },
    {
      "cell_type": "code",
      "source": [
        "rfe_final_model = linear_model(X_train_sk.columns,X_train_sk)"
      ],
      "metadata": {
        "colab": {
          "base_uri": "https://localhost:8080/"
        },
        "id": "o661JMLHRoNi",
        "outputId": "db2d5619-ead4-4bbc-c213-546be5000422"
      },
      "execution_count": 423,
      "outputs": [
        {
          "output_type": "stream",
          "name": "stderr",
          "text": [
            "/usr/local/lib/python3.7/dist-packages/statsmodels/tsa/tsatools.py:117: FutureWarning:\n",
            "\n",
            "In a future version of pandas all arguments of concat except for the argument 'objs' will be keyword-only\n",
            "\n"
          ]
        },
        {
          "output_type": "stream",
          "name": "stdout",
          "text": [
            "                            OLS Regression Results                            \n",
            "==============================================================================\n",
            "Dep. Variable:                    cnt   R-squared:                       0.807\n",
            "Model:                            OLS   Adj. R-squared:                  0.804\n",
            "Method:                 Least Squares   F-statistic:                     232.8\n",
            "Date:                Fri, 03 Jun 2022   Prob (F-statistic):          1.59e-172\n",
            "Time:                        02:01:20   Log-Likelihood:                 458.48\n",
            "No. Observations:                 510   AIC:                            -897.0\n",
            "Df Residuals:                     500   BIC:                            -854.6\n",
            "Df Model:                           9                                         \n",
            "Covariance Type:            nonrobust                                         \n",
            "===================================================================================\n",
            "                      coef    std err          t      P>|t|      [0.025      0.975]\n",
            "-----------------------------------------------------------------------------------\n",
            "const               0.0417      0.020      2.113      0.035       0.003       0.080\n",
            "yr                  0.2340      0.009     26.335      0.000       0.217       0.251\n",
            "workingday          0.0490      0.012      4.072      0.000       0.025       0.073\n",
            "temp                0.5708      0.021     26.923      0.000       0.529       0.612\n",
            "windspeed          -0.1471      0.027     -5.433      0.000      -0.200      -0.094\n",
            "isSummer            0.0806      0.011      7.244      0.000       0.059       0.102\n",
            "isWinter            0.1285      0.011     11.503      0.000       0.107       0.150\n",
            "Month_9             0.0855      0.017      5.042      0.000       0.052       0.119\n",
            "Light_Snow_Rain    -0.2572      0.026     -9.712      0.000      -0.309      -0.205\n",
            "Weekday_6           0.0607      0.016      3.910      0.000       0.030       0.091\n",
            "==============================================================================\n",
            "Omnibus:                       69.929   Durbin-Watson:                   1.994\n",
            "Prob(Omnibus):                  0.000   Jarque-Bera (JB):              126.171\n",
            "Skew:                          -0.818   Prob(JB):                     4.00e-28\n",
            "Kurtosis:                       4.806   Cond. No.                         11.2\n",
            "==============================================================================\n",
            "\n",
            "Warnings:\n",
            "[1] Standard Errors assume that the covariance matrix of the errors is correctly specified.\n"
          ]
        }
      ]
    },
    {
      "cell_type": "code",
      "source": [
        "X_test = X_test[X_train_sk.columns]\n"
      ],
      "metadata": {
        "id": "Q7AVspmuB1C5"
      },
      "execution_count": 424,
      "outputs": []
    },
    {
      "cell_type": "code",
      "source": [
        "X_test_lm = sm.add_constant(X_test)\n",
        "y_pred = rfe_final_model.predict(X_test_lm)"
      ],
      "metadata": {
        "colab": {
          "base_uri": "https://localhost:8080/"
        },
        "id": "FzoPFgBPKeBs",
        "outputId": "bf97a0dc-cc8a-4d80-f0d3-50a246d86ae3"
      },
      "execution_count": 425,
      "outputs": [
        {
          "output_type": "stream",
          "name": "stderr",
          "text": [
            "/usr/local/lib/python3.7/dist-packages/statsmodels/tsa/tsatools.py:117: FutureWarning:\n",
            "\n",
            "In a future version of pandas all arguments of concat except for the argument 'objs' will be keyword-only\n",
            "\n"
          ]
        }
      ]
    },
    {
      "cell_type": "code",
      "source": [
        "r2 = r2_score(y_test,y_pred)\n",
        "r2"
      ],
      "metadata": {
        "colab": {
          "base_uri": "https://localhost:8080/"
        },
        "id": "eYBggi_XFA_R",
        "outputId": "019952eb-7491-462f-f47d-10f08f3c9f1d"
      },
      "execution_count": 426,
      "outputs": [
        {
          "output_type": "execute_result",
          "data": {
            "text/plain": [
              "0.7729876681936227"
            ]
          },
          "metadata": {},
          "execution_count": 426
        }
      ]
    },
    {
      "cell_type": "code",
      "source": [
        "fig = plt.figure()\n",
        "plt.scatter(y_test, y_pred)\n",
        "fig.suptitle('y_test vs y_pred')              \n",
        "plt.xlabel('y_test')                         \n",
        "plt.ylabel('y_pred') \n",
        "plt.show()"
      ],
      "metadata": {
        "colab": {
          "base_uri": "https://localhost:8080/",
          "height": 309
        },
        "id": "hS5Hu2zXHYxz",
        "outputId": "8835bfff-f516-4f63-ef50-22c991d940d7"
      },
      "execution_count": 427,
      "outputs": [
        {
          "output_type": "display_data",
          "data": {
            "text/plain": [
              "<Figure size 432x288 with 1 Axes>"
            ],
            "image/png": "[encoded data removed]"
          },
          "metadata": {
            "needs_background": "light"
          }
        }
      ]
    },
    {
      "cell_type": "markdown",
      "source": [
        "#### Observations\n",
        "\n",
        "\n",
        "*   Our final model using RFE has **R2-Score of 0.807** with train data and with test data predictions we got **0.772**. \n",
        "    F-statistic:                     232.8, \n",
        "    Prob (F-statistic):          1.59e-172\n",
        "*   Our final model using manual elimination  has **R2-Score of 0.836** with train data and with test data predictions we got **0.796**.\n",
        "F-statistic:                     254.0\n",
        "Prob (F-statistic):          1.47e-188\n",
        "\n",
        "#### It seems our manual model is good compared to RFE one."
      ],
      "metadata": {
        "id": "RAbOkwim-cXm"
      }
    },
    {
      "cell_type": "markdown",
      "source": [
        "## Final Observations\n",
        "\n",
        "\n",
        "*   As per our manual feature elimination model, below are the top3 significant variables with their coefficients to predict the bike share rides count.\n",
        "           \n",
        "\n",
        "1.   temp             :   0.5499\n",
        "2.   weathersit_3       :         -0.2880\n",
        "3.   yr          :        0.2331\n",
        "\n",
        "\n",
        "*   Our model has **R2-Score** of **0.836** with train data and with **test data** predictions we got **0.796** which is good.\n",
        "*   Error terms are almost normally distrbuted with mean 0- this is one of the assumption for linear regression model\n",
        "*  There is no multicollinearity in our model as VIFs are less than 5.\n",
        "### Intepretations\n",
        "\n",
        "\n",
        "\n",
        "1.   A unit increase in temp variable casues the bike share rides count increase by 0.5499 units\n",
        "2. A unit increase in yr variable casues the bike share rides count increase by 0.2331 units\n",
        "3. A unit increase in weathersit3(Light Snow, Light Rain + Thunderstorm + Scattered clouds, Light Rain + Scattered clouds variable casues the bike share rides count decrease by 0.2880 units\n",
        "\n",
        "\n",
        "\n"
      ],
      "metadata": {
        "id": "smw8dWJF_bYt"
      }
    }
  ]
}