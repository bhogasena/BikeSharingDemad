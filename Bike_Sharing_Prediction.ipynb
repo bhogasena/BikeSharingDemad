{
  "nbformat": 4,
  "nbformat_minor": 0,
  "metadata": {
    "colab": {
      "name": "Bike_Sharing_Prediction.ipynb",
      "provenance": [],
      "include_colab_link": true
    },
    "kernelspec": {
      "name": "python3",
      "display_name": "Python 3"
    },
    "language_info": {
      "name": "python"
    }
  },
  "cells": [
    {
      "cell_type": "markdown",
      "metadata": {
        "id": "view-in-github",
        "colab_type": "text"
      },
      "source": [
        "<a href=\"https://colab.research.google.com/github/bhogasena/BikeSharingDemad/blob/main/Bike_Sharing_Prediction.ipynb\" target=\"_parent\"><img src=\"https://colab.research.google.com/assets/colab-badge.svg\" alt=\"Open In Colab\"/></a>"
      ]
    },
    {
      "cell_type": "markdown",
      "source": [
        "# Bike Sharing Demand Prediction and Interpretation using Linear Regression\n",
        "\n",
        "## Problem Statement\n",
        "\n",
        "A bike-sharing system is a service in which bikes are made available for shared use to individuals on a short term basis for a price or free. Many bike share systems allow people to borrow a bike from a \"dock\" which is usually computer-controlled wherein the user enters the payment information, and the system unlocks it. This bike can then be returned to another dock belonging to the same system.\n",
        "\n",
        "Compnay wants to understand the factors on which the demand for these shared bikes depends. Specifically, they want to understand the factors affecting the demand for these shared bikes in the American market.\n",
        "\n",
        "The company wants to know:\n",
        "\n",
        "*   Which variables are significant in predicting the demand for shared bikes.\n",
        "*   How well those variables describe the bike demands\n",
        "\n",
        "\n"
      ],
      "metadata": {
        "id": "aeGAvC-vbk9l"
      }
    },
    {
      "cell_type": "markdown",
      "source": [
        "## Step 1: Reading and Understanding the Data"
      ],
      "metadata": {
        "id": "3cv44S7icd2d"
      }
    },
    {
      "cell_type": "code",
      "source": [
        "import numpy as np\n",
        "import pandas as pd\n",
        "import sklearn\n",
        "import statsmodels.api as sm\n",
        "from datetime import datetime\n",
        "import matplotlib.pyplot as plt\n",
        "import seaborn as sns\n",
        "import plotly.express as px\n",
        "from plotly.subplots import make_subplots\n",
        "from sklearn.preprocessing import MinMaxScaler\n",
        "from sklearn.model_selection import train_test_split\n",
        "from statsmodels.stats.outliers_influence import variance_inflation_factor\n",
        "from sklearn.feature_selection import RFE\n",
        "from sklearn.linear_model import LinearRegression\n",
        "from sklearn.metrics import r2_score\n",
        "from sklearn.preprocessing import OneHotEncoder\n",
        "from sklearn.compose import ColumnTransformer\n",
        "import scipy.sparse\n",
        "import plotly.graph_objects as go\n",
        "import warnings\n",
        "warnings.filterwarnings(\"ignore\")\n",
        "pd.options.display.max_columns=None\n"
      ],
      "metadata": {
        "id": "W5HTeEzicdH3"
      },
      "execution_count": 257,
      "outputs": []
    },
    {
      "cell_type": "code",
      "source": [
        "bike_df = pd.read_csv(\"day.csv\")\n",
        "bike_df.head()"
      ],
      "metadata": {
        "colab": {
          "base_uri": "https://localhost:8080/",
          "height": 206
        },
        "id": "0V9zp57Pc5qU",
        "outputId": "88791eb5-f0e0-4684-84e4-01b82d6b1836"
      },
      "execution_count": 258,
      "outputs": [
        {
          "output_type": "execute_result",
          "data": {
            "text/plain": [
              "   instant      dteday  season  yr  mnth  holiday  weekday  workingday  \\\n",
              "0        1  01-01-2018       1   0     1        0        6           0   \n",
              "1        2  02-01-2018       1   0     1        0        0           0   \n",
              "2        3  03-01-2018       1   0     1        0        1           1   \n",
              "3        4  04-01-2018       1   0     1        0        2           1   \n",
              "4        5  05-01-2018       1   0     1        0        3           1   \n",
              "\n",
              "   weathersit       temp     atemp      hum  windspeed  casual  registered  \\\n",
              "0           2  14.110847  18.18125  80.5833  10.749882     331         654   \n",
              "1           2  14.902598  17.68695  69.6087  16.652113     131         670   \n",
              "2           1   8.050924   9.47025  43.7273  16.636703     120        1229   \n",
              "3           1   8.200000  10.60610  59.0435  10.739832     108        1454   \n",
              "4           1   9.305237  11.46350  43.6957  12.522300      82        1518   \n",
              "\n",
              "    cnt  \n",
              "0   985  \n",
              "1   801  \n",
              "2  1349  \n",
              "3  1562  \n",
              "4  1600  "
            ],
            "text/html": [
              "\n",
              "  <div id=\"df-b211c5dd-ecd4-404a-be70-19c7855d8bc0\">\n",
              "    <div class=\"colab-df-container\">\n",
              "      <div>\n",
              "<style scoped>\n",
              "    .dataframe tbody tr th:only-of-type {\n",
              "        vertical-align: middle;\n",
              "    }\n",
              "\n",
              "    .dataframe tbody tr th {\n",
              "        vertical-align: top;\n",
              "    }\n",
              "\n",
              "    .dataframe thead th {\n",
              "        text-align: right;\n",
              "    }\n",
              "</style>\n",
              "<table border=\"1\" class=\"dataframe\">\n",
              "  <thead>\n",
              "    <tr style=\"text-align: right;\">\n",
              "      <th></th>\n",
              "      <th>instant</th>\n",
              "      <th>dteday</th>\n",
              "      <th>season</th>\n",
              "      <th>yr</th>\n",
              "      <th>mnth</th>\n",
              "      <th>holiday</th>\n",
              "      <th>weekday</th>\n",
              "      <th>workingday</th>\n",
              "      <th>weathersit</th>\n",
              "      <th>temp</th>\n",
              "      <th>atemp</th>\n",
              "      <th>hum</th>\n",
              "      <th>windspeed</th>\n",
              "      <th>casual</th>\n",
              "      <th>registered</th>\n",
              "      <th>cnt</th>\n",
              "    </tr>\n",
              "  </thead>\n",
              "  <tbody>\n",
              "    <tr>\n",
              "      <th>0</th>\n",
              "      <td>1</td>\n",
              "      <td>01-01-2018</td>\n",
              "      <td>1</td>\n",
              "      <td>0</td>\n",
              "      <td>1</td>\n",
              "      <td>0</td>\n",
              "      <td>6</td>\n",
              "      <td>0</td>\n",
              "      <td>2</td>\n",
              "      <td>14.110847</td>\n",
              "      <td>18.18125</td>\n",
              "      <td>80.5833</td>\n",
              "      <td>10.749882</td>\n",
              "      <td>331</td>\n",
              "      <td>654</td>\n",
              "      <td>985</td>\n",
              "    </tr>\n",
              "    <tr>\n",
              "      <th>1</th>\n",
              "      <td>2</td>\n",
              "      <td>02-01-2018</td>\n",
              "      <td>1</td>\n",
              "      <td>0</td>\n",
              "      <td>1</td>\n",
              "      <td>0</td>\n",
              "      <td>0</td>\n",
              "      <td>0</td>\n",
              "      <td>2</td>\n",
              "      <td>14.902598</td>\n",
              "      <td>17.68695</td>\n",
              "      <td>69.6087</td>\n",
              "      <td>16.652113</td>\n",
              "      <td>131</td>\n",
              "      <td>670</td>\n",
              "      <td>801</td>\n",
              "    </tr>\n",
              "    <tr>\n",
              "      <th>2</th>\n",
              "      <td>3</td>\n",
              "      <td>03-01-2018</td>\n",
              "      <td>1</td>\n",
              "      <td>0</td>\n",
              "      <td>1</td>\n",
              "      <td>0</td>\n",
              "      <td>1</td>\n",
              "      <td>1</td>\n",
              "      <td>1</td>\n",
              "      <td>8.050924</td>\n",
              "      <td>9.47025</td>\n",
              "      <td>43.7273</td>\n",
              "      <td>16.636703</td>\n",
              "      <td>120</td>\n",
              "      <td>1229</td>\n",
              "      <td>1349</td>\n",
              "    </tr>\n",
              "    <tr>\n",
              "      <th>3</th>\n",
              "      <td>4</td>\n",
              "      <td>04-01-2018</td>\n",
              "      <td>1</td>\n",
              "      <td>0</td>\n",
              "      <td>1</td>\n",
              "      <td>0</td>\n",
              "      <td>2</td>\n",
              "      <td>1</td>\n",
              "      <td>1</td>\n",
              "      <td>8.200000</td>\n",
              "      <td>10.60610</td>\n",
              "      <td>59.0435</td>\n",
              "      <td>10.739832</td>\n",
              "      <td>108</td>\n",
              "      <td>1454</td>\n",
              "      <td>1562</td>\n",
              "    </tr>\n",
              "    <tr>\n",
              "      <th>4</th>\n",
              "      <td>5</td>\n",
              "      <td>05-01-2018</td>\n",
              "      <td>1</td>\n",
              "      <td>0</td>\n",
              "      <td>1</td>\n",
              "      <td>0</td>\n",
              "      <td>3</td>\n",
              "      <td>1</td>\n",
              "      <td>1</td>\n",
              "      <td>9.305237</td>\n",
              "      <td>11.46350</td>\n",
              "      <td>43.6957</td>\n",
              "      <td>12.522300</td>\n",
              "      <td>82</td>\n",
              "      <td>1518</td>\n",
              "      <td>1600</td>\n",
              "    </tr>\n",
              "  </tbody>\n",
              "</table>\n",
              "</div>\n",
              "      <button class=\"colab-df-convert\" onclick=\"convertToInteractive('df-b211c5dd-ecd4-404a-be70-19c7855d8bc0')\"\n",
              "              title=\"Convert this dataframe to an interactive table.\"\n",
              "              style=\"display:none;\">\n",
              "        \n",
              "  <svg xmlns=\"http://www.w3.org/2000/svg\" height=\"24px\"viewBox=\"0 0 24 24\"\n",
              "       width=\"24px\">\n",
              "    <path d=\"M0 0h24v24H0V0z\" fill=\"none\"/>\n",
              "    <path d=\"M18.56 5.44l.94 2.06.94-2.06 2.06-.94-2.06-.94-.94-2.06-.94 2.06-2.06.94zm-11 1L8.5 8.5l.94-2.06 2.06-.94-2.06-.94L8.5 2.5l-.94 2.06-2.06.94zm10 10l.94 2.06.94-2.06 2.06-.94-2.06-.94-.94-2.06-.94 2.06-2.06.94z\"/><path d=\"M17.41 7.96l-1.37-1.37c-.4-.4-.92-.59-1.43-.59-.52 0-1.04.2-1.43.59L10.3 9.45l-7.72 7.72c-.78.78-.78 2.05 0 2.83L4 21.41c.39.39.9.59 1.41.59.51 0 1.02-.2 1.41-.59l7.78-7.78 2.81-2.81c.8-.78.8-2.07 0-2.86zM5.41 20L4 18.59l7.72-7.72 1.47 1.35L5.41 20z\"/>\n",
              "  </svg>\n",
              "      </button>\n",
              "      \n",
              "  <style>\n",
              "    .colab-df-container {\n",
              "      display:flex;\n",
              "      flex-wrap:wrap;\n",
              "      gap: 12px;\n",
              "    }\n",
              "\n",
              "    .colab-df-convert {\n",
              "      background-color: #E8F0FE;\n",
              "      border: none;\n",
              "      border-radius: 50%;\n",
              "      cursor: pointer;\n",
              "      display: none;\n",
              "      fill: #1967D2;\n",
              "      height: 32px;\n",
              "      padding: 0 0 0 0;\n",
              "      width: 32px;\n",
              "    }\n",
              "\n",
              "    .colab-df-convert:hover {\n",
              "      background-color: #E2EBFA;\n",
              "      box-shadow: 0px 1px 2px rgba(60, 64, 67, 0.3), 0px 1px 3px 1px rgba(60, 64, 67, 0.15);\n",
              "      fill: #174EA6;\n",
              "    }\n",
              "\n",
              "    [theme=dark] .colab-df-convert {\n",
              "      background-color: #3B4455;\n",
              "      fill: #D2E3FC;\n",
              "    }\n",
              "\n",
              "    [theme=dark] .colab-df-convert:hover {\n",
              "      background-color: #434B5C;\n",
              "      box-shadow: 0px 1px 3px 1px rgba(0, 0, 0, 0.15);\n",
              "      filter: drop-shadow(0px 1px 2px rgba(0, 0, 0, 0.3));\n",
              "      fill: #FFFFFF;\n",
              "    }\n",
              "  </style>\n",
              "\n",
              "      <script>\n",
              "        const buttonEl =\n",
              "          document.querySelector('#df-b211c5dd-ecd4-404a-be70-19c7855d8bc0 button.colab-df-convert');\n",
              "        buttonEl.style.display =\n",
              "          google.colab.kernel.accessAllowed ? 'block' : 'none';\n",
              "\n",
              "        async function convertToInteractive(key) {\n",
              "          const element = document.querySelector('#df-b211c5dd-ecd4-404a-be70-19c7855d8bc0');\n",
              "          const dataTable =\n",
              "            await google.colab.kernel.invokeFunction('convertToInteractive',\n",
              "                                                     [key], {});\n",
              "          if (!dataTable) return;\n",
              "\n",
              "          const docLinkHtml = 'Like what you see? Visit the ' +\n",
              "            '<a target=\"_blank\" href=https://colab.research.google.com/notebooks/data_table.ipynb>data table notebook</a>'\n",
              "            + ' to learn more about interactive tables.';\n",
              "          element.innerHTML = '';\n",
              "          dataTable['output_type'] = 'display_data';\n",
              "          await google.colab.output.renderOutput(dataTable, element);\n",
              "          const docLink = document.createElement('div');\n",
              "          docLink.innerHTML = docLinkHtml;\n",
              "          element.appendChild(docLink);\n",
              "        }\n",
              "      </script>\n",
              "    </div>\n",
              "  </div>\n",
              "  "
            ]
          },
          "metadata": {},
          "execution_count": 258
        }
      ]
    },
    {
      "cell_type": "code",
      "source": [
        "bike_df.info()"
      ],
      "metadata": {
        "colab": {
          "base_uri": "https://localhost:8080/"
        },
        "id": "JkIDJDvBdeJV",
        "outputId": "cddfe9ff-3300-45e6-85e9-2003fba4192e"
      },
      "execution_count": 259,
      "outputs": [
        {
          "output_type": "stream",
          "name": "stdout",
          "text": [
            "<class 'pandas.core.frame.DataFrame'>\n",
            "RangeIndex: 730 entries, 0 to 729\n",
            "Data columns (total 16 columns):\n",
            " #   Column      Non-Null Count  Dtype  \n",
            "---  ------      --------------  -----  \n",
            " 0   instant     730 non-null    int64  \n",
            " 1   dteday      730 non-null    object \n",
            " 2   season      730 non-null    int64  \n",
            " 3   yr          730 non-null    int64  \n",
            " 4   mnth        730 non-null    int64  \n",
            " 5   holiday     730 non-null    int64  \n",
            " 6   weekday     730 non-null    int64  \n",
            " 7   workingday  730 non-null    int64  \n",
            " 8   weathersit  730 non-null    int64  \n",
            " 9   temp        730 non-null    float64\n",
            " 10  atemp       730 non-null    float64\n",
            " 11  hum         730 non-null    float64\n",
            " 12  windspeed   730 non-null    float64\n",
            " 13  casual      730 non-null    int64  \n",
            " 14  registered  730 non-null    int64  \n",
            " 15  cnt         730 non-null    int64  \n",
            "dtypes: float64(4), int64(11), object(1)\n",
            "memory usage: 91.4+ KB\n"
          ]
        }
      ]
    },
    {
      "cell_type": "markdown",
      "source": [
        "## Step 2: Visualising the Data\n",
        "\n",
        "### Quantitative Continuous Variables Analysis using scatter plot"
      ],
      "metadata": {
        "id": "z5lDpiEWmVaN"
      }
    },
    {
      "cell_type": "code",
      "source": [
        "cont_vars = ['temp','atemp','hum','windspeed']\n",
        "dep_vars=['cnt']\n",
        "sns.pairplot(bike_df,x_vars=cont_vars,y_vars=dep_vars)\n",
        "plt.show()"
      ],
      "metadata": {
        "colab": {
          "base_uri": "https://localhost:8080/",
          "height": 197
        },
        "id": "tle3OFM8mYSv",
        "outputId": "a8787c98-5d74-49f9-e53e-663c799b8c30"
      },
      "execution_count": 260,
      "outputs": [
        {
          "output_type": "display_data",
          "data": {
            "text/plain": [
              "<Figure size 720x180 with 4 Axes>"
            ],
            "image/png": "[encoded data removed]"
          },
          "metadata": {
            "needs_background": "light"
          }
        }
      ]
    },
    {
      "cell_type": "markdown",
      "source": [
        "#### Observations\n",
        "\n",
        "As per above plots, there seems to be linear relationship for temperature and feeling temperature with total rental bikes"
      ],
      "metadata": {
        "id": "XZLalBSYrki5"
      }
    },
    {
      "cell_type": "code",
      "source": [
        "desc_vars = ['season','yr','mnth','holiday','weekday','workingday','weathersit']\n",
        "def create_box_plot(x_var,y_var,row,col,title,bins):\n",
        "  tr1 = go.Histogram(x=bike_df[x_var],y=bike_df[y_var],histfunc='sum')\n",
        "  tr1.update(name=title)\n",
        "  fig.add_trace(tr1,row,col)\n",
        "  fig.update_xaxes(title={\n",
        "        'text': title},row=row,col=col)\n",
        "\n",
        "fig = make_subplots(3,3,shared_yaxes=True)\n",
        "create_box_plot('season','cnt',1,1,'Season',{'start':1,'end':4,'size':1})\n",
        "create_box_plot('yr','cnt',1,2,'Year',{'start':0,'end':2,'size':1})\n",
        "create_box_plot('mnth','cnt',1,3,'Month',{'start':1,'end':12,'size':1})\n",
        "create_box_plot('holiday','cnt',2,1,'Holiday',{'start':0,'end':1,'size':1})\n",
        "create_box_plot('weekday','cnt',2,2,'Weekday',{'start':0,'end':6,'size':1})\n",
        "create_box_plot('workingday','cnt',2,3,'Workingday',{'start':0,'end':1,'size':1})\n",
        "create_box_plot('weathersit','cnt',3,1,'Weathersit',{'start':1,'end':4,'size':1})\n",
        "\n",
        "fig.update_layout(width=1200,height=1200,barmode='group', bargap=0.15)\n",
        "fig.update_yaxes(title={'text':\"Total Bikes Rented\"},row=1,col=1)\n",
        "fig.show()"
      ],
      "metadata": {
        "colab": {
          "base_uri": "https://localhost:8080/",
          "height": 1000
        },
        "id": "PFSXr6QFqVug",
        "outputId": "f022ad1f-3b50-4a3f-ae4f-afea3c47fc51"
      },
      "execution_count": 261,
      "outputs": [
        {
          "output_type": "display_data",
          "data": {
            "text/html": [
              "<html>\n",
              "<head><meta charset=\"utf-8\" /></head>\n",
              "<body>\n",
              "    <div>            <script src=\"https://cdnjs.cloudflare.com/ajax/libs/mathjax/2.7.5/MathJax.js?config=TeX-AMS-MML_SVG\"></script><script type=\"text/javascript\">if (window.MathJax) {MathJax.Hub.Config({SVG: {font: \"STIX-Web\"}});}</script>                <script type=\"text/javascript\">window.PlotlyConfig = {MathJaxConfig: 'local'};</script>\n",
              "        <script src=\"https://cdn.plot.ly/plotly-2.8.3.min.js\"></script>                <div id=\"f5728411-9f0d-431c-9403-ac52a204813b\" class=\"plotly-graph-div\" style=\"height:1200px; width:1200px;\"></div>            <script type=\"text/javascript\">                                    window.PLOTLYENV=window.PLOTLYENV || {};                                    if (document.getElementById(\"f5728411-9f0d-431c-9403-ac52a204813b\")) {                    Plotly.newPlot(                        \"f5728411-9f0d-431c-9403-ac52a204813b\",                        [{\"histfunc\":\"sum\",\"name\":\"Season\",\"x\":[1,1,1,1,1,1,1,1,1,1,1,1,1,1,1,1,1,1,1,1,1,1,1,1,1,1,1,1,1,1,1,1,1,1,1,1,1,1,1,1,1,1,1,1,1,1,1,1,1,1,1,1,1,1,1,1,1,1,1,1,1,1,1,1,1,1,1,1,1,1,1,1,1,1,1,1,1,1,1,2,2,2,2,2,2,2,2,2,2,2,2,2,2,2,2,2,2,2,2,2,2,2,2,2,2,2,2,2,2,2,2,2,2,2,2,2,2,2,2,2,2,2,2,2,2,2,2,2,2,2,2,2,2,2,2,2,2,2,2,2,2,2,2,2,2,2,2,2,2,2,2,2,2,2,2,2,2,2,2,2,2,2,2,2,2,2,2,2,2,2,2,3,3,3,3,3,3,3,3,3,3,3,3,3,3,3,3,3,3,3,3,3,3,3,3,3,3,3,3,3,3,3,3,3,3,3,3,3,3,3,3,3,3,3,3,3,3,3,3,3,3,3,3,3,3,3,3,3,3,3,3,3,3,3,3,3,3,3,3,3,3,3,3,3,3,3,3,3,3,3,3,3,3,3,3,3,3,3,3,3,3,3,3,3,3,4,4,4,4,4,4,4,4,4,4,4,4,4,4,4,4,4,4,4,4,4,4,4,4,4,4,4,4,4,4,4,4,4,4,4,4,4,4,4,4,4,4,4,4,4,4,4,4,4,4,4,4,4,4,4,4,4,4,4,4,4,4,4,4,4,4,4,4,4,4,4,4,4,4,4,4,4,4,4,4,4,4,4,4,4,4,4,4,4,1,1,1,1,1,1,1,1,1,1,1,1,1,1,1,1,1,1,1,1,1,1,1,1,1,1,1,1,1,1,1,1,1,1,1,1,1,1,1,1,1,1,1,1,1,1,1,1,1,1,1,1,1,1,1,1,1,1,1,1,1,1,1,1,1,1,1,1,1,1,1,1,1,1,1,1,1,1,1,1,1,1,1,1,1,1,1,1,1,1,2,2,2,2,2,2,2,2,2,2,2,2,2,2,2,2,2,2,2,2,2,2,2,2,2,2,2,2,2,2,2,2,2,2,2,2,2,2,2,2,2,2,2,2,2,2,2,2,2,2,2,2,2,2,2,2,2,2,2,2,2,2,2,2,2,2,2,2,2,2,2,2,2,2,2,2,2,2,2,2,2,2,2,2,2,2,2,2,2,2,2,2,3,3,3,3,3,3,3,3,3,3,3,3,3,3,3,3,3,3,3,3,3,3,3,3,3,3,3,3,3,3,3,3,3,3,3,3,3,3,3,3,3,3,3,3,3,3,3,3,3,3,3,3,3,3,3,3,3,3,3,3,3,3,3,3,3,3,3,3,3,3,3,3,3,3,3,3,3,3,3,3,3,3,3,3,3,3,3,3,3,3,3,3,3,3,4,4,4,4,4,4,4,4,4,4,4,4,4,4,4,4,4,4,4,4,4,4,4,4,4,4,4,4,4,4,4,4,4,4,4,4,4,4,4,4,4,4,4,4,4,4,4,4,4,4,4,4,4,4,4,4,4,4,4,4,4,4,4,4,4,4,4,4,4,4,4,4,4,4,4,4,4,4,4,4,4,4,4,4,4,4,4,4,4,1,1,1,1,1,1,1,1,1,1,1],\"y\":[985,801,1349,1562,1600,1606,1510,959,822,1321,1263,1162,1406,1421,1248,1204,1000,683,1650,1927,1543,981,986,1416,1985,506,431,1167,1098,1096,1501,1360,1526,1550,1708,1005,1623,1712,1530,1605,1538,1746,1472,1589,1913,1815,2115,2475,2927,1635,1812,1107,1450,1917,1807,1461,1969,2402,1446,1851,2134,1685,1944,2077,605,1872,2133,1891,623,1977,2132,2417,2046,2056,2192,2744,3239,3117,2471,2077,2703,2121,1865,2210,2496,1693,2028,2425,1536,1685,2227,2252,3249,3115,1795,2808,3141,1471,2455,2895,3348,2034,2162,3267,3126,795,3744,3429,3204,3944,4189,1683,4036,4191,4073,4400,3872,4058,4595,5312,3351,4401,4451,2633,4433,4608,4714,4333,4362,4803,4182,4864,4105,3409,4553,3958,4123,3855,4575,4917,5805,4660,4274,4492,4978,4677,4679,4758,4788,4098,3982,3974,4968,5312,5342,4906,4548,4833,4401,3915,4586,4966,4460,5020,4891,5180,3767,4844,5119,4744,4010,4835,4507,4790,4991,5202,5305,4708,4648,5225,5515,5362,5119,4649,6043,4665,4629,4592,4040,5336,4881,4086,4258,4342,5084,5538,5923,5302,4458,4541,4332,3784,3387,3285,3606,3840,4590,4656,4390,3846,4475,4302,4266,4845,3574,4576,4866,4294,3785,4326,4602,4780,4792,4905,4150,3820,4338,4725,4694,3805,4153,5191,3873,4758,5895,5130,3542,4661,1115,4334,4634,5204,5058,5115,4727,4484,4940,3351,2710,1996,1842,3544,5345,5046,4713,4763,4785,3659,4760,4511,4274,4539,3641,4352,4795,2395,5423,5010,4630,4120,3907,4839,5202,2429,2918,3570,4456,4826,4765,4985,5409,5511,5117,4563,2416,2913,3644,5217,5041,4570,4748,2424,4195,4304,4308,4381,4187,4687,3894,2659,3747,627,3331,3669,4068,4186,3974,4046,3926,3649,4035,4205,4109,2933,3368,4067,3717,4486,4195,1817,3053,3392,3663,3520,2765,1607,2566,1495,2792,3068,3071,3867,2914,3613,3727,3940,3614,3485,3811,2594,705,3322,3620,3190,2743,3310,3523,3740,3709,3577,2739,2431,3403,3750,2660,3068,2209,1011,754,1317,1162,2302,2423,2999,2485,2294,1951,2236,2368,3272,4098,4521,3425,2376,3598,2177,4097,3214,2493,2311,2298,2935,3376,3292,3163,1301,1977,2432,4339,4270,4075,3456,4023,3243,3624,4509,4579,3761,4151,2832,2947,3784,4375,2802,3830,3831,2169,1529,3422,3922,4169,3005,4154,4318,2689,3129,3777,4773,5062,3487,2732,3389,4322,4363,4990,3194,4066,3423,3333,3956,4916,5382,4569,4118,4911,5298,5847,6312,6192,4378,7836,5892,6153,6093,6230,6871,8362,3372,4996,5558,5102,5698,6133,5459,6235,6041,5936,6772,6436,6457,6460,6857,5169,5585,5918,4862,5409,6398,7460,7132,6370,6691,4367,6565,7290,6624,1027,3214,5633,6196,5026,6233,4220,6304,5572,5740,6169,6421,6296,6883,6359,6273,5728,4717,6572,7030,7429,6118,2843,5115,7424,7384,7639,8294,7129,4359,6073,5260,6770,6734,6536,6591,6043,5743,6855,7338,4127,8120,7641,6998,7001,7055,7494,7736,7498,6598,6664,4972,7421,7363,7665,7702,6978,5099,6825,6211,5905,5823,7458,6891,6779,7442,7335,6879,5463,5687,5531,6227,6660,7403,6241,6207,4840,4672,6569,6290,7264,7446,7499,6969,6031,6830,6786,5713,6591,5870,4459,7410,6966,7592,8173,6861,6904,6685,6597,7105,7216,7580,7261,7175,6824,5464,7013,7273,7534,7286,5786,6299,6544,6883,6784,7347,7605,7148,7865,4549,6530,7006,7375,7765,7582,6053,5255,6917,7040,7697,7713,7350,6140,5810,6034,6864,7112,6203,7504,5976,8227,7525,7767,7870,7804,8009,8714,7333,6869,4073,7591,7720,8167,8395,7907,7436,7538,7733,7393,7415,8555,6889,6778,4639,7572,7328,8156,7965,3510,5478,6392,7691,7570,7282,7109,6639,5875,7534,7461,7509,5424,8090,6824,7058,7466,7693,7359,7444,7852,4459,22,1096,5566,5986,5847,5138,5107,5259,5686,5035,5315,5992,6536,6852,6269,4094,5495,5445,5698,5629,4669,5499,5634,5146,2425,3910,2277,2424,5087,3959,5260,5323,5668,5191,4649,6234,6606,5729,5375,5008,5582,3228,5170,5501,5319,5532,5611,5047,3786,4585,5557,5267,4128,3623,1749,1787,920,1013,441,2114,3095,1341,1796,2729],\"type\":\"histogram\",\"xaxis\":\"x\",\"yaxis\":\"y\"},{\"histfunc\":\"sum\",\"name\":\"Year\",\"x\":[0,0,0,0,0,0,0,0,0,0,0,0,0,0,0,0,0,0,0,0,0,0,0,0,0,0,0,0,0,0,0,0,0,0,0,0,0,0,0,0,0,0,0,0,0,0,0,0,0,0,0,0,0,0,0,0,0,0,0,0,0,0,0,0,0,0,0,0,0,0,0,0,0,0,0,0,0,0,0,0,0,0,0,0,0,0,0,0,0,0,0,0,0,0,0,0,0,0,0,0,0,0,0,0,0,0,0,0,0,0,0,0,0,0,0,0,0,0,0,0,0,0,0,0,0,0,0,0,0,0,0,0,0,0,0,0,0,0,0,0,0,0,0,0,0,0,0,0,0,0,0,0,0,0,0,0,0,0,0,0,0,0,0,0,0,0,0,0,0,0,0,0,0,0,0,0,0,0,0,0,0,0,0,0,0,0,0,0,0,0,0,0,0,0,0,0,0,0,0,0,0,0,0,0,0,0,0,0,0,0,0,0,0,0,0,0,0,0,0,0,0,0,0,0,0,0,0,0,0,0,0,0,0,0,0,0,0,0,0,0,0,0,0,0,0,0,0,0,0,0,0,0,0,0,0,0,0,0,0,0,0,0,0,0,0,0,0,0,0,0,0,0,0,0,0,0,0,0,0,0,0,0,0,0,0,0,0,0,0,0,0,0,0,0,0,0,0,0,0,0,0,0,0,0,0,0,0,0,0,0,0,0,0,0,0,0,0,0,0,0,0,0,0,0,0,0,0,0,0,0,0,0,0,0,0,0,0,0,0,0,0,0,0,0,0,0,0,0,0,0,0,0,0,0,0,0,0,0,0,0,0,0,0,0,0,1,1,1,1,1,1,1,1,1,1,1,1,1,1,1,1,1,1,1,1,1,1,1,1,1,1,1,1,1,1,1,1,1,1,1,1,1,1,1,1,1,1,1,1,1,1,1,1,1,1,1,1,1,1,1,1,1,1,1,1,1,1,1,1,1,1,1,1,1,1,1,1,1,1,1,1,1,1,1,1,1,1,1,1,1,1,1,1,1,1,1,1,1,1,1,1,1,1,1,1,1,1,1,1,1,1,1,1,1,1,1,1,1,1,1,1,1,1,1,1,1,1,1,1,1,1,1,1,1,1,1,1,1,1,1,1,1,1,1,1,1,1,1,1,1,1,1,1,1,1,1,1,1,1,1,1,1,1,1,1,1,1,1,1,1,1,1,1,1,1,1,1,1,1,1,1,1,1,1,1,1,1,1,1,1,1,1,1,1,1,1,1,1,1,1,1,1,1,1,1,1,1,1,1,1,1,1,1,1,1,1,1,1,1,1,1,1,1,1,1,1,1,1,1,1,1,1,1,1,1,1,1,1,1,1,1,1,1,1,1,1,1,1,1,1,1,1,1,1,1,1,1,1,1,1,1,1,1,1,1,1,1,1,1,1,1,1,1,1,1,1,1,1,1,1,1,1,1,1,1,1,1,1,1,1,1,1,1,1,1,1,1,1,1,1,1,1,1,1,1,1,1,1,1,1,1,1,1,1,1,1,1,1,1,1,1,1,1,1,1,1,1,1,1,1,1,1,1,1,1,1,1,1,1,1,1,1,1,1,1,1,1,1,1,1,1,1,1,1,1,1,1,1,1,1,1,1,1,1,1,1,1,1,1,1],\"y\":[985,801,1349,1562,1600,1606,1510,959,822,1321,1263,1162,1406,1421,1248,1204,1000,683,1650,1927,1543,981,986,1416,1985,506,431,1167,1098,1096,1501,1360,1526,1550,1708,1005,1623,1712,1530,1605,1538,1746,1472,1589,1913,1815,2115,2475,2927,1635,1812,1107,1450,1917,1807,1461,1969,2402,1446,1851,2134,1685,1944,2077,605,1872,2133,1891,623,1977,2132,2417,2046,2056,2192,2744,3239,3117,2471,2077,2703,2121,1865,2210,2496,1693,2028,2425,1536,1685,2227,2252,3249,3115,1795,2808,3141,1471,2455,2895,3348,2034,2162,3267,3126,795,3744,3429,3204,3944,4189,1683,4036,4191,4073,4400,3872,4058,4595,5312,3351,4401,4451,2633,4433,4608,4714,4333,4362,4803,4182,4864,4105,3409,4553,3958,4123,3855,4575,4917,5805,4660,4274,4492,4978,4677,4679,4758,4788,4098,3982,3974,4968,5312,5342,4906,4548,4833,4401,3915,4586,4966,4460,5020,4891,5180,3767,4844,5119,4744,4010,4835,4507,4790,4991,5202,5305,4708,4648,5225,5515,5362,5119,4649,6043,4665,4629,4592,4040,5336,4881,4086,4258,4342,5084,5538,5923,5302,4458,4541,4332,3784,3387,3285,3606,3840,4590,4656,4390,3846,4475,4302,4266,4845,3574,4576,4866,4294,3785,4326,4602,4780,4792,4905,4150,3820,4338,4725,4694,3805,4153,5191,3873,4758,5895,5130,3542,4661,1115,4334,4634,5204,5058,5115,4727,4484,4940,3351,2710,1996,1842,3544,5345,5046,4713,4763,4785,3659,4760,4511,4274,4539,3641,4352,4795,2395,5423,5010,4630,4120,3907,4839,5202,2429,2918,3570,4456,4826,4765,4985,5409,5511,5117,4563,2416,2913,3644,5217,5041,4570,4748,2424,4195,4304,4308,4381,4187,4687,3894,2659,3747,627,3331,3669,4068,4186,3974,4046,3926,3649,4035,4205,4109,2933,3368,4067,3717,4486,4195,1817,3053,3392,3663,3520,2765,1607,2566,1495,2792,3068,3071,3867,2914,3613,3727,3940,3614,3485,3811,2594,705,3322,3620,3190,2743,3310,3523,3740,3709,3577,2739,2431,3403,3750,2660,3068,2209,1011,754,1317,1162,2302,2423,2999,2485,2294,1951,2236,2368,3272,4098,4521,3425,2376,3598,2177,4097,3214,2493,2311,2298,2935,3376,3292,3163,1301,1977,2432,4339,4270,4075,3456,4023,3243,3624,4509,4579,3761,4151,2832,2947,3784,4375,2802,3830,3831,2169,1529,3422,3922,4169,3005,4154,4318,2689,3129,3777,4773,5062,3487,2732,3389,4322,4363,4990,3194,4066,3423,3333,3956,4916,5382,4569,4118,4911,5298,5847,6312,6192,4378,7836,5892,6153,6093,6230,6871,8362,3372,4996,5558,5102,5698,6133,5459,6235,6041,5936,6772,6436,6457,6460,6857,5169,5585,5918,4862,5409,6398,7460,7132,6370,6691,4367,6565,7290,6624,1027,3214,5633,6196,5026,6233,4220,6304,5572,5740,6169,6421,6296,6883,6359,6273,5728,4717,6572,7030,7429,6118,2843,5115,7424,7384,7639,8294,7129,4359,6073,5260,6770,6734,6536,6591,6043,5743,6855,7338,4127,8120,7641,6998,7001,7055,7494,7736,7498,6598,6664,4972,7421,7363,7665,7702,6978,5099,6825,6211,5905,5823,7458,6891,6779,7442,7335,6879,5463,5687,5531,6227,6660,7403,6241,6207,4840,4672,6569,6290,7264,7446,7499,6969,6031,6830,6786,5713,6591,5870,4459,7410,6966,7592,8173,6861,6904,6685,6597,7105,7216,7580,7261,7175,6824,5464,7013,7273,7534,7286,5786,6299,6544,6883,6784,7347,7605,7148,7865,4549,6530,7006,7375,7765,7582,6053,5255,6917,7040,7697,7713,7350,6140,5810,6034,6864,7112,6203,7504,5976,8227,7525,7767,7870,7804,8009,8714,7333,6869,4073,7591,7720,8167,8395,7907,7436,7538,7733,7393,7415,8555,6889,6778,4639,7572,7328,8156,7965,3510,5478,6392,7691,7570,7282,7109,6639,5875,7534,7461,7509,5424,8090,6824,7058,7466,7693,7359,7444,7852,4459,22,1096,5566,5986,5847,5138,5107,5259,5686,5035,5315,5992,6536,6852,6269,4094,5495,5445,5698,5629,4669,5499,5634,5146,2425,3910,2277,2424,5087,3959,5260,5323,5668,5191,4649,6234,6606,5729,5375,5008,5582,3228,5170,5501,5319,5532,5611,5047,3786,4585,5557,5267,4128,3623,1749,1787,920,1013,441,2114,3095,1341,1796,2729],\"type\":\"histogram\",\"xaxis\":\"x2\",\"yaxis\":\"y2\"},{\"histfunc\":\"sum\",\"name\":\"Month\",\"x\":[1,1,1,1,1,1,1,1,1,1,1,1,1,1,1,1,1,1,1,1,1,1,1,1,1,1,1,1,1,1,1,2,2,2,2,2,2,2,2,2,2,2,2,2,2,2,2,2,2,2,2,2,2,2,2,2,2,2,2,3,3,3,3,3,3,3,3,3,3,3,3,3,3,3,3,3,3,3,3,3,3,3,3,3,3,3,3,3,3,3,4,4,4,4,4,4,4,4,4,4,4,4,4,4,4,4,4,4,4,4,4,4,4,4,4,4,4,4,4,4,5,5,5,5,5,5,5,5,5,5,5,5,5,5,5,5,5,5,5,5,5,5,5,5,5,5,5,5,5,5,5,6,6,6,6,6,6,6,6,6,6,6,6,6,6,6,6,6,6,6,6,6,6,6,6,6,6,6,6,6,6,7,7,7,7,7,7,7,7,7,7,7,7,7,7,7,7,7,7,7,7,7,7,7,7,7,7,7,7,7,7,7,8,8,8,8,8,8,8,8,8,8,8,8,8,8,8,8,8,8,8,8,8,8,8,8,8,8,8,8,8,8,8,9,9,9,9,9,9,9,9,9,9,9,9,9,9,9,9,9,9,9,9,9,9,9,9,9,9,9,9,9,9,10,10,10,10,10,10,10,10,10,10,10,10,10,10,10,10,10,10,10,10,10,10,10,10,10,10,10,10,10,10,10,11,11,11,11,11,11,11,11,11,11,11,11,11,11,11,11,11,11,11,11,11,11,11,11,11,11,11,11,11,11,12,12,12,12,12,12,12,12,12,12,12,12,12,12,12,12,12,12,12,12,12,12,12,12,12,12,12,12,12,12,12,1,1,1,1,1,1,1,1,1,1,1,1,1,1,1,1,1,1,1,1,1,1,1,1,1,1,1,1,1,1,1,2,2,2,2,2,2,2,2,2,2,2,2,2,2,2,2,2,2,2,2,2,2,2,2,2,2,2,2,3,3,3,3,3,3,3,3,3,3,3,3,3,3,3,3,3,3,3,3,3,3,3,3,3,3,3,3,3,3,3,4,4,4,4,4,4,4,4,4,4,4,4,4,4,4,4,4,4,4,4,4,4,4,4,4,4,4,4,4,4,5,5,5,5,5,5,5,5,5,5,5,5,5,5,5,5,5,5,5,5,5,5,5,5,5,5,5,5,5,5,5,6,6,6,6,6,6,6,6,6,6,6,6,6,6,6,6,6,6,6,6,6,6,6,6,6,6,6,6,6,6,7,7,7,7,7,7,7,7,7,7,7,7,7,7,7,7,7,7,7,7,7,7,7,7,7,7,7,7,7,7,7,8,8,8,8,8,8,8,8,8,8,8,8,8,8,8,8,8,8,8,8,8,8,8,8,8,8,8,8,8,8,8,9,9,9,9,9,9,9,9,9,9,9,9,9,9,9,9,9,9,9,9,9,9,9,9,9,9,9,9,9,9,10,10,10,10,10,10,10,10,10,10,10,10,10,10,10,10,10,10,10,10,10,10,10,10,10,10,10,10,10,10,10,11,11,11,11,11,11,11,11,11,11,11,11,11,11,11,11,11,11,11,11,11,11,11,11,11,11,11,11,11,11,12,12,12,12,12,12,12,12,12,12,12,12,12,12,12,12,12,12,12,12,12,12,12,12,12,12,12,12,12,12,12],\"y\":[985,801,1349,1562,1600,1606,1510,959,822,1321,1263,1162,1406,1421,1248,1204,1000,683,1650,1927,1543,981,986,1416,1985,506,431,1167,1098,1096,1501,1360,1526,1550,1708,1005,1623,1712,1530,1605,1538,1746,1472,1589,1913,1815,2115,2475,2927,1635,1812,1107,1450,1917,1807,1461,1969,2402,1446,1851,2134,1685,1944,2077,605,1872,2133,1891,623,1977,2132,2417,2046,2056,2192,2744,3239,3117,2471,2077,2703,2121,1865,2210,2496,1693,2028,2425,1536,1685,2227,2252,3249,3115,1795,2808,3141,1471,2455,2895,3348,2034,2162,3267,3126,795,3744,3429,3204,3944,4189,1683,4036,4191,4073,4400,3872,4058,4595,5312,3351,4401,4451,2633,4433,4608,4714,4333,4362,4803,4182,4864,4105,3409,4553,3958,4123,3855,4575,4917,5805,4660,4274,4492,4978,4677,4679,4758,4788,4098,3982,3974,4968,5312,5342,4906,4548,4833,4401,3915,4586,4966,4460,5020,4891,5180,3767,4844,5119,4744,4010,4835,4507,4790,4991,5202,5305,4708,4648,5225,5515,5362,5119,4649,6043,4665,4629,4592,4040,5336,4881,4086,4258,4342,5084,5538,5923,5302,4458,4541,4332,3784,3387,3285,3606,3840,4590,4656,4390,3846,4475,4302,4266,4845,3574,4576,4866,4294,3785,4326,4602,4780,4792,4905,4150,3820,4338,4725,4694,3805,4153,5191,3873,4758,5895,5130,3542,4661,1115,4334,4634,5204,5058,5115,4727,4484,4940,3351,2710,1996,1842,3544,5345,5046,4713,4763,4785,3659,4760,4511,4274,4539,3641,4352,4795,2395,5423,5010,4630,4120,3907,4839,5202,2429,2918,3570,4456,4826,4765,4985,5409,5511,5117,4563,2416,2913,3644,5217,5041,4570,4748,2424,4195,4304,4308,4381,4187,4687,3894,2659,3747,627,3331,3669,4068,4186,3974,4046,3926,3649,4035,4205,4109,2933,3368,4067,3717,4486,4195,1817,3053,3392,3663,3520,2765,1607,2566,1495,2792,3068,3071,3867,2914,3613,3727,3940,3614,3485,3811,2594,705,3322,3620,3190,2743,3310,3523,3740,3709,3577,2739,2431,3403,3750,2660,3068,2209,1011,754,1317,1162,2302,2423,2999,2485,2294,1951,2236,2368,3272,4098,4521,3425,2376,3598,2177,4097,3214,2493,2311,2298,2935,3376,3292,3163,1301,1977,2432,4339,4270,4075,3456,4023,3243,3624,4509,4579,3761,4151,2832,2947,3784,4375,2802,3830,3831,2169,1529,3422,3922,4169,3005,4154,4318,2689,3129,3777,4773,5062,3487,2732,3389,4322,4363,4990,3194,4066,3423,3333,3956,4916,5382,4569,4118,4911,5298,5847,6312,6192,4378,7836,5892,6153,6093,6230,6871,8362,3372,4996,5558,5102,5698,6133,5459,6235,6041,5936,6772,6436,6457,6460,6857,5169,5585,5918,4862,5409,6398,7460,7132,6370,6691,4367,6565,7290,6624,1027,3214,5633,6196,5026,6233,4220,6304,5572,5740,6169,6421,6296,6883,6359,6273,5728,4717,6572,7030,7429,6118,2843,5115,7424,7384,7639,8294,7129,4359,6073,5260,6770,6734,6536,6591,6043,5743,6855,7338,4127,8120,7641,6998,7001,7055,7494,7736,7498,6598,6664,4972,7421,7363,7665,7702,6978,5099,6825,6211,5905,5823,7458,6891,6779,7442,7335,6879,5463,5687,5531,6227,6660,7403,6241,6207,4840,4672,6569,6290,7264,7446,7499,6969,6031,6830,6786,5713,6591,5870,4459,7410,6966,7592,8173,6861,6904,6685,6597,7105,7216,7580,7261,7175,6824,5464,7013,7273,7534,7286,5786,6299,6544,6883,6784,7347,7605,7148,7865,4549,6530,7006,7375,7765,7582,6053,5255,6917,7040,7697,7713,7350,6140,5810,6034,6864,7112,6203,7504,5976,8227,7525,7767,7870,7804,8009,8714,7333,6869,4073,7591,7720,8167,8395,7907,7436,7538,7733,7393,7415,8555,6889,6778,4639,7572,7328,8156,7965,3510,5478,6392,7691,7570,7282,7109,6639,5875,7534,7461,7509,5424,8090,6824,7058,7466,7693,7359,7444,7852,4459,22,1096,5566,5986,5847,5138,5107,5259,5686,5035,5315,5992,6536,6852,6269,4094,5495,5445,5698,5629,4669,5499,5634,5146,2425,3910,2277,2424,5087,3959,5260,5323,5668,5191,4649,6234,6606,5729,5375,5008,5582,3228,5170,5501,5319,5532,5611,5047,3786,4585,5557,5267,4128,3623,1749,1787,920,1013,441,2114,3095,1341,1796,2729],\"type\":\"histogram\",\"xaxis\":\"x3\",\"yaxis\":\"y3\"},{\"histfunc\":\"sum\",\"name\":\"Holiday\",\"x\":[0,0,0,0,0,0,0,0,0,0,0,0,0,0,0,0,1,0,0,0,0,0,0,0,0,0,0,0,0,0,0,0,0,0,0,0,0,0,0,0,0,0,0,0,0,0,0,0,0,0,0,1,0,0,0,0,0,0,0,0,0,0,0,0,0,0,0,0,0,0,0,0,0,0,0,0,0,0,0,0,0,0,0,0,0,0,0,0,0,0,0,0,0,0,0,0,0,0,0,0,0,0,0,0,1,0,0,0,0,0,0,0,0,0,0,0,0,0,0,0,0,0,0,0,0,0,0,0,0,0,0,0,0,0,0,0,0,0,0,0,0,0,0,0,0,0,0,0,0,1,0,0,0,0,0,0,0,0,0,0,0,0,0,0,0,0,0,0,0,0,0,0,0,0,0,0,0,0,0,0,0,0,0,0,1,0,0,0,0,0,0,0,0,0,0,0,0,0,0,0,0,0,0,0,0,0,0,0,0,0,0,0,0,0,0,0,0,0,0,0,0,0,0,0,0,0,0,0,0,0,0,0,0,0,0,0,0,0,0,0,0,0,0,0,0,0,0,1,0,0,0,0,0,0,0,0,0,0,0,0,0,0,0,0,0,0,0,0,0,0,0,0,0,0,0,0,0,0,0,0,0,0,1,0,0,0,0,0,0,0,0,0,0,0,0,0,0,0,0,0,0,0,0,0,0,0,0,0,0,0,0,0,0,0,1,0,0,0,0,0,0,0,0,0,0,0,0,1,0,0,0,0,0,0,0,0,0,0,0,0,0,0,0,0,0,0,0,0,0,0,0,0,0,0,0,0,0,0,0,1,0,0,0,0,0,0,1,0,0,0,0,0,0,0,0,0,0,0,0,0,1,0,0,0,0,0,0,0,0,0,0,0,0,0,0,0,0,0,0,0,0,0,0,0,0,0,0,0,0,0,0,0,0,0,0,1,0,0,0,0,0,0,0,0,0,0,0,0,0,0,0,0,0,0,0,0,0,0,0,0,0,0,0,0,0,0,0,0,0,0,0,0,0,0,0,0,0,0,0,0,0,0,0,0,0,0,0,0,0,0,1,0,0,0,0,0,0,0,0,0,0,0,0,0,0,0,0,0,0,0,0,0,0,0,0,0,0,0,0,0,0,0,0,0,0,0,0,0,0,0,0,0,1,0,0,0,0,0,0,0,0,0,0,0,0,0,0,0,0,0,0,0,0,0,0,0,0,0,0,0,0,0,0,0,0,0,0,0,0,1,0,0,0,0,0,0,0,0,0,0,0,0,0,0,0,0,0,0,0,0,0,0,0,0,0,0,0,0,0,0,0,0,0,0,0,0,0,0,0,0,0,0,0,0,0,0,0,0,0,0,0,0,0,0,0,0,0,0,0,0,1,0,0,0,0,0,0,0,0,0,0,0,0,0,0,0,0,0,0,0,0,0,0,0,0,0,0,0,0,0,0,0,0,0,0,1,0,0,0,0,0,0,0,0,0,0,0,0,0,0,0,0,0,0,0,0,0,0,0,0,0,0,0,0,0,0,0,0,0,0,1,0,0,0,0,0,0,0,0,0,1,0,0,0,0,0,0,0,0,0,0,0,0,0,0,0,0,0,0,0,0,0,0,0,0,0,0,0,0,0,0,0,0,1,0,0,0,0,0,0],\"y\":[985,801,1349,1562,1600,1606,1510,959,822,1321,1263,1162,1406,1421,1248,1204,1000,683,1650,1927,1543,981,986,1416,1985,506,431,1167,1098,1096,1501,1360,1526,1550,1708,1005,1623,1712,1530,1605,1538,1746,1472,1589,1913,1815,2115,2475,2927,1635,1812,1107,1450,1917,1807,1461,1969,2402,1446,1851,2134,1685,1944,2077,605,1872,2133,1891,623,1977,2132,2417,2046,2056,2192,2744,3239,3117,2471,2077,2703,2121,1865,2210,2496,1693,2028,2425,1536,1685,2227,2252,3249,3115,1795,2808,3141,1471,2455,2895,3348,2034,2162,3267,3126,795,3744,3429,3204,3944,4189,1683,4036,4191,4073,4400,3872,4058,4595,5312,3351,4401,4451,2633,4433,4608,4714,4333,4362,4803,4182,4864,4105,3409,4553,3958,4123,3855,4575,4917,5805,4660,4274,4492,4978,4677,4679,4758,4788,4098,3982,3974,4968,5312,5342,4906,4548,4833,4401,3915,4586,4966,4460,5020,4891,5180,3767,4844,5119,4744,4010,4835,4507,4790,4991,5202,5305,4708,4648,5225,5515,5362,5119,4649,6043,4665,4629,4592,4040,5336,4881,4086,4258,4342,5084,5538,5923,5302,4458,4541,4332,3784,3387,3285,3606,3840,4590,4656,4390,3846,4475,4302,4266,4845,3574,4576,4866,4294,3785,4326,4602,4780,4792,4905,4150,3820,4338,4725,4694,3805,4153,5191,3873,4758,5895,5130,3542,4661,1115,4334,4634,5204,5058,5115,4727,4484,4940,3351,2710,1996,1842,3544,5345,5046,4713,4763,4785,3659,4760,4511,4274,4539,3641,4352,4795,2395,5423,5010,4630,4120,3907,4839,5202,2429,2918,3570,4456,4826,4765,4985,5409,5511,5117,4563,2416,2913,3644,5217,5041,4570,4748,2424,4195,4304,4308,4381,4187,4687,3894,2659,3747,627,3331,3669,4068,4186,3974,4046,3926,3649,4035,4205,4109,2933,3368,4067,3717,4486,4195,1817,3053,3392,3663,3520,2765,1607,2566,1495,2792,3068,3071,3867,2914,3613,3727,3940,3614,3485,3811,2594,705,3322,3620,3190,2743,3310,3523,3740,3709,3577,2739,2431,3403,3750,2660,3068,2209,1011,754,1317,1162,2302,2423,2999,2485,2294,1951,2236,2368,3272,4098,4521,3425,2376,3598,2177,4097,3214,2493,2311,2298,2935,3376,3292,3163,1301,1977,2432,4339,4270,4075,3456,4023,3243,3624,4509,4579,3761,4151,2832,2947,3784,4375,2802,3830,3831,2169,1529,3422,3922,4169,3005,4154,4318,2689,3129,3777,4773,5062,3487,2732,3389,4322,4363,4990,3194,4066,3423,3333,3956,4916,5382,4569,4118,4911,5298,5847,6312,6192,4378,7836,5892,6153,6093,6230,6871,8362,3372,4996,5558,5102,5698,6133,5459,6235,6041,5936,6772,6436,6457,6460,6857,5169,5585,5918,4862,5409,6398,7460,7132,6370,6691,4367,6565,7290,6624,1027,3214,5633,6196,5026,6233,4220,6304,5572,5740,6169,6421,6296,6883,6359,6273,5728,4717,6572,7030,7429,6118,2843,5115,7424,7384,7639,8294,7129,4359,6073,5260,6770,6734,6536,6591,6043,5743,6855,7338,4127,8120,7641,6998,7001,7055,7494,7736,7498,6598,6664,4972,7421,7363,7665,7702,6978,5099,6825,6211,5905,5823,7458,6891,6779,7442,7335,6879,5463,5687,5531,6227,6660,7403,6241,6207,4840,4672,6569,6290,7264,7446,7499,6969,6031,6830,6786,5713,6591,5870,4459,7410,6966,7592,8173,6861,6904,6685,6597,7105,7216,7580,7261,7175,6824,5464,7013,7273,7534,7286,5786,6299,6544,6883,6784,7347,7605,7148,7865,4549,6530,7006,7375,7765,7582,6053,5255,6917,7040,7697,7713,7350,6140,5810,6034,6864,7112,6203,7504,5976,8227,7525,7767,7870,7804,8009,8714,7333,6869,4073,7591,7720,8167,8395,7907,7436,7538,7733,7393,7415,8555,6889,6778,4639,7572,7328,8156,7965,3510,5478,6392,7691,7570,7282,7109,6639,5875,7534,7461,7509,5424,8090,6824,7058,7466,7693,7359,7444,7852,4459,22,1096,5566,5986,5847,5138,5107,5259,5686,5035,5315,5992,6536,6852,6269,4094,5495,5445,5698,5629,4669,5499,5634,5146,2425,3910,2277,2424,5087,3959,5260,5323,5668,5191,4649,6234,6606,5729,5375,5008,5582,3228,5170,5501,5319,5532,5611,5047,3786,4585,5557,5267,4128,3623,1749,1787,920,1013,441,2114,3095,1341,1796,2729],\"type\":\"histogram\",\"xaxis\":\"x4\",\"yaxis\":\"y4\"},{\"histfunc\":\"sum\",\"name\":\"Weekday\",\"x\":[6,0,1,2,3,4,5,6,0,1,2,3,4,5,6,0,1,2,3,4,5,6,0,1,2,3,4,5,6,0,1,2,3,4,5,6,0,1,2,3,4,5,6,0,1,2,3,4,5,6,0,1,2,3,4,5,6,0,1,2,3,4,5,6,0,1,2,3,4,5,6,0,1,2,3,4,5,6,0,1,2,3,4,5,6,0,1,2,3,4,5,6,0,1,2,3,4,5,6,0,1,2,3,4,5,6,0,1,2,3,4,5,6,0,1,2,3,4,5,6,0,1,2,3,4,5,6,0,1,2,3,4,5,6,0,1,2,3,4,5,6,0,1,2,3,4,5,6,0,1,2,3,4,5,6,0,1,2,3,4,5,6,0,1,2,3,4,5,6,0,1,2,3,4,5,6,0,1,2,3,4,5,6,0,1,2,3,4,5,6,0,1,2,3,4,5,6,0,1,2,3,4,5,6,0,1,2,3,4,5,6,0,1,2,3,4,5,6,0,1,2,3,4,5,6,0,1,2,3,4,5,6,0,1,2,3,4,5,6,0,1,2,3,4,5,6,0,1,2,3,4,5,6,0,1,2,3,4,5,6,0,1,2,3,4,5,6,0,1,2,3,4,5,6,0,1,2,3,4,5,6,0,1,2,3,4,5,6,0,1,2,3,4,5,6,0,1,2,3,4,5,6,0,1,2,3,4,5,6,0,1,2,3,4,5,6,0,1,2,3,4,5,6,0,1,2,3,4,5,6,0,1,2,3,4,5,6,0,1,2,3,4,5,6,0,1,2,3,4,5,6,0,1,2,3,4,5,6,0,1,2,3,4,5,6,0,1,2,3,4,5,6,0,1,2,3,4,5,6,0,1,2,3,4,5,6,0,1,2,3,4,5,6,0,1,2,3,4,5,6,0,1,2,3,4,5,6,0,1,2,3,4,5,6,0,1,2,3,4,5,6,0,1,2,4,5,6,0,1,2,3,4,5,6,0,1,2,3,4,5,6,0,1,2,3,4,5,6,0,1,2,3,4,5,6,0,1,2,3,4,5,6,0,1,2,3,4,5,6,0,1,2,3,4,5,6,0,1,2,3,4,5,6,0,1,2,3,4,5,6,0,1,2,3,4,5,6,0,1,2,3,4,5,6,0,1,2,3,4,5,6,0,1,2,3,4,5,6,0,1,2,3,4,5,6,0,1,2,3,4,5,6,0,1,2,3,4,5,6,0,1,2,3,4,5,6,0,1,2,3,4,5,6,0,1,2,3,4,5,6,0,1,2,3,4,5,6,0,1,2,3,4,5,6,0,1,2,3,4,5,6,0,1,2,3,4,5,6,0,1,2,3,4,5,6,0,1,2,3,4,5,6,0,1,2,3,4,5,6,0,1,2,3,4,5,6,0,1,2,3,4,5,6,0,1,2,3,4,5,6,0,1,2,3,4,5,6,0,1,2,3,4,5,6,0,1,2,3,4,5,6,0,1,2,3,4,5,6,0,1,2,3,4,5,6,0,1,2,3,4,5,6,0,1,2,3,4,5,6,0,1,2,3,4,5,6,0,1,2,3,4,5,6,0,1,2,3,4,5,6,0,1,2,3,4,5,6,0,1,2,3,4,5,6,0,1,2,3,4,5,6,0,1,2,3,4,5,6,0,1],\"y\":[985,801,1349,1562,1600,1606,1510,959,822,1321,1263,1162,1406,1421,1248,1204,1000,683,1650,1927,1543,981,986,1416,1985,506,431,1167,1098,1096,1501,1360,1526,1550,1708,1005,1623,1712,1530,1605,1538,1746,1472,1589,1913,1815,2115,2475,2927,1635,1812,1107,1450,1917,1807,1461,1969,2402,1446,1851,2134,1685,1944,2077,605,1872,2133,1891,623,1977,2132,2417,2046,2056,2192,2744,3239,3117,2471,2077,2703,2121,1865,2210,2496,1693,2028,2425,1536,1685,2227,2252,3249,3115,1795,2808,3141,1471,2455,2895,3348,2034,2162,3267,3126,795,3744,3429,3204,3944,4189,1683,4036,4191,4073,4400,3872,4058,4595,5312,3351,4401,4451,2633,4433,4608,4714,4333,4362,4803,4182,4864,4105,3409,4553,3958,4123,3855,4575,4917,5805,4660,4274,4492,4978,4677,4679,4758,4788,4098,3982,3974,4968,5312,5342,4906,4548,4833,4401,3915,4586,4966,4460,5020,4891,5180,3767,4844,5119,4744,4010,4835,4507,4790,4991,5202,5305,4708,4648,5225,5515,5362,5119,4649,6043,4665,4629,4592,4040,5336,4881,4086,4258,4342,5084,5538,5923,5302,4458,4541,4332,3784,3387,3285,3606,3840,4590,4656,4390,3846,4475,4302,4266,4845,3574,4576,4866,4294,3785,4326,4602,4780,4792,4905,4150,3820,4338,4725,4694,3805,4153,5191,3873,4758,5895,5130,3542,4661,1115,4334,4634,5204,5058,5115,4727,4484,4940,3351,2710,1996,1842,3544,5345,5046,4713,4763,4785,3659,4760,4511,4274,4539,3641,4352,4795,2395,5423,5010,4630,4120,3907,4839,5202,2429,2918,3570,4456,4826,4765,4985,5409,5511,5117,4563,2416,2913,3644,5217,5041,4570,4748,2424,4195,4304,4308,4381,4187,4687,3894,2659,3747,627,3331,3669,4068,4186,3974,4046,3926,3649,4035,4205,4109,2933,3368,4067,3717,4486,4195,1817,3053,3392,3663,3520,2765,1607,2566,1495,2792,3068,3071,3867,2914,3613,3727,3940,3614,3485,3811,2594,705,3322,3620,3190,2743,3310,3523,3740,3709,3577,2739,2431,3403,3750,2660,3068,2209,1011,754,1317,1162,2302,2423,2999,2485,2294,1951,2236,2368,3272,4098,4521,3425,2376,3598,2177,4097,3214,2493,2311,2298,2935,3376,3292,3163,1301,1977,2432,4339,4270,4075,3456,4023,3243,3624,4509,4579,3761,4151,2832,2947,3784,4375,2802,3830,3831,2169,1529,3422,3922,4169,3005,4154,4318,2689,3129,3777,4773,5062,3487,2732,3389,4322,4363,4990,3194,4066,3423,3333,3956,4916,5382,4569,4118,4911,5298,5847,6312,6192,4378,7836,5892,6153,6093,6230,6871,8362,3372,4996,5558,5102,5698,6133,5459,6235,6041,5936,6772,6436,6457,6460,6857,5169,5585,5918,4862,5409,6398,7460,7132,6370,6691,4367,6565,7290,6624,1027,3214,5633,6196,5026,6233,4220,6304,5572,5740,6169,6421,6296,6883,6359,6273,5728,4717,6572,7030,7429,6118,2843,5115,7424,7384,7639,8294,7129,4359,6073,5260,6770,6734,6536,6591,6043,5743,6855,7338,4127,8120,7641,6998,7001,7055,7494,7736,7498,6598,6664,4972,7421,7363,7665,7702,6978,5099,6825,6211,5905,5823,7458,6891,6779,7442,7335,6879,5463,5687,5531,6227,6660,7403,6241,6207,4840,4672,6569,6290,7264,7446,7499,6969,6031,6830,6786,5713,6591,5870,4459,7410,6966,7592,8173,6861,6904,6685,6597,7105,7216,7580,7261,7175,6824,5464,7013,7273,7534,7286,5786,6299,6544,6883,6784,7347,7605,7148,7865,4549,6530,7006,7375,7765,7582,6053,5255,6917,7040,7697,7713,7350,6140,5810,6034,6864,7112,6203,7504,5976,8227,7525,7767,7870,7804,8009,8714,7333,6869,4073,7591,7720,8167,8395,7907,7436,7538,7733,7393,7415,8555,6889,6778,4639,7572,7328,8156,7965,3510,5478,6392,7691,7570,7282,7109,6639,5875,7534,7461,7509,5424,8090,6824,7058,7466,7693,7359,7444,7852,4459,22,1096,5566,5986,5847,5138,5107,5259,5686,5035,5315,5992,6536,6852,6269,4094,5495,5445,5698,5629,4669,5499,5634,5146,2425,3910,2277,2424,5087,3959,5260,5323,5668,5191,4649,6234,6606,5729,5375,5008,5582,3228,5170,5501,5319,5532,5611,5047,3786,4585,5557,5267,4128,3623,1749,1787,920,1013,441,2114,3095,1341,1796,2729],\"type\":\"histogram\",\"xaxis\":\"x5\",\"yaxis\":\"y5\"},{\"histfunc\":\"sum\",\"name\":\"Workingday\",\"x\":[0,0,1,1,1,1,1,0,0,1,1,1,1,1,0,0,0,1,1,1,1,0,0,1,1,1,1,1,0,0,1,1,1,1,1,0,0,1,1,1,1,1,0,0,1,1,1,1,1,0,0,0,1,1,1,1,0,0,1,1,1,1,1,0,0,1,1,1,1,1,0,0,1,1,1,1,1,0,0,1,1,1,1,1,0,0,1,1,1,1,1,0,0,1,1,1,1,1,0,0,1,1,1,1,0,0,0,1,1,1,1,1,0,0,1,1,1,1,1,0,0,1,1,1,1,1,0,0,1,1,1,1,1,0,0,1,1,1,1,1,0,0,1,1,1,1,1,0,0,0,1,1,1,1,0,0,1,1,1,1,1,0,0,1,1,1,1,1,0,0,1,1,1,1,1,0,0,1,1,1,1,1,0,0,0,1,1,1,1,0,0,1,1,1,1,1,0,0,1,1,1,1,1,0,0,1,1,1,1,1,0,0,1,1,1,1,1,0,0,1,1,1,1,1,0,0,1,1,1,1,1,0,0,1,1,1,1,1,0,0,1,1,1,1,1,0,0,0,1,1,1,1,0,0,1,1,1,1,1,0,0,1,1,1,1,1,0,0,1,1,1,1,1,0,0,1,1,1,1,1,0,0,0,1,1,1,1,0,0,1,1,1,1,1,0,0,1,1,1,1,1,0,0,1,1,1,1,1,0,0,1,1,1,1,0,0,0,1,1,1,1,1,0,0,1,1,1,0,1,0,0,1,1,1,1,1,0,0,1,1,1,1,1,0,0,1,1,1,1,1,0,0,1,1,1,1,1,0,0,0,1,1,1,1,0,0,0,1,1,1,1,0,0,1,1,1,1,1,0,0,0,1,1,1,1,0,0,1,1,1,1,1,0,0,1,1,1,1,1,0,0,1,1,1,1,1,0,0,1,1,1,1,1,0,0,0,1,1,1,1,0,0,1,1,1,1,0,0,1,1,1,1,1,0,0,1,1,1,1,1,0,0,1,1,1,1,1,0,0,1,1,1,1,1,0,0,1,1,1,1,1,0,0,1,1,1,1,1,0,0,0,1,1,1,1,0,0,1,1,1,1,1,0,0,1,1,1,1,1,0,0,1,1,1,1,1,0,0,1,1,1,1,1,0,0,1,1,1,1,1,0,0,0,1,1,1,1,0,0,1,1,1,1,1,0,0,1,1,1,1,1,0,0,1,1,1,1,1,0,0,1,1,1,1,1,0,0,1,1,0,1,1,0,0,1,1,1,1,1,0,0,1,1,1,1,1,0,0,1,1,1,1,1,0,0,1,1,1,1,1,0,0,1,1,1,1,1,0,0,1,1,1,1,1,0,0,1,1,1,1,1,0,0,1,1,1,1,1,0,0,0,1,1,1,1,0,0,1,1,1,1,1,0,0,1,1,1,1,1,0,0,1,1,1,1,1,0,0,1,1,1,1,1,0,0,0,1,1,1,1,0,0,1,1,1,1,1,0,0,1,1,1,1,1,0,0,1,1,1,1,1,0,0,1,1,1,1,1,0,0,0,1,1,1,1,0,0,1,1,1,0,1,0,0,1,1,1,1,1,0,0,1,1,1,1,1,0,0,1,1,1,1,1,0,0,1,1,1,1,1,0,0,1,0,1,1,1,0,0,1],\"y\":[985,801,1349,1562,1600,1606,1510,959,822,1321,1263,1162,1406,1421,1248,1204,1000,683,1650,1927,1543,981,986,1416,1985,506,431,1167,1098,1096,1501,1360,1526,1550,1708,1005,1623,1712,1530,1605,1538,1746,1472,1589,1913,1815,2115,2475,2927,1635,1812,1107,1450,1917,1807,1461,1969,2402,1446,1851,2134,1685,1944,2077,605,1872,2133,1891,623,1977,2132,2417,2046,2056,2192,2744,3239,3117,2471,2077,2703,2121,1865,2210,2496,1693,2028,2425,1536,1685,2227,2252,3249,3115,1795,2808,3141,1471,2455,2895,3348,2034,2162,3267,3126,795,3744,3429,3204,3944,4189,1683,4036,4191,4073,4400,3872,4058,4595,5312,3351,4401,4451,2633,4433,4608,4714,4333,4362,4803,4182,4864,4105,3409,4553,3958,4123,3855,4575,4917,5805,4660,4274,4492,4978,4677,4679,4758,4788,4098,3982,3974,4968,5312,5342,4906,4548,4833,4401,3915,4586,4966,4460,5020,4891,5180,3767,4844,5119,4744,4010,4835,4507,4790,4991,5202,5305,4708,4648,5225,5515,5362,5119,4649,6043,4665,4629,4592,4040,5336,4881,4086,4258,4342,5084,5538,5923,5302,4458,4541,4332,3784,3387,3285,3606,3840,4590,4656,4390,3846,4475,4302,4266,4845,3574,4576,4866,4294,3785,4326,4602,4780,4792,4905,4150,3820,4338,4725,4694,3805,4153,5191,3873,4758,5895,5130,3542,4661,1115,4334,4634,5204,5058,5115,4727,4484,4940,3351,2710,1996,1842,3544,5345,5046,4713,4763,4785,3659,4760,4511,4274,4539,3641,4352,4795,2395,5423,5010,4630,4120,3907,4839,5202,2429,2918,3570,4456,4826,4765,4985,5409,5511,5117,4563,2416,2913,3644,5217,5041,4570,4748,2424,4195,4304,4308,4381,4187,4687,3894,2659,3747,627,3331,3669,4068,4186,3974,4046,3926,3649,4035,4205,4109,2933,3368,4067,3717,4486,4195,1817,3053,3392,3663,3520,2765,1607,2566,1495,2792,3068,3071,3867,2914,3613,3727,3940,3614,3485,3811,2594,705,3322,3620,3190,2743,3310,3523,3740,3709,3577,2739,2431,3403,3750,2660,3068,2209,1011,754,1317,1162,2302,2423,2999,2485,2294,1951,2236,2368,3272,4098,4521,3425,2376,3598,2177,4097,3214,2493,2311,2298,2935,3376,3292,3163,1301,1977,2432,4339,4270,4075,3456,4023,3243,3624,4509,4579,3761,4151,2832,2947,3784,4375,2802,3830,3831,2169,1529,3422,3922,4169,3005,4154,4318,2689,3129,3777,4773,5062,3487,2732,3389,4322,4363,4990,3194,4066,3423,3333,3956,4916,5382,4569,4118,4911,5298,5847,6312,6192,4378,7836,5892,6153,6093,6230,6871,8362,3372,4996,5558,5102,5698,6133,5459,6235,6041,5936,6772,6436,6457,6460,6857,5169,5585,5918,4862,5409,6398,7460,7132,6370,6691,4367,6565,7290,6624,1027,3214,5633,6196,5026,6233,4220,6304,5572,5740,6169,6421,6296,6883,6359,6273,5728,4717,6572,7030,7429,6118,2843,5115,7424,7384,7639,8294,7129,4359,6073,5260,6770,6734,6536,6591,6043,5743,6855,7338,4127,8120,7641,6998,7001,7055,7494,7736,7498,6598,6664,4972,7421,7363,7665,7702,6978,5099,6825,6211,5905,5823,7458,6891,6779,7442,7335,6879,5463,5687,5531,6227,6660,7403,6241,6207,4840,4672,6569,6290,7264,7446,7499,6969,6031,6830,6786,5713,6591,5870,4459,7410,6966,7592,8173,6861,6904,6685,6597,7105,7216,7580,7261,7175,6824,5464,7013,7273,7534,7286,5786,6299,6544,6883,6784,7347,7605,7148,7865,4549,6530,7006,7375,7765,7582,6053,5255,6917,7040,7697,7713,7350,6140,5810,6034,6864,7112,6203,7504,5976,8227,7525,7767,7870,7804,8009,8714,7333,6869,4073,7591,7720,8167,8395,7907,7436,7538,7733,7393,7415,8555,6889,6778,4639,7572,7328,8156,7965,3510,5478,6392,7691,7570,7282,7109,6639,5875,7534,7461,7509,5424,8090,6824,7058,7466,7693,7359,7444,7852,4459,22,1096,5566,5986,5847,5138,5107,5259,5686,5035,5315,5992,6536,6852,6269,4094,5495,5445,5698,5629,4669,5499,5634,5146,2425,3910,2277,2424,5087,3959,5260,5323,5668,5191,4649,6234,6606,5729,5375,5008,5582,3228,5170,5501,5319,5532,5611,5047,3786,4585,5557,5267,4128,3623,1749,1787,920,1013,441,2114,3095,1341,1796,2729],\"type\":\"histogram\",\"xaxis\":\"x6\",\"yaxis\":\"y6\"},{\"histfunc\":\"sum\",\"name\":\"Weathersit\",\"x\":[2,2,1,1,1,1,2,2,1,1,2,1,1,1,2,1,2,2,2,2,1,1,1,1,2,3,1,2,1,1,2,2,2,1,2,2,1,1,1,2,1,1,1,1,1,1,1,1,1,1,1,2,1,1,2,2,1,1,2,1,1,1,2,2,2,1,1,2,3,2,1,1,1,2,2,1,1,1,1,2,1,2,2,1,1,2,1,1,2,3,2,2,1,1,2,1,1,2,2,2,2,2,2,1,1,3,1,1,2,1,1,2,2,2,1,1,2,2,1,1,2,2,2,2,1,1,1,1,1,1,1,1,2,2,2,1,2,2,2,1,1,1,2,2,1,1,1,1,1,1,1,2,1,1,1,2,1,1,1,2,1,1,1,1,1,1,2,1,1,2,2,2,1,2,1,1,1,2,1,1,1,1,1,2,2,1,1,1,2,1,1,1,1,1,1,1,1,1,1,1,1,2,1,1,1,1,1,1,1,1,1,1,1,1,2,2,1,2,1,1,1,1,1,1,2,2,1,1,1,1,2,1,1,1,1,1,2,1,2,1,1,1,1,1,2,1,1,2,3,3,3,2,1,1,1,1,1,2,2,2,1,2,2,2,2,2,2,2,2,2,2,1,1,2,2,2,1,1,1,1,1,1,1,2,3,2,2,1,1,1,2,3,1,1,1,1,1,1,2,2,2,3,1,1,1,1,1,2,1,1,1,1,1,2,1,1,1,1,2,3,2,1,1,2,3,3,2,1,1,1,1,1,2,1,1,1,1,1,2,3,3,1,1,1,1,1,1,2,2,2,2,1,1,2,2,2,1,1,1,1,2,1,1,1,1,1,1,1,2,1,1,1,1,2,1,2,2,1,1,1,1,2,1,1,2,2,2,2,1,1,2,2,1,1,1,1,1,2,1,2,2,1,1,2,1,2,3,1,1,2,1,2,1,1,2,1,1,1,1,2,1,1,1,1,1,2,2,1,1,1,1,1,2,1,1,1,1,1,1,2,2,2,1,1,2,1,2,2,2,1,1,1,1,2,2,2,1,1,1,1,1,1,1,1,1,1,1,1,1,1,1,1,2,1,1,1,3,2,1,1,2,1,2,1,2,2,1,2,1,2,2,2,2,2,1,1,1,1,2,2,1,1,1,1,1,2,2,2,1,1,1,1,1,1,2,1,2,1,1,1,2,1,1,1,1,1,2,2,1,1,1,1,1,2,1,1,1,1,1,1,1,1,1,1,1,1,1,1,1,1,1,1,1,1,2,2,1,1,2,2,1,1,1,1,1,2,3,2,1,1,1,1,1,1,1,1,1,1,1,2,1,1,2,2,2,1,2,2,1,1,1,1,1,1,1,2,2,1,1,1,2,2,2,1,1,1,1,1,2,2,1,1,1,2,1,2,1,1,1,1,1,1,1,1,2,2,1,1,1,1,1,1,1,1,2,2,1,1,2,3,2,2,1,1,2,2,2,1,1,1,1,1,2,1,1,2,2,1,1,1,1,1,2,2,2,2,3,2,2,2,1,2,1,1,1,2,1,1,1,1,1,2,1,2,1,1,1,2,2,1,1,1,1,1,1,2,1,1,1,2,2,1,1,1,1,2,2,2,2,2,2,1,1,1,2,2,1,1,2,2,1,1,2,2,3,2,2,2,1,2],\"y\":[985,801,1349,1562,1600,1606,1510,959,822,1321,1263,1162,1406,1421,1248,1204,1000,683,1650,1927,1543,981,986,1416,1985,506,431,1167,1098,1096,1501,1360,1526,1550,1708,1005,1623,1712,1530,1605,1538,1746,1472,1589,1913,1815,2115,2475,2927,1635,1812,1107,1450,1917,1807,1461,1969,2402,1446,1851,2134,1685,1944,2077,605,1872,2133,1891,623,1977,2132,2417,2046,2056,2192,2744,3239,3117,2471,2077,2703,2121,1865,2210,2496,1693,2028,2425,1536,1685,2227,2252,3249,3115,1795,2808,3141,1471,2455,2895,3348,2034,2162,3267,3126,795,3744,3429,3204,3944,4189,1683,4036,4191,4073,4400,3872,4058,4595,5312,3351,4401,4451,2633,4433,4608,4714,4333,4362,4803,4182,4864,4105,3409,4553,3958,4123,3855,4575,4917,5805,4660,4274,4492,4978,4677,4679,4758,4788,4098,3982,3974,4968,5312,5342,4906,4548,4833,4401,3915,4586,4966,4460,5020,4891,5180,3767,4844,5119,4744,4010,4835,4507,4790,4991,5202,5305,4708,4648,5225,5515,5362,5119,4649,6043,4665,4629,4592,4040,5336,4881,4086,4258,4342,5084,5538,5923,5302,4458,4541,4332,3784,3387,3285,3606,3840,4590,4656,4390,3846,4475,4302,4266,4845,3574,4576,4866,4294,3785,4326,4602,4780,4792,4905,4150,3820,4338,4725,4694,3805,4153,5191,3873,4758,5895,5130,3542,4661,1115,4334,4634,5204,5058,5115,4727,4484,4940,3351,2710,1996,1842,3544,5345,5046,4713,4763,4785,3659,4760,4511,4274,4539,3641,4352,4795,2395,5423,5010,4630,4120,3907,4839,5202,2429,2918,3570,4456,4826,4765,4985,5409,5511,5117,4563,2416,2913,3644,5217,5041,4570,4748,2424,4195,4304,4308,4381,4187,4687,3894,2659,3747,627,3331,3669,4068,4186,3974,4046,3926,3649,4035,4205,4109,2933,3368,4067,3717,4486,4195,1817,3053,3392,3663,3520,2765,1607,2566,1495,2792,3068,3071,3867,2914,3613,3727,3940,3614,3485,3811,2594,705,3322,3620,3190,2743,3310,3523,3740,3709,3577,2739,2431,3403,3750,2660,3068,2209,1011,754,1317,1162,2302,2423,2999,2485,2294,1951,2236,2368,3272,4098,4521,3425,2376,3598,2177,4097,3214,2493,2311,2298,2935,3376,3292,3163,1301,1977,2432,4339,4270,4075,3456,4023,3243,3624,4509,4579,3761,4151,2832,2947,3784,4375,2802,3830,3831,2169,1529,3422,3922,4169,3005,4154,4318,2689,3129,3777,4773,5062,3487,2732,3389,4322,4363,4990,3194,4066,3423,3333,3956,4916,5382,4569,4118,4911,5298,5847,6312,6192,4378,7836,5892,6153,6093,6230,6871,8362,3372,4996,5558,5102,5698,6133,5459,6235,6041,5936,6772,6436,6457,6460,6857,5169,5585,5918,4862,5409,6398,7460,7132,6370,6691,4367,6565,7290,6624,1027,3214,5633,6196,5026,6233,4220,6304,5572,5740,6169,6421,6296,6883,6359,6273,5728,4717,6572,7030,7429,6118,2843,5115,7424,7384,7639,8294,7129,4359,6073,5260,6770,6734,6536,6591,6043,5743,6855,7338,4127,8120,7641,6998,7001,7055,7494,7736,7498,6598,6664,4972,7421,7363,7665,7702,6978,5099,6825,6211,5905,5823,7458,6891,6779,7442,7335,6879,5463,5687,5531,6227,6660,7403,6241,6207,4840,4672,6569,6290,7264,7446,7499,6969,6031,6830,6786,5713,6591,5870,4459,7410,6966,7592,8173,6861,6904,6685,6597,7105,7216,7580,7261,7175,6824,5464,7013,7273,7534,7286,5786,6299,6544,6883,6784,7347,7605,7148,7865,4549,6530,7006,7375,7765,7582,6053,5255,6917,7040,7697,7713,7350,6140,5810,6034,6864,7112,6203,7504,5976,8227,7525,7767,7870,7804,8009,8714,7333,6869,4073,7591,7720,8167,8395,7907,7436,7538,7733,7393,7415,8555,6889,6778,4639,7572,7328,8156,7965,3510,5478,6392,7691,7570,7282,7109,6639,5875,7534,7461,7509,5424,8090,6824,7058,7466,7693,7359,7444,7852,4459,22,1096,5566,5986,5847,5138,5107,5259,5686,5035,5315,5992,6536,6852,6269,4094,5495,5445,5698,5629,4669,5499,5634,5146,2425,3910,2277,2424,5087,3959,5260,5323,5668,5191,4649,6234,6606,5729,5375,5008,5582,3228,5170,5501,5319,5532,5611,5047,3786,4585,5557,5267,4128,3623,1749,1787,920,1013,441,2114,3095,1341,1796,2729],\"type\":\"histogram\",\"xaxis\":\"x7\",\"yaxis\":\"y7\"}],                        {\"template\":{\"data\":{\"bar\":[{\"error_x\":{\"color\":\"#2a3f5f\"},\"error_y\":{\"color\":\"#2a3f5f\"},\"marker\":{\"line\":{\"color\":\"#E5ECF6\",\"width\":0.5},\"pattern\":{\"fillmode\":\"overlay\",\"size\":10,\"solidity\":0.2}},\"type\":\"bar\"}],\"barpolar\":[{\"marker\":{\"line\":{\"color\":\"#E5ECF6\",\"width\":0.5},\"pattern\":{\"fillmode\":\"overlay\",\"size\":10,\"solidity\":0.2}},\"type\":\"barpolar\"}],\"carpet\":[{\"aaxis\":{\"endlinecolor\":\"#2a3f5f\",\"gridcolor\":\"white\",\"linecolor\":\"white\",\"minorgridcolor\":\"white\",\"startlinecolor\":\"#2a3f5f\"},\"baxis\":{\"endlinecolor\":\"#2a3f5f\",\"gridcolor\":\"white\",\"linecolor\":\"white\",\"minorgridcolor\":\"white\",\"startlinecolor\":\"#2a3f5f\"},\"type\":\"carpet\"}],\"choropleth\":[{\"colorbar\":{\"outlinewidth\":0,\"ticks\":\"\"},\"type\":\"choropleth\"}],\"contour\":[{\"colorbar\":{\"outlinewidth\":0,\"ticks\":\"\"},\"colorscale\":[[0.0,\"#0d0887\"],[0.1111111111111111,\"#46039f\"],[0.2222222222222222,\"#7201a8\"],[0.3333333333333333,\"#9c179e\"],[0.4444444444444444,\"#bd3786\"],[0.5555555555555556,\"#d8576b\"],[0.6666666666666666,\"#ed7953\"],[0.7777777777777778,\"#fb9f3a\"],[0.8888888888888888,\"#fdca26\"],[1.0,\"#f0f921\"]],\"type\":\"contour\"}],\"contourcarpet\":[{\"colorbar\":{\"outlinewidth\":0,\"ticks\":\"\"},\"type\":\"contourcarpet\"}],\"heatmap\":[{\"colorbar\":{\"outlinewidth\":0,\"ticks\":\"\"},\"colorscale\":[[0.0,\"#0d0887\"],[0.1111111111111111,\"#46039f\"],[0.2222222222222222,\"#7201a8\"],[0.3333333333333333,\"#9c179e\"],[0.4444444444444444,\"#bd3786\"],[0.5555555555555556,\"#d8576b\"],[0.6666666666666666,\"#ed7953\"],[0.7777777777777778,\"#fb9f3a\"],[0.8888888888888888,\"#fdca26\"],[1.0,\"#f0f921\"]],\"type\":\"heatmap\"}],\"heatmapgl\":[{\"colorbar\":{\"outlinewidth\":0,\"ticks\":\"\"},\"colorscale\":[[0.0,\"#0d0887\"],[0.1111111111111111,\"#46039f\"],[0.2222222222222222,\"#7201a8\"],[0.3333333333333333,\"#9c179e\"],[0.4444444444444444,\"#bd3786\"],[0.5555555555555556,\"#d8576b\"],[0.6666666666666666,\"#ed7953\"],[0.7777777777777778,\"#fb9f3a\"],[0.8888888888888888,\"#fdca26\"],[1.0,\"#f0f921\"]],\"type\":\"heatmapgl\"}],\"histogram\":[{\"marker\":{\"pattern\":{\"fillmode\":\"overlay\",\"size\":10,\"solidity\":0.2}},\"type\":\"histogram\"}],\"histogram2d\":[{\"colorbar\":{\"outlinewidth\":0,\"ticks\":\"\"},\"colorscale\":[[0.0,\"#0d0887\"],[0.1111111111111111,\"#46039f\"],[0.2222222222222222,\"#7201a8\"],[0.3333333333333333,\"#9c179e\"],[0.4444444444444444,\"#bd3786\"],[0.5555555555555556,\"#d8576b\"],[0.6666666666666666,\"#ed7953\"],[0.7777777777777778,\"#fb9f3a\"],[0.8888888888888888,\"#fdca26\"],[1.0,\"#f0f921\"]],\"type\":\"histogram2d\"}],\"histogram2dcontour\":[{\"colorbar\":{\"outlinewidth\":0,\"ticks\":\"\"},\"colorscale\":[[0.0,\"#0d0887\"],[0.1111111111111111,\"#46039f\"],[0.2222222222222222,\"#7201a8\"],[0.3333333333333333,\"#9c179e\"],[0.4444444444444444,\"#bd3786\"],[0.5555555555555556,\"#d8576b\"],[0.6666666666666666,\"#ed7953\"],[0.7777777777777778,\"#fb9f3a\"],[0.8888888888888888,\"#fdca26\"],[1.0,\"#f0f921\"]],\"type\":\"histogram2dcontour\"}],\"mesh3d\":[{\"colorbar\":{\"outlinewidth\":0,\"ticks\":\"\"},\"type\":\"mesh3d\"}],\"parcoords\":[{\"line\":{\"colorbar\":{\"outlinewidth\":0,\"ticks\":\"\"}},\"type\":\"parcoords\"}],\"pie\":[{\"automargin\":true,\"type\":\"pie\"}],\"scatter\":[{\"marker\":{\"colorbar\":{\"outlinewidth\":0,\"ticks\":\"\"}},\"type\":\"scatter\"}],\"scatter3d\":[{\"line\":{\"colorbar\":{\"outlinewidth\":0,\"ticks\":\"\"}},\"marker\":{\"colorbar\":{\"outlinewidth\":0,\"ticks\":\"\"}},\"type\":\"scatter3d\"}],\"scattercarpet\":[{\"marker\":{\"colorbar\":{\"outlinewidth\":0,\"ticks\":\"\"}},\"type\":\"scattercarpet\"}],\"scattergeo\":[{\"marker\":{\"colorbar\":{\"outlinewidth\":0,\"ticks\":\"\"}},\"type\":\"scattergeo\"}],\"scattergl\":[{\"marker\":{\"colorbar\":{\"outlinewidth\":0,\"ticks\":\"\"}},\"type\":\"scattergl\"}],\"scattermapbox\":[{\"marker\":{\"colorbar\":{\"outlinewidth\":0,\"ticks\":\"\"}},\"type\":\"scattermapbox\"}],\"scatterpolar\":[{\"marker\":{\"colorbar\":{\"outlinewidth\":0,\"ticks\":\"\"}},\"type\":\"scatterpolar\"}],\"scatterpolargl\":[{\"marker\":{\"colorbar\":{\"outlinewidth\":0,\"ticks\":\"\"}},\"type\":\"scatterpolargl\"}],\"scatterternary\":[{\"marker\":{\"colorbar\":{\"outlinewidth\":0,\"ticks\":\"\"}},\"type\":\"scatterternary\"}],\"surface\":[{\"colorbar\":{\"outlinewidth\":0,\"ticks\":\"\"},\"colorscale\":[[0.0,\"#0d0887\"],[0.1111111111111111,\"#46039f\"],[0.2222222222222222,\"#7201a8\"],[0.3333333333333333,\"#9c179e\"],[0.4444444444444444,\"#bd3786\"],[0.5555555555555556,\"#d8576b\"],[0.6666666666666666,\"#ed7953\"],[0.7777777777777778,\"#fb9f3a\"],[0.8888888888888888,\"#fdca26\"],[1.0,\"#f0f921\"]],\"type\":\"surface\"}],\"table\":[{\"cells\":{\"fill\":{\"color\":\"#EBF0F8\"},\"line\":{\"color\":\"white\"}},\"header\":{\"fill\":{\"color\":\"#C8D4E3\"},\"line\":{\"color\":\"white\"}},\"type\":\"table\"}]},\"layout\":{\"annotationdefaults\":{\"arrowcolor\":\"#2a3f5f\",\"arrowhead\":0,\"arrowwidth\":1},\"autotypenumbers\":\"strict\",\"coloraxis\":{\"colorbar\":{\"outlinewidth\":0,\"ticks\":\"\"}},\"colorscale\":{\"diverging\":[[0,\"#8e0152\"],[0.1,\"#c51b7d\"],[0.2,\"#de77ae\"],[0.3,\"#f1b6da\"],[0.4,\"#fde0ef\"],[0.5,\"#f7f7f7\"],[0.6,\"#e6f5d0\"],[0.7,\"#b8e186\"],[0.8,\"#7fbc41\"],[0.9,\"#4d9221\"],[1,\"#276419\"]],\"sequential\":[[0.0,\"#0d0887\"],[0.1111111111111111,\"#46039f\"],[0.2222222222222222,\"#7201a8\"],[0.3333333333333333,\"#9c179e\"],[0.4444444444444444,\"#bd3786\"],[0.5555555555555556,\"#d8576b\"],[0.6666666666666666,\"#ed7953\"],[0.7777777777777778,\"#fb9f3a\"],[0.8888888888888888,\"#fdca26\"],[1.0,\"#f0f921\"]],\"sequentialminus\":[[0.0,\"#0d0887\"],[0.1111111111111111,\"#46039f\"],[0.2222222222222222,\"#7201a8\"],[0.3333333333333333,\"#9c179e\"],[0.4444444444444444,\"#bd3786\"],[0.5555555555555556,\"#d8576b\"],[0.6666666666666666,\"#ed7953\"],[0.7777777777777778,\"#fb9f3a\"],[0.8888888888888888,\"#fdca26\"],[1.0,\"#f0f921\"]]},\"colorway\":[\"#636efa\",\"#EF553B\",\"#00cc96\",\"#ab63fa\",\"#FFA15A\",\"#19d3f3\",\"#FF6692\",\"#B6E880\",\"#FF97FF\",\"#FECB52\"],\"font\":{\"color\":\"#2a3f5f\"},\"geo\":{\"bgcolor\":\"white\",\"lakecolor\":\"white\",\"landcolor\":\"#E5ECF6\",\"showlakes\":true,\"showland\":true,\"subunitcolor\":\"white\"},\"hoverlabel\":{\"align\":\"left\"},\"hovermode\":\"closest\",\"mapbox\":{\"style\":\"light\"},\"paper_bgcolor\":\"white\",\"plot_bgcolor\":\"#E5ECF6\",\"polar\":{\"angularaxis\":{\"gridcolor\":\"white\",\"linecolor\":\"white\",\"ticks\":\"\"},\"bgcolor\":\"#E5ECF6\",\"radialaxis\":{\"gridcolor\":\"white\",\"linecolor\":\"white\",\"ticks\":\"\"}},\"scene\":{\"xaxis\":{\"backgroundcolor\":\"#E5ECF6\",\"gridcolor\":\"white\",\"gridwidth\":2,\"linecolor\":\"white\",\"showbackground\":true,\"ticks\":\"\",\"zerolinecolor\":\"white\"},\"yaxis\":{\"backgroundcolor\":\"#E5ECF6\",\"gridcolor\":\"white\",\"gridwidth\":2,\"linecolor\":\"white\",\"showbackground\":true,\"ticks\":\"\",\"zerolinecolor\":\"white\"},\"zaxis\":{\"backgroundcolor\":\"#E5ECF6\",\"gridcolor\":\"white\",\"gridwidth\":2,\"linecolor\":\"white\",\"showbackground\":true,\"ticks\":\"\",\"zerolinecolor\":\"white\"}},\"shapedefaults\":{\"line\":{\"color\":\"#2a3f5f\"}},\"ternary\":{\"aaxis\":{\"gridcolor\":\"white\",\"linecolor\":\"white\",\"ticks\":\"\"},\"baxis\":{\"gridcolor\":\"white\",\"linecolor\":\"white\",\"ticks\":\"\"},\"bgcolor\":\"#E5ECF6\",\"caxis\":{\"gridcolor\":\"white\",\"linecolor\":\"white\",\"ticks\":\"\"}},\"title\":{\"x\":0.05},\"xaxis\":{\"automargin\":true,\"gridcolor\":\"white\",\"linecolor\":\"white\",\"ticks\":\"\",\"title\":{\"standoff\":15},\"zerolinecolor\":\"white\",\"zerolinewidth\":2},\"yaxis\":{\"automargin\":true,\"gridcolor\":\"white\",\"linecolor\":\"white\",\"ticks\":\"\",\"title\":{\"standoff\":15},\"zerolinecolor\":\"white\",\"zerolinewidth\":2}}},\"xaxis\":{\"anchor\":\"y\",\"domain\":[0.0,0.2888888888888889],\"title\":{\"text\":\"Season\"}},\"yaxis\":{\"anchor\":\"x\",\"domain\":[0.7333333333333333,1.0],\"title\":{\"text\":\"Total Bikes Rented\"}},\"xaxis2\":{\"anchor\":\"y2\",\"domain\":[0.35555555555555557,0.6444444444444445],\"title\":{\"text\":\"Year\"}},\"yaxis2\":{\"anchor\":\"x2\",\"domain\":[0.7333333333333333,1.0],\"matches\":\"y\",\"showticklabels\":false},\"xaxis3\":{\"anchor\":\"y3\",\"domain\":[0.7111111111111111,1.0],\"title\":{\"text\":\"Month\"}},\"yaxis3\":{\"anchor\":\"x3\",\"domain\":[0.7333333333333333,1.0],\"matches\":\"y\",\"showticklabels\":false},\"xaxis4\":{\"anchor\":\"y4\",\"domain\":[0.0,0.2888888888888889],\"title\":{\"text\":\"Holiday\"}},\"yaxis4\":{\"anchor\":\"x4\",\"domain\":[0.36666666666666664,0.6333333333333333]},\"xaxis5\":{\"anchor\":\"y5\",\"domain\":[0.35555555555555557,0.6444444444444445],\"title\":{\"text\":\"Weekday\"}},\"yaxis5\":{\"anchor\":\"x5\",\"domain\":[0.36666666666666664,0.6333333333333333],\"matches\":\"y4\",\"showticklabels\":false},\"xaxis6\":{\"anchor\":\"y6\",\"domain\":[0.7111111111111111,1.0],\"title\":{\"text\":\"Workingday\"}},\"yaxis6\":{\"anchor\":\"x6\",\"domain\":[0.36666666666666664,0.6333333333333333],\"matches\":\"y4\",\"showticklabels\":false},\"xaxis7\":{\"anchor\":\"y7\",\"domain\":[0.0,0.2888888888888889],\"title\":{\"text\":\"Weathersit\"}},\"yaxis7\":{\"anchor\":\"x7\",\"domain\":[0.0,0.26666666666666666]},\"xaxis8\":{\"anchor\":\"y8\",\"domain\":[0.35555555555555557,0.6444444444444445]},\"yaxis8\":{\"anchor\":\"x8\",\"domain\":[0.0,0.26666666666666666],\"matches\":\"y7\",\"showticklabels\":false},\"xaxis9\":{\"anchor\":\"y9\",\"domain\":[0.7111111111111111,1.0]},\"yaxis9\":{\"anchor\":\"x9\",\"domain\":[0.0,0.26666666666666666],\"matches\":\"y7\",\"showticklabels\":false},\"width\":1200,\"height\":1200,\"barmode\":\"group\",\"bargap\":0.15},                        {\"responsive\": true}                    ).then(function(){\n",
              "                            \n",
              "var gd = document.getElementById('f5728411-9f0d-431c-9403-ac52a204813b');\n",
              "var x = new MutationObserver(function (mutations, observer) {{\n",
              "        var display = window.getComputedStyle(gd).display;\n",
              "        if (!display || display === 'none') {{\n",
              "            console.log([gd, 'removed!']);\n",
              "            Plotly.purge(gd);\n",
              "            observer.disconnect();\n",
              "        }}\n",
              "}});\n",
              "\n",
              "// Listen for the removal of the full notebook cells\n",
              "var notebookContainer = gd.closest('#notebook-container');\n",
              "if (notebookContainer) {{\n",
              "    x.observe(notebookContainer, {childList: true});\n",
              "}}\n",
              "\n",
              "// Listen for the clearing of the current output cell\n",
              "var outputEl = gd.closest('.output');\n",
              "if (outputEl) {{\n",
              "    x.observe(outputEl, {childList: true});\n",
              "}}\n",
              "\n",
              "                        })                };                            </script>        </div>\n",
              "</body>\n",
              "</html>"
            ]
          },
          "metadata": {}
        }
      ]
    },
    {
      "cell_type": "markdown",
      "source": [
        "#### Observations\n",
        "\n",
        "*   Season3 has highest bike share rides followed by season2.\n",
        "*   Seems bikes rentals increases year by year\n",
        "*   May to September months have higher bike rentals compared to other months\n",
        "*   Seems non-holidays have more bike rentals compared to holdiays.\n",
        "*   There seems to be no significance difference on weekdays.\n",
        "*   Working days have higher bike rentals.\n",
        "*   Clear weather (weathersit:1) have higher bike rentals"
      ],
      "metadata": {
        "id": "pJJWnvyn83Oj"
      }
    },
    {
      "cell_type": "markdown",
      "source": [
        "## Step 3: Data Preparation"
      ],
      "metadata": {
        "id": "qPKJ8mH7_S-H"
      }
    },
    {
      "cell_type": "markdown",
      "source": [
        "#### Data Cleaning\n",
        "\n",
        "*   instant is unique id and so we can delete.\n",
        "*   dteday as well can be deleted as we already have month and year in separate columns\n",
        "*   As we are dealing with total bike shares, we can drop casual and registered columns as well."
      ],
      "metadata": {
        "id": "0nD0T00Gh4Wa"
      }
    },
    {
      "cell_type": "code",
      "source": [
        "bike_df.drop(['instant','dteday','casual','registered'],inplace=True,axis=1)\n",
        "bike_df.describe()"
      ],
      "metadata": {
        "colab": {
          "base_uri": "https://localhost:8080/",
          "height": 300
        },
        "id": "l2vNYJoCfXL4",
        "outputId": "93e4c1d0-d711-41f5-b621-9cf2bfe972c9"
      },
      "execution_count": 262,
      "outputs": [
        {
          "output_type": "execute_result",
          "data": {
            "text/plain": [
              "           season          yr        mnth     holiday     weekday  workingday  \\\n",
              "count  730.000000  730.000000  730.000000  730.000000  730.000000  730.000000   \n",
              "mean     2.498630    0.500000    6.526027    0.028767    2.997260    0.683562   \n",
              "std      1.110184    0.500343    3.450215    0.167266    2.006161    0.465405   \n",
              "min      1.000000    0.000000    1.000000    0.000000    0.000000    0.000000   \n",
              "25%      2.000000    0.000000    4.000000    0.000000    1.000000    0.000000   \n",
              "50%      3.000000    0.500000    7.000000    0.000000    3.000000    1.000000   \n",
              "75%      3.000000    1.000000   10.000000    0.000000    5.000000    1.000000   \n",
              "max      4.000000    1.000000   12.000000    1.000000    6.000000    1.000000   \n",
              "\n",
              "       weathersit        temp       atemp         hum   windspeed          cnt  \n",
              "count  730.000000  730.000000  730.000000  730.000000  730.000000   730.000000  \n",
              "mean     1.394521   20.319259   23.726322   62.765175   12.763620  4508.006849  \n",
              "std      0.544807    7.506729    8.150308   14.237589    5.195841  1936.011647  \n",
              "min      1.000000    2.424346    3.953480    0.000000    1.500244    22.000000  \n",
              "25%      1.000000   13.811885   16.889713   52.000000    9.041650  3169.750000  \n",
              "50%      1.000000   20.465826   24.368225   62.625000   12.125325  4548.500000  \n",
              "75%      2.000000   26.880615   30.445775   72.989575   15.625589  5966.000000  \n",
              "max      3.000000   35.328347   42.044800   97.250000   34.000021  8714.000000  "
            ],
            "text/html": [
              "\n",
              "  <div id=\"df-8623d459-6e0d-4eb5-bcd2-1c5b2ebe2735\">\n",
              "    <div class=\"colab-df-container\">\n",
              "      <div>\n",
              "<style scoped>\n",
              "    .dataframe tbody tr th:only-of-type {\n",
              "        vertical-align: middle;\n",
              "    }\n",
              "\n",
              "    .dataframe tbody tr th {\n",
              "        vertical-align: top;\n",
              "    }\n",
              "\n",
              "    .dataframe thead th {\n",
              "        text-align: right;\n",
              "    }\n",
              "</style>\n",
              "<table border=\"1\" class=\"dataframe\">\n",
              "  <thead>\n",
              "    <tr style=\"text-align: right;\">\n",
              "      <th></th>\n",
              "      <th>season</th>\n",
              "      <th>yr</th>\n",
              "      <th>mnth</th>\n",
              "      <th>holiday</th>\n",
              "      <th>weekday</th>\n",
              "      <th>workingday</th>\n",
              "      <th>weathersit</th>\n",
              "      <th>temp</th>\n",
              "      <th>atemp</th>\n",
              "      <th>hum</th>\n",
              "      <th>windspeed</th>\n",
              "      <th>cnt</th>\n",
              "    </tr>\n",
              "  </thead>\n",
              "  <tbody>\n",
              "    <tr>\n",
              "      <th>count</th>\n",
              "      <td>730.000000</td>\n",
              "      <td>730.000000</td>\n",
              "      <td>730.000000</td>\n",
              "      <td>730.000000</td>\n",
              "      <td>730.000000</td>\n",
              "      <td>730.000000</td>\n",
              "      <td>730.000000</td>\n",
              "      <td>730.000000</td>\n",
              "      <td>730.000000</td>\n",
              "      <td>730.000000</td>\n",
              "      <td>730.000000</td>\n",
              "      <td>730.000000</td>\n",
              "    </tr>\n",
              "    <tr>\n",
              "      <th>mean</th>\n",
              "      <td>2.498630</td>\n",
              "      <td>0.500000</td>\n",
              "      <td>6.526027</td>\n",
              "      <td>0.028767</td>\n",
              "      <td>2.997260</td>\n",
              "      <td>0.683562</td>\n",
              "      <td>1.394521</td>\n",
              "      <td>20.319259</td>\n",
              "      <td>23.726322</td>\n",
              "      <td>62.765175</td>\n",
              "      <td>12.763620</td>\n",
              "      <td>4508.006849</td>\n",
              "    </tr>\n",
              "    <tr>\n",
              "      <th>std</th>\n",
              "      <td>1.110184</td>\n",
              "      <td>0.500343</td>\n",
              "      <td>3.450215</td>\n",
              "      <td>0.167266</td>\n",
              "      <td>2.006161</td>\n",
              "      <td>0.465405</td>\n",
              "      <td>0.544807</td>\n",
              "      <td>7.506729</td>\n",
              "      <td>8.150308</td>\n",
              "      <td>14.237589</td>\n",
              "      <td>5.195841</td>\n",
              "      <td>1936.011647</td>\n",
              "    </tr>\n",
              "    <tr>\n",
              "      <th>min</th>\n",
              "      <td>1.000000</td>\n",
              "      <td>0.000000</td>\n",
              "      <td>1.000000</td>\n",
              "      <td>0.000000</td>\n",
              "      <td>0.000000</td>\n",
              "      <td>0.000000</td>\n",
              "      <td>1.000000</td>\n",
              "      <td>2.424346</td>\n",
              "      <td>3.953480</td>\n",
              "      <td>0.000000</td>\n",
              "      <td>1.500244</td>\n",
              "      <td>22.000000</td>\n",
              "    </tr>\n",
              "    <tr>\n",
              "      <th>25%</th>\n",
              "      <td>2.000000</td>\n",
              "      <td>0.000000</td>\n",
              "      <td>4.000000</td>\n",
              "      <td>0.000000</td>\n",
              "      <td>1.000000</td>\n",
              "      <td>0.000000</td>\n",
              "      <td>1.000000</td>\n",
              "      <td>13.811885</td>\n",
              "      <td>16.889713</td>\n",
              "      <td>52.000000</td>\n",
              "      <td>9.041650</td>\n",
              "      <td>3169.750000</td>\n",
              "    </tr>\n",
              "    <tr>\n",
              "      <th>50%</th>\n",
              "      <td>3.000000</td>\n",
              "      <td>0.500000</td>\n",
              "      <td>7.000000</td>\n",
              "      <td>0.000000</td>\n",
              "      <td>3.000000</td>\n",
              "      <td>1.000000</td>\n",
              "      <td>1.000000</td>\n",
              "      <td>20.465826</td>\n",
              "      <td>24.368225</td>\n",
              "      <td>62.625000</td>\n",
              "      <td>12.125325</td>\n",
              "      <td>4548.500000</td>\n",
              "    </tr>\n",
              "    <tr>\n",
              "      <th>75%</th>\n",
              "      <td>3.000000</td>\n",
              "      <td>1.000000</td>\n",
              "      <td>10.000000</td>\n",
              "      <td>0.000000</td>\n",
              "      <td>5.000000</td>\n",
              "      <td>1.000000</td>\n",
              "      <td>2.000000</td>\n",
              "      <td>26.880615</td>\n",
              "      <td>30.445775</td>\n",
              "      <td>72.989575</td>\n",
              "      <td>15.625589</td>\n",
              "      <td>5966.000000</td>\n",
              "    </tr>\n",
              "    <tr>\n",
              "      <th>max</th>\n",
              "      <td>4.000000</td>\n",
              "      <td>1.000000</td>\n",
              "      <td>12.000000</td>\n",
              "      <td>1.000000</td>\n",
              "      <td>6.000000</td>\n",
              "      <td>1.000000</td>\n",
              "      <td>3.000000</td>\n",
              "      <td>35.328347</td>\n",
              "      <td>42.044800</td>\n",
              "      <td>97.250000</td>\n",
              "      <td>34.000021</td>\n",
              "      <td>8714.000000</td>\n",
              "    </tr>\n",
              "  </tbody>\n",
              "</table>\n",
              "</div>\n",
              "      <button class=\"colab-df-convert\" onclick=\"convertToInteractive('df-8623d459-6e0d-4eb5-bcd2-1c5b2ebe2735')\"\n",
              "              title=\"Convert this dataframe to an interactive table.\"\n",
              "              style=\"display:none;\">\n",
              "        \n",
              "  <svg xmlns=\"http://www.w3.org/2000/svg\" height=\"24px\"viewBox=\"0 0 24 24\"\n",
              "       width=\"24px\">\n",
              "    <path d=\"M0 0h24v24H0V0z\" fill=\"none\"/>\n",
              "    <path d=\"M18.56 5.44l.94 2.06.94-2.06 2.06-.94-2.06-.94-.94-2.06-.94 2.06-2.06.94zm-11 1L8.5 8.5l.94-2.06 2.06-.94-2.06-.94L8.5 2.5l-.94 2.06-2.06.94zm10 10l.94 2.06.94-2.06 2.06-.94-2.06-.94-.94-2.06-.94 2.06-2.06.94z\"/><path d=\"M17.41 7.96l-1.37-1.37c-.4-.4-.92-.59-1.43-.59-.52 0-1.04.2-1.43.59L10.3 9.45l-7.72 7.72c-.78.78-.78 2.05 0 2.83L4 21.41c.39.39.9.59 1.41.59.51 0 1.02-.2 1.41-.59l7.78-7.78 2.81-2.81c.8-.78.8-2.07 0-2.86zM5.41 20L4 18.59l7.72-7.72 1.47 1.35L5.41 20z\"/>\n",
              "  </svg>\n",
              "      </button>\n",
              "      \n",
              "  <style>\n",
              "    .colab-df-container {\n",
              "      display:flex;\n",
              "      flex-wrap:wrap;\n",
              "      gap: 12px;\n",
              "    }\n",
              "\n",
              "    .colab-df-convert {\n",
              "      background-color: #E8F0FE;\n",
              "      border: none;\n",
              "      border-radius: 50%;\n",
              "      cursor: pointer;\n",
              "      display: none;\n",
              "      fill: #1967D2;\n",
              "      height: 32px;\n",
              "      padding: 0 0 0 0;\n",
              "      width: 32px;\n",
              "    }\n",
              "\n",
              "    .colab-df-convert:hover {\n",
              "      background-color: #E2EBFA;\n",
              "      box-shadow: 0px 1px 2px rgba(60, 64, 67, 0.3), 0px 1px 3px 1px rgba(60, 64, 67, 0.15);\n",
              "      fill: #174EA6;\n",
              "    }\n",
              "\n",
              "    [theme=dark] .colab-df-convert {\n",
              "      background-color: #3B4455;\n",
              "      fill: #D2E3FC;\n",
              "    }\n",
              "\n",
              "    [theme=dark] .colab-df-convert:hover {\n",
              "      background-color: #434B5C;\n",
              "      box-shadow: 0px 1px 3px 1px rgba(0, 0, 0, 0.15);\n",
              "      filter: drop-shadow(0px 1px 2px rgba(0, 0, 0, 0.3));\n",
              "      fill: #FFFFFF;\n",
              "    }\n",
              "  </style>\n",
              "\n",
              "      <script>\n",
              "        const buttonEl =\n",
              "          document.querySelector('#df-8623d459-6e0d-4eb5-bcd2-1c5b2ebe2735 button.colab-df-convert');\n",
              "        buttonEl.style.display =\n",
              "          google.colab.kernel.accessAllowed ? 'block' : 'none';\n",
              "\n",
              "        async function convertToInteractive(key) {\n",
              "          const element = document.querySelector('#df-8623d459-6e0d-4eb5-bcd2-1c5b2ebe2735');\n",
              "          const dataTable =\n",
              "            await google.colab.kernel.invokeFunction('convertToInteractive',\n",
              "                                                     [key], {});\n",
              "          if (!dataTable) return;\n",
              "\n",
              "          const docLinkHtml = 'Like what you see? Visit the ' +\n",
              "            '<a target=\"_blank\" href=https://colab.research.google.com/notebooks/data_table.ipynb>data table notebook</a>'\n",
              "            + ' to learn more about interactive tables.';\n",
              "          element.innerHTML = '';\n",
              "          dataTable['output_type'] = 'display_data';\n",
              "          await google.colab.output.renderOutput(dataTable, element);\n",
              "          const docLink = document.createElement('div');\n",
              "          docLink.innerHTML = docLinkHtml;\n",
              "          element.appendChild(docLink);\n",
              "        }\n",
              "      </script>\n",
              "    </div>\n",
              "  </div>\n",
              "  "
            ]
          },
          "metadata": {},
          "execution_count": 262
        }
      ]
    },
    {
      "cell_type": "markdown",
      "source": [
        "## Step 4: Splitting the Data into Training and Testing Sets"
      ],
      "metadata": {
        "id": "WwWgD9z3IliQ"
      }
    },
    {
      "cell_type": "code",
      "source": [
        "np.random.seed(1)\n",
        "bike_train_df, bike_test_df = train_test_split(bike_df,train_size=0.7, test_size=0.3, random_state=100)\n"
      ],
      "metadata": {
        "id": "qUVyK357Ijz-"
      },
      "execution_count": 263,
      "outputs": []
    },
    {
      "cell_type": "markdown",
      "source": [
        "### Data Pre-Processing\n",
        "\n",
        "1) Let's scale the continuous numerical variables using MinMaxScalar - scaling helps to converge the faster and also will not lead to mis-interpretations due to high magnitudes.\n",
        "\n",
        "2) Use one-hot encode for categorical features.\n",
        "\n",
        "We are using here ColumnTransformer pipeline to do this."
      ],
      "metadata": {
        "id": "AfqpZPBCJMkR"
      }
    },
    {
      "cell_type": "code",
      "source": [
        "preprocess_pipeline = ColumnTransformer([\n",
        "                              (\"numerical\",MinMaxScaler(),['temp','atemp','hum','windspeed','cnt']),\n",
        "                              (\"categorical\",OneHotEncoder(drop='first'),['season','mnth','weathersit','weekday'])\n",
        "],remainder='passthrough')\n",
        "bike_train_ndarray = preprocess_pipeline.fit_transform(bike_train_df)"
      ],
      "metadata": {
        "id": "bntCv3f8iL6I"
      },
      "execution_count": 264,
      "outputs": []
    },
    {
      "cell_type": "code",
      "source": [
        "bike_train_df = pd.DataFrame(bike_train_ndarray,columns=preprocess_pipeline.get_feature_names_out())\n",
        "bike_train_df"
      ],
      "metadata": {
        "colab": {
          "base_uri": "https://localhost:8080/",
          "height": 488
        },
        "id": "FOCfGr4yi35f",
        "outputId": "81ff6f84-1a05-424e-cf57-e755b7fa9979"
      },
      "execution_count": 265,
      "outputs": [
        {
          "output_type": "execute_result",
          "data": {
            "text/plain": [
              "     numerical__temp  numerical__atemp  numerical__hum  numerical__windspeed  \\\n",
              "0           0.509887          0.501133        0.575354              0.300794   \n",
              "1           0.815169          0.766351        0.725633              0.264686   \n",
              "2           0.442393          0.438975        0.640189              0.255342   \n",
              "3           0.245101          0.200348        0.498067              0.663106   \n",
              "4           0.395666          0.391735        0.504508              0.188475   \n",
              "..               ...               ...             ...                   ...   \n",
              "505         0.824514          0.762183        0.605840              0.355596   \n",
              "506         0.863973          0.824359        0.679690              0.187140   \n",
              "507         0.202618          0.218747        0.435939              0.111379   \n",
              "508         0.248216          0.223544        0.577930              0.431816   \n",
              "509         0.462664          0.434043        0.759870              0.529881   \n",
              "\n",
              "     numerical__cnt  categorical__season_2  categorical__season_3  \\\n",
              "0          0.864243                    0.0                    0.0   \n",
              "1          0.827658                    0.0                    1.0   \n",
              "2          0.465255                    0.0                    0.0   \n",
              "3          0.204096                    0.0                    0.0   \n",
              "4          0.482973                    1.0                    0.0   \n",
              "..              ...                    ...                    ...   \n",
              "505        0.764151                    1.0                    0.0   \n",
              "506        0.832835                    0.0                    1.0   \n",
              "507        0.218017                    0.0                    0.0   \n",
              "508        0.312586                    0.0                    0.0   \n",
              "509        0.236424                    1.0                    0.0   \n",
              "\n",
              "     categorical__season_4  categorical__mnth_2  categorical__mnth_3  \\\n",
              "0                      1.0                  0.0                  0.0   \n",
              "1                      0.0                  0.0                  0.0   \n",
              "2                      0.0                  0.0                  1.0   \n",
              "3                      0.0                  0.0                  0.0   \n",
              "4                      0.0                  0.0                  0.0   \n",
              "..                     ...                  ...                  ...   \n",
              "505                    0.0                  0.0                  0.0   \n",
              "506                    0.0                  0.0                  0.0   \n",
              "507                    0.0                  1.0                  0.0   \n",
              "508                    1.0                  0.0                  0.0   \n",
              "509                    0.0                  0.0                  1.0   \n",
              "\n",
              "     categorical__mnth_4  categorical__mnth_5  categorical__mnth_6  \\\n",
              "0                    0.0                  0.0                  0.0   \n",
              "1                    0.0                  0.0                  0.0   \n",
              "2                    0.0                  0.0                  0.0   \n",
              "3                    0.0                  0.0                  0.0   \n",
              "4                    1.0                  0.0                  0.0   \n",
              "..                   ...                  ...                  ...   \n",
              "505                  0.0                  0.0                  1.0   \n",
              "506                  0.0                  0.0                  0.0   \n",
              "507                  0.0                  0.0                  0.0   \n",
              "508                  0.0                  0.0                  0.0   \n",
              "509                  0.0                  0.0                  0.0   \n",
              "\n",
              "     categorical__mnth_7  categorical__mnth_8  categorical__mnth_9  \\\n",
              "0                    0.0                  0.0                  0.0   \n",
              "1                    1.0                  0.0                  0.0   \n",
              "2                    0.0                  0.0                  0.0   \n",
              "3                    0.0                  0.0                  0.0   \n",
              "4                    0.0                  0.0                  0.0   \n",
              "..                   ...                  ...                  ...   \n",
              "505                  0.0                  0.0                  0.0   \n",
              "506                  0.0                  1.0                  0.0   \n",
              "507                  0.0                  0.0                  0.0   \n",
              "508                  0.0                  0.0                  0.0   \n",
              "509                  0.0                  0.0                  0.0   \n",
              "\n",
              "     categorical__mnth_10  categorical__mnth_11  categorical__mnth_12  \\\n",
              "0                     1.0                   0.0                   0.0   \n",
              "1                     0.0                   0.0                   0.0   \n",
              "2                     0.0                   0.0                   0.0   \n",
              "3                     0.0                   0.0                   1.0   \n",
              "4                     0.0                   0.0                   0.0   \n",
              "..                    ...                   ...                   ...   \n",
              "505                   0.0                   0.0                   0.0   \n",
              "506                   0.0                   0.0                   0.0   \n",
              "507                   0.0                   0.0                   0.0   \n",
              "508                   0.0                   0.0                   1.0   \n",
              "509                   0.0                   0.0                   0.0   \n",
              "\n",
              "     categorical__weathersit_2  categorical__weathersit_3  \\\n",
              "0                          0.0                        0.0   \n",
              "1                          0.0                        0.0   \n",
              "2                          1.0                        0.0   \n",
              "3                          0.0                        0.0   \n",
              "4                          1.0                        0.0   \n",
              "..                         ...                        ...   \n",
              "505                        1.0                        0.0   \n",
              "506                        0.0                        0.0   \n",
              "507                        0.0                        0.0   \n",
              "508                        1.0                        0.0   \n",
              "509                        1.0                        0.0   \n",
              "\n",
              "     categorical__weekday_1  categorical__weekday_2  categorical__weekday_3  \\\n",
              "0                       0.0                     1.0                     0.0   \n",
              "1                       0.0                     1.0                     0.0   \n",
              "2                       0.0                     0.0                     0.0   \n",
              "3                       0.0                     0.0                     0.0   \n",
              "4                       0.0                     0.0                     0.0   \n",
              "..                      ...                     ...                     ...   \n",
              "505                     1.0                     0.0                     0.0   \n",
              "506                     0.0                     0.0                     0.0   \n",
              "507                     0.0                     0.0                     1.0   \n",
              "508                     0.0                     0.0                     0.0   \n",
              "509                     1.0                     0.0                     0.0   \n",
              "\n",
              "     categorical__weekday_4  categorical__weekday_5  categorical__weekday_6  \\\n",
              "0                       0.0                     0.0                     0.0   \n",
              "1                       0.0                     0.0                     0.0   \n",
              "2                       0.0                     0.0                     1.0   \n",
              "3                       0.0                     0.0                     0.0   \n",
              "4                       0.0                     0.0                     1.0   \n",
              "..                      ...                     ...                     ...   \n",
              "505                     0.0                     0.0                     0.0   \n",
              "506                     1.0                     0.0                     0.0   \n",
              "507                     0.0                     0.0                     0.0   \n",
              "508                     0.0                     0.0                     1.0   \n",
              "509                     0.0                     0.0                     0.0   \n",
              "\n",
              "     remainder__yr  remainder__holiday  remainder__workingday  \n",
              "0              1.0                 0.0                    1.0  \n",
              "1              1.0                 0.0                    1.0  \n",
              "2              1.0                 0.0                    0.0  \n",
              "3              1.0                 0.0                    0.0  \n",
              "4              1.0                 0.0                    0.0  \n",
              "..             ...                 ...                    ...  \n",
              "505            1.0                 0.0                    1.0  \n",
              "506            1.0                 0.0                    1.0  \n",
              "507            0.0                 0.0                    1.0  \n",
              "508            0.0                 0.0                    0.0  \n",
              "509            0.0                 0.0                    1.0  \n",
              "\n",
              "[510 rows x 30 columns]"
            ],
            "text/html": [
              "\n",
              "  <div id=\"df-01a8d3e8-eaa7-43bd-a8e4-f60820918d94\">\n",
              "    <div class=\"colab-df-container\">\n",
              "      <div>\n",
              "<style scoped>\n",
              "    .dataframe tbody tr th:only-of-type {\n",
              "        vertical-align: middle;\n",
              "    }\n",
              "\n",
              "    .dataframe tbody tr th {\n",
              "        vertical-align: top;\n",
              "    }\n",
              "\n",
              "    .dataframe thead th {\n",
              "        text-align: right;\n",
              "    }\n",
              "</style>\n",
              "<table border=\"1\" class=\"dataframe\">\n",
              "  <thead>\n",
              "    <tr style=\"text-align: right;\">\n",
              "      <th></th>\n",
              "      <th>numerical__temp</th>\n",
              "      <th>numerical__atemp</th>\n",
              "      <th>numerical__hum</th>\n",
              "      <th>numerical__windspeed</th>\n",
              "      <th>numerical__cnt</th>\n",
              "      <th>categorical__season_2</th>\n",
              "      <th>categorical__season_3</th>\n",
              "      <th>categorical__season_4</th>\n",
              "      <th>categorical__mnth_2</th>\n",
              "      <th>categorical__mnth_3</th>\n",
              "      <th>categorical__mnth_4</th>\n",
              "      <th>categorical__mnth_5</th>\n",
              "      <th>categorical__mnth_6</th>\n",
              "      <th>categorical__mnth_7</th>\n",
              "      <th>categorical__mnth_8</th>\n",
              "      <th>categorical__mnth_9</th>\n",
              "      <th>categorical__mnth_10</th>\n",
              "      <th>categorical__mnth_11</th>\n",
              "      <th>categorical__mnth_12</th>\n",
              "      <th>categorical__weathersit_2</th>\n",
              "      <th>categorical__weathersit_3</th>\n",
              "      <th>categorical__weekday_1</th>\n",
              "      <th>categorical__weekday_2</th>\n",
              "      <th>categorical__weekday_3</th>\n",
              "      <th>categorical__weekday_4</th>\n",
              "      <th>categorical__weekday_5</th>\n",
              "      <th>categorical__weekday_6</th>\n",
              "      <th>remainder__yr</th>\n",
              "      <th>remainder__holiday</th>\n",
              "      <th>remainder__workingday</th>\n",
              "    </tr>\n",
              "  </thead>\n",
              "  <tbody>\n",
              "    <tr>\n",
              "      <th>0</th>\n",
              "      <td>0.509887</td>\n",
              "      <td>0.501133</td>\n",
              "      <td>0.575354</td>\n",
              "      <td>0.300794</td>\n",
              "      <td>0.864243</td>\n",
              "      <td>0.0</td>\n",
              "      <td>0.0</td>\n",
              "      <td>1.0</td>\n",
              "      <td>0.0</td>\n",
              "      <td>0.0</td>\n",
              "      <td>0.0</td>\n",
              "      <td>0.0</td>\n",
              "      <td>0.0</td>\n",
              "      <td>0.0</td>\n",
              "      <td>0.0</td>\n",
              "      <td>0.0</td>\n",
              "      <td>1.0</td>\n",
              "      <td>0.0</td>\n",
              "      <td>0.0</td>\n",
              "      <td>0.0</td>\n",
              "      <td>0.0</td>\n",
              "      <td>0.0</td>\n",
              "      <td>1.0</td>\n",
              "      <td>0.0</td>\n",
              "      <td>0.0</td>\n",
              "      <td>0.0</td>\n",
              "      <td>0.0</td>\n",
              "      <td>1.0</td>\n",
              "      <td>0.0</td>\n",
              "      <td>1.0</td>\n",
              "    </tr>\n",
              "    <tr>\n",
              "      <th>1</th>\n",
              "      <td>0.815169</td>\n",
              "      <td>0.766351</td>\n",
              "      <td>0.725633</td>\n",
              "      <td>0.264686</td>\n",
              "      <td>0.827658</td>\n",
              "      <td>0.0</td>\n",
              "      <td>1.0</td>\n",
              "      <td>0.0</td>\n",
              "      <td>0.0</td>\n",
              "      <td>0.0</td>\n",
              "      <td>0.0</td>\n",
              "      <td>0.0</td>\n",
              "      <td>0.0</td>\n",
              "      <td>1.0</td>\n",
              "      <td>0.0</td>\n",
              "      <td>0.0</td>\n",
              "      <td>0.0</td>\n",
              "      <td>0.0</td>\n",
              "      <td>0.0</td>\n",
              "      <td>0.0</td>\n",
              "      <td>0.0</td>\n",
              "      <td>0.0</td>\n",
              "      <td>1.0</td>\n",
              "      <td>0.0</td>\n",
              "      <td>0.0</td>\n",
              "      <td>0.0</td>\n",
              "      <td>0.0</td>\n",
              "      <td>1.0</td>\n",
              "      <td>0.0</td>\n",
              "      <td>1.0</td>\n",
              "    </tr>\n",
              "    <tr>\n",
              "      <th>2</th>\n",
              "      <td>0.442393</td>\n",
              "      <td>0.438975</td>\n",
              "      <td>0.640189</td>\n",
              "      <td>0.255342</td>\n",
              "      <td>0.465255</td>\n",
              "      <td>0.0</td>\n",
              "      <td>0.0</td>\n",
              "      <td>0.0</td>\n",
              "      <td>0.0</td>\n",
              "      <td>1.0</td>\n",
              "      <td>0.0</td>\n",
              "      <td>0.0</td>\n",
              "      <td>0.0</td>\n",
              "      <td>0.0</td>\n",
              "      <td>0.0</td>\n",
              "      <td>0.0</td>\n",
              "      <td>0.0</td>\n",
              "      <td>0.0</td>\n",
              "      <td>0.0</td>\n",
              "      <td>1.0</td>\n",
              "      <td>0.0</td>\n",
              "      <td>0.0</td>\n",
              "      <td>0.0</td>\n",
              "      <td>0.0</td>\n",
              "      <td>0.0</td>\n",
              "      <td>0.0</td>\n",
              "      <td>1.0</td>\n",
              "      <td>1.0</td>\n",
              "      <td>0.0</td>\n",
              "      <td>0.0</td>\n",
              "    </tr>\n",
              "    <tr>\n",
              "      <th>3</th>\n",
              "      <td>0.245101</td>\n",
              "      <td>0.200348</td>\n",
              "      <td>0.498067</td>\n",
              "      <td>0.663106</td>\n",
              "      <td>0.204096</td>\n",
              "      <td>0.0</td>\n",
              "      <td>0.0</td>\n",
              "      <td>0.0</td>\n",
              "      <td>0.0</td>\n",
              "      <td>0.0</td>\n",
              "      <td>0.0</td>\n",
              "      <td>0.0</td>\n",
              "      <td>0.0</td>\n",
              "      <td>0.0</td>\n",
              "      <td>0.0</td>\n",
              "      <td>0.0</td>\n",
              "      <td>0.0</td>\n",
              "      <td>0.0</td>\n",
              "      <td>1.0</td>\n",
              "      <td>0.0</td>\n",
              "      <td>0.0</td>\n",
              "      <td>0.0</td>\n",
              "      <td>0.0</td>\n",
              "      <td>0.0</td>\n",
              "      <td>0.0</td>\n",
              "      <td>0.0</td>\n",
              "      <td>0.0</td>\n",
              "      <td>1.0</td>\n",
              "      <td>0.0</td>\n",
              "      <td>0.0</td>\n",
              "    </tr>\n",
              "    <tr>\n",
              "      <th>4</th>\n",
              "      <td>0.395666</td>\n",
              "      <td>0.391735</td>\n",
              "      <td>0.504508</td>\n",
              "      <td>0.188475</td>\n",
              "      <td>0.482973</td>\n",
              "      <td>1.0</td>\n",
              "      <td>0.0</td>\n",
              "      <td>0.0</td>\n",
              "      <td>0.0</td>\n",
              "      <td>0.0</td>\n",
              "      <td>1.0</td>\n",
              "      <td>0.0</td>\n",
              "      <td>0.0</td>\n",
              "      <td>0.0</td>\n",
              "      <td>0.0</td>\n",
              "      <td>0.0</td>\n",
              "      <td>0.0</td>\n",
              "      <td>0.0</td>\n",
              "      <td>0.0</td>\n",
              "      <td>1.0</td>\n",
              "      <td>0.0</td>\n",
              "      <td>0.0</td>\n",
              "      <td>0.0</td>\n",
              "      <td>0.0</td>\n",
              "      <td>0.0</td>\n",
              "      <td>0.0</td>\n",
              "      <td>1.0</td>\n",
              "      <td>1.0</td>\n",
              "      <td>0.0</td>\n",
              "      <td>0.0</td>\n",
              "    </tr>\n",
              "    <tr>\n",
              "      <th>...</th>\n",
              "      <td>...</td>\n",
              "      <td>...</td>\n",
              "      <td>...</td>\n",
              "      <td>...</td>\n",
              "      <td>...</td>\n",
              "      <td>...</td>\n",
              "      <td>...</td>\n",
              "      <td>...</td>\n",
              "      <td>...</td>\n",
              "      <td>...</td>\n",
              "      <td>...</td>\n",
              "      <td>...</td>\n",
              "      <td>...</td>\n",
              "      <td>...</td>\n",
              "      <td>...</td>\n",
              "      <td>...</td>\n",
              "      <td>...</td>\n",
              "      <td>...</td>\n",
              "      <td>...</td>\n",
              "      <td>...</td>\n",
              "      <td>...</td>\n",
              "      <td>...</td>\n",
              "      <td>...</td>\n",
              "      <td>...</td>\n",
              "      <td>...</td>\n",
              "      <td>...</td>\n",
              "      <td>...</td>\n",
              "      <td>...</td>\n",
              "      <td>...</td>\n",
              "      <td>...</td>\n",
              "    </tr>\n",
              "    <tr>\n",
              "      <th>505</th>\n",
              "      <td>0.824514</td>\n",
              "      <td>0.762183</td>\n",
              "      <td>0.605840</td>\n",
              "      <td>0.355596</td>\n",
              "      <td>0.764151</td>\n",
              "      <td>1.0</td>\n",
              "      <td>0.0</td>\n",
              "      <td>0.0</td>\n",
              "      <td>0.0</td>\n",
              "      <td>0.0</td>\n",
              "      <td>0.0</td>\n",
              "      <td>0.0</td>\n",
              "      <td>1.0</td>\n",
              "      <td>0.0</td>\n",
              "      <td>0.0</td>\n",
              "      <td>0.0</td>\n",
              "      <td>0.0</td>\n",
              "      <td>0.0</td>\n",
              "      <td>0.0</td>\n",
              "      <td>1.0</td>\n",
              "      <td>0.0</td>\n",
              "      <td>1.0</td>\n",
              "      <td>0.0</td>\n",
              "      <td>0.0</td>\n",
              "      <td>0.0</td>\n",
              "      <td>0.0</td>\n",
              "      <td>0.0</td>\n",
              "      <td>1.0</td>\n",
              "      <td>0.0</td>\n",
              "      <td>1.0</td>\n",
              "    </tr>\n",
              "    <tr>\n",
              "      <th>506</th>\n",
              "      <td>0.863973</td>\n",
              "      <td>0.824359</td>\n",
              "      <td>0.679690</td>\n",
              "      <td>0.187140</td>\n",
              "      <td>0.832835</td>\n",
              "      <td>0.0</td>\n",
              "      <td>1.0</td>\n",
              "      <td>0.0</td>\n",
              "      <td>0.0</td>\n",
              "      <td>0.0</td>\n",
              "      <td>0.0</td>\n",
              "      <td>0.0</td>\n",
              "      <td>0.0</td>\n",
              "      <td>0.0</td>\n",
              "      <td>1.0</td>\n",
              "      <td>0.0</td>\n",
              "      <td>0.0</td>\n",
              "      <td>0.0</td>\n",
              "      <td>0.0</td>\n",
              "      <td>0.0</td>\n",
              "      <td>0.0</td>\n",
              "      <td>0.0</td>\n",
              "      <td>0.0</td>\n",
              "      <td>0.0</td>\n",
              "      <td>1.0</td>\n",
              "      <td>0.0</td>\n",
              "      <td>0.0</td>\n",
              "      <td>1.0</td>\n",
              "      <td>0.0</td>\n",
              "      <td>1.0</td>\n",
              "    </tr>\n",
              "    <tr>\n",
              "      <th>507</th>\n",
              "      <td>0.202618</td>\n",
              "      <td>0.218747</td>\n",
              "      <td>0.435939</td>\n",
              "      <td>0.111379</td>\n",
              "      <td>0.218017</td>\n",
              "      <td>0.0</td>\n",
              "      <td>0.0</td>\n",
              "      <td>0.0</td>\n",
              "      <td>1.0</td>\n",
              "      <td>0.0</td>\n",
              "      <td>0.0</td>\n",
              "      <td>0.0</td>\n",
              "      <td>0.0</td>\n",
              "      <td>0.0</td>\n",
              "      <td>0.0</td>\n",
              "      <td>0.0</td>\n",
              "      <td>0.0</td>\n",
              "      <td>0.0</td>\n",
              "      <td>0.0</td>\n",
              "      <td>0.0</td>\n",
              "      <td>0.0</td>\n",
              "      <td>0.0</td>\n",
              "      <td>0.0</td>\n",
              "      <td>1.0</td>\n",
              "      <td>0.0</td>\n",
              "      <td>0.0</td>\n",
              "      <td>0.0</td>\n",
              "      <td>0.0</td>\n",
              "      <td>0.0</td>\n",
              "      <td>1.0</td>\n",
              "    </tr>\n",
              "    <tr>\n",
              "      <th>508</th>\n",
              "      <td>0.248216</td>\n",
              "      <td>0.223544</td>\n",
              "      <td>0.577930</td>\n",
              "      <td>0.431816</td>\n",
              "      <td>0.312586</td>\n",
              "      <td>0.0</td>\n",
              "      <td>0.0</td>\n",
              "      <td>1.0</td>\n",
              "      <td>0.0</td>\n",
              "      <td>0.0</td>\n",
              "      <td>0.0</td>\n",
              "      <td>0.0</td>\n",
              "      <td>0.0</td>\n",
              "      <td>0.0</td>\n",
              "      <td>0.0</td>\n",
              "      <td>0.0</td>\n",
              "      <td>0.0</td>\n",
              "      <td>0.0</td>\n",
              "      <td>1.0</td>\n",
              "      <td>1.0</td>\n",
              "      <td>0.0</td>\n",
              "      <td>0.0</td>\n",
              "      <td>0.0</td>\n",
              "      <td>0.0</td>\n",
              "      <td>0.0</td>\n",
              "      <td>0.0</td>\n",
              "      <td>1.0</td>\n",
              "      <td>0.0</td>\n",
              "      <td>0.0</td>\n",
              "      <td>0.0</td>\n",
              "    </tr>\n",
              "    <tr>\n",
              "      <th>509</th>\n",
              "      <td>0.462664</td>\n",
              "      <td>0.434043</td>\n",
              "      <td>0.759870</td>\n",
              "      <td>0.529881</td>\n",
              "      <td>0.236424</td>\n",
              "      <td>1.0</td>\n",
              "      <td>0.0</td>\n",
              "      <td>0.0</td>\n",
              "      <td>0.0</td>\n",
              "      <td>1.0</td>\n",
              "      <td>0.0</td>\n",
              "      <td>0.0</td>\n",
              "      <td>0.0</td>\n",
              "      <td>0.0</td>\n",
              "      <td>0.0</td>\n",
              "      <td>0.0</td>\n",
              "      <td>0.0</td>\n",
              "      <td>0.0</td>\n",
              "      <td>0.0</td>\n",
              "      <td>1.0</td>\n",
              "      <td>0.0</td>\n",
              "      <td>1.0</td>\n",
              "      <td>0.0</td>\n",
              "      <td>0.0</td>\n",
              "      <td>0.0</td>\n",
              "      <td>0.0</td>\n",
              "      <td>0.0</td>\n",
              "      <td>0.0</td>\n",
              "      <td>0.0</td>\n",
              "      <td>1.0</td>\n",
              "    </tr>\n",
              "  </tbody>\n",
              "</table>\n",
              "<p>510 rows × 30 columns</p>\n",
              "</div>\n",
              "      <button class=\"colab-df-convert\" onclick=\"convertToInteractive('df-01a8d3e8-eaa7-43bd-a8e4-f60820918d94')\"\n",
              "              title=\"Convert this dataframe to an interactive table.\"\n",
              "              style=\"display:none;\">\n",
              "        \n",
              "  <svg xmlns=\"http://www.w3.org/2000/svg\" height=\"24px\"viewBox=\"0 0 24 24\"\n",
              "       width=\"24px\">\n",
              "    <path d=\"M0 0h24v24H0V0z\" fill=\"none\"/>\n",
              "    <path d=\"M18.56 5.44l.94 2.06.94-2.06 2.06-.94-2.06-.94-.94-2.06-.94 2.06-2.06.94zm-11 1L8.5 8.5l.94-2.06 2.06-.94-2.06-.94L8.5 2.5l-.94 2.06-2.06.94zm10 10l.94 2.06.94-2.06 2.06-.94-2.06-.94-.94-2.06-.94 2.06-2.06.94z\"/><path d=\"M17.41 7.96l-1.37-1.37c-.4-.4-.92-.59-1.43-.59-.52 0-1.04.2-1.43.59L10.3 9.45l-7.72 7.72c-.78.78-.78 2.05 0 2.83L4 21.41c.39.39.9.59 1.41.59.51 0 1.02-.2 1.41-.59l7.78-7.78 2.81-2.81c.8-.78.8-2.07 0-2.86zM5.41 20L4 18.59l7.72-7.72 1.47 1.35L5.41 20z\"/>\n",
              "  </svg>\n",
              "      </button>\n",
              "      \n",
              "  <style>\n",
              "    .colab-df-container {\n",
              "      display:flex;\n",
              "      flex-wrap:wrap;\n",
              "      gap: 12px;\n",
              "    }\n",
              "\n",
              "    .colab-df-convert {\n",
              "      background-color: #E8F0FE;\n",
              "      border: none;\n",
              "      border-radius: 50%;\n",
              "      cursor: pointer;\n",
              "      display: none;\n",
              "      fill: #1967D2;\n",
              "      height: 32px;\n",
              "      padding: 0 0 0 0;\n",
              "      width: 32px;\n",
              "    }\n",
              "\n",
              "    .colab-df-convert:hover {\n",
              "      background-color: #E2EBFA;\n",
              "      box-shadow: 0px 1px 2px rgba(60, 64, 67, 0.3), 0px 1px 3px 1px rgba(60, 64, 67, 0.15);\n",
              "      fill: #174EA6;\n",
              "    }\n",
              "\n",
              "    [theme=dark] .colab-df-convert {\n",
              "      background-color: #3B4455;\n",
              "      fill: #D2E3FC;\n",
              "    }\n",
              "\n",
              "    [theme=dark] .colab-df-convert:hover {\n",
              "      background-color: #434B5C;\n",
              "      box-shadow: 0px 1px 3px 1px rgba(0, 0, 0, 0.15);\n",
              "      filter: drop-shadow(0px 1px 2px rgba(0, 0, 0, 0.3));\n",
              "      fill: #FFFFFF;\n",
              "    }\n",
              "  </style>\n",
              "\n",
              "      <script>\n",
              "        const buttonEl =\n",
              "          document.querySelector('#df-01a8d3e8-eaa7-43bd-a8e4-f60820918d94 button.colab-df-convert');\n",
              "        buttonEl.style.display =\n",
              "          google.colab.kernel.accessAllowed ? 'block' : 'none';\n",
              "\n",
              "        async function convertToInteractive(key) {\n",
              "          const element = document.querySelector('#df-01a8d3e8-eaa7-43bd-a8e4-f60820918d94');\n",
              "          const dataTable =\n",
              "            await google.colab.kernel.invokeFunction('convertToInteractive',\n",
              "                                                     [key], {});\n",
              "          if (!dataTable) return;\n",
              "\n",
              "          const docLinkHtml = 'Like what you see? Visit the ' +\n",
              "            '<a target=\"_blank\" href=https://colab.research.google.com/notebooks/data_table.ipynb>data table notebook</a>'\n",
              "            + ' to learn more about interactive tables.';\n",
              "          element.innerHTML = '';\n",
              "          dataTable['output_type'] = 'display_data';\n",
              "          await google.colab.output.renderOutput(dataTable, element);\n",
              "          const docLink = document.createElement('div');\n",
              "          docLink.innerHTML = docLinkHtml;\n",
              "          element.appendChild(docLink);\n",
              "        }\n",
              "      </script>\n",
              "    </div>\n",
              "  </div>\n",
              "  "
            ]
          },
          "metadata": {},
          "execution_count": 265
        }
      ]
    },
    {
      "cell_type": "code",
      "source": [
        "bike_test_ndarray = preprocess_pipeline.transform(bike_test_df)\n",
        "bike_test_df = pd.DataFrame(bike_test_ndarray,columns=preprocess_pipeline.get_feature_names_out())\n",
        "bike_test_df"
      ],
      "metadata": {
        "colab": {
          "base_uri": "https://localhost:8080/",
          "height": 488
        },
        "id": "1iAG6Y4JnG5S",
        "outputId": "27358136-bd57-436f-e637-246e9b2814b8"
      },
      "execution_count": 266,
      "outputs": [
        {
          "output_type": "execute_result",
          "data": {
            "text/plain": [
              "     numerical__temp  numerical__atemp  numerical__hum  numerical__windspeed  \\\n",
              "0           0.831783          0.769660        0.657364              0.084219   \n",
              "1           0.901354          0.842587        0.610133              0.153728   \n",
              "2           0.511964          0.496145        0.837699              0.334206   \n",
              "3           0.881625          0.795343        0.437098              0.339570   \n",
              "4           0.817246          0.741471        0.314298              0.537414   \n",
              "..               ...               ...             ...                   ...   \n",
              "214         0.257562          0.243430        0.708888              0.287411   \n",
              "215         0.519232          0.511907        0.756118              0.283397   \n",
              "216         0.584649          0.577380        0.650923              0.069510   \n",
              "217         0.745598          0.682653        0.817947              0.052115   \n",
              "218         0.331557          0.332005        0.512107              0.203418   \n",
              "\n",
              "     numerical__cnt  categorical__season_2  categorical__season_3  \\\n",
              "0          0.692706                    0.0                    1.0   \n",
              "1          0.712034                    1.0                    0.0   \n",
              "2          0.303382                    0.0                    0.0   \n",
              "3          0.547400                    0.0                    1.0   \n",
              "4          0.569029                    1.0                    0.0   \n",
              "..              ...                    ...                    ...   \n",
              "214        0.336516                    0.0                    0.0   \n",
              "215        0.757478                    0.0                    0.0   \n",
              "216        0.495973                    1.0                    0.0   \n",
              "217        0.868615                    0.0                    0.0   \n",
              "218        0.232858                    0.0                    0.0   \n",
              "\n",
              "     categorical__season_4  categorical__mnth_2  categorical__mnth_3  \\\n",
              "0                      0.0                  0.0                  0.0   \n",
              "1                      0.0                  0.0                  0.0   \n",
              "2                      1.0                  0.0                  0.0   \n",
              "3                      0.0                  0.0                  0.0   \n",
              "4                      0.0                  0.0                  0.0   \n",
              "..                     ...                  ...                  ...   \n",
              "214                    0.0                  1.0                  0.0   \n",
              "215                    1.0                  0.0                  0.0   \n",
              "216                    0.0                  0.0                  0.0   \n",
              "217                    1.0                  0.0                  0.0   \n",
              "218                    0.0                  0.0                  1.0   \n",
              "\n",
              "     categorical__mnth_4  categorical__mnth_5  categorical__mnth_6  \\\n",
              "0                    0.0                  0.0                  0.0   \n",
              "1                    0.0                  0.0                  1.0   \n",
              "2                    0.0                  0.0                  0.0   \n",
              "3                    0.0                  0.0                  0.0   \n",
              "4                    0.0                  0.0                  1.0   \n",
              "..                   ...                  ...                  ...   \n",
              "214                  0.0                  0.0                  0.0   \n",
              "215                  0.0                  0.0                  0.0   \n",
              "216                  0.0                  1.0                  0.0   \n",
              "217                  0.0                  0.0                  0.0   \n",
              "218                  0.0                  0.0                  0.0   \n",
              "\n",
              "     categorical__mnth_7  categorical__mnth_8  categorical__mnth_9  \\\n",
              "0                    1.0                  0.0                  0.0   \n",
              "1                    0.0                  0.0                  0.0   \n",
              "2                    0.0                  0.0                  0.0   \n",
              "3                    0.0                  1.0                  0.0   \n",
              "4                    0.0                  0.0                  0.0   \n",
              "..                   ...                  ...                  ...   \n",
              "214                  0.0                  0.0                  0.0   \n",
              "215                  0.0                  0.0                  0.0   \n",
              "216                  0.0                  0.0                  0.0   \n",
              "217                  0.0                  0.0                  0.0   \n",
              "218                  0.0                  0.0                  0.0   \n",
              "\n",
              "     categorical__mnth_10  categorical__mnth_11  categorical__mnth_12  \\\n",
              "0                     0.0                   0.0                   0.0   \n",
              "1                     0.0                   0.0                   0.0   \n",
              "2                     1.0                   0.0                   0.0   \n",
              "3                     0.0                   0.0                   0.0   \n",
              "4                     0.0                   0.0                   0.0   \n",
              "..                    ...                   ...                   ...   \n",
              "214                   0.0                   0.0                   0.0   \n",
              "215                   0.0                   0.0                   1.0   \n",
              "216                   0.0                   0.0                   0.0   \n",
              "217                   1.0                   0.0                   0.0   \n",
              "218                   0.0                   0.0                   0.0   \n",
              "\n",
              "     categorical__weathersit_2  categorical__weathersit_3  \\\n",
              "0                          1.0                        0.0   \n",
              "1                          0.0                        0.0   \n",
              "2                          1.0                        0.0   \n",
              "3                          0.0                        0.0   \n",
              "4                          0.0                        0.0   \n",
              "..                         ...                        ...   \n",
              "214                        1.0                        0.0   \n",
              "215                        0.0                        0.0   \n",
              "216                        0.0                        0.0   \n",
              "217                        1.0                        0.0   \n",
              "218                        0.0                        0.0   \n",
              "\n",
              "     categorical__weekday_1  categorical__weekday_2  categorical__weekday_3  \\\n",
              "0                       1.0                     0.0                     0.0   \n",
              "1                       0.0                     0.0                     1.0   \n",
              "2                       0.0                     0.0                     0.0   \n",
              "3                       0.0                     0.0                     1.0   \n",
              "4                       0.0                     0.0                     0.0   \n",
              "..                      ...                     ...                     ...   \n",
              "214                     0.0                     0.0                     0.0   \n",
              "215                     0.0                     1.0                     0.0   \n",
              "216                     0.0                     0.0                     0.0   \n",
              "217                     0.0                     0.0                     1.0   \n",
              "218                     1.0                     0.0                     0.0   \n",
              "\n",
              "     categorical__weekday_4  categorical__weekday_5  categorical__weekday_6  \\\n",
              "0                       0.0                     0.0                     0.0   \n",
              "1                       0.0                     0.0                     0.0   \n",
              "2                       1.0                     0.0                     0.0   \n",
              "3                       0.0                     0.0                     0.0   \n",
              "4                       1.0                     0.0                     0.0   \n",
              "..                      ...                     ...                     ...   \n",
              "214                     0.0                     0.0                     0.0   \n",
              "215                     0.0                     0.0                     0.0   \n",
              "216                     0.0                     0.0                     0.0   \n",
              "217                     0.0                     0.0                     0.0   \n",
              "218                     0.0                     0.0                     0.0   \n",
              "\n",
              "     remainder__yr  remainder__holiday  remainder__workingday  \n",
              "0              0.0                 1.0                    0.0  \n",
              "1              1.0                 0.0                    1.0  \n",
              "2              0.0                 0.0                    1.0  \n",
              "3              0.0                 0.0                    1.0  \n",
              "4              0.0                 0.0                    1.0  \n",
              "..             ...                 ...                    ...  \n",
              "214            1.0                 0.0                    0.0  \n",
              "215            1.0                 0.0                    1.0  \n",
              "216            0.0                 0.0                    0.0  \n",
              "217            1.0                 0.0                    1.0  \n",
              "218            0.0                 0.0                    1.0  \n",
              "\n",
              "[219 rows x 30 columns]"
            ],
            "text/html": [
              "\n",
              "  <div id=\"df-f673378f-36c1-4daa-9b54-d8a1a662d742\">\n",
              "    <div class=\"colab-df-container\">\n",
              "      <div>\n",
              "<style scoped>\n",
              "    .dataframe tbody tr th:only-of-type {\n",
              "        vertical-align: middle;\n",
              "    }\n",
              "\n",
              "    .dataframe tbody tr th {\n",
              "        vertical-align: top;\n",
              "    }\n",
              "\n",
              "    .dataframe thead th {\n",
              "        text-align: right;\n",
              "    }\n",
              "</style>\n",
              "<table border=\"1\" class=\"dataframe\">\n",
              "  <thead>\n",
              "    <tr style=\"text-align: right;\">\n",
              "      <th></th>\n",
              "      <th>numerical__temp</th>\n",
              "      <th>numerical__atemp</th>\n",
              "      <th>numerical__hum</th>\n",
              "      <th>numerical__windspeed</th>\n",
              "      <th>numerical__cnt</th>\n",
              "      <th>categorical__season_2</th>\n",
              "      <th>categorical__season_3</th>\n",
              "      <th>categorical__season_4</th>\n",
              "      <th>categorical__mnth_2</th>\n",
              "      <th>categorical__mnth_3</th>\n",
              "      <th>categorical__mnth_4</th>\n",
              "      <th>categorical__mnth_5</th>\n",
              "      <th>categorical__mnth_6</th>\n",
              "      <th>categorical__mnth_7</th>\n",
              "      <th>categorical__mnth_8</th>\n",
              "      <th>categorical__mnth_9</th>\n",
              "      <th>categorical__mnth_10</th>\n",
              "      <th>categorical__mnth_11</th>\n",
              "      <th>categorical__mnth_12</th>\n",
              "      <th>categorical__weathersit_2</th>\n",
              "      <th>categorical__weathersit_3</th>\n",
              "      <th>categorical__weekday_1</th>\n",
              "      <th>categorical__weekday_2</th>\n",
              "      <th>categorical__weekday_3</th>\n",
              "      <th>categorical__weekday_4</th>\n",
              "      <th>categorical__weekday_5</th>\n",
              "      <th>categorical__weekday_6</th>\n",
              "      <th>remainder__yr</th>\n",
              "      <th>remainder__holiday</th>\n",
              "      <th>remainder__workingday</th>\n",
              "    </tr>\n",
              "  </thead>\n",
              "  <tbody>\n",
              "    <tr>\n",
              "      <th>0</th>\n",
              "      <td>0.831783</td>\n",
              "      <td>0.769660</td>\n",
              "      <td>0.657364</td>\n",
              "      <td>0.084219</td>\n",
              "      <td>0.692706</td>\n",
              "      <td>0.0</td>\n",
              "      <td>1.0</td>\n",
              "      <td>0.0</td>\n",
              "      <td>0.0</td>\n",
              "      <td>0.0</td>\n",
              "      <td>0.0</td>\n",
              "      <td>0.0</td>\n",
              "      <td>0.0</td>\n",
              "      <td>1.0</td>\n",
              "      <td>0.0</td>\n",
              "      <td>0.0</td>\n",
              "      <td>0.0</td>\n",
              "      <td>0.0</td>\n",
              "      <td>0.0</td>\n",
              "      <td>1.0</td>\n",
              "      <td>0.0</td>\n",
              "      <td>1.0</td>\n",
              "      <td>0.0</td>\n",
              "      <td>0.0</td>\n",
              "      <td>0.0</td>\n",
              "      <td>0.0</td>\n",
              "      <td>0.0</td>\n",
              "      <td>0.0</td>\n",
              "      <td>1.0</td>\n",
              "      <td>0.0</td>\n",
              "    </tr>\n",
              "    <tr>\n",
              "      <th>1</th>\n",
              "      <td>0.901354</td>\n",
              "      <td>0.842587</td>\n",
              "      <td>0.610133</td>\n",
              "      <td>0.153728</td>\n",
              "      <td>0.712034</td>\n",
              "      <td>1.0</td>\n",
              "      <td>0.0</td>\n",
              "      <td>0.0</td>\n",
              "      <td>0.0</td>\n",
              "      <td>0.0</td>\n",
              "      <td>0.0</td>\n",
              "      <td>0.0</td>\n",
              "      <td>1.0</td>\n",
              "      <td>0.0</td>\n",
              "      <td>0.0</td>\n",
              "      <td>0.0</td>\n",
              "      <td>0.0</td>\n",
              "      <td>0.0</td>\n",
              "      <td>0.0</td>\n",
              "      <td>0.0</td>\n",
              "      <td>0.0</td>\n",
              "      <td>0.0</td>\n",
              "      <td>0.0</td>\n",
              "      <td>1.0</td>\n",
              "      <td>0.0</td>\n",
              "      <td>0.0</td>\n",
              "      <td>0.0</td>\n",
              "      <td>1.0</td>\n",
              "      <td>0.0</td>\n",
              "      <td>1.0</td>\n",
              "    </tr>\n",
              "    <tr>\n",
              "      <th>2</th>\n",
              "      <td>0.511964</td>\n",
              "      <td>0.496145</td>\n",
              "      <td>0.837699</td>\n",
              "      <td>0.334206</td>\n",
              "      <td>0.303382</td>\n",
              "      <td>0.0</td>\n",
              "      <td>0.0</td>\n",
              "      <td>1.0</td>\n",
              "      <td>0.0</td>\n",
              "      <td>0.0</td>\n",
              "      <td>0.0</td>\n",
              "      <td>0.0</td>\n",
              "      <td>0.0</td>\n",
              "      <td>0.0</td>\n",
              "      <td>0.0</td>\n",
              "      <td>0.0</td>\n",
              "      <td>1.0</td>\n",
              "      <td>0.0</td>\n",
              "      <td>0.0</td>\n",
              "      <td>1.0</td>\n",
              "      <td>0.0</td>\n",
              "      <td>0.0</td>\n",
              "      <td>0.0</td>\n",
              "      <td>0.0</td>\n",
              "      <td>1.0</td>\n",
              "      <td>0.0</td>\n",
              "      <td>0.0</td>\n",
              "      <td>0.0</td>\n",
              "      <td>0.0</td>\n",
              "      <td>1.0</td>\n",
              "    </tr>\n",
              "    <tr>\n",
              "      <th>3</th>\n",
              "      <td>0.881625</td>\n",
              "      <td>0.795343</td>\n",
              "      <td>0.437098</td>\n",
              "      <td>0.339570</td>\n",
              "      <td>0.547400</td>\n",
              "      <td>0.0</td>\n",
              "      <td>1.0</td>\n",
              "      <td>0.0</td>\n",
              "      <td>0.0</td>\n",
              "      <td>0.0</td>\n",
              "      <td>0.0</td>\n",
              "      <td>0.0</td>\n",
              "      <td>0.0</td>\n",
              "      <td>0.0</td>\n",
              "      <td>1.0</td>\n",
              "      <td>0.0</td>\n",
              "      <td>0.0</td>\n",
              "      <td>0.0</td>\n",
              "      <td>0.0</td>\n",
              "      <td>0.0</td>\n",
              "      <td>0.0</td>\n",
              "      <td>0.0</td>\n",
              "      <td>0.0</td>\n",
              "      <td>1.0</td>\n",
              "      <td>0.0</td>\n",
              "      <td>0.0</td>\n",
              "      <td>0.0</td>\n",
              "      <td>0.0</td>\n",
              "      <td>0.0</td>\n",
              "      <td>1.0</td>\n",
              "    </tr>\n",
              "    <tr>\n",
              "      <th>4</th>\n",
              "      <td>0.817246</td>\n",
              "      <td>0.741471</td>\n",
              "      <td>0.314298</td>\n",
              "      <td>0.537414</td>\n",
              "      <td>0.569029</td>\n",
              "      <td>1.0</td>\n",
              "      <td>0.0</td>\n",
              "      <td>0.0</td>\n",
              "      <td>0.0</td>\n",
              "      <td>0.0</td>\n",
              "      <td>0.0</td>\n",
              "      <td>0.0</td>\n",
              "      <td>1.0</td>\n",
              "      <td>0.0</td>\n",
              "      <td>0.0</td>\n",
              "      <td>0.0</td>\n",
              "      <td>0.0</td>\n",
              "      <td>0.0</td>\n",
              "      <td>0.0</td>\n",
              "      <td>0.0</td>\n",
              "      <td>0.0</td>\n",
              "      <td>0.0</td>\n",
              "      <td>0.0</td>\n",
              "      <td>0.0</td>\n",
              "      <td>1.0</td>\n",
              "      <td>0.0</td>\n",
              "      <td>0.0</td>\n",
              "      <td>0.0</td>\n",
              "      <td>0.0</td>\n",
              "      <td>1.0</td>\n",
              "    </tr>\n",
              "    <tr>\n",
              "      <th>...</th>\n",
              "      <td>...</td>\n",
              "      <td>...</td>\n",
              "      <td>...</td>\n",
              "      <td>...</td>\n",
              "      <td>...</td>\n",
              "      <td>...</td>\n",
              "      <td>...</td>\n",
              "      <td>...</td>\n",
              "      <td>...</td>\n",
              "      <td>...</td>\n",
              "      <td>...</td>\n",
              "      <td>...</td>\n",
              "      <td>...</td>\n",
              "      <td>...</td>\n",
              "      <td>...</td>\n",
              "      <td>...</td>\n",
              "      <td>...</td>\n",
              "      <td>...</td>\n",
              "      <td>...</td>\n",
              "      <td>...</td>\n",
              "      <td>...</td>\n",
              "      <td>...</td>\n",
              "      <td>...</td>\n",
              "      <td>...</td>\n",
              "      <td>...</td>\n",
              "      <td>...</td>\n",
              "      <td>...</td>\n",
              "      <td>...</td>\n",
              "      <td>...</td>\n",
              "      <td>...</td>\n",
              "    </tr>\n",
              "    <tr>\n",
              "      <th>214</th>\n",
              "      <td>0.257562</td>\n",
              "      <td>0.243430</td>\n",
              "      <td>0.708888</td>\n",
              "      <td>0.287411</td>\n",
              "      <td>0.336516</td>\n",
              "      <td>0.0</td>\n",
              "      <td>0.0</td>\n",
              "      <td>0.0</td>\n",
              "      <td>1.0</td>\n",
              "      <td>0.0</td>\n",
              "      <td>0.0</td>\n",
              "      <td>0.0</td>\n",
              "      <td>0.0</td>\n",
              "      <td>0.0</td>\n",
              "      <td>0.0</td>\n",
              "      <td>0.0</td>\n",
              "      <td>0.0</td>\n",
              "      <td>0.0</td>\n",
              "      <td>0.0</td>\n",
              "      <td>1.0</td>\n",
              "      <td>0.0</td>\n",
              "      <td>0.0</td>\n",
              "      <td>0.0</td>\n",
              "      <td>0.0</td>\n",
              "      <td>0.0</td>\n",
              "      <td>0.0</td>\n",
              "      <td>0.0</td>\n",
              "      <td>1.0</td>\n",
              "      <td>0.0</td>\n",
              "      <td>0.0</td>\n",
              "    </tr>\n",
              "    <tr>\n",
              "      <th>215</th>\n",
              "      <td>0.519232</td>\n",
              "      <td>0.511907</td>\n",
              "      <td>0.756118</td>\n",
              "      <td>0.283397</td>\n",
              "      <td>0.757478</td>\n",
              "      <td>0.0</td>\n",
              "      <td>0.0</td>\n",
              "      <td>1.0</td>\n",
              "      <td>0.0</td>\n",
              "      <td>0.0</td>\n",
              "      <td>0.0</td>\n",
              "      <td>0.0</td>\n",
              "      <td>0.0</td>\n",
              "      <td>0.0</td>\n",
              "      <td>0.0</td>\n",
              "      <td>0.0</td>\n",
              "      <td>0.0</td>\n",
              "      <td>0.0</td>\n",
              "      <td>1.0</td>\n",
              "      <td>0.0</td>\n",
              "      <td>0.0</td>\n",
              "      <td>0.0</td>\n",
              "      <td>1.0</td>\n",
              "      <td>0.0</td>\n",
              "      <td>0.0</td>\n",
              "      <td>0.0</td>\n",
              "      <td>0.0</td>\n",
              "      <td>1.0</td>\n",
              "      <td>0.0</td>\n",
              "      <td>1.0</td>\n",
              "    </tr>\n",
              "    <tr>\n",
              "      <th>216</th>\n",
              "      <td>0.584649</td>\n",
              "      <td>0.577380</td>\n",
              "      <td>0.650923</td>\n",
              "      <td>0.069510</td>\n",
              "      <td>0.495973</td>\n",
              "      <td>1.0</td>\n",
              "      <td>0.0</td>\n",
              "      <td>0.0</td>\n",
              "      <td>0.0</td>\n",
              "      <td>0.0</td>\n",
              "      <td>0.0</td>\n",
              "      <td>1.0</td>\n",
              "      <td>0.0</td>\n",
              "      <td>0.0</td>\n",
              "      <td>0.0</td>\n",
              "      <td>0.0</td>\n",
              "      <td>0.0</td>\n",
              "      <td>0.0</td>\n",
              "      <td>0.0</td>\n",
              "      <td>0.0</td>\n",
              "      <td>0.0</td>\n",
              "      <td>0.0</td>\n",
              "      <td>0.0</td>\n",
              "      <td>0.0</td>\n",
              "      <td>0.0</td>\n",
              "      <td>0.0</td>\n",
              "      <td>0.0</td>\n",
              "      <td>0.0</td>\n",
              "      <td>0.0</td>\n",
              "      <td>0.0</td>\n",
              "    </tr>\n",
              "    <tr>\n",
              "      <th>217</th>\n",
              "      <td>0.745598</td>\n",
              "      <td>0.682653</td>\n",
              "      <td>0.817947</td>\n",
              "      <td>0.052115</td>\n",
              "      <td>0.868615</td>\n",
              "      <td>0.0</td>\n",
              "      <td>0.0</td>\n",
              "      <td>1.0</td>\n",
              "      <td>0.0</td>\n",
              "      <td>0.0</td>\n",
              "      <td>0.0</td>\n",
              "      <td>0.0</td>\n",
              "      <td>0.0</td>\n",
              "      <td>0.0</td>\n",
              "      <td>0.0</td>\n",
              "      <td>0.0</td>\n",
              "      <td>1.0</td>\n",
              "      <td>0.0</td>\n",
              "      <td>0.0</td>\n",
              "      <td>1.0</td>\n",
              "      <td>0.0</td>\n",
              "      <td>0.0</td>\n",
              "      <td>0.0</td>\n",
              "      <td>1.0</td>\n",
              "      <td>0.0</td>\n",
              "      <td>0.0</td>\n",
              "      <td>0.0</td>\n",
              "      <td>1.0</td>\n",
              "      <td>0.0</td>\n",
              "      <td>1.0</td>\n",
              "    </tr>\n",
              "    <tr>\n",
              "      <th>218</th>\n",
              "      <td>0.331557</td>\n",
              "      <td>0.332005</td>\n",
              "      <td>0.512107</td>\n",
              "      <td>0.203418</td>\n",
              "      <td>0.232858</td>\n",
              "      <td>0.0</td>\n",
              "      <td>0.0</td>\n",
              "      <td>0.0</td>\n",
              "      <td>0.0</td>\n",
              "      <td>1.0</td>\n",
              "      <td>0.0</td>\n",
              "      <td>0.0</td>\n",
              "      <td>0.0</td>\n",
              "      <td>0.0</td>\n",
              "      <td>0.0</td>\n",
              "      <td>0.0</td>\n",
              "      <td>0.0</td>\n",
              "      <td>0.0</td>\n",
              "      <td>0.0</td>\n",
              "      <td>0.0</td>\n",
              "      <td>0.0</td>\n",
              "      <td>1.0</td>\n",
              "      <td>0.0</td>\n",
              "      <td>0.0</td>\n",
              "      <td>0.0</td>\n",
              "      <td>0.0</td>\n",
              "      <td>0.0</td>\n",
              "      <td>0.0</td>\n",
              "      <td>0.0</td>\n",
              "      <td>1.0</td>\n",
              "    </tr>\n",
              "  </tbody>\n",
              "</table>\n",
              "<p>219 rows × 30 columns</p>\n",
              "</div>\n",
              "      <button class=\"colab-df-convert\" onclick=\"convertToInteractive('df-f673378f-36c1-4daa-9b54-d8a1a662d742')\"\n",
              "              title=\"Convert this dataframe to an interactive table.\"\n",
              "              style=\"display:none;\">\n",
              "        \n",
              "  <svg xmlns=\"http://www.w3.org/2000/svg\" height=\"24px\"viewBox=\"0 0 24 24\"\n",
              "       width=\"24px\">\n",
              "    <path d=\"M0 0h24v24H0V0z\" fill=\"none\"/>\n",
              "    <path d=\"M18.56 5.44l.94 2.06.94-2.06 2.06-.94-2.06-.94-.94-2.06-.94 2.06-2.06.94zm-11 1L8.5 8.5l.94-2.06 2.06-.94-2.06-.94L8.5 2.5l-.94 2.06-2.06.94zm10 10l.94 2.06.94-2.06 2.06-.94-2.06-.94-.94-2.06-.94 2.06-2.06.94z\"/><path d=\"M17.41 7.96l-1.37-1.37c-.4-.4-.92-.59-1.43-.59-.52 0-1.04.2-1.43.59L10.3 9.45l-7.72 7.72c-.78.78-.78 2.05 0 2.83L4 21.41c.39.39.9.59 1.41.59.51 0 1.02-.2 1.41-.59l7.78-7.78 2.81-2.81c.8-.78.8-2.07 0-2.86zM5.41 20L4 18.59l7.72-7.72 1.47 1.35L5.41 20z\"/>\n",
              "  </svg>\n",
              "      </button>\n",
              "      \n",
              "  <style>\n",
              "    .colab-df-container {\n",
              "      display:flex;\n",
              "      flex-wrap:wrap;\n",
              "      gap: 12px;\n",
              "    }\n",
              "\n",
              "    .colab-df-convert {\n",
              "      background-color: #E8F0FE;\n",
              "      border: none;\n",
              "      border-radius: 50%;\n",
              "      cursor: pointer;\n",
              "      display: none;\n",
              "      fill: #1967D2;\n",
              "      height: 32px;\n",
              "      padding: 0 0 0 0;\n",
              "      width: 32px;\n",
              "    }\n",
              "\n",
              "    .colab-df-convert:hover {\n",
              "      background-color: #E2EBFA;\n",
              "      box-shadow: 0px 1px 2px rgba(60, 64, 67, 0.3), 0px 1px 3px 1px rgba(60, 64, 67, 0.15);\n",
              "      fill: #174EA6;\n",
              "    }\n",
              "\n",
              "    [theme=dark] .colab-df-convert {\n",
              "      background-color: #3B4455;\n",
              "      fill: #D2E3FC;\n",
              "    }\n",
              "\n",
              "    [theme=dark] .colab-df-convert:hover {\n",
              "      background-color: #434B5C;\n",
              "      box-shadow: 0px 1px 3px 1px rgba(0, 0, 0, 0.15);\n",
              "      filter: drop-shadow(0px 1px 2px rgba(0, 0, 0, 0.3));\n",
              "      fill: #FFFFFF;\n",
              "    }\n",
              "  </style>\n",
              "\n",
              "      <script>\n",
              "        const buttonEl =\n",
              "          document.querySelector('#df-f673378f-36c1-4daa-9b54-d8a1a662d742 button.colab-df-convert');\n",
              "        buttonEl.style.display =\n",
              "          google.colab.kernel.accessAllowed ? 'block' : 'none';\n",
              "\n",
              "        async function convertToInteractive(key) {\n",
              "          const element = document.querySelector('#df-f673378f-36c1-4daa-9b54-d8a1a662d742');\n",
              "          const dataTable =\n",
              "            await google.colab.kernel.invokeFunction('convertToInteractive',\n",
              "                                                     [key], {});\n",
              "          if (!dataTable) return;\n",
              "\n",
              "          const docLinkHtml = 'Like what you see? Visit the ' +\n",
              "            '<a target=\"_blank\" href=https://colab.research.google.com/notebooks/data_table.ipynb>data table notebook</a>'\n",
              "            + ' to learn more about interactive tables.';\n",
              "          element.innerHTML = '';\n",
              "          dataTable['output_type'] = 'display_data';\n",
              "          await google.colab.output.renderOutput(dataTable, element);\n",
              "          const docLink = document.createElement('div');\n",
              "          docLink.innerHTML = docLinkHtml;\n",
              "          element.appendChild(docLink);\n",
              "        }\n",
              "      </script>\n",
              "    </div>\n",
              "  </div>\n",
              "  "
            ]
          },
          "metadata": {},
          "execution_count": 266
        }
      ]
    },
    {
      "cell_type": "code",
      "source": [
        "bike_train_df.columns = bike_train_df.columns.str.replace('numerical__','')\n",
        "bike_train_df.columns = bike_train_df.columns.str.replace('categorical__','')\n",
        "bike_train_df.columns = bike_train_df.columns.str.replace('remainder__','')\n",
        "bike_test_df.columns = bike_test_df.columns.str.replace('numerical__','')\n",
        "bike_test_df.columns = bike_test_df.columns.str.replace('categorical__','')\n",
        "bike_test_df.columns = bike_test_df.columns.str.replace('remainder__','')\n"
      ],
      "metadata": {
        "id": "CPNJvf0CplSb"
      },
      "execution_count": 267,
      "outputs": []
    },
    {
      "cell_type": "code",
      "source": [
        "bike_test_df.columns"
      ],
      "metadata": {
        "colab": {
          "base_uri": "https://localhost:8080/"
        },
        "id": "_nY41spxru4B",
        "outputId": "bc8fe783-7e60-4490-fcc3-3532c917f96a"
      },
      "execution_count": 268,
      "outputs": [
        {
          "output_type": "execute_result",
          "data": {
            "text/plain": [
              "Index(['temp', 'atemp', 'hum', 'windspeed', 'cnt', 'season_2', 'season_3',\n",
              "       'season_4', 'mnth_2', 'mnth_3', 'mnth_4', 'mnth_5', 'mnth_6', 'mnth_7',\n",
              "       'mnth_8', 'mnth_9', 'mnth_10', 'mnth_11', 'mnth_12', 'weathersit_2',\n",
              "       'weathersit_3', 'weekday_1', 'weekday_2', 'weekday_3', 'weekday_4',\n",
              "       'weekday_5', 'weekday_6', 'yr', 'holiday', 'workingday'],\n",
              "      dtype='object')"
            ]
          },
          "metadata": {},
          "execution_count": 268
        }
      ]
    },
    {
      "cell_type": "code",
      "source": [
        "px.imshow(bike_train_df.corr(),text_auto=True,width=1200,height=1200,color_continuous_scale='greens')"
      ],
      "metadata": {
        "colab": {
          "base_uri": "https://localhost:8080/",
          "height": 1000
        },
        "id": "VRuH9TMLIib8",
        "outputId": "f565813e-bab3-4737-9255-5f1d1393eb2d"
      },
      "execution_count": 269,
      "outputs": [
        {
          "output_type": "display_data",
          "data": {
            "text/html": [
              "<html>\n",
              "<head><meta charset=\"utf-8\" /></head>\n",
              "<body>\n",
              "    <div>            <script src=\"https://cdnjs.cloudflare.com/ajax/libs/mathjax/2.7.5/MathJax.js?config=TeX-AMS-MML_SVG\"></script><script type=\"text/javascript\">if (window.MathJax) {MathJax.Hub.Config({SVG: {font: \"STIX-Web\"}});}</script>                <script type=\"text/javascript\">window.PlotlyConfig = {MathJaxConfig: 'local'};</script>\n",
              "        <script src=\"https://cdn.plot.ly/plotly-2.8.3.min.js\"></script>                <div id=\"2e014777-401b-46de-8973-a7e6707751a2\" class=\"plotly-graph-div\" style=\"height:1200px; width:1200px;\"></div>            <script type=\"text/javascript\">                                    window.PLOTLYENV=window.PLOTLYENV || {};                                    if (document.getElementById(\"2e014777-401b-46de-8973-a7e6707751a2\")) {                    Plotly.newPlot(                        \"2e014777-401b-46de-8973-a7e6707751a2\",                        [{\"coloraxis\":\"coloraxis\",\"name\":\"0\",\"texttemplate\":\"%{z}\",\"x\":[\"temp\",\"atemp\",\"hum\",\"windspeed\",\"cnt\",\"season_2\",\"season_3\",\"season_4\",\"mnth_2\",\"mnth_3\",\"mnth_4\",\"mnth_5\",\"mnth_6\",\"mnth_7\",\"mnth_8\",\"mnth_9\",\"mnth_10\",\"mnth_11\",\"mnth_12\",\"weathersit_2\",\"weathersit_3\",\"weekday_1\",\"weekday_2\",\"weekday_3\",\"weekday_4\",\"weekday_5\",\"weekday_6\",\"yr\",\"holiday\",\"workingday\"],\"y\":[\"temp\",\"atemp\",\"hum\",\"windspeed\",\"cnt\",\"season_2\",\"season_3\",\"season_4\",\"mnth_2\",\"mnth_3\",\"mnth_4\",\"mnth_5\",\"mnth_6\",\"mnth_7\",\"mnth_8\",\"mnth_9\",\"mnth_10\",\"mnth_11\",\"mnth_12\",\"weathersit_2\",\"weathersit_3\",\"weekday_1\",\"weekday_2\",\"weekday_3\",\"weekday_4\",\"weekday_5\",\"weekday_6\",\"yr\",\"holiday\",\"workingday\"],\"z\":[[1.0,0.9895370539889047,0.15541509545520527,-0.1873962343481819,0.6435170928988454,0.12558195494944724,0.6975238159540053,-0.23369673612138836,-0.29602143380632856,-0.1796936710657961,-0.05059719253938792,0.1554152924544311,0.30299705399779236,0.41392911988008546,0.3874562300680236,0.2074569010049767,-0.01870888875685955,-0.19476461732982012,-0.2728693196661504,-0.09016058212001561,-0.03609265506614434,-0.03212581316544155,0.04664607234749083,0.029363240101786228,0.002826575775268474,0.015943496922007628,-0.042274334063081925,0.10728779313678544,-0.06628215277097094,0.06778693120609249],[0.9895370539889047,1.0,0.16946136022972536,-0.21528302426036328,0.646475242861109,0.13580590860490657,0.6699790090505625,-0.21111785552100887,-0.2995091363162441,-0.17845779825046493,-0.04023795963999792,0.16192321245491662,0.2951734259728743,0.40710523343206556,0.3600251086026998,0.20615671220280787,-0.00526246367342382,-0.18569663324359567,-0.26186227514694244,-0.08606876646579628,-0.04426552575536956,-0.025143117713083127,0.049469858320906925,0.027900120692472403,0.006331940018188361,0.001590616560643089,-0.043451821926163044,0.10420588704404424,-0.07064000020872588,0.06781084589994801],[0.15541509545520527,0.16946136022972536,1.0,-0.26689462353335924,-0.059993340878855966,-0.013215541928132983,0.04037056537117832,0.17157885851065613,-0.12954416086145834,-0.1107612089394756,-0.1328975452570416,0.1456044474547218,-0.09503310880012253,-0.05383763145416017,0.053184915642864136,0.15262762194874327,0.16201353293323248,0.004909544896760736,0.05783210410587586,0.48104179601223473,0.24503808534252614,0.022612369584546474,0.010123293392276396,0.04718546214930434,-0.0382217396556464,-0.016161378590998404,-0.040521156868469715,-0.08479152408001318,-0.029093040027568937,0.03198949309645529],[-0.1873962343481819,-0.21528302426036328,-0.26689462353335924,1.0,-0.25379383357496016,0.11008875113182472,-0.19468985129780186,-0.09064904104688147,0.13312280431791165,0.14217311975674624,0.18352964118624462,-0.034137027741865854,-0.03501249189352722,-0.08547815856088019,-0.11124262194223251,-0.12173368151475895,-0.018973037185060358,0.009951504530634587,-0.060975084700870194,-0.030385223660673637,0.08689990278864747,-0.004371505226015483,-0.00584904502409877,-0.01956738374870497,-0.004353282754718532,-0.01576365208501755,0.04935588375928627,-0.0011084271876641478,0.017568573699983218,-0.04317595331828375],[0.6435170928988454,0.646475242861109,-0.059993340878855966,-0.25379383357496016,1.0,0.13434261207209924,0.3716056115282059,0.032636063509074456,-0.2702870296868935,-0.137536723461121,0.02299781036844066,0.1130268393740107,0.18782118200308298,0.1578122292471607,0.22722944259382363,0.20132665479530285,0.06569217858903863,-0.04813019820733067,-0.1435984037384074,-0.1755295983174486,-0.226598358498919,-0.009551789031445726,0.03188290378711863,0.025215555312327092,0.009709935820571091,0.024581006387352278,-0.01621492972231205,0.5915080389399792,-0.09596100850177944,0.09231969986231886],[0.12558195494944724,0.13580590860490657,-0.013215541928132983,0.11008875113182472,0.13434261207209924,1.0,-0.3401599025837415,-0.32811577843320955,-0.15228622596829336,0.08806804001737194,0.5119840423045118,0.5325386656449017,0.25493745665160694,-0.16396324003079574,-0.18576856189368987,-0.168472937674116,-0.1750886610826932,-0.17508866108269353,-0.17290216417042256,0.039441845556520076,-0.04523061724891483,0.0016227016382646085,0.021299590046513654,0.03924808848215871,-0.022349507813383733,-0.012731264898089682,-0.01716908902787285,0.013855735634263946,-0.06323239413746556,0.04327442594258332],[0.6975238159540053,0.6699790090505625,0.04037056537117832,-0.19468985129780186,0.3716056115282059,-0.3401599025837415,1.0,-0.34376444018232877,-0.15954913679387855,-0.1968178861181632,-0.17415644195473312,-0.18114830062784554,0.06812724597056043,0.4820181296660344,0.5461212814404446,0.34781103071215164,-0.1834390770440124,-0.1834390770440128,-0.1811483006278457,-0.07488703910360667,-0.024816851772796775,-0.027765572308527737,0.018411721945008407,-0.0034414781370157217,0.02795870055383061,0.039030423439851046,-0.021632639216456303,0.0441017970280155,-0.04001667548739442,0.050975888683684197],[-0.23369673612138836,-0.21111785552100887,0.17157885851065613,-0.09064904104688147,0.032636063509074456,-0.32811577843320955,-0.34376444018232877,1.0,-0.15389994182098563,-0.1898491075012627,-0.16799004258612596,-0.17473433882385944,-0.1633891722109731,-0.1657006925023776,-0.1877370765860311,-0.020174629455968734,0.5336185352583825,0.5336185352583825,0.31481618012963786,0.02312726529608128,0.11444841561681544,0.03578272597284447,-0.009185121701870793,-0.026926209337374583,-0.012449161879973103,-0.04332269189151016,0.01663547632208035,-0.022638122904164396,0.05071174719487935,-0.05729735172035876],[-0.29602143380632856,-0.2995091363162441,-0.12954416086145834,0.13312280431791165,-0.2702870296868935,-0.15228622596829336,-0.15954913679387855,-0.15389994182098563,1.0,-0.08811342210628022,-0.07796811755854519,-0.0810983035732528,-0.07583274574269695,-0.07690557650721551,-0.0871331790385898,-0.07902081219704242,-0.0821238615308647,-0.08212386153086478,-0.08109830357325297,-0.011038105846946492,-3.0991349833036224e-17,-0.0029273635913875484,0.03567997601140919,-0.008602329568208505,-0.03545669300677075,0.015714454084338577,-0.027519301248287397,-0.01991603314314633,0.05652427921405266,-0.016802570317748785],[-0.1796936710657961,-0.17845779825046493,-0.1107612089394756,0.14217311975674624,-0.137536723461121,0.08806804001737194,-0.1968178861181632,-0.1898491075012627,-0.08811342210628022,1.0,-0.09618052714575424,-0.10004188676794584,-0.09354635829146264,-0.09486978935149962,-0.10748643617725087,-0.09747911852418722,-0.10130700266493509,-0.10130700266493511,-0.10004188676794584,-0.0021786358266305487,0.020661013294505464,-0.010111248932430327,-0.011099280204663598,0.0010611729748772458,0.04526030250978878,-0.007366361013804433,0.02286987944248807,-0.005172247934809683,-0.05332115744721606,0.03067662243659725],[-0.05059719253938792,-0.04023795963999792,-0.1328975452570416,0.18352964118624462,0.02299781036844066,0.5119840423045118,-0.17415644195473312,-0.16799004258612596,-0.07796811755854519,-0.09618052714575424,1.0,-0.08852314893517124,-0.08277551008795392,-0.08394656242031175,-0.09511053925142723,-0.0862554556493099,-0.08964260046280186,-0.08964260046280198,-0.08852314893517128,-0.01114503332916416,-0.0076175507417853856,0.019571668205014763,0.016086642392656596,-0.007042428152040022,-0.028606478384531196,-0.0021441462059780944,-0.003952472843154816,0.05377645650633179,-0.0009073423978444699,-0.0009170453444739679],[0.1554152924544311,0.16192321245491662,0.1456044474547218,-0.034137027741865854,0.1130268393740107,0.5325386656449017,-0.18114830062784554,-0.17473433882385944,-0.0810983035732528,-0.10004188676794584,-0.08852314893517124,1.0,-0.08609869849048335,-0.0873167650608146,-0.09892894206963795,-0.08971835342625037,-0.0932414819425298,-0.09324148194252996,-0.09207708779443258,0.07796320610211328,-0.05282248367550957,-0.029410518287250352,0.04911195818042169,0.041906732248474694,-0.015223459041436788,0.010995538968862408,-0.05189613311027818,-0.02593344307325156,-0.049076012600165836,0.059006344744063896],[0.30299705399779236,0.2951734259728743,-0.09503310880012253,-0.03501249189352722,0.18782118200308298,0.25493745665160694,0.06812724597056043,-0.1633891722109731,-0.07583274574269695,-0.09354635829146264,-0.08277551008795392,-0.08609869849048335,1.0,-0.08164745441254095,-0.09250567496500775,-0.08389311223607601,-0.0871874907522992,-0.0871874907522993,-0.08609869849048346,-0.09498313309030776,-0.04939282078131898,0.005479648361814451,-0.04403435566209755,0.040135970459465174,-0.001464369006377374,-0.018878564764207562,0.0023469995980019164,0.01048415628458077,-0.045889600911469444,0.004694365946898612],[0.41392911988008546,0.40710523343206556,-0.05383763145416017,-0.08547815856088019,0.1578122292471607,-0.16396324003079574,0.4820181296660344,-0.1657006925023776,-0.07690557650721551,-0.09486978935149962,-0.08394656242031175,-0.0873167650608146,-0.08164745441254095,1.0,-0.09381438313616851,-0.08507997565314734,-0.08842096082441857,-0.08842096082441854,-0.08731676506081461,-0.11473100440333496,-0.006421999646421648,-0.018304848305113915,0.040985469671897666,-0.04429107016942044,-0.026046122214604634,0.022776126304522755,-0.000839700393936761,0.017623322664595143,-0.04653881616995887,-0.006030319666417602],[0.3874562300680236,0.3600251086026998,0.053184915642864136,-0.11124262194223251,0.22722944259382363,-0.18576856189368987,0.5461212814404446,-0.1877370765860311,-0.0871331790385898,-0.10748643617725087,-0.09511053925142723,-0.09892894206963795,-0.09250567496500775,-0.09381438313616851,1.0,-0.0963946840771553,-0.10017998382152862,-0.10017998382152866,-0.09892894206963798,0.016625145087725217,-0.056753233108061595,-0.02598075194150671,0.011083939065537667,0.003961898275625639,0.009134039036152975,0.035013687297023276,0.00753608177986372,0.05477434502374355,-0.0527279709189954,0.04057541505059283],[0.2074569010049767,0.20615671220280787,0.15262762194874327,-0.12173368151475895,0.20132665479530285,-0.168472937674116,0.34781103071215164,-0.020174629455968734,-0.07902081219704242,-0.09747911852418722,-0.0862554556493099,-0.08971835342625037,-0.08389311223607601,-0.08507997565314734,-0.0963946840771553,1.0,-0.09085291934496922,-0.09085291934496921,-0.08971835342625024,0.04452679284330574,0.03389443856092156,-0.0038309287412417003,-0.008246100281387348,0.02936244867490026,0.03252840827577855,-0.004876214559058223,-0.006995560236907922,0.002573808909045495,0.04369188088393216,0.019495296527094284],[-0.01870888875685955,-0.00526246367342382,0.16201353293323248,-0.018973037185060358,0.06569217858903863,-0.1750886610826932,-0.1834390770440124,0.5336185352583825,-0.0821238615308647,-0.10130700266493509,-0.08964260046280186,-0.0932414819425298,-0.0871874907522992,-0.08842096082441857,-0.10017998382152862,-0.09085291934496922,1.0,-0.09442060085836913,-0.0932414819425298,0.013267744732560356,0.15317725361398293,0.026466559372732117,0.004540037725213944,-0.018881656141537344,-0.05889283825348326,-0.012729334923746033,0.0035575939368958265,-0.01878962343047162,-0.005386696690960298,-0.04127131402065545],[-0.19476461732982012,-0.18569663324359567,0.004909544896760736,0.009951504530634587,-0.04813019820733067,-0.17508866108269353,-0.1834390770440128,0.5336185352583825,-0.08212386153086478,-0.10130700266493511,-0.08964260046280198,-0.09324148194252996,-0.0871874907522993,-0.08842096082441854,-0.10017998382152866,-0.09085291934496921,-0.09442060085836913,1.0,-0.09324148194252994,-0.01615203706572568,0.029176619735996747,0.006960858100920869,0.004540037725213961,0.00022478162073258538,0.0438272284677085,-0.05461295305994248,-0.015744245507964518,-0.018789623430471667,0.12754307648918894,-0.041271314020655384],[-0.2728693196661504,-0.26186227514694244,0.05783210410587586,-0.060975084700870194,-0.1435984037384074,-0.17290216417042256,-0.1811483006278457,0.31481618012963786,-0.08109830357325297,-0.10004188676794584,-0.08852314893517128,-0.09207708779443258,-0.08609869849048346,-0.08731676506081461,-0.09892894206963798,-0.08971835342625024,-0.0932414819425298,-0.09324148194252994,1.0,0.018507153598071768,-0.01105586867626945,0.010009624489353261,-0.05533799458027508,-0.035319766203999015,0.026295065617027144,0.01099553896886247,0.0456242349304066,-0.04004876427640879,-0.004301832947062827,-0.03149962764532731],[-0.09016058212001561,-0.08606876646579628,0.48104179601223473,-0.030385223660673637,-0.1755295983174486,0.039441845556520076,-0.07488703910360667,0.02312726529608128,-0.011038105846946492,-0.0021786358266305487,-0.01114503332916416,0.07796320610211328,-0.09498313309030776,-0.11473100440333496,0.016625145087725217,0.04452679284330574,0.013267744732560356,-0.01615203706572568,0.018507153598071768,1.0,-0.1258170942403119,0.006672541404479206,0.0001198641505570404,0.0023263588954529684,-0.052648409383959364,0.0829301777704881,0.010183985869896267,-0.015469461677931907,-0.0382793869937186,0.04076598721704241],[-0.03609265506614434,-0.04426552575536956,0.24503808534252614,0.08689990278864747,-0.226598358498919,-0.04523061724891483,-0.024816851772796775,0.11444841561681544,-3.0991349833036224e-17,0.020661013294505464,-0.0076175507417853856,-0.05282248367550957,-0.04939282078131898,-0.006421999646421648,-0.056753233108061595,0.03389443856092156,0.15317725361398293,0.029176619735996747,-0.01105586867626945,-0.1258170942403119,1.0,-0.008580176639626666,-0.033344000629082104,0.08311164556236603,0.03413943709994592,-0.06653033387231516,0.021697949063839966,-0.060763991445642235,-0.02815376698510339,0.021158725693862474],[-0.03212581316544155,-0.025143117713083127,0.022612369584546474,-0.004371505226015483,-0.009551789031445726,0.0016227016382646085,-0.027765572308527737,0.03578272597284447,-0.0029273635913875484,-0.010111248932430327,0.019571668205014763,-0.029410518287250352,0.005479648361814451,-0.018304848305113915,-0.02598075194150671,-0.0038309287412417003,0.026466559372732117,0.006960858100920869,0.010009624489353261,0.006672541404479206,-0.008580176639626666,1.0,-0.16399739615272882,-0.18323788812744943,-0.16540351559242067,-0.16116772933019266,-0.18054120009297228,0.0536342841850282,0.27927929341761304,0.17456548846157946],[0.04664607234749083,0.049469858320906925,0.010123293392276396,-0.00584904502409877,0.03188290378711863,0.021299590046513654,0.018411721945008407,-0.009185121701870793,0.03567997601140919,-0.011099280204663598,0.016086642392656596,0.04911195818042169,-0.04403435566209755,0.040985469671897666,0.011083939065537667,-0.008246100281387348,0.004540037725213944,0.004540037725213961,-0.05533799458027508,0.0001198641505570404,-0.033344000629082104,-0.16399739615272882,1.0,-0.1689854846395039,-0.15253828522637233,-0.14863196213093172,-0.16649854736313263,-0.00029594931906583196,-0.06289686801217532,0.2689477793886397],[0.029363240101786228,0.027900120692472403,0.04718546214930434,-0.01956738374870497,0.025215555312327092,0.03924808848215871,-0.0034414781370157217,-0.026926209337374583,-0.008602329568208505,0.0010611729748772458,-0.007042428152040022,0.041906732248474694,0.040135970459465174,-0.04429107016942044,0.003961898275625639,0.02936244867490026,-0.018881656141537344,0.00022478162073258538,-0.035319766203999015,0.0023263588954529684,0.08311164556236603,-0.18323788812744943,-0.1689854846395039,1.0,-0.17043437212523002,-0.16606975164256466,-0.18603247923946306,-0.0014517478529990284,-0.07027605032002304,0.30050125348238],[0.002826575775268474,0.006331940018188361,-0.0382217396556464,-0.004353282754718532,0.009709935820571091,-0.022349507813383733,0.02795870055383061,-0.012449161879973103,-0.03545669300677075,0.04526030250978878,-0.028606478384531196,-0.015223459041436788,-0.001464369006377374,-0.026046122214604634,0.009134039036152975,0.03252840827577855,-0.05889283825348326,0.0438272284677085,0.026295065617027144,-0.052648409383959364,0.03413943709994592,-0.16540351559242067,-0.15253828522637233,-0.17043437212523002,1.0,-0.14990633779917223,-0.16792611176122682,-0.006153420162580223,0.009759407379931527,0.2465943155486975],[0.015943496922007628,0.001590616560643089,-0.016161378590998404,-0.01576365208501755,0.024581006387352278,-0.012731264898089682,0.039030423439851046,-0.04332269189151016,0.015714454084338577,-0.007366361013804433,-0.0021441462059780944,0.010995538968862408,-0.018878564764207562,0.022776126304522755,0.035013687297023276,-0.004876214559058223,-0.012729334923746033,-0.05461295305994248,0.01099553896886247,0.0829301777704881,-0.06653033387231516,-0.16116772933019266,-0.14863196213093172,-0.16606975164256466,-0.14990633779917223,1.0,-0.16362572482736992,-0.011876372274466876,-0.024505200075213937,0.2517388057164506],[-0.042274334063081925,-0.043451821926163044,-0.040521156868469715,0.04935588375928627,-0.01621492972231205,-0.01716908902787285,-0.021632639216456303,0.01663547632208035,-0.027519301248287397,0.02286987944248807,-0.003952472843154816,-0.05189613311027818,0.0023469995980019164,-0.000839700393936761,0.00753608177986372,-0.006995560236907922,0.0035575939368958265,-0.015744245507964518,0.0456242349304066,0.010183985869896267,0.021697949063839966,-0.18054120009297228,-0.16649854736313263,-0.18603247923946306,-0.16792611176122682,-0.16362572482736992,1.0,-0.03381670244523175,-0.06924180687864204,-0.6190738876580796],[0.10728779313678544,0.10420588704404424,-0.08479152408001318,-0.0011084271876641478,0.5915080389399792,0.013855735634263946,0.0441017970280155,-0.022638122904164396,-0.01991603314314633,-0.005172247934809683,0.05377645650633179,-0.02593344307325156,0.01048415628458077,0.017623322664595143,0.05477434502374355,0.002573808909045495,-0.01878962343047162,-0.018789623430471667,-0.04004876427640879,-0.015469461677931907,-0.060763991445642235,0.0536342841850282,-0.00029594931906583196,-0.0014517478529990284,-0.006153420162580223,-0.011876372274466876,-0.03381670244523175,1.0,-0.014979653311168899,0.0318084646575278],[-0.06628215277097094,-0.07064000020872588,-0.029093040027568937,0.017568573699983218,-0.09596100850177944,-0.06323239413746556,-0.04001667548739442,0.05071174719487935,0.05652427921405266,-0.05332115744721606,-0.0009073423978444699,-0.049076012600165836,-0.045889600911469444,-0.04653881616995887,-0.0527279709189954,0.04369188088393216,-0.005386696690960298,0.12754307648918894,-0.004301832947062827,-0.0382793869937186,-0.02815376698510339,0.27927929341761304,-0.06289686801217532,-0.07027605032002304,0.009759407379931527,-0.024505200075213937,-0.06924180687864204,-0.014979653311168899,1.0,-0.23386275266949483],[0.06778693120609249,0.06781084589994801,0.03198949309645529,-0.04317595331828375,0.09231969986231886,0.04327442594258332,0.050975888683684197,-0.05729735172035876,-0.016802570317748785,0.03067662243659725,-0.0009170453444739679,0.059006344744063896,0.004694365946898612,-0.006030319666417602,0.04057541505059283,0.019495296527094284,-0.04127131402065545,-0.041271314020655384,-0.03149962764532731,0.04076598721704241,0.021158725693862474,0.17456548846157946,0.2689477793886397,0.30050125348238,0.2465943155486975,0.2517388057164506,-0.6190738876580796,0.0318084646575278,-0.23386275266949483,1.0]],\"type\":\"heatmap\",\"xaxis\":\"x\",\"yaxis\":\"y\",\"hovertemplate\":\"x: %{x}<br>y: %{y}<br>color: %{z}<extra></extra>\"}],                        {\"template\":{\"data\":{\"bar\":[{\"error_x\":{\"color\":\"#2a3f5f\"},\"error_y\":{\"color\":\"#2a3f5f\"},\"marker\":{\"line\":{\"color\":\"#E5ECF6\",\"width\":0.5},\"pattern\":{\"fillmode\":\"overlay\",\"size\":10,\"solidity\":0.2}},\"type\":\"bar\"}],\"barpolar\":[{\"marker\":{\"line\":{\"color\":\"#E5ECF6\",\"width\":0.5},\"pattern\":{\"fillmode\":\"overlay\",\"size\":10,\"solidity\":0.2}},\"type\":\"barpolar\"}],\"carpet\":[{\"aaxis\":{\"endlinecolor\":\"#2a3f5f\",\"gridcolor\":\"white\",\"linecolor\":\"white\",\"minorgridcolor\":\"white\",\"startlinecolor\":\"#2a3f5f\"},\"baxis\":{\"endlinecolor\":\"#2a3f5f\",\"gridcolor\":\"white\",\"linecolor\":\"white\",\"minorgridcolor\":\"white\",\"startlinecolor\":\"#2a3f5f\"},\"type\":\"carpet\"}],\"choropleth\":[{\"colorbar\":{\"outlinewidth\":0,\"ticks\":\"\"},\"type\":\"choropleth\"}],\"contour\":[{\"colorbar\":{\"outlinewidth\":0,\"ticks\":\"\"},\"colorscale\":[[0.0,\"#0d0887\"],[0.1111111111111111,\"#46039f\"],[0.2222222222222222,\"#7201a8\"],[0.3333333333333333,\"#9c179e\"],[0.4444444444444444,\"#bd3786\"],[0.5555555555555556,\"#d8576b\"],[0.6666666666666666,\"#ed7953\"],[0.7777777777777778,\"#fb9f3a\"],[0.8888888888888888,\"#fdca26\"],[1.0,\"#f0f921\"]],\"type\":\"contour\"}],\"contourcarpet\":[{\"colorbar\":{\"outlinewidth\":0,\"ticks\":\"\"},\"type\":\"contourcarpet\"}],\"heatmap\":[{\"colorbar\":{\"outlinewidth\":0,\"ticks\":\"\"},\"colorscale\":[[0.0,\"#0d0887\"],[0.1111111111111111,\"#46039f\"],[0.2222222222222222,\"#7201a8\"],[0.3333333333333333,\"#9c179e\"],[0.4444444444444444,\"#bd3786\"],[0.5555555555555556,\"#d8576b\"],[0.6666666666666666,\"#ed7953\"],[0.7777777777777778,\"#fb9f3a\"],[0.8888888888888888,\"#fdca26\"],[1.0,\"#f0f921\"]],\"type\":\"heatmap\"}],\"heatmapgl\":[{\"colorbar\":{\"outlinewidth\":0,\"ticks\":\"\"},\"colorscale\":[[0.0,\"#0d0887\"],[0.1111111111111111,\"#46039f\"],[0.2222222222222222,\"#7201a8\"],[0.3333333333333333,\"#9c179e\"],[0.4444444444444444,\"#bd3786\"],[0.5555555555555556,\"#d8576b\"],[0.6666666666666666,\"#ed7953\"],[0.7777777777777778,\"#fb9f3a\"],[0.8888888888888888,\"#fdca26\"],[1.0,\"#f0f921\"]],\"type\":\"heatmapgl\"}],\"histogram\":[{\"marker\":{\"pattern\":{\"fillmode\":\"overlay\",\"size\":10,\"solidity\":0.2}},\"type\":\"histogram\"}],\"histogram2d\":[{\"colorbar\":{\"outlinewidth\":0,\"ticks\":\"\"},\"colorscale\":[[0.0,\"#0d0887\"],[0.1111111111111111,\"#46039f\"],[0.2222222222222222,\"#7201a8\"],[0.3333333333333333,\"#9c179e\"],[0.4444444444444444,\"#bd3786\"],[0.5555555555555556,\"#d8576b\"],[0.6666666666666666,\"#ed7953\"],[0.7777777777777778,\"#fb9f3a\"],[0.8888888888888888,\"#fdca26\"],[1.0,\"#f0f921\"]],\"type\":\"histogram2d\"}],\"histogram2dcontour\":[{\"colorbar\":{\"outlinewidth\":0,\"ticks\":\"\"},\"colorscale\":[[0.0,\"#0d0887\"],[0.1111111111111111,\"#46039f\"],[0.2222222222222222,\"#7201a8\"],[0.3333333333333333,\"#9c179e\"],[0.4444444444444444,\"#bd3786\"],[0.5555555555555556,\"#d8576b\"],[0.6666666666666666,\"#ed7953\"],[0.7777777777777778,\"#fb9f3a\"],[0.8888888888888888,\"#fdca26\"],[1.0,\"#f0f921\"]],\"type\":\"histogram2dcontour\"}],\"mesh3d\":[{\"colorbar\":{\"outlinewidth\":0,\"ticks\":\"\"},\"type\":\"mesh3d\"}],\"parcoords\":[{\"line\":{\"colorbar\":{\"outlinewidth\":0,\"ticks\":\"\"}},\"type\":\"parcoords\"}],\"pie\":[{\"automargin\":true,\"type\":\"pie\"}],\"scatter\":[{\"marker\":{\"colorbar\":{\"outlinewidth\":0,\"ticks\":\"\"}},\"type\":\"scatter\"}],\"scatter3d\":[{\"line\":{\"colorbar\":{\"outlinewidth\":0,\"ticks\":\"\"}},\"marker\":{\"colorbar\":{\"outlinewidth\":0,\"ticks\":\"\"}},\"type\":\"scatter3d\"}],\"scattercarpet\":[{\"marker\":{\"colorbar\":{\"outlinewidth\":0,\"ticks\":\"\"}},\"type\":\"scattercarpet\"}],\"scattergeo\":[{\"marker\":{\"colorbar\":{\"outlinewidth\":0,\"ticks\":\"\"}},\"type\":\"scattergeo\"}],\"scattergl\":[{\"marker\":{\"colorbar\":{\"outlinewidth\":0,\"ticks\":\"\"}},\"type\":\"scattergl\"}],\"scattermapbox\":[{\"marker\":{\"colorbar\":{\"outlinewidth\":0,\"ticks\":\"\"}},\"type\":\"scattermapbox\"}],\"scatterpolar\":[{\"marker\":{\"colorbar\":{\"outlinewidth\":0,\"ticks\":\"\"}},\"type\":\"scatterpolar\"}],\"scatterpolargl\":[{\"marker\":{\"colorbar\":{\"outlinewidth\":0,\"ticks\":\"\"}},\"type\":\"scatterpolargl\"}],\"scatterternary\":[{\"marker\":{\"colorbar\":{\"outlinewidth\":0,\"ticks\":\"\"}},\"type\":\"scatterternary\"}],\"surface\":[{\"colorbar\":{\"outlinewidth\":0,\"ticks\":\"\"},\"colorscale\":[[0.0,\"#0d0887\"],[0.1111111111111111,\"#46039f\"],[0.2222222222222222,\"#7201a8\"],[0.3333333333333333,\"#9c179e\"],[0.4444444444444444,\"#bd3786\"],[0.5555555555555556,\"#d8576b\"],[0.6666666666666666,\"#ed7953\"],[0.7777777777777778,\"#fb9f3a\"],[0.8888888888888888,\"#fdca26\"],[1.0,\"#f0f921\"]],\"type\":\"surface\"}],\"table\":[{\"cells\":{\"fill\":{\"color\":\"#EBF0F8\"},\"line\":{\"color\":\"white\"}},\"header\":{\"fill\":{\"color\":\"#C8D4E3\"},\"line\":{\"color\":\"white\"}},\"type\":\"table\"}]},\"layout\":{\"annotationdefaults\":{\"arrowcolor\":\"#2a3f5f\",\"arrowhead\":0,\"arrowwidth\":1},\"autotypenumbers\":\"strict\",\"coloraxis\":{\"colorbar\":{\"outlinewidth\":0,\"ticks\":\"\"}},\"colorscale\":{\"diverging\":[[0,\"#8e0152\"],[0.1,\"#c51b7d\"],[0.2,\"#de77ae\"],[0.3,\"#f1b6da\"],[0.4,\"#fde0ef\"],[0.5,\"#f7f7f7\"],[0.6,\"#e6f5d0\"],[0.7,\"#b8e186\"],[0.8,\"#7fbc41\"],[0.9,\"#4d9221\"],[1,\"#276419\"]],\"sequential\":[[0.0,\"#0d0887\"],[0.1111111111111111,\"#46039f\"],[0.2222222222222222,\"#7201a8\"],[0.3333333333333333,\"#9c179e\"],[0.4444444444444444,\"#bd3786\"],[0.5555555555555556,\"#d8576b\"],[0.6666666666666666,\"#ed7953\"],[0.7777777777777778,\"#fb9f3a\"],[0.8888888888888888,\"#fdca26\"],[1.0,\"#f0f921\"]],\"sequentialminus\":[[0.0,\"#0d0887\"],[0.1111111111111111,\"#46039f\"],[0.2222222222222222,\"#7201a8\"],[0.3333333333333333,\"#9c179e\"],[0.4444444444444444,\"#bd3786\"],[0.5555555555555556,\"#d8576b\"],[0.6666666666666666,\"#ed7953\"],[0.7777777777777778,\"#fb9f3a\"],[0.8888888888888888,\"#fdca26\"],[1.0,\"#f0f921\"]]},\"colorway\":[\"#636efa\",\"#EF553B\",\"#00cc96\",\"#ab63fa\",\"#FFA15A\",\"#19d3f3\",\"#FF6692\",\"#B6E880\",\"#FF97FF\",\"#FECB52\"],\"font\":{\"color\":\"#2a3f5f\"},\"geo\":{\"bgcolor\":\"white\",\"lakecolor\":\"white\",\"landcolor\":\"#E5ECF6\",\"showlakes\":true,\"showland\":true,\"subunitcolor\":\"white\"},\"hoverlabel\":{\"align\":\"left\"},\"hovermode\":\"closest\",\"mapbox\":{\"style\":\"light\"},\"paper_bgcolor\":\"white\",\"plot_bgcolor\":\"#E5ECF6\",\"polar\":{\"angularaxis\":{\"gridcolor\":\"white\",\"linecolor\":\"white\",\"ticks\":\"\"},\"bgcolor\":\"#E5ECF6\",\"radialaxis\":{\"gridcolor\":\"white\",\"linecolor\":\"white\",\"ticks\":\"\"}},\"scene\":{\"xaxis\":{\"backgroundcolor\":\"#E5ECF6\",\"gridcolor\":\"white\",\"gridwidth\":2,\"linecolor\":\"white\",\"showbackground\":true,\"ticks\":\"\",\"zerolinecolor\":\"white\"},\"yaxis\":{\"backgroundcolor\":\"#E5ECF6\",\"gridcolor\":\"white\",\"gridwidth\":2,\"linecolor\":\"white\",\"showbackground\":true,\"ticks\":\"\",\"zerolinecolor\":\"white\"},\"zaxis\":{\"backgroundcolor\":\"#E5ECF6\",\"gridcolor\":\"white\",\"gridwidth\":2,\"linecolor\":\"white\",\"showbackground\":true,\"ticks\":\"\",\"zerolinecolor\":\"white\"}},\"shapedefaults\":{\"line\":{\"color\":\"#2a3f5f\"}},\"ternary\":{\"aaxis\":{\"gridcolor\":\"white\",\"linecolor\":\"white\",\"ticks\":\"\"},\"baxis\":{\"gridcolor\":\"white\",\"linecolor\":\"white\",\"ticks\":\"\"},\"bgcolor\":\"#E5ECF6\",\"caxis\":{\"gridcolor\":\"white\",\"linecolor\":\"white\",\"ticks\":\"\"}},\"title\":{\"x\":0.05},\"xaxis\":{\"automargin\":true,\"gridcolor\":\"white\",\"linecolor\":\"white\",\"ticks\":\"\",\"title\":{\"standoff\":15},\"zerolinecolor\":\"white\",\"zerolinewidth\":2},\"yaxis\":{\"automargin\":true,\"gridcolor\":\"white\",\"linecolor\":\"white\",\"ticks\":\"\",\"title\":{\"standoff\":15},\"zerolinecolor\":\"white\",\"zerolinewidth\":2}}},\"xaxis\":{\"anchor\":\"y\",\"domain\":[0.0,1.0],\"scaleanchor\":\"y\",\"constrain\":\"domain\"},\"yaxis\":{\"anchor\":\"x\",\"domain\":[0.0,1.0],\"autorange\":\"reversed\",\"constrain\":\"domain\"},\"coloraxis\":{\"colorscale\":[[0.0,\"rgb(247,252,245)\"],[0.125,\"rgb(229,245,224)\"],[0.25,\"rgb(199,233,192)\"],[0.375,\"rgb(161,217,155)\"],[0.5,\"rgb(116,196,118)\"],[0.625,\"rgb(65,171,93)\"],[0.75,\"rgb(35,139,69)\"],[0.875,\"rgb(0,109,44)\"],[1.0,\"rgb(0,68,27)\"]]},\"margin\":{\"t\":60},\"height\":1200,\"width\":1200},                        {\"responsive\": true}                    ).then(function(){\n",
              "                            \n",
              "var gd = document.getElementById('2e014777-401b-46de-8973-a7e6707751a2');\n",
              "var x = new MutationObserver(function (mutations, observer) {{\n",
              "        var display = window.getComputedStyle(gd).display;\n",
              "        if (!display || display === 'none') {{\n",
              "            console.log([gd, 'removed!']);\n",
              "            Plotly.purge(gd);\n",
              "            observer.disconnect();\n",
              "        }}\n",
              "}});\n",
              "\n",
              "// Listen for the removal of the full notebook cells\n",
              "var notebookContainer = gd.closest('#notebook-container');\n",
              "if (notebookContainer) {{\n",
              "    x.observe(notebookContainer, {childList: true});\n",
              "}}\n",
              "\n",
              "// Listen for the clearing of the current output cell\n",
              "var outputEl = gd.closest('.output');\n",
              "if (outputEl) {{\n",
              "    x.observe(outputEl, {childList: true});\n",
              "}}\n",
              "\n",
              "                        })                };                            </script>        </div>\n",
              "</body>\n",
              "</html>"
            ]
          },
          "metadata": {}
        }
      ]
    },
    {
      "cell_type": "markdown",
      "source": [
        "#### Observations\n",
        "\n",
        "*   Temperature and feeling temperature are highly correlated with correlation coefficient of 0.99\n",
        "*   target variable 'cnt' has more correlation to 'atemp', 'yr', 'seanson3', 'month8' and 'month9'. As per my guess these should be highly significant variables. Let's see at end after our model build and evaluation.\n",
        "*   As feeling tempeterature ('atemp')  is correlated with bike rentals we start with this variable first to build a model and drop the 'temp' feature.\n",
        "\n"
      ],
      "metadata": {
        "id": "9gTRHzLTJR6y"
      }
    },
    {
      "cell_type": "code",
      "source": [
        "bike_train_df.drop('temp',axis=1,inplace=True)"
      ],
      "metadata": {
        "id": "2YIYfyYuswBa"
      },
      "execution_count": 270,
      "outputs": []
    },
    {
      "cell_type": "markdown",
      "source": [
        "## Step 5: Building a linear model\n",
        "\n",
        "### I am going to build model Manually and then using Automatic feature selection using RFE (Recursive Feature Elimination)"
      ],
      "metadata": {
        "id": "ckJqTiksJq8L"
      }
    },
    {
      "cell_type": "code",
      "source": [
        "y_train = bike_train_df.pop('cnt')\n",
        "X_train = bike_train_df\n",
        "y_test = bike_test_df.pop('cnt')\n",
        "X_test = bike_test_df\n",
        "X_train_sk = X_train.copy()\n",
        "y_train_sk = y_train.copy()"
      ],
      "metadata": {
        "id": "Thav27W3JsCJ"
      },
      "execution_count": 271,
      "outputs": []
    },
    {
      "cell_type": "markdown",
      "source": [
        "## Manual - Model 1"
      ],
      "metadata": {
        "id": "35x0q74dTq6o"
      }
    },
    {
      "cell_type": "code",
      "source": [
        "def linear_model(x_vars,df):\n",
        "  X_train_lm = sm.add_constant(df[x_vars])\n",
        "  model =  sm.OLS(y_train, X_train_lm).fit()\n",
        "  print(model.summary())\n",
        "  return model\n",
        "\n"
      ],
      "metadata": {
        "id": "t3DZFIiLLAln"
      },
      "execution_count": 272,
      "outputs": []
    },
    {
      "cell_type": "markdown",
      "source": [
        "#### Let's build a linear regression model with one variable 'atemp' first as this has high correlation with dependent variable 'cnt'"
      ],
      "metadata": {
        "id": "6sWaXZYnl9VO"
      }
    },
    {
      "cell_type": "code",
      "source": [
        "lr_atemp = linear_model(['atemp'],X_train)\n"
      ],
      "metadata": {
        "colab": {
          "base_uri": "https://localhost:8080/"
        },
        "id": "eIHPVCgqLSbl",
        "outputId": "a3ea0a7e-7cc1-4dc9-dc09-a7782e1e0cf9"
      },
      "execution_count": 273,
      "outputs": [
        {
          "output_type": "stream",
          "name": "stdout",
          "text": [
            "                            OLS Regression Results                            \n",
            "==============================================================================\n",
            "Dep. Variable:                    cnt   R-squared:                       0.418\n",
            "Model:                            OLS   Adj. R-squared:                  0.417\n",
            "Method:                 Least Squares   F-statistic:                     364.7\n",
            "Date:                Sat, 04 Jun 2022   Prob (F-statistic):           1.10e-61\n",
            "Time:                        22:42:17   Log-Likelihood:                 176.51\n",
            "No. Observations:                 510   AIC:                            -349.0\n",
            "Df Residuals:                     508   BIC:                            -340.5\n",
            "Df Model:                           1                                         \n",
            "Covariance Type:            nonrobust                                         \n",
            "==============================================================================\n",
            "                 coef    std err          t      P>|t|      [0.025      0.975]\n",
            "------------------------------------------------------------------------------\n",
            "const          0.1629      0.020      8.199      0.000       0.124       0.202\n",
            "atemp          0.6836      0.036     19.098      0.000       0.613       0.754\n",
            "==============================================================================\n",
            "Omnibus:                        3.316   Durbin-Watson:                   2.080\n",
            "Prob(Omnibus):                  0.190   Jarque-Bera (JB):                2.842\n",
            "Skew:                           0.090   Prob(JB):                        0.241\n",
            "Kurtosis:                       2.682   Cond. No.                         6.00\n",
            "==============================================================================\n",
            "\n",
            "Warnings:\n",
            "[1] Standard Errors assume that the covariance matrix of the errors is correctly specified.\n"
          ]
        }
      ]
    },
    {
      "cell_type": "markdown",
      "source": [
        "#### Observations.\n",
        "As per model parameters, 'atemp' feature is significant to describe the target variable as it has P-value of 0.000. R-Squared is 0.418 means 41.8% os variance is output variable is described by the 'atemp' feature.\n",
        "\n",
        "\n",
        "Let's add one more variable the second highest correlated feature 'yr' to  our next model"
      ],
      "metadata": {
        "id": "--StqJF1mIpg"
      }
    },
    {
      "cell_type": "markdown",
      "source": [
        "## Manual - Model 2"
      ],
      "metadata": {
        "id": "06rgQkLaT2bi"
      }
    },
    {
      "cell_type": "code",
      "source": [
        "## Add one more variable 'yr'\n",
        "lr3 = linear_model(['atemp','yr'],X_train)"
      ],
      "metadata": {
        "colab": {
          "base_uri": "https://localhost:8080/"
        },
        "id": "GEZnXs4YO8qv",
        "outputId": "806a5e53-53a4-436c-b75d-b16d7567ada0"
      },
      "execution_count": 274,
      "outputs": [
        {
          "output_type": "stream",
          "name": "stdout",
          "text": [
            "                            OLS Regression Results                            \n",
            "==============================================================================\n",
            "Dep. Variable:                    cnt   R-squared:                       0.696\n",
            "Model:                            OLS   Adj. R-squared:                  0.694\n",
            "Method:                 Least Squares   F-statistic:                     579.5\n",
            "Date:                Sat, 04 Jun 2022   Prob (F-statistic):          1.07e-131\n",
            "Time:                        22:42:17   Log-Likelihood:                 341.87\n",
            "No. Observations:                 510   AIC:                            -677.7\n",
            "Df Residuals:                     507   BIC:                            -665.0\n",
            "Df Model:                           2                                         \n",
            "Covariance Type:            nonrobust                                         \n",
            "==============================================================================\n",
            "                 coef    std err          t      P>|t|      [0.025      0.975]\n",
            "------------------------------------------------------------------------------\n",
            "const          0.0721      0.015      4.810      0.000       0.043       0.102\n",
            "atemp          0.6252      0.026     24.001      0.000       0.574       0.676\n",
            "yr             0.2378      0.011     21.511      0.000       0.216       0.260\n",
            "==============================================================================\n",
            "Omnibus:                       38.030   Durbin-Watson:                   2.018\n",
            "Prob(Omnibus):                  0.000   Jarque-Bera (JB):               58.520\n",
            "Skew:                          -0.536   Prob(JB):                     1.96e-13\n",
            "Kurtosis:                       4.266   Cond. No.                         6.69\n",
            "==============================================================================\n",
            "\n",
            "Warnings:\n",
            "[1] Standard Errors assume that the covariance matrix of the errors is correctly specified.\n"
          ]
        }
      ]
    },
    {
      "cell_type": "markdown",
      "source": [
        "#### Observations\n",
        "\n",
        "*   R2 increased from 0.418 to 0.696 which is significant improvement. We can see adjusted R-squared also increased at same rate.\n",
        "*  This is in-line with our correlation matrix that second highest correlation feature to 'cnt' variable is 'yr'.\n",
        "\n",
        "With these two features we can describe that the 69.6% variance in our target variable 'cnt' is contributed by 'atemp' and 'yr'\n",
        "\n",
        "#### Let's add the third highest correlation variable 'season_3' for our next model"
      ],
      "metadata": {
        "id": "rhiqHWl1nrxo"
      }
    },
    {
      "cell_type": "markdown",
      "source": [
        "## Manual - Model 3"
      ],
      "metadata": {
        "id": "MpGvI78iT4zk"
      }
    },
    {
      "cell_type": "code",
      "source": [
        "## Add one more variable 'season_3'\n",
        "lr4 = linear_model(['atemp','yr','season_3'],X_train)"
      ],
      "metadata": {
        "colab": {
          "base_uri": "https://localhost:8080/"
        },
        "id": "epw5moGsPXHi",
        "outputId": "644fa248-3d3d-4930-f312-8c860ba219f8"
      },
      "execution_count": 275,
      "outputs": [
        {
          "output_type": "stream",
          "name": "stdout",
          "text": [
            "                            OLS Regression Results                            \n",
            "==============================================================================\n",
            "Dep. Variable:                    cnt   R-squared:                       0.700\n",
            "Model:                            OLS   Adj. R-squared:                  0.698\n",
            "Method:                 Least Squares   F-statistic:                     393.3\n",
            "Date:                Sat, 04 Jun 2022   Prob (F-statistic):          8.89e-132\n",
            "Time:                        22:42:17   Log-Likelihood:                 345.39\n",
            "No. Observations:                 510   AIC:                            -682.8\n",
            "Df Residuals:                     506   BIC:                            -665.8\n",
            "Df Model:                           3                                         \n",
            "Covariance Type:            nonrobust                                         \n",
            "==============================================================================\n",
            "                 coef    std err          t      P>|t|      [0.025      0.975]\n",
            "------------------------------------------------------------------------------\n",
            "const          0.0525      0.017      3.158      0.002       0.020       0.085\n",
            "atemp          0.6871      0.035     19.705      0.000       0.619       0.756\n",
            "yr             0.2368      0.011     21.533      0.000       0.215       0.258\n",
            "season_3      -0.0444      0.017     -2.650      0.008      -0.077      -0.011\n",
            "==============================================================================\n",
            "Omnibus:                       41.906   Durbin-Watson:                   2.009\n",
            "Prob(Omnibus):                  0.000   Jarque-Bera (JB):               72.622\n",
            "Skew:                          -0.538   Prob(JB):                     1.70e-16\n",
            "Kurtosis:                       4.503   Cond. No.                         9.35\n",
            "==============================================================================\n",
            "\n",
            "Warnings:\n",
            "[1] Standard Errors assume that the covariance matrix of the errors is correctly specified.\n"
          ]
        }
      ]
    },
    {
      "cell_type": "markdown",
      "source": [
        "#### Observations\n",
        "\n",
        "*   There is no siginificant imrovement in our R2-score. I think it should be due to correlation with 'atemp' and 'season3'. \n",
        "\n",
        "#### Let's try to add all variables and then we drop one by one based on P-value and VIF"
      ],
      "metadata": {
        "id": "AS2jA1Rbn5jk"
      }
    },
    {
      "cell_type": "markdown",
      "source": [
        "## Manual - Model 6"
      ],
      "metadata": {
        "id": "7YQKT5aQT6VY"
      }
    },
    {
      "cell_type": "code",
      "source": [
        "### Adding All variables to Model\n",
        "lr_all = linear_model(X_train.columns,X_train)"
      ],
      "metadata": {
        "colab": {
          "base_uri": "https://localhost:8080/"
        },
        "id": "bKG3DBCDQb5q",
        "outputId": "8297b344-a8b4-4a9e-a364-9a15bc07a4e1"
      },
      "execution_count": 276,
      "outputs": [
        {
          "output_type": "stream",
          "name": "stdout",
          "text": [
            "                            OLS Regression Results                            \n",
            "==============================================================================\n",
            "Dep. Variable:                    cnt   R-squared:                       0.851\n",
            "Model:                            OLS   Adj. R-squared:                  0.843\n",
            "Method:                 Least Squares   F-statistic:                     101.9\n",
            "Date:                Sat, 04 Jun 2022   Prob (F-statistic):          4.12e-180\n",
            "Time:                        22:42:17   Log-Likelihood:                 523.84\n",
            "No. Observations:                 510   AIC:                            -991.7\n",
            "Df Residuals:                     482   BIC:                            -873.1\n",
            "Df Model:                          27                                         \n",
            "Covariance Type:            nonrobust                                         \n",
            "================================================================================\n",
            "                   coef    std err          t      P>|t|      [0.025      0.975]\n",
            "--------------------------------------------------------------------------------\n",
            "const            0.1754      0.031      5.729      0.000       0.115       0.236\n",
            "atemp            0.4195      0.045      9.248      0.000       0.330       0.509\n",
            "hum             -0.1456      0.039     -3.758      0.000      -0.222      -0.069\n",
            "windspeed       -0.1686      0.026     -6.506      0.000      -0.219      -0.118\n",
            "season_2         0.0859      0.024      3.614      0.000       0.039       0.133\n",
            "season_3         0.0551      0.030      1.826      0.068      -0.004       0.114\n",
            "season_4         0.1548      0.026      5.924      0.000       0.103       0.206\n",
            "mnth_2           0.0329      0.021      1.588      0.113      -0.008       0.074\n",
            "mnth_3           0.0728      0.022      3.266      0.001       0.029       0.117\n",
            "mnth_4           0.0734      0.034      2.187      0.029       0.007       0.139\n",
            "mnth_5           0.1093      0.036      3.071      0.002       0.039       0.179\n",
            "mnth_6           0.0912      0.038      2.410      0.016       0.017       0.166\n",
            "mnth_7           0.0533      0.043      1.238      0.216      -0.031       0.138\n",
            "mnth_8           0.1103      0.041      2.708      0.007       0.030       0.190\n",
            "mnth_9           0.1649      0.037      4.453      0.000       0.092       0.238\n",
            "mnth_10          0.0812      0.034      2.357      0.019       0.014       0.149\n",
            "mnth_11          0.0258      0.033      0.780      0.436      -0.039       0.091\n",
            "mnth_12          0.0194      0.027      0.727      0.468      -0.033       0.072\n",
            "weathersit_2    -0.0626      0.011     -5.961      0.000      -0.083      -0.042\n",
            "weathersit_3    -0.2546      0.027     -9.566      0.000      -0.307      -0.202\n",
            "weekday_1       -0.0109      0.010     -1.117      0.264      -0.030       0.008\n",
            "weekday_2       -0.0068      0.011     -0.602      0.548      -0.029       0.015\n",
            "weekday_3        0.0073      0.011      0.689      0.491      -0.013       0.028\n",
            "weekday_4        0.0022      0.011      0.199      0.842      -0.019       0.024\n",
            "weekday_5        0.0154      0.011      1.373      0.170      -0.007       0.037\n",
            "weekday_6        0.0547      0.015      3.741      0.000       0.026       0.083\n",
            "yr               0.2342      0.008     28.937      0.000       0.218       0.250\n",
            "holiday         -0.0363      0.024     -1.532      0.126      -0.083       0.010\n",
            "workingday       0.0435      0.009      4.615      0.000       0.025       0.062\n",
            "==============================================================================\n",
            "Omnibus:                       86.243   Durbin-Watson:                   2.041\n",
            "Prob(Omnibus):                  0.000   Jarque-Bera (JB):              262.880\n",
            "Skew:                          -0.790   Prob(JB):                     8.25e-58\n",
            "Kurtosis:                       6.142   Cond. No.                     2.13e+15\n",
            "==============================================================================\n",
            "\n",
            "Warnings:\n",
            "[1] Standard Errors assume that the covariance matrix of the errors is correctly specified.\n",
            "[2] The smallest eigenvalue is 3.51e-28. This might indicate that there are\n",
            "strong multicollinearity problems or that the design matrix is singular.\n"
          ]
        }
      ]
    },
    {
      "cell_type": "markdown",
      "source": [
        "#### Observations\n",
        "\n",
        "*  Weekday_4 has highest P value and so delete this feature and rebuild the model.\n",
        "\n"
      ],
      "metadata": {
        "id": "1_YYI1qqoV8f"
      }
    },
    {
      "cell_type": "code",
      "source": [
        "X_train.drop(['weekday_4'],axis=1,inplace=True)\n"
      ],
      "metadata": {
        "id": "xmf5i4fiQ-oj"
      },
      "execution_count": 277,
      "outputs": []
    },
    {
      "cell_type": "markdown",
      "source": [
        "## Manual - Model 7"
      ],
      "metadata": {
        "id": "IdiTKSjST8f7"
      }
    },
    {
      "cell_type": "code",
      "source": [
        "lr_all = linear_model(X_train.columns,X_train)"
      ],
      "metadata": {
        "colab": {
          "base_uri": "https://localhost:8080/"
        },
        "id": "r29sXYaxRGDa",
        "outputId": "19cc30b4-d083-4490-ab9f-e4708313b6d8"
      },
      "execution_count": 278,
      "outputs": [
        {
          "output_type": "stream",
          "name": "stdout",
          "text": [
            "                            OLS Regression Results                            \n",
            "==============================================================================\n",
            "Dep. Variable:                    cnt   R-squared:                       0.851\n",
            "Model:                            OLS   Adj. R-squared:                  0.843\n",
            "Method:                 Least Squares   F-statistic:                     101.9\n",
            "Date:                Sat, 04 Jun 2022   Prob (F-statistic):          4.12e-180\n",
            "Time:                        22:42:17   Log-Likelihood:                 523.84\n",
            "No. Observations:                 510   AIC:                            -991.7\n",
            "Df Residuals:                     482   BIC:                            -873.1\n",
            "Df Model:                          27                                         \n",
            "Covariance Type:            nonrobust                                         \n",
            "================================================================================\n",
            "                   coef    std err          t      P>|t|      [0.025      0.975]\n",
            "--------------------------------------------------------------------------------\n",
            "const            0.1754      0.031      5.729      0.000       0.115       0.236\n",
            "atemp            0.4195      0.045      9.248      0.000       0.330       0.509\n",
            "hum             -0.1456      0.039     -3.758      0.000      -0.222      -0.069\n",
            "windspeed       -0.1686      0.026     -6.506      0.000      -0.219      -0.118\n",
            "season_2         0.0859      0.024      3.614      0.000       0.039       0.133\n",
            "season_3         0.0551      0.030      1.826      0.068      -0.004       0.114\n",
            "season_4         0.1548      0.026      5.924      0.000       0.103       0.206\n",
            "mnth_2           0.0329      0.021      1.588      0.113      -0.008       0.074\n",
            "mnth_3           0.0728      0.022      3.266      0.001       0.029       0.117\n",
            "mnth_4           0.0734      0.034      2.187      0.029       0.007       0.139\n",
            "mnth_5           0.1093      0.036      3.071      0.002       0.039       0.179\n",
            "mnth_6           0.0912      0.038      2.410      0.016       0.017       0.166\n",
            "mnth_7           0.0533      0.043      1.238      0.216      -0.031       0.138\n",
            "mnth_8           0.1103      0.041      2.708      0.007       0.030       0.190\n",
            "mnth_9           0.1649      0.037      4.453      0.000       0.092       0.238\n",
            "mnth_10          0.0812      0.034      2.357      0.019       0.014       0.149\n",
            "mnth_11          0.0258      0.033      0.780      0.436      -0.039       0.091\n",
            "mnth_12          0.0194      0.027      0.727      0.468      -0.033       0.072\n",
            "weathersit_2    -0.0626      0.011     -5.961      0.000      -0.083      -0.042\n",
            "weathersit_3    -0.2546      0.027     -9.566      0.000      -0.307      -0.202\n",
            "weekday_1       -0.0131      0.015     -0.862      0.389      -0.043       0.017\n",
            "weekday_2       -0.0090      0.016     -0.577      0.564      -0.039       0.022\n",
            "weekday_3        0.0051      0.015      0.345      0.730      -0.024       0.034\n",
            "weekday_5        0.0132      0.016      0.843      0.399      -0.018       0.044\n",
            "weekday_6        0.0547      0.015      3.741      0.000       0.026       0.083\n",
            "yr               0.2342      0.008     28.937      0.000       0.218       0.250\n",
            "holiday         -0.0341      0.030     -1.132      0.258      -0.093       0.025\n",
            "workingday       0.0457      0.015      2.995      0.003       0.016       0.076\n",
            "==============================================================================\n",
            "Omnibus:                       86.243   Durbin-Watson:                   2.041\n",
            "Prob(Omnibus):                  0.000   Jarque-Bera (JB):              262.880\n",
            "Skew:                          -0.790   Prob(JB):                     8.25e-58\n",
            "Kurtosis:                       6.142   Cond. No.                         44.0\n",
            "==============================================================================\n",
            "\n",
            "Warnings:\n",
            "[1] Standard Errors assume that the covariance matrix of the errors is correctly specified.\n"
          ]
        }
      ]
    },
    {
      "cell_type": "markdown",
      "source": [
        "### Observations\n",
        "\n",
        "\n",
        "*   There is no change in R2 even after we drop Weekday4. That means Weekday4 is not significance variable to describe the dependent variable 'cnt'\n",
        "*   Drop next highest P-value feature 'Weekday_3'\n",
        "\n"
      ],
      "metadata": {
        "id": "2IP4IzYQp6Ub"
      }
    },
    {
      "cell_type": "markdown",
      "source": [
        "## Manual - Model 8"
      ],
      "metadata": {
        "id": "xWe8sCyQT-4O"
      }
    },
    {
      "cell_type": "code",
      "source": [
        "X_train.drop(['weekday_3'],axis=1,inplace=True)\n",
        "lr_all = linear_model(X_train.columns,X_train)"
      ],
      "metadata": {
        "colab": {
          "base_uri": "https://localhost:8080/"
        },
        "id": "epgsZF3zROLn",
        "outputId": "eb16375b-e577-43f0-ea58-6188b39650a5"
      },
      "execution_count": 279,
      "outputs": [
        {
          "output_type": "stream",
          "name": "stdout",
          "text": [
            "                            OLS Regression Results                            \n",
            "==============================================================================\n",
            "Dep. Variable:                    cnt   R-squared:                       0.851\n",
            "Model:                            OLS   Adj. R-squared:                  0.843\n",
            "Method:                 Least Squares   F-statistic:                     106.0\n",
            "Date:                Sat, 04 Jun 2022   Prob (F-statistic):          4.20e-181\n",
            "Time:                        22:42:17   Log-Likelihood:                 523.78\n",
            "No. Observations:                 510   AIC:                            -993.6\n",
            "Df Residuals:                     483   BIC:                            -879.2\n",
            "Df Model:                          26                                         \n",
            "Covariance Type:            nonrobust                                         \n",
            "================================================================================\n",
            "                   coef    std err          t      P>|t|      [0.025      0.975]\n",
            "--------------------------------------------------------------------------------\n",
            "const            0.1752      0.031      5.728      0.000       0.115       0.235\n",
            "atemp            0.4192      0.045      9.251      0.000       0.330       0.508\n",
            "hum             -0.1451      0.039     -3.751      0.000      -0.221      -0.069\n",
            "windspeed       -0.1686      0.026     -6.514      0.000      -0.219      -0.118\n",
            "season_2         0.0857      0.024      3.612      0.000       0.039       0.132\n",
            "season_3         0.0547      0.030      1.817      0.070      -0.004       0.114\n",
            "season_4         0.1548      0.026      5.929      0.000       0.104       0.206\n",
            "mnth_2           0.0331      0.021      1.597      0.111      -0.008       0.074\n",
            "mnth_3           0.0728      0.022      3.268      0.001       0.029       0.117\n",
            "mnth_4           0.0737      0.034      2.199      0.028       0.008       0.140\n",
            "mnth_5           0.1097      0.036      3.087      0.002       0.040       0.179\n",
            "mnth_6           0.0918      0.038      2.428      0.016       0.018       0.166\n",
            "mnth_7           0.0538      0.043      1.252      0.211      -0.031       0.138\n",
            "mnth_8           0.1108      0.041      2.723      0.007       0.031       0.191\n",
            "mnth_9           0.1652      0.037      4.469      0.000       0.093       0.238\n",
            "mnth_10          0.0814      0.034      2.364      0.018       0.014       0.149\n",
            "mnth_11          0.0257      0.033      0.779      0.437      -0.039       0.091\n",
            "mnth_12          0.0192      0.027      0.721      0.471      -0.033       0.072\n",
            "weathersit_2    -0.0626      0.010     -5.963      0.000      -0.083      -0.042\n",
            "weathersit_3    -0.2544      0.027     -9.570      0.000      -0.307      -0.202\n",
            "weekday_1       -0.0159      0.013     -1.221      0.223      -0.041       0.010\n",
            "weekday_2       -0.0117      0.013     -0.887      0.376      -0.038       0.014\n",
            "weekday_5        0.0104      0.013      0.777      0.437      -0.016       0.037\n",
            "weekday_6        0.0547      0.015      3.746      0.000       0.026       0.083\n",
            "yr               0.2342      0.008     28.967      0.000       0.218       0.250\n",
            "holiday         -0.0317      0.029     -1.082      0.280      -0.089       0.026\n",
            "workingday       0.0485      0.013      3.754      0.000       0.023       0.074\n",
            "==============================================================================\n",
            "Omnibus:                       86.767   Durbin-Watson:                   2.040\n",
            "Prob(Omnibus):                  0.000   Jarque-Bera (JB):              265.342\n",
            "Skew:                          -0.794   Prob(JB):                     2.41e-58\n",
            "Kurtosis:                       6.157   Cond. No.                         43.8\n",
            "==============================================================================\n",
            "\n",
            "Warnings:\n",
            "[1] Standard Errors assume that the covariance matrix of the errors is correctly specified.\n"
          ]
        }
      ]
    },
    {
      "cell_type": "markdown",
      "source": [
        "#### Observations\n",
        "\n",
        "*   R2- still same and F-Static got increased and that means overall model is good compared to previous model.\n",
        "*   Drop the highest p-value column 'mnth_12'\n",
        "\n",
        "\n",
        "\n"
      ],
      "metadata": {
        "id": "Syrxco51qV_c"
      }
    },
    {
      "cell_type": "markdown",
      "source": [
        "## Manual - Model 9"
      ],
      "metadata": {
        "id": "hG3CZlkUUAak"
      }
    },
    {
      "cell_type": "code",
      "source": [
        "X_train.drop(['mnth_12'],axis=1,inplace=True)\n",
        "lr_all = linear_model(X_train.columns,X_train)"
      ],
      "metadata": {
        "colab": {
          "base_uri": "https://localhost:8080/"
        },
        "id": "7uBbE_vZRXqF",
        "outputId": "caff3225-9f21-408e-f76f-8452a4b0bf5b"
      },
      "execution_count": 280,
      "outputs": [
        {
          "output_type": "stream",
          "name": "stdout",
          "text": [
            "                            OLS Regression Results                            \n",
            "==============================================================================\n",
            "Dep. Variable:                    cnt   R-squared:                       0.851\n",
            "Model:                            OLS   Adj. R-squared:                  0.843\n",
            "Method:                 Least Squares   F-statistic:                     110.3\n",
            "Date:                Sat, 04 Jun 2022   Prob (F-statistic):          5.12e-182\n",
            "Time:                        22:42:17   Log-Likelihood:                 523.50\n",
            "No. Observations:                 510   AIC:                            -995.0\n",
            "Df Residuals:                     484   BIC:                            -884.9\n",
            "Df Model:                          25                                         \n",
            "Covariance Type:            nonrobust                                         \n",
            "================================================================================\n",
            "                   coef    std err          t      P>|t|      [0.025      0.975]\n",
            "--------------------------------------------------------------------------------\n",
            "const            0.1783      0.030      5.890      0.000       0.119       0.238\n",
            "atemp            0.4243      0.045      9.484      0.000       0.336       0.512\n",
            "hum             -0.1442      0.039     -3.732      0.000      -0.220      -0.068\n",
            "windspeed       -0.1672      0.026     -6.482      0.000      -0.218      -0.117\n",
            "season_2         0.0890      0.023      3.819      0.000       0.043       0.135\n",
            "season_3         0.0618      0.028      2.172      0.030       0.006       0.118\n",
            "season_4         0.1674      0.019      8.629      0.000       0.129       0.206\n",
            "mnth_2           0.0279      0.019      1.436      0.152      -0.010       0.066\n",
            "mnth_3           0.0658      0.020      3.284      0.001       0.026       0.105\n",
            "mnth_4           0.0642      0.031      2.084      0.038       0.004       0.125\n",
            "mnth_5           0.0995      0.033      3.052      0.002       0.035       0.164\n",
            "mnth_6           0.0797      0.034      2.354      0.019       0.013       0.146\n",
            "mnth_7           0.0389      0.038      1.033      0.302      -0.035       0.113\n",
            "mnth_8           0.0963      0.035      2.725      0.007       0.027       0.166\n",
            "mnth_9           0.1499      0.030      4.962      0.000       0.091       0.209\n",
            "mnth_10          0.0624      0.022      2.815      0.005       0.019       0.106\n",
            "mnth_11          0.0073      0.021      0.350      0.727      -0.034       0.049\n",
            "weathersit_2    -0.0629      0.010     -6.003      0.000      -0.083      -0.042\n",
            "weathersit_3    -0.2545      0.027     -9.579      0.000      -0.307      -0.202\n",
            "weekday_1       -0.0161      0.013     -1.244      0.214      -0.042       0.009\n",
            "weekday_2       -0.0120      0.013     -0.908      0.364      -0.038       0.014\n",
            "weekday_5        0.0105      0.013      0.785      0.433      -0.016       0.037\n",
            "weekday_6        0.0548      0.015      3.755      0.000       0.026       0.083\n",
            "yr               0.2339      0.008     28.987      0.000       0.218       0.250\n",
            "holiday         -0.0313      0.029     -1.067      0.287      -0.089       0.026\n",
            "workingday       0.0484      0.013      3.750      0.000       0.023       0.074\n",
            "==============================================================================\n",
            "Omnibus:                       86.088   Durbin-Watson:                   2.034\n",
            "Prob(Omnibus):                  0.000   Jarque-Bera (JB):              262.502\n",
            "Skew:                          -0.789   Prob(JB):                     9.96e-58\n",
            "Kurtosis:                       6.141   Cond. No.                         35.8\n",
            "==============================================================================\n",
            "\n",
            "Warnings:\n",
            "[1] Standard Errors assume that the covariance matrix of the errors is correctly specified.\n"
          ]
        }
      ]
    },
    {
      "cell_type": "markdown",
      "source": [
        "Lets drop the variables one by one and rebuild model and keep delete until we have features which P-values are less than significance level 0.05"
      ],
      "metadata": {
        "id": "eUHZc3q9rQnR"
      }
    },
    {
      "cell_type": "markdown",
      "source": [
        "## Manual - Model 10"
      ],
      "metadata": {
        "id": "yW1kvCzRUB5W"
      }
    },
    {
      "cell_type": "code",
      "source": [
        "X_train.drop(['mnth_11'],axis=1,inplace=True) \n",
        "lr_all = linear_model(X_train.columns,X_train)"
      ],
      "metadata": {
        "colab": {
          "base_uri": "https://localhost:8080/"
        },
        "id": "wvrXtIFVRfAr",
        "outputId": "b1f7471a-18f0-4ad3-8927-22449a388d44"
      },
      "execution_count": 281,
      "outputs": [
        {
          "output_type": "stream",
          "name": "stdout",
          "text": [
            "                            OLS Regression Results                            \n",
            "==============================================================================\n",
            "Dep. Variable:                    cnt   R-squared:                       0.851\n",
            "Model:                            OLS   Adj. R-squared:                  0.843\n",
            "Method:                 Least Squares   F-statistic:                     115.1\n",
            "Date:                Sat, 04 Jun 2022   Prob (F-statistic):          5.01e-183\n",
            "Time:                        22:42:17   Log-Likelihood:                 523.44\n",
            "No. Observations:                 510   AIC:                            -996.9\n",
            "Df Residuals:                     485   BIC:                            -891.0\n",
            "Df Model:                          24                                         \n",
            "Covariance Type:            nonrobust                                         \n",
            "================================================================================\n",
            "                   coef    std err          t      P>|t|      [0.025      0.975]\n",
            "--------------------------------------------------------------------------------\n",
            "const            0.1783      0.030      5.897      0.000       0.119       0.238\n",
            "atemp            0.4261      0.044      9.598      0.000       0.339       0.513\n",
            "hum             -0.1450      0.039     -3.763      0.000      -0.221      -0.069\n",
            "windspeed       -0.1664      0.026     -6.482      0.000      -0.217      -0.116\n",
            "season_2         0.0900      0.023      3.896      0.000       0.045       0.135\n",
            "season_3         0.0639      0.028      2.300      0.022       0.009       0.118\n",
            "season_4         0.1713      0.016     10.707      0.000       0.140       0.203\n",
            "mnth_2           0.0275      0.019      1.420      0.156      -0.011       0.065\n",
            "mnth_3           0.0649      0.020      3.269      0.001       0.026       0.104\n",
            "mnth_4           0.0625      0.030      2.057      0.040       0.003       0.122\n",
            "mnth_5           0.0977      0.032      3.038      0.003       0.035       0.161\n",
            "mnth_6           0.0772      0.033      2.334      0.020       0.012       0.142\n",
            "mnth_7           0.0357      0.036      0.978      0.329      -0.036       0.107\n",
            "mnth_8           0.0932      0.034      2.726      0.007       0.026       0.160\n",
            "mnth_9           0.1466      0.029      5.115      0.000       0.090       0.203\n",
            "mnth_10          0.0580      0.018      3.191      0.002       0.022       0.094\n",
            "weathersit_2    -0.0628      0.010     -6.002      0.000      -0.083      -0.042\n",
            "weathersit_3    -0.2542      0.027     -9.582      0.000      -0.306      -0.202\n",
            "weekday_1       -0.0164      0.013     -1.265      0.206      -0.042       0.009\n",
            "weekday_2       -0.0120      0.013     -0.907      0.365      -0.038       0.014\n",
            "weekday_5        0.0103      0.013      0.772      0.441      -0.016       0.037\n",
            "weekday_6        0.0546      0.015      3.747      0.000       0.026       0.083\n",
            "yr               0.2338      0.008     29.012      0.000       0.218       0.250\n",
            "holiday         -0.0302      0.029     -1.038      0.300      -0.087       0.027\n",
            "workingday       0.0484      0.013      3.750      0.000       0.023       0.074\n",
            "==============================================================================\n",
            "Omnibus:                       85.277   Durbin-Watson:                   2.033\n",
            "Prob(Omnibus):                  0.000   Jarque-Bera (JB):              259.078\n",
            "Skew:                          -0.783   Prob(JB):                     5.52e-57\n",
            "Kurtosis:                       6.121   Cond. No.                         34.5\n",
            "==============================================================================\n",
            "\n",
            "Warnings:\n",
            "[1] Standard Errors assume that the covariance matrix of the errors is correctly specified.\n"
          ]
        }
      ]
    },
    {
      "cell_type": "markdown",
      "source": [
        "## Manual - Model 11"
      ],
      "metadata": {
        "id": "bxgsliDxUDjo"
      }
    },
    {
      "cell_type": "code",
      "source": [
        "X_train.drop(['weekday_5'],axis=1,inplace=True)\n",
        "lr_all = linear_model(X_train.columns,X_train)"
      ],
      "metadata": {
        "colab": {
          "base_uri": "https://localhost:8080/"
        },
        "id": "wHHL_mxARiXy",
        "outputId": "035cd971-b655-45cd-e571-ebe453d29f4b"
      },
      "execution_count": 282,
      "outputs": [
        {
          "output_type": "stream",
          "name": "stdout",
          "text": [
            "                            OLS Regression Results                            \n",
            "==============================================================================\n",
            "Dep. Variable:                    cnt   R-squared:                       0.850\n",
            "Model:                            OLS   Adj. R-squared:                  0.843\n",
            "Method:                 Least Squares   F-statistic:                     120.2\n",
            "Date:                Sat, 04 Jun 2022   Prob (F-statistic):          6.07e-184\n",
            "Time:                        22:42:17   Log-Likelihood:                 523.13\n",
            "No. Observations:                 510   AIC:                            -998.3\n",
            "Df Residuals:                     486   BIC:                            -896.6\n",
            "Df Model:                          23                                         \n",
            "Covariance Type:            nonrobust                                         \n",
            "================================================================================\n",
            "                   coef    std err          t      P>|t|      [0.025      0.975]\n",
            "--------------------------------------------------------------------------------\n",
            "const            0.1789      0.030      5.922      0.000       0.120       0.238\n",
            "atemp            0.4244      0.044      9.576      0.000       0.337       0.512\n",
            "hum             -0.1457      0.039     -3.783      0.000      -0.221      -0.070\n",
            "windspeed       -0.1666      0.026     -6.491      0.000      -0.217      -0.116\n",
            "season_2         0.0897      0.023      3.886      0.000       0.044       0.135\n",
            "season_3         0.0639      0.028      2.302      0.022       0.009       0.118\n",
            "season_4         0.1713      0.016     10.715      0.000       0.140       0.203\n",
            "mnth_2           0.0279      0.019      1.444      0.149      -0.010       0.066\n",
            "mnth_3           0.0651      0.020      3.283      0.001       0.026       0.104\n",
            "mnth_4           0.0634      0.030      2.087      0.037       0.004       0.123\n",
            "mnth_5           0.0986      0.032      3.069      0.002       0.035       0.162\n",
            "mnth_6           0.0780      0.033      2.359      0.019       0.013       0.143\n",
            "mnth_7           0.0372      0.036      1.023      0.307      -0.034       0.109\n",
            "mnth_8           0.0943      0.034      2.761      0.006       0.027       0.161\n",
            "mnth_9           0.1471      0.029      5.136      0.000       0.091       0.203\n",
            "mnth_10          0.0588      0.018      3.243      0.001       0.023       0.094\n",
            "weathersit_2    -0.0622      0.010     -5.964      0.000      -0.083      -0.042\n",
            "weathersit_3    -0.2556      0.026     -9.668      0.000      -0.308      -0.204\n",
            "weekday_1       -0.0196      0.012     -1.594      0.111      -0.044       0.005\n",
            "weekday_2       -0.0152      0.013     -1.212      0.226      -0.040       0.009\n",
            "weekday_6        0.0546      0.015      3.750      0.000       0.026       0.083\n",
            "yr               0.2338      0.008     29.018      0.000       0.218       0.250\n",
            "holiday         -0.0268      0.029     -0.932      0.352      -0.083       0.030\n",
            "workingday       0.0516      0.012      4.223      0.000       0.028       0.076\n",
            "==============================================================================\n",
            "Omnibus:                       84.608   Durbin-Watson:                   2.025\n",
            "Prob(Omnibus):                  0.000   Jarque-Bera (JB):              259.503\n",
            "Skew:                          -0.773   Prob(JB):                     4.46e-57\n",
            "Kurtosis:                       6.134   Cond. No.                         34.4\n",
            "==============================================================================\n",
            "\n",
            "Warnings:\n",
            "[1] Standard Errors assume that the covariance matrix of the errors is correctly specified.\n"
          ]
        }
      ]
    },
    {
      "cell_type": "markdown",
      "source": [
        "## Manual - Model 12"
      ],
      "metadata": {
        "id": "MXNyvMtTUFAL"
      }
    },
    {
      "cell_type": "code",
      "source": [
        "X_train.drop(['holiday'],axis=1,inplace=True)\n",
        "lr_all = linear_model(X_train.columns,X_train)"
      ],
      "metadata": {
        "colab": {
          "base_uri": "https://localhost:8080/"
        },
        "id": "FvaEaEEORoil",
        "outputId": "5b5f4449-bb63-41cd-fa95-e9e522e13dd0"
      },
      "execution_count": 283,
      "outputs": [
        {
          "output_type": "stream",
          "name": "stdout",
          "text": [
            "                            OLS Regression Results                            \n",
            "==============================================================================\n",
            "Dep. Variable:                    cnt   R-squared:                       0.850\n",
            "Model:                            OLS   Adj. R-squared:                  0.843\n",
            "Method:                 Least Squares   F-statistic:                     125.7\n",
            "Date:                Sat, 04 Jun 2022   Prob (F-statistic):          8.23e-185\n",
            "Time:                        22:42:17   Log-Likelihood:                 522.67\n",
            "No. Observations:                 510   AIC:                            -999.3\n",
            "Df Residuals:                     487   BIC:                            -901.9\n",
            "Df Model:                          22                                         \n",
            "Covariance Type:            nonrobust                                         \n",
            "================================================================================\n",
            "                   coef    std err          t      P>|t|      [0.025      0.975]\n",
            "--------------------------------------------------------------------------------\n",
            "const            0.1743      0.030      5.849      0.000       0.116       0.233\n",
            "atemp            0.4212      0.044      9.533      0.000       0.334       0.508\n",
            "hum             -0.1440      0.038     -3.742      0.000      -0.220      -0.068\n",
            "windspeed       -0.1668      0.026     -6.499      0.000      -0.217      -0.116\n",
            "season_2         0.0893      0.023      3.871      0.000       0.044       0.135\n",
            "season_3         0.0634      0.028      2.283      0.023       0.009       0.118\n",
            "season_4         0.1718      0.016     10.753      0.000       0.140       0.203\n",
            "mnth_2           0.0282      0.019      1.459      0.145      -0.010       0.066\n",
            "mnth_3           0.0669      0.020      3.384      0.001       0.028       0.106\n",
            "mnth_4           0.0654      0.030      2.160      0.031       0.006       0.125\n",
            "mnth_5           0.1012      0.032      3.160      0.002       0.038       0.164\n",
            "mnth_6           0.0813      0.033      2.474      0.014       0.017       0.146\n",
            "mnth_7           0.0409      0.036      1.132      0.258      -0.030       0.112\n",
            "mnth_8           0.0973      0.034      2.862      0.004       0.030       0.164\n",
            "mnth_9           0.1485      0.029      5.192      0.000       0.092       0.205\n",
            "mnth_10          0.0601      0.018      3.329      0.001       0.025       0.096\n",
            "weathersit_2    -0.0623      0.010     -5.968      0.000      -0.083      -0.042\n",
            "weathersit_3    -0.2559      0.026     -9.677      0.000      -0.308      -0.204\n",
            "weekday_1       -0.0234      0.012     -2.023      0.044      -0.046      -0.001\n",
            "weekday_2       -0.0161      0.012     -1.292      0.197      -0.041       0.008\n",
            "weekday_6        0.0582      0.014      4.140      0.000       0.031       0.086\n",
            "yr               0.2340      0.008     29.080      0.000       0.218       0.250\n",
            "workingday       0.0560      0.011      4.993      0.000       0.034       0.078\n",
            "==============================================================================\n",
            "Omnibus:                       88.714   Durbin-Watson:                   2.018\n",
            "Prob(Omnibus):                  0.000   Jarque-Bera (JB):              278.413\n",
            "Skew:                          -0.804   Prob(JB):                     3.49e-61\n",
            "Kurtosis:                       6.243   Cond. No.                         34.1\n",
            "==============================================================================\n",
            "\n",
            "Warnings:\n",
            "[1] Standard Errors assume that the covariance matrix of the errors is correctly specified.\n"
          ]
        }
      ]
    },
    {
      "cell_type": "markdown",
      "source": [
        "## Manual - Model 13"
      ],
      "metadata": {
        "id": "Kg2yMDn-UGYe"
      }
    },
    {
      "cell_type": "code",
      "source": [
        "X_train.drop(['mnth_7'],axis=1,inplace=True)\n",
        "lr_all = linear_model(X_train.columns,X_train)"
      ],
      "metadata": {
        "colab": {
          "base_uri": "https://localhost:8080/"
        },
        "id": "Nd01hkQxR1Uc",
        "outputId": "ce3a31cd-fea2-4867-ddc3-129054c08ae6"
      },
      "execution_count": 284,
      "outputs": [
        {
          "output_type": "stream",
          "name": "stdout",
          "text": [
            "                            OLS Regression Results                            \n",
            "==============================================================================\n",
            "Dep. Variable:                    cnt   R-squared:                       0.850\n",
            "Model:                            OLS   Adj. R-squared:                  0.843\n",
            "Method:                 Least Squares   F-statistic:                     131.5\n",
            "Date:                Sat, 04 Jun 2022   Prob (F-statistic):          1.34e-185\n",
            "Time:                        22:42:17   Log-Likelihood:                 522.00\n",
            "No. Observations:                 510   AIC:                            -1000.\n",
            "Df Residuals:                     488   BIC:                            -906.8\n",
            "Df Model:                          21                                         \n",
            "Covariance Type:            nonrobust                                         \n",
            "================================================================================\n",
            "                   coef    std err          t      P>|t|      [0.025      0.975]\n",
            "--------------------------------------------------------------------------------\n",
            "const            0.1735      0.030      5.822      0.000       0.115       0.232\n",
            "atemp            0.4482      0.037     12.041      0.000       0.375       0.521\n",
            "hum             -0.1499      0.038     -3.934      0.000      -0.225      -0.075\n",
            "windspeed       -0.1669      0.026     -6.504      0.000      -0.217      -0.117\n",
            "season_2         0.0978      0.022      4.484      0.000       0.055       0.141\n",
            "season_3         0.0807      0.023      3.485      0.001       0.035       0.126\n",
            "season_4         0.1687      0.016     10.714      0.000       0.138       0.200\n",
            "mnth_2           0.0250      0.019      1.309      0.191      -0.013       0.063\n",
            "mnth_3           0.0574      0.018      3.205      0.001       0.022       0.093\n",
            "mnth_4           0.0482      0.026      1.841      0.066      -0.003       0.100\n",
            "mnth_5           0.0808      0.026      3.051      0.002       0.029       0.133\n",
            "mnth_6           0.0543      0.023      2.402      0.017       0.010       0.099\n",
            "mnth_8           0.0647      0.018      3.586      0.000       0.029       0.100\n",
            "mnth_9           0.1228      0.017      7.027      0.000       0.088       0.157\n",
            "mnth_10          0.0545      0.017      3.137      0.002       0.020       0.089\n",
            "weathersit_2    -0.0615      0.010     -5.908      0.000      -0.082      -0.041\n",
            "weathersit_3    -0.2544      0.026     -9.631      0.000      -0.306      -0.202\n",
            "weekday_1       -0.0234      0.012     -2.025      0.043      -0.046      -0.001\n",
            "weekday_2       -0.0159      0.012     -1.270      0.205      -0.040       0.009\n",
            "weekday_6        0.0587      0.014      4.177      0.000       0.031       0.086\n",
            "yr               0.2336      0.008     29.050      0.000       0.218       0.249\n",
            "workingday       0.0559      0.011      4.977      0.000       0.034       0.078\n",
            "==============================================================================\n",
            "Omnibus:                       86.245   Durbin-Watson:                   2.015\n",
            "Prob(Omnibus):                  0.000   Jarque-Bera (JB):              266.651\n",
            "Skew:                          -0.786   Prob(JB):                     1.25e-58\n",
            "Kurtosis:                       6.175   Cond. No.                         22.5\n",
            "==============================================================================\n",
            "\n",
            "Warnings:\n",
            "[1] Standard Errors assume that the covariance matrix of the errors is correctly specified.\n"
          ]
        }
      ]
    },
    {
      "cell_type": "markdown",
      "source": [
        "## Manual - Model 14"
      ],
      "metadata": {
        "id": "zbEXIudwUHop"
      }
    },
    {
      "cell_type": "code",
      "source": [
        "X_train.drop(['weekday_2'],axis=1,inplace=True)\n",
        "lr_all = linear_model(X_train.columns,X_train)"
      ],
      "metadata": {
        "colab": {
          "base_uri": "https://localhost:8080/"
        },
        "id": "8BivCJU0SAgc",
        "outputId": "aaae36ed-52fa-4fb7-e2b1-a124fd9039e5"
      },
      "execution_count": 285,
      "outputs": [
        {
          "output_type": "stream",
          "name": "stdout",
          "text": [
            "                            OLS Regression Results                            \n",
            "==============================================================================\n",
            "Dep. Variable:                    cnt   R-squared:                       0.849\n",
            "Model:                            OLS   Adj. R-squared:                  0.843\n",
            "Method:                 Least Squares   F-statistic:                     137.8\n",
            "Date:                Sat, 04 Jun 2022   Prob (F-statistic):          2.50e-186\n",
            "Time:                        22:42:17   Log-Likelihood:                 521.16\n",
            "No. Observations:                 510   AIC:                            -1000.\n",
            "Df Residuals:                     489   BIC:                            -911.4\n",
            "Df Model:                          20                                         \n",
            "Covariance Type:            nonrobust                                         \n",
            "================================================================================\n",
            "                   coef    std err          t      P>|t|      [0.025      0.975]\n",
            "--------------------------------------------------------------------------------\n",
            "const            0.1749      0.030      5.869      0.000       0.116       0.233\n",
            "atemp            0.4466      0.037     11.998      0.000       0.373       0.520\n",
            "hum             -0.1510      0.038     -3.959      0.000      -0.226      -0.076\n",
            "windspeed       -0.1675      0.026     -6.522      0.000      -0.218      -0.117\n",
            "season_2         0.0975      0.022      4.466      0.000       0.055       0.140\n",
            "season_3         0.0804      0.023      3.470      0.001       0.035       0.126\n",
            "season_4         0.1682      0.016     10.680      0.000       0.137       0.199\n",
            "mnth_2           0.0237      0.019      1.238      0.216      -0.014       0.061\n",
            "mnth_3           0.0575      0.018      3.207      0.001       0.022       0.093\n",
            "mnth_4           0.0479      0.026      1.829      0.068      -0.004       0.099\n",
            "mnth_5           0.0808      0.027      3.047      0.002       0.029       0.133\n",
            "mnth_6           0.0557      0.023      2.463      0.014       0.011       0.100\n",
            "mnth_8           0.0653      0.018      3.619      0.000       0.030       0.101\n",
            "mnth_9           0.1235      0.017      7.061      0.000       0.089       0.158\n",
            "mnth_10          0.0543      0.017      3.123      0.002       0.020       0.088\n",
            "weathersit_2    -0.0612      0.010     -5.874      0.000      -0.082      -0.041\n",
            "weathersit_3    -0.2525      0.026     -9.569      0.000      -0.304      -0.201\n",
            "weekday_1       -0.0201      0.011     -1.785      0.075      -0.042       0.002\n",
            "weekday_6        0.0589      0.014      4.188      0.000       0.031       0.087\n",
            "yr               0.2337      0.008     29.038      0.000       0.218       0.249\n",
            "workingday       0.0524      0.011      4.810      0.000       0.031       0.074\n",
            "==============================================================================\n",
            "Omnibus:                       86.760   Durbin-Watson:                   2.011\n",
            "Prob(Omnibus):                  0.000   Jarque-Bera (JB):              277.164\n",
            "Skew:                          -0.780   Prob(JB):                     6.52e-61\n",
            "Kurtosis:                       6.257   Cond. No.                         22.4\n",
            "==============================================================================\n",
            "\n",
            "Warnings:\n",
            "[1] Standard Errors assume that the covariance matrix of the errors is correctly specified.\n"
          ]
        }
      ]
    },
    {
      "cell_type": "markdown",
      "source": [
        "## Manual - Model 15"
      ],
      "metadata": {
        "id": "_eYdcU4qUJCw"
      }
    },
    {
      "cell_type": "code",
      "source": [
        "X_train.drop(['mnth_2'],axis=1,inplace=True)\n",
        "lr_all = linear_model(X_train.columns,X_train)"
      ],
      "metadata": {
        "colab": {
          "base_uri": "https://localhost:8080/"
        },
        "id": "wiVWJjafSGla",
        "outputId": "a60b3738-9989-4919-c495-a65d57229f49"
      },
      "execution_count": 286,
      "outputs": [
        {
          "output_type": "stream",
          "name": "stdout",
          "text": [
            "                            OLS Regression Results                            \n",
            "==============================================================================\n",
            "Dep. Variable:                    cnt   R-squared:                       0.849\n",
            "Model:                            OLS   Adj. R-squared:                  0.843\n",
            "Method:                 Least Squares   F-statistic:                     144.9\n",
            "Date:                Sat, 04 Jun 2022   Prob (F-statistic):          4.37e-187\n",
            "Time:                        22:42:17   Log-Likelihood:                 520.36\n",
            "No. Observations:                 510   AIC:                            -1001.\n",
            "Df Residuals:                     490   BIC:                            -916.0\n",
            "Df Model:                          19                                         \n",
            "Covariance Type:            nonrobust                                         \n",
            "================================================================================\n",
            "                   coef    std err          t      P>|t|      [0.025      0.975]\n",
            "--------------------------------------------------------------------------------\n",
            "const            0.1839      0.029      6.358      0.000       0.127       0.241\n",
            "atemp            0.4489      0.037     12.066      0.000       0.376       0.522\n",
            "hum             -0.1539      0.038     -4.042      0.000      -0.229      -0.079\n",
            "windspeed       -0.1653      0.026     -6.450      0.000      -0.216      -0.115\n",
            "season_2         0.0942      0.022      4.344      0.000       0.052       0.137\n",
            "season_3         0.0721      0.022      3.250      0.001       0.029       0.116\n",
            "season_4         0.1600      0.014     11.202      0.000       0.132       0.188\n",
            "mnth_3           0.0500      0.017      2.961      0.003       0.017       0.083\n",
            "mnth_4           0.0422      0.026      1.636      0.102      -0.008       0.093\n",
            "mnth_5           0.0754      0.026      2.882      0.004       0.024       0.127\n",
            "mnth_6           0.0517      0.022      2.308      0.021       0.008       0.096\n",
            "mnth_8           0.0646      0.018      3.582      0.000       0.029       0.100\n",
            "mnth_9           0.1230      0.017      7.035      0.000       0.089       0.157\n",
            "mnth_10          0.0539      0.017      3.102      0.002       0.020       0.088\n",
            "weathersit_2    -0.0610      0.010     -5.851      0.000      -0.081      -0.041\n",
            "weathersit_3    -0.2509      0.026     -9.513      0.000      -0.303      -0.199\n",
            "weekday_1       -0.0202      0.011     -1.793      0.074      -0.042       0.002\n",
            "weekday_6        0.0580      0.014      4.127      0.000       0.030       0.086\n",
            "yr               0.2336      0.008     29.013      0.000       0.218       0.249\n",
            "workingday       0.0522      0.011      4.789      0.000       0.031       0.074\n",
            "==============================================================================\n",
            "Omnibus:                       87.008   Durbin-Watson:                   2.016\n",
            "Prob(Omnibus):                  0.000   Jarque-Bera (JB):              276.226\n",
            "Skew:                          -0.784   Prob(JB):                     1.04e-60\n",
            "Kurtosis:                       6.246   Cond. No.                         21.9\n",
            "==============================================================================\n",
            "\n",
            "Warnings:\n",
            "[1] Standard Errors assume that the covariance matrix of the errors is correctly specified.\n"
          ]
        }
      ]
    },
    {
      "cell_type": "markdown",
      "source": [
        "## Manual - Model 16"
      ],
      "metadata": {
        "id": "mBBo0sqQUKB1"
      }
    },
    {
      "cell_type": "code",
      "source": [
        "X_train.drop(['mnth_4'],axis=1,inplace=True)\n",
        "lr_all = linear_model(X_train.columns,X_train)"
      ],
      "metadata": {
        "colab": {
          "base_uri": "https://localhost:8080/"
        },
        "id": "ZOhWJcFWSPBO",
        "outputId": "3150eeab-acfa-4120-e976-fa21be505fc4"
      },
      "execution_count": 287,
      "outputs": [
        {
          "output_type": "stream",
          "name": "stdout",
          "text": [
            "                            OLS Regression Results                            \n",
            "==============================================================================\n",
            "Dep. Variable:                    cnt   R-squared:                       0.848\n",
            "Model:                            OLS   Adj. R-squared:                  0.842\n",
            "Method:                 Least Squares   F-statistic:                     152.2\n",
            "Date:                Sat, 04 Jun 2022   Prob (F-statistic):          1.32e-187\n",
            "Time:                        22:42:17   Log-Likelihood:                 518.97\n",
            "No. Observations:                 510   AIC:                            -999.9\n",
            "Df Residuals:                     491   BIC:                            -919.5\n",
            "Df Model:                          18                                         \n",
            "Covariance Type:            nonrobust                                         \n",
            "================================================================================\n",
            "                   coef    std err          t      P>|t|      [0.025      0.975]\n",
            "--------------------------------------------------------------------------------\n",
            "const            0.1874      0.029      6.488      0.000       0.131       0.244\n",
            "atemp            0.4545      0.037     12.249      0.000       0.382       0.527\n",
            "hum             -0.1594      0.038     -4.197      0.000      -0.234      -0.085\n",
            "windspeed       -0.1618      0.026     -6.324      0.000      -0.212      -0.112\n",
            "season_2         0.1190      0.015      7.697      0.000       0.089       0.149\n",
            "season_3         0.0715      0.022      3.216      0.001       0.028       0.115\n",
            "season_4         0.1571      0.014     11.065      0.000       0.129       0.185\n",
            "mnth_3           0.0370      0.015      2.479      0.014       0.008       0.066\n",
            "mnth_5           0.0461      0.019      2.413      0.016       0.009       0.084\n",
            "mnth_6           0.0306      0.018      1.668      0.096      -0.005       0.067\n",
            "mnth_8           0.0601      0.018      3.364      0.001       0.025       0.095\n",
            "mnth_9           0.1198      0.017      6.881      0.000       0.086       0.154\n",
            "mnth_10          0.0531      0.017      3.049      0.002       0.019       0.087\n",
            "weathersit_2    -0.0607      0.010     -5.811      0.000      -0.081      -0.040\n",
            "weathersit_3    -0.2501      0.026     -9.469      0.000      -0.302      -0.198\n",
            "weekday_1       -0.0203      0.011     -1.797      0.073      -0.043       0.002\n",
            "weekday_6        0.0575      0.014      4.088      0.000       0.030       0.085\n",
            "yr               0.2339      0.008     29.011      0.000       0.218       0.250\n",
            "workingday       0.0522      0.011      4.783      0.000       0.031       0.074\n",
            "==============================================================================\n",
            "Omnibus:                       88.320   Durbin-Watson:                   2.028\n",
            "Prob(Omnibus):                  0.000   Jarque-Bera (JB):              279.971\n",
            "Skew:                          -0.797   Prob(JB):                     1.60e-61\n",
            "Kurtosis:                       6.261   Cond. No.                         21.6\n",
            "==============================================================================\n",
            "\n",
            "Warnings:\n",
            "[1] Standard Errors assume that the covariance matrix of the errors is correctly specified.\n"
          ]
        }
      ]
    },
    {
      "cell_type": "markdown",
      "source": [
        "## Manual - Model 17"
      ],
      "metadata": {
        "id": "pV47ZBs3ULP3"
      }
    },
    {
      "cell_type": "code",
      "source": [
        "X_train.drop(['mnth_6'],axis=1,inplace=True)\n",
        "lr_all = linear_model(X_train.columns,X_train)"
      ],
      "metadata": {
        "colab": {
          "base_uri": "https://localhost:8080/"
        },
        "id": "y485xdnLSUjQ",
        "outputId": "089dd09f-ce5d-4bd2-d755-cc976f421ecc"
      },
      "execution_count": 288,
      "outputs": [
        {
          "output_type": "stream",
          "name": "stdout",
          "text": [
            "                            OLS Regression Results                            \n",
            "==============================================================================\n",
            "Dep. Variable:                    cnt   R-squared:                       0.847\n",
            "Model:                            OLS   Adj. R-squared:                  0.842\n",
            "Method:                 Least Squares   F-statistic:                     160.4\n",
            "Date:                Sat, 04 Jun 2022   Prob (F-statistic):          4.06e-188\n",
            "Time:                        22:42:17   Log-Likelihood:                 517.53\n",
            "No. Observations:                 510   AIC:                            -999.1\n",
            "Df Residuals:                     492   BIC:                            -922.8\n",
            "Df Model:                          17                                         \n",
            "Covariance Type:            nonrobust                                         \n",
            "================================================================================\n",
            "                   coef    std err          t      P>|t|      [0.025      0.975]\n",
            "--------------------------------------------------------------------------------\n",
            "const            0.1867      0.029      6.452      0.000       0.130       0.244\n",
            "atemp            0.4753      0.035     13.582      0.000       0.407       0.544\n",
            "hum             -0.1641      0.038     -4.324      0.000      -0.239      -0.090\n",
            "windspeed       -0.1645      0.026     -6.433      0.000      -0.215      -0.114\n",
            "season_2         0.1228      0.015      8.010      0.000       0.093       0.153\n",
            "season_3         0.0674      0.022      3.045      0.002       0.024       0.111\n",
            "season_4         0.1541      0.014     10.923      0.000       0.126       0.182\n",
            "mnth_3           0.0320      0.015      2.188      0.029       0.003       0.061\n",
            "mnth_5           0.0343      0.018      1.930      0.054      -0.001       0.069\n",
            "mnth_8           0.0534      0.017      3.062      0.002       0.019       0.088\n",
            "mnth_9           0.1147      0.017      6.681      0.000       0.081       0.148\n",
            "mnth_10          0.0504      0.017      2.904      0.004       0.016       0.085\n",
            "weathersit_2    -0.0604      0.010     -5.777      0.000      -0.081      -0.040\n",
            "weathersit_3    -0.2497      0.026     -9.436      0.000      -0.302      -0.198\n",
            "weekday_1       -0.0202      0.011     -1.783      0.075      -0.042       0.002\n",
            "weekday_6        0.0579      0.014      4.107      0.000       0.030       0.086\n",
            "yr               0.2331      0.008     28.911      0.000       0.217       0.249\n",
            "workingday       0.0524      0.011      4.791      0.000       0.031       0.074\n",
            "==============================================================================\n",
            "Omnibus:                       87.340   Durbin-Watson:                   2.026\n",
            "Prob(Omnibus):                  0.000   Jarque-Bera (JB):              268.546\n",
            "Skew:                          -0.798   Prob(JB):                     4.85e-59\n",
            "Kurtosis:                       6.177   Cond. No.                         21.5\n",
            "==============================================================================\n",
            "\n",
            "Warnings:\n",
            "[1] Standard Errors assume that the covariance matrix of the errors is correctly specified.\n"
          ]
        }
      ]
    },
    {
      "cell_type": "markdown",
      "source": [
        "## Manual - Model 18"
      ],
      "metadata": {
        "id": "-Ajl_DVZUMnt"
      }
    },
    {
      "cell_type": "code",
      "source": [
        "X_train.drop(['weekday_1'],axis=1,inplace=True)\n",
        "lr_all = linear_model(X_train.columns,X_train)"
      ],
      "metadata": {
        "colab": {
          "base_uri": "https://localhost:8080/"
        },
        "id": "DvuyWnAySZg6",
        "outputId": "fc49306b-94ae-4e9e-d43a-709fa8caf10c"
      },
      "execution_count": 289,
      "outputs": [
        {
          "output_type": "stream",
          "name": "stdout",
          "text": [
            "                            OLS Regression Results                            \n",
            "==============================================================================\n",
            "Dep. Variable:                    cnt   R-squared:                       0.846\n",
            "Model:                            OLS   Adj. R-squared:                  0.841\n",
            "Method:                 Least Squares   F-statistic:                     169.5\n",
            "Date:                Sat, 04 Jun 2022   Prob (F-statistic):          1.48e-188\n",
            "Time:                        22:42:18   Log-Likelihood:                 515.89\n",
            "No. Observations:                 510   AIC:                            -997.8\n",
            "Df Residuals:                     493   BIC:                            -925.8\n",
            "Df Model:                          16                                         \n",
            "Covariance Type:            nonrobust                                         \n",
            "================================================================================\n",
            "                   coef    std err          t      P>|t|      [0.025      0.975]\n",
            "--------------------------------------------------------------------------------\n",
            "const            0.1857      0.029      6.406      0.000       0.129       0.243\n",
            "atemp            0.4773      0.035     13.613      0.000       0.408       0.546\n",
            "hum             -0.1667      0.038     -4.385      0.000      -0.241      -0.092\n",
            "windspeed       -0.1649      0.026     -6.434      0.000      -0.215      -0.115\n",
            "season_2         0.1220      0.015      7.941      0.000       0.092       0.152\n",
            "season_3         0.0669      0.022      3.017      0.003       0.023       0.110\n",
            "season_4         0.1537      0.014     10.868      0.000       0.126       0.181\n",
            "mnth_3           0.0324      0.015      2.210      0.028       0.004       0.061\n",
            "mnth_5           0.0358      0.018      2.011      0.045       0.001       0.071\n",
            "mnth_8           0.0539      0.017      3.088      0.002       0.020       0.088\n",
            "mnth_9           0.1150      0.017      6.679      0.000       0.081       0.149\n",
            "mnth_10          0.0500      0.017      2.871      0.004       0.016       0.084\n",
            "weathersit_2    -0.0600      0.010     -5.730      0.000      -0.081      -0.039\n",
            "weathersit_3    -0.2483      0.027     -9.369      0.000      -0.300      -0.196\n",
            "weekday_6        0.0601      0.014      4.271      0.000       0.032       0.088\n",
            "yr               0.2324      0.008     28.794      0.000       0.217       0.248\n",
            "workingday       0.0507      0.011      4.641      0.000       0.029       0.072\n",
            "==============================================================================\n",
            "Omnibus:                       87.336   Durbin-Watson:                   2.021\n",
            "Prob(Omnibus):                  0.000   Jarque-Bera (JB):              273.047\n",
            "Skew:                          -0.792   Prob(JB):                     5.11e-60\n",
            "Kurtosis:                       6.215   Cond. No.                         21.4\n",
            "==============================================================================\n",
            "\n",
            "Warnings:\n",
            "[1] Standard Errors assume that the covariance matrix of the errors is correctly specified.\n"
          ]
        }
      ]
    },
    {
      "cell_type": "markdown",
      "source": [
        "#### Observations\n",
        "\n",
        "*   Now all feature's p-values are less than significance level of 0.05. Let's calculate the VIF values now.\n"
      ],
      "metadata": {
        "id": "6aI2HMOO2PNZ"
      }
    },
    {
      "cell_type": "code",
      "source": [
        "def get_vif(df):\n",
        "  vif = pd.DataFrame()\n",
        "  vif['features'] = df.columns\n",
        "  vif['VIF'] = [variance_inflation_factor(df.values, i) for i in range(df.shape[1])]\n",
        "  vif['VIF'] = round(vif['VIF'], 2)\n",
        "  vif = vif.sort_values(by = \"VIF\", ascending = False)\n",
        "  print(vif)"
      ],
      "metadata": {
        "id": "Gq3R2haP1wWB"
      },
      "execution_count": 290,
      "outputs": []
    },
    {
      "cell_type": "code",
      "source": [
        "get_vif(X_train)"
      ],
      "metadata": {
        "colab": {
          "base_uri": "https://localhost:8080/"
        },
        "id": "h9BrbO8l2Elc",
        "outputId": "99abbf74-56b6-438c-d272-4bfaba51104a"
      },
      "execution_count": 291,
      "outputs": [
        {
          "output_type": "stream",
          "name": "stdout",
          "text": [
            "        features    VIF\n",
            "0          atemp  23.33\n",
            "1            hum  17.42\n",
            "4       season_3   8.22\n",
            "15    workingday   4.60\n",
            "2      windspeed   3.90\n",
            "3       season_2   3.68\n",
            "5       season_4   3.15\n",
            "11  weathersit_2   2.14\n",
            "14            yr   2.05\n",
            "8         mnth_8   1.86\n",
            "13     weekday_6   1.81\n",
            "7         mnth_5   1.68\n",
            "10       mnth_10   1.64\n",
            "9         mnth_9   1.50\n",
            "6         mnth_3   1.33\n",
            "12  weathersit_3   1.20\n"
          ]
        }
      ]
    },
    {
      "cell_type": "markdown",
      "source": [
        "\n",
        "\n",
        "1.   'atemp' has highest VIF but let's keep that as we saw almost 45% of variance in target can be descrived by this feature. This has highest VIF means this feature can be explained by other independent features in our model. Let's try to remove 'hum' feature.\n",
        "\n"
      ],
      "metadata": {
        "id": "Vo1NEgng2e3e"
      }
    },
    {
      "cell_type": "markdown",
      "source": [
        "## Manual - Model 21"
      ],
      "metadata": {
        "id": "CQfeVf46UQJ3"
      }
    },
    {
      "cell_type": "code",
      "source": [
        "X_train.drop(['hum'],axis=1,inplace=True)\n",
        "lr_all = linear_model(X_train.columns,X_train)"
      ],
      "metadata": {
        "colab": {
          "base_uri": "https://localhost:8080/"
        },
        "id": "g0DeConnvBTn",
        "outputId": "fd5e1e16-879a-411b-a168-e9405ba9de94"
      },
      "execution_count": 292,
      "outputs": [
        {
          "output_type": "stream",
          "name": "stdout",
          "text": [
            "                            OLS Regression Results                            \n",
            "==============================================================================\n",
            "Dep. Variable:                    cnt   R-squared:                       0.840\n",
            "Model:                            OLS   Adj. R-squared:                  0.835\n",
            "Method:                 Least Squares   F-statistic:                     173.2\n",
            "Date:                Sat, 04 Jun 2022   Prob (F-statistic):          1.31e-185\n",
            "Time:                        22:42:18   Log-Likelihood:                 506.13\n",
            "No. Observations:                 510   AIC:                            -980.3\n",
            "Df Residuals:                     494   BIC:                            -912.5\n",
            "Df Model:                          15                                         \n",
            "Covariance Type:            nonrobust                                         \n",
            "================================================================================\n",
            "                   coef    std err          t      P>|t|      [0.025      0.975]\n",
            "--------------------------------------------------------------------------------\n",
            "const            0.0894      0.019      4.639      0.000       0.052       0.127\n",
            "atemp            0.4441      0.035     12.740      0.000       0.376       0.513\n",
            "windspeed       -0.1348      0.025     -5.360      0.000      -0.184      -0.085\n",
            "season_2         0.1277      0.016      8.195      0.000       0.097       0.158\n",
            "season_3         0.0785      0.022      3.500      0.001       0.034       0.122\n",
            "season_4         0.1496      0.014     10.415      0.000       0.121       0.178\n",
            "mnth_3           0.0338      0.015      2.266      0.024       0.004       0.063\n",
            "mnth_5           0.0259      0.018      1.441      0.150      -0.009       0.061\n",
            "mnth_8           0.0478      0.018      2.697      0.007       0.013       0.083\n",
            "mnth_9           0.1051      0.017      6.050      0.000       0.071       0.139\n",
            "mnth_10          0.0472      0.018      2.667      0.008       0.012       0.082\n",
            "weathersit_2    -0.0863      0.009     -9.856      0.000      -0.103      -0.069\n",
            "weathersit_3    -0.2947      0.025    -11.909      0.000      -0.343      -0.246\n",
            "weekday_6        0.0646      0.014      4.521      0.000       0.037       0.093\n",
            "yr               0.2361      0.008     28.893      0.000       0.220       0.252\n",
            "workingday       0.0535      0.011      4.820      0.000       0.032       0.075\n",
            "==============================================================================\n",
            "Omnibus:                       87.362   Durbin-Watson:                   2.025\n",
            "Prob(Omnibus):                  0.000   Jarque-Bera (JB):              260.522\n",
            "Skew:                          -0.808   Prob(JB):                     2.68e-57\n",
            "Kurtosis:                       6.106   Cond. No.                         16.8\n",
            "==============================================================================\n",
            "\n",
            "Warnings:\n",
            "[1] Standard Errors assume that the covariance matrix of the errors is correctly specified.\n"
          ]
        }
      ]
    },
    {
      "cell_type": "markdown",
      "source": [
        "Let's drop 'mnth_5' now"
      ],
      "metadata": {
        "id": "-_spMUnr3E55"
      }
    },
    {
      "cell_type": "markdown",
      "source": [
        "## Manual - Model 22"
      ],
      "metadata": {
        "id": "M8NlvANSURdC"
      }
    },
    {
      "cell_type": "code",
      "source": [
        "X_train.drop(['mnth_5'],axis=1,inplace=True) \n",
        "lr_all = linear_model(X_train.columns,X_train)\n"
      ],
      "metadata": {
        "colab": {
          "base_uri": "https://localhost:8080/"
        },
        "id": "mOUTTZzyS5hU",
        "outputId": "56b30891-e368-4a47-baf8-91ba41a6d76f"
      },
      "execution_count": 293,
      "outputs": [
        {
          "output_type": "stream",
          "name": "stdout",
          "text": [
            "                            OLS Regression Results                            \n",
            "==============================================================================\n",
            "Dep. Variable:                    cnt   R-squared:                       0.840\n",
            "Model:                            OLS   Adj. R-squared:                  0.835\n",
            "Method:                 Least Squares   F-statistic:                     185.0\n",
            "Date:                Sat, 04 Jun 2022   Prob (F-statistic):          2.66e-186\n",
            "Time:                        22:42:18   Log-Likelihood:                 505.06\n",
            "No. Observations:                 510   AIC:                            -980.1\n",
            "Df Residuals:                     495   BIC:                            -916.6\n",
            "Df Model:                          14                                         \n",
            "Covariance Type:            nonrobust                                         \n",
            "================================================================================\n",
            "                   coef    std err          t      P>|t|      [0.025      0.975]\n",
            "--------------------------------------------------------------------------------\n",
            "const            0.0886      0.019      4.592      0.000       0.051       0.126\n",
            "atemp            0.4539      0.034     13.269      0.000       0.387       0.521\n",
            "windspeed       -0.1375      0.025     -5.479      0.000      -0.187      -0.088\n",
            "season_2         0.1333      0.015      8.824      0.000       0.104       0.163\n",
            "season_3         0.0726      0.022      3.290      0.001       0.029       0.116\n",
            "season_4         0.1472      0.014     10.307      0.000       0.119       0.175\n",
            "mnth_3           0.0297      0.015      2.024      0.044       0.001       0.059\n",
            "mnth_8           0.0478      0.018      2.691      0.007       0.013       0.083\n",
            "mnth_9           0.1050      0.017      6.038      0.000       0.071       0.139\n",
            "mnth_10          0.0461      0.018      2.605      0.009       0.011       0.081\n",
            "weathersit_2    -0.0853      0.009     -9.764      0.000      -0.102      -0.068\n",
            "weathersit_3    -0.2946      0.025    -11.891      0.000      -0.343      -0.246\n",
            "weekday_6        0.0642      0.014      4.488      0.000       0.036       0.092\n",
            "yr               0.2354      0.008     28.827      0.000       0.219       0.251\n",
            "workingday       0.0538      0.011      4.846      0.000       0.032       0.076\n",
            "==============================================================================\n",
            "Omnibus:                       84.455   Durbin-Watson:                   2.032\n",
            "Prob(Omnibus):                  0.000   Jarque-Bera (JB):              241.295\n",
            "Skew:                          -0.795   Prob(JB):                     4.01e-53\n",
            "Kurtosis:                       5.971   Cond. No.                         16.6\n",
            "==============================================================================\n",
            "\n",
            "Warnings:\n",
            "[1] Standard Errors assume that the covariance matrix of the errors is correctly specified.\n"
          ]
        }
      ]
    },
    {
      "cell_type": "code",
      "source": [
        "get_vif(X_train)"
      ],
      "metadata": {
        "colab": {
          "base_uri": "https://localhost:8080/"
        },
        "id": "6pZFobcG3Ut8",
        "outputId": "dc6ec54b-9d61-4de7-e6e3-95e37af57abd"
      },
      "execution_count": 294,
      "outputs": [
        {
          "output_type": "stream",
          "name": "stdout",
          "text": [
            "        features    VIF\n",
            "0          atemp  15.54\n",
            "3       season_3   7.65\n",
            "13    workingday   4.19\n",
            "1      windspeed   3.60\n",
            "2       season_2   3.39\n",
            "4       season_4   2.98\n",
            "12            yr   2.04\n",
            "6         mnth_8   1.85\n",
            "11     weekday_6   1.73\n",
            "8        mnth_10   1.63\n",
            "9   weathersit_2   1.54\n",
            "7         mnth_9   1.49\n",
            "5         mnth_3   1.28\n",
            "10  weathersit_3   1.11\n"
          ]
        }
      ]
    },
    {
      "cell_type": "markdown",
      "source": [
        "## Manual - Model 23"
      ],
      "metadata": {
        "id": "GzWsTPM6UTKT"
      }
    },
    {
      "cell_type": "code",
      "source": [
        "X_train.drop(['season_3'],axis=1,inplace=True) \n",
        "lr_all = linear_model(X_train.columns,X_train)"
      ],
      "metadata": {
        "colab": {
          "base_uri": "https://localhost:8080/"
        },
        "id": "GqszNzyGvqNx",
        "outputId": "931009eb-3d18-468a-f724-5f4dcd5b03cd"
      },
      "execution_count": 295,
      "outputs": [
        {
          "output_type": "stream",
          "name": "stdout",
          "text": [
            "                            OLS Regression Results                            \n",
            "==============================================================================\n",
            "Dep. Variable:                    cnt   R-squared:                       0.836\n",
            "Model:                            OLS   Adj. R-squared:                  0.832\n",
            "Method:                 Least Squares   F-statistic:                     194.5\n",
            "Date:                Sat, 04 Jun 2022   Prob (F-statistic):          3.85e-185\n",
            "Time:                        22:42:18   Log-Likelihood:                 499.55\n",
            "No. Observations:                 510   AIC:                            -971.1\n",
            "Df Residuals:                     496   BIC:                            -911.8\n",
            "Df Model:                          13                                         \n",
            "Covariance Type:            nonrobust                                         \n",
            "================================================================================\n",
            "                   coef    std err          t      P>|t|      [0.025      0.975]\n",
            "--------------------------------------------------------------------------------\n",
            "const            0.0788      0.019      4.095      0.000       0.041       0.117\n",
            "atemp            0.5356      0.024     22.539      0.000       0.489       0.582\n",
            "windspeed       -0.1387      0.025     -5.473      0.000      -0.189      -0.089\n",
            "season_2         0.0994      0.011      8.910      0.000       0.077       0.121\n",
            "season_4         0.1234      0.012      9.924      0.000       0.099       0.148\n",
            "mnth_3           0.0199      0.015      1.374      0.170      -0.009       0.048\n",
            "mnth_8           0.0701      0.017      4.237      0.000       0.038       0.103\n",
            "mnth_9           0.1234      0.017      7.413      0.000       0.091       0.156\n",
            "mnth_10          0.0384      0.018      2.167      0.031       0.004       0.073\n",
            "weathersit_2    -0.0860      0.009     -9.742      0.000      -0.103      -0.069\n",
            "weathersit_3    -0.2886      0.025    -11.566      0.000      -0.338      -0.240\n",
            "weekday_6        0.0646      0.014      4.473      0.000       0.036       0.093\n",
            "yr               0.2338      0.008     28.402      0.000       0.218       0.250\n",
            "workingday       0.0543      0.011      4.843      0.000       0.032       0.076\n",
            "==============================================================================\n",
            "Omnibus:                       67.474   Durbin-Watson:                   2.024\n",
            "Prob(Omnibus):                  0.000   Jarque-Bera (JB):              186.539\n",
            "Skew:                          -0.645   Prob(JB):                     3.12e-41\n",
            "Kurtosis:                       5.667   Cond. No.                         12.4\n",
            "==============================================================================\n",
            "\n",
            "Warnings:\n",
            "[1] Standard Errors assume that the covariance matrix of the errors is correctly specified.\n"
          ]
        }
      ]
    },
    {
      "cell_type": "markdown",
      "source": [
        "## Manual - Model 24"
      ],
      "metadata": {
        "id": "0nR89ueyUUlC"
      }
    },
    {
      "cell_type": "code",
      "source": [
        "X_train.drop(['mnth_3'],axis=1,inplace=True)  \n",
        "lr_all = linear_model(X_train.columns,X_train)"
      ],
      "metadata": {
        "colab": {
          "base_uri": "https://localhost:8080/"
        },
        "id": "LM362h7fwfnj",
        "outputId": "9244670a-c981-4a99-ae81-ad34a2656ca8"
      },
      "execution_count": 296,
      "outputs": [
        {
          "output_type": "stream",
          "name": "stdout",
          "text": [
            "                            OLS Regression Results                            \n",
            "==============================================================================\n",
            "Dep. Variable:                    cnt   R-squared:                       0.835\n",
            "Model:                            OLS   Adj. R-squared:                  0.831\n",
            "Method:                 Least Squares   F-statistic:                     210.2\n",
            "Date:                Sat, 04 Jun 2022   Prob (F-statistic):          6.63e-186\n",
            "Time:                        22:42:18   Log-Likelihood:                 498.58\n",
            "No. Observations:                 510   AIC:                            -971.2\n",
            "Df Residuals:                     497   BIC:                            -916.1\n",
            "Df Model:                          12                                         \n",
            "Covariance Type:            nonrobust                                         \n",
            "================================================================================\n",
            "                   coef    std err          t      P>|t|      [0.025      0.975]\n",
            "--------------------------------------------------------------------------------\n",
            "const            0.0828      0.019      4.346      0.000       0.045       0.120\n",
            "atemp            0.5309      0.024     22.561      0.000       0.485       0.577\n",
            "windspeed       -0.1365      0.025     -5.393      0.000      -0.186      -0.087\n",
            "season_2         0.0993      0.011      8.897      0.000       0.077       0.121\n",
            "season_4         0.1200      0.012      9.838      0.000       0.096       0.144\n",
            "mnth_8           0.0682      0.017      4.133      0.000       0.036       0.101\n",
            "mnth_9           0.1218      0.017      7.331      0.000       0.089       0.154\n",
            "mnth_10          0.0387      0.018      2.181      0.030       0.004       0.074\n",
            "weathersit_2    -0.0860      0.009     -9.740      0.000      -0.103      -0.069\n",
            "weathersit_3    -0.2876      0.025    -11.521      0.000      -0.337      -0.239\n",
            "weekday_6        0.0656      0.014      4.546      0.000       0.037       0.094\n",
            "yr               0.2339      0.008     28.400      0.000       0.218       0.250\n",
            "workingday       0.0553      0.011      4.932      0.000       0.033       0.077\n",
            "==============================================================================\n",
            "Omnibus:                       67.775   Durbin-Watson:                   2.023\n",
            "Prob(Omnibus):                  0.000   Jarque-Bera (JB):              192.466\n",
            "Skew:                          -0.639   Prob(JB):                     1.61e-42\n",
            "Kurtosis:                       5.724   Cond. No.                         12.3\n",
            "==============================================================================\n",
            "\n",
            "Warnings:\n",
            "[1] Standard Errors assume that the covariance matrix of the errors is correctly specified.\n"
          ]
        }
      ]
    },
    {
      "cell_type": "code",
      "source": [
        "get_vif(X_train)"
      ],
      "metadata": {
        "colab": {
          "base_uri": "https://localhost:8080/"
        },
        "id": "3mcdPRWk3nD_",
        "outputId": "2aebed40-a1ce-4c33-8cdf-684d3df2e88d"
      },
      "execution_count": 297,
      "outputs": [
        {
          "output_type": "stream",
          "name": "stdout",
          "text": [
            "        features   VIF\n",
            "0          atemp  6.18\n",
            "11    workingday  4.09\n",
            "1      windspeed  3.45\n",
            "10            yr  2.02\n",
            "3       season_4  2.00\n",
            "2       season_2  1.83\n",
            "9      weekday_6  1.70\n",
            "6        mnth_10  1.61\n",
            "4         mnth_8  1.55\n",
            "7   weathersit_2  1.54\n",
            "5         mnth_9  1.33\n",
            "8   weathersit_3  1.10\n"
          ]
        }
      ]
    },
    {
      "cell_type": "markdown",
      "source": [
        "## Manual - Model 25"
      ],
      "metadata": {
        "id": "ZoOfOG69UV7o"
      }
    },
    {
      "cell_type": "code",
      "source": [
        "X_train.drop(['mnth_10'],axis=1,inplace=True)  \n",
        "lr_all = linear_model(X_train.columns,X_train)"
      ],
      "metadata": {
        "colab": {
          "base_uri": "https://localhost:8080/"
        },
        "id": "0i8XIADMwkod",
        "outputId": "94bae39f-e81c-46e4-ce5b-bf3ac9b0d741"
      },
      "execution_count": 298,
      "outputs": [
        {
          "output_type": "stream",
          "name": "stdout",
          "text": [
            "                            OLS Regression Results                            \n",
            "==============================================================================\n",
            "Dep. Variable:                    cnt   R-squared:                       0.834\n",
            "Model:                            OLS   Adj. R-squared:                  0.830\n",
            "Method:                 Least Squares   F-statistic:                     227.2\n",
            "Date:                Sat, 04 Jun 2022   Prob (F-statistic):          4.54e-186\n",
            "Time:                        22:42:18   Log-Likelihood:                 496.15\n",
            "No. Observations:                 510   AIC:                            -968.3\n",
            "Df Residuals:                     498   BIC:                            -917.5\n",
            "Df Model:                          11                                         \n",
            "Covariance Type:            nonrobust                                         \n",
            "================================================================================\n",
            "                   coef    std err          t      P>|t|      [0.025      0.975]\n",
            "--------------------------------------------------------------------------------\n",
            "const            0.0782      0.019      4.117      0.000       0.041       0.116\n",
            "atemp            0.5408      0.023     23.346      0.000       0.495       0.586\n",
            "windspeed       -0.1337      0.025     -5.269      0.000      -0.184      -0.084\n",
            "season_2         0.0975      0.011      8.727      0.000       0.076       0.119\n",
            "season_4         0.1331      0.011     12.496      0.000       0.112       0.154\n",
            "mnth_8           0.0650      0.017      3.939      0.000       0.033       0.097\n",
            "mnth_9           0.1162      0.016      7.052      0.000       0.084       0.149\n",
            "weathersit_2    -0.0850      0.009     -9.603      0.000      -0.102      -0.068\n",
            "weathersit_3    -0.2811      0.025    -11.300      0.000      -0.330      -0.232\n",
            "weekday_6        0.0650      0.014      4.483      0.000       0.036       0.093\n",
            "yr               0.2336      0.008     28.261      0.000       0.217       0.250\n",
            "workingday       0.0546      0.011      4.852      0.000       0.032       0.077\n",
            "==============================================================================\n",
            "Omnibus:                       59.886   Durbin-Watson:                   2.034\n",
            "Prob(Omnibus):                  0.000   Jarque-Bera (JB):              160.013\n",
            "Skew:                          -0.582   Prob(JB):                     1.79e-35\n",
            "Kurtosis:                       5.485   Cond. No.                         12.1\n",
            "==============================================================================\n",
            "\n",
            "Warnings:\n",
            "[1] Standard Errors assume that the covariance matrix of the errors is correctly specified.\n"
          ]
        }
      ]
    },
    {
      "cell_type": "code",
      "source": [
        "get_vif(X_train)"
      ],
      "metadata": {
        "colab": {
          "base_uri": "https://localhost:8080/"
        },
        "id": "kMfAcsaIwN6Z",
        "outputId": "44810b5f-8dc4-4b0a-b1e4-2520e023bea5"
      },
      "execution_count": 299,
      "outputs": [
        {
          "output_type": "stream",
          "name": "stdout",
          "text": [
            "        features   VIF\n",
            "0          atemp  6.02\n",
            "10    workingday  4.06\n",
            "1      windspeed  3.45\n",
            "9             yr  2.02\n",
            "2       season_2  1.82\n",
            "8      weekday_6  1.69\n",
            "4         mnth_8  1.55\n",
            "6   weathersit_2  1.54\n",
            "3       season_4  1.52\n",
            "5         mnth_9  1.30\n",
            "7   weathersit_3  1.08\n"
          ]
        }
      ]
    },
    {
      "cell_type": "markdown",
      "source": [
        "# **Final Manual Model**"
      ],
      "metadata": {
        "id": "Lk4E-QF2UbbQ"
      }
    },
    {
      "cell_type": "code",
      "source": [
        "lr_manual_final = linear_model(X_train.columns,X_train)"
      ],
      "metadata": {
        "colab": {
          "base_uri": "https://localhost:8080/"
        },
        "id": "XDcPmW0XxGEO",
        "outputId": "f48a405f-1b93-49ec-d582-6cc7d726d98d"
      },
      "execution_count": 300,
      "outputs": [
        {
          "output_type": "stream",
          "name": "stdout",
          "text": [
            "                            OLS Regression Results                            \n",
            "==============================================================================\n",
            "Dep. Variable:                    cnt   R-squared:                       0.834\n",
            "Model:                            OLS   Adj. R-squared:                  0.830\n",
            "Method:                 Least Squares   F-statistic:                     227.2\n",
            "Date:                Sat, 04 Jun 2022   Prob (F-statistic):          4.54e-186\n",
            "Time:                        22:42:18   Log-Likelihood:                 496.15\n",
            "No. Observations:                 510   AIC:                            -968.3\n",
            "Df Residuals:                     498   BIC:                            -917.5\n",
            "Df Model:                          11                                         \n",
            "Covariance Type:            nonrobust                                         \n",
            "================================================================================\n",
            "                   coef    std err          t      P>|t|      [0.025      0.975]\n",
            "--------------------------------------------------------------------------------\n",
            "const            0.0782      0.019      4.117      0.000       0.041       0.116\n",
            "atemp            0.5408      0.023     23.346      0.000       0.495       0.586\n",
            "windspeed       -0.1337      0.025     -5.269      0.000      -0.184      -0.084\n",
            "season_2         0.0975      0.011      8.727      0.000       0.076       0.119\n",
            "season_4         0.1331      0.011     12.496      0.000       0.112       0.154\n",
            "mnth_8           0.0650      0.017      3.939      0.000       0.033       0.097\n",
            "mnth_9           0.1162      0.016      7.052      0.000       0.084       0.149\n",
            "weathersit_2    -0.0850      0.009     -9.603      0.000      -0.102      -0.068\n",
            "weathersit_3    -0.2811      0.025    -11.300      0.000      -0.330      -0.232\n",
            "weekday_6        0.0650      0.014      4.483      0.000       0.036       0.093\n",
            "yr               0.2336      0.008     28.261      0.000       0.217       0.250\n",
            "workingday       0.0546      0.011      4.852      0.000       0.032       0.077\n",
            "==============================================================================\n",
            "Omnibus:                       59.886   Durbin-Watson:                   2.034\n",
            "Prob(Omnibus):                  0.000   Jarque-Bera (JB):              160.013\n",
            "Skew:                          -0.582   Prob(JB):                     1.79e-35\n",
            "Kurtosis:                       5.485   Cond. No.                         12.1\n",
            "==============================================================================\n",
            "\n",
            "Warnings:\n",
            "[1] Standard Errors assume that the covariance matrix of the errors is correctly specified.\n"
          ]
        }
      ]
    },
    {
      "cell_type": "markdown",
      "source": [
        "#### Observations\n",
        "\n",
        "\n",
        "1.   I think it should be our final model as we have all P-values 0.000 and also VIF <5.\n",
        "\n",
        "R2 of our final model is 0.836 - which is good.\n",
        "\n",
        "2.   Let's try to predict the y_train values and see Error terms.\n",
        "\n"
      ],
      "metadata": {
        "id": "RfJiNPNpwv5j"
      }
    },
    {
      "cell_type": "markdown",
      "source": [
        "## Step 6: Residual Analysis"
      ],
      "metadata": {
        "id": "aSTOAd4U3BKJ"
      }
    },
    {
      "cell_type": "code",
      "source": [
        "X_train_pred = sm.add_constant(X_train)\n",
        "y_train_pred = lr_manual_final.predict(X_train_pred)\n",
        "res = y_train - y_train_pred"
      ],
      "metadata": {
        "id": "7WY8XAPm3EdO"
      },
      "execution_count": 301,
      "outputs": []
    },
    {
      "cell_type": "code",
      "source": [
        "fig = px.histogram(data_frame=res,histnorm='probability')\n",
        "fig.update_xaxes(title={'text':'Error Terms - (y_test - y_predicted)'})\n",
        "fig.update_layout(title={'text':'Error Terms'})\n",
        "fig.show()\n"
      ],
      "metadata": {
        "colab": {
          "base_uri": "https://localhost:8080/",
          "height": 542
        },
        "id": "xCpCpqDX30SQ",
        "outputId": "268ca730-946c-433b-9188-6b8031eb0734"
      },
      "execution_count": 302,
      "outputs": [
        {
          "output_type": "display_data",
          "data": {
            "text/html": [
              "<html>\n",
              "<head><meta charset=\"utf-8\" /></head>\n",
              "<body>\n",
              "    <div>            <script src=\"https://cdnjs.cloudflare.com/ajax/libs/mathjax/2.7.5/MathJax.js?config=TeX-AMS-MML_SVG\"></script><script type=\"text/javascript\">if (window.MathJax) {MathJax.Hub.Config({SVG: {font: \"STIX-Web\"}});}</script>                <script type=\"text/javascript\">window.PlotlyConfig = {MathJaxConfig: 'local'};</script>\n",
              "        <script src=\"https://cdn.plot.ly/plotly-2.8.3.min.js\"></script>                <div id=\"19cc27fb-84ec-4d24-bbbf-0e186ac57722\" class=\"plotly-graph-div\" style=\"height:525px; width:100%;\"></div>            <script type=\"text/javascript\">                                    window.PLOTLYENV=window.PLOTLYENV || {};                                    if (document.getElementById(\"19cc27fb-84ec-4d24-bbbf-0e186ac57722\")) {                    Plotly.newPlot(                        \"19cc27fb-84ec-4d24-bbbf-0e186ac57722\",                        [{\"alignmentgroup\":\"True\",\"bingroup\":\"x\",\"histnorm\":\"probability\",\"hovertemplate\":\"variable=0<br>value=%{x}<br>probability=%{y}<extra></extra>\",\"legendgroup\":\"0\",\"marker\":{\"color\":\"#636efa\",\"pattern\":{\"shape\":\"\"}},\"name\":\"0\",\"offsetgroup\":\"0\",\"orientation\":\"v\",\"showlegend\":true,\"x\":[0.13386039804040983,0.08215267834018847,-0.029821860945458134,-0.12743786844763344,-0.09303896153690522,-0.07571791089514349,-0.07462960669548402,0.043713005067171684,-0.009427658476978351,-0.11129280737563518,0.1653360763015329,0.08844842683716636,-0.0020301739951196773,-0.008756652009749621,0.032107100951127454,0.10310858415878243,-0.13070568695610796,0.09718857098610334,0.14208967492411861,-0.03091000197744609,-0.00026210548356964125,0.028589785127485112,0.03444587099988816,0.0019213457698005199,0.07007255503646481,-0.05955244214462396,0.06787570182414326,0.026447529717383733,0.09309933365290446,-0.0005197827760055063,0.0044598216165169235,0.1338080495309416,-0.2500857171088758,0.10083165732140825,0.08055151894440249,-0.016825929720373,-0.21427458791748707,-0.03563739195509297,-0.04134947907797004,-0.07554018826667686,0.027185566737702893,0.012253702037619774,-0.21791575819128312,-0.010379761255205178,-0.09217450298379215,0.0017131415215340118,0.010235052226835184,-0.006080185953993733,0.030066802916630997,0.03974418907304089,-0.008903360608526922,0.010257181577574936,-0.09810562605937223,-0.01057214945240681,0.060229763652578594,0.028507418507057625,0.001049646595760012,0.05607271297163918,-0.30295170488575707,0.0795518748842573,0.02534619480763034,0.039858425962471355,0.027944615346119472,0.05946754155686884,0.10465442198472374,-0.06685686228233834,-0.10014414126081383,-0.0030680663634310434,-0.15534437662561645,-0.02928705881389737,-0.11871336395519305,0.05065119350144459,0.11681076078891794,0.004816380420478661,0.05547405452340193,-0.08876325979204924,-0.046407426610191316,-0.1718297840324271,-0.06203721410752794,-0.04081353066597204,0.1139963735012458,-0.033798408432728966,-0.021915477492989777,0.03837243218925393,0.0645837100000953,-0.0801405719002134,0.033588575991643055,-0.06026239359245711,-0.03473445525371277,-0.09692245922030726,0.06761756572740149,-0.01673226677594164,0.054257130718712965,0.016647748945308516,-0.02037485188261956,0.06240720435860106,-0.04043618050086542,0.04547919236346154,-0.03752557935039469,0.04858084013763159,-0.015886506941538092,-0.17874397737501424,-0.10421327100632818,0.02546801656594816,0.03720767077726994,-0.10311140393051887,0.09424968179462356,0.038968998670216026,-0.004919055904997638,0.0850562144559317,0.051201157944609776,0.03367309065986934,-0.02259383705825918,-0.03930652313983096,-0.05599011961218903,0.022945172883030995,-0.009074530276796361,-0.09546198926866267,-0.0447765099321944,-0.01728025336854233,0.01498077779468765,0.03334513721282564,0.03717079918414029,0.07567067135444804,0.25172027893489235,-0.00386151553222569,0.04817645575595586,-0.04732948621871358,0.02583500098732472,0.08763480550007907,0.055108585324938855,0.03126616380619052,-0.025959913249101962,-0.0617656690830532,0.0315102762067197,0.010824894167750121,-0.08744708927726308,-0.0332427710226173,0.047172731868040385,-0.083464680398112,-0.08134590661425856,0.006102831731719827,-0.10457307599867632,-0.002956323946341377,0.055341075319152,-0.024379748655542488,0.012785753282646639,0.012564865893680999,-0.038051937630138144,-0.033623336973843565,0.06092088980643817,0.025321131242997036,-0.3834367165524859,-0.04072639168895564,0.05768743023059708,-0.050490882505435486,-0.05497074730144069,0.1502606084252105,-0.06428790289472586,-0.0068027756098081316,0.07292358312493985,0.03621479126403504,0.035939075731248216,-0.016148221259300655,-0.12472369654156806,0.05151775806518666,0.01563809873581057,-0.1252247470622856,0.016855738688272004,-0.027363229326099997,-0.08423011844080433,0.040601095721380154,0.13794598369933042,0.06692823127517755,-0.10241959497956266,0.32442921777965816,-0.05530627715506234,-0.009687860229008416,0.017265544808215683,0.04053997402642609,0.12026061478991468,-0.2260231250349708,0.07543349683699663,0.014628149103595778,-0.13564677201942837,0.098614849717234,0.004419535121570284,0.07009714960574176,-0.08857122044021673,-0.11656716578783144,-0.07487996822163823,-0.17219603153139923,0.12864301603063943,0.007299082983816707,-0.12172788815014873,0.02439313677468402,0.011304741239454352,-0.08670979976556575,-0.0863174666817233,-0.004807245939758065,-0.06989645892178303,0.06933148329685679,0.0022650528860016506,0.02245220906521217,0.025251612331098405,0.049016427087874626,-0.17055879629833381,0.023302890501269102,0.020708740011404797,-0.04349661353232667,0.04890797084888143,0.06721369542891642,-0.00214190577403639,-0.042424848867615994,-0.15257640302286582,-0.10090823446241731,-0.12649750310967922,0.07473709402800632,0.20616449340807053,-0.15680114659740807,-0.032840277236749316,0.07690399130908532,-0.12584537668408108,-0.18466127464246504,0.06661388842352123,0.103236384619385,0.08645131859805788,-0.02551567899843199,0.05758065000499393,0.0015278438027884755,-0.016716339433186178,-0.1408878429337471,-0.14233046466501253,-0.05338376276907747,-0.11587814738662683,-0.009720504038034816,-0.055664565834373625,0.06432122420359648,-0.15955604170837845,0.07696650899926105,-0.023538488093256704,0.07655644250891525,0.12350597849299327,-0.09010593779978454,0.046640305327111276,-0.03798274176619354,0.1557448004092572,0.059235928016692224,0.073178922883947,-0.002828470738532096,0.08554220312611593,0.09683316296520278,0.06335657361446012,0.028546814022373912,-0.2604036077917852,0.07135900225786851,-0.2579232739665297,0.060541668155594586,-0.01915605581977231,-0.11388467047687711,0.02071253373796811,-0.14218011906372008,-0.05083774052083612,0.015430372057455122,-0.07122337024096848,0.13379095477197955,-0.0031810327131570615,0.020332431919073746,0.0704435020182752,0.0381385598342141,-0.021304367663062207,0.0008366072351100873,0.11033572304713557,0.08314395783050532,-0.06550490958638316,-0.2747920370581839,0.012039607412748676,-0.023114603925551536,0.0793642731915329,-0.0035183427981142767,0.13375935369105618,-0.09898686249101302,-0.014959671237147032,-0.04485858710999757,0.043069279420694384,-0.06480072135531911,-0.036706331472322995,-0.046946295375060565,0.041223528997522796,-0.14614306079960593,-0.015374237896436882,0.09815642761694132,0.05393435593754026,0.15288888672883694,0.06913319619902475,-0.16501994238844866,0.04065623640600821,0.048330141798691495,0.13016039833617055,-0.13756687245272037,0.015541812614356387,-0.0049479824173683795,0.010024675008209805,0.1296727081267125,-0.12287047679008756,0.05286268961438664,0.021422783642907284,0.01952235688363113,0.020707550343783965,-0.1431642804906218,-0.009347589278944857,0.038060156339581264,0.1603228793962147,-0.016289590480801475,-0.01571668639070356,0.1421143291106094,-0.014850342632455216,-0.03313566221346104,-0.014700162161368824,0.06895435545728756,0.0005788649802417334,0.006346843452123663,-0.33967637564662134,-0.046019555311883176,0.04924012608913869,0.15000985877453527,0.09844849215286858,-0.012551305311313099,-0.15751276200674624,0.01627337373567106,-0.000351483999226021,-0.003169609139871854,0.003715316047425754,0.03714913591384561,0.03831644207351359,0.019082566403583023,-0.024252643233058785,0.09609485576186205,-0.017707456397483723,0.04017654476999549,0.14463368174365765,0.09637783455569532,0.1034723659124539,-0.02637796530227271,0.22189835532132474,-0.050272503067724905,0.17422931244898876,0.04651923347176723,-0.008840214493540333,-0.3581184631778768,0.015543618399025683,-0.017203465669388462,-0.052589874594338226,-0.013022760737096961,0.10522879491294002,0.015984863807172553,-0.004994477347242454,-0.04655629125861488,0.11185968234308441,-0.05586793212954416,-0.011509668018651609,0.005137946923521874,0.060443188878412935,0.04373549195181667,0.32678953471530503,-0.053402378285856006,-0.06436624813544845,-0.0582042768728005,-0.023211484598742005,-0.04821239083944295,0.050304136399313415,0.055897658573389575,0.005881863798100406,0.05130671202962511,-0.09427210859864205,-0.14572772054161287,-0.03319167801157885,0.0410272136645069,-0.010895175056404693,-0.0038904074248692078,-0.1608281995257095,-0.09752937215447921,0.03150903406971656,-0.017463515609269176,0.06462128561160219,0.007426836628199651,0.017980432032475235,0.0032756055441982013,-0.0034857457621102483,-0.017863964149023748,0.026295616013255252,-0.09835983982622287,0.09270101697814204,0.001978347721000251,0.09149410129836655,0.008033078877537736,0.0016896448586461998,0.09097153320977269,-0.020276256670298975,-0.09755505386603691,0.07102634598328439,0.008100165793005654,0.010903300140068017,0.09354622298304867,0.006835478505195058,0.1657917042322784,-0.04190832784964649,-0.040744150164048754,-0.013447709411145259,-0.014904542496644302,-0.05699795856377385,-0.031929115108352,0.09740468427319204,0.0628644070482437,-0.002462276197019886,0.13666375390626495,0.09347346661197231,-0.04273135992306554,0.052215630888988396,0.01475099346986175,0.07039575885493199,0.026321258712526663,-0.04902683693501894,-0.06226304935201249,0.032566720132508276,0.25324274222939125,0.18645860809949955,-0.03465949788379785,-0.054041609857124584,0.12890474661103707,-0.07934562505460552,0.09019392690315975,-0.0264393230705115,-0.03467448721206401,0.11032995033837201,-0.06538637926573682,-0.02050445582308069,-0.06860651561118569,-0.10391713722057083,0.04798847168564885,-0.016371088771061665,0.14417767852095753,0.1480406429574157,0.058793377312093775,0.0846298808683934,0.10440464782701564,0.03981824666417266,-0.03245489818429781,-0.11981516701714484,0.14258394897283355,0.03480030690042413,0.05367311233634253,0.03438609190598085,0.12963393804537937,-0.012713182607020035,-0.025255780341043144,-0.11544023049214003,0.025262940083979335,0.0680887522492043,-0.07084706260586915,0.06293128741164086,-0.02027120310056696,-0.05051800291833572,0.08792821685985619,0.08531825374831636,-0.04147862324245777,0.09117234116922557,-0.07950350956943308,0.044798207755221364,-0.0687441391049397,0.06945466315243892,-0.01588215660714376,0.12201068562323536,-0.024602433087584974,-0.10883091773451908,-0.29668664030234937,0.038898475441678904,0.09203728488672669,0.025721536452686183,-0.06830954400995465,0.00951826845577386,0.09732945357354594,0.0007662147375802619,-0.012085244309514687,-0.04923577460133388,0.007310570491401935,0.04872905096567337,-0.045610456706317415,-0.08789015494127772,-0.02198833572346126,-0.01631480355172621,-0.07232612831049101,0.036486885114952516,-0.03865996055920434,-0.4058059977457116,-0.015751963650091017,-0.0774325381693487,-0.10510894501015,0.13978840846716678,-0.1180747205782533,0.1983514093823897,0.03302892052435946,-0.04832841335323035,0.19496485539831365,0.03608245182547365,0.020526522570302408,-0.019433446657346032,-0.018199572120249058,0.0581032344081463,-0.07279238482687503],\"xaxis\":\"x\",\"yaxis\":\"y\",\"type\":\"histogram\"}],                        {\"template\":{\"data\":{\"bar\":[{\"error_x\":{\"color\":\"#2a3f5f\"},\"error_y\":{\"color\":\"#2a3f5f\"},\"marker\":{\"line\":{\"color\":\"#E5ECF6\",\"width\":0.5},\"pattern\":{\"fillmode\":\"overlay\",\"size\":10,\"solidity\":0.2}},\"type\":\"bar\"}],\"barpolar\":[{\"marker\":{\"line\":{\"color\":\"#E5ECF6\",\"width\":0.5},\"pattern\":{\"fillmode\":\"overlay\",\"size\":10,\"solidity\":0.2}},\"type\":\"barpolar\"}],\"carpet\":[{\"aaxis\":{\"endlinecolor\":\"#2a3f5f\",\"gridcolor\":\"white\",\"linecolor\":\"white\",\"minorgridcolor\":\"white\",\"startlinecolor\":\"#2a3f5f\"},\"baxis\":{\"endlinecolor\":\"#2a3f5f\",\"gridcolor\":\"white\",\"linecolor\":\"white\",\"minorgridcolor\":\"white\",\"startlinecolor\":\"#2a3f5f\"},\"type\":\"carpet\"}],\"choropleth\":[{\"colorbar\":{\"outlinewidth\":0,\"ticks\":\"\"},\"type\":\"choropleth\"}],\"contour\":[{\"colorbar\":{\"outlinewidth\":0,\"ticks\":\"\"},\"colorscale\":[[0.0,\"#0d0887\"],[0.1111111111111111,\"#46039f\"],[0.2222222222222222,\"#7201a8\"],[0.3333333333333333,\"#9c179e\"],[0.4444444444444444,\"#bd3786\"],[0.5555555555555556,\"#d8576b\"],[0.6666666666666666,\"#ed7953\"],[0.7777777777777778,\"#fb9f3a\"],[0.8888888888888888,\"#fdca26\"],[1.0,\"#f0f921\"]],\"type\":\"contour\"}],\"contourcarpet\":[{\"colorbar\":{\"outlinewidth\":0,\"ticks\":\"\"},\"type\":\"contourcarpet\"}],\"heatmap\":[{\"colorbar\":{\"outlinewidth\":0,\"ticks\":\"\"},\"colorscale\":[[0.0,\"#0d0887\"],[0.1111111111111111,\"#46039f\"],[0.2222222222222222,\"#7201a8\"],[0.3333333333333333,\"#9c179e\"],[0.4444444444444444,\"#bd3786\"],[0.5555555555555556,\"#d8576b\"],[0.6666666666666666,\"#ed7953\"],[0.7777777777777778,\"#fb9f3a\"],[0.8888888888888888,\"#fdca26\"],[1.0,\"#f0f921\"]],\"type\":\"heatmap\"}],\"heatmapgl\":[{\"colorbar\":{\"outlinewidth\":0,\"ticks\":\"\"},\"colorscale\":[[0.0,\"#0d0887\"],[0.1111111111111111,\"#46039f\"],[0.2222222222222222,\"#7201a8\"],[0.3333333333333333,\"#9c179e\"],[0.4444444444444444,\"#bd3786\"],[0.5555555555555556,\"#d8576b\"],[0.6666666666666666,\"#ed7953\"],[0.7777777777777778,\"#fb9f3a\"],[0.8888888888888888,\"#fdca26\"],[1.0,\"#f0f921\"]],\"type\":\"heatmapgl\"}],\"histogram\":[{\"marker\":{\"pattern\":{\"fillmode\":\"overlay\",\"size\":10,\"solidity\":0.2}},\"type\":\"histogram\"}],\"histogram2d\":[{\"colorbar\":{\"outlinewidth\":0,\"ticks\":\"\"},\"colorscale\":[[0.0,\"#0d0887\"],[0.1111111111111111,\"#46039f\"],[0.2222222222222222,\"#7201a8\"],[0.3333333333333333,\"#9c179e\"],[0.4444444444444444,\"#bd3786\"],[0.5555555555555556,\"#d8576b\"],[0.6666666666666666,\"#ed7953\"],[0.7777777777777778,\"#fb9f3a\"],[0.8888888888888888,\"#fdca26\"],[1.0,\"#f0f921\"]],\"type\":\"histogram2d\"}],\"histogram2dcontour\":[{\"colorbar\":{\"outlinewidth\":0,\"ticks\":\"\"},\"colorscale\":[[0.0,\"#0d0887\"],[0.1111111111111111,\"#46039f\"],[0.2222222222222222,\"#7201a8\"],[0.3333333333333333,\"#9c179e\"],[0.4444444444444444,\"#bd3786\"],[0.5555555555555556,\"#d8576b\"],[0.6666666666666666,\"#ed7953\"],[0.7777777777777778,\"#fb9f3a\"],[0.8888888888888888,\"#fdca26\"],[1.0,\"#f0f921\"]],\"type\":\"histogram2dcontour\"}],\"mesh3d\":[{\"colorbar\":{\"outlinewidth\":0,\"ticks\":\"\"},\"type\":\"mesh3d\"}],\"parcoords\":[{\"line\":{\"colorbar\":{\"outlinewidth\":0,\"ticks\":\"\"}},\"type\":\"parcoords\"}],\"pie\":[{\"automargin\":true,\"type\":\"pie\"}],\"scatter\":[{\"marker\":{\"colorbar\":{\"outlinewidth\":0,\"ticks\":\"\"}},\"type\":\"scatter\"}],\"scatter3d\":[{\"line\":{\"colorbar\":{\"outlinewidth\":0,\"ticks\":\"\"}},\"marker\":{\"colorbar\":{\"outlinewidth\":0,\"ticks\":\"\"}},\"type\":\"scatter3d\"}],\"scattercarpet\":[{\"marker\":{\"colorbar\":{\"outlinewidth\":0,\"ticks\":\"\"}},\"type\":\"scattercarpet\"}],\"scattergeo\":[{\"marker\":{\"colorbar\":{\"outlinewidth\":0,\"ticks\":\"\"}},\"type\":\"scattergeo\"}],\"scattergl\":[{\"marker\":{\"colorbar\":{\"outlinewidth\":0,\"ticks\":\"\"}},\"type\":\"scattergl\"}],\"scattermapbox\":[{\"marker\":{\"colorbar\":{\"outlinewidth\":0,\"ticks\":\"\"}},\"type\":\"scattermapbox\"}],\"scatterpolar\":[{\"marker\":{\"colorbar\":{\"outlinewidth\":0,\"ticks\":\"\"}},\"type\":\"scatterpolar\"}],\"scatterpolargl\":[{\"marker\":{\"colorbar\":{\"outlinewidth\":0,\"ticks\":\"\"}},\"type\":\"scatterpolargl\"}],\"scatterternary\":[{\"marker\":{\"colorbar\":{\"outlinewidth\":0,\"ticks\":\"\"}},\"type\":\"scatterternary\"}],\"surface\":[{\"colorbar\":{\"outlinewidth\":0,\"ticks\":\"\"},\"colorscale\":[[0.0,\"#0d0887\"],[0.1111111111111111,\"#46039f\"],[0.2222222222222222,\"#7201a8\"],[0.3333333333333333,\"#9c179e\"],[0.4444444444444444,\"#bd3786\"],[0.5555555555555556,\"#d8576b\"],[0.6666666666666666,\"#ed7953\"],[0.7777777777777778,\"#fb9f3a\"],[0.8888888888888888,\"#fdca26\"],[1.0,\"#f0f921\"]],\"type\":\"surface\"}],\"table\":[{\"cells\":{\"fill\":{\"color\":\"#EBF0F8\"},\"line\":{\"color\":\"white\"}},\"header\":{\"fill\":{\"color\":\"#C8D4E3\"},\"line\":{\"color\":\"white\"}},\"type\":\"table\"}]},\"layout\":{\"annotationdefaults\":{\"arrowcolor\":\"#2a3f5f\",\"arrowhead\":0,\"arrowwidth\":1},\"autotypenumbers\":\"strict\",\"coloraxis\":{\"colorbar\":{\"outlinewidth\":0,\"ticks\":\"\"}},\"colorscale\":{\"diverging\":[[0,\"#8e0152\"],[0.1,\"#c51b7d\"],[0.2,\"#de77ae\"],[0.3,\"#f1b6da\"],[0.4,\"#fde0ef\"],[0.5,\"#f7f7f7\"],[0.6,\"#e6f5d0\"],[0.7,\"#b8e186\"],[0.8,\"#7fbc41\"],[0.9,\"#4d9221\"],[1,\"#276419\"]],\"sequential\":[[0.0,\"#0d0887\"],[0.1111111111111111,\"#46039f\"],[0.2222222222222222,\"#7201a8\"],[0.3333333333333333,\"#9c179e\"],[0.4444444444444444,\"#bd3786\"],[0.5555555555555556,\"#d8576b\"],[0.6666666666666666,\"#ed7953\"],[0.7777777777777778,\"#fb9f3a\"],[0.8888888888888888,\"#fdca26\"],[1.0,\"#f0f921\"]],\"sequentialminus\":[[0.0,\"#0d0887\"],[0.1111111111111111,\"#46039f\"],[0.2222222222222222,\"#7201a8\"],[0.3333333333333333,\"#9c179e\"],[0.4444444444444444,\"#bd3786\"],[0.5555555555555556,\"#d8576b\"],[0.6666666666666666,\"#ed7953\"],[0.7777777777777778,\"#fb9f3a\"],[0.8888888888888888,\"#fdca26\"],[1.0,\"#f0f921\"]]},\"colorway\":[\"#636efa\",\"#EF553B\",\"#00cc96\",\"#ab63fa\",\"#FFA15A\",\"#19d3f3\",\"#FF6692\",\"#B6E880\",\"#FF97FF\",\"#FECB52\"],\"font\":{\"color\":\"#2a3f5f\"},\"geo\":{\"bgcolor\":\"white\",\"lakecolor\":\"white\",\"landcolor\":\"#E5ECF6\",\"showlakes\":true,\"showland\":true,\"subunitcolor\":\"white\"},\"hoverlabel\":{\"align\":\"left\"},\"hovermode\":\"closest\",\"mapbox\":{\"style\":\"light\"},\"paper_bgcolor\":\"white\",\"plot_bgcolor\":\"#E5ECF6\",\"polar\":{\"angularaxis\":{\"gridcolor\":\"white\",\"linecolor\":\"white\",\"ticks\":\"\"},\"bgcolor\":\"#E5ECF6\",\"radialaxis\":{\"gridcolor\":\"white\",\"linecolor\":\"white\",\"ticks\":\"\"}},\"scene\":{\"xaxis\":{\"backgroundcolor\":\"#E5ECF6\",\"gridcolor\":\"white\",\"gridwidth\":2,\"linecolor\":\"white\",\"showbackground\":true,\"ticks\":\"\",\"zerolinecolor\":\"white\"},\"yaxis\":{\"backgroundcolor\":\"#E5ECF6\",\"gridcolor\":\"white\",\"gridwidth\":2,\"linecolor\":\"white\",\"showbackground\":true,\"ticks\":\"\",\"zerolinecolor\":\"white\"},\"zaxis\":{\"backgroundcolor\":\"#E5ECF6\",\"gridcolor\":\"white\",\"gridwidth\":2,\"linecolor\":\"white\",\"showbackground\":true,\"ticks\":\"\",\"zerolinecolor\":\"white\"}},\"shapedefaults\":{\"line\":{\"color\":\"#2a3f5f\"}},\"ternary\":{\"aaxis\":{\"gridcolor\":\"white\",\"linecolor\":\"white\",\"ticks\":\"\"},\"baxis\":{\"gridcolor\":\"white\",\"linecolor\":\"white\",\"ticks\":\"\"},\"bgcolor\":\"#E5ECF6\",\"caxis\":{\"gridcolor\":\"white\",\"linecolor\":\"white\",\"ticks\":\"\"}},\"title\":{\"x\":0.05},\"xaxis\":{\"automargin\":true,\"gridcolor\":\"white\",\"linecolor\":\"white\",\"ticks\":\"\",\"title\":{\"standoff\":15},\"zerolinecolor\":\"white\",\"zerolinewidth\":2},\"yaxis\":{\"automargin\":true,\"gridcolor\":\"white\",\"linecolor\":\"white\",\"ticks\":\"\",\"title\":{\"standoff\":15},\"zerolinecolor\":\"white\",\"zerolinewidth\":2}}},\"xaxis\":{\"anchor\":\"y\",\"domain\":[0.0,1.0],\"title\":{\"text\":\"Error Terms - (y_test - y_predicted)\"}},\"yaxis\":{\"anchor\":\"x\",\"domain\":[0.0,1.0],\"title\":{\"text\":\"probability\"}},\"legend\":{\"title\":{\"text\":\"variable\"},\"tracegroupgap\":0},\"margin\":{\"t\":60},\"barmode\":\"relative\",\"title\":{\"text\":\"Error Terms\"}},                        {\"responsive\": true}                    ).then(function(){\n",
              "                            \n",
              "var gd = document.getElementById('19cc27fb-84ec-4d24-bbbf-0e186ac57722');\n",
              "var x = new MutationObserver(function (mutations, observer) {{\n",
              "        var display = window.getComputedStyle(gd).display;\n",
              "        if (!display || display === 'none') {{\n",
              "            console.log([gd, 'removed!']);\n",
              "            Plotly.purge(gd);\n",
              "            observer.disconnect();\n",
              "        }}\n",
              "}});\n",
              "\n",
              "// Listen for the removal of the full notebook cells\n",
              "var notebookContainer = gd.closest('#notebook-container');\n",
              "if (notebookContainer) {{\n",
              "    x.observe(notebookContainer, {childList: true});\n",
              "}}\n",
              "\n",
              "// Listen for the clearing of the current output cell\n",
              "var outputEl = gd.closest('.output');\n",
              "if (outputEl) {{\n",
              "    x.observe(outputEl, {childList: true});\n",
              "}}\n",
              "\n",
              "                        })                };                            </script>        </div>\n",
              "</body>\n",
              "</html>"
            ]
          },
          "metadata": {}
        }
      ]
    },
    {
      "cell_type": "markdown",
      "source": [
        "#### Observations\n",
        "\n",
        "*   Assumptions of Linear regression model is Error terms should be normally distributed and we saw that our model has almost mean of zero and normally distributed. \n",
        "*   And also there is no multicollinality as we have all features in final model <5 for VIF\n",
        "\n",
        "\n",
        "\n",
        "\n",
        "\n"
      ],
      "metadata": {
        "id": "EuUDyRkW5k1f"
      }
    },
    {
      "cell_type": "code",
      "source": [
        "px.scatter(x=y_train,y=y_train_pred)"
      ],
      "metadata": {
        "colab": {
          "base_uri": "https://localhost:8080/",
          "height": 542
        },
        "id": "ZMxQ713D43ME",
        "outputId": "cd9f910c-2f6d-4dc7-cd00-90ed070ccf6a"
      },
      "execution_count": 303,
      "outputs": [
        {
          "output_type": "display_data",
          "data": {
            "text/html": [
              "<html>\n",
              "<head><meta charset=\"utf-8\" /></head>\n",
              "<body>\n",
              "    <div>            <script src=\"https://cdnjs.cloudflare.com/ajax/libs/mathjax/2.7.5/MathJax.js?config=TeX-AMS-MML_SVG\"></script><script type=\"text/javascript\">if (window.MathJax) {MathJax.Hub.Config({SVG: {font: \"STIX-Web\"}});}</script>                <script type=\"text/javascript\">window.PlotlyConfig = {MathJaxConfig: 'local'};</script>\n",
              "        <script src=\"https://cdn.plot.ly/plotly-2.8.3.min.js\"></script>                <div id=\"13155697-71cc-49a6-bb56-6b75c250dca8\" class=\"plotly-graph-div\" style=\"height:525px; width:100%;\"></div>            <script type=\"text/javascript\">                                    window.PLOTLYENV=window.PLOTLYENV || {};                                    if (document.getElementById(\"13155697-71cc-49a6-bb56-6b75c250dca8\")) {                    Plotly.newPlot(                        \"13155697-71cc-49a6-bb56-6b75c250dca8\",                        [{\"hovertemplate\":\"x=%{x}<br>y=%{y}<extra></extra>\",\"legendgroup\":\"\",\"marker\":{\"color\":\"#636efa\",\"symbol\":\"circle\"},\"mode\":\"markers\",\"name\":\"\",\"orientation\":\"v\",\"showlegend\":false,\"x\":[0.8642429820524621,0.8276576161988035,0.46525540727105386,0.20409572020248506,0.4829728485964105,0.19109526000920388,0.7825586746433503,0.8515876668200645,0.7103083294983893,0.4998849516797055,0.6924758398527382,0.9817073170731707,0.47491946617579384,0.737919926369075,0.541302346985734,0.8856419696272435,0.5208237459733088,0.6653244362632306,0.7147952139898758,0.5105844454670961,0.594684767602393,0.645651173492867,0.8094799815922687,0.6026231017027152,0.3487114588127013,0.7826737229636448,0.4718131615278417,0.7988955361251726,0.8361711919005983,0.5255407271053842,0.3912793373216751,0.5774275195582145,0.3854118729866544,0.5164519098021169,0.5716751035434883,0.5738610216290843,0.1694661757938334,0.5008053382420616,0.7779567418315693,0.6658996778647032,0.6158536585365854,0.4688219052001841,0.26138978370915783,0.13598711458812704,0.621491026231017,0.5311780947998159,0.7303267372296365,0.7832489645651174,0.7187068568798896,0.8427289461573861,0.5306028531983433,0.8034974689369535,0.4723884031293143,0.5036815462494247,0.6728025770823746,0.6120570639668661,0.7672572480441786,0.5961803957662218,0.5543028071790151,0.7612747353888634,0.3613667740450989,0.4653704555913484,0.6385181776346065,0.3034974689369535,0.6303497468936954,0.711113667740451,0.5827197422917626,0.4752646111366774,0.332604693971468,0.6913253566497929,0.6916705016106764,0.4262540266912103,0.9023239760699494,0.13173032673722965,0.5885872066267832,0.35883571099861944,0.18223653934652556,0.44696272434422457,0.5199033594109526,0.43200644270593647,0.5391164289001381,0.43085595950299127,0.37057063966866083,0.2754256787850897,0.17303267372296366,0.35078232857800273,0.49263690750115047,0.5025310630464795,0.2846295444086516,0.19443166129774506,0.1711919005982513,0.4184307409111827,0.8445697192820985,0.6369075011504832,0.6213759779107225,0.12482742751955822,0.1489875747814082,0.5861711919005983,0.4753796594569719,0.3829958582604694,0.20651173492867006,0.368844914864243,0.08421537045559135,0.25368154624942474,0.8459502991256328,0.7115738610216291,0.22112287160607458,0.20593649332719743,0.5257708237459733,0.7877358490566038,0.8825356649792914,0.5367004141739531,0.25655775425678784,0.08962264150943397,0.5921537045559135,0.371260929590428,0.18028071790151864,0.5895075931891395,0.2822135296824666,0.3782788771283939,0.4981592268752876,0.16037735849056606,0.4359180855959503,0.17498849516797058,0.8499769903359411,0.6025080533824206,0.4131385181776346,0.5454440865163369,0.5500460193281178,0.5590197883110907,0.10780027611596871,0.5601702715140359,0.24286700414173956,0.4049700874367234,0.1872986654394846,0.6564657156005522,0.5841003221352968,0.4684767602393005,0.46226415094339623,0.41141279337321673,0.3117809479981592,0.4712379199263691,0.39196962724344225,0.5323285780027611,0.7211228716060746,0.6098711458812701,0.5465945697192821,0.1655545329038196,0.4966635987114588,0.5357800276115968,0.8724114127933732,0.19132535664979292,0.0,0.7146801656695813,0.3504371836171192,0.33271974229176254,0.7072020248504371,0.8538886332259549,0.4430510814542108,0.5322135296824666,0.7893465255407272,0.7888863322595491,0.38069489185457894,0.45467096180395766,0.28428439944776807,0.8564196962724344,0.5793833410032213,0.5401518637827888,0.4081914404049701,0.1130924988495168,0.12379199263690752,0.7142199723884032,0.5212839392544869,0.6239070409572021,0.5249654855039116,0.8989875747814082,0.2271053842613898,0.4139438564196963,0.38897837091578463,0.17579383341003224,0.5985964104924069,0.4722733548090198,0.890819144040497,0.8430740911182697,0.3504371836171192,0.5767372296364474,0.11033133916244822,0.8342153704555914,0.17418315692590888,0.667395306028532,0.2618499769903359,0.4012885411872987,0.8697653014265992,0.3984123331799356,0.4352277956741832,0.7879659456971928,0.6396686608375518,0.4423607915324436,0.36493327197422915,0.49470777726645193,0.0785780027611597,0.8229406350667281,0.5658076392084675,0.45075931891394383,0.5398067188219052,0.4024390243902439,0.4989645651173493,0.44098021168890933,0.20628163828808102,0.06707317073170732,0.8695352047860101,0.5196732627703635,0.49148642429820527,0.5176023930050622,0.24792913023469862,0.2772664519098021,0.703865623561896,0.7535664979291302,1.0000000000000002,0.43994477680625865,0.5922687528762081,0.5037965945697193,0.308444546709618,0.19868844914864245,0.563046479521399,0.5624712379199264,0.8469857340082835,0.8647031753336402,0.06960423377818684,0.585020708697653,0.5547630004601933,0.2314772204325817,0.6260929590427979,0.2926829268292683,0.5859410952600093,0.6565807639208467,0.512310170271514,0.47940635066728027,0.5037965945697193,0.7773815002300967,0.36723423838011965,0.8829958582604694,0.8823055683387023,0.40520018407731245,0.6803957662218132,0.8871375977910723,0.8765531523239761,0.26231017027151404,0.7145651173492867,0.46629084215370453,0.7902669121030833,0.46180395766221816,0.7564427059364933,0.6984583525080534,0.38713759779107226,0.7227335480901979,0.5349746893695352,0.7487344684767603,0.6495628163828808,0.27082374597330877,0.19224574321214913,0.5541877588587206,0.7138748274275196,0.24298205246203408,0.7871606074551312,0.8557294063506673,0.7557524160147262,0.6783248964565117,0.8002761159687068,0.14277496548550392,0.7636907501150484,0.2699033594109526,0.6315002300966406,0.8411182696732628,0.3829958582604694,0.25943396226415094,0.6938564196962724,0.5715600552231938,0.09203865623561897,0.21042337781868387,0.6756787850897377,0.45467096180395766,0.31304647952139897,0.6631385181776346,0.514265991716521,0.5687988955361252,0.4301656695812241,0.380924988495168,0.4491486424298205,0.11562356189599632,0.6400138057984354,0.6861481822365394,0.8025770823745974,0.9316612977450529,0.4697422917625403,0.047054763000460194,0.27634606534744593,0.4800966405890474,0.18212149102623104,0.41233317993557295,0.7221583064887253,0.7503451449608836,0.36447307869305107,0.5104693971468016,0.6517487344684768,0.21283939254486886,0.7868154624942476,0.6339162448228256,0.4188909341923608,0.11378278877128395,0.4993097100782329,0.5934192360791533,0.9282098481362172,0.7665669581224114,0.47503451449608836,0.8413483663138518,0.7013345605154165,0.47917625402669123,0.4930971007823286,0.8953060285319835,0.4654855039116429,0.30039116428900137,0.3245513115508514,0.6367924528301887,0.27554072710538424,0.6086056143580304,0.3155775425678785,0.3858720662678325,0.6547399907961344,0.643005062126093,0.16428900138057986,0.6020478601012426,0.4790612057063967,0.5631615278416935,0.6701564657156006,0.41728025770823746,0.24275195582144501,0.8512425218591809,0.5568338702254947,0.4800966405890474,0.5450989415554532,0.4796364473078693,0.7532213529682467,0.25161067648412333,0.9008283479061205,0.25172572480441785,0.5323285780027611,0.5864012885411873,0.5701794753796595,0.27646111366774045,0.44546709618039576,0.6961573861021629,0.27646111366774045,0.33490566037735847,0.7825586746433503,0.13115508513575702,0.8505522319374137,0.28336401288541185,0.5823745973308789,0.43281178094799816,0.2120340543028072,0.6733778186838473,0.6301196502531063,0.24965485503911647,0.819834330418776,0.20938794293603316,0.5337091578462955,0.5355499309710078,0.5104693971468016,0.4786010124252186,0.8148872526461114,0.7861251725724805,0.594684767602393,0.7053612517257248,0.36723423838011965,0.676829268292683,0.5864012885411873,0.5483202945237,0.5232397606994937,0.14104924068108607,0.14714680165669583,0.5781178094799816,0.35607455131155086,0.6530142659917165,0.19397146801656698,0.4027841693511275,0.606994937873907,0.4887252646111367,0.8357109986194202,0.3762080073630925,0.2738150023009664,0.5133456051541647,0.8331799355729407,0.8074091118269674,0.40899677864703177,0.3068338702254947,0.7527611596870686,0.5238150023009664,0.5617809479981593,0.5269213069489186,0.21502531063046482,0.6197653014265991,0.8601012425218592,0.11251725724804418,0.45260009203865625,0.19132535664979292,0.6578462954440866,0.5346295444086516,0.5011504832029452,0.5859410952600093,0.2406810860561436,0.41670501610676486,0.902899217671422,0.5014956281638289,0.5300276115968707,0.9370685687988956,0.5095490105844455,0.41635987114588124,0.7098481362172112,0.4486884491486424,0.8521629084215371,0.8091348366313852,0.17337781868384722,0.3986424298205246,0.7030602853198343,0.9595029912563277,0.6789001380579843,0.4965485503911643,0.5479751495628163,0.2470087436723424,0.24620340543028074,0.3849516797054763,0.37011044638748275,0.8529682466635987,0.8708007363092499,0.320524620340543,0.45881270133456054,0.20398067188219055,0.4086516336861482,0.17349286700414177,0.18419236079153245,0.6319604233778187,0.6078002761159688,0.6378278877128394,0.8062586286240221,0.8763230556833871,0.523930050621261,0.41440404970087436,0.4882650713299586,0.9138288080994018,0.8043028071790153,0.5570639668660837,0.2762310170271514,0.7406810860561436,0.5341693511274735,0.16095260009203868,0.11079153244362633,0.7595490105844455,0.42774965485503913,0.7218131615278417,0.06914404049700876,0.3535434882650713,0.07604693971468016,0.17015646571560056,0.891049240681086,0.7565577542567878,0.8642429820524621,0.27692130694891853,0.7236539346525541,0.4873446847676024,0.3331799355729406,0.5159917165209388,0.7857800276115969,0.41958122411412796,0.373907040957202,0.1257478140819144,0.5224344224574321,0.6143580303727566,0.2364242982052462,0.3198343304187759,0.6455361251725725,0.8632075471698113,0.15266912103083297,0.4132535664979291,0.4529452369995398,0.5135757017947538,0.616658996778647,0.18557294063506674,0.4528301886792453,0.7932581684307409,0.18154624942475842,0.815692590888173,0.533594109526001,0.35745513115508515,0.12356189599631848,0.22491946617579386,0.23078693051081456,0.3558444546709618,0.835250805338242,0.6026231017027152,0.9377588587206627,0.42510354348826507,0.5375057524160147,0.861366774045099,0.6197653014265991,0.7641509433962265,0.8328347906120571,0.21801656695812244,0.3125862862402209,0.2364242982052462],\"xaxis\":\"x\",\"y\":[0.7303825840120522,0.745504937858615,0.495077268216512,0.3315335886501185,0.5760118101333157,0.26681317090434736,0.8571882813388343,0.8078746617528928,0.7197359879753676,0.6111777590553407,0.5271397635512053,0.8932588902360044,0.4769496401709135,0.7466765783788246,0.5091952460346065,0.7825333854684611,0.6515294329294168,0.5681358652771272,0.5727055390657572,0.5414944474445422,0.5949468730859626,0.6170613883653819,0.7750341105923806,0.6007017559329146,0.2786389037762365,0.8422261651082688,0.40393745970369843,0.7724480064077889,0.7430718582476938,0.5260605098813897,0.38681951570515816,0.44361947002727287,0.6354975900955302,0.4156202524807086,0.4911235845990858,0.5906869513494573,0.3837407637113205,0.5364427301971546,0.8193062209095393,0.74143986613138,0.5886680917988825,0.4565682031625643,0.47930554190044095,0.14636687584333222,0.7136655292148092,0.5294649532782819,0.7200916850028013,0.7893291505191111,0.6886400539632586,0.8029847570843452,0.5395062138068702,0.7932402873593786,0.5704940291886865,0.5142536957018315,0.612572813429796,0.5835496454598085,0.7662076014484186,0.5401076827945827,0.8572545120647722,0.6817228605046061,0.3360205792374686,0.425512029628877,0.610573562288487,0.24402992738008467,0.5256953249089716,0.7779705300227894,0.6828638835525764,0.47833267750010844,0.4879490705970845,0.7206124154636903,0.8103838655658695,0.37560283318976573,0.7855132152810315,0.126913946316751,0.5331131521033813,0.4475989707906687,0.22864396595671688,0.6187925083766517,0.5819405735184805,0.4728199733719085,0.4251200553988923,0.46465436793572024,0.3924861171616506,0.2370532465958358,0.10844896372286836,0.43092290047821613,0.4590483315095074,0.5627934566389367,0.3193639996623644,0.2913541205180523,0.1035743348708498,0.43516300768712435,0.7903125885633855,0.6202597522051747,0.6417508297933421,0.06242022316095716,0.18942375528227362,0.5406919995371368,0.5129052388073666,0.3344150181228378,0.22239824187020815,0.5475888922392572,0.18842864146191954,0.22821352968347658,0.8087426283483629,0.814685264952148,0.12687318981145101,0.1669674946569814,0.5306898796509709,0.7026796346006721,0.8313345070346816,0.5030273235140837,0.279151591315047,0.12892916464926493,0.6481438241681026,0.348315756707397,0.189355248178315,0.6849695824578022,0.326990039614661,0.39555913049693625,0.4831784490805999,0.12703222127774041,0.39874728641181,0.09931782381352254,0.5982567114010487,0.6063695689146463,0.3649620624216787,0.5927735727350505,0.5242110183407931,0.4713849828110116,0.05269169079102985,0.5289041077078454,0.2688269173908415,0.4667357565197766,0.1557883892327649,0.6456408214328021,0.6715474114125599,0.5017195312619178,0.41509141907535585,0.49487747377132874,0.39312685461241775,0.46513508819464927,0.4965427032421186,0.5352849019491025,0.6657817962869226,0.6342508945368126,0.5338088164366355,0.1529896670101386,0.534715536341597,0.5694033645854404,0.811490522986935,0.16600422540679588,0.3834367165524859,0.7554065573585369,0.2927497533865221,0.38321062479719803,0.7621727721518778,0.7036280248007444,0.5073389843489367,0.5390163052922747,0.7164229424157873,0.752671540995514,0.3447558161233307,0.4708191830632583,0.40900809598933613,0.8049019382072478,0.5637452422674107,0.6653766108450744,0.39133570171669807,0.1404557281756168,0.20802211107771185,0.673618876667023,0.3833379555551565,0.5569788096820245,0.6273850804834743,0.5745583570017501,0.28241166141645213,0.4236317166487047,0.37171282610756895,0.13525385938360615,0.4783357957024922,0.6982964798439906,0.8153856472035004,0.8284459420146739,0.48608395563654755,0.47812237991921336,0.10591180404087794,0.7641182208498496,0.2627543773661256,0.7839624718163635,0.33672994521197414,0.5734845727186979,0.7411222853959598,0.39111325019611887,0.5569556838243319,0.7635728089225088,0.6283639195980975,0.5290705912980094,0.45125073865595244,0.49951502320621,0.14847446168294273,0.7536091517698713,0.5635425863224659,0.42830710984873166,0.5145551064908068,0.3534225973023693,0.6695233614156831,0.4176773211876402,0.18557289827667622,0.110569784264034,0.8206272339371287,0.4524595673414471,0.49362833007224166,0.5600272418726782,0.40050553325756444,0.3781746863722194,0.8303631266715752,0.6788294039011239,0.7938355065919297,0.5967459234036667,0.6251090301129574,0.42689260326063394,0.4342899233936991,0.3833497237911075,0.49643259109787774,0.45923485330054137,0.7605344154102256,0.8902188543320722,0.012023583773192903,0.5834928648948645,0.5714793398933795,0.3723650633663288,0.7684234237078105,0.34606668959834574,0.7018192426466361,0.6663012679588816,0.5679747361058877,0.4150851264636838,0.6633526362780977,0.7004149912308356,0.39077272647337635,0.8064394157515542,0.758799589845709,0.495306121877097,0.6337554608947019,0.9251203395572658,0.7208083519147189,0.20307424225482182,0.6413861944653397,0.46911931289223663,0.7047247089769674,0.3649707946970154,0.6930861323220332,0.6699115384856795,0.6475412055828574,0.6513745458323293,0.7928979633360649,0.6881928003211657,0.6687188722026531,0.3847084164501859,0.17153320947418102,0.6963678779224407,0.7647125679483557,0.22755168040457896,0.8583839776960996,0.7219384515786877,0.7589334487278833,0.657992464537438,0.7298326139504316,0.10463640565128982,0.7849951177781106,0.2690667521758425,0.521164507049505,0.7579743118427574,0.44850076784685255,0.5342259993223348,0.6818168122835238,0.5946746591487453,0.01267438304408606,0.21394172061679814,0.5419194313986815,0.5536578242949707,0.328006150758546,0.7079971052876322,0.4711967122958266,0.6335996168914443,0.4668720010535471,0.42787128387022855,0.4079251134322977,0.26176662269560225,0.6553880436948722,0.5879917546195981,0.7486427264370571,0.778772411016216,0.40060909556351554,0.21207470538890885,0.23568982894143772,0.4317664987903559,0.051961092690060495,0.5499000523882933,0.7066164938743689,0.7552931273782519,0.35444840368484126,0.3807966890200891,0.7746192112585644,0.15997670293048222,0.7653926788513403,0.6143938879391945,0.3981833838485768,0.25694706926190575,0.5086572993571777,0.555359079739572,0.7678869687400025,0.7828565486032129,0.4907512008867919,0.6992340372032424,0.7161849031478718,0.5123119162401523,0.5077972629436974,0.8263516730746959,0.46490663893140116,0.2940443208368777,0.6642276871974727,0.6828120081420719,0.22630060101624555,0.45859575558349513,0.21712905041500993,0.3984233715791456,0.8122527528028807,0.6267316883904219,0.16464048537980588,0.6052174692411144,0.47534588965897095,0.5260123919278479,0.631840023642087,0.39819769130465443,0.2670045990545038,0.7551476660973189,0.5745413266229784,0.4399200958190519,0.4004652598117956,0.383258612752174,0.6497489870557928,0.27798864178639604,0.6789299925847958,0.30199822787214275,0.35809926555377236,0.5398820550694201,0.5790196898731998,0.6345795768456173,0.4299234777813701,0.7133608517715514,0.3290509882620787,0.34792842111445543,0.6773298797304103,0.11517022132858447,0.8555467092846561,0.32992030414402673,0.4705149149877945,0.4886797130775423,0.2235437223214588,0.6682398717603254,0.5696764613746934,0.2059193630872998,0.49304479570347093,0.26279032122188917,0.5980754059817439,0.5937542078438083,0.5336808817455436,0.5268134032646615,0.764583116246798,0.7302275139990909,0.5888029038042926,0.6540545396960997,0.4615063469787617,0.8225569888342958,0.6195929665527662,0.5072930808591931,0.5341349357558984,0.14493964810595528,0.30797500118240534,0.6756471816344608,0.3245655172418343,0.6704777816009857,0.1293501824049648,0.39535733272292783,0.5890145058414318,0.4854496590669385,0.8391967443815305,0.39407197151211626,0.24751938628771114,0.6117054449803876,0.7404789185947986,0.8054307641059671,0.3175026773486652,0.29880079134795695,0.7510715148284224,0.43284346909119376,0.5820572046684582,0.6244763608149555,0.14399896464718043,0.6116651356335935,0.8491979423817911,0.01897103426499551,0.4457646135334612,0.025533652417514513,0.6997546232937331,0.5753736945727004,0.5145981926140905,0.6008456377566536,0.29767904461991745,0.44863413121511686,0.80549453339823,0.43863122111558517,0.5324898877938906,0.8004048148926306,0.41607554397247315,0.4590912310689468,0.6576325053282228,0.43393745567878067,0.7817671495666051,0.7828135779188585,0.22240465561886616,0.4609054791725371,0.6704935651873261,0.7062602490269364,0.4924415299584848,0.5312080482749622,0.6020167594199409,0.11810399706130535,0.32554903048488626,0.29475775280231653,0.39654976945799425,0.8876427338756627,0.7604707859708779,0.38591099960627984,0.4793171571576412,0.27258718749337624,0.512568770906719,0.12550439531849292,0.20056344956259411,0.48778274485686113,0.45975963315855306,0.5790345104007456,0.7216287477556287,0.7719184078563714,0.4841118039570883,0.44685894788517216,0.6080802383471035,0.7712448591265683,0.7695025002785911,0.5033908545297412,0.24184492512117056,0.6110471480107642,0.5468825337344936,0.18620838043308183,0.22623176293576636,0.7342860705004661,0.35966090260583483,0.7926602241337108,0.006212753085367895,0.3738146913656383,0.12656494263301588,0.08222824885574437,0.8057309869327697,0.7980363774992456,0.7730706408832365,0.3564248165183516,0.6788557268973328,0.5560888238725421,0.2637252724205017,0.5318738731280825,0.6637693419883616,0.44418365720171293,0.4827379586917211,0.4224344543842638,0.4835359470157532,0.5223207454860299,0.21070276175256003,0.38814387442873055,0.6360178567167987,0.7658780935962654,0.1519029062932527,0.4253388108074438,0.5021810116008737,0.5062651313033518,0.5679299458129736,0.23118339734138416,0.540720343620523,0.8152465041542022,0.19786105297648462,0.888018719198664,0.49710722441104843,0.3961150917142895,0.5293678937420301,0.24067142982588488,0.30821946868016326,0.4609533996811118,0.6954623968710753,0.7206978222809685,0.739407449338273,0.3920746229639056,0.5858341657692451,0.6664019186467853,0.5836828496011255,0.7436244208259241,0.8522682372694032,0.2362161390783715,0.2544830518320746,0.30921668303212124],\"yaxis\":\"y\",\"type\":\"scatter\"}],                        {\"template\":{\"data\":{\"bar\":[{\"error_x\":{\"color\":\"#2a3f5f\"},\"error_y\":{\"color\":\"#2a3f5f\"},\"marker\":{\"line\":{\"color\":\"#E5ECF6\",\"width\":0.5},\"pattern\":{\"fillmode\":\"overlay\",\"size\":10,\"solidity\":0.2}},\"type\":\"bar\"}],\"barpolar\":[{\"marker\":{\"line\":{\"color\":\"#E5ECF6\",\"width\":0.5},\"pattern\":{\"fillmode\":\"overlay\",\"size\":10,\"solidity\":0.2}},\"type\":\"barpolar\"}],\"carpet\":[{\"aaxis\":{\"endlinecolor\":\"#2a3f5f\",\"gridcolor\":\"white\",\"linecolor\":\"white\",\"minorgridcolor\":\"white\",\"startlinecolor\":\"#2a3f5f\"},\"baxis\":{\"endlinecolor\":\"#2a3f5f\",\"gridcolor\":\"white\",\"linecolor\":\"white\",\"minorgridcolor\":\"white\",\"startlinecolor\":\"#2a3f5f\"},\"type\":\"carpet\"}],\"choropleth\":[{\"colorbar\":{\"outlinewidth\":0,\"ticks\":\"\"},\"type\":\"choropleth\"}],\"contour\":[{\"colorbar\":{\"outlinewidth\":0,\"ticks\":\"\"},\"colorscale\":[[0.0,\"#0d0887\"],[0.1111111111111111,\"#46039f\"],[0.2222222222222222,\"#7201a8\"],[0.3333333333333333,\"#9c179e\"],[0.4444444444444444,\"#bd3786\"],[0.5555555555555556,\"#d8576b\"],[0.6666666666666666,\"#ed7953\"],[0.7777777777777778,\"#fb9f3a\"],[0.8888888888888888,\"#fdca26\"],[1.0,\"#f0f921\"]],\"type\":\"contour\"}],\"contourcarpet\":[{\"colorbar\":{\"outlinewidth\":0,\"ticks\":\"\"},\"type\":\"contourcarpet\"}],\"heatmap\":[{\"colorbar\":{\"outlinewidth\":0,\"ticks\":\"\"},\"colorscale\":[[0.0,\"#0d0887\"],[0.1111111111111111,\"#46039f\"],[0.2222222222222222,\"#7201a8\"],[0.3333333333333333,\"#9c179e\"],[0.4444444444444444,\"#bd3786\"],[0.5555555555555556,\"#d8576b\"],[0.6666666666666666,\"#ed7953\"],[0.7777777777777778,\"#fb9f3a\"],[0.8888888888888888,\"#fdca26\"],[1.0,\"#f0f921\"]],\"type\":\"heatmap\"}],\"heatmapgl\":[{\"colorbar\":{\"outlinewidth\":0,\"ticks\":\"\"},\"colorscale\":[[0.0,\"#0d0887\"],[0.1111111111111111,\"#46039f\"],[0.2222222222222222,\"#7201a8\"],[0.3333333333333333,\"#9c179e\"],[0.4444444444444444,\"#bd3786\"],[0.5555555555555556,\"#d8576b\"],[0.6666666666666666,\"#ed7953\"],[0.7777777777777778,\"#fb9f3a\"],[0.8888888888888888,\"#fdca26\"],[1.0,\"#f0f921\"]],\"type\":\"heatmapgl\"}],\"histogram\":[{\"marker\":{\"pattern\":{\"fillmode\":\"overlay\",\"size\":10,\"solidity\":0.2}},\"type\":\"histogram\"}],\"histogram2d\":[{\"colorbar\":{\"outlinewidth\":0,\"ticks\":\"\"},\"colorscale\":[[0.0,\"#0d0887\"],[0.1111111111111111,\"#46039f\"],[0.2222222222222222,\"#7201a8\"],[0.3333333333333333,\"#9c179e\"],[0.4444444444444444,\"#bd3786\"],[0.5555555555555556,\"#d8576b\"],[0.6666666666666666,\"#ed7953\"],[0.7777777777777778,\"#fb9f3a\"],[0.8888888888888888,\"#fdca26\"],[1.0,\"#f0f921\"]],\"type\":\"histogram2d\"}],\"histogram2dcontour\":[{\"colorbar\":{\"outlinewidth\":0,\"ticks\":\"\"},\"colorscale\":[[0.0,\"#0d0887\"],[0.1111111111111111,\"#46039f\"],[0.2222222222222222,\"#7201a8\"],[0.3333333333333333,\"#9c179e\"],[0.4444444444444444,\"#bd3786\"],[0.5555555555555556,\"#d8576b\"],[0.6666666666666666,\"#ed7953\"],[0.7777777777777778,\"#fb9f3a\"],[0.8888888888888888,\"#fdca26\"],[1.0,\"#f0f921\"]],\"type\":\"histogram2dcontour\"}],\"mesh3d\":[{\"colorbar\":{\"outlinewidth\":0,\"ticks\":\"\"},\"type\":\"mesh3d\"}],\"parcoords\":[{\"line\":{\"colorbar\":{\"outlinewidth\":0,\"ticks\":\"\"}},\"type\":\"parcoords\"}],\"pie\":[{\"automargin\":true,\"type\":\"pie\"}],\"scatter\":[{\"marker\":{\"colorbar\":{\"outlinewidth\":0,\"ticks\":\"\"}},\"type\":\"scatter\"}],\"scatter3d\":[{\"line\":{\"colorbar\":{\"outlinewidth\":0,\"ticks\":\"\"}},\"marker\":{\"colorbar\":{\"outlinewidth\":0,\"ticks\":\"\"}},\"type\":\"scatter3d\"}],\"scattercarpet\":[{\"marker\":{\"colorbar\":{\"outlinewidth\":0,\"ticks\":\"\"}},\"type\":\"scattercarpet\"}],\"scattergeo\":[{\"marker\":{\"colorbar\":{\"outlinewidth\":0,\"ticks\":\"\"}},\"type\":\"scattergeo\"}],\"scattergl\":[{\"marker\":{\"colorbar\":{\"outlinewidth\":0,\"ticks\":\"\"}},\"type\":\"scattergl\"}],\"scattermapbox\":[{\"marker\":{\"colorbar\":{\"outlinewidth\":0,\"ticks\":\"\"}},\"type\":\"scattermapbox\"}],\"scatterpolar\":[{\"marker\":{\"colorbar\":{\"outlinewidth\":0,\"ticks\":\"\"}},\"type\":\"scatterpolar\"}],\"scatterpolargl\":[{\"marker\":{\"colorbar\":{\"outlinewidth\":0,\"ticks\":\"\"}},\"type\":\"scatterpolargl\"}],\"scatterternary\":[{\"marker\":{\"colorbar\":{\"outlinewidth\":0,\"ticks\":\"\"}},\"type\":\"scatterternary\"}],\"surface\":[{\"colorbar\":{\"outlinewidth\":0,\"ticks\":\"\"},\"colorscale\":[[0.0,\"#0d0887\"],[0.1111111111111111,\"#46039f\"],[0.2222222222222222,\"#7201a8\"],[0.3333333333333333,\"#9c179e\"],[0.4444444444444444,\"#bd3786\"],[0.5555555555555556,\"#d8576b\"],[0.6666666666666666,\"#ed7953\"],[0.7777777777777778,\"#fb9f3a\"],[0.8888888888888888,\"#fdca26\"],[1.0,\"#f0f921\"]],\"type\":\"surface\"}],\"table\":[{\"cells\":{\"fill\":{\"color\":\"#EBF0F8\"},\"line\":{\"color\":\"white\"}},\"header\":{\"fill\":{\"color\":\"#C8D4E3\"},\"line\":{\"color\":\"white\"}},\"type\":\"table\"}]},\"layout\":{\"annotationdefaults\":{\"arrowcolor\":\"#2a3f5f\",\"arrowhead\":0,\"arrowwidth\":1},\"autotypenumbers\":\"strict\",\"coloraxis\":{\"colorbar\":{\"outlinewidth\":0,\"ticks\":\"\"}},\"colorscale\":{\"diverging\":[[0,\"#8e0152\"],[0.1,\"#c51b7d\"],[0.2,\"#de77ae\"],[0.3,\"#f1b6da\"],[0.4,\"#fde0ef\"],[0.5,\"#f7f7f7\"],[0.6,\"#e6f5d0\"],[0.7,\"#b8e186\"],[0.8,\"#7fbc41\"],[0.9,\"#4d9221\"],[1,\"#276419\"]],\"sequential\":[[0.0,\"#0d0887\"],[0.1111111111111111,\"#46039f\"],[0.2222222222222222,\"#7201a8\"],[0.3333333333333333,\"#9c179e\"],[0.4444444444444444,\"#bd3786\"],[0.5555555555555556,\"#d8576b\"],[0.6666666666666666,\"#ed7953\"],[0.7777777777777778,\"#fb9f3a\"],[0.8888888888888888,\"#fdca26\"],[1.0,\"#f0f921\"]],\"sequentialminus\":[[0.0,\"#0d0887\"],[0.1111111111111111,\"#46039f\"],[0.2222222222222222,\"#7201a8\"],[0.3333333333333333,\"#9c179e\"],[0.4444444444444444,\"#bd3786\"],[0.5555555555555556,\"#d8576b\"],[0.6666666666666666,\"#ed7953\"],[0.7777777777777778,\"#fb9f3a\"],[0.8888888888888888,\"#fdca26\"],[1.0,\"#f0f921\"]]},\"colorway\":[\"#636efa\",\"#EF553B\",\"#00cc96\",\"#ab63fa\",\"#FFA15A\",\"#19d3f3\",\"#FF6692\",\"#B6E880\",\"#FF97FF\",\"#FECB52\"],\"font\":{\"color\":\"#2a3f5f\"},\"geo\":{\"bgcolor\":\"white\",\"lakecolor\":\"white\",\"landcolor\":\"#E5ECF6\",\"showlakes\":true,\"showland\":true,\"subunitcolor\":\"white\"},\"hoverlabel\":{\"align\":\"left\"},\"hovermode\":\"closest\",\"mapbox\":{\"style\":\"light\"},\"paper_bgcolor\":\"white\",\"plot_bgcolor\":\"#E5ECF6\",\"polar\":{\"angularaxis\":{\"gridcolor\":\"white\",\"linecolor\":\"white\",\"ticks\":\"\"},\"bgcolor\":\"#E5ECF6\",\"radialaxis\":{\"gridcolor\":\"white\",\"linecolor\":\"white\",\"ticks\":\"\"}},\"scene\":{\"xaxis\":{\"backgroundcolor\":\"#E5ECF6\",\"gridcolor\":\"white\",\"gridwidth\":2,\"linecolor\":\"white\",\"showbackground\":true,\"ticks\":\"\",\"zerolinecolor\":\"white\"},\"yaxis\":{\"backgroundcolor\":\"#E5ECF6\",\"gridcolor\":\"white\",\"gridwidth\":2,\"linecolor\":\"white\",\"showbackground\":true,\"ticks\":\"\",\"zerolinecolor\":\"white\"},\"zaxis\":{\"backgroundcolor\":\"#E5ECF6\",\"gridcolor\":\"white\",\"gridwidth\":2,\"linecolor\":\"white\",\"showbackground\":true,\"ticks\":\"\",\"zerolinecolor\":\"white\"}},\"shapedefaults\":{\"line\":{\"color\":\"#2a3f5f\"}},\"ternary\":{\"aaxis\":{\"gridcolor\":\"white\",\"linecolor\":\"white\",\"ticks\":\"\"},\"baxis\":{\"gridcolor\":\"white\",\"linecolor\":\"white\",\"ticks\":\"\"},\"bgcolor\":\"#E5ECF6\",\"caxis\":{\"gridcolor\":\"white\",\"linecolor\":\"white\",\"ticks\":\"\"}},\"title\":{\"x\":0.05},\"xaxis\":{\"automargin\":true,\"gridcolor\":\"white\",\"linecolor\":\"white\",\"ticks\":\"\",\"title\":{\"standoff\":15},\"zerolinecolor\":\"white\",\"zerolinewidth\":2},\"yaxis\":{\"automargin\":true,\"gridcolor\":\"white\",\"linecolor\":\"white\",\"ticks\":\"\",\"title\":{\"standoff\":15},\"zerolinecolor\":\"white\",\"zerolinewidth\":2}}},\"xaxis\":{\"anchor\":\"y\",\"domain\":[0.0,1.0],\"title\":{\"text\":\"x\"}},\"yaxis\":{\"anchor\":\"x\",\"domain\":[0.0,1.0],\"title\":{\"text\":\"y\"}},\"legend\":{\"tracegroupgap\":0},\"margin\":{\"t\":60}},                        {\"responsive\": true}                    ).then(function(){\n",
              "                            \n",
              "var gd = document.getElementById('13155697-71cc-49a6-bb56-6b75c250dca8');\n",
              "var x = new MutationObserver(function (mutations, observer) {{\n",
              "        var display = window.getComputedStyle(gd).display;\n",
              "        if (!display || display === 'none') {{\n",
              "            console.log([gd, 'removed!']);\n",
              "            Plotly.purge(gd);\n",
              "            observer.disconnect();\n",
              "        }}\n",
              "}});\n",
              "\n",
              "// Listen for the removal of the full notebook cells\n",
              "var notebookContainer = gd.closest('#notebook-container');\n",
              "if (notebookContainer) {{\n",
              "    x.observe(notebookContainer, {childList: true});\n",
              "}}\n",
              "\n",
              "// Listen for the clearing of the current output cell\n",
              "var outputEl = gd.closest('.output');\n",
              "if (outputEl) {{\n",
              "    x.observe(outputEl, {childList: true});\n",
              "}}\n",
              "\n",
              "                        })                };                            </script>        </div>\n",
              "</body>\n",
              "</html>"
            ]
          },
          "metadata": {}
        }
      ]
    },
    {
      "cell_type": "markdown",
      "source": [
        "## Step 7 : Model Evaluation"
      ],
      "metadata": {
        "id": "ArlV0uvl6Onn"
      }
    },
    {
      "cell_type": "code",
      "source": [
        "lr_manual_final.params.index"
      ],
      "metadata": {
        "colab": {
          "base_uri": "https://localhost:8080/"
        },
        "id": "DmhnEIkO6ssR",
        "outputId": "d7972122-404b-49ed-c63e-20c234dc933d"
      },
      "execution_count": 304,
      "outputs": [
        {
          "output_type": "execute_result",
          "data": {
            "text/plain": [
              "Index(['const', 'atemp', 'windspeed', 'season_2', 'season_4', 'mnth_8',\n",
              "       'mnth_9', 'weathersit_2', 'weathersit_3', 'weekday_6', 'yr',\n",
              "       'workingday'],\n",
              "      dtype='object')"
            ]
          },
          "metadata": {},
          "execution_count": 304
        }
      ]
    },
    {
      "cell_type": "code",
      "source": [
        "X_test_lm = sm.add_constant(X_test[X_train.columns])\n",
        "y_test_pred = lr_manual_final.predict(X_test_lm)"
      ],
      "metadata": {
        "id": "rnUNK5276S59"
      },
      "execution_count": 305,
      "outputs": []
    },
    {
      "cell_type": "code",
      "source": [
        "r2 = r2_score(y_test, y_test_pred)\n",
        "r2"
      ],
      "metadata": {
        "colab": {
          "base_uri": "https://localhost:8080/"
        },
        "id": "asGQFheY7AqZ",
        "outputId": "2e2c5b7d-9484-4a02-a50e-356d4c5c24cb"
      },
      "execution_count": 306,
      "outputs": [
        {
          "output_type": "execute_result",
          "data": {
            "text/plain": [
              "0.7985406332345732"
            ]
          },
          "metadata": {},
          "execution_count": 306
        }
      ]
    },
    {
      "cell_type": "markdown",
      "source": [
        "#### Observations\n",
        "\n",
        "\n",
        "*   Our model has **R2-Score of 0.836** with train data and with **test data** predictions we got **0.804** which is good.\n",
        "\n",
        "\n"
      ],
      "metadata": {
        "id": "p8_gCLKD7egI"
      }
    },
    {
      "cell_type": "markdown",
      "source": [
        "----------------------------------------------------------------------------------------------------------------------------------------------------------------\n",
        "\n",
        "# Lets Try to Build model with RFE (Recursive Feature Eliminatin)\n",
        "\n",
        "-------------------------------------------------------------------------------\n",
        "-------------------------------------------------------------------------------"
      ],
      "metadata": {
        "id": "f39ZzmW474Gz"
      }
    },
    {
      "cell_type": "markdown",
      "source": [
        "#### We have 11 independent variables in our final model which is built manually. Lets' start with 15 features "
      ],
      "metadata": {
        "id": "FTzfcRrW5bHJ"
      }
    },
    {
      "cell_type": "code",
      "source": [
        "sk_lr_model = LinearRegression()\n",
        "rfe = RFE(sk_lr_model,n_features_to_select=15)\n",
        "rfe = rfe.fit(X_train_sk, y_train_sk)"
      ],
      "metadata": {
        "id": "whZ9PR9h6WJf"
      },
      "execution_count": 307,
      "outputs": []
    },
    {
      "cell_type": "code",
      "source": [
        "list(zip(X_train_sk.columns,rfe.support_,rfe.ranking_))"
      ],
      "metadata": {
        "colab": {
          "base_uri": "https://localhost:8080/"
        },
        "id": "Y1UYx02d8A0g",
        "outputId": "26de32fe-29af-4159-923d-72013975c794"
      },
      "execution_count": 308,
      "outputs": [
        {
          "output_type": "execute_result",
          "data": {
            "text/plain": [
              "[('atemp', True, 1),\n",
              " ('hum', True, 1),\n",
              " ('windspeed', True, 1),\n",
              " ('season_2', True, 1),\n",
              " ('season_3', True, 1),\n",
              " ('season_4', True, 1),\n",
              " ('mnth_2', False, 7),\n",
              " ('mnth_3', False, 3),\n",
              " ('mnth_4', False, 5),\n",
              " ('mnth_5', False, 2),\n",
              " ('mnth_6', False, 4),\n",
              " ('mnth_7', False, 6),\n",
              " ('mnth_8', True, 1),\n",
              " ('mnth_9', True, 1),\n",
              " ('mnth_10', True, 1),\n",
              " ('mnth_11', False, 8),\n",
              " ('mnth_12', False, 9),\n",
              " ('weathersit_2', True, 1),\n",
              " ('weathersit_3', True, 1),\n",
              " ('weekday_1', False, 10),\n",
              " ('weekday_2', False, 11),\n",
              " ('weekday_3', False, 13),\n",
              " ('weekday_4', False, 14),\n",
              " ('weekday_5', False, 12),\n",
              " ('weekday_6', True, 1),\n",
              " ('yr', True, 1),\n",
              " ('holiday', True, 1),\n",
              " ('workingday', True, 1)]"
            ]
          },
          "metadata": {},
          "execution_count": 308
        }
      ]
    },
    {
      "cell_type": "code",
      "source": [
        "sig_cols = X_train_sk.columns[rfe.support_]"
      ],
      "metadata": {
        "id": "as7CdZVk8_qf"
      },
      "execution_count": 309,
      "outputs": []
    },
    {
      "cell_type": "markdown",
      "source": [
        "## RFE - Model 1"
      ],
      "metadata": {
        "id": "eXTHw0ToL-NL"
      }
    },
    {
      "cell_type": "code",
      "source": [
        "X_train_sk = X_train_sk[sig_cols]\n",
        "rfe_model1 = linear_model(sig_cols,X_train_sk)\n"
      ],
      "metadata": {
        "colab": {
          "base_uri": "https://localhost:8080/"
        },
        "id": "XVWdCvCT9JbX",
        "outputId": "497522c9-90c2-404c-d6f9-b42659d7a297"
      },
      "execution_count": 310,
      "outputs": [
        {
          "output_type": "stream",
          "name": "stdout",
          "text": [
            "                            OLS Regression Results                            \n",
            "==============================================================================\n",
            "Dep. Variable:                    cnt   R-squared:                       0.845\n",
            "Model:                            OLS   Adj. R-squared:                  0.840\n",
            "Method:                 Least Squares   F-statistic:                     179.5\n",
            "Date:                Sat, 04 Jun 2022   Prob (F-statistic):          8.04e-189\n",
            "Time:                        22:42:18   Log-Likelihood:                 513.81\n",
            "No. Observations:                 510   AIC:                            -995.6\n",
            "Df Residuals:                     494   BIC:                            -927.9\n",
            "Df Model:                          15                                         \n",
            "Covariance Type:            nonrobust                                         \n",
            "================================================================================\n",
            "                   coef    std err          t      P>|t|      [0.025      0.975]\n",
            "--------------------------------------------------------------------------------\n",
            "const            0.1938      0.029      6.658      0.000       0.137       0.251\n",
            "atemp            0.4920      0.035     14.205      0.000       0.424       0.560\n",
            "hum             -0.1613      0.038     -4.270      0.000      -0.236      -0.087\n",
            "windspeed       -0.1643      0.026     -6.399      0.000      -0.215      -0.114\n",
            "season_2         0.1248      0.015      8.466      0.000       0.096       0.154\n",
            "season_3         0.0501      0.021      2.332      0.020       0.008       0.092\n",
            "season_4         0.1435      0.014     10.580      0.000       0.117       0.170\n",
            "mnth_8           0.0537      0.018      3.068      0.002       0.019       0.088\n",
            "mnth_9           0.1165      0.017      6.735      0.000       0.082       0.150\n",
            "mnth_10          0.0467      0.017      2.675      0.008       0.012       0.081\n",
            "weathersit_2    -0.0601      0.011     -5.721      0.000      -0.081      -0.039\n",
            "weathersit_3    -0.2486      0.027     -9.375      0.000      -0.301      -0.196\n",
            "weekday_6        0.0534      0.015      3.640      0.000       0.025       0.082\n",
            "yr               0.2314      0.008     28.614      0.000       0.215       0.247\n",
            "holiday         -0.0506      0.027     -1.861      0.063      -0.104       0.003\n",
            "workingday       0.0450      0.012      3.861      0.000       0.022       0.068\n",
            "==============================================================================\n",
            "Omnibus:                       74.959   Durbin-Watson:                   2.042\n",
            "Prob(Omnibus):                  0.000   Jarque-Bera (JB):              223.973\n",
            "Skew:                          -0.691   Prob(JB):                     2.32e-49\n",
            "Kurtosis:                       5.937   Cond. No.                         21.2\n",
            "==============================================================================\n",
            "\n",
            "Warnings:\n",
            "[1] Standard Errors assume that the covariance matrix of the errors is correctly specified.\n"
          ]
        }
      ]
    },
    {
      "cell_type": "code",
      "source": [
        "get_vif(X_train_sk[sig_cols])"
      ],
      "metadata": {
        "colab": {
          "base_uri": "https://localhost:8080/"
        },
        "id": "jbKTdUx6MD1C",
        "outputId": "65160eeb-16e1-40cb-b4f1-b934c7236bf2"
      },
      "execution_count": 311,
      "outputs": [
        {
          "output_type": "stream",
          "name": "stdout",
          "text": [
            "        features    VIF\n",
            "0          atemp  22.71\n",
            "1            hum  17.79\n",
            "4       season_3   7.67\n",
            "14    workingday   5.05\n",
            "2      windspeed   3.85\n",
            "3       season_2   3.37\n",
            "5       season_4   2.88\n",
            "9   weathersit_2   2.15\n",
            "12            yr   2.04\n",
            "11     weekday_6   1.91\n",
            "6         mnth_8   1.86\n",
            "8        mnth_10   1.64\n",
            "7         mnth_9   1.51\n",
            "10  weathersit_3   1.20\n",
            "13       holiday   1.16\n"
          ]
        }
      ]
    },
    {
      "cell_type": "markdown",
      "source": [
        "#### Drop the **Month_5** as which has P-value > 0.05\n",
        "\n"
      ],
      "metadata": {
        "id": "XjXfLFkXMkX6"
      }
    },
    {
      "cell_type": "code",
      "source": [
        "X_train_sk.drop('Month_5',axis=1,inplace=True)"
      ],
      "metadata": {
        "colab": {
          "base_uri": "https://localhost:8080/",
          "height": 323
        },
        "id": "-RG4-eR8Mpz4",
        "outputId": "a3c691af-ca04-4ef8-dc5a-9c716c2e0c63"
      },
      "execution_count": 312,
      "outputs": [
        {
          "output_type": "error",
          "ename": "KeyError",
          "evalue": "ignored",
          "traceback": [
            "\u001b[0;31m---------------------------------------------------------------------------\u001b[0m",
            "\u001b[0;31mKeyError\u001b[0m                                  Traceback (most recent call last)",
            "\u001b[0;32m<ipython-input-312-df3ffa585530>\u001b[0m in \u001b[0;36m<module>\u001b[0;34m()\u001b[0m\n\u001b[0;32m----> 1\u001b[0;31m \u001b[0mX_train_sk\u001b[0m\u001b[0;34m.\u001b[0m\u001b[0mdrop\u001b[0m\u001b[0;34m(\u001b[0m\u001b[0;34m'Month_5'\u001b[0m\u001b[0;34m,\u001b[0m\u001b[0maxis\u001b[0m\u001b[0;34m=\u001b[0m\u001b[0;36m1\u001b[0m\u001b[0;34m,\u001b[0m\u001b[0minplace\u001b[0m\u001b[0;34m=\u001b[0m\u001b[0;32mTrue\u001b[0m\u001b[0;34m)\u001b[0m\u001b[0;34m\u001b[0m\u001b[0;34m\u001b[0m\u001b[0m\n\u001b[0m",
            "\u001b[0;32m/usr/local/lib/python3.7/dist-packages/pandas/util/_decorators.py\u001b[0m in \u001b[0;36mwrapper\u001b[0;34m(*args, **kwargs)\u001b[0m\n\u001b[1;32m    309\u001b[0m                     \u001b[0mstacklevel\u001b[0m\u001b[0;34m=\u001b[0m\u001b[0mstacklevel\u001b[0m\u001b[0;34m,\u001b[0m\u001b[0;34m\u001b[0m\u001b[0;34m\u001b[0m\u001b[0m\n\u001b[1;32m    310\u001b[0m                 )\n\u001b[0;32m--> 311\u001b[0;31m             \u001b[0;32mreturn\u001b[0m \u001b[0mfunc\u001b[0m\u001b[0;34m(\u001b[0m\u001b[0;34m*\u001b[0m\u001b[0margs\u001b[0m\u001b[0;34m,\u001b[0m \u001b[0;34m**\u001b[0m\u001b[0mkwargs\u001b[0m\u001b[0;34m)\u001b[0m\u001b[0;34m\u001b[0m\u001b[0;34m\u001b[0m\u001b[0m\n\u001b[0m\u001b[1;32m    312\u001b[0m \u001b[0;34m\u001b[0m\u001b[0m\n\u001b[1;32m    313\u001b[0m         \u001b[0;32mreturn\u001b[0m \u001b[0mwrapper\u001b[0m\u001b[0;34m\u001b[0m\u001b[0;34m\u001b[0m\u001b[0m\n",
            "\u001b[0;32m/usr/local/lib/python3.7/dist-packages/pandas/core/frame.py\u001b[0m in \u001b[0;36mdrop\u001b[0;34m(self, labels, axis, index, columns, level, inplace, errors)\u001b[0m\n\u001b[1;32m   4911\u001b[0m             \u001b[0mlevel\u001b[0m\u001b[0;34m=\u001b[0m\u001b[0mlevel\u001b[0m\u001b[0;34m,\u001b[0m\u001b[0;34m\u001b[0m\u001b[0;34m\u001b[0m\u001b[0m\n\u001b[1;32m   4912\u001b[0m             \u001b[0minplace\u001b[0m\u001b[0;34m=\u001b[0m\u001b[0minplace\u001b[0m\u001b[0;34m,\u001b[0m\u001b[0;34m\u001b[0m\u001b[0;34m\u001b[0m\u001b[0m\n\u001b[0;32m-> 4913\u001b[0;31m             \u001b[0merrors\u001b[0m\u001b[0;34m=\u001b[0m\u001b[0merrors\u001b[0m\u001b[0;34m,\u001b[0m\u001b[0;34m\u001b[0m\u001b[0;34m\u001b[0m\u001b[0m\n\u001b[0m\u001b[1;32m   4914\u001b[0m         )\n\u001b[1;32m   4915\u001b[0m \u001b[0;34m\u001b[0m\u001b[0m\n",
            "\u001b[0;32m/usr/local/lib/python3.7/dist-packages/pandas/core/generic.py\u001b[0m in \u001b[0;36mdrop\u001b[0;34m(self, labels, axis, index, columns, level, inplace, errors)\u001b[0m\n\u001b[1;32m   4148\u001b[0m         \u001b[0;32mfor\u001b[0m \u001b[0maxis\u001b[0m\u001b[0;34m,\u001b[0m \u001b[0mlabels\u001b[0m \u001b[0;32min\u001b[0m \u001b[0maxes\u001b[0m\u001b[0;34m.\u001b[0m\u001b[0mitems\u001b[0m\u001b[0;34m(\u001b[0m\u001b[0;34m)\u001b[0m\u001b[0;34m:\u001b[0m\u001b[0;34m\u001b[0m\u001b[0;34m\u001b[0m\u001b[0m\n\u001b[1;32m   4149\u001b[0m             \u001b[0;32mif\u001b[0m \u001b[0mlabels\u001b[0m \u001b[0;32mis\u001b[0m \u001b[0;32mnot\u001b[0m \u001b[0;32mNone\u001b[0m\u001b[0;34m:\u001b[0m\u001b[0;34m\u001b[0m\u001b[0;34m\u001b[0m\u001b[0m\n\u001b[0;32m-> 4150\u001b[0;31m                 \u001b[0mobj\u001b[0m \u001b[0;34m=\u001b[0m \u001b[0mobj\u001b[0m\u001b[0;34m.\u001b[0m\u001b[0m_drop_axis\u001b[0m\u001b[0;34m(\u001b[0m\u001b[0mlabels\u001b[0m\u001b[0;34m,\u001b[0m \u001b[0maxis\u001b[0m\u001b[0;34m,\u001b[0m \u001b[0mlevel\u001b[0m\u001b[0;34m=\u001b[0m\u001b[0mlevel\u001b[0m\u001b[0;34m,\u001b[0m \u001b[0merrors\u001b[0m\u001b[0;34m=\u001b[0m\u001b[0merrors\u001b[0m\u001b[0;34m)\u001b[0m\u001b[0;34m\u001b[0m\u001b[0;34m\u001b[0m\u001b[0m\n\u001b[0m\u001b[1;32m   4151\u001b[0m \u001b[0;34m\u001b[0m\u001b[0m\n\u001b[1;32m   4152\u001b[0m         \u001b[0;32mif\u001b[0m \u001b[0minplace\u001b[0m\u001b[0;34m:\u001b[0m\u001b[0;34m\u001b[0m\u001b[0;34m\u001b[0m\u001b[0m\n",
            "\u001b[0;32m/usr/local/lib/python3.7/dist-packages/pandas/core/generic.py\u001b[0m in \u001b[0;36m_drop_axis\u001b[0;34m(self, labels, axis, level, errors)\u001b[0m\n\u001b[1;32m   4183\u001b[0m                 \u001b[0mnew_axis\u001b[0m \u001b[0;34m=\u001b[0m \u001b[0maxis\u001b[0m\u001b[0;34m.\u001b[0m\u001b[0mdrop\u001b[0m\u001b[0;34m(\u001b[0m\u001b[0mlabels\u001b[0m\u001b[0;34m,\u001b[0m \u001b[0mlevel\u001b[0m\u001b[0;34m=\u001b[0m\u001b[0mlevel\u001b[0m\u001b[0;34m,\u001b[0m \u001b[0merrors\u001b[0m\u001b[0;34m=\u001b[0m\u001b[0merrors\u001b[0m\u001b[0;34m)\u001b[0m\u001b[0;34m\u001b[0m\u001b[0;34m\u001b[0m\u001b[0m\n\u001b[1;32m   4184\u001b[0m             \u001b[0;32melse\u001b[0m\u001b[0;34m:\u001b[0m\u001b[0;34m\u001b[0m\u001b[0;34m\u001b[0m\u001b[0m\n\u001b[0;32m-> 4185\u001b[0;31m                 \u001b[0mnew_axis\u001b[0m \u001b[0;34m=\u001b[0m \u001b[0maxis\u001b[0m\u001b[0;34m.\u001b[0m\u001b[0mdrop\u001b[0m\u001b[0;34m(\u001b[0m\u001b[0mlabels\u001b[0m\u001b[0;34m,\u001b[0m \u001b[0merrors\u001b[0m\u001b[0;34m=\u001b[0m\u001b[0merrors\u001b[0m\u001b[0;34m)\u001b[0m\u001b[0;34m\u001b[0m\u001b[0;34m\u001b[0m\u001b[0m\n\u001b[0m\u001b[1;32m   4186\u001b[0m             \u001b[0mresult\u001b[0m \u001b[0;34m=\u001b[0m \u001b[0mself\u001b[0m\u001b[0;34m.\u001b[0m\u001b[0mreindex\u001b[0m\u001b[0;34m(\u001b[0m\u001b[0;34m**\u001b[0m\u001b[0;34m{\u001b[0m\u001b[0maxis_name\u001b[0m\u001b[0;34m:\u001b[0m \u001b[0mnew_axis\u001b[0m\u001b[0;34m}\u001b[0m\u001b[0;34m)\u001b[0m\u001b[0;34m\u001b[0m\u001b[0;34m\u001b[0m\u001b[0m\n\u001b[1;32m   4187\u001b[0m \u001b[0;34m\u001b[0m\u001b[0m\n",
            "\u001b[0;32m/usr/local/lib/python3.7/dist-packages/pandas/core/indexes/base.py\u001b[0m in \u001b[0;36mdrop\u001b[0;34m(self, labels, errors)\u001b[0m\n\u001b[1;32m   6015\u001b[0m         \u001b[0;32mif\u001b[0m \u001b[0mmask\u001b[0m\u001b[0;34m.\u001b[0m\u001b[0many\u001b[0m\u001b[0;34m(\u001b[0m\u001b[0;34m)\u001b[0m\u001b[0;34m:\u001b[0m\u001b[0;34m\u001b[0m\u001b[0;34m\u001b[0m\u001b[0m\n\u001b[1;32m   6016\u001b[0m             \u001b[0;32mif\u001b[0m \u001b[0merrors\u001b[0m \u001b[0;34m!=\u001b[0m \u001b[0;34m\"ignore\"\u001b[0m\u001b[0;34m:\u001b[0m\u001b[0;34m\u001b[0m\u001b[0;34m\u001b[0m\u001b[0m\n\u001b[0;32m-> 6017\u001b[0;31m                 \u001b[0;32mraise\u001b[0m \u001b[0mKeyError\u001b[0m\u001b[0;34m(\u001b[0m\u001b[0;34mf\"{labels[mask]} not found in axis\"\u001b[0m\u001b[0;34m)\u001b[0m\u001b[0;34m\u001b[0m\u001b[0;34m\u001b[0m\u001b[0m\n\u001b[0m\u001b[1;32m   6018\u001b[0m             \u001b[0mindexer\u001b[0m \u001b[0;34m=\u001b[0m \u001b[0mindexer\u001b[0m\u001b[0;34m[\u001b[0m\u001b[0;34m~\u001b[0m\u001b[0mmask\u001b[0m\u001b[0;34m]\u001b[0m\u001b[0;34m\u001b[0m\u001b[0;34m\u001b[0m\u001b[0m\n\u001b[1;32m   6019\u001b[0m         \u001b[0;32mreturn\u001b[0m \u001b[0mself\u001b[0m\u001b[0;34m.\u001b[0m\u001b[0mdelete\u001b[0m\u001b[0;34m(\u001b[0m\u001b[0mindexer\u001b[0m\u001b[0;34m)\u001b[0m\u001b[0;34m\u001b[0m\u001b[0;34m\u001b[0m\u001b[0m\n",
            "\u001b[0;31mKeyError\u001b[0m: \"['Month_5'] not found in axis\""
          ]
        }
      ]
    },
    {
      "cell_type": "markdown",
      "source": [
        "## RFE - Model 2"
      ],
      "metadata": {
        "id": "u0Yy72rJMxkl"
      }
    },
    {
      "cell_type": "code",
      "source": [
        "rfe_model2 = linear_model(X_train_sk.columns,X_train_sk)"
      ],
      "metadata": {
        "id": "Ps27_zEnMxGV"
      },
      "execution_count": null,
      "outputs": []
    },
    {
      "cell_type": "code",
      "source": [
        "get_vif(X_train_sk)"
      ],
      "metadata": {
        "id": "GseDDonrMxD9"
      },
      "execution_count": null,
      "outputs": []
    },
    {
      "cell_type": "markdown",
      "source": [
        "#### Drop the **Month_3** as which has P-value > 0.05"
      ],
      "metadata": {
        "id": "dd1v-1I4Nyfg"
      }
    },
    {
      "cell_type": "code",
      "source": [
        "X_train_sk.drop('Month_3',axis=1,inplace=True)"
      ],
      "metadata": {
        "id": "rBl3ky24Np3e"
      },
      "execution_count": null,
      "outputs": []
    },
    {
      "cell_type": "markdown",
      "source": [
        "## RFE - Model 3"
      ],
      "metadata": {
        "id": "KBMfpIlyOSm9"
      }
    },
    {
      "cell_type": "code",
      "source": [
        "rfe_model3 = linear_model(X_train_sk.columns,X_train_sk)"
      ],
      "metadata": {
        "id": "eISmwOIqOTjv"
      },
      "execution_count": null,
      "outputs": []
    },
    {
      "cell_type": "code",
      "source": [
        "get_vif(X_train_sk)"
      ],
      "metadata": {
        "id": "Ca7MjzkkObA2"
      },
      "execution_count": null,
      "outputs": []
    },
    {
      "cell_type": "markdown",
      "source": [
        "#### Drop the **holiday** as which has P-value > 0.05"
      ],
      "metadata": {
        "id": "7dCXV9icOlrk"
      }
    },
    {
      "cell_type": "code",
      "source": [
        "X_train_sk.drop('holiday',axis=1,inplace=True)"
      ],
      "metadata": {
        "id": "EXhN4ROfOa9T"
      },
      "execution_count": null,
      "outputs": []
    },
    {
      "cell_type": "markdown",
      "source": [
        "## RFE - Model 4"
      ],
      "metadata": {
        "id": "11I9ZvjOO3IQ"
      }
    },
    {
      "cell_type": "code",
      "source": [
        "rfe_model4 = linear_model(X_train_sk.columns,X_train_sk)"
      ],
      "metadata": {
        "id": "ENeLnKn7O2pG"
      },
      "execution_count": null,
      "outputs": []
    },
    {
      "cell_type": "code",
      "source": [
        "get_vif(X_train_sk)"
      ],
      "metadata": {
        "id": "ce1NtzTxO_fY"
      },
      "execution_count": null,
      "outputs": []
    },
    {
      "cell_type": "markdown",
      "source": [
        "#### We now have all independent variables P-vales less than Significance level of 0.05 but 'hum' has high VIF of 11.64.\n",
        "\n",
        "Let's try to drop the 'hum' and observe the R2 score and F-static"
      ],
      "metadata": {
        "id": "eFaglibDPF8a"
      }
    },
    {
      "cell_type": "code",
      "source": [
        "X_train_sk.drop('hum',axis=1,inplace=True)"
      ],
      "metadata": {
        "id": "uF7iX1BLPcWy"
      },
      "execution_count": null,
      "outputs": []
    },
    {
      "cell_type": "markdown",
      "source": [
        "## RFE - Model 5"
      ],
      "metadata": {
        "id": "vJrFKS8KPW6-"
      }
    },
    {
      "cell_type": "code",
      "source": [
        "rfe_model5 = linear_model(X_train_sk.columns,X_train_sk)"
      ],
      "metadata": {
        "id": "91r3YrfpPU92"
      },
      "execution_count": null,
      "outputs": []
    },
    {
      "cell_type": "code",
      "source": [
        "get_vif(X_train_sk)"
      ],
      "metadata": {
        "id": "nVdQABTSPjlo"
      },
      "execution_count": null,
      "outputs": []
    },
    {
      "cell_type": "markdown",
      "source": [
        "#### Drop the **Month_10** as which has P-value > 0.05"
      ],
      "metadata": {
        "id": "x3Mg96yPQC7F"
      }
    },
    {
      "cell_type": "code",
      "source": [
        "X_train_sk.drop('Month_10',axis=1,inplace=True)"
      ],
      "metadata": {
        "id": "qixFfi9LQxnm"
      },
      "execution_count": null,
      "outputs": []
    },
    {
      "cell_type": "markdown",
      "source": [
        "## RFE - Model 6"
      ],
      "metadata": {
        "id": "vVaRXYlWQQD-"
      }
    },
    {
      "cell_type": "code",
      "source": [
        "rfe_model6 = linear_model(X_train_sk.columns,X_train_sk)"
      ],
      "metadata": {
        "id": "tazQNLkvQRR6"
      },
      "execution_count": null,
      "outputs": []
    },
    {
      "cell_type": "code",
      "source": [
        "get_vif(X_train_sk)"
      ],
      "metadata": {
        "id": "OxZt58p8Q2z2"
      },
      "execution_count": null,
      "outputs": []
    },
    {
      "cell_type": "markdown",
      "source": [
        "#### Drop the **Month_8** as which has P-value almost at significance level"
      ],
      "metadata": {
        "id": "KJ2fj-zwRN5n"
      }
    },
    {
      "cell_type": "code",
      "source": [
        "X_train_sk.drop('Month_8',axis=1,inplace=True)"
      ],
      "metadata": {
        "id": "EOnH2ZKbQlst"
      },
      "execution_count": null,
      "outputs": []
    },
    {
      "cell_type": "markdown",
      "source": [
        "## RFE - Model 7"
      ],
      "metadata": {
        "id": "tG2savlWRaJi"
      }
    },
    {
      "cell_type": "code",
      "source": [
        "rfe_model7 = linear_model(X_train_sk.columns,X_train_sk)"
      ],
      "metadata": {
        "id": "5RLt2EjBQ-Rm"
      },
      "execution_count": null,
      "outputs": []
    },
    {
      "cell_type": "code",
      "source": [
        "get_vif(X_train_sk)"
      ],
      "metadata": {
        "id": "plTj7SOSRDVI"
      },
      "execution_count": null,
      "outputs": []
    },
    {
      "cell_type": "markdown",
      "source": [
        "#### This should be our good fit model as all p-values are zero and also VIF <5 (i.e, no multicollinearity)"
      ],
      "metadata": {
        "id": "c8N5AL59Rcz4"
      }
    },
    {
      "cell_type": "code",
      "source": [
        "rfe_final_model = linear_model(X_train_sk.columns,X_train_sk)"
      ],
      "metadata": {
        "id": "o661JMLHRoNi"
      },
      "execution_count": null,
      "outputs": []
    },
    {
      "cell_type": "code",
      "source": [
        "X_test = X_test[X_train_sk.columns]\n"
      ],
      "metadata": {
        "id": "Q7AVspmuB1C5"
      },
      "execution_count": null,
      "outputs": []
    },
    {
      "cell_type": "code",
      "source": [
        "X_test_lm = sm.add_constant(X_test)\n",
        "y_pred = rfe_final_model.predict(X_test_lm)"
      ],
      "metadata": {
        "id": "FzoPFgBPKeBs"
      },
      "execution_count": null,
      "outputs": []
    },
    {
      "cell_type": "code",
      "source": [
        "r2 = r2_score(y_test,y_pred)\n",
        "r2"
      ],
      "metadata": {
        "id": "eYBggi_XFA_R"
      },
      "execution_count": null,
      "outputs": []
    },
    {
      "cell_type": "code",
      "source": [
        "fig = plt.figure()\n",
        "plt.scatter(y_test, y_pred)\n",
        "fig.suptitle('y_test vs y_pred')              \n",
        "plt.xlabel('y_test')                         \n",
        "plt.ylabel('y_pred') \n",
        "plt.show()"
      ],
      "metadata": {
        "id": "hS5Hu2zXHYxz"
      },
      "execution_count": null,
      "outputs": []
    },
    {
      "cell_type": "markdown",
      "source": [
        "#### Observations\n",
        "\n",
        "\n",
        "*   Our final model using RFE has **R2-Score of 0.807** with train data and with test data predictions we got **0.772**. \n",
        "    F-statistic:                     232.8, \n",
        "    Prob (F-statistic):          1.59e-172\n",
        "*   Our final model using manual elimination  has **R2-Score of 0.836** with train data and with test data predictions we got **0.796**.\n",
        "F-statistic:                     254.0\n",
        "Prob (F-statistic):          1.47e-188\n",
        "\n",
        "#### It seems our manual model is good compared to RFE one."
      ],
      "metadata": {
        "id": "RAbOkwim-cXm"
      }
    },
    {
      "cell_type": "markdown",
      "source": [
        "## Final Observations\n",
        "\n",
        "\n",
        "*   As per our manual feature elimination model, below are the top3 significant variables with their coefficients to predict the bike share rides count.\n",
        "           \n",
        "\n",
        "1.   temp             :   0.5499\n",
        "2.   weathersit_3       :         -0.2880\n",
        "3.   yr          :        0.2331\n",
        "\n",
        "\n",
        "*   Our model has **R2-Score** of **0.836** with train data and with **test data** predictions we got **0.796** which is good.\n",
        "*   Error terms are almost normally distrbuted with mean 0- this is one of the assumption for linear regression model\n",
        "*  There is no multicollinearity in our model as VIFs are less than 5.\n",
        "### Intepretations\n",
        "\n",
        "\n",
        "\n",
        "1.   A unit increase in temp variable casues the bike share rides count increase by 0.5499 units\n",
        "2. A unit increase in yr variable casues the bike share rides count increase by 0.2331 units\n",
        "3. A unit increase in weathersit3(Light Snow, Light Rain + Thunderstorm + Scattered clouds, Light Rain + Scattered clouds variable casues the bike share rides count decrease by 0.2880 units\n",
        "\n",
        "\n",
        "\n"
      ],
      "metadata": {
        "id": "smw8dWJF_bYt"
      }
    }
  ]
}