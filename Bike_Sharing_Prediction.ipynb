{
  "nbformat": 4,
  "nbformat_minor": 0,
  "metadata": {
    "colab": {
      "name": "Bike_Sharing_Prediction.ipynb",
      "provenance": [],
      "include_colab_link": true
    },
    "kernelspec": {
      "name": "python3",
      "display_name": "Python 3"
    },
    "language_info": {
      "name": "python"
    }
  },
  "cells": [
    {
      "cell_type": "markdown",
      "metadata": {
        "id": "view-in-github",
        "colab_type": "text"
      },
      "source": [
        "<a href=\"https://colab.research.google.com/github/bhogasena/BikeSharingDemad/blob/main/Bike_Sharing_Prediction.ipynb\" target=\"_parent\"><img src=\"https://colab.research.google.com/assets/colab-badge.svg\" alt=\"Open In Colab\"/></a>"
      ]
    },
    {
      "cell_type": "markdown",
      "source": [
        "# Bike Sharing Demand Prediction and Interpretation using Linear Regression\n",
        "\n",
        "## Problem Statement\n",
        "\n",
        "A bike-sharing system is a service in which bikes are made available for shared use to individuals on a short term basis for a price or free. Many bike share systems allow people to borrow a bike from a \"dock\" which is usually computer-controlled wherein the user enters the payment information, and the system unlocks it. This bike can then be returned to another dock belonging to the same system.\n",
        "\n",
        "Compnay wants to understand the factors on which the demand for these shared bikes depends. Specifically, they want to understand the factors affecting the demand for these shared bikes in the American market.\n",
        "\n",
        "The company wants to know:\n",
        "\n",
        "*   Which variables are significant in predicting the demand for shared bikes.\n",
        "*   How well those variables describe the bike demands\n",
        "\n",
        "\n"
      ],
      "metadata": {
        "id": "aeGAvC-vbk9l"
      }
    },
    {
      "cell_type": "markdown",
      "source": [
        "## Step 1: Reading and Understanding the Data"
      ],
      "metadata": {
        "id": "3cv44S7icd2d"
      }
    },
    {
      "cell_type": "code",
      "source": [
        "import numpy as np\n",
        "import pandas as pd\n",
        "import sklearn\n",
        "import statsmodels.api as sm\n",
        "from datetime import datetime\n",
        "import matplotlib.pyplot as plt\n",
        "import seaborn as sns\n",
        "import plotly.express as px\n",
        "from plotly.subplots import make_subplots\n",
        "from sklearn.preprocessing import MinMaxScaler\n",
        "from sklearn.model_selection import train_test_split\n",
        "from statsmodels.stats.outliers_influence import variance_inflation_factor\n",
        "from sklearn.feature_selection import RFE\n",
        "from sklearn.linear_model import LinearRegression\n",
        "from sklearn.metrics import r2_score, mean_squared_error\n",
        "from sklearn.model_selection import KFold\n",
        "from sklearn.model_selection import cross_val_score\n",
        "from sklearn.model_selection import GridSearchCV\n",
        "from sklearn.preprocessing import OneHotEncoder\n",
        "from sklearn.compose import ColumnTransformer\n",
        "import scipy.sparse\n",
        "import plotly.graph_objects as go\n",
        "import warnings\n",
        "warnings.filterwarnings(\"ignore\")\n",
        "pd.options.display.max_columns=None\n"
      ],
      "metadata": {
        "id": "W5HTeEzicdH3"
      },
      "execution_count": 706,
      "outputs": []
    },
    {
      "cell_type": "code",
      "source": [
        "bike_df = pd.read_csv(\"day.csv\")\n",
        "bike_df.head()"
      ],
      "metadata": {
        "colab": {
          "base_uri": "https://localhost:8080/",
          "height": 206
        },
        "id": "0V9zp57Pc5qU",
        "outputId": "accd7b85-48b0-44df-a966-26aed95459aa"
      },
      "execution_count": 628,
      "outputs": [
        {
          "output_type": "execute_result",
          "data": {
            "text/plain": [
              "   instant      dteday  season  yr  mnth  holiday  weekday  workingday  \\\n",
              "0        1  01-01-2018       1   0     1        0        6           0   \n",
              "1        2  02-01-2018       1   0     1        0        0           0   \n",
              "2        3  03-01-2018       1   0     1        0        1           1   \n",
              "3        4  04-01-2018       1   0     1        0        2           1   \n",
              "4        5  05-01-2018       1   0     1        0        3           1   \n",
              "\n",
              "   weathersit       temp     atemp      hum  windspeed  casual  registered  \\\n",
              "0           2  14.110847  18.18125  80.5833  10.749882     331         654   \n",
              "1           2  14.902598  17.68695  69.6087  16.652113     131         670   \n",
              "2           1   8.050924   9.47025  43.7273  16.636703     120        1229   \n",
              "3           1   8.200000  10.60610  59.0435  10.739832     108        1454   \n",
              "4           1   9.305237  11.46350  43.6957  12.522300      82        1518   \n",
              "\n",
              "    cnt  \n",
              "0   985  \n",
              "1   801  \n",
              "2  1349  \n",
              "3  1562  \n",
              "4  1600  "
            ],
            "text/html": [
              "\n",
              "  <div id=\"df-f1ed51fa-815f-44dc-a263-2c78507d7795\">\n",
              "    <div class=\"colab-df-container\">\n",
              "      <div>\n",
              "<style scoped>\n",
              "    .dataframe tbody tr th:only-of-type {\n",
              "        vertical-align: middle;\n",
              "    }\n",
              "\n",
              "    .dataframe tbody tr th {\n",
              "        vertical-align: top;\n",
              "    }\n",
              "\n",
              "    .dataframe thead th {\n",
              "        text-align: right;\n",
              "    }\n",
              "</style>\n",
              "<table border=\"1\" class=\"dataframe\">\n",
              "  <thead>\n",
              "    <tr style=\"text-align: right;\">\n",
              "      <th></th>\n",
              "      <th>instant</th>\n",
              "      <th>dteday</th>\n",
              "      <th>season</th>\n",
              "      <th>yr</th>\n",
              "      <th>mnth</th>\n",
              "      <th>holiday</th>\n",
              "      <th>weekday</th>\n",
              "      <th>workingday</th>\n",
              "      <th>weathersit</th>\n",
              "      <th>temp</th>\n",
              "      <th>atemp</th>\n",
              "      <th>hum</th>\n",
              "      <th>windspeed</th>\n",
              "      <th>casual</th>\n",
              "      <th>registered</th>\n",
              "      <th>cnt</th>\n",
              "    </tr>\n",
              "  </thead>\n",
              "  <tbody>\n",
              "    <tr>\n",
              "      <th>0</th>\n",
              "      <td>1</td>\n",
              "      <td>01-01-2018</td>\n",
              "      <td>1</td>\n",
              "      <td>0</td>\n",
              "      <td>1</td>\n",
              "      <td>0</td>\n",
              "      <td>6</td>\n",
              "      <td>0</td>\n",
              "      <td>2</td>\n",
              "      <td>14.110847</td>\n",
              "      <td>18.18125</td>\n",
              "      <td>80.5833</td>\n",
              "      <td>10.749882</td>\n",
              "      <td>331</td>\n",
              "      <td>654</td>\n",
              "      <td>985</td>\n",
              "    </tr>\n",
              "    <tr>\n",
              "      <th>1</th>\n",
              "      <td>2</td>\n",
              "      <td>02-01-2018</td>\n",
              "      <td>1</td>\n",
              "      <td>0</td>\n",
              "      <td>1</td>\n",
              "      <td>0</td>\n",
              "      <td>0</td>\n",
              "      <td>0</td>\n",
              "      <td>2</td>\n",
              "      <td>14.902598</td>\n",
              "      <td>17.68695</td>\n",
              "      <td>69.6087</td>\n",
              "      <td>16.652113</td>\n",
              "      <td>131</td>\n",
              "      <td>670</td>\n",
              "      <td>801</td>\n",
              "    </tr>\n",
              "    <tr>\n",
              "      <th>2</th>\n",
              "      <td>3</td>\n",
              "      <td>03-01-2018</td>\n",
              "      <td>1</td>\n",
              "      <td>0</td>\n",
              "      <td>1</td>\n",
              "      <td>0</td>\n",
              "      <td>1</td>\n",
              "      <td>1</td>\n",
              "      <td>1</td>\n",
              "      <td>8.050924</td>\n",
              "      <td>9.47025</td>\n",
              "      <td>43.7273</td>\n",
              "      <td>16.636703</td>\n",
              "      <td>120</td>\n",
              "      <td>1229</td>\n",
              "      <td>1349</td>\n",
              "    </tr>\n",
              "    <tr>\n",
              "      <th>3</th>\n",
              "      <td>4</td>\n",
              "      <td>04-01-2018</td>\n",
              "      <td>1</td>\n",
              "      <td>0</td>\n",
              "      <td>1</td>\n",
              "      <td>0</td>\n",
              "      <td>2</td>\n",
              "      <td>1</td>\n",
              "      <td>1</td>\n",
              "      <td>8.200000</td>\n",
              "      <td>10.60610</td>\n",
              "      <td>59.0435</td>\n",
              "      <td>10.739832</td>\n",
              "      <td>108</td>\n",
              "      <td>1454</td>\n",
              "      <td>1562</td>\n",
              "    </tr>\n",
              "    <tr>\n",
              "      <th>4</th>\n",
              "      <td>5</td>\n",
              "      <td>05-01-2018</td>\n",
              "      <td>1</td>\n",
              "      <td>0</td>\n",
              "      <td>1</td>\n",
              "      <td>0</td>\n",
              "      <td>3</td>\n",
              "      <td>1</td>\n",
              "      <td>1</td>\n",
              "      <td>9.305237</td>\n",
              "      <td>11.46350</td>\n",
              "      <td>43.6957</td>\n",
              "      <td>12.522300</td>\n",
              "      <td>82</td>\n",
              "      <td>1518</td>\n",
              "      <td>1600</td>\n",
              "    </tr>\n",
              "  </tbody>\n",
              "</table>\n",
              "</div>\n",
              "      <button class=\"colab-df-convert\" onclick=\"convertToInteractive('df-f1ed51fa-815f-44dc-a263-2c78507d7795')\"\n",
              "              title=\"Convert this dataframe to an interactive table.\"\n",
              "              style=\"display:none;\">\n",
              "        \n",
              "  <svg xmlns=\"http://www.w3.org/2000/svg\" height=\"24px\"viewBox=\"0 0 24 24\"\n",
              "       width=\"24px\">\n",
              "    <path d=\"M0 0h24v24H0V0z\" fill=\"none\"/>\n",
              "    <path d=\"M18.56 5.44l.94 2.06.94-2.06 2.06-.94-2.06-.94-.94-2.06-.94 2.06-2.06.94zm-11 1L8.5 8.5l.94-2.06 2.06-.94-2.06-.94L8.5 2.5l-.94 2.06-2.06.94zm10 10l.94 2.06.94-2.06 2.06-.94-2.06-.94-.94-2.06-.94 2.06-2.06.94z\"/><path d=\"M17.41 7.96l-1.37-1.37c-.4-.4-.92-.59-1.43-.59-.52 0-1.04.2-1.43.59L10.3 9.45l-7.72 7.72c-.78.78-.78 2.05 0 2.83L4 21.41c.39.39.9.59 1.41.59.51 0 1.02-.2 1.41-.59l7.78-7.78 2.81-2.81c.8-.78.8-2.07 0-2.86zM5.41 20L4 18.59l7.72-7.72 1.47 1.35L5.41 20z\"/>\n",
              "  </svg>\n",
              "      </button>\n",
              "      \n",
              "  <style>\n",
              "    .colab-df-container {\n",
              "      display:flex;\n",
              "      flex-wrap:wrap;\n",
              "      gap: 12px;\n",
              "    }\n",
              "\n",
              "    .colab-df-convert {\n",
              "      background-color: #E8F0FE;\n",
              "      border: none;\n",
              "      border-radius: 50%;\n",
              "      cursor: pointer;\n",
              "      display: none;\n",
              "      fill: #1967D2;\n",
              "      height: 32px;\n",
              "      padding: 0 0 0 0;\n",
              "      width: 32px;\n",
              "    }\n",
              "\n",
              "    .colab-df-convert:hover {\n",
              "      background-color: #E2EBFA;\n",
              "      box-shadow: 0px 1px 2px rgba(60, 64, 67, 0.3), 0px 1px 3px 1px rgba(60, 64, 67, 0.15);\n",
              "      fill: #174EA6;\n",
              "    }\n",
              "\n",
              "    [theme=dark] .colab-df-convert {\n",
              "      background-color: #3B4455;\n",
              "      fill: #D2E3FC;\n",
              "    }\n",
              "\n",
              "    [theme=dark] .colab-df-convert:hover {\n",
              "      background-color: #434B5C;\n",
              "      box-shadow: 0px 1px 3px 1px rgba(0, 0, 0, 0.15);\n",
              "      filter: drop-shadow(0px 1px 2px rgba(0, 0, 0, 0.3));\n",
              "      fill: #FFFFFF;\n",
              "    }\n",
              "  </style>\n",
              "\n",
              "      <script>\n",
              "        const buttonEl =\n",
              "          document.querySelector('#df-f1ed51fa-815f-44dc-a263-2c78507d7795 button.colab-df-convert');\n",
              "        buttonEl.style.display =\n",
              "          google.colab.kernel.accessAllowed ? 'block' : 'none';\n",
              "\n",
              "        async function convertToInteractive(key) {\n",
              "          const element = document.querySelector('#df-f1ed51fa-815f-44dc-a263-2c78507d7795');\n",
              "          const dataTable =\n",
              "            await google.colab.kernel.invokeFunction('convertToInteractive',\n",
              "                                                     [key], {});\n",
              "          if (!dataTable) return;\n",
              "\n",
              "          const docLinkHtml = 'Like what you see? Visit the ' +\n",
              "            '<a target=\"_blank\" href=https://colab.research.google.com/notebooks/data_table.ipynb>data table notebook</a>'\n",
              "            + ' to learn more about interactive tables.';\n",
              "          element.innerHTML = '';\n",
              "          dataTable['output_type'] = 'display_data';\n",
              "          await google.colab.output.renderOutput(dataTable, element);\n",
              "          const docLink = document.createElement('div');\n",
              "          docLink.innerHTML = docLinkHtml;\n",
              "          element.appendChild(docLink);\n",
              "        }\n",
              "      </script>\n",
              "    </div>\n",
              "  </div>\n",
              "  "
            ]
          },
          "metadata": {},
          "execution_count": 628
        }
      ]
    },
    {
      "cell_type": "code",
      "source": [
        "bike_df.info()"
      ],
      "metadata": {
        "colab": {
          "base_uri": "https://localhost:8080/"
        },
        "id": "JkIDJDvBdeJV",
        "outputId": "d16343e4-2443-4f7f-ce15-ab4726063776"
      },
      "execution_count": 629,
      "outputs": [
        {
          "output_type": "stream",
          "name": "stdout",
          "text": [
            "<class 'pandas.core.frame.DataFrame'>\n",
            "RangeIndex: 730 entries, 0 to 729\n",
            "Data columns (total 16 columns):\n",
            " #   Column      Non-Null Count  Dtype  \n",
            "---  ------      --------------  -----  \n",
            " 0   instant     730 non-null    int64  \n",
            " 1   dteday      730 non-null    object \n",
            " 2   season      730 non-null    int64  \n",
            " 3   yr          730 non-null    int64  \n",
            " 4   mnth        730 non-null    int64  \n",
            " 5   holiday     730 non-null    int64  \n",
            " 6   weekday     730 non-null    int64  \n",
            " 7   workingday  730 non-null    int64  \n",
            " 8   weathersit  730 non-null    int64  \n",
            " 9   temp        730 non-null    float64\n",
            " 10  atemp       730 non-null    float64\n",
            " 11  hum         730 non-null    float64\n",
            " 12  windspeed   730 non-null    float64\n",
            " 13  casual      730 non-null    int64  \n",
            " 14  registered  730 non-null    int64  \n",
            " 15  cnt         730 non-null    int64  \n",
            "dtypes: float64(4), int64(11), object(1)\n",
            "memory usage: 91.4+ KB\n"
          ]
        }
      ]
    },
    {
      "cell_type": "markdown",
      "source": [
        "## Step 2: Visualising the Data\n",
        "\n",
        "### Quantitative Continuous Variables Analysis using scatter plot"
      ],
      "metadata": {
        "id": "z5lDpiEWmVaN"
      }
    },
    {
      "cell_type": "code",
      "source": [
        "cont_vars = ['temp','atemp','hum','windspeed']\n",
        "dep_vars=['cnt']\n",
        "sns.pairplot(bike_df,x_vars=cont_vars,y_vars=dep_vars)\n",
        "plt.show()"
      ],
      "metadata": {
        "colab": {
          "base_uri": "https://localhost:8080/",
          "height": 197
        },
        "id": "tle3OFM8mYSv",
        "outputId": "3db9f175-4479-4bc5-beb8-6a76008f939e"
      },
      "execution_count": 630,
      "outputs": [
        {
          "output_type": "display_data",
          "data": {
            "text/plain": [
              "<Figure size 720x180 with 4 Axes>"
            ],
            "image/png": "[encoded data removed]"
          },
          "metadata": {
            "needs_background": "light"
          }
        }
      ]
    },
    {
      "cell_type": "markdown",
      "source": [
        "#### Observations\n",
        "\n",
        "As per above plots, there seems to be linear relationship for temperature and feeling temperature with total rental bikes"
      ],
      "metadata": {
        "id": "XZLalBSYrki5"
      }
    },
    {
      "cell_type": "code",
      "source": [
        "desc_vars = ['season','yr','mnth','holiday','weekday','workingday','weathersit']\n",
        "def create_box_plot(x_var,y_var,row,col,title,bins):\n",
        "  tr1 = go.Histogram(x=bike_df[x_var],y=bike_df[y_var],histfunc='sum')\n",
        "  tr1.update(name=title)\n",
        "  fig.add_trace(tr1,row,col)\n",
        "  fig.update_xaxes(title={\n",
        "        'text': title},row=row,col=col)\n",
        "\n",
        "fig = make_subplots(3,3,shared_yaxes=True)\n",
        "create_box_plot('season','cnt',1,1,'Season',{'start':1,'end':4,'size':1})\n",
        "create_box_plot('yr','cnt',1,2,'Year',{'start':0,'end':2,'size':1})\n",
        "create_box_plot('mnth','cnt',1,3,'Month',{'start':1,'end':12,'size':1})\n",
        "create_box_plot('holiday','cnt',2,1,'Holiday',{'start':0,'end':1,'size':1})\n",
        "create_box_plot('weekday','cnt',2,2,'Weekday',{'start':0,'end':6,'size':1})\n",
        "create_box_plot('workingday','cnt',2,3,'Workingday',{'start':0,'end':1,'size':1})\n",
        "create_box_plot('weathersit','cnt',3,1,'Weathersit',{'start':1,'end':4,'size':1})\n",
        "\n",
        "fig.update_layout(width=1200,height=1200,barmode='group', bargap=0.15)\n",
        "fig.update_yaxes(title={'text':\"Total Bikes Rented\"},row=1,col=1)\n",
        "fig.show()"
      ],
      "metadata": {
        "colab": {
          "base_uri": "https://localhost:8080/",
          "height": 1000
        },
        "id": "PFSXr6QFqVug",
        "outputId": "99c3e77e-dbb5-4312-f0fa-1a141cead2dc"
      },
      "execution_count": 631,
      "outputs": [
        {
          "output_type": "display_data",
          "data": {
            "text/html": [
              "<html>\n",
              "<head><meta charset=\"utf-8\" /></head>\n",
              "<body>\n",
              "    <div>            <script src=\"https://cdnjs.cloudflare.com/ajax/libs/mathjax/2.7.5/MathJax.js?config=TeX-AMS-MML_SVG\"></script><script type=\"text/javascript\">if (window.MathJax) {MathJax.Hub.Config({SVG: {font: \"STIX-Web\"}});}</script>                <script type=\"text/javascript\">window.PlotlyConfig = {MathJaxConfig: 'local'};</script>\n",
              "        <script src=\"https://cdn.plot.ly/plotly-2.8.3.min.js\"></script>                <div id=\"377fc5e5-fc43-4b9f-b30d-17346c6511fc\" class=\"plotly-graph-div\" style=\"height:1200px; width:1200px;\"></div>            <script type=\"text/javascript\">                                    window.PLOTLYENV=window.PLOTLYENV || {};                                    if (document.getElementById(\"377fc5e5-fc43-4b9f-b30d-17346c6511fc\")) {                    Plotly.newPlot(                        \"377fc5e5-fc43-4b9f-b30d-17346c6511fc\",                        [{\"histfunc\":\"sum\",\"name\":\"Season\",\"x\":[1,1,1,1,1,1,1,1,1,1,1,1,1,1,1,1,1,1,1,1,1,1,1,1,1,1,1,1,1,1,1,1,1,1,1,1,1,1,1,1,1,1,1,1,1,1,1,1,1,1,1,1,1,1,1,1,1,1,1,1,1,1,1,1,1,1,1,1,1,1,1,1,1,1,1,1,1,1,1,2,2,2,2,2,2,2,2,2,2,2,2,2,2,2,2,2,2,2,2,2,2,2,2,2,2,2,2,2,2,2,2,2,2,2,2,2,2,2,2,2,2,2,2,2,2,2,2,2,2,2,2,2,2,2,2,2,2,2,2,2,2,2,2,2,2,2,2,2,2,2,2,2,2,2,2,2,2,2,2,2,2,2,2,2,2,2,2,2,2,2,2,3,3,3,3,3,3,3,3,3,3,3,3,3,3,3,3,3,3,3,3,3,3,3,3,3,3,3,3,3,3,3,3,3,3,3,3,3,3,3,3,3,3,3,3,3,3,3,3,3,3,3,3,3,3,3,3,3,3,3,3,3,3,3,3,3,3,3,3,3,3,3,3,3,3,3,3,3,3,3,3,3,3,3,3,3,3,3,3,3,3,3,3,3,3,4,4,4,4,4,4,4,4,4,4,4,4,4,4,4,4,4,4,4,4,4,4,4,4,4,4,4,4,4,4,4,4,4,4,4,4,4,4,4,4,4,4,4,4,4,4,4,4,4,4,4,4,4,4,4,4,4,4,4,4,4,4,4,4,4,4,4,4,4,4,4,4,4,4,4,4,4,4,4,4,4,4,4,4,4,4,4,4,4,1,1,1,1,1,1,1,1,1,1,1,1,1,1,1,1,1,1,1,1,1,1,1,1,1,1,1,1,1,1,1,1,1,1,1,1,1,1,1,1,1,1,1,1,1,1,1,1,1,1,1,1,1,1,1,1,1,1,1,1,1,1,1,1,1,1,1,1,1,1,1,1,1,1,1,1,1,1,1,1,1,1,1,1,1,1,1,1,1,1,2,2,2,2,2,2,2,2,2,2,2,2,2,2,2,2,2,2,2,2,2,2,2,2,2,2,2,2,2,2,2,2,2,2,2,2,2,2,2,2,2,2,2,2,2,2,2,2,2,2,2,2,2,2,2,2,2,2,2,2,2,2,2,2,2,2,2,2,2,2,2,2,2,2,2,2,2,2,2,2,2,2,2,2,2,2,2,2,2,2,2,2,3,3,3,3,3,3,3,3,3,3,3,3,3,3,3,3,3,3,3,3,3,3,3,3,3,3,3,3,3,3,3,3,3,3,3,3,3,3,3,3,3,3,3,3,3,3,3,3,3,3,3,3,3,3,3,3,3,3,3,3,3,3,3,3,3,3,3,3,3,3,3,3,3,3,3,3,3,3,3,3,3,3,3,3,3,3,3,3,3,3,3,3,3,3,4,4,4,4,4,4,4,4,4,4,4,4,4,4,4,4,4,4,4,4,4,4,4,4,4,4,4,4,4,4,4,4,4,4,4,4,4,4,4,4,4,4,4,4,4,4,4,4,4,4,4,4,4,4,4,4,4,4,4,4,4,4,4,4,4,4,4,4,4,4,4,4,4,4,4,4,4,4,4,4,4,4,4,4,4,4,4,4,4,1,1,1,1,1,1,1,1,1,1,1],\"y\":[985,801,1349,1562,1600,1606,1510,959,822,1321,1263,1162,1406,1421,1248,1204,1000,683,1650,1927,1543,981,986,1416,1985,506,431,1167,1098,1096,1501,1360,1526,1550,1708,1005,1623,1712,1530,1605,1538,1746,1472,1589,1913,1815,2115,2475,2927,1635,1812,1107,1450,1917,1807,1461,1969,2402,1446,1851,2134,1685,1944,2077,605,1872,2133,1891,623,1977,2132,2417,2046,2056,2192,2744,3239,3117,2471,2077,2703,2121,1865,2210,2496,1693,2028,2425,1536,1685,2227,2252,3249,3115,1795,2808,3141,1471,2455,2895,3348,2034,2162,3267,3126,795,3744,3429,3204,3944,4189,1683,4036,4191,4073,4400,3872,4058,4595,5312,3351,4401,4451,2633,4433,4608,4714,4333,4362,4803,4182,4864,4105,3409,4553,3958,4123,3855,4575,4917,5805,4660,4274,4492,4978,4677,4679,4758,4788,4098,3982,3974,4968,5312,5342,4906,4548,4833,4401,3915,4586,4966,4460,5020,4891,5180,3767,4844,5119,4744,4010,4835,4507,4790,4991,5202,5305,4708,4648,5225,5515,5362,5119,4649,6043,4665,4629,4592,4040,5336,4881,4086,4258,4342,5084,5538,5923,5302,4458,4541,4332,3784,3387,3285,3606,3840,4590,4656,4390,3846,4475,4302,4266,4845,3574,4576,4866,4294,3785,4326,4602,4780,4792,4905,4150,3820,4338,4725,4694,3805,4153,5191,3873,4758,5895,5130,3542,4661,1115,4334,4634,5204,5058,5115,4727,4484,4940,3351,2710,1996,1842,3544,5345,5046,4713,4763,4785,3659,4760,4511,4274,4539,3641,4352,4795,2395,5423,5010,4630,4120,3907,4839,5202,2429,2918,3570,4456,4826,4765,4985,5409,5511,5117,4563,2416,2913,3644,5217,5041,4570,4748,2424,4195,4304,4308,4381,4187,4687,3894,2659,3747,627,3331,3669,4068,4186,3974,4046,3926,3649,4035,4205,4109,2933,3368,4067,3717,4486,4195,1817,3053,3392,3663,3520,2765,1607,2566,1495,2792,3068,3071,3867,2914,3613,3727,3940,3614,3485,3811,2594,705,3322,3620,3190,2743,3310,3523,3740,3709,3577,2739,2431,3403,3750,2660,3068,2209,1011,754,1317,1162,2302,2423,2999,2485,2294,1951,2236,2368,3272,4098,4521,3425,2376,3598,2177,4097,3214,2493,2311,2298,2935,3376,3292,3163,1301,1977,2432,4339,4270,4075,3456,4023,3243,3624,4509,4579,3761,4151,2832,2947,3784,4375,2802,3830,3831,2169,1529,3422,3922,4169,3005,4154,4318,2689,3129,3777,4773,5062,3487,2732,3389,4322,4363,4990,3194,4066,3423,3333,3956,4916,5382,4569,4118,4911,5298,5847,6312,6192,4378,7836,5892,6153,6093,6230,6871,8362,3372,4996,5558,5102,5698,6133,5459,6235,6041,5936,6772,6436,6457,6460,6857,5169,5585,5918,4862,5409,6398,7460,7132,6370,6691,4367,6565,7290,6624,1027,3214,5633,6196,5026,6233,4220,6304,5572,5740,6169,6421,6296,6883,6359,6273,5728,4717,6572,7030,7429,6118,2843,5115,7424,7384,7639,8294,7129,4359,6073,5260,6770,6734,6536,6591,6043,5743,6855,7338,4127,8120,7641,6998,7001,7055,7494,7736,7498,6598,6664,4972,7421,7363,7665,7702,6978,5099,6825,6211,5905,5823,7458,6891,6779,7442,7335,6879,5463,5687,5531,6227,6660,7403,6241,6207,4840,4672,6569,6290,7264,7446,7499,6969,6031,6830,6786,5713,6591,5870,4459,7410,6966,7592,8173,6861,6904,6685,6597,7105,7216,7580,7261,7175,6824,5464,7013,7273,7534,7286,5786,6299,6544,6883,6784,7347,7605,7148,7865,4549,6530,7006,7375,7765,7582,6053,5255,6917,7040,7697,7713,7350,6140,5810,6034,6864,7112,6203,7504,5976,8227,7525,7767,7870,7804,8009,8714,7333,6869,4073,7591,7720,8167,8395,7907,7436,7538,7733,7393,7415,8555,6889,6778,4639,7572,7328,8156,7965,3510,5478,6392,7691,7570,7282,7109,6639,5875,7534,7461,7509,5424,8090,6824,7058,7466,7693,7359,7444,7852,4459,22,1096,5566,5986,5847,5138,5107,5259,5686,5035,5315,5992,6536,6852,6269,4094,5495,5445,5698,5629,4669,5499,5634,5146,2425,3910,2277,2424,5087,3959,5260,5323,5668,5191,4649,6234,6606,5729,5375,5008,5582,3228,5170,5501,5319,5532,5611,5047,3786,4585,5557,5267,4128,3623,1749,1787,920,1013,441,2114,3095,1341,1796,2729],\"type\":\"histogram\",\"xaxis\":\"x\",\"yaxis\":\"y\"},{\"histfunc\":\"sum\",\"name\":\"Year\",\"x\":[0,0,0,0,0,0,0,0,0,0,0,0,0,0,0,0,0,0,0,0,0,0,0,0,0,0,0,0,0,0,0,0,0,0,0,0,0,0,0,0,0,0,0,0,0,0,0,0,0,0,0,0,0,0,0,0,0,0,0,0,0,0,0,0,0,0,0,0,0,0,0,0,0,0,0,0,0,0,0,0,0,0,0,0,0,0,0,0,0,0,0,0,0,0,0,0,0,0,0,0,0,0,0,0,0,0,0,0,0,0,0,0,0,0,0,0,0,0,0,0,0,0,0,0,0,0,0,0,0,0,0,0,0,0,0,0,0,0,0,0,0,0,0,0,0,0,0,0,0,0,0,0,0,0,0,0,0,0,0,0,0,0,0,0,0,0,0,0,0,0,0,0,0,0,0,0,0,0,0,0,0,0,0,0,0,0,0,0,0,0,0,0,0,0,0,0,0,0,0,0,0,0,0,0,0,0,0,0,0,0,0,0,0,0,0,0,0,0,0,0,0,0,0,0,0,0,0,0,0,0,0,0,0,0,0,0,0,0,0,0,0,0,0,0,0,0,0,0,0,0,0,0,0,0,0,0,0,0,0,0,0,0,0,0,0,0,0,0,0,0,0,0,0,0,0,0,0,0,0,0,0,0,0,0,0,0,0,0,0,0,0,0,0,0,0,0,0,0,0,0,0,0,0,0,0,0,0,0,0,0,0,0,0,0,0,0,0,0,0,0,0,0,0,0,0,0,0,0,0,0,0,0,0,0,0,0,0,0,0,0,0,0,0,0,0,0,0,0,0,0,0,0,0,0,0,0,0,0,0,0,0,0,0,0,0,1,1,1,1,1,1,1,1,1,1,1,1,1,1,1,1,1,1,1,1,1,1,1,1,1,1,1,1,1,1,1,1,1,1,1,1,1,1,1,1,1,1,1,1,1,1,1,1,1,1,1,1,1,1,1,1,1,1,1,1,1,1,1,1,1,1,1,1,1,1,1,1,1,1,1,1,1,1,1,1,1,1,1,1,1,1,1,1,1,1,1,1,1,1,1,1,1,1,1,1,1,1,1,1,1,1,1,1,1,1,1,1,1,1,1,1,1,1,1,1,1,1,1,1,1,1,1,1,1,1,1,1,1,1,1,1,1,1,1,1,1,1,1,1,1,1,1,1,1,1,1,1,1,1,1,1,1,1,1,1,1,1,1,1,1,1,1,1,1,1,1,1,1,1,1,1,1,1,1,1,1,1,1,1,1,1,1,1,1,1,1,1,1,1,1,1,1,1,1,1,1,1,1,1,1,1,1,1,1,1,1,1,1,1,1,1,1,1,1,1,1,1,1,1,1,1,1,1,1,1,1,1,1,1,1,1,1,1,1,1,1,1,1,1,1,1,1,1,1,1,1,1,1,1,1,1,1,1,1,1,1,1,1,1,1,1,1,1,1,1,1,1,1,1,1,1,1,1,1,1,1,1,1,1,1,1,1,1,1,1,1,1,1,1,1,1,1,1,1,1,1,1,1,1,1,1,1,1,1,1,1,1,1,1,1,1,1,1,1,1,1,1,1,1,1,1,1,1,1,1,1,1,1,1,1,1,1,1,1,1,1,1,1,1,1,1,1,1,1,1,1,1,1,1,1,1,1,1,1,1,1,1,1,1,1],\"y\":[985,801,1349,1562,1600,1606,1510,959,822,1321,1263,1162,1406,1421,1248,1204,1000,683,1650,1927,1543,981,986,1416,1985,506,431,1167,1098,1096,1501,1360,1526,1550,1708,1005,1623,1712,1530,1605,1538,1746,1472,1589,1913,1815,2115,2475,2927,1635,1812,1107,1450,1917,1807,1461,1969,2402,1446,1851,2134,1685,1944,2077,605,1872,2133,1891,623,1977,2132,2417,2046,2056,2192,2744,3239,3117,2471,2077,2703,2121,1865,2210,2496,1693,2028,2425,1536,1685,2227,2252,3249,3115,1795,2808,3141,1471,2455,2895,3348,2034,2162,3267,3126,795,3744,3429,3204,3944,4189,1683,4036,4191,4073,4400,3872,4058,4595,5312,3351,4401,4451,2633,4433,4608,4714,4333,4362,4803,4182,4864,4105,3409,4553,3958,4123,3855,4575,4917,5805,4660,4274,4492,4978,4677,4679,4758,4788,4098,3982,3974,4968,5312,5342,4906,4548,4833,4401,3915,4586,4966,4460,5020,4891,5180,3767,4844,5119,4744,4010,4835,4507,4790,4991,5202,5305,4708,4648,5225,5515,5362,5119,4649,6043,4665,4629,4592,4040,5336,4881,4086,4258,4342,5084,5538,5923,5302,4458,4541,4332,3784,3387,3285,3606,3840,4590,4656,4390,3846,4475,4302,4266,4845,3574,4576,4866,4294,3785,4326,4602,4780,4792,4905,4150,3820,4338,4725,4694,3805,4153,5191,3873,4758,5895,5130,3542,4661,1115,4334,4634,5204,5058,5115,4727,4484,4940,3351,2710,1996,1842,3544,5345,5046,4713,4763,4785,3659,4760,4511,4274,4539,3641,4352,4795,2395,5423,5010,4630,4120,3907,4839,5202,2429,2918,3570,4456,4826,4765,4985,5409,5511,5117,4563,2416,2913,3644,5217,5041,4570,4748,2424,4195,4304,4308,4381,4187,4687,3894,2659,3747,627,3331,3669,4068,4186,3974,4046,3926,3649,4035,4205,4109,2933,3368,4067,3717,4486,4195,1817,3053,3392,3663,3520,2765,1607,2566,1495,2792,3068,3071,3867,2914,3613,3727,3940,3614,3485,3811,2594,705,3322,3620,3190,2743,3310,3523,3740,3709,3577,2739,2431,3403,3750,2660,3068,2209,1011,754,1317,1162,2302,2423,2999,2485,2294,1951,2236,2368,3272,4098,4521,3425,2376,3598,2177,4097,3214,2493,2311,2298,2935,3376,3292,3163,1301,1977,2432,4339,4270,4075,3456,4023,3243,3624,4509,4579,3761,4151,2832,2947,3784,4375,2802,3830,3831,2169,1529,3422,3922,4169,3005,4154,4318,2689,3129,3777,4773,5062,3487,2732,3389,4322,4363,4990,3194,4066,3423,3333,3956,4916,5382,4569,4118,4911,5298,5847,6312,6192,4378,7836,5892,6153,6093,6230,6871,8362,3372,4996,5558,5102,5698,6133,5459,6235,6041,5936,6772,6436,6457,6460,6857,5169,5585,5918,4862,5409,6398,7460,7132,6370,6691,4367,6565,7290,6624,1027,3214,5633,6196,5026,6233,4220,6304,5572,5740,6169,6421,6296,6883,6359,6273,5728,4717,6572,7030,7429,6118,2843,5115,7424,7384,7639,8294,7129,4359,6073,5260,6770,6734,6536,6591,6043,5743,6855,7338,4127,8120,7641,6998,7001,7055,7494,7736,7498,6598,6664,4972,7421,7363,7665,7702,6978,5099,6825,6211,5905,5823,7458,6891,6779,7442,7335,6879,5463,5687,5531,6227,6660,7403,6241,6207,4840,4672,6569,6290,7264,7446,7499,6969,6031,6830,6786,5713,6591,5870,4459,7410,6966,7592,8173,6861,6904,6685,6597,7105,7216,7580,7261,7175,6824,5464,7013,7273,7534,7286,5786,6299,6544,6883,6784,7347,7605,7148,7865,4549,6530,7006,7375,7765,7582,6053,5255,6917,7040,7697,7713,7350,6140,5810,6034,6864,7112,6203,7504,5976,8227,7525,7767,7870,7804,8009,8714,7333,6869,4073,7591,7720,8167,8395,7907,7436,7538,7733,7393,7415,8555,6889,6778,4639,7572,7328,8156,7965,3510,5478,6392,7691,7570,7282,7109,6639,5875,7534,7461,7509,5424,8090,6824,7058,7466,7693,7359,7444,7852,4459,22,1096,5566,5986,5847,5138,5107,5259,5686,5035,5315,5992,6536,6852,6269,4094,5495,5445,5698,5629,4669,5499,5634,5146,2425,3910,2277,2424,5087,3959,5260,5323,5668,5191,4649,6234,6606,5729,5375,5008,5582,3228,5170,5501,5319,5532,5611,5047,3786,4585,5557,5267,4128,3623,1749,1787,920,1013,441,2114,3095,1341,1796,2729],\"type\":\"histogram\",\"xaxis\":\"x2\",\"yaxis\":\"y2\"},{\"histfunc\":\"sum\",\"name\":\"Month\",\"x\":[1,1,1,1,1,1,1,1,1,1,1,1,1,1,1,1,1,1,1,1,1,1,1,1,1,1,1,1,1,1,1,2,2,2,2,2,2,2,2,2,2,2,2,2,2,2,2,2,2,2,2,2,2,2,2,2,2,2,2,3,3,3,3,3,3,3,3,3,3,3,3,3,3,3,3,3,3,3,3,3,3,3,3,3,3,3,3,3,3,3,4,4,4,4,4,4,4,4,4,4,4,4,4,4,4,4,4,4,4,4,4,4,4,4,4,4,4,4,4,4,5,5,5,5,5,5,5,5,5,5,5,5,5,5,5,5,5,5,5,5,5,5,5,5,5,5,5,5,5,5,5,6,6,6,6,6,6,6,6,6,6,6,6,6,6,6,6,6,6,6,6,6,6,6,6,6,6,6,6,6,6,7,7,7,7,7,7,7,7,7,7,7,7,7,7,7,7,7,7,7,7,7,7,7,7,7,7,7,7,7,7,7,8,8,8,8,8,8,8,8,8,8,8,8,8,8,8,8,8,8,8,8,8,8,8,8,8,8,8,8,8,8,8,9,9,9,9,9,9,9,9,9,9,9,9,9,9,9,9,9,9,9,9,9,9,9,9,9,9,9,9,9,9,10,10,10,10,10,10,10,10,10,10,10,10,10,10,10,10,10,10,10,10,10,10,10,10,10,10,10,10,10,10,10,11,11,11,11,11,11,11,11,11,11,11,11,11,11,11,11,11,11,11,11,11,11,11,11,11,11,11,11,11,11,12,12,12,12,12,12,12,12,12,12,12,12,12,12,12,12,12,12,12,12,12,12,12,12,12,12,12,12,12,12,12,1,1,1,1,1,1,1,1,1,1,1,1,1,1,1,1,1,1,1,1,1,1,1,1,1,1,1,1,1,1,1,2,2,2,2,2,2,2,2,2,2,2,2,2,2,2,2,2,2,2,2,2,2,2,2,2,2,2,2,3,3,3,3,3,3,3,3,3,3,3,3,3,3,3,3,3,3,3,3,3,3,3,3,3,3,3,3,3,3,3,4,4,4,4,4,4,4,4,4,4,4,4,4,4,4,4,4,4,4,4,4,4,4,4,4,4,4,4,4,4,5,5,5,5,5,5,5,5,5,5,5,5,5,5,5,5,5,5,5,5,5,5,5,5,5,5,5,5,5,5,5,6,6,6,6,6,6,6,6,6,6,6,6,6,6,6,6,6,6,6,6,6,6,6,6,6,6,6,6,6,6,7,7,7,7,7,7,7,7,7,7,7,7,7,7,7,7,7,7,7,7,7,7,7,7,7,7,7,7,7,7,7,8,8,8,8,8,8,8,8,8,8,8,8,8,8,8,8,8,8,8,8,8,8,8,8,8,8,8,8,8,8,8,9,9,9,9,9,9,9,9,9,9,9,9,9,9,9,9,9,9,9,9,9,9,9,9,9,9,9,9,9,9,10,10,10,10,10,10,10,10,10,10,10,10,10,10,10,10,10,10,10,10,10,10,10,10,10,10,10,10,10,10,10,11,11,11,11,11,11,11,11,11,11,11,11,11,11,11,11,11,11,11,11,11,11,11,11,11,11,11,11,11,11,12,12,12,12,12,12,12,12,12,12,12,12,12,12,12,12,12,12,12,12,12,12,12,12,12,12,12,12,12,12,12],\"y\":[985,801,1349,1562,1600,1606,1510,959,822,1321,1263,1162,1406,1421,1248,1204,1000,683,1650,1927,1543,981,986,1416,1985,506,431,1167,1098,1096,1501,1360,1526,1550,1708,1005,1623,1712,1530,1605,1538,1746,1472,1589,1913,1815,2115,2475,2927,1635,1812,1107,1450,1917,1807,1461,1969,2402,1446,1851,2134,1685,1944,2077,605,1872,2133,1891,623,1977,2132,2417,2046,2056,2192,2744,3239,3117,2471,2077,2703,2121,1865,2210,2496,1693,2028,2425,1536,1685,2227,2252,3249,3115,1795,2808,3141,1471,2455,2895,3348,2034,2162,3267,3126,795,3744,3429,3204,3944,4189,1683,4036,4191,4073,4400,3872,4058,4595,5312,3351,4401,4451,2633,4433,4608,4714,4333,4362,4803,4182,4864,4105,3409,4553,3958,4123,3855,4575,4917,5805,4660,4274,4492,4978,4677,4679,4758,4788,4098,3982,3974,4968,5312,5342,4906,4548,4833,4401,3915,4586,4966,4460,5020,4891,5180,3767,4844,5119,4744,4010,4835,4507,4790,4991,5202,5305,4708,4648,5225,5515,5362,5119,4649,6043,4665,4629,4592,4040,5336,4881,4086,4258,4342,5084,5538,5923,5302,4458,4541,4332,3784,3387,3285,3606,3840,4590,4656,4390,3846,4475,4302,4266,4845,3574,4576,4866,4294,3785,4326,4602,4780,4792,4905,4150,3820,4338,4725,4694,3805,4153,5191,3873,4758,5895,5130,3542,4661,1115,4334,4634,5204,5058,5115,4727,4484,4940,3351,2710,1996,1842,3544,5345,5046,4713,4763,4785,3659,4760,4511,4274,4539,3641,4352,4795,2395,5423,5010,4630,4120,3907,4839,5202,2429,2918,3570,4456,4826,4765,4985,5409,5511,5117,4563,2416,2913,3644,5217,5041,4570,4748,2424,4195,4304,4308,4381,4187,4687,3894,2659,3747,627,3331,3669,4068,4186,3974,4046,3926,3649,4035,4205,4109,2933,3368,4067,3717,4486,4195,1817,3053,3392,3663,3520,2765,1607,2566,1495,2792,3068,3071,3867,2914,3613,3727,3940,3614,3485,3811,2594,705,3322,3620,3190,2743,3310,3523,3740,3709,3577,2739,2431,3403,3750,2660,3068,2209,1011,754,1317,1162,2302,2423,2999,2485,2294,1951,2236,2368,3272,4098,4521,3425,2376,3598,2177,4097,3214,2493,2311,2298,2935,3376,3292,3163,1301,1977,2432,4339,4270,4075,3456,4023,3243,3624,4509,4579,3761,4151,2832,2947,3784,4375,2802,3830,3831,2169,1529,3422,3922,4169,3005,4154,4318,2689,3129,3777,4773,5062,3487,2732,3389,4322,4363,4990,3194,4066,3423,3333,3956,4916,5382,4569,4118,4911,5298,5847,6312,6192,4378,7836,5892,6153,6093,6230,6871,8362,3372,4996,5558,5102,5698,6133,5459,6235,6041,5936,6772,6436,6457,6460,6857,5169,5585,5918,4862,5409,6398,7460,7132,6370,6691,4367,6565,7290,6624,1027,3214,5633,6196,5026,6233,4220,6304,5572,5740,6169,6421,6296,6883,6359,6273,5728,4717,6572,7030,7429,6118,2843,5115,7424,7384,7639,8294,7129,4359,6073,5260,6770,6734,6536,6591,6043,5743,6855,7338,4127,8120,7641,6998,7001,7055,7494,7736,7498,6598,6664,4972,7421,7363,7665,7702,6978,5099,6825,6211,5905,5823,7458,6891,6779,7442,7335,6879,5463,5687,5531,6227,6660,7403,6241,6207,4840,4672,6569,6290,7264,7446,7499,6969,6031,6830,6786,5713,6591,5870,4459,7410,6966,7592,8173,6861,6904,6685,6597,7105,7216,7580,7261,7175,6824,5464,7013,7273,7534,7286,5786,6299,6544,6883,6784,7347,7605,7148,7865,4549,6530,7006,7375,7765,7582,6053,5255,6917,7040,7697,7713,7350,6140,5810,6034,6864,7112,6203,7504,5976,8227,7525,7767,7870,7804,8009,8714,7333,6869,4073,7591,7720,8167,8395,7907,7436,7538,7733,7393,7415,8555,6889,6778,4639,7572,7328,8156,7965,3510,5478,6392,7691,7570,7282,7109,6639,5875,7534,7461,7509,5424,8090,6824,7058,7466,7693,7359,7444,7852,4459,22,1096,5566,5986,5847,5138,5107,5259,5686,5035,5315,5992,6536,6852,6269,4094,5495,5445,5698,5629,4669,5499,5634,5146,2425,3910,2277,2424,5087,3959,5260,5323,5668,5191,4649,6234,6606,5729,5375,5008,5582,3228,5170,5501,5319,5532,5611,5047,3786,4585,5557,5267,4128,3623,1749,1787,920,1013,441,2114,3095,1341,1796,2729],\"type\":\"histogram\",\"xaxis\":\"x3\",\"yaxis\":\"y3\"},{\"histfunc\":\"sum\",\"name\":\"Holiday\",\"x\":[0,0,0,0,0,0,0,0,0,0,0,0,0,0,0,0,1,0,0,0,0,0,0,0,0,0,0,0,0,0,0,0,0,0,0,0,0,0,0,0,0,0,0,0,0,0,0,0,0,0,0,1,0,0,0,0,0,0,0,0,0,0,0,0,0,0,0,0,0,0,0,0,0,0,0,0,0,0,0,0,0,0,0,0,0,0,0,0,0,0,0,0,0,0,0,0,0,0,0,0,0,0,0,0,1,0,0,0,0,0,0,0,0,0,0,0,0,0,0,0,0,0,0,0,0,0,0,0,0,0,0,0,0,0,0,0,0,0,0,0,0,0,0,0,0,0,0,0,0,1,0,0,0,0,0,0,0,0,0,0,0,0,0,0,0,0,0,0,0,0,0,0,0,0,0,0,0,0,0,0,0,0,0,0,1,0,0,0,0,0,0,0,0,0,0,0,0,0,0,0,0,0,0,0,0,0,0,0,0,0,0,0,0,0,0,0,0,0,0,0,0,0,0,0,0,0,0,0,0,0,0,0,0,0,0,0,0,0,0,0,0,0,0,0,0,0,0,1,0,0,0,0,0,0,0,0,0,0,0,0,0,0,0,0,0,0,0,0,0,0,0,0,0,0,0,0,0,0,0,0,0,0,1,0,0,0,0,0,0,0,0,0,0,0,0,0,0,0,0,0,0,0,0,0,0,0,0,0,0,0,0,0,0,0,1,0,0,0,0,0,0,0,0,0,0,0,0,1,0,0,0,0,0,0,0,0,0,0,0,0,0,0,0,0,0,0,0,0,0,0,0,0,0,0,0,0,0,0,0,1,0,0,0,0,0,0,1,0,0,0,0,0,0,0,0,0,0,0,0,0,1,0,0,0,0,0,0,0,0,0,0,0,0,0,0,0,0,0,0,0,0,0,0,0,0,0,0,0,0,0,0,0,0,0,0,1,0,0,0,0,0,0,0,0,0,0,0,0,0,0,0,0,0,0,0,0,0,0,0,0,0,0,0,0,0,0,0,0,0,0,0,0,0,0,0,0,0,0,0,0,0,0,0,0,0,0,0,0,0,0,1,0,0,0,0,0,0,0,0,0,0,0,0,0,0,0,0,0,0,0,0,0,0,0,0,0,0,0,0,0,0,0,0,0,0,0,0,0,0,0,0,0,1,0,0,0,0,0,0,0,0,0,0,0,0,0,0,0,0,0,0,0,0,0,0,0,0,0,0,0,0,0,0,0,0,0,0,0,0,1,0,0,0,0,0,0,0,0,0,0,0,0,0,0,0,0,0,0,0,0,0,0,0,0,0,0,0,0,0,0,0,0,0,0,0,0,0,0,0,0,0,0,0,0,0,0,0,0,0,0,0,0,0,0,0,0,0,0,0,0,1,0,0,0,0,0,0,0,0,0,0,0,0,0,0,0,0,0,0,0,0,0,0,0,0,0,0,0,0,0,0,0,0,0,0,1,0,0,0,0,0,0,0,0,0,0,0,0,0,0,0,0,0,0,0,0,0,0,0,0,0,0,0,0,0,0,0,0,0,0,1,0,0,0,0,0,0,0,0,0,1,0,0,0,0,0,0,0,0,0,0,0,0,0,0,0,0,0,0,0,0,0,0,0,0,0,0,0,0,0,0,0,0,1,0,0,0,0,0,0],\"y\":[985,801,1349,1562,1600,1606,1510,959,822,1321,1263,1162,1406,1421,1248,1204,1000,683,1650,1927,1543,981,986,1416,1985,506,431,1167,1098,1096,1501,1360,1526,1550,1708,1005,1623,1712,1530,1605,1538,1746,1472,1589,1913,1815,2115,2475,2927,1635,1812,1107,1450,1917,1807,1461,1969,2402,1446,1851,2134,1685,1944,2077,605,1872,2133,1891,623,1977,2132,2417,2046,2056,2192,2744,3239,3117,2471,2077,2703,2121,1865,2210,2496,1693,2028,2425,1536,1685,2227,2252,3249,3115,1795,2808,3141,1471,2455,2895,3348,2034,2162,3267,3126,795,3744,3429,3204,3944,4189,1683,4036,4191,4073,4400,3872,4058,4595,5312,3351,4401,4451,2633,4433,4608,4714,4333,4362,4803,4182,4864,4105,3409,4553,3958,4123,3855,4575,4917,5805,4660,4274,4492,4978,4677,4679,4758,4788,4098,3982,3974,4968,5312,5342,4906,4548,4833,4401,3915,4586,4966,4460,5020,4891,5180,3767,4844,5119,4744,4010,4835,4507,4790,4991,5202,5305,4708,4648,5225,5515,5362,5119,4649,6043,4665,4629,4592,4040,5336,4881,4086,4258,4342,5084,5538,5923,5302,4458,4541,4332,3784,3387,3285,3606,3840,4590,4656,4390,3846,4475,4302,4266,4845,3574,4576,4866,4294,3785,4326,4602,4780,4792,4905,4150,3820,4338,4725,4694,3805,4153,5191,3873,4758,5895,5130,3542,4661,1115,4334,4634,5204,5058,5115,4727,4484,4940,3351,2710,1996,1842,3544,5345,5046,4713,4763,4785,3659,4760,4511,4274,4539,3641,4352,4795,2395,5423,5010,4630,4120,3907,4839,5202,2429,2918,3570,4456,4826,4765,4985,5409,5511,5117,4563,2416,2913,3644,5217,5041,4570,4748,2424,4195,4304,4308,4381,4187,4687,3894,2659,3747,627,3331,3669,4068,4186,3974,4046,3926,3649,4035,4205,4109,2933,3368,4067,3717,4486,4195,1817,3053,3392,3663,3520,2765,1607,2566,1495,2792,3068,3071,3867,2914,3613,3727,3940,3614,3485,3811,2594,705,3322,3620,3190,2743,3310,3523,3740,3709,3577,2739,2431,3403,3750,2660,3068,2209,1011,754,1317,1162,2302,2423,2999,2485,2294,1951,2236,2368,3272,4098,4521,3425,2376,3598,2177,4097,3214,2493,2311,2298,2935,3376,3292,3163,1301,1977,2432,4339,4270,4075,3456,4023,3243,3624,4509,4579,3761,4151,2832,2947,3784,4375,2802,3830,3831,2169,1529,3422,3922,4169,3005,4154,4318,2689,3129,3777,4773,5062,3487,2732,3389,4322,4363,4990,3194,4066,3423,3333,3956,4916,5382,4569,4118,4911,5298,5847,6312,6192,4378,7836,5892,6153,6093,6230,6871,8362,3372,4996,5558,5102,5698,6133,5459,6235,6041,5936,6772,6436,6457,6460,6857,5169,5585,5918,4862,5409,6398,7460,7132,6370,6691,4367,6565,7290,6624,1027,3214,5633,6196,5026,6233,4220,6304,5572,5740,6169,6421,6296,6883,6359,6273,5728,4717,6572,7030,7429,6118,2843,5115,7424,7384,7639,8294,7129,4359,6073,5260,6770,6734,6536,6591,6043,5743,6855,7338,4127,8120,7641,6998,7001,7055,7494,7736,7498,6598,6664,4972,7421,7363,7665,7702,6978,5099,6825,6211,5905,5823,7458,6891,6779,7442,7335,6879,5463,5687,5531,6227,6660,7403,6241,6207,4840,4672,6569,6290,7264,7446,7499,6969,6031,6830,6786,5713,6591,5870,4459,7410,6966,7592,8173,6861,6904,6685,6597,7105,7216,7580,7261,7175,6824,5464,7013,7273,7534,7286,5786,6299,6544,6883,6784,7347,7605,7148,7865,4549,6530,7006,7375,7765,7582,6053,5255,6917,7040,7697,7713,7350,6140,5810,6034,6864,7112,6203,7504,5976,8227,7525,7767,7870,7804,8009,8714,7333,6869,4073,7591,7720,8167,8395,7907,7436,7538,7733,7393,7415,8555,6889,6778,4639,7572,7328,8156,7965,3510,5478,6392,7691,7570,7282,7109,6639,5875,7534,7461,7509,5424,8090,6824,7058,7466,7693,7359,7444,7852,4459,22,1096,5566,5986,5847,5138,5107,5259,5686,5035,5315,5992,6536,6852,6269,4094,5495,5445,5698,5629,4669,5499,5634,5146,2425,3910,2277,2424,5087,3959,5260,5323,5668,5191,4649,6234,6606,5729,5375,5008,5582,3228,5170,5501,5319,5532,5611,5047,3786,4585,5557,5267,4128,3623,1749,1787,920,1013,441,2114,3095,1341,1796,2729],\"type\":\"histogram\",\"xaxis\":\"x4\",\"yaxis\":\"y4\"},{\"histfunc\":\"sum\",\"name\":\"Weekday\",\"x\":[6,0,1,2,3,4,5,6,0,1,2,3,4,5,6,0,1,2,3,4,5,6,0,1,2,3,4,5,6,0,1,2,3,4,5,6,0,1,2,3,4,5,6,0,1,2,3,4,5,6,0,1,2,3,4,5,6,0,1,2,3,4,5,6,0,1,2,3,4,5,6,0,1,2,3,4,5,6,0,1,2,3,4,5,6,0,1,2,3,4,5,6,0,1,2,3,4,5,6,0,1,2,3,4,5,6,0,1,2,3,4,5,6,0,1,2,3,4,5,6,0,1,2,3,4,5,6,0,1,2,3,4,5,6,0,1,2,3,4,5,6,0,1,2,3,4,5,6,0,1,2,3,4,5,6,0,1,2,3,4,5,6,0,1,2,3,4,5,6,0,1,2,3,4,5,6,0,1,2,3,4,5,6,0,1,2,3,4,5,6,0,1,2,3,4,5,6,0,1,2,3,4,5,6,0,1,2,3,4,5,6,0,1,2,3,4,5,6,0,1,2,3,4,5,6,0,1,2,3,4,5,6,0,1,2,3,4,5,6,0,1,2,3,4,5,6,0,1,2,3,4,5,6,0,1,2,3,4,5,6,0,1,2,3,4,5,6,0,1,2,3,4,5,6,0,1,2,3,4,5,6,0,1,2,3,4,5,6,0,1,2,3,4,5,6,0,1,2,3,4,5,6,0,1,2,3,4,5,6,0,1,2,3,4,5,6,0,1,2,3,4,5,6,0,1,2,3,4,5,6,0,1,2,3,4,5,6,0,1,2,3,4,5,6,0,1,2,3,4,5,6,0,1,2,3,4,5,6,0,1,2,3,4,5,6,0,1,2,3,4,5,6,0,1,2,3,4,5,6,0,1,2,3,4,5,6,0,1,2,3,4,5,6,0,1,2,3,4,5,6,0,1,2,3,4,5,6,0,1,2,3,4,5,6,0,1,2,3,4,5,6,0,1,2,4,5,6,0,1,2,3,4,5,6,0,1,2,3,4,5,6,0,1,2,3,4,5,6,0,1,2,3,4,5,6,0,1,2,3,4,5,6,0,1,2,3,4,5,6,0,1,2,3,4,5,6,0,1,2,3,4,5,6,0,1,2,3,4,5,6,0,1,2,3,4,5,6,0,1,2,3,4,5,6,0,1,2,3,4,5,6,0,1,2,3,4,5,6,0,1,2,3,4,5,6,0,1,2,3,4,5,6,0,1,2,3,4,5,6,0,1,2,3,4,5,6,0,1,2,3,4,5,6,0,1,2,3,4,5,6,0,1,2,3,4,5,6,0,1,2,3,4,5,6,0,1,2,3,4,5,6,0,1,2,3,4,5,6,0,1,2,3,4,5,6,0,1,2,3,4,5,6,0,1,2,3,4,5,6,0,1,2,3,4,5,6,0,1,2,3,4,5,6,0,1,2,3,4,5,6,0,1,2,3,4,5,6,0,1,2,3,4,5,6,0,1,2,3,4,5,6,0,1,2,3,4,5,6,0,1,2,3,4,5,6,0,1,2,3,4,5,6,0,1,2,3,4,5,6,0,1,2,3,4,5,6,0,1,2,3,4,5,6,0,1,2,3,4,5,6,0,1,2,3,4,5,6,0,1,2,3,4,5,6,0,1,2,3,4,5,6,0,1,2,3,4,5,6,0,1],\"y\":[985,801,1349,1562,1600,1606,1510,959,822,1321,1263,1162,1406,1421,1248,1204,1000,683,1650,1927,1543,981,986,1416,1985,506,431,1167,1098,1096,1501,1360,1526,1550,1708,1005,1623,1712,1530,1605,1538,1746,1472,1589,1913,1815,2115,2475,2927,1635,1812,1107,1450,1917,1807,1461,1969,2402,1446,1851,2134,1685,1944,2077,605,1872,2133,1891,623,1977,2132,2417,2046,2056,2192,2744,3239,3117,2471,2077,2703,2121,1865,2210,2496,1693,2028,2425,1536,1685,2227,2252,3249,3115,1795,2808,3141,1471,2455,2895,3348,2034,2162,3267,3126,795,3744,3429,3204,3944,4189,1683,4036,4191,4073,4400,3872,4058,4595,5312,3351,4401,4451,2633,4433,4608,4714,4333,4362,4803,4182,4864,4105,3409,4553,3958,4123,3855,4575,4917,5805,4660,4274,4492,4978,4677,4679,4758,4788,4098,3982,3974,4968,5312,5342,4906,4548,4833,4401,3915,4586,4966,4460,5020,4891,5180,3767,4844,5119,4744,4010,4835,4507,4790,4991,5202,5305,4708,4648,5225,5515,5362,5119,4649,6043,4665,4629,4592,4040,5336,4881,4086,4258,4342,5084,5538,5923,5302,4458,4541,4332,3784,3387,3285,3606,3840,4590,4656,4390,3846,4475,4302,4266,4845,3574,4576,4866,4294,3785,4326,4602,4780,4792,4905,4150,3820,4338,4725,4694,3805,4153,5191,3873,4758,5895,5130,3542,4661,1115,4334,4634,5204,5058,5115,4727,4484,4940,3351,2710,1996,1842,3544,5345,5046,4713,4763,4785,3659,4760,4511,4274,4539,3641,4352,4795,2395,5423,5010,4630,4120,3907,4839,5202,2429,2918,3570,4456,4826,4765,4985,5409,5511,5117,4563,2416,2913,3644,5217,5041,4570,4748,2424,4195,4304,4308,4381,4187,4687,3894,2659,3747,627,3331,3669,4068,4186,3974,4046,3926,3649,4035,4205,4109,2933,3368,4067,3717,4486,4195,1817,3053,3392,3663,3520,2765,1607,2566,1495,2792,3068,3071,3867,2914,3613,3727,3940,3614,3485,3811,2594,705,3322,3620,3190,2743,3310,3523,3740,3709,3577,2739,2431,3403,3750,2660,3068,2209,1011,754,1317,1162,2302,2423,2999,2485,2294,1951,2236,2368,3272,4098,4521,3425,2376,3598,2177,4097,3214,2493,2311,2298,2935,3376,3292,3163,1301,1977,2432,4339,4270,4075,3456,4023,3243,3624,4509,4579,3761,4151,2832,2947,3784,4375,2802,3830,3831,2169,1529,3422,3922,4169,3005,4154,4318,2689,3129,3777,4773,5062,3487,2732,3389,4322,4363,4990,3194,4066,3423,3333,3956,4916,5382,4569,4118,4911,5298,5847,6312,6192,4378,7836,5892,6153,6093,6230,6871,8362,3372,4996,5558,5102,5698,6133,5459,6235,6041,5936,6772,6436,6457,6460,6857,5169,5585,5918,4862,5409,6398,7460,7132,6370,6691,4367,6565,7290,6624,1027,3214,5633,6196,5026,6233,4220,6304,5572,5740,6169,6421,6296,6883,6359,6273,5728,4717,6572,7030,7429,6118,2843,5115,7424,7384,7639,8294,7129,4359,6073,5260,6770,6734,6536,6591,6043,5743,6855,7338,4127,8120,7641,6998,7001,7055,7494,7736,7498,6598,6664,4972,7421,7363,7665,7702,6978,5099,6825,6211,5905,5823,7458,6891,6779,7442,7335,6879,5463,5687,5531,6227,6660,7403,6241,6207,4840,4672,6569,6290,7264,7446,7499,6969,6031,6830,6786,5713,6591,5870,4459,7410,6966,7592,8173,6861,6904,6685,6597,7105,7216,7580,7261,7175,6824,5464,7013,7273,7534,7286,5786,6299,6544,6883,6784,7347,7605,7148,7865,4549,6530,7006,7375,7765,7582,6053,5255,6917,7040,7697,7713,7350,6140,5810,6034,6864,7112,6203,7504,5976,8227,7525,7767,7870,7804,8009,8714,7333,6869,4073,7591,7720,8167,8395,7907,7436,7538,7733,7393,7415,8555,6889,6778,4639,7572,7328,8156,7965,3510,5478,6392,7691,7570,7282,7109,6639,5875,7534,7461,7509,5424,8090,6824,7058,7466,7693,7359,7444,7852,4459,22,1096,5566,5986,5847,5138,5107,5259,5686,5035,5315,5992,6536,6852,6269,4094,5495,5445,5698,5629,4669,5499,5634,5146,2425,3910,2277,2424,5087,3959,5260,5323,5668,5191,4649,6234,6606,5729,5375,5008,5582,3228,5170,5501,5319,5532,5611,5047,3786,4585,5557,5267,4128,3623,1749,1787,920,1013,441,2114,3095,1341,1796,2729],\"type\":\"histogram\",\"xaxis\":\"x5\",\"yaxis\":\"y5\"},{\"histfunc\":\"sum\",\"name\":\"Workingday\",\"x\":[0,0,1,1,1,1,1,0,0,1,1,1,1,1,0,0,0,1,1,1,1,0,0,1,1,1,1,1,0,0,1,1,1,1,1,0,0,1,1,1,1,1,0,0,1,1,1,1,1,0,0,0,1,1,1,1,0,0,1,1,1,1,1,0,0,1,1,1,1,1,0,0,1,1,1,1,1,0,0,1,1,1,1,1,0,0,1,1,1,1,1,0,0,1,1,1,1,1,0,0,1,1,1,1,0,0,0,1,1,1,1,1,0,0,1,1,1,1,1,0,0,1,1,1,1,1,0,0,1,1,1,1,1,0,0,1,1,1,1,1,0,0,1,1,1,1,1,0,0,0,1,1,1,1,0,0,1,1,1,1,1,0,0,1,1,1,1,1,0,0,1,1,1,1,1,0,0,1,1,1,1,1,0,0,0,1,1,1,1,0,0,1,1,1,1,1,0,0,1,1,1,1,1,0,0,1,1,1,1,1,0,0,1,1,1,1,1,0,0,1,1,1,1,1,0,0,1,1,1,1,1,0,0,1,1,1,1,1,0,0,1,1,1,1,1,0,0,0,1,1,1,1,0,0,1,1,1,1,1,0,0,1,1,1,1,1,0,0,1,1,1,1,1,0,0,1,1,1,1,1,0,0,0,1,1,1,1,0,0,1,1,1,1,1,0,0,1,1,1,1,1,0,0,1,1,1,1,1,0,0,1,1,1,1,0,0,0,1,1,1,1,1,0,0,1,1,1,0,1,0,0,1,1,1,1,1,0,0,1,1,1,1,1,0,0,1,1,1,1,1,0,0,1,1,1,1,1,0,0,0,1,1,1,1,0,0,0,1,1,1,1,0,0,1,1,1,1,1,0,0,0,1,1,1,1,0,0,1,1,1,1,1,0,0,1,1,1,1,1,0,0,1,1,1,1,1,0,0,1,1,1,1,1,0,0,0,1,1,1,1,0,0,1,1,1,1,0,0,1,1,1,1,1,0,0,1,1,1,1,1,0,0,1,1,1,1,1,0,0,1,1,1,1,1,0,0,1,1,1,1,1,0,0,1,1,1,1,1,0,0,0,1,1,1,1,0,0,1,1,1,1,1,0,0,1,1,1,1,1,0,0,1,1,1,1,1,0,0,1,1,1,1,1,0,0,1,1,1,1,1,0,0,0,1,1,1,1,0,0,1,1,1,1,1,0,0,1,1,1,1,1,0,0,1,1,1,1,1,0,0,1,1,1,1,1,0,0,1,1,0,1,1,0,0,1,1,1,1,1,0,0,1,1,1,1,1,0,0,1,1,1,1,1,0,0,1,1,1,1,1,0,0,1,1,1,1,1,0,0,1,1,1,1,1,0,0,1,1,1,1,1,0,0,1,1,1,1,1,0,0,0,1,1,1,1,0,0,1,1,1,1,1,0,0,1,1,1,1,1,0,0,1,1,1,1,1,0,0,1,1,1,1,1,0,0,0,1,1,1,1,0,0,1,1,1,1,1,0,0,1,1,1,1,1,0,0,1,1,1,1,1,0,0,1,1,1,1,1,0,0,0,1,1,1,1,0,0,1,1,1,0,1,0,0,1,1,1,1,1,0,0,1,1,1,1,1,0,0,1,1,1,1,1,0,0,1,1,1,1,1,0,0,1,0,1,1,1,0,0,1],\"y\":[985,801,1349,1562,1600,1606,1510,959,822,1321,1263,1162,1406,1421,1248,1204,1000,683,1650,1927,1543,981,986,1416,1985,506,431,1167,1098,1096,1501,1360,1526,1550,1708,1005,1623,1712,1530,1605,1538,1746,1472,1589,1913,1815,2115,2475,2927,1635,1812,1107,1450,1917,1807,1461,1969,2402,1446,1851,2134,1685,1944,2077,605,1872,2133,1891,623,1977,2132,2417,2046,2056,2192,2744,3239,3117,2471,2077,2703,2121,1865,2210,2496,1693,2028,2425,1536,1685,2227,2252,3249,3115,1795,2808,3141,1471,2455,2895,3348,2034,2162,3267,3126,795,3744,3429,3204,3944,4189,1683,4036,4191,4073,4400,3872,4058,4595,5312,3351,4401,4451,2633,4433,4608,4714,4333,4362,4803,4182,4864,4105,3409,4553,3958,4123,3855,4575,4917,5805,4660,4274,4492,4978,4677,4679,4758,4788,4098,3982,3974,4968,5312,5342,4906,4548,4833,4401,3915,4586,4966,4460,5020,4891,5180,3767,4844,5119,4744,4010,4835,4507,4790,4991,5202,5305,4708,4648,5225,5515,5362,5119,4649,6043,4665,4629,4592,4040,5336,4881,4086,4258,4342,5084,5538,5923,5302,4458,4541,4332,3784,3387,3285,3606,3840,4590,4656,4390,3846,4475,4302,4266,4845,3574,4576,4866,4294,3785,4326,4602,4780,4792,4905,4150,3820,4338,4725,4694,3805,4153,5191,3873,4758,5895,5130,3542,4661,1115,4334,4634,5204,5058,5115,4727,4484,4940,3351,2710,1996,1842,3544,5345,5046,4713,4763,4785,3659,4760,4511,4274,4539,3641,4352,4795,2395,5423,5010,4630,4120,3907,4839,5202,2429,2918,3570,4456,4826,4765,4985,5409,5511,5117,4563,2416,2913,3644,5217,5041,4570,4748,2424,4195,4304,4308,4381,4187,4687,3894,2659,3747,627,3331,3669,4068,4186,3974,4046,3926,3649,4035,4205,4109,2933,3368,4067,3717,4486,4195,1817,3053,3392,3663,3520,2765,1607,2566,1495,2792,3068,3071,3867,2914,3613,3727,3940,3614,3485,3811,2594,705,3322,3620,3190,2743,3310,3523,3740,3709,3577,2739,2431,3403,3750,2660,3068,2209,1011,754,1317,1162,2302,2423,2999,2485,2294,1951,2236,2368,3272,4098,4521,3425,2376,3598,2177,4097,3214,2493,2311,2298,2935,3376,3292,3163,1301,1977,2432,4339,4270,4075,3456,4023,3243,3624,4509,4579,3761,4151,2832,2947,3784,4375,2802,3830,3831,2169,1529,3422,3922,4169,3005,4154,4318,2689,3129,3777,4773,5062,3487,2732,3389,4322,4363,4990,3194,4066,3423,3333,3956,4916,5382,4569,4118,4911,5298,5847,6312,6192,4378,7836,5892,6153,6093,6230,6871,8362,3372,4996,5558,5102,5698,6133,5459,6235,6041,5936,6772,6436,6457,6460,6857,5169,5585,5918,4862,5409,6398,7460,7132,6370,6691,4367,6565,7290,6624,1027,3214,5633,6196,5026,6233,4220,6304,5572,5740,6169,6421,6296,6883,6359,6273,5728,4717,6572,7030,7429,6118,2843,5115,7424,7384,7639,8294,7129,4359,6073,5260,6770,6734,6536,6591,6043,5743,6855,7338,4127,8120,7641,6998,7001,7055,7494,7736,7498,6598,6664,4972,7421,7363,7665,7702,6978,5099,6825,6211,5905,5823,7458,6891,6779,7442,7335,6879,5463,5687,5531,6227,6660,7403,6241,6207,4840,4672,6569,6290,7264,7446,7499,6969,6031,6830,6786,5713,6591,5870,4459,7410,6966,7592,8173,6861,6904,6685,6597,7105,7216,7580,7261,7175,6824,5464,7013,7273,7534,7286,5786,6299,6544,6883,6784,7347,7605,7148,7865,4549,6530,7006,7375,7765,7582,6053,5255,6917,7040,7697,7713,7350,6140,5810,6034,6864,7112,6203,7504,5976,8227,7525,7767,7870,7804,8009,8714,7333,6869,4073,7591,7720,8167,8395,7907,7436,7538,7733,7393,7415,8555,6889,6778,4639,7572,7328,8156,7965,3510,5478,6392,7691,7570,7282,7109,6639,5875,7534,7461,7509,5424,8090,6824,7058,7466,7693,7359,7444,7852,4459,22,1096,5566,5986,5847,5138,5107,5259,5686,5035,5315,5992,6536,6852,6269,4094,5495,5445,5698,5629,4669,5499,5634,5146,2425,3910,2277,2424,5087,3959,5260,5323,5668,5191,4649,6234,6606,5729,5375,5008,5582,3228,5170,5501,5319,5532,5611,5047,3786,4585,5557,5267,4128,3623,1749,1787,920,1013,441,2114,3095,1341,1796,2729],\"type\":\"histogram\",\"xaxis\":\"x6\",\"yaxis\":\"y6\"},{\"histfunc\":\"sum\",\"name\":\"Weathersit\",\"x\":[2,2,1,1,1,1,2,2,1,1,2,1,1,1,2,1,2,2,2,2,1,1,1,1,2,3,1,2,1,1,2,2,2,1,2,2,1,1,1,2,1,1,1,1,1,1,1,1,1,1,1,2,1,1,2,2,1,1,2,1,1,1,2,2,2,1,1,2,3,2,1,1,1,2,2,1,1,1,1,2,1,2,2,1,1,2,1,1,2,3,2,2,1,1,2,1,1,2,2,2,2,2,2,1,1,3,1,1,2,1,1,2,2,2,1,1,2,2,1,1,2,2,2,2,1,1,1,1,1,1,1,1,2,2,2,1,2,2,2,1,1,1,2,2,1,1,1,1,1,1,1,2,1,1,1,2,1,1,1,2,1,1,1,1,1,1,2,1,1,2,2,2,1,2,1,1,1,2,1,1,1,1,1,2,2,1,1,1,2,1,1,1,1,1,1,1,1,1,1,1,1,2,1,1,1,1,1,1,1,1,1,1,1,1,2,2,1,2,1,1,1,1,1,1,2,2,1,1,1,1,2,1,1,1,1,1,2,1,2,1,1,1,1,1,2,1,1,2,3,3,3,2,1,1,1,1,1,2,2,2,1,2,2,2,2,2,2,2,2,2,2,1,1,2,2,2,1,1,1,1,1,1,1,2,3,2,2,1,1,1,2,3,1,1,1,1,1,1,2,2,2,3,1,1,1,1,1,2,1,1,1,1,1,2,1,1,1,1,2,3,2,1,1,2,3,3,2,1,1,1,1,1,2,1,1,1,1,1,2,3,3,1,1,1,1,1,1,2,2,2,2,1,1,2,2,2,1,1,1,1,2,1,1,1,1,1,1,1,2,1,1,1,1,2,1,2,2,1,1,1,1,2,1,1,2,2,2,2,1,1,2,2,1,1,1,1,1,2,1,2,2,1,1,2,1,2,3,1,1,2,1,2,1,1,2,1,1,1,1,2,1,1,1,1,1,2,2,1,1,1,1,1,2,1,1,1,1,1,1,2,2,2,1,1,2,1,2,2,2,1,1,1,1,2,2,2,1,1,1,1,1,1,1,1,1,1,1,1,1,1,1,1,2,1,1,1,3,2,1,1,2,1,2,1,2,2,1,2,1,2,2,2,2,2,1,1,1,1,2,2,1,1,1,1,1,2,2,2,1,1,1,1,1,1,2,1,2,1,1,1,2,1,1,1,1,1,2,2,1,1,1,1,1,2,1,1,1,1,1,1,1,1,1,1,1,1,1,1,1,1,1,1,1,1,2,2,1,1,2,2,1,1,1,1,1,2,3,2,1,1,1,1,1,1,1,1,1,1,1,2,1,1,2,2,2,1,2,2,1,1,1,1,1,1,1,2,2,1,1,1,2,2,2,1,1,1,1,1,2,2,1,1,1,2,1,2,1,1,1,1,1,1,1,1,2,2,1,1,1,1,1,1,1,1,2,2,1,1,2,3,2,2,1,1,2,2,2,1,1,1,1,1,2,1,1,2,2,1,1,1,1,1,2,2,2,2,3,2,2,2,1,2,1,1,1,2,1,1,1,1,1,2,1,2,1,1,1,2,2,1,1,1,1,1,1,2,1,1,1,2,2,1,1,1,1,2,2,2,2,2,2,1,1,1,2,2,1,1,2,2,1,1,2,2,3,2,2,2,1,2],\"y\":[985,801,1349,1562,1600,1606,1510,959,822,1321,1263,1162,1406,1421,1248,1204,1000,683,1650,1927,1543,981,986,1416,1985,506,431,1167,1098,1096,1501,1360,1526,1550,1708,1005,1623,1712,1530,1605,1538,1746,1472,1589,1913,1815,2115,2475,2927,1635,1812,1107,1450,1917,1807,1461,1969,2402,1446,1851,2134,1685,1944,2077,605,1872,2133,1891,623,1977,2132,2417,2046,2056,2192,2744,3239,3117,2471,2077,2703,2121,1865,2210,2496,1693,2028,2425,1536,1685,2227,2252,3249,3115,1795,2808,3141,1471,2455,2895,3348,2034,2162,3267,3126,795,3744,3429,3204,3944,4189,1683,4036,4191,4073,4400,3872,4058,4595,5312,3351,4401,4451,2633,4433,4608,4714,4333,4362,4803,4182,4864,4105,3409,4553,3958,4123,3855,4575,4917,5805,4660,4274,4492,4978,4677,4679,4758,4788,4098,3982,3974,4968,5312,5342,4906,4548,4833,4401,3915,4586,4966,4460,5020,4891,5180,3767,4844,5119,4744,4010,4835,4507,4790,4991,5202,5305,4708,4648,5225,5515,5362,5119,4649,6043,4665,4629,4592,4040,5336,4881,4086,4258,4342,5084,5538,5923,5302,4458,4541,4332,3784,3387,3285,3606,3840,4590,4656,4390,3846,4475,4302,4266,4845,3574,4576,4866,4294,3785,4326,4602,4780,4792,4905,4150,3820,4338,4725,4694,3805,4153,5191,3873,4758,5895,5130,3542,4661,1115,4334,4634,5204,5058,5115,4727,4484,4940,3351,2710,1996,1842,3544,5345,5046,4713,4763,4785,3659,4760,4511,4274,4539,3641,4352,4795,2395,5423,5010,4630,4120,3907,4839,5202,2429,2918,3570,4456,4826,4765,4985,5409,5511,5117,4563,2416,2913,3644,5217,5041,4570,4748,2424,4195,4304,4308,4381,4187,4687,3894,2659,3747,627,3331,3669,4068,4186,3974,4046,3926,3649,4035,4205,4109,2933,3368,4067,3717,4486,4195,1817,3053,3392,3663,3520,2765,1607,2566,1495,2792,3068,3071,3867,2914,3613,3727,3940,3614,3485,3811,2594,705,3322,3620,3190,2743,3310,3523,3740,3709,3577,2739,2431,3403,3750,2660,3068,2209,1011,754,1317,1162,2302,2423,2999,2485,2294,1951,2236,2368,3272,4098,4521,3425,2376,3598,2177,4097,3214,2493,2311,2298,2935,3376,3292,3163,1301,1977,2432,4339,4270,4075,3456,4023,3243,3624,4509,4579,3761,4151,2832,2947,3784,4375,2802,3830,3831,2169,1529,3422,3922,4169,3005,4154,4318,2689,3129,3777,4773,5062,3487,2732,3389,4322,4363,4990,3194,4066,3423,3333,3956,4916,5382,4569,4118,4911,5298,5847,6312,6192,4378,7836,5892,6153,6093,6230,6871,8362,3372,4996,5558,5102,5698,6133,5459,6235,6041,5936,6772,6436,6457,6460,6857,5169,5585,5918,4862,5409,6398,7460,7132,6370,6691,4367,6565,7290,6624,1027,3214,5633,6196,5026,6233,4220,6304,5572,5740,6169,6421,6296,6883,6359,6273,5728,4717,6572,7030,7429,6118,2843,5115,7424,7384,7639,8294,7129,4359,6073,5260,6770,6734,6536,6591,6043,5743,6855,7338,4127,8120,7641,6998,7001,7055,7494,7736,7498,6598,6664,4972,7421,7363,7665,7702,6978,5099,6825,6211,5905,5823,7458,6891,6779,7442,7335,6879,5463,5687,5531,6227,6660,7403,6241,6207,4840,4672,6569,6290,7264,7446,7499,6969,6031,6830,6786,5713,6591,5870,4459,7410,6966,7592,8173,6861,6904,6685,6597,7105,7216,7580,7261,7175,6824,5464,7013,7273,7534,7286,5786,6299,6544,6883,6784,7347,7605,7148,7865,4549,6530,7006,7375,7765,7582,6053,5255,6917,7040,7697,7713,7350,6140,5810,6034,6864,7112,6203,7504,5976,8227,7525,7767,7870,7804,8009,8714,7333,6869,4073,7591,7720,8167,8395,7907,7436,7538,7733,7393,7415,8555,6889,6778,4639,7572,7328,8156,7965,3510,5478,6392,7691,7570,7282,7109,6639,5875,7534,7461,7509,5424,8090,6824,7058,7466,7693,7359,7444,7852,4459,22,1096,5566,5986,5847,5138,5107,5259,5686,5035,5315,5992,6536,6852,6269,4094,5495,5445,5698,5629,4669,5499,5634,5146,2425,3910,2277,2424,5087,3959,5260,5323,5668,5191,4649,6234,6606,5729,5375,5008,5582,3228,5170,5501,5319,5532,5611,5047,3786,4585,5557,5267,4128,3623,1749,1787,920,1013,441,2114,3095,1341,1796,2729],\"type\":\"histogram\",\"xaxis\":\"x7\",\"yaxis\":\"y7\"}],                        {\"template\":{\"data\":{\"bar\":[{\"error_x\":{\"color\":\"#2a3f5f\"},\"error_y\":{\"color\":\"#2a3f5f\"},\"marker\":{\"line\":{\"color\":\"#E5ECF6\",\"width\":0.5},\"pattern\":{\"fillmode\":\"overlay\",\"size\":10,\"solidity\":0.2}},\"type\":\"bar\"}],\"barpolar\":[{\"marker\":{\"line\":{\"color\":\"#E5ECF6\",\"width\":0.5},\"pattern\":{\"fillmode\":\"overlay\",\"size\":10,\"solidity\":0.2}},\"type\":\"barpolar\"}],\"carpet\":[{\"aaxis\":{\"endlinecolor\":\"#2a3f5f\",\"gridcolor\":\"white\",\"linecolor\":\"white\",\"minorgridcolor\":\"white\",\"startlinecolor\":\"#2a3f5f\"},\"baxis\":{\"endlinecolor\":\"#2a3f5f\",\"gridcolor\":\"white\",\"linecolor\":\"white\",\"minorgridcolor\":\"white\",\"startlinecolor\":\"#2a3f5f\"},\"type\":\"carpet\"}],\"choropleth\":[{\"colorbar\":{\"outlinewidth\":0,\"ticks\":\"\"},\"type\":\"choropleth\"}],\"contour\":[{\"colorbar\":{\"outlinewidth\":0,\"ticks\":\"\"},\"colorscale\":[[0.0,\"#0d0887\"],[0.1111111111111111,\"#46039f\"],[0.2222222222222222,\"#7201a8\"],[0.3333333333333333,\"#9c179e\"],[0.4444444444444444,\"#bd3786\"],[0.5555555555555556,\"#d8576b\"],[0.6666666666666666,\"#ed7953\"],[0.7777777777777778,\"#fb9f3a\"],[0.8888888888888888,\"#fdca26\"],[1.0,\"#f0f921\"]],\"type\":\"contour\"}],\"contourcarpet\":[{\"colorbar\":{\"outlinewidth\":0,\"ticks\":\"\"},\"type\":\"contourcarpet\"}],\"heatmap\":[{\"colorbar\":{\"outlinewidth\":0,\"ticks\":\"\"},\"colorscale\":[[0.0,\"#0d0887\"],[0.1111111111111111,\"#46039f\"],[0.2222222222222222,\"#7201a8\"],[0.3333333333333333,\"#9c179e\"],[0.4444444444444444,\"#bd3786\"],[0.5555555555555556,\"#d8576b\"],[0.6666666666666666,\"#ed7953\"],[0.7777777777777778,\"#fb9f3a\"],[0.8888888888888888,\"#fdca26\"],[1.0,\"#f0f921\"]],\"type\":\"heatmap\"}],\"heatmapgl\":[{\"colorbar\":{\"outlinewidth\":0,\"ticks\":\"\"},\"colorscale\":[[0.0,\"#0d0887\"],[0.1111111111111111,\"#46039f\"],[0.2222222222222222,\"#7201a8\"],[0.3333333333333333,\"#9c179e\"],[0.4444444444444444,\"#bd3786\"],[0.5555555555555556,\"#d8576b\"],[0.6666666666666666,\"#ed7953\"],[0.7777777777777778,\"#fb9f3a\"],[0.8888888888888888,\"#fdca26\"],[1.0,\"#f0f921\"]],\"type\":\"heatmapgl\"}],\"histogram\":[{\"marker\":{\"pattern\":{\"fillmode\":\"overlay\",\"size\":10,\"solidity\":0.2}},\"type\":\"histogram\"}],\"histogram2d\":[{\"colorbar\":{\"outlinewidth\":0,\"ticks\":\"\"},\"colorscale\":[[0.0,\"#0d0887\"],[0.1111111111111111,\"#46039f\"],[0.2222222222222222,\"#7201a8\"],[0.3333333333333333,\"#9c179e\"],[0.4444444444444444,\"#bd3786\"],[0.5555555555555556,\"#d8576b\"],[0.6666666666666666,\"#ed7953\"],[0.7777777777777778,\"#fb9f3a\"],[0.8888888888888888,\"#fdca26\"],[1.0,\"#f0f921\"]],\"type\":\"histogram2d\"}],\"histogram2dcontour\":[{\"colorbar\":{\"outlinewidth\":0,\"ticks\":\"\"},\"colorscale\":[[0.0,\"#0d0887\"],[0.1111111111111111,\"#46039f\"],[0.2222222222222222,\"#7201a8\"],[0.3333333333333333,\"#9c179e\"],[0.4444444444444444,\"#bd3786\"],[0.5555555555555556,\"#d8576b\"],[0.6666666666666666,\"#ed7953\"],[0.7777777777777778,\"#fb9f3a\"],[0.8888888888888888,\"#fdca26\"],[1.0,\"#f0f921\"]],\"type\":\"histogram2dcontour\"}],\"mesh3d\":[{\"colorbar\":{\"outlinewidth\":0,\"ticks\":\"\"},\"type\":\"mesh3d\"}],\"parcoords\":[{\"line\":{\"colorbar\":{\"outlinewidth\":0,\"ticks\":\"\"}},\"type\":\"parcoords\"}],\"pie\":[{\"automargin\":true,\"type\":\"pie\"}],\"scatter\":[{\"marker\":{\"colorbar\":{\"outlinewidth\":0,\"ticks\":\"\"}},\"type\":\"scatter\"}],\"scatter3d\":[{\"line\":{\"colorbar\":{\"outlinewidth\":0,\"ticks\":\"\"}},\"marker\":{\"colorbar\":{\"outlinewidth\":0,\"ticks\":\"\"}},\"type\":\"scatter3d\"}],\"scattercarpet\":[{\"marker\":{\"colorbar\":{\"outlinewidth\":0,\"ticks\":\"\"}},\"type\":\"scattercarpet\"}],\"scattergeo\":[{\"marker\":{\"colorbar\":{\"outlinewidth\":0,\"ticks\":\"\"}},\"type\":\"scattergeo\"}],\"scattergl\":[{\"marker\":{\"colorbar\":{\"outlinewidth\":0,\"ticks\":\"\"}},\"type\":\"scattergl\"}],\"scattermapbox\":[{\"marker\":{\"colorbar\":{\"outlinewidth\":0,\"ticks\":\"\"}},\"type\":\"scattermapbox\"}],\"scatterpolar\":[{\"marker\":{\"colorbar\":{\"outlinewidth\":0,\"ticks\":\"\"}},\"type\":\"scatterpolar\"}],\"scatterpolargl\":[{\"marker\":{\"colorbar\":{\"outlinewidth\":0,\"ticks\":\"\"}},\"type\":\"scatterpolargl\"}],\"scatterternary\":[{\"marker\":{\"colorbar\":{\"outlinewidth\":0,\"ticks\":\"\"}},\"type\":\"scatterternary\"}],\"surface\":[{\"colorbar\":{\"outlinewidth\":0,\"ticks\":\"\"},\"colorscale\":[[0.0,\"#0d0887\"],[0.1111111111111111,\"#46039f\"],[0.2222222222222222,\"#7201a8\"],[0.3333333333333333,\"#9c179e\"],[0.4444444444444444,\"#bd3786\"],[0.5555555555555556,\"#d8576b\"],[0.6666666666666666,\"#ed7953\"],[0.7777777777777778,\"#fb9f3a\"],[0.8888888888888888,\"#fdca26\"],[1.0,\"#f0f921\"]],\"type\":\"surface\"}],\"table\":[{\"cells\":{\"fill\":{\"color\":\"#EBF0F8\"},\"line\":{\"color\":\"white\"}},\"header\":{\"fill\":{\"color\":\"#C8D4E3\"},\"line\":{\"color\":\"white\"}},\"type\":\"table\"}]},\"layout\":{\"annotationdefaults\":{\"arrowcolor\":\"#2a3f5f\",\"arrowhead\":0,\"arrowwidth\":1},\"autotypenumbers\":\"strict\",\"coloraxis\":{\"colorbar\":{\"outlinewidth\":0,\"ticks\":\"\"}},\"colorscale\":{\"diverging\":[[0,\"#8e0152\"],[0.1,\"#c51b7d\"],[0.2,\"#de77ae\"],[0.3,\"#f1b6da\"],[0.4,\"#fde0ef\"],[0.5,\"#f7f7f7\"],[0.6,\"#e6f5d0\"],[0.7,\"#b8e186\"],[0.8,\"#7fbc41\"],[0.9,\"#4d9221\"],[1,\"#276419\"]],\"sequential\":[[0.0,\"#0d0887\"],[0.1111111111111111,\"#46039f\"],[0.2222222222222222,\"#7201a8\"],[0.3333333333333333,\"#9c179e\"],[0.4444444444444444,\"#bd3786\"],[0.5555555555555556,\"#d8576b\"],[0.6666666666666666,\"#ed7953\"],[0.7777777777777778,\"#fb9f3a\"],[0.8888888888888888,\"#fdca26\"],[1.0,\"#f0f921\"]],\"sequentialminus\":[[0.0,\"#0d0887\"],[0.1111111111111111,\"#46039f\"],[0.2222222222222222,\"#7201a8\"],[0.3333333333333333,\"#9c179e\"],[0.4444444444444444,\"#bd3786\"],[0.5555555555555556,\"#d8576b\"],[0.6666666666666666,\"#ed7953\"],[0.7777777777777778,\"#fb9f3a\"],[0.8888888888888888,\"#fdca26\"],[1.0,\"#f0f921\"]]},\"colorway\":[\"#636efa\",\"#EF553B\",\"#00cc96\",\"#ab63fa\",\"#FFA15A\",\"#19d3f3\",\"#FF6692\",\"#B6E880\",\"#FF97FF\",\"#FECB52\"],\"font\":{\"color\":\"#2a3f5f\"},\"geo\":{\"bgcolor\":\"white\",\"lakecolor\":\"white\",\"landcolor\":\"#E5ECF6\",\"showlakes\":true,\"showland\":true,\"subunitcolor\":\"white\"},\"hoverlabel\":{\"align\":\"left\"},\"hovermode\":\"closest\",\"mapbox\":{\"style\":\"light\"},\"paper_bgcolor\":\"white\",\"plot_bgcolor\":\"#E5ECF6\",\"polar\":{\"angularaxis\":{\"gridcolor\":\"white\",\"linecolor\":\"white\",\"ticks\":\"\"},\"bgcolor\":\"#E5ECF6\",\"radialaxis\":{\"gridcolor\":\"white\",\"linecolor\":\"white\",\"ticks\":\"\"}},\"scene\":{\"xaxis\":{\"backgroundcolor\":\"#E5ECF6\",\"gridcolor\":\"white\",\"gridwidth\":2,\"linecolor\":\"white\",\"showbackground\":true,\"ticks\":\"\",\"zerolinecolor\":\"white\"},\"yaxis\":{\"backgroundcolor\":\"#E5ECF6\",\"gridcolor\":\"white\",\"gridwidth\":2,\"linecolor\":\"white\",\"showbackground\":true,\"ticks\":\"\",\"zerolinecolor\":\"white\"},\"zaxis\":{\"backgroundcolor\":\"#E5ECF6\",\"gridcolor\":\"white\",\"gridwidth\":2,\"linecolor\":\"white\",\"showbackground\":true,\"ticks\":\"\",\"zerolinecolor\":\"white\"}},\"shapedefaults\":{\"line\":{\"color\":\"#2a3f5f\"}},\"ternary\":{\"aaxis\":{\"gridcolor\":\"white\",\"linecolor\":\"white\",\"ticks\":\"\"},\"baxis\":{\"gridcolor\":\"white\",\"linecolor\":\"white\",\"ticks\":\"\"},\"bgcolor\":\"#E5ECF6\",\"caxis\":{\"gridcolor\":\"white\",\"linecolor\":\"white\",\"ticks\":\"\"}},\"title\":{\"x\":0.05},\"xaxis\":{\"automargin\":true,\"gridcolor\":\"white\",\"linecolor\":\"white\",\"ticks\":\"\",\"title\":{\"standoff\":15},\"zerolinecolor\":\"white\",\"zerolinewidth\":2},\"yaxis\":{\"automargin\":true,\"gridcolor\":\"white\",\"linecolor\":\"white\",\"ticks\":\"\",\"title\":{\"standoff\":15},\"zerolinecolor\":\"white\",\"zerolinewidth\":2}}},\"xaxis\":{\"anchor\":\"y\",\"domain\":[0.0,0.2888888888888889],\"title\":{\"text\":\"Season\"}},\"yaxis\":{\"anchor\":\"x\",\"domain\":[0.7333333333333333,1.0],\"title\":{\"text\":\"Total Bikes Rented\"}},\"xaxis2\":{\"anchor\":\"y2\",\"domain\":[0.35555555555555557,0.6444444444444445],\"title\":{\"text\":\"Year\"}},\"yaxis2\":{\"anchor\":\"x2\",\"domain\":[0.7333333333333333,1.0],\"matches\":\"y\",\"showticklabels\":false},\"xaxis3\":{\"anchor\":\"y3\",\"domain\":[0.7111111111111111,1.0],\"title\":{\"text\":\"Month\"}},\"yaxis3\":{\"anchor\":\"x3\",\"domain\":[0.7333333333333333,1.0],\"matches\":\"y\",\"showticklabels\":false},\"xaxis4\":{\"anchor\":\"y4\",\"domain\":[0.0,0.2888888888888889],\"title\":{\"text\":\"Holiday\"}},\"yaxis4\":{\"anchor\":\"x4\",\"domain\":[0.36666666666666664,0.6333333333333333]},\"xaxis5\":{\"anchor\":\"y5\",\"domain\":[0.35555555555555557,0.6444444444444445],\"title\":{\"text\":\"Weekday\"}},\"yaxis5\":{\"anchor\":\"x5\",\"domain\":[0.36666666666666664,0.6333333333333333],\"matches\":\"y4\",\"showticklabels\":false},\"xaxis6\":{\"anchor\":\"y6\",\"domain\":[0.7111111111111111,1.0],\"title\":{\"text\":\"Workingday\"}},\"yaxis6\":{\"anchor\":\"x6\",\"domain\":[0.36666666666666664,0.6333333333333333],\"matches\":\"y4\",\"showticklabels\":false},\"xaxis7\":{\"anchor\":\"y7\",\"domain\":[0.0,0.2888888888888889],\"title\":{\"text\":\"Weathersit\"}},\"yaxis7\":{\"anchor\":\"x7\",\"domain\":[0.0,0.26666666666666666]},\"xaxis8\":{\"anchor\":\"y8\",\"domain\":[0.35555555555555557,0.6444444444444445]},\"yaxis8\":{\"anchor\":\"x8\",\"domain\":[0.0,0.26666666666666666],\"matches\":\"y7\",\"showticklabels\":false},\"xaxis9\":{\"anchor\":\"y9\",\"domain\":[0.7111111111111111,1.0]},\"yaxis9\":{\"anchor\":\"x9\",\"domain\":[0.0,0.26666666666666666],\"matches\":\"y7\",\"showticklabels\":false},\"width\":1200,\"height\":1200,\"barmode\":\"group\",\"bargap\":0.15},                        {\"responsive\": true}                    ).then(function(){\n",
              "                            \n",
              "var gd = document.getElementById('377fc5e5-fc43-4b9f-b30d-17346c6511fc');\n",
              "var x = new MutationObserver(function (mutations, observer) {{\n",
              "        var display = window.getComputedStyle(gd).display;\n",
              "        if (!display || display === 'none') {{\n",
              "            console.log([gd, 'removed!']);\n",
              "            Plotly.purge(gd);\n",
              "            observer.disconnect();\n",
              "        }}\n",
              "}});\n",
              "\n",
              "// Listen for the removal of the full notebook cells\n",
              "var notebookContainer = gd.closest('#notebook-container');\n",
              "if (notebookContainer) {{\n",
              "    x.observe(notebookContainer, {childList: true});\n",
              "}}\n",
              "\n",
              "// Listen for the clearing of the current output cell\n",
              "var outputEl = gd.closest('.output');\n",
              "if (outputEl) {{\n",
              "    x.observe(outputEl, {childList: true});\n",
              "}}\n",
              "\n",
              "                        })                };                            </script>        </div>\n",
              "</body>\n",
              "</html>"
            ]
          },
          "metadata": {}
        }
      ]
    },
    {
      "cell_type": "markdown",
      "source": [
        "#### Observations\n",
        "\n",
        "*   Season3 has highest bike share rides followed by season2.\n",
        "*   Seems bikes rentals increases year by year\n",
        "*   May to September months have higher bike rentals compared to other months\n",
        "*   Seems non-holidays have more bike rentals compared to holdiays.\n",
        "*   There seems to be no significance difference on weekdays.\n",
        "*   Working days have higher bike rentals.\n",
        "*   Clear weather (weathersit:1) have higher bike rentals"
      ],
      "metadata": {
        "id": "pJJWnvyn83Oj"
      }
    },
    {
      "cell_type": "markdown",
      "source": [
        "## Step 3: Data Preparation"
      ],
      "metadata": {
        "id": "qPKJ8mH7_S-H"
      }
    },
    {
      "cell_type": "markdown",
      "source": [
        "#### Data Cleaning\n",
        "\n",
        "*   instant is unique id and so we can delete.\n",
        "*   dteday as well can be deleted as we already have month and year in separate columns\n",
        "*   As we are dealing with total bike shares, we can drop casual and registered columns as well."
      ],
      "metadata": {
        "id": "0nD0T00Gh4Wa"
      }
    },
    {
      "cell_type": "code",
      "source": [
        "bike_df.drop(['instant','dteday','casual','registered'],inplace=True,axis=1)\n",
        "bike_df.describe()"
      ],
      "metadata": {
        "colab": {
          "base_uri": "https://localhost:8080/",
          "height": 300
        },
        "id": "l2vNYJoCfXL4",
        "outputId": "4d5c20ee-45bb-4034-e8bd-12bd6b698e96"
      },
      "execution_count": 632,
      "outputs": [
        {
          "output_type": "execute_result",
          "data": {
            "text/plain": [
              "           season          yr        mnth     holiday     weekday  workingday  \\\n",
              "count  730.000000  730.000000  730.000000  730.000000  730.000000  730.000000   \n",
              "mean     2.498630    0.500000    6.526027    0.028767    2.997260    0.683562   \n",
              "std      1.110184    0.500343    3.450215    0.167266    2.006161    0.465405   \n",
              "min      1.000000    0.000000    1.000000    0.000000    0.000000    0.000000   \n",
              "25%      2.000000    0.000000    4.000000    0.000000    1.000000    0.000000   \n",
              "50%      3.000000    0.500000    7.000000    0.000000    3.000000    1.000000   \n",
              "75%      3.000000    1.000000   10.000000    0.000000    5.000000    1.000000   \n",
              "max      4.000000    1.000000   12.000000    1.000000    6.000000    1.000000   \n",
              "\n",
              "       weathersit        temp       atemp         hum   windspeed          cnt  \n",
              "count  730.000000  730.000000  730.000000  730.000000  730.000000   730.000000  \n",
              "mean     1.394521   20.319259   23.726322   62.765175   12.763620  4508.006849  \n",
              "std      0.544807    7.506729    8.150308   14.237589    5.195841  1936.011647  \n",
              "min      1.000000    2.424346    3.953480    0.000000    1.500244    22.000000  \n",
              "25%      1.000000   13.811885   16.889713   52.000000    9.041650  3169.750000  \n",
              "50%      1.000000   20.465826   24.368225   62.625000   12.125325  4548.500000  \n",
              "75%      2.000000   26.880615   30.445775   72.989575   15.625589  5966.000000  \n",
              "max      3.000000   35.328347   42.044800   97.250000   34.000021  8714.000000  "
            ],
            "text/html": [
              "\n",
              "  <div id=\"df-82746c42-2897-4c1a-b043-9d42e7b7182e\">\n",
              "    <div class=\"colab-df-container\">\n",
              "      <div>\n",
              "<style scoped>\n",
              "    .dataframe tbody tr th:only-of-type {\n",
              "        vertical-align: middle;\n",
              "    }\n",
              "\n",
              "    .dataframe tbody tr th {\n",
              "        vertical-align: top;\n",
              "    }\n",
              "\n",
              "    .dataframe thead th {\n",
              "        text-align: right;\n",
              "    }\n",
              "</style>\n",
              "<table border=\"1\" class=\"dataframe\">\n",
              "  <thead>\n",
              "    <tr style=\"text-align: right;\">\n",
              "      <th></th>\n",
              "      <th>season</th>\n",
              "      <th>yr</th>\n",
              "      <th>mnth</th>\n",
              "      <th>holiday</th>\n",
              "      <th>weekday</th>\n",
              "      <th>workingday</th>\n",
              "      <th>weathersit</th>\n",
              "      <th>temp</th>\n",
              "      <th>atemp</th>\n",
              "      <th>hum</th>\n",
              "      <th>windspeed</th>\n",
              "      <th>cnt</th>\n",
              "    </tr>\n",
              "  </thead>\n",
              "  <tbody>\n",
              "    <tr>\n",
              "      <th>count</th>\n",
              "      <td>730.000000</td>\n",
              "      <td>730.000000</td>\n",
              "      <td>730.000000</td>\n",
              "      <td>730.000000</td>\n",
              "      <td>730.000000</td>\n",
              "      <td>730.000000</td>\n",
              "      <td>730.000000</td>\n",
              "      <td>730.000000</td>\n",
              "      <td>730.000000</td>\n",
              "      <td>730.000000</td>\n",
              "      <td>730.000000</td>\n",
              "      <td>730.000000</td>\n",
              "    </tr>\n",
              "    <tr>\n",
              "      <th>mean</th>\n",
              "      <td>2.498630</td>\n",
              "      <td>0.500000</td>\n",
              "      <td>6.526027</td>\n",
              "      <td>0.028767</td>\n",
              "      <td>2.997260</td>\n",
              "      <td>0.683562</td>\n",
              "      <td>1.394521</td>\n",
              "      <td>20.319259</td>\n",
              "      <td>23.726322</td>\n",
              "      <td>62.765175</td>\n",
              "      <td>12.763620</td>\n",
              "      <td>4508.006849</td>\n",
              "    </tr>\n",
              "    <tr>\n",
              "      <th>std</th>\n",
              "      <td>1.110184</td>\n",
              "      <td>0.500343</td>\n",
              "      <td>3.450215</td>\n",
              "      <td>0.167266</td>\n",
              "      <td>2.006161</td>\n",
              "      <td>0.465405</td>\n",
              "      <td>0.544807</td>\n",
              "      <td>7.506729</td>\n",
              "      <td>8.150308</td>\n",
              "      <td>14.237589</td>\n",
              "      <td>5.195841</td>\n",
              "      <td>1936.011647</td>\n",
              "    </tr>\n",
              "    <tr>\n",
              "      <th>min</th>\n",
              "      <td>1.000000</td>\n",
              "      <td>0.000000</td>\n",
              "      <td>1.000000</td>\n",
              "      <td>0.000000</td>\n",
              "      <td>0.000000</td>\n",
              "      <td>0.000000</td>\n",
              "      <td>1.000000</td>\n",
              "      <td>2.424346</td>\n",
              "      <td>3.953480</td>\n",
              "      <td>0.000000</td>\n",
              "      <td>1.500244</td>\n",
              "      <td>22.000000</td>\n",
              "    </tr>\n",
              "    <tr>\n",
              "      <th>25%</th>\n",
              "      <td>2.000000</td>\n",
              "      <td>0.000000</td>\n",
              "      <td>4.000000</td>\n",
              "      <td>0.000000</td>\n",
              "      <td>1.000000</td>\n",
              "      <td>0.000000</td>\n",
              "      <td>1.000000</td>\n",
              "      <td>13.811885</td>\n",
              "      <td>16.889713</td>\n",
              "      <td>52.000000</td>\n",
              "      <td>9.041650</td>\n",
              "      <td>3169.750000</td>\n",
              "    </tr>\n",
              "    <tr>\n",
              "      <th>50%</th>\n",
              "      <td>3.000000</td>\n",
              "      <td>0.500000</td>\n",
              "      <td>7.000000</td>\n",
              "      <td>0.000000</td>\n",
              "      <td>3.000000</td>\n",
              "      <td>1.000000</td>\n",
              "      <td>1.000000</td>\n",
              "      <td>20.465826</td>\n",
              "      <td>24.368225</td>\n",
              "      <td>62.625000</td>\n",
              "      <td>12.125325</td>\n",
              "      <td>4548.500000</td>\n",
              "    </tr>\n",
              "    <tr>\n",
              "      <th>75%</th>\n",
              "      <td>3.000000</td>\n",
              "      <td>1.000000</td>\n",
              "      <td>10.000000</td>\n",
              "      <td>0.000000</td>\n",
              "      <td>5.000000</td>\n",
              "      <td>1.000000</td>\n",
              "      <td>2.000000</td>\n",
              "      <td>26.880615</td>\n",
              "      <td>30.445775</td>\n",
              "      <td>72.989575</td>\n",
              "      <td>15.625589</td>\n",
              "      <td>5966.000000</td>\n",
              "    </tr>\n",
              "    <tr>\n",
              "      <th>max</th>\n",
              "      <td>4.000000</td>\n",
              "      <td>1.000000</td>\n",
              "      <td>12.000000</td>\n",
              "      <td>1.000000</td>\n",
              "      <td>6.000000</td>\n",
              "      <td>1.000000</td>\n",
              "      <td>3.000000</td>\n",
              "      <td>35.328347</td>\n",
              "      <td>42.044800</td>\n",
              "      <td>97.250000</td>\n",
              "      <td>34.000021</td>\n",
              "      <td>8714.000000</td>\n",
              "    </tr>\n",
              "  </tbody>\n",
              "</table>\n",
              "</div>\n",
              "      <button class=\"colab-df-convert\" onclick=\"convertToInteractive('df-82746c42-2897-4c1a-b043-9d42e7b7182e')\"\n",
              "              title=\"Convert this dataframe to an interactive table.\"\n",
              "              style=\"display:none;\">\n",
              "        \n",
              "  <svg xmlns=\"http://www.w3.org/2000/svg\" height=\"24px\"viewBox=\"0 0 24 24\"\n",
              "       width=\"24px\">\n",
              "    <path d=\"M0 0h24v24H0V0z\" fill=\"none\"/>\n",
              "    <path d=\"M18.56 5.44l.94 2.06.94-2.06 2.06-.94-2.06-.94-.94-2.06-.94 2.06-2.06.94zm-11 1L8.5 8.5l.94-2.06 2.06-.94-2.06-.94L8.5 2.5l-.94 2.06-2.06.94zm10 10l.94 2.06.94-2.06 2.06-.94-2.06-.94-.94-2.06-.94 2.06-2.06.94z\"/><path d=\"M17.41 7.96l-1.37-1.37c-.4-.4-.92-.59-1.43-.59-.52 0-1.04.2-1.43.59L10.3 9.45l-7.72 7.72c-.78.78-.78 2.05 0 2.83L4 21.41c.39.39.9.59 1.41.59.51 0 1.02-.2 1.41-.59l7.78-7.78 2.81-2.81c.8-.78.8-2.07 0-2.86zM5.41 20L4 18.59l7.72-7.72 1.47 1.35L5.41 20z\"/>\n",
              "  </svg>\n",
              "      </button>\n",
              "      \n",
              "  <style>\n",
              "    .colab-df-container {\n",
              "      display:flex;\n",
              "      flex-wrap:wrap;\n",
              "      gap: 12px;\n",
              "    }\n",
              "\n",
              "    .colab-df-convert {\n",
              "      background-color: #E8F0FE;\n",
              "      border: none;\n",
              "      border-radius: 50%;\n",
              "      cursor: pointer;\n",
              "      display: none;\n",
              "      fill: #1967D2;\n",
              "      height: 32px;\n",
              "      padding: 0 0 0 0;\n",
              "      width: 32px;\n",
              "    }\n",
              "\n",
              "    .colab-df-convert:hover {\n",
              "      background-color: #E2EBFA;\n",
              "      box-shadow: 0px 1px 2px rgba(60, 64, 67, 0.3), 0px 1px 3px 1px rgba(60, 64, 67, 0.15);\n",
              "      fill: #174EA6;\n",
              "    }\n",
              "\n",
              "    [theme=dark] .colab-df-convert {\n",
              "      background-color: #3B4455;\n",
              "      fill: #D2E3FC;\n",
              "    }\n",
              "\n",
              "    [theme=dark] .colab-df-convert:hover {\n",
              "      background-color: #434B5C;\n",
              "      box-shadow: 0px 1px 3px 1px rgba(0, 0, 0, 0.15);\n",
              "      filter: drop-shadow(0px 1px 2px rgba(0, 0, 0, 0.3));\n",
              "      fill: #FFFFFF;\n",
              "    }\n",
              "  </style>\n",
              "\n",
              "      <script>\n",
              "        const buttonEl =\n",
              "          document.querySelector('#df-82746c42-2897-4c1a-b043-9d42e7b7182e button.colab-df-convert');\n",
              "        buttonEl.style.display =\n",
              "          google.colab.kernel.accessAllowed ? 'block' : 'none';\n",
              "\n",
              "        async function convertToInteractive(key) {\n",
              "          const element = document.querySelector('#df-82746c42-2897-4c1a-b043-9d42e7b7182e');\n",
              "          const dataTable =\n",
              "            await google.colab.kernel.invokeFunction('convertToInteractive',\n",
              "                                                     [key], {});\n",
              "          if (!dataTable) return;\n",
              "\n",
              "          const docLinkHtml = 'Like what you see? Visit the ' +\n",
              "            '<a target=\"_blank\" href=https://colab.research.google.com/notebooks/data_table.ipynb>data table notebook</a>'\n",
              "            + ' to learn more about interactive tables.';\n",
              "          element.innerHTML = '';\n",
              "          dataTable['output_type'] = 'display_data';\n",
              "          await google.colab.output.renderOutput(dataTable, element);\n",
              "          const docLink = document.createElement('div');\n",
              "          docLink.innerHTML = docLinkHtml;\n",
              "          element.appendChild(docLink);\n",
              "        }\n",
              "      </script>\n",
              "    </div>\n",
              "  </div>\n",
              "  "
            ]
          },
          "metadata": {},
          "execution_count": 632
        }
      ]
    },
    {
      "cell_type": "markdown",
      "source": [
        "## Step 4: Splitting the Data into Training and Testing Sets"
      ],
      "metadata": {
        "id": "WwWgD9z3IliQ"
      }
    },
    {
      "cell_type": "code",
      "source": [
        "np.random.seed(1)\n",
        "bike_train_df, bike_test_df = train_test_split(bike_df,train_size=0.7, test_size=0.3, random_state=100)\n"
      ],
      "metadata": {
        "id": "qUVyK357Ijz-"
      },
      "execution_count": 633,
      "outputs": []
    },
    {
      "cell_type": "markdown",
      "source": [
        "### Data Pre-Processing\n",
        "\n",
        "1) Let's scale the continuous numerical variables using MinMaxScalar - scaling helps to converge the faster and also will not lead to mis-interpretations due to high magnitudes.\n",
        "\n",
        "2) Use one-hot encode for categorical features.\n",
        "\n",
        "We are using here ColumnTransformer pipeline to do this."
      ],
      "metadata": {
        "id": "AfqpZPBCJMkR"
      }
    },
    {
      "cell_type": "code",
      "source": [
        "preprocess_pipeline = ColumnTransformer([\n",
        "                              (\"numerical\",MinMaxScaler(),['temp','atemp','hum','windspeed','cnt']),\n",
        "                              (\"categorical\",OneHotEncoder(drop='first'),['season','mnth','weathersit','weekday'])\n",
        "],remainder='passthrough')\n",
        "bike_train_ndarray = preprocess_pipeline.fit_transform(bike_train_df)"
      ],
      "metadata": {
        "id": "bntCv3f8iL6I"
      },
      "execution_count": 634,
      "outputs": []
    },
    {
      "cell_type": "code",
      "source": [
        "bike_train_df = pd.DataFrame(bike_train_ndarray,columns=preprocess_pipeline.get_feature_names_out())\n",
        "bike_train_df"
      ],
      "metadata": {
        "colab": {
          "base_uri": "https://localhost:8080/",
          "height": 488
        },
        "id": "FOCfGr4yi35f",
        "outputId": "024b9ff1-f35a-48f8-bef2-2394a046da5b"
      },
      "execution_count": 635,
      "outputs": [
        {
          "output_type": "execute_result",
          "data": {
            "text/plain": [
              "     numerical__temp  numerical__atemp  numerical__hum  numerical__windspeed  \\\n",
              "0           0.509887          0.501133        0.575354              0.300794   \n",
              "1           0.815169          0.766351        0.725633              0.264686   \n",
              "2           0.442393          0.438975        0.640189              0.255342   \n",
              "3           0.245101          0.200348        0.498067              0.663106   \n",
              "4           0.395666          0.391735        0.504508              0.188475   \n",
              "..               ...               ...             ...                   ...   \n",
              "505         0.824514          0.762183        0.605840              0.355596   \n",
              "506         0.863973          0.824359        0.679690              0.187140   \n",
              "507         0.202618          0.218747        0.435939              0.111379   \n",
              "508         0.248216          0.223544        0.577930              0.431816   \n",
              "509         0.462664          0.434043        0.759870              0.529881   \n",
              "\n",
              "     numerical__cnt  categorical__season_2  categorical__season_3  \\\n",
              "0          0.864243                    0.0                    0.0   \n",
              "1          0.827658                    0.0                    1.0   \n",
              "2          0.465255                    0.0                    0.0   \n",
              "3          0.204096                    0.0                    0.0   \n",
              "4          0.482973                    1.0                    0.0   \n",
              "..              ...                    ...                    ...   \n",
              "505        0.764151                    1.0                    0.0   \n",
              "506        0.832835                    0.0                    1.0   \n",
              "507        0.218017                    0.0                    0.0   \n",
              "508        0.312586                    0.0                    0.0   \n",
              "509        0.236424                    1.0                    0.0   \n",
              "\n",
              "     categorical__season_4  categorical__mnth_2  categorical__mnth_3  \\\n",
              "0                      1.0                  0.0                  0.0   \n",
              "1                      0.0                  0.0                  0.0   \n",
              "2                      0.0                  0.0                  1.0   \n",
              "3                      0.0                  0.0                  0.0   \n",
              "4                      0.0                  0.0                  0.0   \n",
              "..                     ...                  ...                  ...   \n",
              "505                    0.0                  0.0                  0.0   \n",
              "506                    0.0                  0.0                  0.0   \n",
              "507                    0.0                  1.0                  0.0   \n",
              "508                    1.0                  0.0                  0.0   \n",
              "509                    0.0                  0.0                  1.0   \n",
              "\n",
              "     categorical__mnth_4  categorical__mnth_5  categorical__mnth_6  \\\n",
              "0                    0.0                  0.0                  0.0   \n",
              "1                    0.0                  0.0                  0.0   \n",
              "2                    0.0                  0.0                  0.0   \n",
              "3                    0.0                  0.0                  0.0   \n",
              "4                    1.0                  0.0                  0.0   \n",
              "..                   ...                  ...                  ...   \n",
              "505                  0.0                  0.0                  1.0   \n",
              "506                  0.0                  0.0                  0.0   \n",
              "507                  0.0                  0.0                  0.0   \n",
              "508                  0.0                  0.0                  0.0   \n",
              "509                  0.0                  0.0                  0.0   \n",
              "\n",
              "     categorical__mnth_7  categorical__mnth_8  categorical__mnth_9  \\\n",
              "0                    0.0                  0.0                  0.0   \n",
              "1                    1.0                  0.0                  0.0   \n",
              "2                    0.0                  0.0                  0.0   \n",
              "3                    0.0                  0.0                  0.0   \n",
              "4                    0.0                  0.0                  0.0   \n",
              "..                   ...                  ...                  ...   \n",
              "505                  0.0                  0.0                  0.0   \n",
              "506                  0.0                  1.0                  0.0   \n",
              "507                  0.0                  0.0                  0.0   \n",
              "508                  0.0                  0.0                  0.0   \n",
              "509                  0.0                  0.0                  0.0   \n",
              "\n",
              "     categorical__mnth_10  categorical__mnth_11  categorical__mnth_12  \\\n",
              "0                     1.0                   0.0                   0.0   \n",
              "1                     0.0                   0.0                   0.0   \n",
              "2                     0.0                   0.0                   0.0   \n",
              "3                     0.0                   0.0                   1.0   \n",
              "4                     0.0                   0.0                   0.0   \n",
              "..                    ...                   ...                   ...   \n",
              "505                   0.0                   0.0                   0.0   \n",
              "506                   0.0                   0.0                   0.0   \n",
              "507                   0.0                   0.0                   0.0   \n",
              "508                   0.0                   0.0                   1.0   \n",
              "509                   0.0                   0.0                   0.0   \n",
              "\n",
              "     categorical__weathersit_2  categorical__weathersit_3  \\\n",
              "0                          0.0                        0.0   \n",
              "1                          0.0                        0.0   \n",
              "2                          1.0                        0.0   \n",
              "3                          0.0                        0.0   \n",
              "4                          1.0                        0.0   \n",
              "..                         ...                        ...   \n",
              "505                        1.0                        0.0   \n",
              "506                        0.0                        0.0   \n",
              "507                        0.0                        0.0   \n",
              "508                        1.0                        0.0   \n",
              "509                        1.0                        0.0   \n",
              "\n",
              "     categorical__weekday_1  categorical__weekday_2  categorical__weekday_3  \\\n",
              "0                       0.0                     1.0                     0.0   \n",
              "1                       0.0                     1.0                     0.0   \n",
              "2                       0.0                     0.0                     0.0   \n",
              "3                       0.0                     0.0                     0.0   \n",
              "4                       0.0                     0.0                     0.0   \n",
              "..                      ...                     ...                     ...   \n",
              "505                     1.0                     0.0                     0.0   \n",
              "506                     0.0                     0.0                     0.0   \n",
              "507                     0.0                     0.0                     1.0   \n",
              "508                     0.0                     0.0                     0.0   \n",
              "509                     1.0                     0.0                     0.0   \n",
              "\n",
              "     categorical__weekday_4  categorical__weekday_5  categorical__weekday_6  \\\n",
              "0                       0.0                     0.0                     0.0   \n",
              "1                       0.0                     0.0                     0.0   \n",
              "2                       0.0                     0.0                     1.0   \n",
              "3                       0.0                     0.0                     0.0   \n",
              "4                       0.0                     0.0                     1.0   \n",
              "..                      ...                     ...                     ...   \n",
              "505                     0.0                     0.0                     0.0   \n",
              "506                     1.0                     0.0                     0.0   \n",
              "507                     0.0                     0.0                     0.0   \n",
              "508                     0.0                     0.0                     1.0   \n",
              "509                     0.0                     0.0                     0.0   \n",
              "\n",
              "     remainder__yr  remainder__holiday  remainder__workingday  \n",
              "0              1.0                 0.0                    1.0  \n",
              "1              1.0                 0.0                    1.0  \n",
              "2              1.0                 0.0                    0.0  \n",
              "3              1.0                 0.0                    0.0  \n",
              "4              1.0                 0.0                    0.0  \n",
              "..             ...                 ...                    ...  \n",
              "505            1.0                 0.0                    1.0  \n",
              "506            1.0                 0.0                    1.0  \n",
              "507            0.0                 0.0                    1.0  \n",
              "508            0.0                 0.0                    0.0  \n",
              "509            0.0                 0.0                    1.0  \n",
              "\n",
              "[510 rows x 30 columns]"
            ],
            "text/html": [
              "\n",
              "  <div id=\"df-67a1b25d-1d03-426e-8dc7-3d9d2631ad2e\">\n",
              "    <div class=\"colab-df-container\">\n",
              "      <div>\n",
              "<style scoped>\n",
              "    .dataframe tbody tr th:only-of-type {\n",
              "        vertical-align: middle;\n",
              "    }\n",
              "\n",
              "    .dataframe tbody tr th {\n",
              "        vertical-align: top;\n",
              "    }\n",
              "\n",
              "    .dataframe thead th {\n",
              "        text-align: right;\n",
              "    }\n",
              "</style>\n",
              "<table border=\"1\" class=\"dataframe\">\n",
              "  <thead>\n",
              "    <tr style=\"text-align: right;\">\n",
              "      <th></th>\n",
              "      <th>numerical__temp</th>\n",
              "      <th>numerical__atemp</th>\n",
              "      <th>numerical__hum</th>\n",
              "      <th>numerical__windspeed</th>\n",
              "      <th>numerical__cnt</th>\n",
              "      <th>categorical__season_2</th>\n",
              "      <th>categorical__season_3</th>\n",
              "      <th>categorical__season_4</th>\n",
              "      <th>categorical__mnth_2</th>\n",
              "      <th>categorical__mnth_3</th>\n",
              "      <th>categorical__mnth_4</th>\n",
              "      <th>categorical__mnth_5</th>\n",
              "      <th>categorical__mnth_6</th>\n",
              "      <th>categorical__mnth_7</th>\n",
              "      <th>categorical__mnth_8</th>\n",
              "      <th>categorical__mnth_9</th>\n",
              "      <th>categorical__mnth_10</th>\n",
              "      <th>categorical__mnth_11</th>\n",
              "      <th>categorical__mnth_12</th>\n",
              "      <th>categorical__weathersit_2</th>\n",
              "      <th>categorical__weathersit_3</th>\n",
              "      <th>categorical__weekday_1</th>\n",
              "      <th>categorical__weekday_2</th>\n",
              "      <th>categorical__weekday_3</th>\n",
              "      <th>categorical__weekday_4</th>\n",
              "      <th>categorical__weekday_5</th>\n",
              "      <th>categorical__weekday_6</th>\n",
              "      <th>remainder__yr</th>\n",
              "      <th>remainder__holiday</th>\n",
              "      <th>remainder__workingday</th>\n",
              "    </tr>\n",
              "  </thead>\n",
              "  <tbody>\n",
              "    <tr>\n",
              "      <th>0</th>\n",
              "      <td>0.509887</td>\n",
              "      <td>0.501133</td>\n",
              "      <td>0.575354</td>\n",
              "      <td>0.300794</td>\n",
              "      <td>0.864243</td>\n",
              "      <td>0.0</td>\n",
              "      <td>0.0</td>\n",
              "      <td>1.0</td>\n",
              "      <td>0.0</td>\n",
              "      <td>0.0</td>\n",
              "      <td>0.0</td>\n",
              "      <td>0.0</td>\n",
              "      <td>0.0</td>\n",
              "      <td>0.0</td>\n",
              "      <td>0.0</td>\n",
              "      <td>0.0</td>\n",
              "      <td>1.0</td>\n",
              "      <td>0.0</td>\n",
              "      <td>0.0</td>\n",
              "      <td>0.0</td>\n",
              "      <td>0.0</td>\n",
              "      <td>0.0</td>\n",
              "      <td>1.0</td>\n",
              "      <td>0.0</td>\n",
              "      <td>0.0</td>\n",
              "      <td>0.0</td>\n",
              "      <td>0.0</td>\n",
              "      <td>1.0</td>\n",
              "      <td>0.0</td>\n",
              "      <td>1.0</td>\n",
              "    </tr>\n",
              "    <tr>\n",
              "      <th>1</th>\n",
              "      <td>0.815169</td>\n",
              "      <td>0.766351</td>\n",
              "      <td>0.725633</td>\n",
              "      <td>0.264686</td>\n",
              "      <td>0.827658</td>\n",
              "      <td>0.0</td>\n",
              "      <td>1.0</td>\n",
              "      <td>0.0</td>\n",
              "      <td>0.0</td>\n",
              "      <td>0.0</td>\n",
              "      <td>0.0</td>\n",
              "      <td>0.0</td>\n",
              "      <td>0.0</td>\n",
              "      <td>1.0</td>\n",
              "      <td>0.0</td>\n",
              "      <td>0.0</td>\n",
              "      <td>0.0</td>\n",
              "      <td>0.0</td>\n",
              "      <td>0.0</td>\n",
              "      <td>0.0</td>\n",
              "      <td>0.0</td>\n",
              "      <td>0.0</td>\n",
              "      <td>1.0</td>\n",
              "      <td>0.0</td>\n",
              "      <td>0.0</td>\n",
              "      <td>0.0</td>\n",
              "      <td>0.0</td>\n",
              "      <td>1.0</td>\n",
              "      <td>0.0</td>\n",
              "      <td>1.0</td>\n",
              "    </tr>\n",
              "    <tr>\n",
              "      <th>2</th>\n",
              "      <td>0.442393</td>\n",
              "      <td>0.438975</td>\n",
              "      <td>0.640189</td>\n",
              "      <td>0.255342</td>\n",
              "      <td>0.465255</td>\n",
              "      <td>0.0</td>\n",
              "      <td>0.0</td>\n",
              "      <td>0.0</td>\n",
              "      <td>0.0</td>\n",
              "      <td>1.0</td>\n",
              "      <td>0.0</td>\n",
              "      <td>0.0</td>\n",
              "      <td>0.0</td>\n",
              "      <td>0.0</td>\n",
              "      <td>0.0</td>\n",
              "      <td>0.0</td>\n",
              "      <td>0.0</td>\n",
              "      <td>0.0</td>\n",
              "      <td>0.0</td>\n",
              "      <td>1.0</td>\n",
              "      <td>0.0</td>\n",
              "      <td>0.0</td>\n",
              "      <td>0.0</td>\n",
              "      <td>0.0</td>\n",
              "      <td>0.0</td>\n",
              "      <td>0.0</td>\n",
              "      <td>1.0</td>\n",
              "      <td>1.0</td>\n",
              "      <td>0.0</td>\n",
              "      <td>0.0</td>\n",
              "    </tr>\n",
              "    <tr>\n",
              "      <th>3</th>\n",
              "      <td>0.245101</td>\n",
              "      <td>0.200348</td>\n",
              "      <td>0.498067</td>\n",
              "      <td>0.663106</td>\n",
              "      <td>0.204096</td>\n",
              "      <td>0.0</td>\n",
              "      <td>0.0</td>\n",
              "      <td>0.0</td>\n",
              "      <td>0.0</td>\n",
              "      <td>0.0</td>\n",
              "      <td>0.0</td>\n",
              "      <td>0.0</td>\n",
              "      <td>0.0</td>\n",
              "      <td>0.0</td>\n",
              "      <td>0.0</td>\n",
              "      <td>0.0</td>\n",
              "      <td>0.0</td>\n",
              "      <td>0.0</td>\n",
              "      <td>1.0</td>\n",
              "      <td>0.0</td>\n",
              "      <td>0.0</td>\n",
              "      <td>0.0</td>\n",
              "      <td>0.0</td>\n",
              "      <td>0.0</td>\n",
              "      <td>0.0</td>\n",
              "      <td>0.0</td>\n",
              "      <td>0.0</td>\n",
              "      <td>1.0</td>\n",
              "      <td>0.0</td>\n",
              "      <td>0.0</td>\n",
              "    </tr>\n",
              "    <tr>\n",
              "      <th>4</th>\n",
              "      <td>0.395666</td>\n",
              "      <td>0.391735</td>\n",
              "      <td>0.504508</td>\n",
              "      <td>0.188475</td>\n",
              "      <td>0.482973</td>\n",
              "      <td>1.0</td>\n",
              "      <td>0.0</td>\n",
              "      <td>0.0</td>\n",
              "      <td>0.0</td>\n",
              "      <td>0.0</td>\n",
              "      <td>1.0</td>\n",
              "      <td>0.0</td>\n",
              "      <td>0.0</td>\n",
              "      <td>0.0</td>\n",
              "      <td>0.0</td>\n",
              "      <td>0.0</td>\n",
              "      <td>0.0</td>\n",
              "      <td>0.0</td>\n",
              "      <td>0.0</td>\n",
              "      <td>1.0</td>\n",
              "      <td>0.0</td>\n",
              "      <td>0.0</td>\n",
              "      <td>0.0</td>\n",
              "      <td>0.0</td>\n",
              "      <td>0.0</td>\n",
              "      <td>0.0</td>\n",
              "      <td>1.0</td>\n",
              "      <td>1.0</td>\n",
              "      <td>0.0</td>\n",
              "      <td>0.0</td>\n",
              "    </tr>\n",
              "    <tr>\n",
              "      <th>...</th>\n",
              "      <td>...</td>\n",
              "      <td>...</td>\n",
              "      <td>...</td>\n",
              "      <td>...</td>\n",
              "      <td>...</td>\n",
              "      <td>...</td>\n",
              "      <td>...</td>\n",
              "      <td>...</td>\n",
              "      <td>...</td>\n",
              "      <td>...</td>\n",
              "      <td>...</td>\n",
              "      <td>...</td>\n",
              "      <td>...</td>\n",
              "      <td>...</td>\n",
              "      <td>...</td>\n",
              "      <td>...</td>\n",
              "      <td>...</td>\n",
              "      <td>...</td>\n",
              "      <td>...</td>\n",
              "      <td>...</td>\n",
              "      <td>...</td>\n",
              "      <td>...</td>\n",
              "      <td>...</td>\n",
              "      <td>...</td>\n",
              "      <td>...</td>\n",
              "      <td>...</td>\n",
              "      <td>...</td>\n",
              "      <td>...</td>\n",
              "      <td>...</td>\n",
              "      <td>...</td>\n",
              "    </tr>\n",
              "    <tr>\n",
              "      <th>505</th>\n",
              "      <td>0.824514</td>\n",
              "      <td>0.762183</td>\n",
              "      <td>0.605840</td>\n",
              "      <td>0.355596</td>\n",
              "      <td>0.764151</td>\n",
              "      <td>1.0</td>\n",
              "      <td>0.0</td>\n",
              "      <td>0.0</td>\n",
              "      <td>0.0</td>\n",
              "      <td>0.0</td>\n",
              "      <td>0.0</td>\n",
              "      <td>0.0</td>\n",
              "      <td>1.0</td>\n",
              "      <td>0.0</td>\n",
              "      <td>0.0</td>\n",
              "      <td>0.0</td>\n",
              "      <td>0.0</td>\n",
              "      <td>0.0</td>\n",
              "      <td>0.0</td>\n",
              "      <td>1.0</td>\n",
              "      <td>0.0</td>\n",
              "      <td>1.0</td>\n",
              "      <td>0.0</td>\n",
              "      <td>0.0</td>\n",
              "      <td>0.0</td>\n",
              "      <td>0.0</td>\n",
              "      <td>0.0</td>\n",
              "      <td>1.0</td>\n",
              "      <td>0.0</td>\n",
              "      <td>1.0</td>\n",
              "    </tr>\n",
              "    <tr>\n",
              "      <th>506</th>\n",
              "      <td>0.863973</td>\n",
              "      <td>0.824359</td>\n",
              "      <td>0.679690</td>\n",
              "      <td>0.187140</td>\n",
              "      <td>0.832835</td>\n",
              "      <td>0.0</td>\n",
              "      <td>1.0</td>\n",
              "      <td>0.0</td>\n",
              "      <td>0.0</td>\n",
              "      <td>0.0</td>\n",
              "      <td>0.0</td>\n",
              "      <td>0.0</td>\n",
              "      <td>0.0</td>\n",
              "      <td>0.0</td>\n",
              "      <td>1.0</td>\n",
              "      <td>0.0</td>\n",
              "      <td>0.0</td>\n",
              "      <td>0.0</td>\n",
              "      <td>0.0</td>\n",
              "      <td>0.0</td>\n",
              "      <td>0.0</td>\n",
              "      <td>0.0</td>\n",
              "      <td>0.0</td>\n",
              "      <td>0.0</td>\n",
              "      <td>1.0</td>\n",
              "      <td>0.0</td>\n",
              "      <td>0.0</td>\n",
              "      <td>1.0</td>\n",
              "      <td>0.0</td>\n",
              "      <td>1.0</td>\n",
              "    </tr>\n",
              "    <tr>\n",
              "      <th>507</th>\n",
              "      <td>0.202618</td>\n",
              "      <td>0.218747</td>\n",
              "      <td>0.435939</td>\n",
              "      <td>0.111379</td>\n",
              "      <td>0.218017</td>\n",
              "      <td>0.0</td>\n",
              "      <td>0.0</td>\n",
              "      <td>0.0</td>\n",
              "      <td>1.0</td>\n",
              "      <td>0.0</td>\n",
              "      <td>0.0</td>\n",
              "      <td>0.0</td>\n",
              "      <td>0.0</td>\n",
              "      <td>0.0</td>\n",
              "      <td>0.0</td>\n",
              "      <td>0.0</td>\n",
              "      <td>0.0</td>\n",
              "      <td>0.0</td>\n",
              "      <td>0.0</td>\n",
              "      <td>0.0</td>\n",
              "      <td>0.0</td>\n",
              "      <td>0.0</td>\n",
              "      <td>0.0</td>\n",
              "      <td>1.0</td>\n",
              "      <td>0.0</td>\n",
              "      <td>0.0</td>\n",
              "      <td>0.0</td>\n",
              "      <td>0.0</td>\n",
              "      <td>0.0</td>\n",
              "      <td>1.0</td>\n",
              "    </tr>\n",
              "    <tr>\n",
              "      <th>508</th>\n",
              "      <td>0.248216</td>\n",
              "      <td>0.223544</td>\n",
              "      <td>0.577930</td>\n",
              "      <td>0.431816</td>\n",
              "      <td>0.312586</td>\n",
              "      <td>0.0</td>\n",
              "      <td>0.0</td>\n",
              "      <td>1.0</td>\n",
              "      <td>0.0</td>\n",
              "      <td>0.0</td>\n",
              "      <td>0.0</td>\n",
              "      <td>0.0</td>\n",
              "      <td>0.0</td>\n",
              "      <td>0.0</td>\n",
              "      <td>0.0</td>\n",
              "      <td>0.0</td>\n",
              "      <td>0.0</td>\n",
              "      <td>0.0</td>\n",
              "      <td>1.0</td>\n",
              "      <td>1.0</td>\n",
              "      <td>0.0</td>\n",
              "      <td>0.0</td>\n",
              "      <td>0.0</td>\n",
              "      <td>0.0</td>\n",
              "      <td>0.0</td>\n",
              "      <td>0.0</td>\n",
              "      <td>1.0</td>\n",
              "      <td>0.0</td>\n",
              "      <td>0.0</td>\n",
              "      <td>0.0</td>\n",
              "    </tr>\n",
              "    <tr>\n",
              "      <th>509</th>\n",
              "      <td>0.462664</td>\n",
              "      <td>0.434043</td>\n",
              "      <td>0.759870</td>\n",
              "      <td>0.529881</td>\n",
              "      <td>0.236424</td>\n",
              "      <td>1.0</td>\n",
              "      <td>0.0</td>\n",
              "      <td>0.0</td>\n",
              "      <td>0.0</td>\n",
              "      <td>1.0</td>\n",
              "      <td>0.0</td>\n",
              "      <td>0.0</td>\n",
              "      <td>0.0</td>\n",
              "      <td>0.0</td>\n",
              "      <td>0.0</td>\n",
              "      <td>0.0</td>\n",
              "      <td>0.0</td>\n",
              "      <td>0.0</td>\n",
              "      <td>0.0</td>\n",
              "      <td>1.0</td>\n",
              "      <td>0.0</td>\n",
              "      <td>1.0</td>\n",
              "      <td>0.0</td>\n",
              "      <td>0.0</td>\n",
              "      <td>0.0</td>\n",
              "      <td>0.0</td>\n",
              "      <td>0.0</td>\n",
              "      <td>0.0</td>\n",
              "      <td>0.0</td>\n",
              "      <td>1.0</td>\n",
              "    </tr>\n",
              "  </tbody>\n",
              "</table>\n",
              "<p>510 rows × 30 columns</p>\n",
              "</div>\n",
              "      <button class=\"colab-df-convert\" onclick=\"convertToInteractive('df-67a1b25d-1d03-426e-8dc7-3d9d2631ad2e')\"\n",
              "              title=\"Convert this dataframe to an interactive table.\"\n",
              "              style=\"display:none;\">\n",
              "        \n",
              "  <svg xmlns=\"http://www.w3.org/2000/svg\" height=\"24px\"viewBox=\"0 0 24 24\"\n",
              "       width=\"24px\">\n",
              "    <path d=\"M0 0h24v24H0V0z\" fill=\"none\"/>\n",
              "    <path d=\"M18.56 5.44l.94 2.06.94-2.06 2.06-.94-2.06-.94-.94-2.06-.94 2.06-2.06.94zm-11 1L8.5 8.5l.94-2.06 2.06-.94-2.06-.94L8.5 2.5l-.94 2.06-2.06.94zm10 10l.94 2.06.94-2.06 2.06-.94-2.06-.94-.94-2.06-.94 2.06-2.06.94z\"/><path d=\"M17.41 7.96l-1.37-1.37c-.4-.4-.92-.59-1.43-.59-.52 0-1.04.2-1.43.59L10.3 9.45l-7.72 7.72c-.78.78-.78 2.05 0 2.83L4 21.41c.39.39.9.59 1.41.59.51 0 1.02-.2 1.41-.59l7.78-7.78 2.81-2.81c.8-.78.8-2.07 0-2.86zM5.41 20L4 18.59l7.72-7.72 1.47 1.35L5.41 20z\"/>\n",
              "  </svg>\n",
              "      </button>\n",
              "      \n",
              "  <style>\n",
              "    .colab-df-container {\n",
              "      display:flex;\n",
              "      flex-wrap:wrap;\n",
              "      gap: 12px;\n",
              "    }\n",
              "\n",
              "    .colab-df-convert {\n",
              "      background-color: #E8F0FE;\n",
              "      border: none;\n",
              "      border-radius: 50%;\n",
              "      cursor: pointer;\n",
              "      display: none;\n",
              "      fill: #1967D2;\n",
              "      height: 32px;\n",
              "      padding: 0 0 0 0;\n",
              "      width: 32px;\n",
              "    }\n",
              "\n",
              "    .colab-df-convert:hover {\n",
              "      background-color: #E2EBFA;\n",
              "      box-shadow: 0px 1px 2px rgba(60, 64, 67, 0.3), 0px 1px 3px 1px rgba(60, 64, 67, 0.15);\n",
              "      fill: #174EA6;\n",
              "    }\n",
              "\n",
              "    [theme=dark] .colab-df-convert {\n",
              "      background-color: #3B4455;\n",
              "      fill: #D2E3FC;\n",
              "    }\n",
              "\n",
              "    [theme=dark] .colab-df-convert:hover {\n",
              "      background-color: #434B5C;\n",
              "      box-shadow: 0px 1px 3px 1px rgba(0, 0, 0, 0.15);\n",
              "      filter: drop-shadow(0px 1px 2px rgba(0, 0, 0, 0.3));\n",
              "      fill: #FFFFFF;\n",
              "    }\n",
              "  </style>\n",
              "\n",
              "      <script>\n",
              "        const buttonEl =\n",
              "          document.querySelector('#df-67a1b25d-1d03-426e-8dc7-3d9d2631ad2e button.colab-df-convert');\n",
              "        buttonEl.style.display =\n",
              "          google.colab.kernel.accessAllowed ? 'block' : 'none';\n",
              "\n",
              "        async function convertToInteractive(key) {\n",
              "          const element = document.querySelector('#df-67a1b25d-1d03-426e-8dc7-3d9d2631ad2e');\n",
              "          const dataTable =\n",
              "            await google.colab.kernel.invokeFunction('convertToInteractive',\n",
              "                                                     [key], {});\n",
              "          if (!dataTable) return;\n",
              "\n",
              "          const docLinkHtml = 'Like what you see? Visit the ' +\n",
              "            '<a target=\"_blank\" href=https://colab.research.google.com/notebooks/data_table.ipynb>data table notebook</a>'\n",
              "            + ' to learn more about interactive tables.';\n",
              "          element.innerHTML = '';\n",
              "          dataTable['output_type'] = 'display_data';\n",
              "          await google.colab.output.renderOutput(dataTable, element);\n",
              "          const docLink = document.createElement('div');\n",
              "          docLink.innerHTML = docLinkHtml;\n",
              "          element.appendChild(docLink);\n",
              "        }\n",
              "      </script>\n",
              "    </div>\n",
              "  </div>\n",
              "  "
            ]
          },
          "metadata": {},
          "execution_count": 635
        }
      ]
    },
    {
      "cell_type": "code",
      "source": [
        "bike_test_ndarray = preprocess_pipeline.transform(bike_test_df)\n",
        "bike_test_df = pd.DataFrame(bike_test_ndarray,columns=preprocess_pipeline.get_feature_names_out())\n",
        "bike_test_df"
      ],
      "metadata": {
        "colab": {
          "base_uri": "https://localhost:8080/",
          "height": 488
        },
        "id": "1iAG6Y4JnG5S",
        "outputId": "a589bf10-3760-447c-e470-815ef26d911d"
      },
      "execution_count": 636,
      "outputs": [
        {
          "output_type": "execute_result",
          "data": {
            "text/plain": [
              "     numerical__temp  numerical__atemp  numerical__hum  numerical__windspeed  \\\n",
              "0           0.831783          0.769660        0.657364              0.084219   \n",
              "1           0.901354          0.842587        0.610133              0.153728   \n",
              "2           0.511964          0.496145        0.837699              0.334206   \n",
              "3           0.881625          0.795343        0.437098              0.339570   \n",
              "4           0.817246          0.741471        0.314298              0.537414   \n",
              "..               ...               ...             ...                   ...   \n",
              "214         0.257562          0.243430        0.708888              0.287411   \n",
              "215         0.519232          0.511907        0.756118              0.283397   \n",
              "216         0.584649          0.577380        0.650923              0.069510   \n",
              "217         0.745598          0.682653        0.817947              0.052115   \n",
              "218         0.331557          0.332005        0.512107              0.203418   \n",
              "\n",
              "     numerical__cnt  categorical__season_2  categorical__season_3  \\\n",
              "0          0.692706                    0.0                    1.0   \n",
              "1          0.712034                    1.0                    0.0   \n",
              "2          0.303382                    0.0                    0.0   \n",
              "3          0.547400                    0.0                    1.0   \n",
              "4          0.569029                    1.0                    0.0   \n",
              "..              ...                    ...                    ...   \n",
              "214        0.336516                    0.0                    0.0   \n",
              "215        0.757478                    0.0                    0.0   \n",
              "216        0.495973                    1.0                    0.0   \n",
              "217        0.868615                    0.0                    0.0   \n",
              "218        0.232858                    0.0                    0.0   \n",
              "\n",
              "     categorical__season_4  categorical__mnth_2  categorical__mnth_3  \\\n",
              "0                      0.0                  0.0                  0.0   \n",
              "1                      0.0                  0.0                  0.0   \n",
              "2                      1.0                  0.0                  0.0   \n",
              "3                      0.0                  0.0                  0.0   \n",
              "4                      0.0                  0.0                  0.0   \n",
              "..                     ...                  ...                  ...   \n",
              "214                    0.0                  1.0                  0.0   \n",
              "215                    1.0                  0.0                  0.0   \n",
              "216                    0.0                  0.0                  0.0   \n",
              "217                    1.0                  0.0                  0.0   \n",
              "218                    0.0                  0.0                  1.0   \n",
              "\n",
              "     categorical__mnth_4  categorical__mnth_5  categorical__mnth_6  \\\n",
              "0                    0.0                  0.0                  0.0   \n",
              "1                    0.0                  0.0                  1.0   \n",
              "2                    0.0                  0.0                  0.0   \n",
              "3                    0.0                  0.0                  0.0   \n",
              "4                    0.0                  0.0                  1.0   \n",
              "..                   ...                  ...                  ...   \n",
              "214                  0.0                  0.0                  0.0   \n",
              "215                  0.0                  0.0                  0.0   \n",
              "216                  0.0                  1.0                  0.0   \n",
              "217                  0.0                  0.0                  0.0   \n",
              "218                  0.0                  0.0                  0.0   \n",
              "\n",
              "     categorical__mnth_7  categorical__mnth_8  categorical__mnth_9  \\\n",
              "0                    1.0                  0.0                  0.0   \n",
              "1                    0.0                  0.0                  0.0   \n",
              "2                    0.0                  0.0                  0.0   \n",
              "3                    0.0                  1.0                  0.0   \n",
              "4                    0.0                  0.0                  0.0   \n",
              "..                   ...                  ...                  ...   \n",
              "214                  0.0                  0.0                  0.0   \n",
              "215                  0.0                  0.0                  0.0   \n",
              "216                  0.0                  0.0                  0.0   \n",
              "217                  0.0                  0.0                  0.0   \n",
              "218                  0.0                  0.0                  0.0   \n",
              "\n",
              "     categorical__mnth_10  categorical__mnth_11  categorical__mnth_12  \\\n",
              "0                     0.0                   0.0                   0.0   \n",
              "1                     0.0                   0.0                   0.0   \n",
              "2                     1.0                   0.0                   0.0   \n",
              "3                     0.0                   0.0                   0.0   \n",
              "4                     0.0                   0.0                   0.0   \n",
              "..                    ...                   ...                   ...   \n",
              "214                   0.0                   0.0                   0.0   \n",
              "215                   0.0                   0.0                   1.0   \n",
              "216                   0.0                   0.0                   0.0   \n",
              "217                   1.0                   0.0                   0.0   \n",
              "218                   0.0                   0.0                   0.0   \n",
              "\n",
              "     categorical__weathersit_2  categorical__weathersit_3  \\\n",
              "0                          1.0                        0.0   \n",
              "1                          0.0                        0.0   \n",
              "2                          1.0                        0.0   \n",
              "3                          0.0                        0.0   \n",
              "4                          0.0                        0.0   \n",
              "..                         ...                        ...   \n",
              "214                        1.0                        0.0   \n",
              "215                        0.0                        0.0   \n",
              "216                        0.0                        0.0   \n",
              "217                        1.0                        0.0   \n",
              "218                        0.0                        0.0   \n",
              "\n",
              "     categorical__weekday_1  categorical__weekday_2  categorical__weekday_3  \\\n",
              "0                       1.0                     0.0                     0.0   \n",
              "1                       0.0                     0.0                     1.0   \n",
              "2                       0.0                     0.0                     0.0   \n",
              "3                       0.0                     0.0                     1.0   \n",
              "4                       0.0                     0.0                     0.0   \n",
              "..                      ...                     ...                     ...   \n",
              "214                     0.0                     0.0                     0.0   \n",
              "215                     0.0                     1.0                     0.0   \n",
              "216                     0.0                     0.0                     0.0   \n",
              "217                     0.0                     0.0                     1.0   \n",
              "218                     1.0                     0.0                     0.0   \n",
              "\n",
              "     categorical__weekday_4  categorical__weekday_5  categorical__weekday_6  \\\n",
              "0                       0.0                     0.0                     0.0   \n",
              "1                       0.0                     0.0                     0.0   \n",
              "2                       1.0                     0.0                     0.0   \n",
              "3                       0.0                     0.0                     0.0   \n",
              "4                       1.0                     0.0                     0.0   \n",
              "..                      ...                     ...                     ...   \n",
              "214                     0.0                     0.0                     0.0   \n",
              "215                     0.0                     0.0                     0.0   \n",
              "216                     0.0                     0.0                     0.0   \n",
              "217                     0.0                     0.0                     0.0   \n",
              "218                     0.0                     0.0                     0.0   \n",
              "\n",
              "     remainder__yr  remainder__holiday  remainder__workingday  \n",
              "0              0.0                 1.0                    0.0  \n",
              "1              1.0                 0.0                    1.0  \n",
              "2              0.0                 0.0                    1.0  \n",
              "3              0.0                 0.0                    1.0  \n",
              "4              0.0                 0.0                    1.0  \n",
              "..             ...                 ...                    ...  \n",
              "214            1.0                 0.0                    0.0  \n",
              "215            1.0                 0.0                    1.0  \n",
              "216            0.0                 0.0                    0.0  \n",
              "217            1.0                 0.0                    1.0  \n",
              "218            0.0                 0.0                    1.0  \n",
              "\n",
              "[219 rows x 30 columns]"
            ],
            "text/html": [
              "\n",
              "  <div id=\"df-064150ca-5088-40a0-bec3-8cdcbf614cb6\">\n",
              "    <div class=\"colab-df-container\">\n",
              "      <div>\n",
              "<style scoped>\n",
              "    .dataframe tbody tr th:only-of-type {\n",
              "        vertical-align: middle;\n",
              "    }\n",
              "\n",
              "    .dataframe tbody tr th {\n",
              "        vertical-align: top;\n",
              "    }\n",
              "\n",
              "    .dataframe thead th {\n",
              "        text-align: right;\n",
              "    }\n",
              "</style>\n",
              "<table border=\"1\" class=\"dataframe\">\n",
              "  <thead>\n",
              "    <tr style=\"text-align: right;\">\n",
              "      <th></th>\n",
              "      <th>numerical__temp</th>\n",
              "      <th>numerical__atemp</th>\n",
              "      <th>numerical__hum</th>\n",
              "      <th>numerical__windspeed</th>\n",
              "      <th>numerical__cnt</th>\n",
              "      <th>categorical__season_2</th>\n",
              "      <th>categorical__season_3</th>\n",
              "      <th>categorical__season_4</th>\n",
              "      <th>categorical__mnth_2</th>\n",
              "      <th>categorical__mnth_3</th>\n",
              "      <th>categorical__mnth_4</th>\n",
              "      <th>categorical__mnth_5</th>\n",
              "      <th>categorical__mnth_6</th>\n",
              "      <th>categorical__mnth_7</th>\n",
              "      <th>categorical__mnth_8</th>\n",
              "      <th>categorical__mnth_9</th>\n",
              "      <th>categorical__mnth_10</th>\n",
              "      <th>categorical__mnth_11</th>\n",
              "      <th>categorical__mnth_12</th>\n",
              "      <th>categorical__weathersit_2</th>\n",
              "      <th>categorical__weathersit_3</th>\n",
              "      <th>categorical__weekday_1</th>\n",
              "      <th>categorical__weekday_2</th>\n",
              "      <th>categorical__weekday_3</th>\n",
              "      <th>categorical__weekday_4</th>\n",
              "      <th>categorical__weekday_5</th>\n",
              "      <th>categorical__weekday_6</th>\n",
              "      <th>remainder__yr</th>\n",
              "      <th>remainder__holiday</th>\n",
              "      <th>remainder__workingday</th>\n",
              "    </tr>\n",
              "  </thead>\n",
              "  <tbody>\n",
              "    <tr>\n",
              "      <th>0</th>\n",
              "      <td>0.831783</td>\n",
              "      <td>0.769660</td>\n",
              "      <td>0.657364</td>\n",
              "      <td>0.084219</td>\n",
              "      <td>0.692706</td>\n",
              "      <td>0.0</td>\n",
              "      <td>1.0</td>\n",
              "      <td>0.0</td>\n",
              "      <td>0.0</td>\n",
              "      <td>0.0</td>\n",
              "      <td>0.0</td>\n",
              "      <td>0.0</td>\n",
              "      <td>0.0</td>\n",
              "      <td>1.0</td>\n",
              "      <td>0.0</td>\n",
              "      <td>0.0</td>\n",
              "      <td>0.0</td>\n",
              "      <td>0.0</td>\n",
              "      <td>0.0</td>\n",
              "      <td>1.0</td>\n",
              "      <td>0.0</td>\n",
              "      <td>1.0</td>\n",
              "      <td>0.0</td>\n",
              "      <td>0.0</td>\n",
              "      <td>0.0</td>\n",
              "      <td>0.0</td>\n",
              "      <td>0.0</td>\n",
              "      <td>0.0</td>\n",
              "      <td>1.0</td>\n",
              "      <td>0.0</td>\n",
              "    </tr>\n",
              "    <tr>\n",
              "      <th>1</th>\n",
              "      <td>0.901354</td>\n",
              "      <td>0.842587</td>\n",
              "      <td>0.610133</td>\n",
              "      <td>0.153728</td>\n",
              "      <td>0.712034</td>\n",
              "      <td>1.0</td>\n",
              "      <td>0.0</td>\n",
              "      <td>0.0</td>\n",
              "      <td>0.0</td>\n",
              "      <td>0.0</td>\n",
              "      <td>0.0</td>\n",
              "      <td>0.0</td>\n",
              "      <td>1.0</td>\n",
              "      <td>0.0</td>\n",
              "      <td>0.0</td>\n",
              "      <td>0.0</td>\n",
              "      <td>0.0</td>\n",
              "      <td>0.0</td>\n",
              "      <td>0.0</td>\n",
              "      <td>0.0</td>\n",
              "      <td>0.0</td>\n",
              "      <td>0.0</td>\n",
              "      <td>0.0</td>\n",
              "      <td>1.0</td>\n",
              "      <td>0.0</td>\n",
              "      <td>0.0</td>\n",
              "      <td>0.0</td>\n",
              "      <td>1.0</td>\n",
              "      <td>0.0</td>\n",
              "      <td>1.0</td>\n",
              "    </tr>\n",
              "    <tr>\n",
              "      <th>2</th>\n",
              "      <td>0.511964</td>\n",
              "      <td>0.496145</td>\n",
              "      <td>0.837699</td>\n",
              "      <td>0.334206</td>\n",
              "      <td>0.303382</td>\n",
              "      <td>0.0</td>\n",
              "      <td>0.0</td>\n",
              "      <td>1.0</td>\n",
              "      <td>0.0</td>\n",
              "      <td>0.0</td>\n",
              "      <td>0.0</td>\n",
              "      <td>0.0</td>\n",
              "      <td>0.0</td>\n",
              "      <td>0.0</td>\n",
              "      <td>0.0</td>\n",
              "      <td>0.0</td>\n",
              "      <td>1.0</td>\n",
              "      <td>0.0</td>\n",
              "      <td>0.0</td>\n",
              "      <td>1.0</td>\n",
              "      <td>0.0</td>\n",
              "      <td>0.0</td>\n",
              "      <td>0.0</td>\n",
              "      <td>0.0</td>\n",
              "      <td>1.0</td>\n",
              "      <td>0.0</td>\n",
              "      <td>0.0</td>\n",
              "      <td>0.0</td>\n",
              "      <td>0.0</td>\n",
              "      <td>1.0</td>\n",
              "    </tr>\n",
              "    <tr>\n",
              "      <th>3</th>\n",
              "      <td>0.881625</td>\n",
              "      <td>0.795343</td>\n",
              "      <td>0.437098</td>\n",
              "      <td>0.339570</td>\n",
              "      <td>0.547400</td>\n",
              "      <td>0.0</td>\n",
              "      <td>1.0</td>\n",
              "      <td>0.0</td>\n",
              "      <td>0.0</td>\n",
              "      <td>0.0</td>\n",
              "      <td>0.0</td>\n",
              "      <td>0.0</td>\n",
              "      <td>0.0</td>\n",
              "      <td>0.0</td>\n",
              "      <td>1.0</td>\n",
              "      <td>0.0</td>\n",
              "      <td>0.0</td>\n",
              "      <td>0.0</td>\n",
              "      <td>0.0</td>\n",
              "      <td>0.0</td>\n",
              "      <td>0.0</td>\n",
              "      <td>0.0</td>\n",
              "      <td>0.0</td>\n",
              "      <td>1.0</td>\n",
              "      <td>0.0</td>\n",
              "      <td>0.0</td>\n",
              "      <td>0.0</td>\n",
              "      <td>0.0</td>\n",
              "      <td>0.0</td>\n",
              "      <td>1.0</td>\n",
              "    </tr>\n",
              "    <tr>\n",
              "      <th>4</th>\n",
              "      <td>0.817246</td>\n",
              "      <td>0.741471</td>\n",
              "      <td>0.314298</td>\n",
              "      <td>0.537414</td>\n",
              "      <td>0.569029</td>\n",
              "      <td>1.0</td>\n",
              "      <td>0.0</td>\n",
              "      <td>0.0</td>\n",
              "      <td>0.0</td>\n",
              "      <td>0.0</td>\n",
              "      <td>0.0</td>\n",
              "      <td>0.0</td>\n",
              "      <td>1.0</td>\n",
              "      <td>0.0</td>\n",
              "      <td>0.0</td>\n",
              "      <td>0.0</td>\n",
              "      <td>0.0</td>\n",
              "      <td>0.0</td>\n",
              "      <td>0.0</td>\n",
              "      <td>0.0</td>\n",
              "      <td>0.0</td>\n",
              "      <td>0.0</td>\n",
              "      <td>0.0</td>\n",
              "      <td>0.0</td>\n",
              "      <td>1.0</td>\n",
              "      <td>0.0</td>\n",
              "      <td>0.0</td>\n",
              "      <td>0.0</td>\n",
              "      <td>0.0</td>\n",
              "      <td>1.0</td>\n",
              "    </tr>\n",
              "    <tr>\n",
              "      <th>...</th>\n",
              "      <td>...</td>\n",
              "      <td>...</td>\n",
              "      <td>...</td>\n",
              "      <td>...</td>\n",
              "      <td>...</td>\n",
              "      <td>...</td>\n",
              "      <td>...</td>\n",
              "      <td>...</td>\n",
              "      <td>...</td>\n",
              "      <td>...</td>\n",
              "      <td>...</td>\n",
              "      <td>...</td>\n",
              "      <td>...</td>\n",
              "      <td>...</td>\n",
              "      <td>...</td>\n",
              "      <td>...</td>\n",
              "      <td>...</td>\n",
              "      <td>...</td>\n",
              "      <td>...</td>\n",
              "      <td>...</td>\n",
              "      <td>...</td>\n",
              "      <td>...</td>\n",
              "      <td>...</td>\n",
              "      <td>...</td>\n",
              "      <td>...</td>\n",
              "      <td>...</td>\n",
              "      <td>...</td>\n",
              "      <td>...</td>\n",
              "      <td>...</td>\n",
              "      <td>...</td>\n",
              "    </tr>\n",
              "    <tr>\n",
              "      <th>214</th>\n",
              "      <td>0.257562</td>\n",
              "      <td>0.243430</td>\n",
              "      <td>0.708888</td>\n",
              "      <td>0.287411</td>\n",
              "      <td>0.336516</td>\n",
              "      <td>0.0</td>\n",
              "      <td>0.0</td>\n",
              "      <td>0.0</td>\n",
              "      <td>1.0</td>\n",
              "      <td>0.0</td>\n",
              "      <td>0.0</td>\n",
              "      <td>0.0</td>\n",
              "      <td>0.0</td>\n",
              "      <td>0.0</td>\n",
              "      <td>0.0</td>\n",
              "      <td>0.0</td>\n",
              "      <td>0.0</td>\n",
              "      <td>0.0</td>\n",
              "      <td>0.0</td>\n",
              "      <td>1.0</td>\n",
              "      <td>0.0</td>\n",
              "      <td>0.0</td>\n",
              "      <td>0.0</td>\n",
              "      <td>0.0</td>\n",
              "      <td>0.0</td>\n",
              "      <td>0.0</td>\n",
              "      <td>0.0</td>\n",
              "      <td>1.0</td>\n",
              "      <td>0.0</td>\n",
              "      <td>0.0</td>\n",
              "    </tr>\n",
              "    <tr>\n",
              "      <th>215</th>\n",
              "      <td>0.519232</td>\n",
              "      <td>0.511907</td>\n",
              "      <td>0.756118</td>\n",
              "      <td>0.283397</td>\n",
              "      <td>0.757478</td>\n",
              "      <td>0.0</td>\n",
              "      <td>0.0</td>\n",
              "      <td>1.0</td>\n",
              "      <td>0.0</td>\n",
              "      <td>0.0</td>\n",
              "      <td>0.0</td>\n",
              "      <td>0.0</td>\n",
              "      <td>0.0</td>\n",
              "      <td>0.0</td>\n",
              "      <td>0.0</td>\n",
              "      <td>0.0</td>\n",
              "      <td>0.0</td>\n",
              "      <td>0.0</td>\n",
              "      <td>1.0</td>\n",
              "      <td>0.0</td>\n",
              "      <td>0.0</td>\n",
              "      <td>0.0</td>\n",
              "      <td>1.0</td>\n",
              "      <td>0.0</td>\n",
              "      <td>0.0</td>\n",
              "      <td>0.0</td>\n",
              "      <td>0.0</td>\n",
              "      <td>1.0</td>\n",
              "      <td>0.0</td>\n",
              "      <td>1.0</td>\n",
              "    </tr>\n",
              "    <tr>\n",
              "      <th>216</th>\n",
              "      <td>0.584649</td>\n",
              "      <td>0.577380</td>\n",
              "      <td>0.650923</td>\n",
              "      <td>0.069510</td>\n",
              "      <td>0.495973</td>\n",
              "      <td>1.0</td>\n",
              "      <td>0.0</td>\n",
              "      <td>0.0</td>\n",
              "      <td>0.0</td>\n",
              "      <td>0.0</td>\n",
              "      <td>0.0</td>\n",
              "      <td>1.0</td>\n",
              "      <td>0.0</td>\n",
              "      <td>0.0</td>\n",
              "      <td>0.0</td>\n",
              "      <td>0.0</td>\n",
              "      <td>0.0</td>\n",
              "      <td>0.0</td>\n",
              "      <td>0.0</td>\n",
              "      <td>0.0</td>\n",
              "      <td>0.0</td>\n",
              "      <td>0.0</td>\n",
              "      <td>0.0</td>\n",
              "      <td>0.0</td>\n",
              "      <td>0.0</td>\n",
              "      <td>0.0</td>\n",
              "      <td>0.0</td>\n",
              "      <td>0.0</td>\n",
              "      <td>0.0</td>\n",
              "      <td>0.0</td>\n",
              "    </tr>\n",
              "    <tr>\n",
              "      <th>217</th>\n",
              "      <td>0.745598</td>\n",
              "      <td>0.682653</td>\n",
              "      <td>0.817947</td>\n",
              "      <td>0.052115</td>\n",
              "      <td>0.868615</td>\n",
              "      <td>0.0</td>\n",
              "      <td>0.0</td>\n",
              "      <td>1.0</td>\n",
              "      <td>0.0</td>\n",
              "      <td>0.0</td>\n",
              "      <td>0.0</td>\n",
              "      <td>0.0</td>\n",
              "      <td>0.0</td>\n",
              "      <td>0.0</td>\n",
              "      <td>0.0</td>\n",
              "      <td>0.0</td>\n",
              "      <td>1.0</td>\n",
              "      <td>0.0</td>\n",
              "      <td>0.0</td>\n",
              "      <td>1.0</td>\n",
              "      <td>0.0</td>\n",
              "      <td>0.0</td>\n",
              "      <td>0.0</td>\n",
              "      <td>1.0</td>\n",
              "      <td>0.0</td>\n",
              "      <td>0.0</td>\n",
              "      <td>0.0</td>\n",
              "      <td>1.0</td>\n",
              "      <td>0.0</td>\n",
              "      <td>1.0</td>\n",
              "    </tr>\n",
              "    <tr>\n",
              "      <th>218</th>\n",
              "      <td>0.331557</td>\n",
              "      <td>0.332005</td>\n",
              "      <td>0.512107</td>\n",
              "      <td>0.203418</td>\n",
              "      <td>0.232858</td>\n",
              "      <td>0.0</td>\n",
              "      <td>0.0</td>\n",
              "      <td>0.0</td>\n",
              "      <td>0.0</td>\n",
              "      <td>1.0</td>\n",
              "      <td>0.0</td>\n",
              "      <td>0.0</td>\n",
              "      <td>0.0</td>\n",
              "      <td>0.0</td>\n",
              "      <td>0.0</td>\n",
              "      <td>0.0</td>\n",
              "      <td>0.0</td>\n",
              "      <td>0.0</td>\n",
              "      <td>0.0</td>\n",
              "      <td>0.0</td>\n",
              "      <td>0.0</td>\n",
              "      <td>1.0</td>\n",
              "      <td>0.0</td>\n",
              "      <td>0.0</td>\n",
              "      <td>0.0</td>\n",
              "      <td>0.0</td>\n",
              "      <td>0.0</td>\n",
              "      <td>0.0</td>\n",
              "      <td>0.0</td>\n",
              "      <td>1.0</td>\n",
              "    </tr>\n",
              "  </tbody>\n",
              "</table>\n",
              "<p>219 rows × 30 columns</p>\n",
              "</div>\n",
              "      <button class=\"colab-df-convert\" onclick=\"convertToInteractive('df-064150ca-5088-40a0-bec3-8cdcbf614cb6')\"\n",
              "              title=\"Convert this dataframe to an interactive table.\"\n",
              "              style=\"display:none;\">\n",
              "        \n",
              "  <svg xmlns=\"http://www.w3.org/2000/svg\" height=\"24px\"viewBox=\"0 0 24 24\"\n",
              "       width=\"24px\">\n",
              "    <path d=\"M0 0h24v24H0V0z\" fill=\"none\"/>\n",
              "    <path d=\"M18.56 5.44l.94 2.06.94-2.06 2.06-.94-2.06-.94-.94-2.06-.94 2.06-2.06.94zm-11 1L8.5 8.5l.94-2.06 2.06-.94-2.06-.94L8.5 2.5l-.94 2.06-2.06.94zm10 10l.94 2.06.94-2.06 2.06-.94-2.06-.94-.94-2.06-.94 2.06-2.06.94z\"/><path d=\"M17.41 7.96l-1.37-1.37c-.4-.4-.92-.59-1.43-.59-.52 0-1.04.2-1.43.59L10.3 9.45l-7.72 7.72c-.78.78-.78 2.05 0 2.83L4 21.41c.39.39.9.59 1.41.59.51 0 1.02-.2 1.41-.59l7.78-7.78 2.81-2.81c.8-.78.8-2.07 0-2.86zM5.41 20L4 18.59l7.72-7.72 1.47 1.35L5.41 20z\"/>\n",
              "  </svg>\n",
              "      </button>\n",
              "      \n",
              "  <style>\n",
              "    .colab-df-container {\n",
              "      display:flex;\n",
              "      flex-wrap:wrap;\n",
              "      gap: 12px;\n",
              "    }\n",
              "\n",
              "    .colab-df-convert {\n",
              "      background-color: #E8F0FE;\n",
              "      border: none;\n",
              "      border-radius: 50%;\n",
              "      cursor: pointer;\n",
              "      display: none;\n",
              "      fill: #1967D2;\n",
              "      height: 32px;\n",
              "      padding: 0 0 0 0;\n",
              "      width: 32px;\n",
              "    }\n",
              "\n",
              "    .colab-df-convert:hover {\n",
              "      background-color: #E2EBFA;\n",
              "      box-shadow: 0px 1px 2px rgba(60, 64, 67, 0.3), 0px 1px 3px 1px rgba(60, 64, 67, 0.15);\n",
              "      fill: #174EA6;\n",
              "    }\n",
              "\n",
              "    [theme=dark] .colab-df-convert {\n",
              "      background-color: #3B4455;\n",
              "      fill: #D2E3FC;\n",
              "    }\n",
              "\n",
              "    [theme=dark] .colab-df-convert:hover {\n",
              "      background-color: #434B5C;\n",
              "      box-shadow: 0px 1px 3px 1px rgba(0, 0, 0, 0.15);\n",
              "      filter: drop-shadow(0px 1px 2px rgba(0, 0, 0, 0.3));\n",
              "      fill: #FFFFFF;\n",
              "    }\n",
              "  </style>\n",
              "\n",
              "      <script>\n",
              "        const buttonEl =\n",
              "          document.querySelector('#df-064150ca-5088-40a0-bec3-8cdcbf614cb6 button.colab-df-convert');\n",
              "        buttonEl.style.display =\n",
              "          google.colab.kernel.accessAllowed ? 'block' : 'none';\n",
              "\n",
              "        async function convertToInteractive(key) {\n",
              "          const element = document.querySelector('#df-064150ca-5088-40a0-bec3-8cdcbf614cb6');\n",
              "          const dataTable =\n",
              "            await google.colab.kernel.invokeFunction('convertToInteractive',\n",
              "                                                     [key], {});\n",
              "          if (!dataTable) return;\n",
              "\n",
              "          const docLinkHtml = 'Like what you see? Visit the ' +\n",
              "            '<a target=\"_blank\" href=https://colab.research.google.com/notebooks/data_table.ipynb>data table notebook</a>'\n",
              "            + ' to learn more about interactive tables.';\n",
              "          element.innerHTML = '';\n",
              "          dataTable['output_type'] = 'display_data';\n",
              "          await google.colab.output.renderOutput(dataTable, element);\n",
              "          const docLink = document.createElement('div');\n",
              "          docLink.innerHTML = docLinkHtml;\n",
              "          element.appendChild(docLink);\n",
              "        }\n",
              "      </script>\n",
              "    </div>\n",
              "  </div>\n",
              "  "
            ]
          },
          "metadata": {},
          "execution_count": 636
        }
      ]
    },
    {
      "cell_type": "code",
      "source": [
        "bike_train_df.columns = bike_train_df.columns.str.replace('numerical__','')\n",
        "bike_train_df.columns = bike_train_df.columns.str.replace('categorical__','')\n",
        "bike_train_df.columns = bike_train_df.columns.str.replace('remainder__','')\n",
        "bike_test_df.columns = bike_test_df.columns.str.replace('numerical__','')\n",
        "bike_test_df.columns = bike_test_df.columns.str.replace('categorical__','')\n",
        "bike_test_df.columns = bike_test_df.columns.str.replace('remainder__','')\n"
      ],
      "metadata": {
        "id": "CPNJvf0CplSb"
      },
      "execution_count": 637,
      "outputs": []
    },
    {
      "cell_type": "code",
      "source": [
        "bike_test_df.columns"
      ],
      "metadata": {
        "colab": {
          "base_uri": "https://localhost:8080/"
        },
        "id": "_nY41spxru4B",
        "outputId": "7a5f4cdb-2769-40da-e3d0-383abad33583"
      },
      "execution_count": 638,
      "outputs": [
        {
          "output_type": "execute_result",
          "data": {
            "text/plain": [
              "Index(['temp', 'atemp', 'hum', 'windspeed', 'cnt', 'season_2', 'season_3',\n",
              "       'season_4', 'mnth_2', 'mnth_3', 'mnth_4', 'mnth_5', 'mnth_6', 'mnth_7',\n",
              "       'mnth_8', 'mnth_9', 'mnth_10', 'mnth_11', 'mnth_12', 'weathersit_2',\n",
              "       'weathersit_3', 'weekday_1', 'weekday_2', 'weekday_3', 'weekday_4',\n",
              "       'weekday_5', 'weekday_6', 'yr', 'holiday', 'workingday'],\n",
              "      dtype='object')"
            ]
          },
          "metadata": {},
          "execution_count": 638
        }
      ]
    },
    {
      "cell_type": "code",
      "source": [
        "px.imshow(bike_train_df.corr(),text_auto=True,width=1200,height=1200,color_continuous_scale='greens')"
      ],
      "metadata": {
        "colab": {
          "base_uri": "https://localhost:8080/",
          "height": 1000
        },
        "id": "VRuH9TMLIib8",
        "outputId": "e1944fb9-049b-4e8d-d4bd-6a7faa60ffe4"
      },
      "execution_count": 639,
      "outputs": [
        {
          "output_type": "display_data",
          "data": {
            "text/html": [
              "<html>\n",
              "<head><meta charset=\"utf-8\" /></head>\n",
              "<body>\n",
              "    <div>            <script src=\"https://cdnjs.cloudflare.com/ajax/libs/mathjax/2.7.5/MathJax.js?config=TeX-AMS-MML_SVG\"></script><script type=\"text/javascript\">if (window.MathJax) {MathJax.Hub.Config({SVG: {font: \"STIX-Web\"}});}</script>                <script type=\"text/javascript\">window.PlotlyConfig = {MathJaxConfig: 'local'};</script>\n",
              "        <script src=\"https://cdn.plot.ly/plotly-2.8.3.min.js\"></script>                <div id=\"c3592289-00a0-446f-b8e3-6f6119e1e25b\" class=\"plotly-graph-div\" style=\"height:1200px; width:1200px;\"></div>            <script type=\"text/javascript\">                                    window.PLOTLYENV=window.PLOTLYENV || {};                                    if (document.getElementById(\"c3592289-00a0-446f-b8e3-6f6119e1e25b\")) {                    Plotly.newPlot(                        \"c3592289-00a0-446f-b8e3-6f6119e1e25b\",                        [{\"coloraxis\":\"coloraxis\",\"name\":\"0\",\"texttemplate\":\"%{z}\",\"x\":[\"temp\",\"atemp\",\"hum\",\"windspeed\",\"cnt\",\"season_2\",\"season_3\",\"season_4\",\"mnth_2\",\"mnth_3\",\"mnth_4\",\"mnth_5\",\"mnth_6\",\"mnth_7\",\"mnth_8\",\"mnth_9\",\"mnth_10\",\"mnth_11\",\"mnth_12\",\"weathersit_2\",\"weathersit_3\",\"weekday_1\",\"weekday_2\",\"weekday_3\",\"weekday_4\",\"weekday_5\",\"weekday_6\",\"yr\",\"holiday\",\"workingday\"],\"y\":[\"temp\",\"atemp\",\"hum\",\"windspeed\",\"cnt\",\"season_2\",\"season_3\",\"season_4\",\"mnth_2\",\"mnth_3\",\"mnth_4\",\"mnth_5\",\"mnth_6\",\"mnth_7\",\"mnth_8\",\"mnth_9\",\"mnth_10\",\"mnth_11\",\"mnth_12\",\"weathersit_2\",\"weathersit_3\",\"weekday_1\",\"weekday_2\",\"weekday_3\",\"weekday_4\",\"weekday_5\",\"weekday_6\",\"yr\",\"holiday\",\"workingday\"],\"z\":[[1.0,0.9895370539889047,0.15541509545520527,-0.1873962343481819,0.6435170928988454,0.12558195494944724,0.6975238159540053,-0.23369673612138836,-0.29602143380632856,-0.1796936710657961,-0.05059719253938792,0.1554152924544311,0.30299705399779236,0.41392911988008546,0.3874562300680236,0.2074569010049767,-0.01870888875685955,-0.19476461732982012,-0.2728693196661504,-0.09016058212001561,-0.03609265506614434,-0.03212581316544155,0.04664607234749083,0.029363240101786228,0.002826575775268474,0.015943496922007628,-0.042274334063081925,0.10728779313678544,-0.06628215277097094,0.06778693120609249],[0.9895370539889047,1.0,0.16946136022972536,-0.21528302426036328,0.646475242861109,0.13580590860490657,0.6699790090505625,-0.21111785552100887,-0.2995091363162441,-0.17845779825046493,-0.04023795963999792,0.16192321245491662,0.2951734259728743,0.40710523343206556,0.3600251086026998,0.20615671220280787,-0.00526246367342382,-0.18569663324359567,-0.26186227514694244,-0.08606876646579628,-0.04426552575536956,-0.025143117713083127,0.049469858320906925,0.027900120692472403,0.006331940018188361,0.001590616560643089,-0.043451821926163044,0.10420588704404424,-0.07064000020872588,0.06781084589994801],[0.15541509545520527,0.16946136022972536,1.0,-0.26689462353335924,-0.059993340878855966,-0.013215541928132983,0.04037056537117832,0.17157885851065613,-0.12954416086145834,-0.1107612089394756,-0.1328975452570416,0.1456044474547218,-0.09503310880012253,-0.05383763145416017,0.053184915642864136,0.15262762194874327,0.16201353293323248,0.004909544896760736,0.05783210410587586,0.48104179601223473,0.24503808534252614,0.022612369584546474,0.010123293392276396,0.04718546214930434,-0.0382217396556464,-0.016161378590998404,-0.040521156868469715,-0.08479152408001318,-0.029093040027568937,0.03198949309645529],[-0.1873962343481819,-0.21528302426036328,-0.26689462353335924,1.0,-0.25379383357496016,0.11008875113182472,-0.19468985129780186,-0.09064904104688147,0.13312280431791165,0.14217311975674624,0.18352964118624462,-0.034137027741865854,-0.03501249189352722,-0.08547815856088019,-0.11124262194223251,-0.12173368151475895,-0.018973037185060358,0.009951504530634587,-0.060975084700870194,-0.030385223660673637,0.08689990278864747,-0.004371505226015483,-0.00584904502409877,-0.01956738374870497,-0.004353282754718532,-0.01576365208501755,0.04935588375928627,-0.0011084271876641478,0.017568573699983218,-0.04317595331828375],[0.6435170928988454,0.646475242861109,-0.059993340878855966,-0.25379383357496016,1.0,0.13434261207209924,0.3716056115282059,0.032636063509074456,-0.2702870296868935,-0.137536723461121,0.02299781036844066,0.1130268393740107,0.18782118200308298,0.1578122292471607,0.22722944259382363,0.20132665479530285,0.06569217858903863,-0.04813019820733067,-0.1435984037384074,-0.1755295983174486,-0.226598358498919,-0.009551789031445726,0.03188290378711863,0.025215555312327092,0.009709935820571091,0.024581006387352278,-0.01621492972231205,0.5915080389399792,-0.09596100850177944,0.09231969986231886],[0.12558195494944724,0.13580590860490657,-0.013215541928132983,0.11008875113182472,0.13434261207209924,1.0,-0.3401599025837415,-0.32811577843320955,-0.15228622596829336,0.08806804001737194,0.5119840423045118,0.5325386656449017,0.25493745665160694,-0.16396324003079574,-0.18576856189368987,-0.168472937674116,-0.1750886610826932,-0.17508866108269353,-0.17290216417042256,0.039441845556520076,-0.04523061724891483,0.0016227016382646085,0.021299590046513654,0.03924808848215871,-0.022349507813383733,-0.012731264898089682,-0.01716908902787285,0.013855735634263946,-0.06323239413746556,0.04327442594258332],[0.6975238159540053,0.6699790090505625,0.04037056537117832,-0.19468985129780186,0.3716056115282059,-0.3401599025837415,1.0,-0.34376444018232877,-0.15954913679387855,-0.1968178861181632,-0.17415644195473312,-0.18114830062784554,0.06812724597056043,0.4820181296660344,0.5461212814404446,0.34781103071215164,-0.1834390770440124,-0.1834390770440128,-0.1811483006278457,-0.07488703910360667,-0.024816851772796775,-0.027765572308527737,0.018411721945008407,-0.0034414781370157217,0.02795870055383061,0.039030423439851046,-0.021632639216456303,0.0441017970280155,-0.04001667548739442,0.050975888683684197],[-0.23369673612138836,-0.21111785552100887,0.17157885851065613,-0.09064904104688147,0.032636063509074456,-0.32811577843320955,-0.34376444018232877,1.0,-0.15389994182098563,-0.1898491075012627,-0.16799004258612596,-0.17473433882385944,-0.1633891722109731,-0.1657006925023776,-0.1877370765860311,-0.020174629455968734,0.5336185352583825,0.5336185352583825,0.31481618012963786,0.02312726529608128,0.11444841561681544,0.03578272597284447,-0.009185121701870793,-0.026926209337374583,-0.012449161879973103,-0.04332269189151016,0.01663547632208035,-0.022638122904164396,0.05071174719487935,-0.05729735172035876],[-0.29602143380632856,-0.2995091363162441,-0.12954416086145834,0.13312280431791165,-0.2702870296868935,-0.15228622596829336,-0.15954913679387855,-0.15389994182098563,1.0,-0.08811342210628022,-0.07796811755854519,-0.0810983035732528,-0.07583274574269695,-0.07690557650721551,-0.0871331790385898,-0.07902081219704242,-0.0821238615308647,-0.08212386153086478,-0.08109830357325297,-0.011038105846946492,-3.0991349833036224e-17,-0.0029273635913875484,0.03567997601140919,-0.008602329568208505,-0.03545669300677075,0.015714454084338577,-0.027519301248287397,-0.01991603314314633,0.05652427921405266,-0.016802570317748785],[-0.1796936710657961,-0.17845779825046493,-0.1107612089394756,0.14217311975674624,-0.137536723461121,0.08806804001737194,-0.1968178861181632,-0.1898491075012627,-0.08811342210628022,1.0,-0.09618052714575424,-0.10004188676794584,-0.09354635829146264,-0.09486978935149962,-0.10748643617725087,-0.09747911852418722,-0.10130700266493509,-0.10130700266493511,-0.10004188676794584,-0.0021786358266305487,0.020661013294505464,-0.010111248932430327,-0.011099280204663598,0.0010611729748772458,0.04526030250978878,-0.007366361013804433,0.02286987944248807,-0.005172247934809683,-0.05332115744721606,0.03067662243659725],[-0.05059719253938792,-0.04023795963999792,-0.1328975452570416,0.18352964118624462,0.02299781036844066,0.5119840423045118,-0.17415644195473312,-0.16799004258612596,-0.07796811755854519,-0.09618052714575424,1.0,-0.08852314893517124,-0.08277551008795392,-0.08394656242031175,-0.09511053925142723,-0.0862554556493099,-0.08964260046280186,-0.08964260046280198,-0.08852314893517128,-0.01114503332916416,-0.0076175507417853856,0.019571668205014763,0.016086642392656596,-0.007042428152040022,-0.028606478384531196,-0.0021441462059780944,-0.003952472843154816,0.05377645650633179,-0.0009073423978444699,-0.0009170453444739679],[0.1554152924544311,0.16192321245491662,0.1456044474547218,-0.034137027741865854,0.1130268393740107,0.5325386656449017,-0.18114830062784554,-0.17473433882385944,-0.0810983035732528,-0.10004188676794584,-0.08852314893517124,1.0,-0.08609869849048335,-0.0873167650608146,-0.09892894206963795,-0.08971835342625037,-0.0932414819425298,-0.09324148194252996,-0.09207708779443258,0.07796320610211328,-0.05282248367550957,-0.029410518287250352,0.04911195818042169,0.041906732248474694,-0.015223459041436788,0.010995538968862408,-0.05189613311027818,-0.02593344307325156,-0.049076012600165836,0.059006344744063896],[0.30299705399779236,0.2951734259728743,-0.09503310880012253,-0.03501249189352722,0.18782118200308298,0.25493745665160694,0.06812724597056043,-0.1633891722109731,-0.07583274574269695,-0.09354635829146264,-0.08277551008795392,-0.08609869849048335,1.0,-0.08164745441254095,-0.09250567496500775,-0.08389311223607601,-0.0871874907522992,-0.0871874907522993,-0.08609869849048346,-0.09498313309030776,-0.04939282078131898,0.005479648361814451,-0.04403435566209755,0.040135970459465174,-0.001464369006377374,-0.018878564764207562,0.0023469995980019164,0.01048415628458077,-0.045889600911469444,0.004694365946898612],[0.41392911988008546,0.40710523343206556,-0.05383763145416017,-0.08547815856088019,0.1578122292471607,-0.16396324003079574,0.4820181296660344,-0.1657006925023776,-0.07690557650721551,-0.09486978935149962,-0.08394656242031175,-0.0873167650608146,-0.08164745441254095,1.0,-0.09381438313616851,-0.08507997565314734,-0.08842096082441857,-0.08842096082441854,-0.08731676506081461,-0.11473100440333496,-0.006421999646421648,-0.018304848305113915,0.040985469671897666,-0.04429107016942044,-0.026046122214604634,0.022776126304522755,-0.000839700393936761,0.017623322664595143,-0.04653881616995887,-0.006030319666417602],[0.3874562300680236,0.3600251086026998,0.053184915642864136,-0.11124262194223251,0.22722944259382363,-0.18576856189368987,0.5461212814404446,-0.1877370765860311,-0.0871331790385898,-0.10748643617725087,-0.09511053925142723,-0.09892894206963795,-0.09250567496500775,-0.09381438313616851,1.0,-0.0963946840771553,-0.10017998382152862,-0.10017998382152866,-0.09892894206963798,0.016625145087725217,-0.056753233108061595,-0.02598075194150671,0.011083939065537667,0.003961898275625639,0.009134039036152975,0.035013687297023276,0.00753608177986372,0.05477434502374355,-0.0527279709189954,0.04057541505059283],[0.2074569010049767,0.20615671220280787,0.15262762194874327,-0.12173368151475895,0.20132665479530285,-0.168472937674116,0.34781103071215164,-0.020174629455968734,-0.07902081219704242,-0.09747911852418722,-0.0862554556493099,-0.08971835342625037,-0.08389311223607601,-0.08507997565314734,-0.0963946840771553,1.0,-0.09085291934496922,-0.09085291934496921,-0.08971835342625024,0.04452679284330574,0.03389443856092156,-0.0038309287412417003,-0.008246100281387348,0.02936244867490026,0.03252840827577855,-0.004876214559058223,-0.006995560236907922,0.002573808909045495,0.04369188088393216,0.019495296527094284],[-0.01870888875685955,-0.00526246367342382,0.16201353293323248,-0.018973037185060358,0.06569217858903863,-0.1750886610826932,-0.1834390770440124,0.5336185352583825,-0.0821238615308647,-0.10130700266493509,-0.08964260046280186,-0.0932414819425298,-0.0871874907522992,-0.08842096082441857,-0.10017998382152862,-0.09085291934496922,1.0,-0.09442060085836913,-0.0932414819425298,0.013267744732560356,0.15317725361398293,0.026466559372732117,0.004540037725213944,-0.018881656141537344,-0.05889283825348326,-0.012729334923746033,0.0035575939368958265,-0.01878962343047162,-0.005386696690960298,-0.04127131402065545],[-0.19476461732982012,-0.18569663324359567,0.004909544896760736,0.009951504530634587,-0.04813019820733067,-0.17508866108269353,-0.1834390770440128,0.5336185352583825,-0.08212386153086478,-0.10130700266493511,-0.08964260046280198,-0.09324148194252996,-0.0871874907522993,-0.08842096082441854,-0.10017998382152866,-0.09085291934496921,-0.09442060085836913,1.0,-0.09324148194252994,-0.01615203706572568,0.029176619735996747,0.006960858100920869,0.004540037725213961,0.00022478162073258538,0.0438272284677085,-0.05461295305994248,-0.015744245507964518,-0.018789623430471667,0.12754307648918894,-0.041271314020655384],[-0.2728693196661504,-0.26186227514694244,0.05783210410587586,-0.060975084700870194,-0.1435984037384074,-0.17290216417042256,-0.1811483006278457,0.31481618012963786,-0.08109830357325297,-0.10004188676794584,-0.08852314893517128,-0.09207708779443258,-0.08609869849048346,-0.08731676506081461,-0.09892894206963798,-0.08971835342625024,-0.0932414819425298,-0.09324148194252994,1.0,0.018507153598071768,-0.01105586867626945,0.010009624489353261,-0.05533799458027508,-0.035319766203999015,0.026295065617027144,0.01099553896886247,0.0456242349304066,-0.04004876427640879,-0.004301832947062827,-0.03149962764532731],[-0.09016058212001561,-0.08606876646579628,0.48104179601223473,-0.030385223660673637,-0.1755295983174486,0.039441845556520076,-0.07488703910360667,0.02312726529608128,-0.011038105846946492,-0.0021786358266305487,-0.01114503332916416,0.07796320610211328,-0.09498313309030776,-0.11473100440333496,0.016625145087725217,0.04452679284330574,0.013267744732560356,-0.01615203706572568,0.018507153598071768,1.0,-0.1258170942403119,0.006672541404479206,0.0001198641505570404,0.0023263588954529684,-0.052648409383959364,0.0829301777704881,0.010183985869896267,-0.015469461677931907,-0.0382793869937186,0.04076598721704241],[-0.03609265506614434,-0.04426552575536956,0.24503808534252614,0.08689990278864747,-0.226598358498919,-0.04523061724891483,-0.024816851772796775,0.11444841561681544,-3.0991349833036224e-17,0.020661013294505464,-0.0076175507417853856,-0.05282248367550957,-0.04939282078131898,-0.006421999646421648,-0.056753233108061595,0.03389443856092156,0.15317725361398293,0.029176619735996747,-0.01105586867626945,-0.1258170942403119,1.0,-0.008580176639626666,-0.033344000629082104,0.08311164556236603,0.03413943709994592,-0.06653033387231516,0.021697949063839966,-0.060763991445642235,-0.02815376698510339,0.021158725693862474],[-0.03212581316544155,-0.025143117713083127,0.022612369584546474,-0.004371505226015483,-0.009551789031445726,0.0016227016382646085,-0.027765572308527737,0.03578272597284447,-0.0029273635913875484,-0.010111248932430327,0.019571668205014763,-0.029410518287250352,0.005479648361814451,-0.018304848305113915,-0.02598075194150671,-0.0038309287412417003,0.026466559372732117,0.006960858100920869,0.010009624489353261,0.006672541404479206,-0.008580176639626666,1.0,-0.16399739615272882,-0.18323788812744943,-0.16540351559242067,-0.16116772933019266,-0.18054120009297228,0.0536342841850282,0.27927929341761304,0.17456548846157946],[0.04664607234749083,0.049469858320906925,0.010123293392276396,-0.00584904502409877,0.03188290378711863,0.021299590046513654,0.018411721945008407,-0.009185121701870793,0.03567997601140919,-0.011099280204663598,0.016086642392656596,0.04911195818042169,-0.04403435566209755,0.040985469671897666,0.011083939065537667,-0.008246100281387348,0.004540037725213944,0.004540037725213961,-0.05533799458027508,0.0001198641505570404,-0.033344000629082104,-0.16399739615272882,1.0,-0.1689854846395039,-0.15253828522637233,-0.14863196213093172,-0.16649854736313263,-0.00029594931906583196,-0.06289686801217532,0.2689477793886397],[0.029363240101786228,0.027900120692472403,0.04718546214930434,-0.01956738374870497,0.025215555312327092,0.03924808848215871,-0.0034414781370157217,-0.026926209337374583,-0.008602329568208505,0.0010611729748772458,-0.007042428152040022,0.041906732248474694,0.040135970459465174,-0.04429107016942044,0.003961898275625639,0.02936244867490026,-0.018881656141537344,0.00022478162073258538,-0.035319766203999015,0.0023263588954529684,0.08311164556236603,-0.18323788812744943,-0.1689854846395039,1.0,-0.17043437212523002,-0.16606975164256466,-0.18603247923946306,-0.0014517478529990284,-0.07027605032002304,0.30050125348238],[0.002826575775268474,0.006331940018188361,-0.0382217396556464,-0.004353282754718532,0.009709935820571091,-0.022349507813383733,0.02795870055383061,-0.012449161879973103,-0.03545669300677075,0.04526030250978878,-0.028606478384531196,-0.015223459041436788,-0.001464369006377374,-0.026046122214604634,0.009134039036152975,0.03252840827577855,-0.05889283825348326,0.0438272284677085,0.026295065617027144,-0.052648409383959364,0.03413943709994592,-0.16540351559242067,-0.15253828522637233,-0.17043437212523002,1.0,-0.14990633779917223,-0.16792611176122682,-0.006153420162580223,0.009759407379931527,0.2465943155486975],[0.015943496922007628,0.001590616560643089,-0.016161378590998404,-0.01576365208501755,0.024581006387352278,-0.012731264898089682,0.039030423439851046,-0.04332269189151016,0.015714454084338577,-0.007366361013804433,-0.0021441462059780944,0.010995538968862408,-0.018878564764207562,0.022776126304522755,0.035013687297023276,-0.004876214559058223,-0.012729334923746033,-0.05461295305994248,0.01099553896886247,0.0829301777704881,-0.06653033387231516,-0.16116772933019266,-0.14863196213093172,-0.16606975164256466,-0.14990633779917223,1.0,-0.16362572482736992,-0.011876372274466876,-0.024505200075213937,0.2517388057164506],[-0.042274334063081925,-0.043451821926163044,-0.040521156868469715,0.04935588375928627,-0.01621492972231205,-0.01716908902787285,-0.021632639216456303,0.01663547632208035,-0.027519301248287397,0.02286987944248807,-0.003952472843154816,-0.05189613311027818,0.0023469995980019164,-0.000839700393936761,0.00753608177986372,-0.006995560236907922,0.0035575939368958265,-0.015744245507964518,0.0456242349304066,0.010183985869896267,0.021697949063839966,-0.18054120009297228,-0.16649854736313263,-0.18603247923946306,-0.16792611176122682,-0.16362572482736992,1.0,-0.03381670244523175,-0.06924180687864204,-0.6190738876580796],[0.10728779313678544,0.10420588704404424,-0.08479152408001318,-0.0011084271876641478,0.5915080389399792,0.013855735634263946,0.0441017970280155,-0.022638122904164396,-0.01991603314314633,-0.005172247934809683,0.05377645650633179,-0.02593344307325156,0.01048415628458077,0.017623322664595143,0.05477434502374355,0.002573808909045495,-0.01878962343047162,-0.018789623430471667,-0.04004876427640879,-0.015469461677931907,-0.060763991445642235,0.0536342841850282,-0.00029594931906583196,-0.0014517478529990284,-0.006153420162580223,-0.011876372274466876,-0.03381670244523175,1.0,-0.014979653311168899,0.0318084646575278],[-0.06628215277097094,-0.07064000020872588,-0.029093040027568937,0.017568573699983218,-0.09596100850177944,-0.06323239413746556,-0.04001667548739442,0.05071174719487935,0.05652427921405266,-0.05332115744721606,-0.0009073423978444699,-0.049076012600165836,-0.045889600911469444,-0.04653881616995887,-0.0527279709189954,0.04369188088393216,-0.005386696690960298,0.12754307648918894,-0.004301832947062827,-0.0382793869937186,-0.02815376698510339,0.27927929341761304,-0.06289686801217532,-0.07027605032002304,0.009759407379931527,-0.024505200075213937,-0.06924180687864204,-0.014979653311168899,1.0,-0.23386275266949483],[0.06778693120609249,0.06781084589994801,0.03198949309645529,-0.04317595331828375,0.09231969986231886,0.04327442594258332,0.050975888683684197,-0.05729735172035876,-0.016802570317748785,0.03067662243659725,-0.0009170453444739679,0.059006344744063896,0.004694365946898612,-0.006030319666417602,0.04057541505059283,0.019495296527094284,-0.04127131402065545,-0.041271314020655384,-0.03149962764532731,0.04076598721704241,0.021158725693862474,0.17456548846157946,0.2689477793886397,0.30050125348238,0.2465943155486975,0.2517388057164506,-0.6190738876580796,0.0318084646575278,-0.23386275266949483,1.0]],\"type\":\"heatmap\",\"xaxis\":\"x\",\"yaxis\":\"y\",\"hovertemplate\":\"x: %{x}<br>y: %{y}<br>color: %{z}<extra></extra>\"}],                        {\"template\":{\"data\":{\"bar\":[{\"error_x\":{\"color\":\"#2a3f5f\"},\"error_y\":{\"color\":\"#2a3f5f\"},\"marker\":{\"line\":{\"color\":\"#E5ECF6\",\"width\":0.5},\"pattern\":{\"fillmode\":\"overlay\",\"size\":10,\"solidity\":0.2}},\"type\":\"bar\"}],\"barpolar\":[{\"marker\":{\"line\":{\"color\":\"#E5ECF6\",\"width\":0.5},\"pattern\":{\"fillmode\":\"overlay\",\"size\":10,\"solidity\":0.2}},\"type\":\"barpolar\"}],\"carpet\":[{\"aaxis\":{\"endlinecolor\":\"#2a3f5f\",\"gridcolor\":\"white\",\"linecolor\":\"white\",\"minorgridcolor\":\"white\",\"startlinecolor\":\"#2a3f5f\"},\"baxis\":{\"endlinecolor\":\"#2a3f5f\",\"gridcolor\":\"white\",\"linecolor\":\"white\",\"minorgridcolor\":\"white\",\"startlinecolor\":\"#2a3f5f\"},\"type\":\"carpet\"}],\"choropleth\":[{\"colorbar\":{\"outlinewidth\":0,\"ticks\":\"\"},\"type\":\"choropleth\"}],\"contour\":[{\"colorbar\":{\"outlinewidth\":0,\"ticks\":\"\"},\"colorscale\":[[0.0,\"#0d0887\"],[0.1111111111111111,\"#46039f\"],[0.2222222222222222,\"#7201a8\"],[0.3333333333333333,\"#9c179e\"],[0.4444444444444444,\"#bd3786\"],[0.5555555555555556,\"#d8576b\"],[0.6666666666666666,\"#ed7953\"],[0.7777777777777778,\"#fb9f3a\"],[0.8888888888888888,\"#fdca26\"],[1.0,\"#f0f921\"]],\"type\":\"contour\"}],\"contourcarpet\":[{\"colorbar\":{\"outlinewidth\":0,\"ticks\":\"\"},\"type\":\"contourcarpet\"}],\"heatmap\":[{\"colorbar\":{\"outlinewidth\":0,\"ticks\":\"\"},\"colorscale\":[[0.0,\"#0d0887\"],[0.1111111111111111,\"#46039f\"],[0.2222222222222222,\"#7201a8\"],[0.3333333333333333,\"#9c179e\"],[0.4444444444444444,\"#bd3786\"],[0.5555555555555556,\"#d8576b\"],[0.6666666666666666,\"#ed7953\"],[0.7777777777777778,\"#fb9f3a\"],[0.8888888888888888,\"#fdca26\"],[1.0,\"#f0f921\"]],\"type\":\"heatmap\"}],\"heatmapgl\":[{\"colorbar\":{\"outlinewidth\":0,\"ticks\":\"\"},\"colorscale\":[[0.0,\"#0d0887\"],[0.1111111111111111,\"#46039f\"],[0.2222222222222222,\"#7201a8\"],[0.3333333333333333,\"#9c179e\"],[0.4444444444444444,\"#bd3786\"],[0.5555555555555556,\"#d8576b\"],[0.6666666666666666,\"#ed7953\"],[0.7777777777777778,\"#fb9f3a\"],[0.8888888888888888,\"#fdca26\"],[1.0,\"#f0f921\"]],\"type\":\"heatmapgl\"}],\"histogram\":[{\"marker\":{\"pattern\":{\"fillmode\":\"overlay\",\"size\":10,\"solidity\":0.2}},\"type\":\"histogram\"}],\"histogram2d\":[{\"colorbar\":{\"outlinewidth\":0,\"ticks\":\"\"},\"colorscale\":[[0.0,\"#0d0887\"],[0.1111111111111111,\"#46039f\"],[0.2222222222222222,\"#7201a8\"],[0.3333333333333333,\"#9c179e\"],[0.4444444444444444,\"#bd3786\"],[0.5555555555555556,\"#d8576b\"],[0.6666666666666666,\"#ed7953\"],[0.7777777777777778,\"#fb9f3a\"],[0.8888888888888888,\"#fdca26\"],[1.0,\"#f0f921\"]],\"type\":\"histogram2d\"}],\"histogram2dcontour\":[{\"colorbar\":{\"outlinewidth\":0,\"ticks\":\"\"},\"colorscale\":[[0.0,\"#0d0887\"],[0.1111111111111111,\"#46039f\"],[0.2222222222222222,\"#7201a8\"],[0.3333333333333333,\"#9c179e\"],[0.4444444444444444,\"#bd3786\"],[0.5555555555555556,\"#d8576b\"],[0.6666666666666666,\"#ed7953\"],[0.7777777777777778,\"#fb9f3a\"],[0.8888888888888888,\"#fdca26\"],[1.0,\"#f0f921\"]],\"type\":\"histogram2dcontour\"}],\"mesh3d\":[{\"colorbar\":{\"outlinewidth\":0,\"ticks\":\"\"},\"type\":\"mesh3d\"}],\"parcoords\":[{\"line\":{\"colorbar\":{\"outlinewidth\":0,\"ticks\":\"\"}},\"type\":\"parcoords\"}],\"pie\":[{\"automargin\":true,\"type\":\"pie\"}],\"scatter\":[{\"marker\":{\"colorbar\":{\"outlinewidth\":0,\"ticks\":\"\"}},\"type\":\"scatter\"}],\"scatter3d\":[{\"line\":{\"colorbar\":{\"outlinewidth\":0,\"ticks\":\"\"}},\"marker\":{\"colorbar\":{\"outlinewidth\":0,\"ticks\":\"\"}},\"type\":\"scatter3d\"}],\"scattercarpet\":[{\"marker\":{\"colorbar\":{\"outlinewidth\":0,\"ticks\":\"\"}},\"type\":\"scattercarpet\"}],\"scattergeo\":[{\"marker\":{\"colorbar\":{\"outlinewidth\":0,\"ticks\":\"\"}},\"type\":\"scattergeo\"}],\"scattergl\":[{\"marker\":{\"colorbar\":{\"outlinewidth\":0,\"ticks\":\"\"}},\"type\":\"scattergl\"}],\"scattermapbox\":[{\"marker\":{\"colorbar\":{\"outlinewidth\":0,\"ticks\":\"\"}},\"type\":\"scattermapbox\"}],\"scatterpolar\":[{\"marker\":{\"colorbar\":{\"outlinewidth\":0,\"ticks\":\"\"}},\"type\":\"scatterpolar\"}],\"scatterpolargl\":[{\"marker\":{\"colorbar\":{\"outlinewidth\":0,\"ticks\":\"\"}},\"type\":\"scatterpolargl\"}],\"scatterternary\":[{\"marker\":{\"colorbar\":{\"outlinewidth\":0,\"ticks\":\"\"}},\"type\":\"scatterternary\"}],\"surface\":[{\"colorbar\":{\"outlinewidth\":0,\"ticks\":\"\"},\"colorscale\":[[0.0,\"#0d0887\"],[0.1111111111111111,\"#46039f\"],[0.2222222222222222,\"#7201a8\"],[0.3333333333333333,\"#9c179e\"],[0.4444444444444444,\"#bd3786\"],[0.5555555555555556,\"#d8576b\"],[0.6666666666666666,\"#ed7953\"],[0.7777777777777778,\"#fb9f3a\"],[0.8888888888888888,\"#fdca26\"],[1.0,\"#f0f921\"]],\"type\":\"surface\"}],\"table\":[{\"cells\":{\"fill\":{\"color\":\"#EBF0F8\"},\"line\":{\"color\":\"white\"}},\"header\":{\"fill\":{\"color\":\"#C8D4E3\"},\"line\":{\"color\":\"white\"}},\"type\":\"table\"}]},\"layout\":{\"annotationdefaults\":{\"arrowcolor\":\"#2a3f5f\",\"arrowhead\":0,\"arrowwidth\":1},\"autotypenumbers\":\"strict\",\"coloraxis\":{\"colorbar\":{\"outlinewidth\":0,\"ticks\":\"\"}},\"colorscale\":{\"diverging\":[[0,\"#8e0152\"],[0.1,\"#c51b7d\"],[0.2,\"#de77ae\"],[0.3,\"#f1b6da\"],[0.4,\"#fde0ef\"],[0.5,\"#f7f7f7\"],[0.6,\"#e6f5d0\"],[0.7,\"#b8e186\"],[0.8,\"#7fbc41\"],[0.9,\"#4d9221\"],[1,\"#276419\"]],\"sequential\":[[0.0,\"#0d0887\"],[0.1111111111111111,\"#46039f\"],[0.2222222222222222,\"#7201a8\"],[0.3333333333333333,\"#9c179e\"],[0.4444444444444444,\"#bd3786\"],[0.5555555555555556,\"#d8576b\"],[0.6666666666666666,\"#ed7953\"],[0.7777777777777778,\"#fb9f3a\"],[0.8888888888888888,\"#fdca26\"],[1.0,\"#f0f921\"]],\"sequentialminus\":[[0.0,\"#0d0887\"],[0.1111111111111111,\"#46039f\"],[0.2222222222222222,\"#7201a8\"],[0.3333333333333333,\"#9c179e\"],[0.4444444444444444,\"#bd3786\"],[0.5555555555555556,\"#d8576b\"],[0.6666666666666666,\"#ed7953\"],[0.7777777777777778,\"#fb9f3a\"],[0.8888888888888888,\"#fdca26\"],[1.0,\"#f0f921\"]]},\"colorway\":[\"#636efa\",\"#EF553B\",\"#00cc96\",\"#ab63fa\",\"#FFA15A\",\"#19d3f3\",\"#FF6692\",\"#B6E880\",\"#FF97FF\",\"#FECB52\"],\"font\":{\"color\":\"#2a3f5f\"},\"geo\":{\"bgcolor\":\"white\",\"lakecolor\":\"white\",\"landcolor\":\"#E5ECF6\",\"showlakes\":true,\"showland\":true,\"subunitcolor\":\"white\"},\"hoverlabel\":{\"align\":\"left\"},\"hovermode\":\"closest\",\"mapbox\":{\"style\":\"light\"},\"paper_bgcolor\":\"white\",\"plot_bgcolor\":\"#E5ECF6\",\"polar\":{\"angularaxis\":{\"gridcolor\":\"white\",\"linecolor\":\"white\",\"ticks\":\"\"},\"bgcolor\":\"#E5ECF6\",\"radialaxis\":{\"gridcolor\":\"white\",\"linecolor\":\"white\",\"ticks\":\"\"}},\"scene\":{\"xaxis\":{\"backgroundcolor\":\"#E5ECF6\",\"gridcolor\":\"white\",\"gridwidth\":2,\"linecolor\":\"white\",\"showbackground\":true,\"ticks\":\"\",\"zerolinecolor\":\"white\"},\"yaxis\":{\"backgroundcolor\":\"#E5ECF6\",\"gridcolor\":\"white\",\"gridwidth\":2,\"linecolor\":\"white\",\"showbackground\":true,\"ticks\":\"\",\"zerolinecolor\":\"white\"},\"zaxis\":{\"backgroundcolor\":\"#E5ECF6\",\"gridcolor\":\"white\",\"gridwidth\":2,\"linecolor\":\"white\",\"showbackground\":true,\"ticks\":\"\",\"zerolinecolor\":\"white\"}},\"shapedefaults\":{\"line\":{\"color\":\"#2a3f5f\"}},\"ternary\":{\"aaxis\":{\"gridcolor\":\"white\",\"linecolor\":\"white\",\"ticks\":\"\"},\"baxis\":{\"gridcolor\":\"white\",\"linecolor\":\"white\",\"ticks\":\"\"},\"bgcolor\":\"#E5ECF6\",\"caxis\":{\"gridcolor\":\"white\",\"linecolor\":\"white\",\"ticks\":\"\"}},\"title\":{\"x\":0.05},\"xaxis\":{\"automargin\":true,\"gridcolor\":\"white\",\"linecolor\":\"white\",\"ticks\":\"\",\"title\":{\"standoff\":15},\"zerolinecolor\":\"white\",\"zerolinewidth\":2},\"yaxis\":{\"automargin\":true,\"gridcolor\":\"white\",\"linecolor\":\"white\",\"ticks\":\"\",\"title\":{\"standoff\":15},\"zerolinecolor\":\"white\",\"zerolinewidth\":2}}},\"xaxis\":{\"anchor\":\"y\",\"domain\":[0.0,1.0],\"scaleanchor\":\"y\",\"constrain\":\"domain\"},\"yaxis\":{\"anchor\":\"x\",\"domain\":[0.0,1.0],\"autorange\":\"reversed\",\"constrain\":\"domain\"},\"coloraxis\":{\"colorscale\":[[0.0,\"rgb(247,252,245)\"],[0.125,\"rgb(229,245,224)\"],[0.25,\"rgb(199,233,192)\"],[0.375,\"rgb(161,217,155)\"],[0.5,\"rgb(116,196,118)\"],[0.625,\"rgb(65,171,93)\"],[0.75,\"rgb(35,139,69)\"],[0.875,\"rgb(0,109,44)\"],[1.0,\"rgb(0,68,27)\"]]},\"margin\":{\"t\":60},\"height\":1200,\"width\":1200},                        {\"responsive\": true}                    ).then(function(){\n",
              "                            \n",
              "var gd = document.getElementById('c3592289-00a0-446f-b8e3-6f6119e1e25b');\n",
              "var x = new MutationObserver(function (mutations, observer) {{\n",
              "        var display = window.getComputedStyle(gd).display;\n",
              "        if (!display || display === 'none') {{\n",
              "            console.log([gd, 'removed!']);\n",
              "            Plotly.purge(gd);\n",
              "            observer.disconnect();\n",
              "        }}\n",
              "}});\n",
              "\n",
              "// Listen for the removal of the full notebook cells\n",
              "var notebookContainer = gd.closest('#notebook-container');\n",
              "if (notebookContainer) {{\n",
              "    x.observe(notebookContainer, {childList: true});\n",
              "}}\n",
              "\n",
              "// Listen for the clearing of the current output cell\n",
              "var outputEl = gd.closest('.output');\n",
              "if (outputEl) {{\n",
              "    x.observe(outputEl, {childList: true});\n",
              "}}\n",
              "\n",
              "                        })                };                            </script>        </div>\n",
              "</body>\n",
              "</html>"
            ]
          },
          "metadata": {}
        }
      ]
    },
    {
      "cell_type": "markdown",
      "source": [
        "#### Observations\n",
        "\n",
        "*   Temperature and feeling temperature are highly correlated with correlation coefficient of 0.99\n",
        "*   target variable 'cnt' has more correlation to 'atemp', 'yr', 'seanson3', 'month8' and 'month9'. As per my guess these should be highly significant variables. Let's see at end after our model build and evaluation.\n",
        "*   As feeling tempeterature ('atemp')  is correlated with bike rentals we start with this variable first to build a model and drop the 'temp' feature.\n",
        "\n"
      ],
      "metadata": {
        "id": "9gTRHzLTJR6y"
      }
    },
    {
      "cell_type": "code",
      "source": [
        "bike_train_df.drop('temp',axis=1,inplace=True)"
      ],
      "metadata": {
        "id": "2YIYfyYuswBa"
      },
      "execution_count": 640,
      "outputs": []
    },
    {
      "cell_type": "markdown",
      "source": [
        "## Step 5: Building a linear model\n",
        "\n",
        "### I am going to build model Manually and then using Automatic feature selection using RFE (Recursive Feature Elimination)"
      ],
      "metadata": {
        "id": "ckJqTiksJq8L"
      }
    },
    {
      "cell_type": "code",
      "source": [
        "y_train = bike_train_df.pop('cnt')\n",
        "X_train = bike_train_df\n",
        "y_test = bike_test_df.pop('cnt')\n",
        "X_test = bike_test_df\n",
        "X_train_sk = X_train.copy()\n",
        "y_train_sk = y_train.copy()"
      ],
      "metadata": {
        "id": "Thav27W3JsCJ"
      },
      "execution_count": 641,
      "outputs": []
    },
    {
      "cell_type": "markdown",
      "source": [
        "## Manual - Model 1"
      ],
      "metadata": {
        "id": "35x0q74dTq6o"
      }
    },
    {
      "cell_type": "code",
      "source": [
        "def linear_model(x_vars,df):\n",
        "  X_train_lm = sm.add_constant(df[x_vars])\n",
        "  model =  sm.OLS(y_train, X_train_lm).fit()\n",
        "  print(model.summary())\n",
        "  return model\n",
        "\n"
      ],
      "metadata": {
        "id": "t3DZFIiLLAln"
      },
      "execution_count": 642,
      "outputs": []
    },
    {
      "cell_type": "markdown",
      "source": [
        "#### Let's build a linear regression model with one variable 'atemp' first as this has high correlation with dependent variable 'cnt'"
      ],
      "metadata": {
        "id": "6sWaXZYnl9VO"
      }
    },
    {
      "cell_type": "code",
      "source": [
        "lr_atemp = linear_model(['atemp'],X_train)\n"
      ],
      "metadata": {
        "colab": {
          "base_uri": "https://localhost:8080/"
        },
        "id": "eIHPVCgqLSbl",
        "outputId": "8fcb478c-e8ad-402b-d9db-687ff7fa6508"
      },
      "execution_count": 643,
      "outputs": [
        {
          "output_type": "stream",
          "name": "stdout",
          "text": [
            "                            OLS Regression Results                            \n",
            "==============================================================================\n",
            "Dep. Variable:                    cnt   R-squared:                       0.418\n",
            "Model:                            OLS   Adj. R-squared:                  0.417\n",
            "Method:                 Least Squares   F-statistic:                     364.7\n",
            "Date:                Sun, 05 Jun 2022   Prob (F-statistic):           1.10e-61\n",
            "Time:                        00:58:34   Log-Likelihood:                 176.51\n",
            "No. Observations:                 510   AIC:                            -349.0\n",
            "Df Residuals:                     508   BIC:                            -340.5\n",
            "Df Model:                           1                                         \n",
            "Covariance Type:            nonrobust                                         \n",
            "==============================================================================\n",
            "                 coef    std err          t      P>|t|      [0.025      0.975]\n",
            "------------------------------------------------------------------------------\n",
            "const          0.1629      0.020      8.199      0.000       0.124       0.202\n",
            "atemp          0.6836      0.036     19.098      0.000       0.613       0.754\n",
            "==============================================================================\n",
            "Omnibus:                        3.316   Durbin-Watson:                   2.080\n",
            "Prob(Omnibus):                  0.190   Jarque-Bera (JB):                2.842\n",
            "Skew:                           0.090   Prob(JB):                        0.241\n",
            "Kurtosis:                       2.682   Cond. No.                         6.00\n",
            "==============================================================================\n",
            "\n",
            "Warnings:\n",
            "[1] Standard Errors assume that the covariance matrix of the errors is correctly specified.\n"
          ]
        }
      ]
    },
    {
      "cell_type": "markdown",
      "source": [
        "#### Observations.\n",
        "As per model parameters, 'atemp' feature is significant to describe the target variable as it has P-value of 0.000. R-Squared is 0.418 means 41.8% os variance is output variable is described by the 'atemp' feature.\n",
        "\n",
        "\n",
        "Let's add one more variable the second highest correlated feature 'yr' to  our next model"
      ],
      "metadata": {
        "id": "--StqJF1mIpg"
      }
    },
    {
      "cell_type": "markdown",
      "source": [
        "## Manual - Model 2"
      ],
      "metadata": {
        "id": "06rgQkLaT2bi"
      }
    },
    {
      "cell_type": "code",
      "source": [
        "## Add one more variable 'yr'\n",
        "lr3 = linear_model(['atemp','yr'],X_train)"
      ],
      "metadata": {
        "colab": {
          "base_uri": "https://localhost:8080/"
        },
        "id": "GEZnXs4YO8qv",
        "outputId": "2ba1eab5-440f-4679-ce2e-70d884c10590"
      },
      "execution_count": 644,
      "outputs": [
        {
          "output_type": "stream",
          "name": "stdout",
          "text": [
            "                            OLS Regression Results                            \n",
            "==============================================================================\n",
            "Dep. Variable:                    cnt   R-squared:                       0.696\n",
            "Model:                            OLS   Adj. R-squared:                  0.694\n",
            "Method:                 Least Squares   F-statistic:                     579.5\n",
            "Date:                Sun, 05 Jun 2022   Prob (F-statistic):          1.07e-131\n",
            "Time:                        00:58:34   Log-Likelihood:                 341.87\n",
            "No. Observations:                 510   AIC:                            -677.7\n",
            "Df Residuals:                     507   BIC:                            -665.0\n",
            "Df Model:                           2                                         \n",
            "Covariance Type:            nonrobust                                         \n",
            "==============================================================================\n",
            "                 coef    std err          t      P>|t|      [0.025      0.975]\n",
            "------------------------------------------------------------------------------\n",
            "const          0.0721      0.015      4.810      0.000       0.043       0.102\n",
            "atemp          0.6252      0.026     24.001      0.000       0.574       0.676\n",
            "yr             0.2378      0.011     21.511      0.000       0.216       0.260\n",
            "==============================================================================\n",
            "Omnibus:                       38.030   Durbin-Watson:                   2.018\n",
            "Prob(Omnibus):                  0.000   Jarque-Bera (JB):               58.520\n",
            "Skew:                          -0.536   Prob(JB):                     1.96e-13\n",
            "Kurtosis:                       4.266   Cond. No.                         6.69\n",
            "==============================================================================\n",
            "\n",
            "Warnings:\n",
            "[1] Standard Errors assume that the covariance matrix of the errors is correctly specified.\n"
          ]
        }
      ]
    },
    {
      "cell_type": "markdown",
      "source": [
        "#### Observations\n",
        "\n",
        "*   R2 increased from 0.418 to 0.696 which is significant improvement. We can see adjusted R-squared also increased at same rate.\n",
        "*  This is in-line with our correlation matrix that second highest correlation feature to 'cnt' variable is 'yr'.\n",
        "\n",
        "With these two features we can describe that the 69.6% variance in our target variable 'cnt' is contributed by 'atemp' and 'yr'\n",
        "\n",
        "#### Let's add the third highest correlation variable 'season_3' for our next model"
      ],
      "metadata": {
        "id": "rhiqHWl1nrxo"
      }
    },
    {
      "cell_type": "markdown",
      "source": [
        "## Manual - Model 3"
      ],
      "metadata": {
        "id": "MpGvI78iT4zk"
      }
    },
    {
      "cell_type": "code",
      "source": [
        "## Add one more variable 'season_3'\n",
        "lr4 = linear_model(['atemp','yr','season_3'],X_train)"
      ],
      "metadata": {
        "colab": {
          "base_uri": "https://localhost:8080/"
        },
        "id": "epw5moGsPXHi",
        "outputId": "0e67cdf4-fc91-40dd-fbb0-7102de17ee09"
      },
      "execution_count": 645,
      "outputs": [
        {
          "output_type": "stream",
          "name": "stdout",
          "text": [
            "                            OLS Regression Results                            \n",
            "==============================================================================\n",
            "Dep. Variable:                    cnt   R-squared:                       0.700\n",
            "Model:                            OLS   Adj. R-squared:                  0.698\n",
            "Method:                 Least Squares   F-statistic:                     393.3\n",
            "Date:                Sun, 05 Jun 2022   Prob (F-statistic):          8.89e-132\n",
            "Time:                        00:58:34   Log-Likelihood:                 345.39\n",
            "No. Observations:                 510   AIC:                            -682.8\n",
            "Df Residuals:                     506   BIC:                            -665.8\n",
            "Df Model:                           3                                         \n",
            "Covariance Type:            nonrobust                                         \n",
            "==============================================================================\n",
            "                 coef    std err          t      P>|t|      [0.025      0.975]\n",
            "------------------------------------------------------------------------------\n",
            "const          0.0525      0.017      3.158      0.002       0.020       0.085\n",
            "atemp          0.6871      0.035     19.705      0.000       0.619       0.756\n",
            "yr             0.2368      0.011     21.533      0.000       0.215       0.258\n",
            "season_3      -0.0444      0.017     -2.650      0.008      -0.077      -0.011\n",
            "==============================================================================\n",
            "Omnibus:                       41.906   Durbin-Watson:                   2.009\n",
            "Prob(Omnibus):                  0.000   Jarque-Bera (JB):               72.622\n",
            "Skew:                          -0.538   Prob(JB):                     1.70e-16\n",
            "Kurtosis:                       4.503   Cond. No.                         9.35\n",
            "==============================================================================\n",
            "\n",
            "Warnings:\n",
            "[1] Standard Errors assume that the covariance matrix of the errors is correctly specified.\n"
          ]
        }
      ]
    },
    {
      "cell_type": "markdown",
      "source": [
        "#### Observations\n",
        "\n",
        "*   There is no siginificant imrovement in our R2-score. I think it should be due to correlation with 'atemp' and 'season3'. \n",
        "\n",
        "#### Let's try to add all variables and then we drop one by one based on P-value and VIF"
      ],
      "metadata": {
        "id": "AS2jA1Rbn5jk"
      }
    },
    {
      "cell_type": "markdown",
      "source": [
        "## Manual - Model 4"
      ],
      "metadata": {
        "id": "7YQKT5aQT6VY"
      }
    },
    {
      "cell_type": "code",
      "source": [
        "### Adding All variables to Model\n",
        "lr_all = linear_model(X_train.columns,X_train)"
      ],
      "metadata": {
        "colab": {
          "base_uri": "https://localhost:8080/"
        },
        "id": "bKG3DBCDQb5q",
        "outputId": "8e711c30-446c-44d6-bbba-db6ac67feb46"
      },
      "execution_count": 646,
      "outputs": [
        {
          "output_type": "stream",
          "name": "stdout",
          "text": [
            "                            OLS Regression Results                            \n",
            "==============================================================================\n",
            "Dep. Variable:                    cnt   R-squared:                       0.851\n",
            "Model:                            OLS   Adj. R-squared:                  0.843\n",
            "Method:                 Least Squares   F-statistic:                     101.9\n",
            "Date:                Sun, 05 Jun 2022   Prob (F-statistic):          4.12e-180\n",
            "Time:                        00:58:34   Log-Likelihood:                 523.84\n",
            "No. Observations:                 510   AIC:                            -991.7\n",
            "Df Residuals:                     482   BIC:                            -873.1\n",
            "Df Model:                          27                                         \n",
            "Covariance Type:            nonrobust                                         \n",
            "================================================================================\n",
            "                   coef    std err          t      P>|t|      [0.025      0.975]\n",
            "--------------------------------------------------------------------------------\n",
            "const            0.1754      0.031      5.729      0.000       0.115       0.236\n",
            "atemp            0.4195      0.045      9.248      0.000       0.330       0.509\n",
            "hum             -0.1456      0.039     -3.758      0.000      -0.222      -0.069\n",
            "windspeed       -0.1686      0.026     -6.506      0.000      -0.219      -0.118\n",
            "season_2         0.0859      0.024      3.614      0.000       0.039       0.133\n",
            "season_3         0.0551      0.030      1.826      0.068      -0.004       0.114\n",
            "season_4         0.1548      0.026      5.924      0.000       0.103       0.206\n",
            "mnth_2           0.0329      0.021      1.588      0.113      -0.008       0.074\n",
            "mnth_3           0.0728      0.022      3.266      0.001       0.029       0.117\n",
            "mnth_4           0.0734      0.034      2.187      0.029       0.007       0.139\n",
            "mnth_5           0.1093      0.036      3.071      0.002       0.039       0.179\n",
            "mnth_6           0.0912      0.038      2.410      0.016       0.017       0.166\n",
            "mnth_7           0.0533      0.043      1.238      0.216      -0.031       0.138\n",
            "mnth_8           0.1103      0.041      2.708      0.007       0.030       0.190\n",
            "mnth_9           0.1649      0.037      4.453      0.000       0.092       0.238\n",
            "mnth_10          0.0812      0.034      2.357      0.019       0.014       0.149\n",
            "mnth_11          0.0258      0.033      0.780      0.436      -0.039       0.091\n",
            "mnth_12          0.0194      0.027      0.727      0.468      -0.033       0.072\n",
            "weathersit_2    -0.0626      0.011     -5.961      0.000      -0.083      -0.042\n",
            "weathersit_3    -0.2546      0.027     -9.566      0.000      -0.307      -0.202\n",
            "weekday_1       -0.0109      0.010     -1.117      0.264      -0.030       0.008\n",
            "weekday_2       -0.0068      0.011     -0.602      0.548      -0.029       0.015\n",
            "weekday_3        0.0073      0.011      0.689      0.491      -0.013       0.028\n",
            "weekday_4        0.0022      0.011      0.199      0.842      -0.019       0.024\n",
            "weekday_5        0.0154      0.011      1.373      0.170      -0.007       0.037\n",
            "weekday_6        0.0547      0.015      3.741      0.000       0.026       0.083\n",
            "yr               0.2342      0.008     28.937      0.000       0.218       0.250\n",
            "holiday         -0.0363      0.024     -1.532      0.126      -0.083       0.010\n",
            "workingday       0.0435      0.009      4.615      0.000       0.025       0.062\n",
            "==============================================================================\n",
            "Omnibus:                       86.243   Durbin-Watson:                   2.041\n",
            "Prob(Omnibus):                  0.000   Jarque-Bera (JB):              262.880\n",
            "Skew:                          -0.790   Prob(JB):                     8.25e-58\n",
            "Kurtosis:                       6.142   Cond. No.                     2.13e+15\n",
            "==============================================================================\n",
            "\n",
            "Warnings:\n",
            "[1] Standard Errors assume that the covariance matrix of the errors is correctly specified.\n",
            "[2] The smallest eigenvalue is 3.51e-28. This might indicate that there are\n",
            "strong multicollinearity problems or that the design matrix is singular.\n"
          ]
        }
      ]
    },
    {
      "cell_type": "markdown",
      "source": [
        "#### Observations\n",
        "\n",
        "*  Weekday_4 has highest P value and so delete this feature and rebuild the model.\n",
        "\n"
      ],
      "metadata": {
        "id": "1_YYI1qqoV8f"
      }
    },
    {
      "cell_type": "code",
      "source": [
        "X_train.drop(['weekday_4'],axis=1,inplace=True)\n"
      ],
      "metadata": {
        "id": "xmf5i4fiQ-oj"
      },
      "execution_count": 647,
      "outputs": []
    },
    {
      "cell_type": "markdown",
      "source": [
        "## Manual - Model 5"
      ],
      "metadata": {
        "id": "IdiTKSjST8f7"
      }
    },
    {
      "cell_type": "code",
      "source": [
        "lr_all = linear_model(X_train.columns,X_train)"
      ],
      "metadata": {
        "colab": {
          "base_uri": "https://localhost:8080/"
        },
        "id": "r29sXYaxRGDa",
        "outputId": "d305a2c1-2e9c-4484-be0c-662104a84542"
      },
      "execution_count": 648,
      "outputs": [
        {
          "output_type": "stream",
          "name": "stdout",
          "text": [
            "                            OLS Regression Results                            \n",
            "==============================================================================\n",
            "Dep. Variable:                    cnt   R-squared:                       0.851\n",
            "Model:                            OLS   Adj. R-squared:                  0.843\n",
            "Method:                 Least Squares   F-statistic:                     101.9\n",
            "Date:                Sun, 05 Jun 2022   Prob (F-statistic):          4.12e-180\n",
            "Time:                        00:58:35   Log-Likelihood:                 523.84\n",
            "No. Observations:                 510   AIC:                            -991.7\n",
            "Df Residuals:                     482   BIC:                            -873.1\n",
            "Df Model:                          27                                         \n",
            "Covariance Type:            nonrobust                                         \n",
            "================================================================================\n",
            "                   coef    std err          t      P>|t|      [0.025      0.975]\n",
            "--------------------------------------------------------------------------------\n",
            "const            0.1754      0.031      5.729      0.000       0.115       0.236\n",
            "atemp            0.4195      0.045      9.248      0.000       0.330       0.509\n",
            "hum             -0.1456      0.039     -3.758      0.000      -0.222      -0.069\n",
            "windspeed       -0.1686      0.026     -6.506      0.000      -0.219      -0.118\n",
            "season_2         0.0859      0.024      3.614      0.000       0.039       0.133\n",
            "season_3         0.0551      0.030      1.826      0.068      -0.004       0.114\n",
            "season_4         0.1548      0.026      5.924      0.000       0.103       0.206\n",
            "mnth_2           0.0329      0.021      1.588      0.113      -0.008       0.074\n",
            "mnth_3           0.0728      0.022      3.266      0.001       0.029       0.117\n",
            "mnth_4           0.0734      0.034      2.187      0.029       0.007       0.139\n",
            "mnth_5           0.1093      0.036      3.071      0.002       0.039       0.179\n",
            "mnth_6           0.0912      0.038      2.410      0.016       0.017       0.166\n",
            "mnth_7           0.0533      0.043      1.238      0.216      -0.031       0.138\n",
            "mnth_8           0.1103      0.041      2.708      0.007       0.030       0.190\n",
            "mnth_9           0.1649      0.037      4.453      0.000       0.092       0.238\n",
            "mnth_10          0.0812      0.034      2.357      0.019       0.014       0.149\n",
            "mnth_11          0.0258      0.033      0.780      0.436      -0.039       0.091\n",
            "mnth_12          0.0194      0.027      0.727      0.468      -0.033       0.072\n",
            "weathersit_2    -0.0626      0.011     -5.961      0.000      -0.083      -0.042\n",
            "weathersit_3    -0.2546      0.027     -9.566      0.000      -0.307      -0.202\n",
            "weekday_1       -0.0131      0.015     -0.862      0.389      -0.043       0.017\n",
            "weekday_2       -0.0090      0.016     -0.577      0.564      -0.039       0.022\n",
            "weekday_3        0.0051      0.015      0.345      0.730      -0.024       0.034\n",
            "weekday_5        0.0132      0.016      0.843      0.399      -0.018       0.044\n",
            "weekday_6        0.0547      0.015      3.741      0.000       0.026       0.083\n",
            "yr               0.2342      0.008     28.937      0.000       0.218       0.250\n",
            "holiday         -0.0341      0.030     -1.132      0.258      -0.093       0.025\n",
            "workingday       0.0457      0.015      2.995      0.003       0.016       0.076\n",
            "==============================================================================\n",
            "Omnibus:                       86.243   Durbin-Watson:                   2.041\n",
            "Prob(Omnibus):                  0.000   Jarque-Bera (JB):              262.880\n",
            "Skew:                          -0.790   Prob(JB):                     8.25e-58\n",
            "Kurtosis:                       6.142   Cond. No.                         44.0\n",
            "==============================================================================\n",
            "\n",
            "Warnings:\n",
            "[1] Standard Errors assume that the covariance matrix of the errors is correctly specified.\n"
          ]
        }
      ]
    },
    {
      "cell_type": "markdown",
      "source": [
        "### Observations\n",
        "\n",
        "\n",
        "*   There is no change in R2 even after we drop Weekday4. That means Weekday4 is not significance variable to describe the dependent variable 'cnt'\n",
        "*   Drop next highest P-value feature 'Weekday_3'\n",
        "\n"
      ],
      "metadata": {
        "id": "2IP4IzYQp6Ub"
      }
    },
    {
      "cell_type": "markdown",
      "source": [
        "## Manual - Model 6"
      ],
      "metadata": {
        "id": "xWe8sCyQT-4O"
      }
    },
    {
      "cell_type": "code",
      "source": [
        "X_train.drop(['weekday_3'],axis=1,inplace=True)\n",
        "lr_all = linear_model(X_train.columns,X_train)"
      ],
      "metadata": {
        "colab": {
          "base_uri": "https://localhost:8080/"
        },
        "id": "epgsZF3zROLn",
        "outputId": "a5b650de-e1b4-496e-cdca-703b3705024f"
      },
      "execution_count": 649,
      "outputs": [
        {
          "output_type": "stream",
          "name": "stdout",
          "text": [
            "                            OLS Regression Results                            \n",
            "==============================================================================\n",
            "Dep. Variable:                    cnt   R-squared:                       0.851\n",
            "Model:                            OLS   Adj. R-squared:                  0.843\n",
            "Method:                 Least Squares   F-statistic:                     106.0\n",
            "Date:                Sun, 05 Jun 2022   Prob (F-statistic):          4.20e-181\n",
            "Time:                        00:58:35   Log-Likelihood:                 523.78\n",
            "No. Observations:                 510   AIC:                            -993.6\n",
            "Df Residuals:                     483   BIC:                            -879.2\n",
            "Df Model:                          26                                         \n",
            "Covariance Type:            nonrobust                                         \n",
            "================================================================================\n",
            "                   coef    std err          t      P>|t|      [0.025      0.975]\n",
            "--------------------------------------------------------------------------------\n",
            "const            0.1752      0.031      5.728      0.000       0.115       0.235\n",
            "atemp            0.4192      0.045      9.251      0.000       0.330       0.508\n",
            "hum             -0.1451      0.039     -3.751      0.000      -0.221      -0.069\n",
            "windspeed       -0.1686      0.026     -6.514      0.000      -0.219      -0.118\n",
            "season_2         0.0857      0.024      3.612      0.000       0.039       0.132\n",
            "season_3         0.0547      0.030      1.817      0.070      -0.004       0.114\n",
            "season_4         0.1548      0.026      5.929      0.000       0.104       0.206\n",
            "mnth_2           0.0331      0.021      1.597      0.111      -0.008       0.074\n",
            "mnth_3           0.0728      0.022      3.268      0.001       0.029       0.117\n",
            "mnth_4           0.0737      0.034      2.199      0.028       0.008       0.140\n",
            "mnth_5           0.1097      0.036      3.087      0.002       0.040       0.179\n",
            "mnth_6           0.0918      0.038      2.428      0.016       0.018       0.166\n",
            "mnth_7           0.0538      0.043      1.252      0.211      -0.031       0.138\n",
            "mnth_8           0.1108      0.041      2.723      0.007       0.031       0.191\n",
            "mnth_9           0.1652      0.037      4.469      0.000       0.093       0.238\n",
            "mnth_10          0.0814      0.034      2.364      0.018       0.014       0.149\n",
            "mnth_11          0.0257      0.033      0.779      0.437      -0.039       0.091\n",
            "mnth_12          0.0192      0.027      0.721      0.471      -0.033       0.072\n",
            "weathersit_2    -0.0626      0.010     -5.963      0.000      -0.083      -0.042\n",
            "weathersit_3    -0.2544      0.027     -9.570      0.000      -0.307      -0.202\n",
            "weekday_1       -0.0159      0.013     -1.221      0.223      -0.041       0.010\n",
            "weekday_2       -0.0117      0.013     -0.887      0.376      -0.038       0.014\n",
            "weekday_5        0.0104      0.013      0.777      0.437      -0.016       0.037\n",
            "weekday_6        0.0547      0.015      3.746      0.000       0.026       0.083\n",
            "yr               0.2342      0.008     28.967      0.000       0.218       0.250\n",
            "holiday         -0.0317      0.029     -1.082      0.280      -0.089       0.026\n",
            "workingday       0.0485      0.013      3.754      0.000       0.023       0.074\n",
            "==============================================================================\n",
            "Omnibus:                       86.767   Durbin-Watson:                   2.040\n",
            "Prob(Omnibus):                  0.000   Jarque-Bera (JB):              265.342\n",
            "Skew:                          -0.794   Prob(JB):                     2.41e-58\n",
            "Kurtosis:                       6.157   Cond. No.                         43.8\n",
            "==============================================================================\n",
            "\n",
            "Warnings:\n",
            "[1] Standard Errors assume that the covariance matrix of the errors is correctly specified.\n"
          ]
        }
      ]
    },
    {
      "cell_type": "markdown",
      "source": [
        "#### Observations\n",
        "\n",
        "*   R2- still same and F-Static got increased and that means overall model is good compared to previous model.\n",
        "*   Drop the highest p-value column 'mnth_12'\n",
        "\n",
        "\n",
        "\n"
      ],
      "metadata": {
        "id": "Syrxco51qV_c"
      }
    },
    {
      "cell_type": "markdown",
      "source": [
        "## Manual - Model 7"
      ],
      "metadata": {
        "id": "hG3CZlkUUAak"
      }
    },
    {
      "cell_type": "code",
      "source": [
        "X_train.drop(['mnth_12'],axis=1,inplace=True)\n",
        "lr_all = linear_model(X_train.columns,X_train)"
      ],
      "metadata": {
        "colab": {
          "base_uri": "https://localhost:8080/"
        },
        "id": "7uBbE_vZRXqF",
        "outputId": "c12d013e-706e-4459-8961-e6900576de80"
      },
      "execution_count": 650,
      "outputs": [
        {
          "output_type": "stream",
          "name": "stdout",
          "text": [
            "                            OLS Regression Results                            \n",
            "==============================================================================\n",
            "Dep. Variable:                    cnt   R-squared:                       0.851\n",
            "Model:                            OLS   Adj. R-squared:                  0.843\n",
            "Method:                 Least Squares   F-statistic:                     110.3\n",
            "Date:                Sun, 05 Jun 2022   Prob (F-statistic):          5.12e-182\n",
            "Time:                        00:58:35   Log-Likelihood:                 523.50\n",
            "No. Observations:                 510   AIC:                            -995.0\n",
            "Df Residuals:                     484   BIC:                            -884.9\n",
            "Df Model:                          25                                         \n",
            "Covariance Type:            nonrobust                                         \n",
            "================================================================================\n",
            "                   coef    std err          t      P>|t|      [0.025      0.975]\n",
            "--------------------------------------------------------------------------------\n",
            "const            0.1783      0.030      5.890      0.000       0.119       0.238\n",
            "atemp            0.4243      0.045      9.484      0.000       0.336       0.512\n",
            "hum             -0.1442      0.039     -3.732      0.000      -0.220      -0.068\n",
            "windspeed       -0.1672      0.026     -6.482      0.000      -0.218      -0.117\n",
            "season_2         0.0890      0.023      3.819      0.000       0.043       0.135\n",
            "season_3         0.0618      0.028      2.172      0.030       0.006       0.118\n",
            "season_4         0.1674      0.019      8.629      0.000       0.129       0.206\n",
            "mnth_2           0.0279      0.019      1.436      0.152      -0.010       0.066\n",
            "mnth_3           0.0658      0.020      3.284      0.001       0.026       0.105\n",
            "mnth_4           0.0642      0.031      2.084      0.038       0.004       0.125\n",
            "mnth_5           0.0995      0.033      3.052      0.002       0.035       0.164\n",
            "mnth_6           0.0797      0.034      2.354      0.019       0.013       0.146\n",
            "mnth_7           0.0389      0.038      1.033      0.302      -0.035       0.113\n",
            "mnth_8           0.0963      0.035      2.725      0.007       0.027       0.166\n",
            "mnth_9           0.1499      0.030      4.962      0.000       0.091       0.209\n",
            "mnth_10          0.0624      0.022      2.815      0.005       0.019       0.106\n",
            "mnth_11          0.0073      0.021      0.350      0.727      -0.034       0.049\n",
            "weathersit_2    -0.0629      0.010     -6.003      0.000      -0.083      -0.042\n",
            "weathersit_3    -0.2545      0.027     -9.579      0.000      -0.307      -0.202\n",
            "weekday_1       -0.0161      0.013     -1.244      0.214      -0.042       0.009\n",
            "weekday_2       -0.0120      0.013     -0.908      0.364      -0.038       0.014\n",
            "weekday_5        0.0105      0.013      0.785      0.433      -0.016       0.037\n",
            "weekday_6        0.0548      0.015      3.755      0.000       0.026       0.083\n",
            "yr               0.2339      0.008     28.987      0.000       0.218       0.250\n",
            "holiday         -0.0313      0.029     -1.067      0.287      -0.089       0.026\n",
            "workingday       0.0484      0.013      3.750      0.000       0.023       0.074\n",
            "==============================================================================\n",
            "Omnibus:                       86.088   Durbin-Watson:                   2.034\n",
            "Prob(Omnibus):                  0.000   Jarque-Bera (JB):              262.502\n",
            "Skew:                          -0.789   Prob(JB):                     9.96e-58\n",
            "Kurtosis:                       6.141   Cond. No.                         35.8\n",
            "==============================================================================\n",
            "\n",
            "Warnings:\n",
            "[1] Standard Errors assume that the covariance matrix of the errors is correctly specified.\n"
          ]
        }
      ]
    },
    {
      "cell_type": "markdown",
      "source": [
        "*   R2- still same and F-Static got increased and that means overall model is good compared to previous model.\n",
        "*   Drop the highest p-value column 'mnth_11'"
      ],
      "metadata": {
        "id": "eUHZc3q9rQnR"
      }
    },
    {
      "cell_type": "markdown",
      "source": [
        "## Manual - Model 8"
      ],
      "metadata": {
        "id": "yW1kvCzRUB5W"
      }
    },
    {
      "cell_type": "code",
      "source": [
        "X_train.drop(['mnth_11'],axis=1,inplace=True) \n",
        "lr_all = linear_model(X_train.columns,X_train)"
      ],
      "metadata": {
        "colab": {
          "base_uri": "https://localhost:8080/"
        },
        "id": "wvrXtIFVRfAr",
        "outputId": "933e7016-5235-4197-d91a-273fb85c4fa5"
      },
      "execution_count": 651,
      "outputs": [
        {
          "output_type": "stream",
          "name": "stdout",
          "text": [
            "                            OLS Regression Results                            \n",
            "==============================================================================\n",
            "Dep. Variable:                    cnt   R-squared:                       0.851\n",
            "Model:                            OLS   Adj. R-squared:                  0.843\n",
            "Method:                 Least Squares   F-statistic:                     115.1\n",
            "Date:                Sun, 05 Jun 2022   Prob (F-statistic):          5.01e-183\n",
            "Time:                        00:58:35   Log-Likelihood:                 523.44\n",
            "No. Observations:                 510   AIC:                            -996.9\n",
            "Df Residuals:                     485   BIC:                            -891.0\n",
            "Df Model:                          24                                         \n",
            "Covariance Type:            nonrobust                                         \n",
            "================================================================================\n",
            "                   coef    std err          t      P>|t|      [0.025      0.975]\n",
            "--------------------------------------------------------------------------------\n",
            "const            0.1783      0.030      5.897      0.000       0.119       0.238\n",
            "atemp            0.4261      0.044      9.598      0.000       0.339       0.513\n",
            "hum             -0.1450      0.039     -3.763      0.000      -0.221      -0.069\n",
            "windspeed       -0.1664      0.026     -6.482      0.000      -0.217      -0.116\n",
            "season_2         0.0900      0.023      3.896      0.000       0.045       0.135\n",
            "season_3         0.0639      0.028      2.300      0.022       0.009       0.118\n",
            "season_4         0.1713      0.016     10.707      0.000       0.140       0.203\n",
            "mnth_2           0.0275      0.019      1.420      0.156      -0.011       0.065\n",
            "mnth_3           0.0649      0.020      3.269      0.001       0.026       0.104\n",
            "mnth_4           0.0625      0.030      2.057      0.040       0.003       0.122\n",
            "mnth_5           0.0977      0.032      3.038      0.003       0.035       0.161\n",
            "mnth_6           0.0772      0.033      2.334      0.020       0.012       0.142\n",
            "mnth_7           0.0357      0.036      0.978      0.329      -0.036       0.107\n",
            "mnth_8           0.0932      0.034      2.726      0.007       0.026       0.160\n",
            "mnth_9           0.1466      0.029      5.115      0.000       0.090       0.203\n",
            "mnth_10          0.0580      0.018      3.191      0.002       0.022       0.094\n",
            "weathersit_2    -0.0628      0.010     -6.002      0.000      -0.083      -0.042\n",
            "weathersit_3    -0.2542      0.027     -9.582      0.000      -0.306      -0.202\n",
            "weekday_1       -0.0164      0.013     -1.265      0.206      -0.042       0.009\n",
            "weekday_2       -0.0120      0.013     -0.907      0.365      -0.038       0.014\n",
            "weekday_5        0.0103      0.013      0.772      0.441      -0.016       0.037\n",
            "weekday_6        0.0546      0.015      3.747      0.000       0.026       0.083\n",
            "yr               0.2338      0.008     29.012      0.000       0.218       0.250\n",
            "holiday         -0.0302      0.029     -1.038      0.300      -0.087       0.027\n",
            "workingday       0.0484      0.013      3.750      0.000       0.023       0.074\n",
            "==============================================================================\n",
            "Omnibus:                       85.277   Durbin-Watson:                   2.033\n",
            "Prob(Omnibus):                  0.000   Jarque-Bera (JB):              259.078\n",
            "Skew:                          -0.783   Prob(JB):                     5.52e-57\n",
            "Kurtosis:                       6.121   Cond. No.                         34.5\n",
            "==============================================================================\n",
            "\n",
            "Warnings:\n",
            "[1] Standard Errors assume that the covariance matrix of the errors is correctly specified.\n"
          ]
        }
      ]
    },
    {
      "cell_type": "markdown",
      "source": [
        "*   R2- still same and F-Static got increased and that means overall model is good compared to previous model.\n",
        "*   Drop the highest p-value column 'weekday_5'"
      ],
      "metadata": {
        "id": "H5q9LUpgU9OJ"
      }
    },
    {
      "cell_type": "markdown",
      "source": [
        "## Manual - Model 9"
      ],
      "metadata": {
        "id": "bxgsliDxUDjo"
      }
    },
    {
      "cell_type": "code",
      "source": [
        "X_train.drop(['weekday_5'],axis=1,inplace=True)\n",
        "lr_all = linear_model(X_train.columns,X_train)"
      ],
      "metadata": {
        "colab": {
          "base_uri": "https://localhost:8080/"
        },
        "id": "wHHL_mxARiXy",
        "outputId": "402c3422-fe51-449e-cb03-5e3cd52ffdd5"
      },
      "execution_count": 652,
      "outputs": [
        {
          "output_type": "stream",
          "name": "stdout",
          "text": [
            "                            OLS Regression Results                            \n",
            "==============================================================================\n",
            "Dep. Variable:                    cnt   R-squared:                       0.850\n",
            "Model:                            OLS   Adj. R-squared:                  0.843\n",
            "Method:                 Least Squares   F-statistic:                     120.2\n",
            "Date:                Sun, 05 Jun 2022   Prob (F-statistic):          6.07e-184\n",
            "Time:                        00:58:35   Log-Likelihood:                 523.13\n",
            "No. Observations:                 510   AIC:                            -998.3\n",
            "Df Residuals:                     486   BIC:                            -896.6\n",
            "Df Model:                          23                                         \n",
            "Covariance Type:            nonrobust                                         \n",
            "================================================================================\n",
            "                   coef    std err          t      P>|t|      [0.025      0.975]\n",
            "--------------------------------------------------------------------------------\n",
            "const            0.1789      0.030      5.922      0.000       0.120       0.238\n",
            "atemp            0.4244      0.044      9.576      0.000       0.337       0.512\n",
            "hum             -0.1457      0.039     -3.783      0.000      -0.221      -0.070\n",
            "windspeed       -0.1666      0.026     -6.491      0.000      -0.217      -0.116\n",
            "season_2         0.0897      0.023      3.886      0.000       0.044       0.135\n",
            "season_3         0.0639      0.028      2.302      0.022       0.009       0.118\n",
            "season_4         0.1713      0.016     10.715      0.000       0.140       0.203\n",
            "mnth_2           0.0279      0.019      1.444      0.149      -0.010       0.066\n",
            "mnth_3           0.0651      0.020      3.283      0.001       0.026       0.104\n",
            "mnth_4           0.0634      0.030      2.087      0.037       0.004       0.123\n",
            "mnth_5           0.0986      0.032      3.069      0.002       0.035       0.162\n",
            "mnth_6           0.0780      0.033      2.359      0.019       0.013       0.143\n",
            "mnth_7           0.0372      0.036      1.023      0.307      -0.034       0.109\n",
            "mnth_8           0.0943      0.034      2.761      0.006       0.027       0.161\n",
            "mnth_9           0.1471      0.029      5.136      0.000       0.091       0.203\n",
            "mnth_10          0.0588      0.018      3.243      0.001       0.023       0.094\n",
            "weathersit_2    -0.0622      0.010     -5.964      0.000      -0.083      -0.042\n",
            "weathersit_3    -0.2556      0.026     -9.668      0.000      -0.308      -0.204\n",
            "weekday_1       -0.0196      0.012     -1.594      0.111      -0.044       0.005\n",
            "weekday_2       -0.0152      0.013     -1.212      0.226      -0.040       0.009\n",
            "weekday_6        0.0546      0.015      3.750      0.000       0.026       0.083\n",
            "yr               0.2338      0.008     29.018      0.000       0.218       0.250\n",
            "holiday         -0.0268      0.029     -0.932      0.352      -0.083       0.030\n",
            "workingday       0.0516      0.012      4.223      0.000       0.028       0.076\n",
            "==============================================================================\n",
            "Omnibus:                       84.608   Durbin-Watson:                   2.025\n",
            "Prob(Omnibus):                  0.000   Jarque-Bera (JB):              259.503\n",
            "Skew:                          -0.773   Prob(JB):                     4.46e-57\n",
            "Kurtosis:                       6.134   Cond. No.                         34.4\n",
            "==============================================================================\n",
            "\n",
            "Warnings:\n",
            "[1] Standard Errors assume that the covariance matrix of the errors is correctly specified.\n"
          ]
        }
      ]
    },
    {
      "cell_type": "markdown",
      "source": [
        "*  Though R2- very slightly decreased, Adjusted R-square is same and F-Static got increased and that means overall model is good compared to previous model.\n",
        "*   Drop the highest p-value column 'holiday'"
      ],
      "metadata": {
        "id": "ybBDEJByVG3q"
      }
    },
    {
      "cell_type": "markdown",
      "source": [
        "## Manual - Model 10"
      ],
      "metadata": {
        "id": "MXNyvMtTUFAL"
      }
    },
    {
      "cell_type": "code",
      "source": [
        "X_train.drop(['holiday'],axis=1,inplace=True)\n",
        "lr_all = linear_model(X_train.columns,X_train)"
      ],
      "metadata": {
        "colab": {
          "base_uri": "https://localhost:8080/"
        },
        "id": "FvaEaEEORoil",
        "outputId": "ed2cca51-0537-469c-dde7-a5f3c7fa62e1"
      },
      "execution_count": 653,
      "outputs": [
        {
          "output_type": "stream",
          "name": "stdout",
          "text": [
            "                            OLS Regression Results                            \n",
            "==============================================================================\n",
            "Dep. Variable:                    cnt   R-squared:                       0.850\n",
            "Model:                            OLS   Adj. R-squared:                  0.843\n",
            "Method:                 Least Squares   F-statistic:                     125.7\n",
            "Date:                Sun, 05 Jun 2022   Prob (F-statistic):          8.23e-185\n",
            "Time:                        00:58:35   Log-Likelihood:                 522.67\n",
            "No. Observations:                 510   AIC:                            -999.3\n",
            "Df Residuals:                     487   BIC:                            -901.9\n",
            "Df Model:                          22                                         \n",
            "Covariance Type:            nonrobust                                         \n",
            "================================================================================\n",
            "                   coef    std err          t      P>|t|      [0.025      0.975]\n",
            "--------------------------------------------------------------------------------\n",
            "const            0.1743      0.030      5.849      0.000       0.116       0.233\n",
            "atemp            0.4212      0.044      9.533      0.000       0.334       0.508\n",
            "hum             -0.1440      0.038     -3.742      0.000      -0.220      -0.068\n",
            "windspeed       -0.1668      0.026     -6.499      0.000      -0.217      -0.116\n",
            "season_2         0.0893      0.023      3.871      0.000       0.044       0.135\n",
            "season_3         0.0634      0.028      2.283      0.023       0.009       0.118\n",
            "season_4         0.1718      0.016     10.753      0.000       0.140       0.203\n",
            "mnth_2           0.0282      0.019      1.459      0.145      -0.010       0.066\n",
            "mnth_3           0.0669      0.020      3.384      0.001       0.028       0.106\n",
            "mnth_4           0.0654      0.030      2.160      0.031       0.006       0.125\n",
            "mnth_5           0.1012      0.032      3.160      0.002       0.038       0.164\n",
            "mnth_6           0.0813      0.033      2.474      0.014       0.017       0.146\n",
            "mnth_7           0.0409      0.036      1.132      0.258      -0.030       0.112\n",
            "mnth_8           0.0973      0.034      2.862      0.004       0.030       0.164\n",
            "mnth_9           0.1485      0.029      5.192      0.000       0.092       0.205\n",
            "mnth_10          0.0601      0.018      3.329      0.001       0.025       0.096\n",
            "weathersit_2    -0.0623      0.010     -5.968      0.000      -0.083      -0.042\n",
            "weathersit_3    -0.2559      0.026     -9.677      0.000      -0.308      -0.204\n",
            "weekday_1       -0.0234      0.012     -2.023      0.044      -0.046      -0.001\n",
            "weekday_2       -0.0161      0.012     -1.292      0.197      -0.041       0.008\n",
            "weekday_6        0.0582      0.014      4.140      0.000       0.031       0.086\n",
            "yr               0.2340      0.008     29.080      0.000       0.218       0.250\n",
            "workingday       0.0560      0.011      4.993      0.000       0.034       0.078\n",
            "==============================================================================\n",
            "Omnibus:                       88.714   Durbin-Watson:                   2.018\n",
            "Prob(Omnibus):                  0.000   Jarque-Bera (JB):              278.413\n",
            "Skew:                          -0.804   Prob(JB):                     3.49e-61\n",
            "Kurtosis:                       6.243   Cond. No.                         34.1\n",
            "==============================================================================\n",
            "\n",
            "Warnings:\n",
            "[1] Standard Errors assume that the covariance matrix of the errors is correctly specified.\n"
          ]
        }
      ]
    },
    {
      "cell_type": "markdown",
      "source": [
        "\n",
        "\n",
        "*   R- Square and Adjusted R-Square remain same even after one feature drop and F-stat increased.\n",
        "*   Let's drop 'mnth_7'\n",
        "\n"
      ],
      "metadata": {
        "id": "PBB_1sAqVckH"
      }
    },
    {
      "cell_type": "markdown",
      "source": [
        "## Manual - Model 11"
      ],
      "metadata": {
        "id": "Kg2yMDn-UGYe"
      }
    },
    {
      "cell_type": "code",
      "source": [
        "X_train.drop(['mnth_7'],axis=1,inplace=True)\n",
        "lr_all = linear_model(X_train.columns,X_train)"
      ],
      "metadata": {
        "colab": {
          "base_uri": "https://localhost:8080/"
        },
        "id": "Nd01hkQxR1Uc",
        "outputId": "ffb41d4c-79d6-44bc-9f12-6160f35cec38"
      },
      "execution_count": 654,
      "outputs": [
        {
          "output_type": "stream",
          "name": "stdout",
          "text": [
            "                            OLS Regression Results                            \n",
            "==============================================================================\n",
            "Dep. Variable:                    cnt   R-squared:                       0.850\n",
            "Model:                            OLS   Adj. R-squared:                  0.843\n",
            "Method:                 Least Squares   F-statistic:                     131.5\n",
            "Date:                Sun, 05 Jun 2022   Prob (F-statistic):          1.34e-185\n",
            "Time:                        00:58:35   Log-Likelihood:                 522.00\n",
            "No. Observations:                 510   AIC:                            -1000.\n",
            "Df Residuals:                     488   BIC:                            -906.8\n",
            "Df Model:                          21                                         \n",
            "Covariance Type:            nonrobust                                         \n",
            "================================================================================\n",
            "                   coef    std err          t      P>|t|      [0.025      0.975]\n",
            "--------------------------------------------------------------------------------\n",
            "const            0.1735      0.030      5.822      0.000       0.115       0.232\n",
            "atemp            0.4482      0.037     12.041      0.000       0.375       0.521\n",
            "hum             -0.1499      0.038     -3.934      0.000      -0.225      -0.075\n",
            "windspeed       -0.1669      0.026     -6.504      0.000      -0.217      -0.117\n",
            "season_2         0.0978      0.022      4.484      0.000       0.055       0.141\n",
            "season_3         0.0807      0.023      3.485      0.001       0.035       0.126\n",
            "season_4         0.1687      0.016     10.714      0.000       0.138       0.200\n",
            "mnth_2           0.0250      0.019      1.309      0.191      -0.013       0.063\n",
            "mnth_3           0.0574      0.018      3.205      0.001       0.022       0.093\n",
            "mnth_4           0.0482      0.026      1.841      0.066      -0.003       0.100\n",
            "mnth_5           0.0808      0.026      3.051      0.002       0.029       0.133\n",
            "mnth_6           0.0543      0.023      2.402      0.017       0.010       0.099\n",
            "mnth_8           0.0647      0.018      3.586      0.000       0.029       0.100\n",
            "mnth_9           0.1228      0.017      7.027      0.000       0.088       0.157\n",
            "mnth_10          0.0545      0.017      3.137      0.002       0.020       0.089\n",
            "weathersit_2    -0.0615      0.010     -5.908      0.000      -0.082      -0.041\n",
            "weathersit_3    -0.2544      0.026     -9.631      0.000      -0.306      -0.202\n",
            "weekday_1       -0.0234      0.012     -2.025      0.043      -0.046      -0.001\n",
            "weekday_2       -0.0159      0.012     -1.270      0.205      -0.040       0.009\n",
            "weekday_6        0.0587      0.014      4.177      0.000       0.031       0.086\n",
            "yr               0.2336      0.008     29.050      0.000       0.218       0.249\n",
            "workingday       0.0559      0.011      4.977      0.000       0.034       0.078\n",
            "==============================================================================\n",
            "Omnibus:                       86.245   Durbin-Watson:                   2.015\n",
            "Prob(Omnibus):                  0.000   Jarque-Bera (JB):              266.651\n",
            "Skew:                          -0.786   Prob(JB):                     1.25e-58\n",
            "Kurtosis:                       6.175   Cond. No.                         22.5\n",
            "==============================================================================\n",
            "\n",
            "Warnings:\n",
            "[1] Standard Errors assume that the covariance matrix of the errors is correctly specified.\n"
          ]
        }
      ]
    },
    {
      "cell_type": "markdown",
      "source": [
        "\n",
        "*   R- Square and Adjusted R-Square remain same even after one feature drop and F-stat increased.\n",
        "*   Let's drop 'weekday_2'"
      ],
      "metadata": {
        "id": "bfsBsrqcVsD8"
      }
    },
    {
      "cell_type": "markdown",
      "source": [
        "## Manual - Model 12"
      ],
      "metadata": {
        "id": "zbEXIudwUHop"
      }
    },
    {
      "cell_type": "code",
      "source": [
        "X_train.drop(['weekday_2'],axis=1,inplace=True)\n",
        "lr_all = linear_model(X_train.columns,X_train)"
      ],
      "metadata": {
        "colab": {
          "base_uri": "https://localhost:8080/"
        },
        "id": "8BivCJU0SAgc",
        "outputId": "238cafd2-3db3-440e-ff2a-2f0368ff8824"
      },
      "execution_count": 655,
      "outputs": [
        {
          "output_type": "stream",
          "name": "stdout",
          "text": [
            "                            OLS Regression Results                            \n",
            "==============================================================================\n",
            "Dep. Variable:                    cnt   R-squared:                       0.849\n",
            "Model:                            OLS   Adj. R-squared:                  0.843\n",
            "Method:                 Least Squares   F-statistic:                     137.8\n",
            "Date:                Sun, 05 Jun 2022   Prob (F-statistic):          2.50e-186\n",
            "Time:                        00:58:35   Log-Likelihood:                 521.16\n",
            "No. Observations:                 510   AIC:                            -1000.\n",
            "Df Residuals:                     489   BIC:                            -911.4\n",
            "Df Model:                          20                                         \n",
            "Covariance Type:            nonrobust                                         \n",
            "================================================================================\n",
            "                   coef    std err          t      P>|t|      [0.025      0.975]\n",
            "--------------------------------------------------------------------------------\n",
            "const            0.1749      0.030      5.869      0.000       0.116       0.233\n",
            "atemp            0.4466      0.037     11.998      0.000       0.373       0.520\n",
            "hum             -0.1510      0.038     -3.959      0.000      -0.226      -0.076\n",
            "windspeed       -0.1675      0.026     -6.522      0.000      -0.218      -0.117\n",
            "season_2         0.0975      0.022      4.466      0.000       0.055       0.140\n",
            "season_3         0.0804      0.023      3.470      0.001       0.035       0.126\n",
            "season_4         0.1682      0.016     10.680      0.000       0.137       0.199\n",
            "mnth_2           0.0237      0.019      1.238      0.216      -0.014       0.061\n",
            "mnth_3           0.0575      0.018      3.207      0.001       0.022       0.093\n",
            "mnth_4           0.0479      0.026      1.829      0.068      -0.004       0.099\n",
            "mnth_5           0.0808      0.027      3.047      0.002       0.029       0.133\n",
            "mnth_6           0.0557      0.023      2.463      0.014       0.011       0.100\n",
            "mnth_8           0.0653      0.018      3.619      0.000       0.030       0.101\n",
            "mnth_9           0.1235      0.017      7.061      0.000       0.089       0.158\n",
            "mnth_10          0.0543      0.017      3.123      0.002       0.020       0.088\n",
            "weathersit_2    -0.0612      0.010     -5.874      0.000      -0.082      -0.041\n",
            "weathersit_3    -0.2525      0.026     -9.569      0.000      -0.304      -0.201\n",
            "weekday_1       -0.0201      0.011     -1.785      0.075      -0.042       0.002\n",
            "weekday_6        0.0589      0.014      4.188      0.000       0.031       0.087\n",
            "yr               0.2337      0.008     29.038      0.000       0.218       0.249\n",
            "workingday       0.0524      0.011      4.810      0.000       0.031       0.074\n",
            "==============================================================================\n",
            "Omnibus:                       86.760   Durbin-Watson:                   2.011\n",
            "Prob(Omnibus):                  0.000   Jarque-Bera (JB):              277.164\n",
            "Skew:                          -0.780   Prob(JB):                     6.52e-61\n",
            "Kurtosis:                       6.257   Cond. No.                         22.4\n",
            "==============================================================================\n",
            "\n",
            "Warnings:\n",
            "[1] Standard Errors assume that the covariance matrix of the errors is correctly specified.\n"
          ]
        }
      ]
    },
    {
      "cell_type": "markdown",
      "source": [
        "*   R- Square slightly decreased but Adjusted R-Square remain same even after one feature drop and F-stat increased.\n",
        "*   Let's drop 'mnth_2'"
      ],
      "metadata": {
        "id": "r8DK74qHVyZ-"
      }
    },
    {
      "cell_type": "markdown",
      "source": [
        "## Manual - Model 13"
      ],
      "metadata": {
        "id": "_eYdcU4qUJCw"
      }
    },
    {
      "cell_type": "code",
      "source": [
        "X_train.drop(['mnth_2'],axis=1,inplace=True)\n",
        "lr_all = linear_model(X_train.columns,X_train)"
      ],
      "metadata": {
        "colab": {
          "base_uri": "https://localhost:8080/"
        },
        "id": "wiVWJjafSGla",
        "outputId": "339b1c68-cf42-4a5a-8c6a-b5ac0d2e8bc8"
      },
      "execution_count": 656,
      "outputs": [
        {
          "output_type": "stream",
          "name": "stdout",
          "text": [
            "                            OLS Regression Results                            \n",
            "==============================================================================\n",
            "Dep. Variable:                    cnt   R-squared:                       0.849\n",
            "Model:                            OLS   Adj. R-squared:                  0.843\n",
            "Method:                 Least Squares   F-statistic:                     144.9\n",
            "Date:                Sun, 05 Jun 2022   Prob (F-statistic):          4.37e-187\n",
            "Time:                        00:58:35   Log-Likelihood:                 520.36\n",
            "No. Observations:                 510   AIC:                            -1001.\n",
            "Df Residuals:                     490   BIC:                            -916.0\n",
            "Df Model:                          19                                         \n",
            "Covariance Type:            nonrobust                                         \n",
            "================================================================================\n",
            "                   coef    std err          t      P>|t|      [0.025      0.975]\n",
            "--------------------------------------------------------------------------------\n",
            "const            0.1839      0.029      6.358      0.000       0.127       0.241\n",
            "atemp            0.4489      0.037     12.066      0.000       0.376       0.522\n",
            "hum             -0.1539      0.038     -4.042      0.000      -0.229      -0.079\n",
            "windspeed       -0.1653      0.026     -6.450      0.000      -0.216      -0.115\n",
            "season_2         0.0942      0.022      4.344      0.000       0.052       0.137\n",
            "season_3         0.0721      0.022      3.250      0.001       0.029       0.116\n",
            "season_4         0.1600      0.014     11.202      0.000       0.132       0.188\n",
            "mnth_3           0.0500      0.017      2.961      0.003       0.017       0.083\n",
            "mnth_4           0.0422      0.026      1.636      0.102      -0.008       0.093\n",
            "mnth_5           0.0754      0.026      2.882      0.004       0.024       0.127\n",
            "mnth_6           0.0517      0.022      2.308      0.021       0.008       0.096\n",
            "mnth_8           0.0646      0.018      3.582      0.000       0.029       0.100\n",
            "mnth_9           0.1230      0.017      7.035      0.000       0.089       0.157\n",
            "mnth_10          0.0539      0.017      3.102      0.002       0.020       0.088\n",
            "weathersit_2    -0.0610      0.010     -5.851      0.000      -0.081      -0.041\n",
            "weathersit_3    -0.2509      0.026     -9.513      0.000      -0.303      -0.199\n",
            "weekday_1       -0.0202      0.011     -1.793      0.074      -0.042       0.002\n",
            "weekday_6        0.0580      0.014      4.127      0.000       0.030       0.086\n",
            "yr               0.2336      0.008     29.013      0.000       0.218       0.249\n",
            "workingday       0.0522      0.011      4.789      0.000       0.031       0.074\n",
            "==============================================================================\n",
            "Omnibus:                       87.008   Durbin-Watson:                   2.016\n",
            "Prob(Omnibus):                  0.000   Jarque-Bera (JB):              276.226\n",
            "Skew:                          -0.784   Prob(JB):                     1.04e-60\n",
            "Kurtosis:                       6.246   Cond. No.                         21.9\n",
            "==============================================================================\n",
            "\n",
            "Warnings:\n",
            "[1] Standard Errors assume that the covariance matrix of the errors is correctly specified.\n"
          ]
        }
      ]
    },
    {
      "cell_type": "markdown",
      "source": [
        "*   R- Square and Adjusted R-Square remain same even after one feature drop and F-stat increased.\n",
        "*   Let's drop 'mnth_4'"
      ],
      "metadata": {
        "id": "2uTU19foV7Xm"
      }
    },
    {
      "cell_type": "markdown",
      "source": [
        "## Manual - Model 14"
      ],
      "metadata": {
        "id": "mBBo0sqQUKB1"
      }
    },
    {
      "cell_type": "code",
      "source": [
        "X_train.drop(['mnth_4'],axis=1,inplace=True)\n",
        "lr_all = linear_model(X_train.columns,X_train)"
      ],
      "metadata": {
        "colab": {
          "base_uri": "https://localhost:8080/"
        },
        "id": "ZOhWJcFWSPBO",
        "outputId": "8c36ff6b-eb71-4bdc-ec27-527c3dc463f6"
      },
      "execution_count": 657,
      "outputs": [
        {
          "output_type": "stream",
          "name": "stdout",
          "text": [
            "                            OLS Regression Results                            \n",
            "==============================================================================\n",
            "Dep. Variable:                    cnt   R-squared:                       0.848\n",
            "Model:                            OLS   Adj. R-squared:                  0.842\n",
            "Method:                 Least Squares   F-statistic:                     152.2\n",
            "Date:                Sun, 05 Jun 2022   Prob (F-statistic):          1.32e-187\n",
            "Time:                        00:58:35   Log-Likelihood:                 518.97\n",
            "No. Observations:                 510   AIC:                            -999.9\n",
            "Df Residuals:                     491   BIC:                            -919.5\n",
            "Df Model:                          18                                         \n",
            "Covariance Type:            nonrobust                                         \n",
            "================================================================================\n",
            "                   coef    std err          t      P>|t|      [0.025      0.975]\n",
            "--------------------------------------------------------------------------------\n",
            "const            0.1874      0.029      6.488      0.000       0.131       0.244\n",
            "atemp            0.4545      0.037     12.249      0.000       0.382       0.527\n",
            "hum             -0.1594      0.038     -4.197      0.000      -0.234      -0.085\n",
            "windspeed       -0.1618      0.026     -6.324      0.000      -0.212      -0.112\n",
            "season_2         0.1190      0.015      7.697      0.000       0.089       0.149\n",
            "season_3         0.0715      0.022      3.216      0.001       0.028       0.115\n",
            "season_4         0.1571      0.014     11.065      0.000       0.129       0.185\n",
            "mnth_3           0.0370      0.015      2.479      0.014       0.008       0.066\n",
            "mnth_5           0.0461      0.019      2.413      0.016       0.009       0.084\n",
            "mnth_6           0.0306      0.018      1.668      0.096      -0.005       0.067\n",
            "mnth_8           0.0601      0.018      3.364      0.001       0.025       0.095\n",
            "mnth_9           0.1198      0.017      6.881      0.000       0.086       0.154\n",
            "mnth_10          0.0531      0.017      3.049      0.002       0.019       0.087\n",
            "weathersit_2    -0.0607      0.010     -5.811      0.000      -0.081      -0.040\n",
            "weathersit_3    -0.2501      0.026     -9.469      0.000      -0.302      -0.198\n",
            "weekday_1       -0.0203      0.011     -1.797      0.073      -0.043       0.002\n",
            "weekday_6        0.0575      0.014      4.088      0.000       0.030       0.085\n",
            "yr               0.2339      0.008     29.011      0.000       0.218       0.250\n",
            "workingday       0.0522      0.011      4.783      0.000       0.031       0.074\n",
            "==============================================================================\n",
            "Omnibus:                       88.320   Durbin-Watson:                   2.028\n",
            "Prob(Omnibus):                  0.000   Jarque-Bera (JB):              279.971\n",
            "Skew:                          -0.797   Prob(JB):                     1.60e-61\n",
            "Kurtosis:                       6.261   Cond. No.                         21.6\n",
            "==============================================================================\n",
            "\n",
            "Warnings:\n",
            "[1] Standard Errors assume that the covariance matrix of the errors is correctly specified.\n"
          ]
        }
      ]
    },
    {
      "cell_type": "markdown",
      "source": [
        "*   R- Square and Adjusted R-Square slightly decreased and F-stat increased.\n",
        "*   Let's drop 'mnth_6'"
      ],
      "metadata": {
        "id": "33ZhR7J1WBm_"
      }
    },
    {
      "cell_type": "markdown",
      "source": [
        "## Manual - Model 15"
      ],
      "metadata": {
        "id": "pV47ZBs3ULP3"
      }
    },
    {
      "cell_type": "code",
      "source": [
        "X_train.drop(['mnth_6'],axis=1,inplace=True)\n",
        "lr_all = linear_model(X_train.columns,X_train)"
      ],
      "metadata": {
        "colab": {
          "base_uri": "https://localhost:8080/"
        },
        "id": "y485xdnLSUjQ",
        "outputId": "a6bdfd7a-c50e-4251-ca8c-d925052ad98d"
      },
      "execution_count": 658,
      "outputs": [
        {
          "output_type": "stream",
          "name": "stdout",
          "text": [
            "                            OLS Regression Results                            \n",
            "==============================================================================\n",
            "Dep. Variable:                    cnt   R-squared:                       0.847\n",
            "Model:                            OLS   Adj. R-squared:                  0.842\n",
            "Method:                 Least Squares   F-statistic:                     160.4\n",
            "Date:                Sun, 05 Jun 2022   Prob (F-statistic):          4.06e-188\n",
            "Time:                        00:58:35   Log-Likelihood:                 517.53\n",
            "No. Observations:                 510   AIC:                            -999.1\n",
            "Df Residuals:                     492   BIC:                            -922.8\n",
            "Df Model:                          17                                         \n",
            "Covariance Type:            nonrobust                                         \n",
            "================================================================================\n",
            "                   coef    std err          t      P>|t|      [0.025      0.975]\n",
            "--------------------------------------------------------------------------------\n",
            "const            0.1867      0.029      6.452      0.000       0.130       0.244\n",
            "atemp            0.4753      0.035     13.582      0.000       0.407       0.544\n",
            "hum             -0.1641      0.038     -4.324      0.000      -0.239      -0.090\n",
            "windspeed       -0.1645      0.026     -6.433      0.000      -0.215      -0.114\n",
            "season_2         0.1228      0.015      8.010      0.000       0.093       0.153\n",
            "season_3         0.0674      0.022      3.045      0.002       0.024       0.111\n",
            "season_4         0.1541      0.014     10.923      0.000       0.126       0.182\n",
            "mnth_3           0.0320      0.015      2.188      0.029       0.003       0.061\n",
            "mnth_5           0.0343      0.018      1.930      0.054      -0.001       0.069\n",
            "mnth_8           0.0534      0.017      3.062      0.002       0.019       0.088\n",
            "mnth_9           0.1147      0.017      6.681      0.000       0.081       0.148\n",
            "mnth_10          0.0504      0.017      2.904      0.004       0.016       0.085\n",
            "weathersit_2    -0.0604      0.010     -5.777      0.000      -0.081      -0.040\n",
            "weathersit_3    -0.2497      0.026     -9.436      0.000      -0.302      -0.198\n",
            "weekday_1       -0.0202      0.011     -1.783      0.075      -0.042       0.002\n",
            "weekday_6        0.0579      0.014      4.107      0.000       0.030       0.086\n",
            "yr               0.2331      0.008     28.911      0.000       0.217       0.249\n",
            "workingday       0.0524      0.011      4.791      0.000       0.031       0.074\n",
            "==============================================================================\n",
            "Omnibus:                       87.340   Durbin-Watson:                   2.026\n",
            "Prob(Omnibus):                  0.000   Jarque-Bera (JB):              268.546\n",
            "Skew:                          -0.798   Prob(JB):                     4.85e-59\n",
            "Kurtosis:                       6.177   Cond. No.                         21.5\n",
            "==============================================================================\n",
            "\n",
            "Warnings:\n",
            "[1] Standard Errors assume that the covariance matrix of the errors is correctly specified.\n"
          ]
        }
      ]
    },
    {
      "cell_type": "markdown",
      "source": [
        "## Manual - Model 16"
      ],
      "metadata": {
        "id": "-Ajl_DVZUMnt"
      }
    },
    {
      "cell_type": "code",
      "source": [
        "X_train.drop(['weekday_1'],axis=1,inplace=True)\n",
        "lr_all = linear_model(X_train.columns,X_train)"
      ],
      "metadata": {
        "colab": {
          "base_uri": "https://localhost:8080/"
        },
        "id": "DvuyWnAySZg6",
        "outputId": "4796aa71-037f-4050-b97d-6f92d093be9d"
      },
      "execution_count": 659,
      "outputs": [
        {
          "output_type": "stream",
          "name": "stdout",
          "text": [
            "                            OLS Regression Results                            \n",
            "==============================================================================\n",
            "Dep. Variable:                    cnt   R-squared:                       0.846\n",
            "Model:                            OLS   Adj. R-squared:                  0.841\n",
            "Method:                 Least Squares   F-statistic:                     169.5\n",
            "Date:                Sun, 05 Jun 2022   Prob (F-statistic):          1.48e-188\n",
            "Time:                        00:58:35   Log-Likelihood:                 515.89\n",
            "No. Observations:                 510   AIC:                            -997.8\n",
            "Df Residuals:                     493   BIC:                            -925.8\n",
            "Df Model:                          16                                         \n",
            "Covariance Type:            nonrobust                                         \n",
            "================================================================================\n",
            "                   coef    std err          t      P>|t|      [0.025      0.975]\n",
            "--------------------------------------------------------------------------------\n",
            "const            0.1857      0.029      6.406      0.000       0.129       0.243\n",
            "atemp            0.4773      0.035     13.613      0.000       0.408       0.546\n",
            "hum             -0.1667      0.038     -4.385      0.000      -0.241      -0.092\n",
            "windspeed       -0.1649      0.026     -6.434      0.000      -0.215      -0.115\n",
            "season_2         0.1220      0.015      7.941      0.000       0.092       0.152\n",
            "season_3         0.0669      0.022      3.017      0.003       0.023       0.110\n",
            "season_4         0.1537      0.014     10.868      0.000       0.126       0.181\n",
            "mnth_3           0.0324      0.015      2.210      0.028       0.004       0.061\n",
            "mnth_5           0.0358      0.018      2.011      0.045       0.001       0.071\n",
            "mnth_8           0.0539      0.017      3.088      0.002       0.020       0.088\n",
            "mnth_9           0.1150      0.017      6.679      0.000       0.081       0.149\n",
            "mnth_10          0.0500      0.017      2.871      0.004       0.016       0.084\n",
            "weathersit_2    -0.0600      0.010     -5.730      0.000      -0.081      -0.039\n",
            "weathersit_3    -0.2483      0.027     -9.369      0.000      -0.300      -0.196\n",
            "weekday_6        0.0601      0.014      4.271      0.000       0.032       0.088\n",
            "yr               0.2324      0.008     28.794      0.000       0.217       0.248\n",
            "workingday       0.0507      0.011      4.641      0.000       0.029       0.072\n",
            "==============================================================================\n",
            "Omnibus:                       87.336   Durbin-Watson:                   2.021\n",
            "Prob(Omnibus):                  0.000   Jarque-Bera (JB):              273.047\n",
            "Skew:                          -0.792   Prob(JB):                     5.11e-60\n",
            "Kurtosis:                       6.215   Cond. No.                         21.4\n",
            "==============================================================================\n",
            "\n",
            "Warnings:\n",
            "[1] Standard Errors assume that the covariance matrix of the errors is correctly specified.\n"
          ]
        }
      ]
    },
    {
      "cell_type": "markdown",
      "source": [
        "#### Observations\n",
        "\n",
        "*   Now all feature's p-values are less than significance level of 0.05. Let's calculate the VIF values now.\n"
      ],
      "metadata": {
        "id": "6aI2HMOO2PNZ"
      }
    },
    {
      "cell_type": "code",
      "source": [
        "def get_vif(df):\n",
        "  vif = pd.DataFrame()\n",
        "  vif['features'] = df.columns\n",
        "  vif['VIF'] = [variance_inflation_factor(df.values, i) for i in range(df.shape[1])]\n",
        "  vif['VIF'] = round(vif['VIF'], 2)\n",
        "  vif = vif.sort_values(by = \"VIF\", ascending = False)\n",
        "  print(vif)"
      ],
      "metadata": {
        "id": "Gq3R2haP1wWB"
      },
      "execution_count": 660,
      "outputs": []
    },
    {
      "cell_type": "code",
      "source": [
        "get_vif(X_train)"
      ],
      "metadata": {
        "colab": {
          "base_uri": "https://localhost:8080/"
        },
        "id": "h9BrbO8l2Elc",
        "outputId": "0a0015a4-56cc-495c-accf-da6f19b6f7f3"
      },
      "execution_count": 661,
      "outputs": [
        {
          "output_type": "stream",
          "name": "stdout",
          "text": [
            "        features    VIF\n",
            "0          atemp  23.33\n",
            "1            hum  17.42\n",
            "4       season_3   8.22\n",
            "15    workingday   4.60\n",
            "2      windspeed   3.90\n",
            "3       season_2   3.68\n",
            "5       season_4   3.15\n",
            "11  weathersit_2   2.14\n",
            "14            yr   2.05\n",
            "8         mnth_8   1.86\n",
            "13     weekday_6   1.81\n",
            "7         mnth_5   1.68\n",
            "10       mnth_10   1.64\n",
            "9         mnth_9   1.50\n",
            "6         mnth_3   1.33\n",
            "12  weathersit_3   1.20\n"
          ]
        }
      ]
    },
    {
      "cell_type": "markdown",
      "source": [
        "\n",
        "\n",
        "1.   'atemp' has highest VIF but let's keep that as we saw almost 45% of variance in target can be descrived by this feature. This has highest VIF means this feature can be explained by other independent features in our model. Let's try to remove 'hum' feature.\n",
        "\n"
      ],
      "metadata": {
        "id": "Vo1NEgng2e3e"
      }
    },
    {
      "cell_type": "markdown",
      "source": [
        "## Manual - Model 17"
      ],
      "metadata": {
        "id": "CQfeVf46UQJ3"
      }
    },
    {
      "cell_type": "code",
      "source": [
        "X_train.drop(['hum'],axis=1,inplace=True)\n",
        "lr_all = linear_model(X_train.columns,X_train)"
      ],
      "metadata": {
        "colab": {
          "base_uri": "https://localhost:8080/"
        },
        "id": "g0DeConnvBTn",
        "outputId": "a9dc79b5-6089-4e14-a863-5c303fa3546c"
      },
      "execution_count": 662,
      "outputs": [
        {
          "output_type": "stream",
          "name": "stdout",
          "text": [
            "                            OLS Regression Results                            \n",
            "==============================================================================\n",
            "Dep. Variable:                    cnt   R-squared:                       0.840\n",
            "Model:                            OLS   Adj. R-squared:                  0.835\n",
            "Method:                 Least Squares   F-statistic:                     173.2\n",
            "Date:                Sun, 05 Jun 2022   Prob (F-statistic):          1.31e-185\n",
            "Time:                        00:58:35   Log-Likelihood:                 506.13\n",
            "No. Observations:                 510   AIC:                            -980.3\n",
            "Df Residuals:                     494   BIC:                            -912.5\n",
            "Df Model:                          15                                         \n",
            "Covariance Type:            nonrobust                                         \n",
            "================================================================================\n",
            "                   coef    std err          t      P>|t|      [0.025      0.975]\n",
            "--------------------------------------------------------------------------------\n",
            "const            0.0894      0.019      4.639      0.000       0.052       0.127\n",
            "atemp            0.4441      0.035     12.740      0.000       0.376       0.513\n",
            "windspeed       -0.1348      0.025     -5.360      0.000      -0.184      -0.085\n",
            "season_2         0.1277      0.016      8.195      0.000       0.097       0.158\n",
            "season_3         0.0785      0.022      3.500      0.001       0.034       0.122\n",
            "season_4         0.1496      0.014     10.415      0.000       0.121       0.178\n",
            "mnth_3           0.0338      0.015      2.266      0.024       0.004       0.063\n",
            "mnth_5           0.0259      0.018      1.441      0.150      -0.009       0.061\n",
            "mnth_8           0.0478      0.018      2.697      0.007       0.013       0.083\n",
            "mnth_9           0.1051      0.017      6.050      0.000       0.071       0.139\n",
            "mnth_10          0.0472      0.018      2.667      0.008       0.012       0.082\n",
            "weathersit_2    -0.0863      0.009     -9.856      0.000      -0.103      -0.069\n",
            "weathersit_3    -0.2947      0.025    -11.909      0.000      -0.343      -0.246\n",
            "weekday_6        0.0646      0.014      4.521      0.000       0.037       0.093\n",
            "yr               0.2361      0.008     28.893      0.000       0.220       0.252\n",
            "workingday       0.0535      0.011      4.820      0.000       0.032       0.075\n",
            "==============================================================================\n",
            "Omnibus:                       87.362   Durbin-Watson:                   2.025\n",
            "Prob(Omnibus):                  0.000   Jarque-Bera (JB):              260.522\n",
            "Skew:                          -0.808   Prob(JB):                     2.68e-57\n",
            "Kurtosis:                       6.106   Cond. No.                         16.8\n",
            "==============================================================================\n",
            "\n",
            "Warnings:\n",
            "[1] Standard Errors assume that the covariance matrix of the errors is correctly specified.\n"
          ]
        }
      ]
    },
    {
      "cell_type": "markdown",
      "source": [
        "Let's drop 'mnth_5' now as it's P-value is more now."
      ],
      "metadata": {
        "id": "-_spMUnr3E55"
      }
    },
    {
      "cell_type": "markdown",
      "source": [
        "## Manual - Model 18"
      ],
      "metadata": {
        "id": "M8NlvANSURdC"
      }
    },
    {
      "cell_type": "code",
      "source": [
        "X_train.drop(['mnth_5'],axis=1,inplace=True) \n",
        "lr_all = linear_model(X_train.columns,X_train)\n"
      ],
      "metadata": {
        "colab": {
          "base_uri": "https://localhost:8080/"
        },
        "id": "mOUTTZzyS5hU",
        "outputId": "fa13444a-4112-4c04-d109-6e3c7f7c42bd"
      },
      "execution_count": 663,
      "outputs": [
        {
          "output_type": "stream",
          "name": "stdout",
          "text": [
            "                            OLS Regression Results                            \n",
            "==============================================================================\n",
            "Dep. Variable:                    cnt   R-squared:                       0.840\n",
            "Model:                            OLS   Adj. R-squared:                  0.835\n",
            "Method:                 Least Squares   F-statistic:                     185.0\n",
            "Date:                Sun, 05 Jun 2022   Prob (F-statistic):          2.66e-186\n",
            "Time:                        00:58:35   Log-Likelihood:                 505.06\n",
            "No. Observations:                 510   AIC:                            -980.1\n",
            "Df Residuals:                     495   BIC:                            -916.6\n",
            "Df Model:                          14                                         \n",
            "Covariance Type:            nonrobust                                         \n",
            "================================================================================\n",
            "                   coef    std err          t      P>|t|      [0.025      0.975]\n",
            "--------------------------------------------------------------------------------\n",
            "const            0.0886      0.019      4.592      0.000       0.051       0.126\n",
            "atemp            0.4539      0.034     13.269      0.000       0.387       0.521\n",
            "windspeed       -0.1375      0.025     -5.479      0.000      -0.187      -0.088\n",
            "season_2         0.1333      0.015      8.824      0.000       0.104       0.163\n",
            "season_3         0.0726      0.022      3.290      0.001       0.029       0.116\n",
            "season_4         0.1472      0.014     10.307      0.000       0.119       0.175\n",
            "mnth_3           0.0297      0.015      2.024      0.044       0.001       0.059\n",
            "mnth_8           0.0478      0.018      2.691      0.007       0.013       0.083\n",
            "mnth_9           0.1050      0.017      6.038      0.000       0.071       0.139\n",
            "mnth_10          0.0461      0.018      2.605      0.009       0.011       0.081\n",
            "weathersit_2    -0.0853      0.009     -9.764      0.000      -0.102      -0.068\n",
            "weathersit_3    -0.2946      0.025    -11.891      0.000      -0.343      -0.246\n",
            "weekday_6        0.0642      0.014      4.488      0.000       0.036       0.092\n",
            "yr               0.2354      0.008     28.827      0.000       0.219       0.251\n",
            "workingday       0.0538      0.011      4.846      0.000       0.032       0.076\n",
            "==============================================================================\n",
            "Omnibus:                       84.455   Durbin-Watson:                   2.032\n",
            "Prob(Omnibus):                  0.000   Jarque-Bera (JB):              241.295\n",
            "Skew:                          -0.795   Prob(JB):                     4.01e-53\n",
            "Kurtosis:                       5.971   Cond. No.                         16.6\n",
            "==============================================================================\n",
            "\n",
            "Warnings:\n",
            "[1] Standard Errors assume that the covariance matrix of the errors is correctly specified.\n"
          ]
        }
      ]
    },
    {
      "cell_type": "code",
      "source": [
        "get_vif(X_train)"
      ],
      "metadata": {
        "colab": {
          "base_uri": "https://localhost:8080/"
        },
        "id": "6pZFobcG3Ut8",
        "outputId": "95dab17a-a36f-42cc-a1e8-d8bf36240de0"
      },
      "execution_count": 664,
      "outputs": [
        {
          "output_type": "stream",
          "name": "stdout",
          "text": [
            "        features    VIF\n",
            "0          atemp  15.54\n",
            "3       season_3   7.65\n",
            "13    workingday   4.19\n",
            "1      windspeed   3.60\n",
            "2       season_2   3.39\n",
            "4       season_4   2.98\n",
            "12            yr   2.04\n",
            "6         mnth_8   1.85\n",
            "11     weekday_6   1.73\n",
            "8        mnth_10   1.63\n",
            "9   weathersit_2   1.54\n",
            "7         mnth_9   1.49\n",
            "5         mnth_3   1.28\n",
            "10  weathersit_3   1.11\n"
          ]
        }
      ]
    },
    {
      "cell_type": "markdown",
      "source": [
        ""
      ],
      "metadata": {
        "id": "WDgngRk8WP6e"
      }
    },
    {
      "cell_type": "markdown",
      "source": [
        "1. Now we have mnth_3 P-value which is at edge of significance level and season_3 has VIF-7.65.\n",
        "2. Let's drop mnth_3 "
      ],
      "metadata": {
        "id": "onMBjm2ZWkoT"
      }
    },
    {
      "cell_type": "markdown",
      "source": [
        "## Manual - Model 19"
      ],
      "metadata": {
        "id": "GzWsTPM6UTKT"
      }
    },
    {
      "cell_type": "code",
      "source": [
        "X_train.drop(['mnth_3'],axis=1,inplace=True) \n",
        "lr_all = linear_model(X_train.columns,X_train)"
      ],
      "metadata": {
        "colab": {
          "base_uri": "https://localhost:8080/"
        },
        "id": "GqszNzyGvqNx",
        "outputId": "d4355111-7a6a-4ef1-8c41-e9c1574b0680"
      },
      "execution_count": 665,
      "outputs": [
        {
          "output_type": "stream",
          "name": "stdout",
          "text": [
            "                            OLS Regression Results                            \n",
            "==============================================================================\n",
            "Dep. Variable:                    cnt   R-squared:                       0.838\n",
            "Model:                            OLS   Adj. R-squared:                  0.834\n",
            "Method:                 Least Squares   F-statistic:                     197.7\n",
            "Date:                Sun, 05 Jun 2022   Prob (F-statistic):          1.41e-186\n",
            "Time:                        00:58:36   Log-Likelihood:                 502.96\n",
            "No. Observations:                 510   AIC:                            -977.9\n",
            "Df Residuals:                     496   BIC:                            -918.6\n",
            "Df Model:                          13                                         \n",
            "Covariance Type:            nonrobust                                         \n",
            "================================================================================\n",
            "                   coef    std err          t      P>|t|      [0.025      0.975]\n",
            "--------------------------------------------------------------------------------\n",
            "const            0.0930      0.019      4.839      0.000       0.055       0.131\n",
            "atemp            0.4573      0.034     13.340      0.000       0.390       0.525\n",
            "windspeed       -0.1346      0.025     -5.354      0.000      -0.184      -0.085\n",
            "season_2         0.1290      0.015      8.598      0.000       0.100       0.158\n",
            "season_3         0.0636      0.022      2.932      0.004       0.021       0.106\n",
            "season_4         0.1394      0.014     10.105      0.000       0.112       0.167\n",
            "mnth_8           0.0478      0.018      2.687      0.007       0.013       0.083\n",
            "mnth_9           0.1051      0.017      6.025      0.000       0.071       0.139\n",
            "mnth_10          0.0456      0.018      2.566      0.011       0.011       0.080\n",
            "weathersit_2    -0.0855      0.009     -9.752      0.000      -0.103      -0.068\n",
            "weathersit_3    -0.2924      0.025    -11.778      0.000      -0.341      -0.244\n",
            "weekday_6        0.0657      0.014      4.587      0.000       0.038       0.094\n",
            "yr               0.2354      0.008     28.743      0.000       0.219       0.252\n",
            "workingday       0.0553      0.011      4.968      0.000       0.033       0.077\n",
            "==============================================================================\n",
            "Omnibus:                       81.361   Durbin-Watson:                   2.030\n",
            "Prob(Omnibus):                  0.000   Jarque-Bera (JB):              242.554\n",
            "Skew:                          -0.752   Prob(JB):                     2.14e-53\n",
            "Kurtosis:                       6.025   Cond. No.                         16.4\n",
            "==============================================================================\n",
            "\n",
            "Warnings:\n",
            "[1] Standard Errors assume that the covariance matrix of the errors is correctly specified.\n"
          ]
        }
      ]
    },
    {
      "cell_type": "code",
      "source": [
        "get_vif(X_train)"
      ],
      "metadata": {
        "colab": {
          "base_uri": "https://localhost:8080/"
        },
        "id": "Un7zH1x-W_bh",
        "outputId": "630f80fd-74ae-4a03-99a2-40e37cf78199"
      },
      "execution_count": 666,
      "outputs": [
        {
          "output_type": "stream",
          "name": "stdout",
          "text": [
            "        features    VIF\n",
            "0          atemp  15.27\n",
            "3       season_3   7.27\n",
            "12    workingday   4.13\n",
            "1      windspeed   3.53\n",
            "2       season_2   3.31\n",
            "4       season_4   2.78\n",
            "11            yr   2.04\n",
            "5         mnth_8   1.85\n",
            "10     weekday_6   1.71\n",
            "7        mnth_10   1.63\n",
            "8   weathersit_2   1.54\n",
            "6         mnth_9   1.49\n",
            "9   weathersit_3   1.10\n"
          ]
        }
      ]
    },
    {
      "cell_type": "markdown",
      "source": [
        "#### Drop 'season_3' as it has higher VIF."
      ],
      "metadata": {
        "id": "PH0L_Q9QXE7G"
      }
    },
    {
      "cell_type": "markdown",
      "source": [
        "## Manual - Model 20"
      ],
      "metadata": {
        "id": "0nR89ueyUUlC"
      }
    },
    {
      "cell_type": "code",
      "source": [
        "X_train.drop(['season_3'],axis=1,inplace=True)  \n",
        "lr_all = linear_model(X_train.columns,X_train)"
      ],
      "metadata": {
        "colab": {
          "base_uri": "https://localhost:8080/"
        },
        "id": "LM362h7fwfnj",
        "outputId": "b3a1c8c0-0d06-473a-f7f9-02c03ae16796"
      },
      "execution_count": 667,
      "outputs": [
        {
          "output_type": "stream",
          "name": "stdout",
          "text": [
            "                            OLS Regression Results                            \n",
            "==============================================================================\n",
            "Dep. Variable:                    cnt   R-squared:                       0.835\n",
            "Model:                            OLS   Adj. R-squared:                  0.831\n",
            "Method:                 Least Squares   F-statistic:                     210.2\n",
            "Date:                Sun, 05 Jun 2022   Prob (F-statistic):          6.63e-186\n",
            "Time:                        00:58:36   Log-Likelihood:                 498.58\n",
            "No. Observations:                 510   AIC:                            -971.2\n",
            "Df Residuals:                     497   BIC:                            -916.1\n",
            "Df Model:                          12                                         \n",
            "Covariance Type:            nonrobust                                         \n",
            "================================================================================\n",
            "                   coef    std err          t      P>|t|      [0.025      0.975]\n",
            "--------------------------------------------------------------------------------\n",
            "const            0.0828      0.019      4.346      0.000       0.045       0.120\n",
            "atemp            0.5309      0.024     22.561      0.000       0.485       0.577\n",
            "windspeed       -0.1365      0.025     -5.393      0.000      -0.186      -0.087\n",
            "season_2         0.0993      0.011      8.897      0.000       0.077       0.121\n",
            "season_4         0.1200      0.012      9.838      0.000       0.096       0.144\n",
            "mnth_8           0.0682      0.017      4.133      0.000       0.036       0.101\n",
            "mnth_9           0.1218      0.017      7.331      0.000       0.089       0.154\n",
            "mnth_10          0.0387      0.018      2.181      0.030       0.004       0.074\n",
            "weathersit_2    -0.0860      0.009     -9.740      0.000      -0.103      -0.069\n",
            "weathersit_3    -0.2876      0.025    -11.521      0.000      -0.337      -0.239\n",
            "weekday_6        0.0656      0.014      4.546      0.000       0.037       0.094\n",
            "yr               0.2339      0.008     28.400      0.000       0.218       0.250\n",
            "workingday       0.0553      0.011      4.932      0.000       0.033       0.077\n",
            "==============================================================================\n",
            "Omnibus:                       67.775   Durbin-Watson:                   2.023\n",
            "Prob(Omnibus):                  0.000   Jarque-Bera (JB):              192.466\n",
            "Skew:                          -0.639   Prob(JB):                     1.61e-42\n",
            "Kurtosis:                       5.724   Cond. No.                         12.3\n",
            "==============================================================================\n",
            "\n",
            "Warnings:\n",
            "[1] Standard Errors assume that the covariance matrix of the errors is correctly specified.\n"
          ]
        }
      ]
    },
    {
      "cell_type": "code",
      "source": [
        "get_vif(X_train)"
      ],
      "metadata": {
        "colab": {
          "base_uri": "https://localhost:8080/"
        },
        "id": "3mcdPRWk3nD_",
        "outputId": "afe3dec5-69c8-46c9-c88c-1f4c975a905a"
      },
      "execution_count": 668,
      "outputs": [
        {
          "output_type": "stream",
          "name": "stdout",
          "text": [
            "        features   VIF\n",
            "0          atemp  6.18\n",
            "11    workingday  4.09\n",
            "1      windspeed  3.45\n",
            "10            yr  2.02\n",
            "3       season_4  2.00\n",
            "2       season_2  1.83\n",
            "9      weekday_6  1.70\n",
            "6        mnth_10  1.61\n",
            "4         mnth_8  1.55\n",
            "7   weathersit_2  1.54\n",
            "5         mnth_9  1.33\n",
            "8   weathersit_3  1.10\n"
          ]
        }
      ]
    },
    {
      "cell_type": "markdown",
      "source": [
        "#### Observations\n",
        "\n",
        "Probably this should be our final model now, as we have all features P-values are less than significance level of 0.05 and also VIFs are less."
      ],
      "metadata": {
        "id": "d3UQrGptX493"
      }
    },
    {
      "cell_type": "markdown",
      "source": [
        "# **Final Manual Model**"
      ],
      "metadata": {
        "id": "Lk4E-QF2UbbQ"
      }
    },
    {
      "cell_type": "code",
      "source": [
        "lr_manual_final = linear_model(X_train.columns,X_train)"
      ],
      "metadata": {
        "colab": {
          "base_uri": "https://localhost:8080/"
        },
        "id": "XDcPmW0XxGEO",
        "outputId": "c1d879ef-30af-4d5f-a4bd-58dc62b4ab83"
      },
      "execution_count": 670,
      "outputs": [
        {
          "output_type": "stream",
          "name": "stdout",
          "text": [
            "                            OLS Regression Results                            \n",
            "==============================================================================\n",
            "Dep. Variable:                    cnt   R-squared:                       0.835\n",
            "Model:                            OLS   Adj. R-squared:                  0.831\n",
            "Method:                 Least Squares   F-statistic:                     210.2\n",
            "Date:                Sun, 05 Jun 2022   Prob (F-statistic):          6.63e-186\n",
            "Time:                        00:58:36   Log-Likelihood:                 498.58\n",
            "No. Observations:                 510   AIC:                            -971.2\n",
            "Df Residuals:                     497   BIC:                            -916.1\n",
            "Df Model:                          12                                         \n",
            "Covariance Type:            nonrobust                                         \n",
            "================================================================================\n",
            "                   coef    std err          t      P>|t|      [0.025      0.975]\n",
            "--------------------------------------------------------------------------------\n",
            "const            0.0828      0.019      4.346      0.000       0.045       0.120\n",
            "atemp            0.5309      0.024     22.561      0.000       0.485       0.577\n",
            "windspeed       -0.1365      0.025     -5.393      0.000      -0.186      -0.087\n",
            "season_2         0.0993      0.011      8.897      0.000       0.077       0.121\n",
            "season_4         0.1200      0.012      9.838      0.000       0.096       0.144\n",
            "mnth_8           0.0682      0.017      4.133      0.000       0.036       0.101\n",
            "mnth_9           0.1218      0.017      7.331      0.000       0.089       0.154\n",
            "mnth_10          0.0387      0.018      2.181      0.030       0.004       0.074\n",
            "weathersit_2    -0.0860      0.009     -9.740      0.000      -0.103      -0.069\n",
            "weathersit_3    -0.2876      0.025    -11.521      0.000      -0.337      -0.239\n",
            "weekday_6        0.0656      0.014      4.546      0.000       0.037       0.094\n",
            "yr               0.2339      0.008     28.400      0.000       0.218       0.250\n",
            "workingday       0.0553      0.011      4.932      0.000       0.033       0.077\n",
            "==============================================================================\n",
            "Omnibus:                       67.775   Durbin-Watson:                   2.023\n",
            "Prob(Omnibus):                  0.000   Jarque-Bera (JB):              192.466\n",
            "Skew:                          -0.639   Prob(JB):                     1.61e-42\n",
            "Kurtosis:                       5.724   Cond. No.                         12.3\n",
            "==============================================================================\n",
            "\n",
            "Warnings:\n",
            "[1] Standard Errors assume that the covariance matrix of the errors is correctly specified.\n"
          ]
        }
      ]
    },
    {
      "cell_type": "markdown",
      "source": [
        "## Step 6: Residual Analysis"
      ],
      "metadata": {
        "id": "aSTOAd4U3BKJ"
      }
    },
    {
      "cell_type": "code",
      "source": [
        "X_train_pred = sm.add_constant(X_train)\n",
        "y_train_pred = lr_manual_final.predict(X_train_pred)\n",
        "res = y_train - y_train_pred"
      ],
      "metadata": {
        "id": "7WY8XAPm3EdO"
      },
      "execution_count": 671,
      "outputs": []
    },
    {
      "cell_type": "code",
      "source": [
        "fig = px.histogram(data_frame=res,histnorm='probability')\n",
        "fig.update_xaxes(title={'text':'Error Terms - (y_test - y_predicted)'})\n",
        "fig.update_layout(title={'text':'Error Terms'})\n",
        "fig.show()\n"
      ],
      "metadata": {
        "colab": {
          "base_uri": "https://localhost:8080/",
          "height": 542
        },
        "id": "xCpCpqDX30SQ",
        "outputId": "0b2fd668-2b8e-4ca4-afe4-1979f6e5929a"
      },
      "execution_count": 672,
      "outputs": [
        {
          "output_type": "display_data",
          "data": {
            "text/html": [
              "<html>\n",
              "<head><meta charset=\"utf-8\" /></head>\n",
              "<body>\n",
              "    <div>            <script src=\"https://cdnjs.cloudflare.com/ajax/libs/mathjax/2.7.5/MathJax.js?config=TeX-AMS-MML_SVG\"></script><script type=\"text/javascript\">if (window.MathJax) {MathJax.Hub.Config({SVG: {font: \"STIX-Web\"}});}</script>                <script type=\"text/javascript\">window.PlotlyConfig = {MathJaxConfig: 'local'};</script>\n",
              "        <script src=\"https://cdn.plot.ly/plotly-2.8.3.min.js\"></script>                <div id=\"c85465dc-ccb4-40b1-94e5-1cf6154791e1\" class=\"plotly-graph-div\" style=\"height:525px; width:100%;\"></div>            <script type=\"text/javascript\">                                    window.PLOTLYENV=window.PLOTLYENV || {};                                    if (document.getElementById(\"c85465dc-ccb4-40b1-94e5-1cf6154791e1\")) {                    Plotly.newPlot(                        \"c85465dc-ccb4-40b1-94e5-1cf6154791e1\",                        [{\"alignmentgroup\":\"True\",\"bingroup\":\"x\",\"histnorm\":\"probability\",\"hovertemplate\":\"variable=0<br>value=%{x}<br>probability=%{y}<extra></extra>\",\"legendgroup\":\"0\",\"marker\":{\"color\":\"#636efa\",\"pattern\":{\"shape\":\"\"}},\"name\":\"0\",\"offsetgroup\":\"0\",\"orientation\":\"v\",\"showlegend\":true,\"x\":[0.1085662507335502,0.08498713731762675,-0.029244828490967545,-0.12842857810713348,-0.09491413369193819,-0.07751394376896156,-0.07325461761292085,0.043618453375177446,-0.011192647782103049,-0.11193502175074665,0.1649127957968104,0.09746040834353387,-0.00100647930765968,-0.009319179722583115,0.029721866862745472,0.09833172536731905,-0.13062118370587583,0.09711370280449971,0.1415207367843242,-0.02911520569219961,-0.0008426535958542258,0.041341965151750704,0.008834891500126951,0.013251518701189346,0.08371906259289208,-0.058723318424407034,0.06926836603225134,0.02947665127145571,0.09211769039560735,0.0032785030872966026,0.004307053337249345,0.11068904573717053,-0.25015010335711235,0.09712818345892116,0.0839510785809463,-0.0063422037012038635,-0.20110060427508922,-0.03686968135649171,-0.04152174920952911,-0.07739564714983038,0.037884658663356885,0.012498056866826424,-0.21797389396627292,-0.012007870883811694,-0.11574161531549165,-0.016507904561688935,0.012080535481527543,-0.002450148248830941,0.044320856281743204,0.03927734326881871,-0.009727376559024337,0.008510949869928841,-0.08565001972273156,-0.009156070281579831,0.06367349440389469,0.028745548406195254,0.001898043550777051,0.05486520489621116,-0.2982273226094372,0.056173344460159536,0.023610430198670873,0.0524359321288107,0.027333468200945843,0.060866776167664005,0.11813630615996629,-0.06887155510633769,-0.08915675938167056,-0.002683162549289242,-0.17838087393967378,-0.025176292417988022,-0.12088012685968141,0.0625517692850544,0.11595956609453728,0.002940179940161075,0.06865054077551824,-0.09043941123025678,-0.04935817609148613,-0.16143540252965272,-0.057996077683562186,-0.04256000628264828,0.11745116709539627,-0.03208742137633824,-0.023034828711823552,0.021000790449177076,0.06396452216427007,-0.06562289757488082,0.008348852142089302,-0.05603233775294725,-0.038397342691851244,-0.09921515830788127,0.06582503095278647,-0.018998007091221014,0.055325349616616615,0.016082779539759895,-0.010505814177224182,0.06315322087533638,-0.04069047726981431,0.021440088516097244,-0.03853005656060038,0.048473186845652605,0.0039053463847616154,-0.16470028092556022,-0.10544221689443045,0.02340302452130144,0.03571963731675332,-0.09921745233427437,0.0932799416990005,0.03811589915174163,-0.0015005839174113689,0.08175623637714113,0.026531624394726783,0.008625454678769406,-0.024568856347838786,-0.038003983254498136,-0.05606579376542553,0.021382507619228885,-0.009087348539333268,-0.08379426740959828,-0.04431759364891824,-0.006787077937643493,0.011621613803500908,0.02929656554231569,0.05028037366108401,0.07331916741954825,0.25531773648408485,0.007862418143111838,0.060458469762503464,-0.05072101521610006,0.02504557000122709,0.0919548523127674,0.053334288444535596,0.03230441768353798,-0.02781601747744511,-0.060784367833453035,0.03113105592313975,0.012271384609526814,-0.08689657876779489,-0.019682366472498714,0.051774424657513085,-0.0850095408537685,-0.08227075327553396,0.004288095981658913,-0.10533081576222753,0.010479302932402623,0.059119165604817225,-0.0135098734366762,0.012491875098572858,0.013700501658756858,-0.03958374539735576,-0.032161086356016444,0.06029412092064457,0.022756689511643863,-0.40147986228776267,-0.027990040522374193,0.05801324458253643,-0.035448255537359474,-0.055733404120365426,0.12647987615675838,-0.06297619083903006,-0.0033995450436196117,0.0739032369474949,0.039252198246562675,0.009802495324269411,-0.00343317354143452,-0.12801242885352593,0.026606603484882196,0.01439494517525175,-0.12431600825573019,-0.008627948914404882,-0.028714420925292444,-0.08708275763095066,0.04022438699244624,0.13927056559978968,0.07936676887734351,-0.08930064578482999,0.32590365359004925,-0.053272992940879865,0.0015422910073575324,0.028558605536502524,0.03799677624967768,0.12387496636280204,-0.2242665055818308,0.07423039956195387,0.01461764291591483,-0.12357823736015072,0.11130934380229812,-1.7961116766690433e-05,0.07088472550544489,-0.09097075766963833,-0.1128248430273211,-0.07712787267420312,-0.19656039544273657,0.1284984452531116,0.019664655191706182,-0.12139784486755073,0.023424049792337254,0.024323806113348723,-0.07285848881731821,-0.08658007225536857,-0.005354288712390465,-0.05000431342169229,0.07104563096118088,0.0007884737917611684,0.03397316209146484,0.024637970901994155,0.06441321322261506,-0.16938313565521934,0.024089591980814506,0.01924952460620752,-0.04145940473799188,0.048443000966472916,0.06391420915708934,-0.0006197285018155196,-0.04306446966020716,-0.15393155533317157,-0.10290841464669093,-0.12802895782961177,0.07442952839757844,0.20290914690844564,-0.15199305126741014,-0.01872011681098762,0.077656499806317,-0.1270484157851995,-0.1859287701600926,0.06689104663731738,0.10315223197936818,0.08669448298075977,-0.016307727436266295,0.037068338003441614,0.013902771358080601,-0.016322468077196395,-0.14010649888162122,-0.14034629650761854,-0.038146335355999095,-0.11507841483495662,0.004104525339270193,-0.05160480637532017,0.06389118393394744,-0.15753530502055313,0.08049754167666223,-0.024846887747590474,0.07550503140588949,0.09880027622091536,-0.09292399822632497,0.04547823641374915,-0.02803845458984,0.156461748854278,0.05812935310354833,0.07256010092709786,-0.0035714206367009615,0.08911984354652225,0.09682414277037604,0.06700108183042341,0.029484332362032184,-0.25512222924886097,0.07003184528797746,-0.2529422125609483,0.06007473775140204,-0.008296016487846947,-0.11589797407597313,0.018479209807950564,-0.13264929552995164,-0.0473102204500474,0.014933214440594478,-0.07325984693068,0.13273075698258952,-0.001407464948539383,0.018906772931695404,0.07088307854893527,0.03583756571347893,-0.01818450901048918,-0.0023406367091355906,0.08617552682182517,0.07931833275463507,-0.06646460334166576,-0.2629613230139486,0.012598448673541984,-0.02236886578591124,0.07723290543203101,-0.0053029174591477934,0.1328318794609048,-0.09562458478312336,-0.003957335072245272,-0.04372616577690991,0.044908168134523585,-0.06327859945683012,-0.03620112867866343,-0.0492608824087587,0.05321546001740923,-0.14042187125348782,-0.015614671939760405,0.11121730264955265,0.054585241088951575,0.15282928312348332,0.06935787922696246,-0.16800170479583865,0.02320488065975329,0.02486310478608239,0.12764231271227855,-0.13195840713934226,0.016128929919577817,-0.0051094055208771305,0.021529158364497814,0.1378248037215608,-0.11970084292907601,0.05149704249124257,0.025977751095842327,0.030689624388304693,0.0329211089089555,-0.14460375569024592,-0.009740612373301705,0.03843823674293101,0.13483514705025945,-0.01300995231926827,-0.017440413263693055,0.14529931175898814,-0.013753788269131761,-0.058554270832229915,-0.04065160595867445,0.06458526217924743,0.013170562457455737,0.006294630936073298,-0.3388310232659,-0.03305253116598417,0.05002001176358545,0.14920819626733484,0.11815688600301189,-0.013295383584902731,-0.1537623514632065,0.02718235655572565,-0.0032819336829674473,-0.0023266720785332096,0.015893752896951885,0.03649886251129009,0.05084922711686757,0.03167077287801706,-0.025160967694108444,0.09752831984741916,-0.020154590960379082,0.05560427033767695,0.14051465304988142,0.098145184407397,0.10728563886069853,-0.02632401231139564,0.19867793052709692,-0.05386311791272447,0.17954248991970512,0.04945394100382561,-0.008180060280645551,-0.3462304864125875,-0.008487153244759793,-0.01652173900492737,-0.05572297913255181,0.0005857566000261327,0.08049341549390954,0.013375232148700775,0.00532688179226648,-0.04630934734076436,0.1150897987118421,-0.05790982354116275,-0.013830039607780509,-0.017442702042187674,0.07404656923419739,0.04422345776665973,0.32129480915023345,-0.05064664073532851,-0.06496805411543438,-0.0567572670462001,-0.04540018047749472,-0.04889740571785428,0.05335721846678532,0.0570741548949707,0.017697749726230505,0.05241648869441562,-0.0961426954595383,-0.14199837847496732,-0.032330002592610985,0.04276106017105796,-0.035269287340647604,-0.005194078608543123,-0.16300996634818535,-0.08615202929600307,0.03333458098652742,-0.018179152437686752,0.06284153566386533,0.01879010843075568,0.018403159570666516,0.001256448987105696,-0.0034385525788946936,-0.020901563419583713,0.025820084165621204,-0.10106170543867876,0.09528744479745488,0.0017964415471517503,0.10535097917625014,0.007902596295718878,-9.557946303895282e-05,0.09098122304145295,-0.020701840524865456,-0.09690797692309616,0.07056343860176953,0.006283946030537946,0.01166560982041387,0.09219945990535715,0.004534303848114873,0.1686114472685844,-0.0410480890495305,-0.02796948905503338,-0.012899444966589235,-0.018147038598008924,-0.05777165851482188,-0.05476147045864671,0.09320704339376829,0.037588208226752184,0.0008838535796423796,0.1326257664989423,0.09583060480471578,-0.04609860195597171,0.05325058439546959,0.014126323955267972,0.0696725980721361,0.02524932746743158,-0.05137105520156984,-0.06129708298760611,0.03216847907467113,0.25377213222720607,0.189574100824909,-0.03508000351226581,-0.05697341722143123,0.1330708285992936,-0.07970413877105109,0.10339428708601506,-0.024685010682180708,-0.026578549350681935,0.10624496112601112,-0.06706027954922716,-0.019100558768517795,-0.06838563781626922,-0.10294197266086891,0.04621943265970688,-0.017526491397293315,0.14709942710605284,0.1511379339863791,0.033098511634513716,0.08423887250317019,0.10380796710779594,0.04096547519372018,-0.034566792024426085,-0.11940756941650416,0.11886382866374712,0.03582841073952414,0.053337693776317474,0.03201749050525876,0.1279191733785724,-0.009368920141917925,-0.028571335970975525,-0.1152139673175056,0.025481141882580327,0.08046207666682448,-0.07076451214167834,0.06949026411126312,-0.021844601799846153,-0.052134593476883956,0.08595062104290846,0.08067399479742454,-0.03990579259413418,0.09205494504121792,-0.1034173098642881,0.04583059066229844,-0.0643911546255993,0.04490719842565233,-0.012293771357441141,0.135283736171246,-0.05142065842496263,-0.11125246549000128,-0.2948094948200799,0.015794673683886984,0.09465975134287274,0.02669709532659839,-0.06986473184271552,0.00768674059022334,0.09383780355973093,-0.0018031047070397876,-0.0008288002427466745,-0.03685102970216575,0.022604663400913272,0.05141263570099486,-0.04393132173827105,-0.0882476552931446,-0.022693767969006018,-0.018731078943447915,-0.07436496126571635,0.03728533028885861,-0.03983656613199099,-0.4318931819585379,-0.017562385338755315,-0.0811181321553216,-0.10400804704668187,0.1144483659938279,-0.11744068162031474,0.20106613964758124,0.04765362632066106,-0.048479694476027624,0.1716804333374904,0.010997263957235548,0.022782222287756393,-0.01944790012643771,-0.02095888988192629,0.07044525336441385,-0.07302006273434261],\"xaxis\":\"x\",\"yaxis\":\"y\",\"type\":\"histogram\"}],                        {\"template\":{\"data\":{\"bar\":[{\"error_x\":{\"color\":\"#2a3f5f\"},\"error_y\":{\"color\":\"#2a3f5f\"},\"marker\":{\"line\":{\"color\":\"#E5ECF6\",\"width\":0.5},\"pattern\":{\"fillmode\":\"overlay\",\"size\":10,\"solidity\":0.2}},\"type\":\"bar\"}],\"barpolar\":[{\"marker\":{\"line\":{\"color\":\"#E5ECF6\",\"width\":0.5},\"pattern\":{\"fillmode\":\"overlay\",\"size\":10,\"solidity\":0.2}},\"type\":\"barpolar\"}],\"carpet\":[{\"aaxis\":{\"endlinecolor\":\"#2a3f5f\",\"gridcolor\":\"white\",\"linecolor\":\"white\",\"minorgridcolor\":\"white\",\"startlinecolor\":\"#2a3f5f\"},\"baxis\":{\"endlinecolor\":\"#2a3f5f\",\"gridcolor\":\"white\",\"linecolor\":\"white\",\"minorgridcolor\":\"white\",\"startlinecolor\":\"#2a3f5f\"},\"type\":\"carpet\"}],\"choropleth\":[{\"colorbar\":{\"outlinewidth\":0,\"ticks\":\"\"},\"type\":\"choropleth\"}],\"contour\":[{\"colorbar\":{\"outlinewidth\":0,\"ticks\":\"\"},\"colorscale\":[[0.0,\"#0d0887\"],[0.1111111111111111,\"#46039f\"],[0.2222222222222222,\"#7201a8\"],[0.3333333333333333,\"#9c179e\"],[0.4444444444444444,\"#bd3786\"],[0.5555555555555556,\"#d8576b\"],[0.6666666666666666,\"#ed7953\"],[0.7777777777777778,\"#fb9f3a\"],[0.8888888888888888,\"#fdca26\"],[1.0,\"#f0f921\"]],\"type\":\"contour\"}],\"contourcarpet\":[{\"colorbar\":{\"outlinewidth\":0,\"ticks\":\"\"},\"type\":\"contourcarpet\"}],\"heatmap\":[{\"colorbar\":{\"outlinewidth\":0,\"ticks\":\"\"},\"colorscale\":[[0.0,\"#0d0887\"],[0.1111111111111111,\"#46039f\"],[0.2222222222222222,\"#7201a8\"],[0.3333333333333333,\"#9c179e\"],[0.4444444444444444,\"#bd3786\"],[0.5555555555555556,\"#d8576b\"],[0.6666666666666666,\"#ed7953\"],[0.7777777777777778,\"#fb9f3a\"],[0.8888888888888888,\"#fdca26\"],[1.0,\"#f0f921\"]],\"type\":\"heatmap\"}],\"heatmapgl\":[{\"colorbar\":{\"outlinewidth\":0,\"ticks\":\"\"},\"colorscale\":[[0.0,\"#0d0887\"],[0.1111111111111111,\"#46039f\"],[0.2222222222222222,\"#7201a8\"],[0.3333333333333333,\"#9c179e\"],[0.4444444444444444,\"#bd3786\"],[0.5555555555555556,\"#d8576b\"],[0.6666666666666666,\"#ed7953\"],[0.7777777777777778,\"#fb9f3a\"],[0.8888888888888888,\"#fdca26\"],[1.0,\"#f0f921\"]],\"type\":\"heatmapgl\"}],\"histogram\":[{\"marker\":{\"pattern\":{\"fillmode\":\"overlay\",\"size\":10,\"solidity\":0.2}},\"type\":\"histogram\"}],\"histogram2d\":[{\"colorbar\":{\"outlinewidth\":0,\"ticks\":\"\"},\"colorscale\":[[0.0,\"#0d0887\"],[0.1111111111111111,\"#46039f\"],[0.2222222222222222,\"#7201a8\"],[0.3333333333333333,\"#9c179e\"],[0.4444444444444444,\"#bd3786\"],[0.5555555555555556,\"#d8576b\"],[0.6666666666666666,\"#ed7953\"],[0.7777777777777778,\"#fb9f3a\"],[0.8888888888888888,\"#fdca26\"],[1.0,\"#f0f921\"]],\"type\":\"histogram2d\"}],\"histogram2dcontour\":[{\"colorbar\":{\"outlinewidth\":0,\"ticks\":\"\"},\"colorscale\":[[0.0,\"#0d0887\"],[0.1111111111111111,\"#46039f\"],[0.2222222222222222,\"#7201a8\"],[0.3333333333333333,\"#9c179e\"],[0.4444444444444444,\"#bd3786\"],[0.5555555555555556,\"#d8576b\"],[0.6666666666666666,\"#ed7953\"],[0.7777777777777778,\"#fb9f3a\"],[0.8888888888888888,\"#fdca26\"],[1.0,\"#f0f921\"]],\"type\":\"histogram2dcontour\"}],\"mesh3d\":[{\"colorbar\":{\"outlinewidth\":0,\"ticks\":\"\"},\"type\":\"mesh3d\"}],\"parcoords\":[{\"line\":{\"colorbar\":{\"outlinewidth\":0,\"ticks\":\"\"}},\"type\":\"parcoords\"}],\"pie\":[{\"automargin\":true,\"type\":\"pie\"}],\"scatter\":[{\"marker\":{\"colorbar\":{\"outlinewidth\":0,\"ticks\":\"\"}},\"type\":\"scatter\"}],\"scatter3d\":[{\"line\":{\"colorbar\":{\"outlinewidth\":0,\"ticks\":\"\"}},\"marker\":{\"colorbar\":{\"outlinewidth\":0,\"ticks\":\"\"}},\"type\":\"scatter3d\"}],\"scattercarpet\":[{\"marker\":{\"colorbar\":{\"outlinewidth\":0,\"ticks\":\"\"}},\"type\":\"scattercarpet\"}],\"scattergeo\":[{\"marker\":{\"colorbar\":{\"outlinewidth\":0,\"ticks\":\"\"}},\"type\":\"scattergeo\"}],\"scattergl\":[{\"marker\":{\"colorbar\":{\"outlinewidth\":0,\"ticks\":\"\"}},\"type\":\"scattergl\"}],\"scattermapbox\":[{\"marker\":{\"colorbar\":{\"outlinewidth\":0,\"ticks\":\"\"}},\"type\":\"scattermapbox\"}],\"scatterpolar\":[{\"marker\":{\"colorbar\":{\"outlinewidth\":0,\"ticks\":\"\"}},\"type\":\"scatterpolar\"}],\"scatterpolargl\":[{\"marker\":{\"colorbar\":{\"outlinewidth\":0,\"ticks\":\"\"}},\"type\":\"scatterpolargl\"}],\"scatterternary\":[{\"marker\":{\"colorbar\":{\"outlinewidth\":0,\"ticks\":\"\"}},\"type\":\"scatterternary\"}],\"surface\":[{\"colorbar\":{\"outlinewidth\":0,\"ticks\":\"\"},\"colorscale\":[[0.0,\"#0d0887\"],[0.1111111111111111,\"#46039f\"],[0.2222222222222222,\"#7201a8\"],[0.3333333333333333,\"#9c179e\"],[0.4444444444444444,\"#bd3786\"],[0.5555555555555556,\"#d8576b\"],[0.6666666666666666,\"#ed7953\"],[0.7777777777777778,\"#fb9f3a\"],[0.8888888888888888,\"#fdca26\"],[1.0,\"#f0f921\"]],\"type\":\"surface\"}],\"table\":[{\"cells\":{\"fill\":{\"color\":\"#EBF0F8\"},\"line\":{\"color\":\"white\"}},\"header\":{\"fill\":{\"color\":\"#C8D4E3\"},\"line\":{\"color\":\"white\"}},\"type\":\"table\"}]},\"layout\":{\"annotationdefaults\":{\"arrowcolor\":\"#2a3f5f\",\"arrowhead\":0,\"arrowwidth\":1},\"autotypenumbers\":\"strict\",\"coloraxis\":{\"colorbar\":{\"outlinewidth\":0,\"ticks\":\"\"}},\"colorscale\":{\"diverging\":[[0,\"#8e0152\"],[0.1,\"#c51b7d\"],[0.2,\"#de77ae\"],[0.3,\"#f1b6da\"],[0.4,\"#fde0ef\"],[0.5,\"#f7f7f7\"],[0.6,\"#e6f5d0\"],[0.7,\"#b8e186\"],[0.8,\"#7fbc41\"],[0.9,\"#4d9221\"],[1,\"#276419\"]],\"sequential\":[[0.0,\"#0d0887\"],[0.1111111111111111,\"#46039f\"],[0.2222222222222222,\"#7201a8\"],[0.3333333333333333,\"#9c179e\"],[0.4444444444444444,\"#bd3786\"],[0.5555555555555556,\"#d8576b\"],[0.6666666666666666,\"#ed7953\"],[0.7777777777777778,\"#fb9f3a\"],[0.8888888888888888,\"#fdca26\"],[1.0,\"#f0f921\"]],\"sequentialminus\":[[0.0,\"#0d0887\"],[0.1111111111111111,\"#46039f\"],[0.2222222222222222,\"#7201a8\"],[0.3333333333333333,\"#9c179e\"],[0.4444444444444444,\"#bd3786\"],[0.5555555555555556,\"#d8576b\"],[0.6666666666666666,\"#ed7953\"],[0.7777777777777778,\"#fb9f3a\"],[0.8888888888888888,\"#fdca26\"],[1.0,\"#f0f921\"]]},\"colorway\":[\"#636efa\",\"#EF553B\",\"#00cc96\",\"#ab63fa\",\"#FFA15A\",\"#19d3f3\",\"#FF6692\",\"#B6E880\",\"#FF97FF\",\"#FECB52\"],\"font\":{\"color\":\"#2a3f5f\"},\"geo\":{\"bgcolor\":\"white\",\"lakecolor\":\"white\",\"landcolor\":\"#E5ECF6\",\"showlakes\":true,\"showland\":true,\"subunitcolor\":\"white\"},\"hoverlabel\":{\"align\":\"left\"},\"hovermode\":\"closest\",\"mapbox\":{\"style\":\"light\"},\"paper_bgcolor\":\"white\",\"plot_bgcolor\":\"#E5ECF6\",\"polar\":{\"angularaxis\":{\"gridcolor\":\"white\",\"linecolor\":\"white\",\"ticks\":\"\"},\"bgcolor\":\"#E5ECF6\",\"radialaxis\":{\"gridcolor\":\"white\",\"linecolor\":\"white\",\"ticks\":\"\"}},\"scene\":{\"xaxis\":{\"backgroundcolor\":\"#E5ECF6\",\"gridcolor\":\"white\",\"gridwidth\":2,\"linecolor\":\"white\",\"showbackground\":true,\"ticks\":\"\",\"zerolinecolor\":\"white\"},\"yaxis\":{\"backgroundcolor\":\"#E5ECF6\",\"gridcolor\":\"white\",\"gridwidth\":2,\"linecolor\":\"white\",\"showbackground\":true,\"ticks\":\"\",\"zerolinecolor\":\"white\"},\"zaxis\":{\"backgroundcolor\":\"#E5ECF6\",\"gridcolor\":\"white\",\"gridwidth\":2,\"linecolor\":\"white\",\"showbackground\":true,\"ticks\":\"\",\"zerolinecolor\":\"white\"}},\"shapedefaults\":{\"line\":{\"color\":\"#2a3f5f\"}},\"ternary\":{\"aaxis\":{\"gridcolor\":\"white\",\"linecolor\":\"white\",\"ticks\":\"\"},\"baxis\":{\"gridcolor\":\"white\",\"linecolor\":\"white\",\"ticks\":\"\"},\"bgcolor\":\"#E5ECF6\",\"caxis\":{\"gridcolor\":\"white\",\"linecolor\":\"white\",\"ticks\":\"\"}},\"title\":{\"x\":0.05},\"xaxis\":{\"automargin\":true,\"gridcolor\":\"white\",\"linecolor\":\"white\",\"ticks\":\"\",\"title\":{\"standoff\":15},\"zerolinecolor\":\"white\",\"zerolinewidth\":2},\"yaxis\":{\"automargin\":true,\"gridcolor\":\"white\",\"linecolor\":\"white\",\"ticks\":\"\",\"title\":{\"standoff\":15},\"zerolinecolor\":\"white\",\"zerolinewidth\":2}}},\"xaxis\":{\"anchor\":\"y\",\"domain\":[0.0,1.0],\"title\":{\"text\":\"Error Terms - (y_test - y_predicted)\"}},\"yaxis\":{\"anchor\":\"x\",\"domain\":[0.0,1.0],\"title\":{\"text\":\"probability\"}},\"legend\":{\"title\":{\"text\":\"variable\"},\"tracegroupgap\":0},\"margin\":{\"t\":60},\"barmode\":\"relative\",\"title\":{\"text\":\"Error Terms\"}},                        {\"responsive\": true}                    ).then(function(){\n",
              "                            \n",
              "var gd = document.getElementById('c85465dc-ccb4-40b1-94e5-1cf6154791e1');\n",
              "var x = new MutationObserver(function (mutations, observer) {{\n",
              "        var display = window.getComputedStyle(gd).display;\n",
              "        if (!display || display === 'none') {{\n",
              "            console.log([gd, 'removed!']);\n",
              "            Plotly.purge(gd);\n",
              "            observer.disconnect();\n",
              "        }}\n",
              "}});\n",
              "\n",
              "// Listen for the removal of the full notebook cells\n",
              "var notebookContainer = gd.closest('#notebook-container');\n",
              "if (notebookContainer) {{\n",
              "    x.observe(notebookContainer, {childList: true});\n",
              "}}\n",
              "\n",
              "// Listen for the clearing of the current output cell\n",
              "var outputEl = gd.closest('.output');\n",
              "if (outputEl) {{\n",
              "    x.observe(outputEl, {childList: true});\n",
              "}}\n",
              "\n",
              "                        })                };                            </script>        </div>\n",
              "</body>\n",
              "</html>"
            ]
          },
          "metadata": {}
        }
      ]
    },
    {
      "cell_type": "markdown",
      "source": [
        "#### Observations\n",
        "\n",
        "*   Assumptions of Linear regression model is Error terms should be normally distributed and we saw that our model has almost mean of zero and normally distributed. \n",
        "*   And also there is no multicollinality as we have all features in final model have less VIF.\n",
        "\n",
        "\n",
        "\n",
        "\n",
        "\n"
      ],
      "metadata": {
        "id": "EuUDyRkW5k1f"
      }
    },
    {
      "cell_type": "code",
      "source": [
        "px.scatter(x=y_train,y=y_train_pred)"
      ],
      "metadata": {
        "colab": {
          "base_uri": "https://localhost:8080/",
          "height": 542
        },
        "id": "ZMxQ713D43ME",
        "outputId": "019ce06b-11dc-440e-8059-3389a5db974b"
      },
      "execution_count": 673,
      "outputs": [
        {
          "output_type": "display_data",
          "data": {
            "text/html": [
              "<html>\n",
              "<head><meta charset=\"utf-8\" /></head>\n",
              "<body>\n",
              "    <div>            <script src=\"https://cdnjs.cloudflare.com/ajax/libs/mathjax/2.7.5/MathJax.js?config=TeX-AMS-MML_SVG\"></script><script type=\"text/javascript\">if (window.MathJax) {MathJax.Hub.Config({SVG: {font: \"STIX-Web\"}});}</script>                <script type=\"text/javascript\">window.PlotlyConfig = {MathJaxConfig: 'local'};</script>\n",
              "        <script src=\"https://cdn.plot.ly/plotly-2.8.3.min.js\"></script>                <div id=\"14599f58-4418-4175-b1b6-e794ba54d61b\" class=\"plotly-graph-div\" style=\"height:525px; width:100%;\"></div>            <script type=\"text/javascript\">                                    window.PLOTLYENV=window.PLOTLYENV || {};                                    if (document.getElementById(\"14599f58-4418-4175-b1b6-e794ba54d61b\")) {                    Plotly.newPlot(                        \"14599f58-4418-4175-b1b6-e794ba54d61b\",                        [{\"hovertemplate\":\"x=%{x}<br>y=%{y}<extra></extra>\",\"legendgroup\":\"\",\"marker\":{\"color\":\"#636efa\",\"symbol\":\"circle\"},\"mode\":\"markers\",\"name\":\"\",\"orientation\":\"v\",\"showlegend\":false,\"x\":[0.8642429820524621,0.8276576161988035,0.46525540727105386,0.20409572020248506,0.4829728485964105,0.19109526000920388,0.7825586746433503,0.8515876668200645,0.7103083294983893,0.4998849516797055,0.6924758398527382,0.9817073170731707,0.47491946617579384,0.737919926369075,0.541302346985734,0.8856419696272435,0.5208237459733088,0.6653244362632306,0.7147952139898758,0.5105844454670961,0.594684767602393,0.645651173492867,0.8094799815922687,0.6026231017027152,0.3487114588127013,0.7826737229636448,0.4718131615278417,0.7988955361251726,0.8361711919005983,0.5255407271053842,0.3912793373216751,0.5774275195582145,0.3854118729866544,0.5164519098021169,0.5716751035434883,0.5738610216290843,0.1694661757938334,0.5008053382420616,0.7779567418315693,0.6658996778647032,0.6158536585365854,0.4688219052001841,0.26138978370915783,0.13598711458812704,0.621491026231017,0.5311780947998159,0.7303267372296365,0.7832489645651174,0.7187068568798896,0.8427289461573861,0.5306028531983433,0.8034974689369535,0.4723884031293143,0.5036815462494247,0.6728025770823746,0.6120570639668661,0.7672572480441786,0.5961803957662218,0.5543028071790151,0.7612747353888634,0.3613667740450989,0.4653704555913484,0.6385181776346065,0.3034974689369535,0.6303497468936954,0.711113667740451,0.5827197422917626,0.4752646111366774,0.332604693971468,0.6913253566497929,0.6916705016106764,0.4262540266912103,0.9023239760699494,0.13173032673722965,0.5885872066267832,0.35883571099861944,0.18223653934652556,0.44696272434422457,0.5199033594109526,0.43200644270593647,0.5391164289001381,0.43085595950299127,0.37057063966866083,0.2754256787850897,0.17303267372296366,0.35078232857800273,0.49263690750115047,0.5025310630464795,0.2846295444086516,0.19443166129774506,0.1711919005982513,0.4184307409111827,0.8445697192820985,0.6369075011504832,0.6213759779107225,0.12482742751955822,0.1489875747814082,0.5861711919005983,0.4753796594569719,0.3829958582604694,0.20651173492867006,0.368844914864243,0.08421537045559135,0.25368154624942474,0.8459502991256328,0.7115738610216291,0.22112287160607458,0.20593649332719743,0.5257708237459733,0.7877358490566038,0.8825356649792914,0.5367004141739531,0.25655775425678784,0.08962264150943397,0.5921537045559135,0.371260929590428,0.18028071790151864,0.5895075931891395,0.2822135296824666,0.3782788771283939,0.4981592268752876,0.16037735849056606,0.4359180855959503,0.17498849516797058,0.8499769903359411,0.6025080533824206,0.4131385181776346,0.5454440865163369,0.5500460193281178,0.5590197883110907,0.10780027611596871,0.5601702715140359,0.24286700414173956,0.4049700874367234,0.1872986654394846,0.6564657156005522,0.5841003221352968,0.4684767602393005,0.46226415094339623,0.41141279337321673,0.3117809479981592,0.4712379199263691,0.39196962724344225,0.5323285780027611,0.7211228716060746,0.6098711458812701,0.5465945697192821,0.1655545329038196,0.4966635987114588,0.5357800276115968,0.8724114127933732,0.19132535664979292,0.0,0.7146801656695813,0.3504371836171192,0.33271974229176254,0.7072020248504371,0.8538886332259549,0.4430510814542108,0.5322135296824666,0.7893465255407272,0.7888863322595491,0.38069489185457894,0.45467096180395766,0.28428439944776807,0.8564196962724344,0.5793833410032213,0.5401518637827888,0.4081914404049701,0.1130924988495168,0.12379199263690752,0.7142199723884032,0.5212839392544869,0.6239070409572021,0.5249654855039116,0.8989875747814082,0.2271053842613898,0.4139438564196963,0.38897837091578463,0.17579383341003224,0.5985964104924069,0.4722733548090198,0.890819144040497,0.8430740911182697,0.3504371836171192,0.5767372296364474,0.11033133916244822,0.8342153704555914,0.17418315692590888,0.667395306028532,0.2618499769903359,0.4012885411872987,0.8697653014265992,0.3984123331799356,0.4352277956741832,0.7879659456971928,0.6396686608375518,0.4423607915324436,0.36493327197422915,0.49470777726645193,0.0785780027611597,0.8229406350667281,0.5658076392084675,0.45075931891394383,0.5398067188219052,0.4024390243902439,0.4989645651173493,0.44098021168890933,0.20628163828808102,0.06707317073170732,0.8695352047860101,0.5196732627703635,0.49148642429820527,0.5176023930050622,0.24792913023469862,0.2772664519098021,0.703865623561896,0.7535664979291302,1.0000000000000002,0.43994477680625865,0.5922687528762081,0.5037965945697193,0.308444546709618,0.19868844914864245,0.563046479521399,0.5624712379199264,0.8469857340082835,0.8647031753336402,0.06960423377818684,0.585020708697653,0.5547630004601933,0.2314772204325817,0.6260929590427979,0.2926829268292683,0.5859410952600093,0.6565807639208467,0.512310170271514,0.47940635066728027,0.5037965945697193,0.7773815002300967,0.36723423838011965,0.8829958582604694,0.8823055683387023,0.40520018407731245,0.6803957662218132,0.8871375977910723,0.8765531523239761,0.26231017027151404,0.7145651173492867,0.46629084215370453,0.7902669121030833,0.46180395766221816,0.7564427059364933,0.6984583525080534,0.38713759779107226,0.7227335480901979,0.5349746893695352,0.7487344684767603,0.6495628163828808,0.27082374597330877,0.19224574321214913,0.5541877588587206,0.7138748274275196,0.24298205246203408,0.7871606074551312,0.8557294063506673,0.7557524160147262,0.6783248964565117,0.8002761159687068,0.14277496548550392,0.7636907501150484,0.2699033594109526,0.6315002300966406,0.8411182696732628,0.3829958582604694,0.25943396226415094,0.6938564196962724,0.5715600552231938,0.09203865623561897,0.21042337781868387,0.6756787850897377,0.45467096180395766,0.31304647952139897,0.6631385181776346,0.514265991716521,0.5687988955361252,0.4301656695812241,0.380924988495168,0.4491486424298205,0.11562356189599632,0.6400138057984354,0.6861481822365394,0.8025770823745974,0.9316612977450529,0.4697422917625403,0.047054763000460194,0.27634606534744593,0.4800966405890474,0.18212149102623104,0.41233317993557295,0.7221583064887253,0.7503451449608836,0.36447307869305107,0.5104693971468016,0.6517487344684768,0.21283939254486886,0.7868154624942476,0.6339162448228256,0.4188909341923608,0.11378278877128395,0.4993097100782329,0.5934192360791533,0.9282098481362172,0.7665669581224114,0.47503451449608836,0.8413483663138518,0.7013345605154165,0.47917625402669123,0.4930971007823286,0.8953060285319835,0.4654855039116429,0.30039116428900137,0.3245513115508514,0.6367924528301887,0.27554072710538424,0.6086056143580304,0.3155775425678785,0.3858720662678325,0.6547399907961344,0.643005062126093,0.16428900138057986,0.6020478601012426,0.4790612057063967,0.5631615278416935,0.6701564657156006,0.41728025770823746,0.24275195582144501,0.8512425218591809,0.5568338702254947,0.4800966405890474,0.5450989415554532,0.4796364473078693,0.7532213529682467,0.25161067648412333,0.9008283479061205,0.25172572480441785,0.5323285780027611,0.5864012885411873,0.5701794753796595,0.27646111366774045,0.44546709618039576,0.6961573861021629,0.27646111366774045,0.33490566037735847,0.7825586746433503,0.13115508513575702,0.8505522319374137,0.28336401288541185,0.5823745973308789,0.43281178094799816,0.2120340543028072,0.6733778186838473,0.6301196502531063,0.24965485503911647,0.819834330418776,0.20938794293603316,0.5337091578462955,0.5355499309710078,0.5104693971468016,0.4786010124252186,0.8148872526461114,0.7861251725724805,0.594684767602393,0.7053612517257248,0.36723423838011965,0.676829268292683,0.5864012885411873,0.5483202945237,0.5232397606994937,0.14104924068108607,0.14714680165669583,0.5781178094799816,0.35607455131155086,0.6530142659917165,0.19397146801656698,0.4027841693511275,0.606994937873907,0.4887252646111367,0.8357109986194202,0.3762080073630925,0.2738150023009664,0.5133456051541647,0.8331799355729407,0.8074091118269674,0.40899677864703177,0.3068338702254947,0.7527611596870686,0.5238150023009664,0.5617809479981593,0.5269213069489186,0.21502531063046482,0.6197653014265991,0.8601012425218592,0.11251725724804418,0.45260009203865625,0.19132535664979292,0.6578462954440866,0.5346295444086516,0.5011504832029452,0.5859410952600093,0.2406810860561436,0.41670501610676486,0.902899217671422,0.5014956281638289,0.5300276115968707,0.9370685687988956,0.5095490105844455,0.41635987114588124,0.7098481362172112,0.4486884491486424,0.8521629084215371,0.8091348366313852,0.17337781868384722,0.3986424298205246,0.7030602853198343,0.9595029912563277,0.6789001380579843,0.4965485503911643,0.5479751495628163,0.2470087436723424,0.24620340543028074,0.3849516797054763,0.37011044638748275,0.8529682466635987,0.8708007363092499,0.320524620340543,0.45881270133456054,0.20398067188219055,0.4086516336861482,0.17349286700414177,0.18419236079153245,0.6319604233778187,0.6078002761159688,0.6378278877128394,0.8062586286240221,0.8763230556833871,0.523930050621261,0.41440404970087436,0.4882650713299586,0.9138288080994018,0.8043028071790153,0.5570639668660837,0.2762310170271514,0.7406810860561436,0.5341693511274735,0.16095260009203868,0.11079153244362633,0.7595490105844455,0.42774965485503913,0.7218131615278417,0.06914404049700876,0.3535434882650713,0.07604693971468016,0.17015646571560056,0.891049240681086,0.7565577542567878,0.8642429820524621,0.27692130694891853,0.7236539346525541,0.4873446847676024,0.3331799355729406,0.5159917165209388,0.7857800276115969,0.41958122411412796,0.373907040957202,0.1257478140819144,0.5224344224574321,0.6143580303727566,0.2364242982052462,0.3198343304187759,0.6455361251725725,0.8632075471698113,0.15266912103083297,0.4132535664979291,0.4529452369995398,0.5135757017947538,0.616658996778647,0.18557294063506674,0.4528301886792453,0.7932581684307409,0.18154624942475842,0.815692590888173,0.533594109526001,0.35745513115508515,0.12356189599631848,0.22491946617579386,0.23078693051081456,0.3558444546709618,0.835250805338242,0.6026231017027152,0.9377588587206627,0.42510354348826507,0.5375057524160147,0.861366774045099,0.6197653014265991,0.7641509433962265,0.8328347906120571,0.21801656695812244,0.3125862862402209,0.2364242982052462],\"xaxis\":\"x\",\"y\":[0.7556767313189119,0.7426704788811768,0.4945002357620214,0.33252429830961855,0.5778869822883487,0.26860920377816544,0.8558132922562711,0.807969213444887,0.7215009772804923,0.6118199734304521,0.5275630440559278,0.8842469087296368,0.4759259454834535,0.7472391060916581,0.5115804801229885,0.7873102442599245,0.6514449296791847,0.5682107334587309,0.5732744772055516,0.5396996511592957,0.5955274211982472,0.6043092083411163,0.8006450900921418,0.5893715830015258,0.26499239621980925,0.8413970413880518,0.40254479549559036,0.7694188848537169,0.7440535015049909,0.5222622240180876,0.38697228398442574,0.46673847382104394,0.6355619763437668,0.4193237263431957,0.48772402496254197,0.5802032253302881,0.37056678006892263,0.5376750195985533,0.8194784910410984,0.7432953250145335,0.5779689998732285,0.45632384833335765,0.47936367767543075,0.14799498547193873,0.7372326415465087,0.5476859993615049,0.7182462017481089,0.7856991128139483,0.6743860005981464,0.8034516028885674,0.5403302297573677,0.7949865190670247,0.5580384228520459,0.5128376165310046,0.6091290826784799,0.5833115155606708,0.7653592044934016,0.5413151908700107,0.8525301297884523,0.7051013909287038,0.33775634384642805,0.4129345234625377,0.6111847094336607,0.2426306927692895,0.5122134407337291,0.7799852228467887,0.6718765016734332,0.47794777368596664,0.5109855679111418,0.7165016490677809,0.8125506284703579,0.3637022574061559,0.7863644099754121,0.12879014679706857,0.519936665851265,0.4492751222288762,0.2315947154380117,0.6083981268738773,0.5778994370945147,0.47456644898858474,0.42166526180474184,0.4629433808793295,0.3936054683804844,0.25442488833591265,0.1090681515586936,0.41640522615288356,0.48428805535906116,0.5585634007994268,0.32302688710050287,0.29364681960562633,0.10536686964546482,0.4374287480024037,0.7892443696654818,0.6208247216107233,0.6318817920879467,0.06167420664422184,0.1896780520512225,0.564731103384501,0.5139097160175723,0.3345226714148168,0.20260638854390844,0.5335451957898032,0.1896575873500218,0.2302785217281233,0.8102306618088795,0.8107913133559035,0.12784292990707408,0.1678205941754558,0.5272714076633847,0.7059796126794626,0.8560040405845646,0.5280749594951837,0.2811266106046266,0.1276266247639321,0.6482194983213391,0.3498784219711991,0.1893680664408519,0.6733018605987378,0.32653112333138484,0.3850659550660374,0.48653761307178667,0.13108079294825037,0.3856377119348663,0.10166932774842233,0.5946592538518563,0.5946456352393088,0.3526800484151311,0.596165101732437,0.5250004493268907,0.46706493599832327,0.05446598767143311,0.5278658538304979,0.27068302161918467,0.46575445527017645,0.15616760951634484,0.6441943309910254,0.6709969009030917,0.48815912671179923,0.41048972628588315,0.49642233422698523,0.39405170127369316,0.4669498239447102,0.4973004430056698,0.5218492750703585,0.6620037060012574,0.6233810193179463,0.5341026946207093,0.15185403124506275,0.5362473441088146,0.5679411139676133,0.8121172918727286,0.16856866713814905,0.40147986228776267,0.7426702061919555,0.29242393903458275,0.368167997829122,0.7629354289708026,0.7274087570691965,0.5060272722932408,0.5356130747260862,0.7154432885932323,0.7496341340129864,0.37089239653030953,0.4581041353453922,0.412296828301294,0.8298130927875522,0.5649883958279696,0.664467872038519,0.41681938931937496,0.14180691977480925,0.21087475026785818,0.6739955853959569,0.38201337365469723,0.5445402720798586,0.6142661312887416,0.573083921191359,0.28037837720226966,0.41240156541233874,0.3604197653792821,0.13779705716035456,0.4747214441296048,0.6965398603908506,0.8165887444785431,0.8284564482023549,0.4740154209772699,0.46542788583414924,0.11034930027921491,0.7633306449501465,0.2651539145955472,0.7802201490558531,0.33897784966453903,0.5978489366300352,0.7412668561734876,0.3787476779882294,0.5566256405417339,0.7645418959048556,0.6153448547242031,0.5152192803497618,0.4515133442295977,0.5000620659788424,0.12858231618285199,0.7518950041055472,0.5650191654167064,0.416786156822479,0.5151687479199111,0.33802581116762886,0.6683477007725687,0.4168906197080948,0.1870321136818735,0.1085325754696992,0.8210922038195372,0.4557590536132742,0.4921061528000208,0.5606668626652693,0.4018606855678702,0.380174866556493,0.8318945813915077,0.6791369695315518,0.7970908530915546,0.5919378280736688,0.6109888696871957,0.42614009476340226,0.4354929624948175,0.38461721930873505,0.4961554328840816,0.4593190059405582,0.7602912510275237,0.8810109027699065,0.03253589577474522,0.5711179373395724,0.5710854685373897,0.3715837193142029,0.7664392555504165,0.33082926218526737,0.7010195100949659,0.6524762385815766,0.5639149766468342,0.41551516673333283,0.6613318995902724,0.6968839585534344,0.3920811261277101,0.80749082685458,0.783505292117787,0.4981241823036374,0.634917529808064,0.9151760523809123,0.7200914034696981,0.2041808171679657,0.6420050164221889,0.4698622627904055,0.7011470685565611,0.3649798148918421,0.6894416241060699,0.6689740201460213,0.6422598270399332,0.6527017028022204,0.7879169019304835,0.6886597307253582,0.6578588328707278,0.3867217200492819,0.17376653340419856,0.6868370543886723,0.761185047877567,0.2280488380214396,0.8604204543858112,0.7229986493680778,0.7571598809632656,0.6594181235248163,0.7293930374197716,0.10693739977202499,0.7818752591255376,0.2722439961200882,0.5453247032748154,0.7617999369186277,0.44946046160213515,0.5223952852780995,0.6812579710227304,0.593928921009105,0.01480575080358796,0.21572629527783166,0.5428469056288329,0.550295546587081,0.31700381459364424,0.7068646839545445,0.4693578235819974,0.6320774949929553,0.4663667982598875,0.4301858709039267,0.39593318241241127,0.25604543314948414,0.6556284777381958,0.5749308795869867,0.7479918412856458,0.7788320146215696,0.4003844125355778,0.21505646779629883,0.25314118468769264,0.455233535802965,0.054479178313952506,0.5442915870749152,0.7060293765691474,0.7554545504817607,0.34294392032855325,0.3726445934252408,0.7714495773975528,0.1613423500536263,0.7608377113984053,0.6032266204345209,0.3859698252834053,0.25838654446152987,0.5090503224515346,0.5549809993362222,0.7933747010859578,0.7795769104416796,0.4924749277597814,0.6960490545548637,0.7150883487845483,0.5377305248589211,0.533748706741003,0.8307207663527361,0.45231494145418716,0.29409653335292807,0.6633823348167514,0.6698449839961729,0.2255207153417988,0.45939741809069556,0.19742065656486663,0.3991674498527352,0.8085023422593409,0.6158227055703673,0.1675709350635473,0.6043745321797758,0.4631674528094448,0.5266626653304034,0.619307238598733,0.3856094848302204,0.26791292351555346,0.7537142020117618,0.5769884611858738,0.42449237025137043,0.4045842885055718,0.3814912629004723,0.6459357141075481,0.27793468879551897,0.7021504173790236,0.3055888427171423,0.352786088083056,0.5369473475373617,0.5783595356603051,0.622691600080328,0.45395424942515555,0.7126791251070903,0.33218409280029226,0.33431990377733234,0.7020652591494407,0.11777985298705625,0.8452253501451472,0.3296733602261762,0.4672847986190368,0.4907216044891609,0.2258640939105877,0.690820520726035,0.556073081018909,0.20543139727245674,0.4985395212685425,0.2600345836713617,0.5986772119617298,0.5923071980172079,0.5558695776242963,0.5274984181430729,0.7615300341793261,0.7290510176775098,0.5769870178761625,0.6529447630313092,0.46337693383965795,0.8188276467676503,0.6187312911337983,0.505559234352642,0.5585090480401413,0.1462433192896292,0.3101567680048812,0.6642698387759847,0.32273997032502344,0.6711934184294033,0.13112993235270165,0.3839940609203718,0.5885917783032405,0.487468815624031,0.8391495511983149,0.3971095707826762,0.2479949181353452,0.6144073105928435,0.7378924907754858,0.8056126702798156,0.30364579947078163,0.2989312739297758,0.7528567391501075,0.4328337792595135,0.5824827885230247,0.6238292838720148,0.1444618720286953,0.6134813553960612,0.8484356327014453,0.02031779734268703,0.4480657881905414,0.022713909381208527,0.6988943844936171,0.562599033463685,0.5140499281695344,0.6040881338580182,0.2984527445709655,0.47146648656541157,0.8096921742776537,0.4639074199370767,0.5291437580172283,0.8044428022999532,0.4137184057797297,0.46245847310185295,0.6565975518217416,0.43456212519337445,0.782490310349401,0.7838855091639536,0.22474887388541706,0.4599395128081307,0.6708918062451632,0.7057308590291216,0.48932603723307533,0.5316285539034301,0.6049485667842476,0.11393791507304882,0.32590754420133183,0.2815573926194612,0.39479545706966346,0.8795467960142807,0.7645557751832388,0.3875848998897702,0.47791326010307833,0.27236630969845976,0.5115936063470171,0.1272734343444349,0.20171885218882576,0.4848609962717658,0.45666234212958967,0.6047293760783257,0.7220197561208519,0.7725150885755911,0.4829645754275408,0.44897084172530044,0.6076726407464628,0.7949649794356547,0.7684743964394911,0.5037262730897663,0.24421352652189265,0.6127619126775712,0.5435382712693915,0.1895239360630142,0.22600549976113193,0.7340678687018651,0.34728757818821465,0.79257767366952,-0.0003462236142543623,0.37538809006491747,0.1281815331915641,0.0842058446726921,0.8103752458836615,0.796463546850922,0.7721880370112442,0.38033861681320663,0.6778233439902557,0.5517358393932017,0.2882727371472883,0.5282854878783799,0.6504962914403509,0.4710018825390906,0.4851595064472033,0.42055730890199433,0.5066397487735451,0.5196982790298839,0.20972720287864782,0.3896990622614914,0.6378493845823492,0.7693697436100804,0.15447222573787275,0.4140823667406758,0.48979626670170556,0.4909710383938405,0.5652463610776521,0.2295042623733378,0.5410778439723899,0.815951936399747,0.20027732836820633,0.8900575521538894,0.49630877923714234,0.39729169728707614,0.5554550779548564,0.24248185151454918,0.31190506266613616,0.4598525017176437,0.7208024393444141,0.7200637833230299,0.7366927190730814,0.377449917167604,0.5859854468920423,0.6896863407076086,0.6087680374693636,0.7413687211084701,0.8522826907384948,0.23897545684004873,0.24214103287580704,0.3094443609395888],\"yaxis\":\"y\",\"type\":\"scatter\"}],                        {\"template\":{\"data\":{\"bar\":[{\"error_x\":{\"color\":\"#2a3f5f\"},\"error_y\":{\"color\":\"#2a3f5f\"},\"marker\":{\"line\":{\"color\":\"#E5ECF6\",\"width\":0.5},\"pattern\":{\"fillmode\":\"overlay\",\"size\":10,\"solidity\":0.2}},\"type\":\"bar\"}],\"barpolar\":[{\"marker\":{\"line\":{\"color\":\"#E5ECF6\",\"width\":0.5},\"pattern\":{\"fillmode\":\"overlay\",\"size\":10,\"solidity\":0.2}},\"type\":\"barpolar\"}],\"carpet\":[{\"aaxis\":{\"endlinecolor\":\"#2a3f5f\",\"gridcolor\":\"white\",\"linecolor\":\"white\",\"minorgridcolor\":\"white\",\"startlinecolor\":\"#2a3f5f\"},\"baxis\":{\"endlinecolor\":\"#2a3f5f\",\"gridcolor\":\"white\",\"linecolor\":\"white\",\"minorgridcolor\":\"white\",\"startlinecolor\":\"#2a3f5f\"},\"type\":\"carpet\"}],\"choropleth\":[{\"colorbar\":{\"outlinewidth\":0,\"ticks\":\"\"},\"type\":\"choropleth\"}],\"contour\":[{\"colorbar\":{\"outlinewidth\":0,\"ticks\":\"\"},\"colorscale\":[[0.0,\"#0d0887\"],[0.1111111111111111,\"#46039f\"],[0.2222222222222222,\"#7201a8\"],[0.3333333333333333,\"#9c179e\"],[0.4444444444444444,\"#bd3786\"],[0.5555555555555556,\"#d8576b\"],[0.6666666666666666,\"#ed7953\"],[0.7777777777777778,\"#fb9f3a\"],[0.8888888888888888,\"#fdca26\"],[1.0,\"#f0f921\"]],\"type\":\"contour\"}],\"contourcarpet\":[{\"colorbar\":{\"outlinewidth\":0,\"ticks\":\"\"},\"type\":\"contourcarpet\"}],\"heatmap\":[{\"colorbar\":{\"outlinewidth\":0,\"ticks\":\"\"},\"colorscale\":[[0.0,\"#0d0887\"],[0.1111111111111111,\"#46039f\"],[0.2222222222222222,\"#7201a8\"],[0.3333333333333333,\"#9c179e\"],[0.4444444444444444,\"#bd3786\"],[0.5555555555555556,\"#d8576b\"],[0.6666666666666666,\"#ed7953\"],[0.7777777777777778,\"#fb9f3a\"],[0.8888888888888888,\"#fdca26\"],[1.0,\"#f0f921\"]],\"type\":\"heatmap\"}],\"heatmapgl\":[{\"colorbar\":{\"outlinewidth\":0,\"ticks\":\"\"},\"colorscale\":[[0.0,\"#0d0887\"],[0.1111111111111111,\"#46039f\"],[0.2222222222222222,\"#7201a8\"],[0.3333333333333333,\"#9c179e\"],[0.4444444444444444,\"#bd3786\"],[0.5555555555555556,\"#d8576b\"],[0.6666666666666666,\"#ed7953\"],[0.7777777777777778,\"#fb9f3a\"],[0.8888888888888888,\"#fdca26\"],[1.0,\"#f0f921\"]],\"type\":\"heatmapgl\"}],\"histogram\":[{\"marker\":{\"pattern\":{\"fillmode\":\"overlay\",\"size\":10,\"solidity\":0.2}},\"type\":\"histogram\"}],\"histogram2d\":[{\"colorbar\":{\"outlinewidth\":0,\"ticks\":\"\"},\"colorscale\":[[0.0,\"#0d0887\"],[0.1111111111111111,\"#46039f\"],[0.2222222222222222,\"#7201a8\"],[0.3333333333333333,\"#9c179e\"],[0.4444444444444444,\"#bd3786\"],[0.5555555555555556,\"#d8576b\"],[0.6666666666666666,\"#ed7953\"],[0.7777777777777778,\"#fb9f3a\"],[0.8888888888888888,\"#fdca26\"],[1.0,\"#f0f921\"]],\"type\":\"histogram2d\"}],\"histogram2dcontour\":[{\"colorbar\":{\"outlinewidth\":0,\"ticks\":\"\"},\"colorscale\":[[0.0,\"#0d0887\"],[0.1111111111111111,\"#46039f\"],[0.2222222222222222,\"#7201a8\"],[0.3333333333333333,\"#9c179e\"],[0.4444444444444444,\"#bd3786\"],[0.5555555555555556,\"#d8576b\"],[0.6666666666666666,\"#ed7953\"],[0.7777777777777778,\"#fb9f3a\"],[0.8888888888888888,\"#fdca26\"],[1.0,\"#f0f921\"]],\"type\":\"histogram2dcontour\"}],\"mesh3d\":[{\"colorbar\":{\"outlinewidth\":0,\"ticks\":\"\"},\"type\":\"mesh3d\"}],\"parcoords\":[{\"line\":{\"colorbar\":{\"outlinewidth\":0,\"ticks\":\"\"}},\"type\":\"parcoords\"}],\"pie\":[{\"automargin\":true,\"type\":\"pie\"}],\"scatter\":[{\"marker\":{\"colorbar\":{\"outlinewidth\":0,\"ticks\":\"\"}},\"type\":\"scatter\"}],\"scatter3d\":[{\"line\":{\"colorbar\":{\"outlinewidth\":0,\"ticks\":\"\"}},\"marker\":{\"colorbar\":{\"outlinewidth\":0,\"ticks\":\"\"}},\"type\":\"scatter3d\"}],\"scattercarpet\":[{\"marker\":{\"colorbar\":{\"outlinewidth\":0,\"ticks\":\"\"}},\"type\":\"scattercarpet\"}],\"scattergeo\":[{\"marker\":{\"colorbar\":{\"outlinewidth\":0,\"ticks\":\"\"}},\"type\":\"scattergeo\"}],\"scattergl\":[{\"marker\":{\"colorbar\":{\"outlinewidth\":0,\"ticks\":\"\"}},\"type\":\"scattergl\"}],\"scattermapbox\":[{\"marker\":{\"colorbar\":{\"outlinewidth\":0,\"ticks\":\"\"}},\"type\":\"scattermapbox\"}],\"scatterpolar\":[{\"marker\":{\"colorbar\":{\"outlinewidth\":0,\"ticks\":\"\"}},\"type\":\"scatterpolar\"}],\"scatterpolargl\":[{\"marker\":{\"colorbar\":{\"outlinewidth\":0,\"ticks\":\"\"}},\"type\":\"scatterpolargl\"}],\"scatterternary\":[{\"marker\":{\"colorbar\":{\"outlinewidth\":0,\"ticks\":\"\"}},\"type\":\"scatterternary\"}],\"surface\":[{\"colorbar\":{\"outlinewidth\":0,\"ticks\":\"\"},\"colorscale\":[[0.0,\"#0d0887\"],[0.1111111111111111,\"#46039f\"],[0.2222222222222222,\"#7201a8\"],[0.3333333333333333,\"#9c179e\"],[0.4444444444444444,\"#bd3786\"],[0.5555555555555556,\"#d8576b\"],[0.6666666666666666,\"#ed7953\"],[0.7777777777777778,\"#fb9f3a\"],[0.8888888888888888,\"#fdca26\"],[1.0,\"#f0f921\"]],\"type\":\"surface\"}],\"table\":[{\"cells\":{\"fill\":{\"color\":\"#EBF0F8\"},\"line\":{\"color\":\"white\"}},\"header\":{\"fill\":{\"color\":\"#C8D4E3\"},\"line\":{\"color\":\"white\"}},\"type\":\"table\"}]},\"layout\":{\"annotationdefaults\":{\"arrowcolor\":\"#2a3f5f\",\"arrowhead\":0,\"arrowwidth\":1},\"autotypenumbers\":\"strict\",\"coloraxis\":{\"colorbar\":{\"outlinewidth\":0,\"ticks\":\"\"}},\"colorscale\":{\"diverging\":[[0,\"#8e0152\"],[0.1,\"#c51b7d\"],[0.2,\"#de77ae\"],[0.3,\"#f1b6da\"],[0.4,\"#fde0ef\"],[0.5,\"#f7f7f7\"],[0.6,\"#e6f5d0\"],[0.7,\"#b8e186\"],[0.8,\"#7fbc41\"],[0.9,\"#4d9221\"],[1,\"#276419\"]],\"sequential\":[[0.0,\"#0d0887\"],[0.1111111111111111,\"#46039f\"],[0.2222222222222222,\"#7201a8\"],[0.3333333333333333,\"#9c179e\"],[0.4444444444444444,\"#bd3786\"],[0.5555555555555556,\"#d8576b\"],[0.6666666666666666,\"#ed7953\"],[0.7777777777777778,\"#fb9f3a\"],[0.8888888888888888,\"#fdca26\"],[1.0,\"#f0f921\"]],\"sequentialminus\":[[0.0,\"#0d0887\"],[0.1111111111111111,\"#46039f\"],[0.2222222222222222,\"#7201a8\"],[0.3333333333333333,\"#9c179e\"],[0.4444444444444444,\"#bd3786\"],[0.5555555555555556,\"#d8576b\"],[0.6666666666666666,\"#ed7953\"],[0.7777777777777778,\"#fb9f3a\"],[0.8888888888888888,\"#fdca26\"],[1.0,\"#f0f921\"]]},\"colorway\":[\"#636efa\",\"#EF553B\",\"#00cc96\",\"#ab63fa\",\"#FFA15A\",\"#19d3f3\",\"#FF6692\",\"#B6E880\",\"#FF97FF\",\"#FECB52\"],\"font\":{\"color\":\"#2a3f5f\"},\"geo\":{\"bgcolor\":\"white\",\"lakecolor\":\"white\",\"landcolor\":\"#E5ECF6\",\"showlakes\":true,\"showland\":true,\"subunitcolor\":\"white\"},\"hoverlabel\":{\"align\":\"left\"},\"hovermode\":\"closest\",\"mapbox\":{\"style\":\"light\"},\"paper_bgcolor\":\"white\",\"plot_bgcolor\":\"#E5ECF6\",\"polar\":{\"angularaxis\":{\"gridcolor\":\"white\",\"linecolor\":\"white\",\"ticks\":\"\"},\"bgcolor\":\"#E5ECF6\",\"radialaxis\":{\"gridcolor\":\"white\",\"linecolor\":\"white\",\"ticks\":\"\"}},\"scene\":{\"xaxis\":{\"backgroundcolor\":\"#E5ECF6\",\"gridcolor\":\"white\",\"gridwidth\":2,\"linecolor\":\"white\",\"showbackground\":true,\"ticks\":\"\",\"zerolinecolor\":\"white\"},\"yaxis\":{\"backgroundcolor\":\"#E5ECF6\",\"gridcolor\":\"white\",\"gridwidth\":2,\"linecolor\":\"white\",\"showbackground\":true,\"ticks\":\"\",\"zerolinecolor\":\"white\"},\"zaxis\":{\"backgroundcolor\":\"#E5ECF6\",\"gridcolor\":\"white\",\"gridwidth\":2,\"linecolor\":\"white\",\"showbackground\":true,\"ticks\":\"\",\"zerolinecolor\":\"white\"}},\"shapedefaults\":{\"line\":{\"color\":\"#2a3f5f\"}},\"ternary\":{\"aaxis\":{\"gridcolor\":\"white\",\"linecolor\":\"white\",\"ticks\":\"\"},\"baxis\":{\"gridcolor\":\"white\",\"linecolor\":\"white\",\"ticks\":\"\"},\"bgcolor\":\"#E5ECF6\",\"caxis\":{\"gridcolor\":\"white\",\"linecolor\":\"white\",\"ticks\":\"\"}},\"title\":{\"x\":0.05},\"xaxis\":{\"automargin\":true,\"gridcolor\":\"white\",\"linecolor\":\"white\",\"ticks\":\"\",\"title\":{\"standoff\":15},\"zerolinecolor\":\"white\",\"zerolinewidth\":2},\"yaxis\":{\"automargin\":true,\"gridcolor\":\"white\",\"linecolor\":\"white\",\"ticks\":\"\",\"title\":{\"standoff\":15},\"zerolinecolor\":\"white\",\"zerolinewidth\":2}}},\"xaxis\":{\"anchor\":\"y\",\"domain\":[0.0,1.0],\"title\":{\"text\":\"x\"}},\"yaxis\":{\"anchor\":\"x\",\"domain\":[0.0,1.0],\"title\":{\"text\":\"y\"}},\"legend\":{\"tracegroupgap\":0},\"margin\":{\"t\":60}},                        {\"responsive\": true}                    ).then(function(){\n",
              "                            \n",
              "var gd = document.getElementById('14599f58-4418-4175-b1b6-e794ba54d61b');\n",
              "var x = new MutationObserver(function (mutations, observer) {{\n",
              "        var display = window.getComputedStyle(gd).display;\n",
              "        if (!display || display === 'none') {{\n",
              "            console.log([gd, 'removed!']);\n",
              "            Plotly.purge(gd);\n",
              "            observer.disconnect();\n",
              "        }}\n",
              "}});\n",
              "\n",
              "// Listen for the removal of the full notebook cells\n",
              "var notebookContainer = gd.closest('#notebook-container');\n",
              "if (notebookContainer) {{\n",
              "    x.observe(notebookContainer, {childList: true});\n",
              "}}\n",
              "\n",
              "// Listen for the clearing of the current output cell\n",
              "var outputEl = gd.closest('.output');\n",
              "if (outputEl) {{\n",
              "    x.observe(outputEl, {childList: true});\n",
              "}}\n",
              "\n",
              "                        })                };                            </script>        </div>\n",
              "</body>\n",
              "</html>"
            ]
          },
          "metadata": {}
        }
      ]
    },
    {
      "cell_type": "markdown",
      "source": [
        "## Step 7 : Model Evaluation"
      ],
      "metadata": {
        "id": "ArlV0uvl6Onn"
      }
    },
    {
      "cell_type": "code",
      "source": [
        "lr_manual_final.params.index"
      ],
      "metadata": {
        "colab": {
          "base_uri": "https://localhost:8080/"
        },
        "id": "DmhnEIkO6ssR",
        "outputId": "de9d2d53-bbbb-4b1b-cbe0-1b9e11b243f1"
      },
      "execution_count": 674,
      "outputs": [
        {
          "output_type": "execute_result",
          "data": {
            "text/plain": [
              "Index(['const', 'atemp', 'windspeed', 'season_2', 'season_4', 'mnth_8',\n",
              "       'mnth_9', 'mnth_10', 'weathersit_2', 'weathersit_3', 'weekday_6', 'yr',\n",
              "       'workingday'],\n",
              "      dtype='object')"
            ]
          },
          "metadata": {},
          "execution_count": 674
        }
      ]
    },
    {
      "cell_type": "code",
      "source": [
        "X_test_lm = sm.add_constant(X_test[X_train.columns])\n",
        "y_test_pred = lr_manual_final.predict(X_test_lm)"
      ],
      "metadata": {
        "id": "rnUNK5276S59"
      },
      "execution_count": 675,
      "outputs": []
    },
    {
      "cell_type": "code",
      "source": [
        "r2 = r2_score(y_test, y_test_pred)\n",
        "r2"
      ],
      "metadata": {
        "colab": {
          "base_uri": "https://localhost:8080/"
        },
        "id": "asGQFheY7AqZ",
        "outputId": "cb450117-66fd-441a-83f4-d340a4279f4a"
      },
      "execution_count": 676,
      "outputs": [
        {
          "output_type": "execute_result",
          "data": {
            "text/plain": [
              "0.8042431556690428"
            ]
          },
          "metadata": {},
          "execution_count": 676
        }
      ]
    },
    {
      "cell_type": "markdown",
      "source": [
        "#### Observations\n",
        "\n",
        "\n",
        "*   Our model has **R2-Score of 0.835** with train data and with **test data** predictions we got **0.804** which is good.\n",
        "\n",
        "\n"
      ],
      "metadata": {
        "id": "p8_gCLKD7egI"
      }
    },
    {
      "cell_type": "code",
      "source": [
        "mean_squared_error(y_test,y_pred)"
      ],
      "metadata": {
        "colab": {
          "base_uri": "https://localhost:8080/"
        },
        "id": "FI6AdLXkdsTr",
        "outputId": "d805eda2-62bf-4ca1-c47d-f0809ded13e8"
      },
      "execution_count": 707,
      "outputs": [
        {
          "output_type": "execute_result",
          "data": {
            "text/plain": [
              "0.009568475433968281"
            ]
          },
          "metadata": {},
          "execution_count": 707
        }
      ]
    },
    {
      "cell_type": "markdown",
      "source": [
        "## Observations\n",
        "Our Mean squared Error is also less."
      ],
      "metadata": {
        "id": "_reFjAH5eT06"
      }
    },
    {
      "cell_type": "markdown",
      "source": [
        "# Hyperparameter Tuning Using Grid Search Cross-Validatio\n",
        "\n"
      ],
      "metadata": {
        "id": "Td44uG1Heahj"
      }
    },
    {
      "cell_type": "code",
      "source": [
        "# step-1: create a cross-validation scheme\n",
        "folds = KFold(n_splits=5, shuffle=True, random_state=1)\n",
        "\n",
        "# # step-2: specify range of hyperparameters to tune\n",
        "hyperparameters = [{'n_features_to_select': list(range(2,20))}]\n",
        "\n",
        "# step-3: perform grid search\n",
        "# 3.1 specify model\n",
        "lm= LinearRegression()\n",
        "lm.fit(X_train_sk,y_train_sk)\n",
        "rfe = RFE(lm)\n",
        "\n",
        "# 3.2 call GridSearchCV()\n",
        "model_cv = GridSearchCV(estimator=rfe,\n",
        "                        param_grid=hyperparameters,\n",
        "                        scoring='r2',\n",
        "                        cv=folds,\n",
        "                        return_train_score=True)\n",
        "\n",
        "# fit the model\n",
        "model_cv.fit(X_train, y_train)   "
      ],
      "metadata": {
        "colab": {
          "base_uri": "https://localhost:8080/"
        },
        "id": "NTEisgmMeoIT",
        "outputId": "27db4cfa-ed96-44d3-875e-2ad527e28882"
      },
      "execution_count": 711,
      "outputs": [
        {
          "output_type": "execute_result",
          "data": {
            "text/plain": [
              "GridSearchCV(cv=KFold(n_splits=5, random_state=1, shuffle=True),\n",
              "             estimator=RFE(estimator=LinearRegression()),\n",
              "             param_grid=[{'n_features_to_select': [2, 3, 4, 5, 6, 7, 8, 9, 10,\n",
              "                                                   11, 12, 13, 14, 15, 16, 17,\n",
              "                                                   18, 19]}],\n",
              "             return_train_score=True, scoring='r2')"
            ]
          },
          "metadata": {},
          "execution_count": 711
        }
      ]
    },
    {
      "cell_type": "code",
      "source": [
        "cv_results = pd.DataFrame(model_cv.cv_results_)\n",
        "cv_results"
      ],
      "metadata": {
        "colab": {
          "base_uri": "https://localhost:8080/",
          "height": 990
        },
        "id": "352W5KepgXyx",
        "outputId": "e9082ff4-71b7-432e-d649-4749e7f173e2"
      },
      "execution_count": 712,
      "outputs": [
        {
          "output_type": "execute_result",
          "data": {
            "text/plain": [
              "    mean_fit_time  std_fit_time  mean_score_time  std_score_time  \\\n",
              "0        0.011111      0.000730         0.002084        0.000099   \n",
              "1        0.009993      0.000654         0.002059        0.000083   \n",
              "2        0.009281      0.000451         0.002001        0.000050   \n",
              "3        0.008866      0.000856         0.002221        0.000350   \n",
              "4        0.009958      0.001956         0.002992        0.000882   \n",
              "5        0.008657      0.002140         0.002196        0.000284   \n",
              "6        0.009869      0.001764         0.002395        0.000227   \n",
              "7        0.006394      0.001420         0.002245        0.000366   \n",
              "8        0.005053      0.000624         0.002072        0.000312   \n",
              "9        0.004836      0.001534         0.002385        0.000767   \n",
              "10       0.003667      0.000871         0.002261        0.000562   \n",
              "11       0.002847      0.000053         0.001959        0.000219   \n",
              "12       0.002780      0.000025         0.001800        0.000011   \n",
              "13       0.003342      0.000770         0.002045        0.000473   \n",
              "14       0.003165      0.000311         0.001942        0.000181   \n",
              "15       0.003076      0.000281         0.002005        0.000226   \n",
              "16       0.004106      0.001143         0.002820        0.000782   \n",
              "17       0.003257      0.000479         0.002052        0.000358   \n",
              "\n",
              "   param_n_features_to_select                        params  \\\n",
              "0                           2   {'n_features_to_select': 2}   \n",
              "1                           3   {'n_features_to_select': 3}   \n",
              "2                           4   {'n_features_to_select': 4}   \n",
              "3                           5   {'n_features_to_select': 5}   \n",
              "4                           6   {'n_features_to_select': 6}   \n",
              "5                           7   {'n_features_to_select': 7}   \n",
              "6                           8   {'n_features_to_select': 8}   \n",
              "7                           9   {'n_features_to_select': 9}   \n",
              "8                          10  {'n_features_to_select': 10}   \n",
              "9                          11  {'n_features_to_select': 11}   \n",
              "10                         12  {'n_features_to_select': 12}   \n",
              "11                         13  {'n_features_to_select': 13}   \n",
              "12                         14  {'n_features_to_select': 14}   \n",
              "13                         15  {'n_features_to_select': 15}   \n",
              "14                         16  {'n_features_to_select': 16}   \n",
              "15                         17  {'n_features_to_select': 17}   \n",
              "16                         18  {'n_features_to_select': 18}   \n",
              "17                         19  {'n_features_to_select': 19}   \n",
              "\n",
              "    split0_test_score  split1_test_score  split2_test_score  \\\n",
              "0            0.675616           0.373608           0.679587   \n",
              "1            0.704153           0.674384           0.702688   \n",
              "2            0.713151           0.677819           0.722205   \n",
              "3            0.757512           0.736513           0.732595   \n",
              "4            0.768520           0.723188           0.744426   \n",
              "5            0.779965           0.732892           0.773573   \n",
              "6            0.802404           0.758731           0.760095   \n",
              "7            0.806492           0.771030           0.797769   \n",
              "8            0.808725           0.769541           0.799038   \n",
              "9            0.823566           0.779361           0.809123   \n",
              "10           0.827695           0.775039           0.812745   \n",
              "11           0.827695           0.775039           0.812745   \n",
              "12           0.827695           0.775039           0.812745   \n",
              "13           0.827695           0.775039           0.812745   \n",
              "14           0.827695           0.775039           0.812745   \n",
              "15           0.827695           0.775039           0.812745   \n",
              "16           0.827695           0.775039           0.812745   \n",
              "17           0.827695           0.775039           0.812745   \n",
              "\n",
              "    split3_test_score  split4_test_score  mean_test_score  std_test_score  \\\n",
              "0            0.663975           0.452279         0.569013        0.129937   \n",
              "1            0.732488           0.747306         0.712204        0.025414   \n",
              "2            0.747635           0.768813         0.725925        0.030990   \n",
              "3            0.757549           0.800956         0.757025        0.024282   \n",
              "4            0.760197           0.797963         0.758859        0.024920   \n",
              "5            0.766522           0.825746         0.775740        0.029813   \n",
              "6            0.799668           0.866435         0.797467        0.039199   \n",
              "7            0.802171           0.867439         0.808980        0.031736   \n",
              "8            0.802579           0.874261         0.810829        0.034467   \n",
              "9            0.811260           0.887167         0.822095        0.035633   \n",
              "10           0.810753           0.883545         0.821955        0.035321   \n",
              "11           0.810753           0.883545         0.821955        0.035321   \n",
              "12           0.810753           0.883545         0.821955        0.035321   \n",
              "13           0.810753           0.883545         0.821955        0.035321   \n",
              "14           0.810753           0.883545         0.821955        0.035321   \n",
              "15           0.810753           0.883545         0.821955        0.035321   \n",
              "16           0.810753           0.883545         0.821955        0.035321   \n",
              "17           0.810753           0.883545         0.821955        0.035321   \n",
              "\n",
              "    rank_test_score  split0_train_score  split1_train_score  \\\n",
              "0                18            0.699895            0.470627   \n",
              "1                17            0.728277            0.732437   \n",
              "2                16            0.742892            0.747887   \n",
              "3                15            0.770822            0.773814   \n",
              "4                14            0.775071            0.801663   \n",
              "5                13            0.794184            0.808891   \n",
              "6                12            0.822172            0.829091   \n",
              "7                11            0.828616            0.833953   \n",
              "8                10            0.829508            0.835672   \n",
              "9                 1            0.835326            0.843385   \n",
              "10                2            0.835686            0.845907   \n",
              "11                2            0.835686            0.845907   \n",
              "12                2            0.835686            0.845907   \n",
              "13                2            0.835686            0.845907   \n",
              "14                2            0.835686            0.845907   \n",
              "15                2            0.835686            0.845907   \n",
              "16                2            0.835686            0.845907   \n",
              "17                2            0.835686            0.845907   \n",
              "\n",
              "    split2_train_score  split3_train_score  split4_train_score  \\\n",
              "0             0.699092            0.698245            0.456808   \n",
              "1             0.728944            0.715818            0.717011   \n",
              "2             0.740829            0.729098            0.728518   \n",
              "3             0.777041            0.766114            0.759504   \n",
              "4             0.781549            0.772847            0.767315   \n",
              "5             0.796380            0.794023            0.782498   \n",
              "6             0.803649            0.819961            0.805965   \n",
              "7             0.830054            0.820977            0.807311   \n",
              "8             0.831195            0.831590            0.816141   \n",
              "9             0.838542            0.836012            0.819195   \n",
              "10            0.839609            0.837990            0.821877   \n",
              "11            0.839609            0.837990            0.821877   \n",
              "12            0.839609            0.837990            0.821877   \n",
              "13            0.839609            0.837990            0.821877   \n",
              "14            0.839609            0.837990            0.821877   \n",
              "15            0.839609            0.837990            0.821877   \n",
              "16            0.839609            0.837990            0.821877   \n",
              "17            0.839609            0.837990            0.821877   \n",
              "\n",
              "    mean_train_score  std_train_score  \n",
              "0           0.604934         0.115386  \n",
              "1           0.724497         0.006760  \n",
              "2           0.737845         0.007729  \n",
              "3           0.769459         0.006142  \n",
              "4           0.779689         0.011896  \n",
              "5           0.795195         0.008397  \n",
              "6           0.816168         0.009780  \n",
              "7           0.824182         0.009429  \n",
              "8           0.828821         0.006656  \n",
              "9           0.834492         0.008155  \n",
              "10          0.836214         0.007930  \n",
              "11          0.836214         0.007930  \n",
              "12          0.836214         0.007930  \n",
              "13          0.836214         0.007930  \n",
              "14          0.836214         0.007930  \n",
              "15          0.836214         0.007930  \n",
              "16          0.836214         0.007930  \n",
              "17          0.836214         0.007930  "
            ],
            "text/html": [
              "\n",
              "  <div id=\"df-9d2c9dc1-4ba5-43d8-8ad3-8d54ae34845b\">\n",
              "    <div class=\"colab-df-container\">\n",
              "      <div>\n",
              "<style scoped>\n",
              "    .dataframe tbody tr th:only-of-type {\n",
              "        vertical-align: middle;\n",
              "    }\n",
              "\n",
              "    .dataframe tbody tr th {\n",
              "        vertical-align: top;\n",
              "    }\n",
              "\n",
              "    .dataframe thead th {\n",
              "        text-align: right;\n",
              "    }\n",
              "</style>\n",
              "<table border=\"1\" class=\"dataframe\">\n",
              "  <thead>\n",
              "    <tr style=\"text-align: right;\">\n",
              "      <th></th>\n",
              "      <th>mean_fit_time</th>\n",
              "      <th>std_fit_time</th>\n",
              "      <th>mean_score_time</th>\n",
              "      <th>std_score_time</th>\n",
              "      <th>param_n_features_to_select</th>\n",
              "      <th>params</th>\n",
              "      <th>split0_test_score</th>\n",
              "      <th>split1_test_score</th>\n",
              "      <th>split2_test_score</th>\n",
              "      <th>split3_test_score</th>\n",
              "      <th>split4_test_score</th>\n",
              "      <th>mean_test_score</th>\n",
              "      <th>std_test_score</th>\n",
              "      <th>rank_test_score</th>\n",
              "      <th>split0_train_score</th>\n",
              "      <th>split1_train_score</th>\n",
              "      <th>split2_train_score</th>\n",
              "      <th>split3_train_score</th>\n",
              "      <th>split4_train_score</th>\n",
              "      <th>mean_train_score</th>\n",
              "      <th>std_train_score</th>\n",
              "    </tr>\n",
              "  </thead>\n",
              "  <tbody>\n",
              "    <tr>\n",
              "      <th>0</th>\n",
              "      <td>0.011111</td>\n",
              "      <td>0.000730</td>\n",
              "      <td>0.002084</td>\n",
              "      <td>0.000099</td>\n",
              "      <td>2</td>\n",
              "      <td>{'n_features_to_select': 2}</td>\n",
              "      <td>0.675616</td>\n",
              "      <td>0.373608</td>\n",
              "      <td>0.679587</td>\n",
              "      <td>0.663975</td>\n",
              "      <td>0.452279</td>\n",
              "      <td>0.569013</td>\n",
              "      <td>0.129937</td>\n",
              "      <td>18</td>\n",
              "      <td>0.699895</td>\n",
              "      <td>0.470627</td>\n",
              "      <td>0.699092</td>\n",
              "      <td>0.698245</td>\n",
              "      <td>0.456808</td>\n",
              "      <td>0.604934</td>\n",
              "      <td>0.115386</td>\n",
              "    </tr>\n",
              "    <tr>\n",
              "      <th>1</th>\n",
              "      <td>0.009993</td>\n",
              "      <td>0.000654</td>\n",
              "      <td>0.002059</td>\n",
              "      <td>0.000083</td>\n",
              "      <td>3</td>\n",
              "      <td>{'n_features_to_select': 3}</td>\n",
              "      <td>0.704153</td>\n",
              "      <td>0.674384</td>\n",
              "      <td>0.702688</td>\n",
              "      <td>0.732488</td>\n",
              "      <td>0.747306</td>\n",
              "      <td>0.712204</td>\n",
              "      <td>0.025414</td>\n",
              "      <td>17</td>\n",
              "      <td>0.728277</td>\n",
              "      <td>0.732437</td>\n",
              "      <td>0.728944</td>\n",
              "      <td>0.715818</td>\n",
              "      <td>0.717011</td>\n",
              "      <td>0.724497</td>\n",
              "      <td>0.006760</td>\n",
              "    </tr>\n",
              "    <tr>\n",
              "      <th>2</th>\n",
              "      <td>0.009281</td>\n",
              "      <td>0.000451</td>\n",
              "      <td>0.002001</td>\n",
              "      <td>0.000050</td>\n",
              "      <td>4</td>\n",
              "      <td>{'n_features_to_select': 4}</td>\n",
              "      <td>0.713151</td>\n",
              "      <td>0.677819</td>\n",
              "      <td>0.722205</td>\n",
              "      <td>0.747635</td>\n",
              "      <td>0.768813</td>\n",
              "      <td>0.725925</td>\n",
              "      <td>0.030990</td>\n",
              "      <td>16</td>\n",
              "      <td>0.742892</td>\n",
              "      <td>0.747887</td>\n",
              "      <td>0.740829</td>\n",
              "      <td>0.729098</td>\n",
              "      <td>0.728518</td>\n",
              "      <td>0.737845</td>\n",
              "      <td>0.007729</td>\n",
              "    </tr>\n",
              "    <tr>\n",
              "      <th>3</th>\n",
              "      <td>0.008866</td>\n",
              "      <td>0.000856</td>\n",
              "      <td>0.002221</td>\n",
              "      <td>0.000350</td>\n",
              "      <td>5</td>\n",
              "      <td>{'n_features_to_select': 5}</td>\n",
              "      <td>0.757512</td>\n",
              "      <td>0.736513</td>\n",
              "      <td>0.732595</td>\n",
              "      <td>0.757549</td>\n",
              "      <td>0.800956</td>\n",
              "      <td>0.757025</td>\n",
              "      <td>0.024282</td>\n",
              "      <td>15</td>\n",
              "      <td>0.770822</td>\n",
              "      <td>0.773814</td>\n",
              "      <td>0.777041</td>\n",
              "      <td>0.766114</td>\n",
              "      <td>0.759504</td>\n",
              "      <td>0.769459</td>\n",
              "      <td>0.006142</td>\n",
              "    </tr>\n",
              "    <tr>\n",
              "      <th>4</th>\n",
              "      <td>0.009958</td>\n",
              "      <td>0.001956</td>\n",
              "      <td>0.002992</td>\n",
              "      <td>0.000882</td>\n",
              "      <td>6</td>\n",
              "      <td>{'n_features_to_select': 6}</td>\n",
              "      <td>0.768520</td>\n",
              "      <td>0.723188</td>\n",
              "      <td>0.744426</td>\n",
              "      <td>0.760197</td>\n",
              "      <td>0.797963</td>\n",
              "      <td>0.758859</td>\n",
              "      <td>0.024920</td>\n",
              "      <td>14</td>\n",
              "      <td>0.775071</td>\n",
              "      <td>0.801663</td>\n",
              "      <td>0.781549</td>\n",
              "      <td>0.772847</td>\n",
              "      <td>0.767315</td>\n",
              "      <td>0.779689</td>\n",
              "      <td>0.011896</td>\n",
              "    </tr>\n",
              "    <tr>\n",
              "      <th>5</th>\n",
              "      <td>0.008657</td>\n",
              "      <td>0.002140</td>\n",
              "      <td>0.002196</td>\n",
              "      <td>0.000284</td>\n",
              "      <td>7</td>\n",
              "      <td>{'n_features_to_select': 7}</td>\n",
              "      <td>0.779965</td>\n",
              "      <td>0.732892</td>\n",
              "      <td>0.773573</td>\n",
              "      <td>0.766522</td>\n",
              "      <td>0.825746</td>\n",
              "      <td>0.775740</td>\n",
              "      <td>0.029813</td>\n",
              "      <td>13</td>\n",
              "      <td>0.794184</td>\n",
              "      <td>0.808891</td>\n",
              "      <td>0.796380</td>\n",
              "      <td>0.794023</td>\n",
              "      <td>0.782498</td>\n",
              "      <td>0.795195</td>\n",
              "      <td>0.008397</td>\n",
              "    </tr>\n",
              "    <tr>\n",
              "      <th>6</th>\n",
              "      <td>0.009869</td>\n",
              "      <td>0.001764</td>\n",
              "      <td>0.002395</td>\n",
              "      <td>0.000227</td>\n",
              "      <td>8</td>\n",
              "      <td>{'n_features_to_select': 8}</td>\n",
              "      <td>0.802404</td>\n",
              "      <td>0.758731</td>\n",
              "      <td>0.760095</td>\n",
              "      <td>0.799668</td>\n",
              "      <td>0.866435</td>\n",
              "      <td>0.797467</td>\n",
              "      <td>0.039199</td>\n",
              "      <td>12</td>\n",
              "      <td>0.822172</td>\n",
              "      <td>0.829091</td>\n",
              "      <td>0.803649</td>\n",
              "      <td>0.819961</td>\n",
              "      <td>0.805965</td>\n",
              "      <td>0.816168</td>\n",
              "      <td>0.009780</td>\n",
              "    </tr>\n",
              "    <tr>\n",
              "      <th>7</th>\n",
              "      <td>0.006394</td>\n",
              "      <td>0.001420</td>\n",
              "      <td>0.002245</td>\n",
              "      <td>0.000366</td>\n",
              "      <td>9</td>\n",
              "      <td>{'n_features_to_select': 9}</td>\n",
              "      <td>0.806492</td>\n",
              "      <td>0.771030</td>\n",
              "      <td>0.797769</td>\n",
              "      <td>0.802171</td>\n",
              "      <td>0.867439</td>\n",
              "      <td>0.808980</td>\n",
              "      <td>0.031736</td>\n",
              "      <td>11</td>\n",
              "      <td>0.828616</td>\n",
              "      <td>0.833953</td>\n",
              "      <td>0.830054</td>\n",
              "      <td>0.820977</td>\n",
              "      <td>0.807311</td>\n",
              "      <td>0.824182</td>\n",
              "      <td>0.009429</td>\n",
              "    </tr>\n",
              "    <tr>\n",
              "      <th>8</th>\n",
              "      <td>0.005053</td>\n",
              "      <td>0.000624</td>\n",
              "      <td>0.002072</td>\n",
              "      <td>0.000312</td>\n",
              "      <td>10</td>\n",
              "      <td>{'n_features_to_select': 10}</td>\n",
              "      <td>0.808725</td>\n",
              "      <td>0.769541</td>\n",
              "      <td>0.799038</td>\n",
              "      <td>0.802579</td>\n",
              "      <td>0.874261</td>\n",
              "      <td>0.810829</td>\n",
              "      <td>0.034467</td>\n",
              "      <td>10</td>\n",
              "      <td>0.829508</td>\n",
              "      <td>0.835672</td>\n",
              "      <td>0.831195</td>\n",
              "      <td>0.831590</td>\n",
              "      <td>0.816141</td>\n",
              "      <td>0.828821</td>\n",
              "      <td>0.006656</td>\n",
              "    </tr>\n",
              "    <tr>\n",
              "      <th>9</th>\n",
              "      <td>0.004836</td>\n",
              "      <td>0.001534</td>\n",
              "      <td>0.002385</td>\n",
              "      <td>0.000767</td>\n",
              "      <td>11</td>\n",
              "      <td>{'n_features_to_select': 11}</td>\n",
              "      <td>0.823566</td>\n",
              "      <td>0.779361</td>\n",
              "      <td>0.809123</td>\n",
              "      <td>0.811260</td>\n",
              "      <td>0.887167</td>\n",
              "      <td>0.822095</td>\n",
              "      <td>0.035633</td>\n",
              "      <td>1</td>\n",
              "      <td>0.835326</td>\n",
              "      <td>0.843385</td>\n",
              "      <td>0.838542</td>\n",
              "      <td>0.836012</td>\n",
              "      <td>0.819195</td>\n",
              "      <td>0.834492</td>\n",
              "      <td>0.008155</td>\n",
              "    </tr>\n",
              "    <tr>\n",
              "      <th>10</th>\n",
              "      <td>0.003667</td>\n",
              "      <td>0.000871</td>\n",
              "      <td>0.002261</td>\n",
              "      <td>0.000562</td>\n",
              "      <td>12</td>\n",
              "      <td>{'n_features_to_select': 12}</td>\n",
              "      <td>0.827695</td>\n",
              "      <td>0.775039</td>\n",
              "      <td>0.812745</td>\n",
              "      <td>0.810753</td>\n",
              "      <td>0.883545</td>\n",
              "      <td>0.821955</td>\n",
              "      <td>0.035321</td>\n",
              "      <td>2</td>\n",
              "      <td>0.835686</td>\n",
              "      <td>0.845907</td>\n",
              "      <td>0.839609</td>\n",
              "      <td>0.837990</td>\n",
              "      <td>0.821877</td>\n",
              "      <td>0.836214</td>\n",
              "      <td>0.007930</td>\n",
              "    </tr>\n",
              "    <tr>\n",
              "      <th>11</th>\n",
              "      <td>0.002847</td>\n",
              "      <td>0.000053</td>\n",
              "      <td>0.001959</td>\n",
              "      <td>0.000219</td>\n",
              "      <td>13</td>\n",
              "      <td>{'n_features_to_select': 13}</td>\n",
              "      <td>0.827695</td>\n",
              "      <td>0.775039</td>\n",
              "      <td>0.812745</td>\n",
              "      <td>0.810753</td>\n",
              "      <td>0.883545</td>\n",
              "      <td>0.821955</td>\n",
              "      <td>0.035321</td>\n",
              "      <td>2</td>\n",
              "      <td>0.835686</td>\n",
              "      <td>0.845907</td>\n",
              "      <td>0.839609</td>\n",
              "      <td>0.837990</td>\n",
              "      <td>0.821877</td>\n",
              "      <td>0.836214</td>\n",
              "      <td>0.007930</td>\n",
              "    </tr>\n",
              "    <tr>\n",
              "      <th>12</th>\n",
              "      <td>0.002780</td>\n",
              "      <td>0.000025</td>\n",
              "      <td>0.001800</td>\n",
              "      <td>0.000011</td>\n",
              "      <td>14</td>\n",
              "      <td>{'n_features_to_select': 14}</td>\n",
              "      <td>0.827695</td>\n",
              "      <td>0.775039</td>\n",
              "      <td>0.812745</td>\n",
              "      <td>0.810753</td>\n",
              "      <td>0.883545</td>\n",
              "      <td>0.821955</td>\n",
              "      <td>0.035321</td>\n",
              "      <td>2</td>\n",
              "      <td>0.835686</td>\n",
              "      <td>0.845907</td>\n",
              "      <td>0.839609</td>\n",
              "      <td>0.837990</td>\n",
              "      <td>0.821877</td>\n",
              "      <td>0.836214</td>\n",
              "      <td>0.007930</td>\n",
              "    </tr>\n",
              "    <tr>\n",
              "      <th>13</th>\n",
              "      <td>0.003342</td>\n",
              "      <td>0.000770</td>\n",
              "      <td>0.002045</td>\n",
              "      <td>0.000473</td>\n",
              "      <td>15</td>\n",
              "      <td>{'n_features_to_select': 15}</td>\n",
              "      <td>0.827695</td>\n",
              "      <td>0.775039</td>\n",
              "      <td>0.812745</td>\n",
              "      <td>0.810753</td>\n",
              "      <td>0.883545</td>\n",
              "      <td>0.821955</td>\n",
              "      <td>0.035321</td>\n",
              "      <td>2</td>\n",
              "      <td>0.835686</td>\n",
              "      <td>0.845907</td>\n",
              "      <td>0.839609</td>\n",
              "      <td>0.837990</td>\n",
              "      <td>0.821877</td>\n",
              "      <td>0.836214</td>\n",
              "      <td>0.007930</td>\n",
              "    </tr>\n",
              "    <tr>\n",
              "      <th>14</th>\n",
              "      <td>0.003165</td>\n",
              "      <td>0.000311</td>\n",
              "      <td>0.001942</td>\n",
              "      <td>0.000181</td>\n",
              "      <td>16</td>\n",
              "      <td>{'n_features_to_select': 16}</td>\n",
              "      <td>0.827695</td>\n",
              "      <td>0.775039</td>\n",
              "      <td>0.812745</td>\n",
              "      <td>0.810753</td>\n",
              "      <td>0.883545</td>\n",
              "      <td>0.821955</td>\n",
              "      <td>0.035321</td>\n",
              "      <td>2</td>\n",
              "      <td>0.835686</td>\n",
              "      <td>0.845907</td>\n",
              "      <td>0.839609</td>\n",
              "      <td>0.837990</td>\n",
              "      <td>0.821877</td>\n",
              "      <td>0.836214</td>\n",
              "      <td>0.007930</td>\n",
              "    </tr>\n",
              "    <tr>\n",
              "      <th>15</th>\n",
              "      <td>0.003076</td>\n",
              "      <td>0.000281</td>\n",
              "      <td>0.002005</td>\n",
              "      <td>0.000226</td>\n",
              "      <td>17</td>\n",
              "      <td>{'n_features_to_select': 17}</td>\n",
              "      <td>0.827695</td>\n",
              "      <td>0.775039</td>\n",
              "      <td>0.812745</td>\n",
              "      <td>0.810753</td>\n",
              "      <td>0.883545</td>\n",
              "      <td>0.821955</td>\n",
              "      <td>0.035321</td>\n",
              "      <td>2</td>\n",
              "      <td>0.835686</td>\n",
              "      <td>0.845907</td>\n",
              "      <td>0.839609</td>\n",
              "      <td>0.837990</td>\n",
              "      <td>0.821877</td>\n",
              "      <td>0.836214</td>\n",
              "      <td>0.007930</td>\n",
              "    </tr>\n",
              "    <tr>\n",
              "      <th>16</th>\n",
              "      <td>0.004106</td>\n",
              "      <td>0.001143</td>\n",
              "      <td>0.002820</td>\n",
              "      <td>0.000782</td>\n",
              "      <td>18</td>\n",
              "      <td>{'n_features_to_select': 18}</td>\n",
              "      <td>0.827695</td>\n",
              "      <td>0.775039</td>\n",
              "      <td>0.812745</td>\n",
              "      <td>0.810753</td>\n",
              "      <td>0.883545</td>\n",
              "      <td>0.821955</td>\n",
              "      <td>0.035321</td>\n",
              "      <td>2</td>\n",
              "      <td>0.835686</td>\n",
              "      <td>0.845907</td>\n",
              "      <td>0.839609</td>\n",
              "      <td>0.837990</td>\n",
              "      <td>0.821877</td>\n",
              "      <td>0.836214</td>\n",
              "      <td>0.007930</td>\n",
              "    </tr>\n",
              "    <tr>\n",
              "      <th>17</th>\n",
              "      <td>0.003257</td>\n",
              "      <td>0.000479</td>\n",
              "      <td>0.002052</td>\n",
              "      <td>0.000358</td>\n",
              "      <td>19</td>\n",
              "      <td>{'n_features_to_select': 19}</td>\n",
              "      <td>0.827695</td>\n",
              "      <td>0.775039</td>\n",
              "      <td>0.812745</td>\n",
              "      <td>0.810753</td>\n",
              "      <td>0.883545</td>\n",
              "      <td>0.821955</td>\n",
              "      <td>0.035321</td>\n",
              "      <td>2</td>\n",
              "      <td>0.835686</td>\n",
              "      <td>0.845907</td>\n",
              "      <td>0.839609</td>\n",
              "      <td>0.837990</td>\n",
              "      <td>0.821877</td>\n",
              "      <td>0.836214</td>\n",
              "      <td>0.007930</td>\n",
              "    </tr>\n",
              "  </tbody>\n",
              "</table>\n",
              "</div>\n",
              "      <button class=\"colab-df-convert\" onclick=\"convertToInteractive('df-9d2c9dc1-4ba5-43d8-8ad3-8d54ae34845b')\"\n",
              "              title=\"Convert this dataframe to an interactive table.\"\n",
              "              style=\"display:none;\">\n",
              "        \n",
              "  <svg xmlns=\"http://www.w3.org/2000/svg\" height=\"24px\"viewBox=\"0 0 24 24\"\n",
              "       width=\"24px\">\n",
              "    <path d=\"M0 0h24v24H0V0z\" fill=\"none\"/>\n",
              "    <path d=\"M18.56 5.44l.94 2.06.94-2.06 2.06-.94-2.06-.94-.94-2.06-.94 2.06-2.06.94zm-11 1L8.5 8.5l.94-2.06 2.06-.94-2.06-.94L8.5 2.5l-.94 2.06-2.06.94zm10 10l.94 2.06.94-2.06 2.06-.94-2.06-.94-.94-2.06-.94 2.06-2.06.94z\"/><path d=\"M17.41 7.96l-1.37-1.37c-.4-.4-.92-.59-1.43-.59-.52 0-1.04.2-1.43.59L10.3 9.45l-7.72 7.72c-.78.78-.78 2.05 0 2.83L4 21.41c.39.39.9.59 1.41.59.51 0 1.02-.2 1.41-.59l7.78-7.78 2.81-2.81c.8-.78.8-2.07 0-2.86zM5.41 20L4 18.59l7.72-7.72 1.47 1.35L5.41 20z\"/>\n",
              "  </svg>\n",
              "      </button>\n",
              "      \n",
              "  <style>\n",
              "    .colab-df-container {\n",
              "      display:flex;\n",
              "      flex-wrap:wrap;\n",
              "      gap: 12px;\n",
              "    }\n",
              "\n",
              "    .colab-df-convert {\n",
              "      background-color: #E8F0FE;\n",
              "      border: none;\n",
              "      border-radius: 50%;\n",
              "      cursor: pointer;\n",
              "      display: none;\n",
              "      fill: #1967D2;\n",
              "      height: 32px;\n",
              "      padding: 0 0 0 0;\n",
              "      width: 32px;\n",
              "    }\n",
              "\n",
              "    .colab-df-convert:hover {\n",
              "      background-color: #E2EBFA;\n",
              "      box-shadow: 0px 1px 2px rgba(60, 64, 67, 0.3), 0px 1px 3px 1px rgba(60, 64, 67, 0.15);\n",
              "      fill: #174EA6;\n",
              "    }\n",
              "\n",
              "    [theme=dark] .colab-df-convert {\n",
              "      background-color: #3B4455;\n",
              "      fill: #D2E3FC;\n",
              "    }\n",
              "\n",
              "    [theme=dark] .colab-df-convert:hover {\n",
              "      background-color: #434B5C;\n",
              "      box-shadow: 0px 1px 3px 1px rgba(0, 0, 0, 0.15);\n",
              "      filter: drop-shadow(0px 1px 2px rgba(0, 0, 0, 0.3));\n",
              "      fill: #FFFFFF;\n",
              "    }\n",
              "  </style>\n",
              "\n",
              "      <script>\n",
              "        const buttonEl =\n",
              "          document.querySelector('#df-9d2c9dc1-4ba5-43d8-8ad3-8d54ae34845b button.colab-df-convert');\n",
              "        buttonEl.style.display =\n",
              "          google.colab.kernel.accessAllowed ? 'block' : 'none';\n",
              "\n",
              "        async function convertToInteractive(key) {\n",
              "          const element = document.querySelector('#df-9d2c9dc1-4ba5-43d8-8ad3-8d54ae34845b');\n",
              "          const dataTable =\n",
              "            await google.colab.kernel.invokeFunction('convertToInteractive',\n",
              "                                                     [key], {});\n",
              "          if (!dataTable) return;\n",
              "\n",
              "          const docLinkHtml = 'Like what you see? Visit the ' +\n",
              "            '<a target=\"_blank\" href=https://colab.research.google.com/notebooks/data_table.ipynb>data table notebook</a>'\n",
              "            + ' to learn more about interactive tables.';\n",
              "          element.innerHTML = '';\n",
              "          dataTable['output_type'] = 'display_data';\n",
              "          await google.colab.output.renderOutput(dataTable, element);\n",
              "          const docLink = document.createElement('div');\n",
              "          docLink.innerHTML = docLinkHtml;\n",
              "          element.appendChild(docLink);\n",
              "        }\n",
              "      </script>\n",
              "    </div>\n",
              "  </div>\n",
              "  "
            ]
          },
          "metadata": {},
          "execution_count": 712
        }
      ]
    },
    {
      "cell_type": "code",
      "source": [
        "fig = go.Figure()\n",
        "fig.add_trace(go.Scatter(x=cv_results['param_n_features_to_select'], y=cv_results['mean_train_score'], name='Mean Train Score'\n",
        "                         ))\n",
        "fig.add_trace(go.Scatter(x=cv_results['param_n_features_to_select'], y=cv_results['mean_test_score'], name='Mean Train Score'\n",
        "                         ))\n"
      ],
      "metadata": {
        "colab": {
          "base_uri": "https://localhost:8080/",
          "height": 542
        },
        "id": "0fF-5cArgabf",
        "outputId": "dfcb1531-d1ef-4589-fd97-36e0a6f602fd"
      },
      "execution_count": 718,
      "outputs": [
        {
          "output_type": "display_data",
          "data": {
            "text/html": [
              "<html>\n",
              "<head><meta charset=\"utf-8\" /></head>\n",
              "<body>\n",
              "    <div>            <script src=\"https://cdnjs.cloudflare.com/ajax/libs/mathjax/2.7.5/MathJax.js?config=TeX-AMS-MML_SVG\"></script><script type=\"text/javascript\">if (window.MathJax) {MathJax.Hub.Config({SVG: {font: \"STIX-Web\"}});}</script>                <script type=\"text/javascript\">window.PlotlyConfig = {MathJaxConfig: 'local'};</script>\n",
              "        <script src=\"https://cdn.plot.ly/plotly-2.8.3.min.js\"></script>                <div id=\"7230527d-279f-4d59-b550-3d46249a899d\" class=\"plotly-graph-div\" style=\"height:525px; width:100%;\"></div>            <script type=\"text/javascript\">                                    window.PLOTLYENV=window.PLOTLYENV || {};                                    if (document.getElementById(\"7230527d-279f-4d59-b550-3d46249a899d\")) {                    Plotly.newPlot(                        \"7230527d-279f-4d59-b550-3d46249a899d\",                        [{\"name\":\"Mean Train Score\",\"x\":[2,3,4,5,6,7,8,9,10,11,12,13,14,15,16,17,18,19],\"y\":[0.6049335482933456,0.7244972127172252,0.7378446988101139,0.7694589602431655,0.7796890152438276,0.7951951083766162,0.8161675590085224,0.8241822692266636,0.8288212653655954,0.8344919000844984,0.8362139074827605,0.8362139074827605,0.8362139074827605,0.8362139074827605,0.8362139074827605,0.8362139074827605,0.8362139074827605,0.8362139074827605],\"type\":\"scatter\"},{\"name\":\"Mean Train Score\",\"x\":[2,3,4,5,6,7,8,9,10,11,12,13,14,15,16,17,18,19],\"y\":[0.5690130278553223,0.7122040135622865,0.7259248275568508,0.7570249816115631,0.7588589652554873,0.7757396740835509,0.797466618756804,0.8089798664540286,0.810828607915029,0.8220953217589949,0.8219554405308035,0.8219554405308035,0.8219554405308035,0.8219554405308035,0.8219554405308035,0.8219554405308035,0.8219554405308035,0.8219554405308035],\"type\":\"scatter\"}],                        {\"template\":{\"data\":{\"bar\":[{\"error_x\":{\"color\":\"#2a3f5f\"},\"error_y\":{\"color\":\"#2a3f5f\"},\"marker\":{\"line\":{\"color\":\"#E5ECF6\",\"width\":0.5},\"pattern\":{\"fillmode\":\"overlay\",\"size\":10,\"solidity\":0.2}},\"type\":\"bar\"}],\"barpolar\":[{\"marker\":{\"line\":{\"color\":\"#E5ECF6\",\"width\":0.5},\"pattern\":{\"fillmode\":\"overlay\",\"size\":10,\"solidity\":0.2}},\"type\":\"barpolar\"}],\"carpet\":[{\"aaxis\":{\"endlinecolor\":\"#2a3f5f\",\"gridcolor\":\"white\",\"linecolor\":\"white\",\"minorgridcolor\":\"white\",\"startlinecolor\":\"#2a3f5f\"},\"baxis\":{\"endlinecolor\":\"#2a3f5f\",\"gridcolor\":\"white\",\"linecolor\":\"white\",\"minorgridcolor\":\"white\",\"startlinecolor\":\"#2a3f5f\"},\"type\":\"carpet\"}],\"choropleth\":[{\"colorbar\":{\"outlinewidth\":0,\"ticks\":\"\"},\"type\":\"choropleth\"}],\"contour\":[{\"colorbar\":{\"outlinewidth\":0,\"ticks\":\"\"},\"colorscale\":[[0.0,\"#0d0887\"],[0.1111111111111111,\"#46039f\"],[0.2222222222222222,\"#7201a8\"],[0.3333333333333333,\"#9c179e\"],[0.4444444444444444,\"#bd3786\"],[0.5555555555555556,\"#d8576b\"],[0.6666666666666666,\"#ed7953\"],[0.7777777777777778,\"#fb9f3a\"],[0.8888888888888888,\"#fdca26\"],[1.0,\"#f0f921\"]],\"type\":\"contour\"}],\"contourcarpet\":[{\"colorbar\":{\"outlinewidth\":0,\"ticks\":\"\"},\"type\":\"contourcarpet\"}],\"heatmap\":[{\"colorbar\":{\"outlinewidth\":0,\"ticks\":\"\"},\"colorscale\":[[0.0,\"#0d0887\"],[0.1111111111111111,\"#46039f\"],[0.2222222222222222,\"#7201a8\"],[0.3333333333333333,\"#9c179e\"],[0.4444444444444444,\"#bd3786\"],[0.5555555555555556,\"#d8576b\"],[0.6666666666666666,\"#ed7953\"],[0.7777777777777778,\"#fb9f3a\"],[0.8888888888888888,\"#fdca26\"],[1.0,\"#f0f921\"]],\"type\":\"heatmap\"}],\"heatmapgl\":[{\"colorbar\":{\"outlinewidth\":0,\"ticks\":\"\"},\"colorscale\":[[0.0,\"#0d0887\"],[0.1111111111111111,\"#46039f\"],[0.2222222222222222,\"#7201a8\"],[0.3333333333333333,\"#9c179e\"],[0.4444444444444444,\"#bd3786\"],[0.5555555555555556,\"#d8576b\"],[0.6666666666666666,\"#ed7953\"],[0.7777777777777778,\"#fb9f3a\"],[0.8888888888888888,\"#fdca26\"],[1.0,\"#f0f921\"]],\"type\":\"heatmapgl\"}],\"histogram\":[{\"marker\":{\"pattern\":{\"fillmode\":\"overlay\",\"size\":10,\"solidity\":0.2}},\"type\":\"histogram\"}],\"histogram2d\":[{\"colorbar\":{\"outlinewidth\":0,\"ticks\":\"\"},\"colorscale\":[[0.0,\"#0d0887\"],[0.1111111111111111,\"#46039f\"],[0.2222222222222222,\"#7201a8\"],[0.3333333333333333,\"#9c179e\"],[0.4444444444444444,\"#bd3786\"],[0.5555555555555556,\"#d8576b\"],[0.6666666666666666,\"#ed7953\"],[0.7777777777777778,\"#fb9f3a\"],[0.8888888888888888,\"#fdca26\"],[1.0,\"#f0f921\"]],\"type\":\"histogram2d\"}],\"histogram2dcontour\":[{\"colorbar\":{\"outlinewidth\":0,\"ticks\":\"\"},\"colorscale\":[[0.0,\"#0d0887\"],[0.1111111111111111,\"#46039f\"],[0.2222222222222222,\"#7201a8\"],[0.3333333333333333,\"#9c179e\"],[0.4444444444444444,\"#bd3786\"],[0.5555555555555556,\"#d8576b\"],[0.6666666666666666,\"#ed7953\"],[0.7777777777777778,\"#fb9f3a\"],[0.8888888888888888,\"#fdca26\"],[1.0,\"#f0f921\"]],\"type\":\"histogram2dcontour\"}],\"mesh3d\":[{\"colorbar\":{\"outlinewidth\":0,\"ticks\":\"\"},\"type\":\"mesh3d\"}],\"parcoords\":[{\"line\":{\"colorbar\":{\"outlinewidth\":0,\"ticks\":\"\"}},\"type\":\"parcoords\"}],\"pie\":[{\"automargin\":true,\"type\":\"pie\"}],\"scatter\":[{\"marker\":{\"colorbar\":{\"outlinewidth\":0,\"ticks\":\"\"}},\"type\":\"scatter\"}],\"scatter3d\":[{\"line\":{\"colorbar\":{\"outlinewidth\":0,\"ticks\":\"\"}},\"marker\":{\"colorbar\":{\"outlinewidth\":0,\"ticks\":\"\"}},\"type\":\"scatter3d\"}],\"scattercarpet\":[{\"marker\":{\"colorbar\":{\"outlinewidth\":0,\"ticks\":\"\"}},\"type\":\"scattercarpet\"}],\"scattergeo\":[{\"marker\":{\"colorbar\":{\"outlinewidth\":0,\"ticks\":\"\"}},\"type\":\"scattergeo\"}],\"scattergl\":[{\"marker\":{\"colorbar\":{\"outlinewidth\":0,\"ticks\":\"\"}},\"type\":\"scattergl\"}],\"scattermapbox\":[{\"marker\":{\"colorbar\":{\"outlinewidth\":0,\"ticks\":\"\"}},\"type\":\"scattermapbox\"}],\"scatterpolar\":[{\"marker\":{\"colorbar\":{\"outlinewidth\":0,\"ticks\":\"\"}},\"type\":\"scatterpolar\"}],\"scatterpolargl\":[{\"marker\":{\"colorbar\":{\"outlinewidth\":0,\"ticks\":\"\"}},\"type\":\"scatterpolargl\"}],\"scatterternary\":[{\"marker\":{\"colorbar\":{\"outlinewidth\":0,\"ticks\":\"\"}},\"type\":\"scatterternary\"}],\"surface\":[{\"colorbar\":{\"outlinewidth\":0,\"ticks\":\"\"},\"colorscale\":[[0.0,\"#0d0887\"],[0.1111111111111111,\"#46039f\"],[0.2222222222222222,\"#7201a8\"],[0.3333333333333333,\"#9c179e\"],[0.4444444444444444,\"#bd3786\"],[0.5555555555555556,\"#d8576b\"],[0.6666666666666666,\"#ed7953\"],[0.7777777777777778,\"#fb9f3a\"],[0.8888888888888888,\"#fdca26\"],[1.0,\"#f0f921\"]],\"type\":\"surface\"}],\"table\":[{\"cells\":{\"fill\":{\"color\":\"#EBF0F8\"},\"line\":{\"color\":\"white\"}},\"header\":{\"fill\":{\"color\":\"#C8D4E3\"},\"line\":{\"color\":\"white\"}},\"type\":\"table\"}]},\"layout\":{\"annotationdefaults\":{\"arrowcolor\":\"#2a3f5f\",\"arrowhead\":0,\"arrowwidth\":1},\"autotypenumbers\":\"strict\",\"coloraxis\":{\"colorbar\":{\"outlinewidth\":0,\"ticks\":\"\"}},\"colorscale\":{\"diverging\":[[0,\"#8e0152\"],[0.1,\"#c51b7d\"],[0.2,\"#de77ae\"],[0.3,\"#f1b6da\"],[0.4,\"#fde0ef\"],[0.5,\"#f7f7f7\"],[0.6,\"#e6f5d0\"],[0.7,\"#b8e186\"],[0.8,\"#7fbc41\"],[0.9,\"#4d9221\"],[1,\"#276419\"]],\"sequential\":[[0.0,\"#0d0887\"],[0.1111111111111111,\"#46039f\"],[0.2222222222222222,\"#7201a8\"],[0.3333333333333333,\"#9c179e\"],[0.4444444444444444,\"#bd3786\"],[0.5555555555555556,\"#d8576b\"],[0.6666666666666666,\"#ed7953\"],[0.7777777777777778,\"#fb9f3a\"],[0.8888888888888888,\"#fdca26\"],[1.0,\"#f0f921\"]],\"sequentialminus\":[[0.0,\"#0d0887\"],[0.1111111111111111,\"#46039f\"],[0.2222222222222222,\"#7201a8\"],[0.3333333333333333,\"#9c179e\"],[0.4444444444444444,\"#bd3786\"],[0.5555555555555556,\"#d8576b\"],[0.6666666666666666,\"#ed7953\"],[0.7777777777777778,\"#fb9f3a\"],[0.8888888888888888,\"#fdca26\"],[1.0,\"#f0f921\"]]},\"colorway\":[\"#636efa\",\"#EF553B\",\"#00cc96\",\"#ab63fa\",\"#FFA15A\",\"#19d3f3\",\"#FF6692\",\"#B6E880\",\"#FF97FF\",\"#FECB52\"],\"font\":{\"color\":\"#2a3f5f\"},\"geo\":{\"bgcolor\":\"white\",\"lakecolor\":\"white\",\"landcolor\":\"#E5ECF6\",\"showlakes\":true,\"showland\":true,\"subunitcolor\":\"white\"},\"hoverlabel\":{\"align\":\"left\"},\"hovermode\":\"closest\",\"mapbox\":{\"style\":\"light\"},\"paper_bgcolor\":\"white\",\"plot_bgcolor\":\"#E5ECF6\",\"polar\":{\"angularaxis\":{\"gridcolor\":\"white\",\"linecolor\":\"white\",\"ticks\":\"\"},\"bgcolor\":\"#E5ECF6\",\"radialaxis\":{\"gridcolor\":\"white\",\"linecolor\":\"white\",\"ticks\":\"\"}},\"scene\":{\"xaxis\":{\"backgroundcolor\":\"#E5ECF6\",\"gridcolor\":\"white\",\"gridwidth\":2,\"linecolor\":\"white\",\"showbackground\":true,\"ticks\":\"\",\"zerolinecolor\":\"white\"},\"yaxis\":{\"backgroundcolor\":\"#E5ECF6\",\"gridcolor\":\"white\",\"gridwidth\":2,\"linecolor\":\"white\",\"showbackground\":true,\"ticks\":\"\",\"zerolinecolor\":\"white\"},\"zaxis\":{\"backgroundcolor\":\"#E5ECF6\",\"gridcolor\":\"white\",\"gridwidth\":2,\"linecolor\":\"white\",\"showbackground\":true,\"ticks\":\"\",\"zerolinecolor\":\"white\"}},\"shapedefaults\":{\"line\":{\"color\":\"#2a3f5f\"}},\"ternary\":{\"aaxis\":{\"gridcolor\":\"white\",\"linecolor\":\"white\",\"ticks\":\"\"},\"baxis\":{\"gridcolor\":\"white\",\"linecolor\":\"white\",\"ticks\":\"\"},\"bgcolor\":\"#E5ECF6\",\"caxis\":{\"gridcolor\":\"white\",\"linecolor\":\"white\",\"ticks\":\"\"}},\"title\":{\"x\":0.05},\"xaxis\":{\"automargin\":true,\"gridcolor\":\"white\",\"linecolor\":\"white\",\"ticks\":\"\",\"title\":{\"standoff\":15},\"zerolinecolor\":\"white\",\"zerolinewidth\":2},\"yaxis\":{\"automargin\":true,\"gridcolor\":\"white\",\"linecolor\":\"white\",\"ticks\":\"\",\"title\":{\"standoff\":15},\"zerolinecolor\":\"white\",\"zerolinewidth\":2}}}},                        {\"responsive\": true}                    ).then(function(){\n",
              "                            \n",
              "var gd = document.getElementById('7230527d-279f-4d59-b550-3d46249a899d');\n",
              "var x = new MutationObserver(function (mutations, observer) {{\n",
              "        var display = window.getComputedStyle(gd).display;\n",
              "        if (!display || display === 'none') {{\n",
              "            console.log([gd, 'removed!']);\n",
              "            Plotly.purge(gd);\n",
              "            observer.disconnect();\n",
              "        }}\n",
              "}});\n",
              "\n",
              "// Listen for the removal of the full notebook cells\n",
              "var notebookContainer = gd.closest('#notebook-container');\n",
              "if (notebookContainer) {{\n",
              "    x.observe(notebookContainer, {childList: true});\n",
              "}}\n",
              "\n",
              "// Listen for the clearing of the current output cell\n",
              "var outputEl = gd.closest('.output');\n",
              "if (outputEl) {{\n",
              "    x.observe(outputEl, {childList: true});\n",
              "}}\n",
              "\n",
              "                        })                };                            </script>        </div>\n",
              "</body>\n",
              "</html>"
            ]
          },
          "metadata": {}
        }
      ]
    },
    {
      "cell_type": "markdown",
      "source": [
        "#### Observtations\n",
        "\n",
        "We can clearly see that after 12 features , mean scores are saturated. This is in-line with our manual model where we ended up having final model with 11 features."
      ],
      "metadata": {
        "id": "83JTXrDthy0N"
      }
    },
    {
      "cell_type": "markdown",
      "source": [
        "----------------------------------------------------------------------------------------------------------------------------------------------------------------\n",
        "\n",
        "# Lets Try to Build model with RFE (Recursive Feature Eliminatin)\n",
        "\n",
        "-------------------------------------------------------------------------------\n",
        "-------------------------------------------------------------------------------"
      ],
      "metadata": {
        "id": "f39ZzmW474Gz"
      }
    },
    {
      "cell_type": "markdown",
      "source": [
        "#### We have 12 independent variables in our final model which is built manually. Lets' start with 15 features."
      ],
      "metadata": {
        "id": "FTzfcRrW5bHJ"
      }
    },
    {
      "cell_type": "code",
      "source": [
        "sk_lr_model = LinearRegression()\n",
        "rfe = RFE(sk_lr_model,n_features_to_select=15)\n",
        "rfe = rfe.fit(X_train_sk, y_train_sk)"
      ],
      "metadata": {
        "id": "whZ9PR9h6WJf"
      },
      "execution_count": 719,
      "outputs": []
    },
    {
      "cell_type": "code",
      "source": [
        "list(zip(X_train_sk.columns,rfe.support_,rfe.ranking_))"
      ],
      "metadata": {
        "colab": {
          "base_uri": "https://localhost:8080/"
        },
        "id": "Y1UYx02d8A0g",
        "outputId": "07fa557a-109e-438d-d3f4-ee6ab63476cc"
      },
      "execution_count": 678,
      "outputs": [
        {
          "output_type": "execute_result",
          "data": {
            "text/plain": [
              "[('atemp', True, 1),\n",
              " ('hum', True, 1),\n",
              " ('windspeed', True, 1),\n",
              " ('season_2', True, 1),\n",
              " ('season_3', True, 1),\n",
              " ('season_4', True, 1),\n",
              " ('mnth_2', False, 7),\n",
              " ('mnth_3', False, 3),\n",
              " ('mnth_4', False, 5),\n",
              " ('mnth_5', False, 2),\n",
              " ('mnth_6', False, 4),\n",
              " ('mnth_7', False, 6),\n",
              " ('mnth_8', True, 1),\n",
              " ('mnth_9', True, 1),\n",
              " ('mnth_10', True, 1),\n",
              " ('mnth_11', False, 8),\n",
              " ('mnth_12', False, 9),\n",
              " ('weathersit_2', True, 1),\n",
              " ('weathersit_3', True, 1),\n",
              " ('weekday_1', False, 10),\n",
              " ('weekday_2', False, 11),\n",
              " ('weekday_3', False, 13),\n",
              " ('weekday_4', False, 14),\n",
              " ('weekday_5', False, 12),\n",
              " ('weekday_6', True, 1),\n",
              " ('yr', True, 1),\n",
              " ('holiday', True, 1),\n",
              " ('workingday', True, 1)]"
            ]
          },
          "metadata": {},
          "execution_count": 678
        }
      ]
    },
    {
      "cell_type": "code",
      "source": [
        "sig_cols = X_train_sk.columns[rfe.support_]"
      ],
      "metadata": {
        "id": "as7CdZVk8_qf"
      },
      "execution_count": 679,
      "outputs": []
    },
    {
      "cell_type": "markdown",
      "source": [
        "## RFE - Model 1"
      ],
      "metadata": {
        "id": "eXTHw0ToL-NL"
      }
    },
    {
      "cell_type": "code",
      "source": [
        "X_train_sk = X_train_sk[sig_cols]\n",
        "rfe_model1 = linear_model(sig_cols,X_train_sk)\n"
      ],
      "metadata": {
        "colab": {
          "base_uri": "https://localhost:8080/"
        },
        "id": "XVWdCvCT9JbX",
        "outputId": "06b93b81-b58f-4a50-9ddb-0382ea9797f6"
      },
      "execution_count": 680,
      "outputs": [
        {
          "output_type": "stream",
          "name": "stdout",
          "text": [
            "                            OLS Regression Results                            \n",
            "==============================================================================\n",
            "Dep. Variable:                    cnt   R-squared:                       0.845\n",
            "Model:                            OLS   Adj. R-squared:                  0.840\n",
            "Method:                 Least Squares   F-statistic:                     179.5\n",
            "Date:                Sun, 05 Jun 2022   Prob (F-statistic):          8.04e-189\n",
            "Time:                        00:58:36   Log-Likelihood:                 513.81\n",
            "No. Observations:                 510   AIC:                            -995.6\n",
            "Df Residuals:                     494   BIC:                            -927.9\n",
            "Df Model:                          15                                         \n",
            "Covariance Type:            nonrobust                                         \n",
            "================================================================================\n",
            "                   coef    std err          t      P>|t|      [0.025      0.975]\n",
            "--------------------------------------------------------------------------------\n",
            "const            0.1938      0.029      6.658      0.000       0.137       0.251\n",
            "atemp            0.4920      0.035     14.205      0.000       0.424       0.560\n",
            "hum             -0.1613      0.038     -4.270      0.000      -0.236      -0.087\n",
            "windspeed       -0.1643      0.026     -6.399      0.000      -0.215      -0.114\n",
            "season_2         0.1248      0.015      8.466      0.000       0.096       0.154\n",
            "season_3         0.0501      0.021      2.332      0.020       0.008       0.092\n",
            "season_4         0.1435      0.014     10.580      0.000       0.117       0.170\n",
            "mnth_8           0.0537      0.018      3.068      0.002       0.019       0.088\n",
            "mnth_9           0.1165      0.017      6.735      0.000       0.082       0.150\n",
            "mnth_10          0.0467      0.017      2.675      0.008       0.012       0.081\n",
            "weathersit_2    -0.0601      0.011     -5.721      0.000      -0.081      -0.039\n",
            "weathersit_3    -0.2486      0.027     -9.375      0.000      -0.301      -0.196\n",
            "weekday_6        0.0534      0.015      3.640      0.000       0.025       0.082\n",
            "yr               0.2314      0.008     28.614      0.000       0.215       0.247\n",
            "holiday         -0.0506      0.027     -1.861      0.063      -0.104       0.003\n",
            "workingday       0.0450      0.012      3.861      0.000       0.022       0.068\n",
            "==============================================================================\n",
            "Omnibus:                       74.959   Durbin-Watson:                   2.042\n",
            "Prob(Omnibus):                  0.000   Jarque-Bera (JB):              223.973\n",
            "Skew:                          -0.691   Prob(JB):                     2.32e-49\n",
            "Kurtosis:                       5.937   Cond. No.                         21.2\n",
            "==============================================================================\n",
            "\n",
            "Warnings:\n",
            "[1] Standard Errors assume that the covariance matrix of the errors is correctly specified.\n"
          ]
        }
      ]
    },
    {
      "cell_type": "code",
      "source": [
        "get_vif(X_train_sk[sig_cols])"
      ],
      "metadata": {
        "colab": {
          "base_uri": "https://localhost:8080/"
        },
        "id": "jbKTdUx6MD1C",
        "outputId": "4289df67-7d1f-43d4-e696-b318f33ec1da"
      },
      "execution_count": 681,
      "outputs": [
        {
          "output_type": "stream",
          "name": "stdout",
          "text": [
            "        features    VIF\n",
            "0          atemp  22.71\n",
            "1            hum  17.79\n",
            "4       season_3   7.67\n",
            "14    workingday   5.05\n",
            "2      windspeed   3.85\n",
            "3       season_2   3.37\n",
            "5       season_4   2.88\n",
            "9   weathersit_2   2.15\n",
            "12            yr   2.04\n",
            "11     weekday_6   1.91\n",
            "6         mnth_8   1.86\n",
            "8        mnth_10   1.64\n",
            "7         mnth_9   1.51\n",
            "10  weathersit_3   1.20\n",
            "13       holiday   1.16\n"
          ]
        }
      ]
    },
    {
      "cell_type": "markdown",
      "source": [
        "#### Drop the **holiday** as which has P-value > 0.05\n",
        "\n"
      ],
      "metadata": {
        "id": "XjXfLFkXMkX6"
      }
    },
    {
      "cell_type": "code",
      "source": [
        "X_train_sk.drop('holiday',axis=1,inplace=True)"
      ],
      "metadata": {
        "id": "-RG4-eR8Mpz4"
      },
      "execution_count": 683,
      "outputs": []
    },
    {
      "cell_type": "markdown",
      "source": [
        "## RFE - Model 2"
      ],
      "metadata": {
        "id": "u0Yy72rJMxkl"
      }
    },
    {
      "cell_type": "code",
      "source": [
        "rfe_model2 = linear_model(X_train_sk.columns,X_train_sk)"
      ],
      "metadata": {
        "colab": {
          "base_uri": "https://localhost:8080/"
        },
        "id": "Ps27_zEnMxGV",
        "outputId": "30046c6f-ab9b-4f74-97b2-bb37e416c5e5"
      },
      "execution_count": 684,
      "outputs": [
        {
          "output_type": "stream",
          "name": "stdout",
          "text": [
            "                            OLS Regression Results                            \n",
            "==============================================================================\n",
            "Dep. Variable:                    cnt   R-squared:                       0.844\n",
            "Model:                            OLS   Adj. R-squared:                  0.839\n",
            "Method:                 Least Squares   F-statistic:                     191.1\n",
            "Date:                Sun, 05 Jun 2022   Prob (F-statistic):          3.18e-189\n",
            "Time:                        01:06:20   Log-Likelihood:                 512.03\n",
            "No. Observations:                 510   AIC:                            -994.1\n",
            "Df Residuals:                     495   BIC:                            -930.5\n",
            "Df Model:                          14                                         \n",
            "Covariance Type:            nonrobust                                         \n",
            "================================================================================\n",
            "                   coef    std err          t      P>|t|      [0.025      0.975]\n",
            "--------------------------------------------------------------------------------\n",
            "const            0.1849      0.029      6.423      0.000       0.128       0.241\n",
            "atemp            0.4925      0.035     14.184      0.000       0.424       0.561\n",
            "hum             -0.1603      0.038     -4.232      0.000      -0.235      -0.086\n",
            "windspeed       -0.1649      0.026     -6.407      0.000      -0.215      -0.114\n",
            "season_2         0.1259      0.015      8.528      0.000       0.097       0.155\n",
            "season_3         0.0512      0.022      2.378      0.018       0.009       0.093\n",
            "season_4         0.1432      0.014     10.530      0.000       0.116       0.170\n",
            "mnth_8           0.0537      0.018      3.057      0.002       0.019       0.088\n",
            "mnth_9           0.1145      0.017      6.619      0.000       0.081       0.149\n",
            "mnth_10          0.0479      0.017      2.739      0.006       0.014       0.082\n",
            "weathersit_2    -0.0599      0.011     -5.683      0.000      -0.081      -0.039\n",
            "weathersit_3    -0.2480      0.027     -9.330      0.000      -0.300      -0.196\n",
            "weekday_6        0.0611      0.014      4.322      0.000       0.033       0.089\n",
            "yr               0.2316      0.008     28.567      0.000       0.216       0.247\n",
            "workingday       0.0525      0.011      4.794      0.000       0.031       0.074\n",
            "==============================================================================\n",
            "Omnibus:                       80.205   Durbin-Watson:                   2.027\n",
            "Prob(Omnibus):                  0.000   Jarque-Bera (JB):              247.855\n",
            "Skew:                          -0.730   Prob(JB):                     1.51e-54\n",
            "Kurtosis:                       6.088   Cond. No.                         21.1\n",
            "==============================================================================\n",
            "\n",
            "Warnings:\n",
            "[1] Standard Errors assume that the covariance matrix of the errors is correctly specified.\n"
          ]
        }
      ]
    },
    {
      "cell_type": "code",
      "source": [
        "get_vif(X_train_sk)"
      ],
      "metadata": {
        "colab": {
          "base_uri": "https://localhost:8080/"
        },
        "id": "GseDDonrMxD9",
        "outputId": "0bf6b582-648c-4cc3-c133-011edd9b5ec9"
      },
      "execution_count": 685,
      "outputs": [
        {
          "output_type": "stream",
          "name": "stdout",
          "text": [
            "        features    VIF\n",
            "0          atemp  22.70\n",
            "1            hum  17.30\n",
            "4       season_3   7.66\n",
            "13    workingday   4.56\n",
            "2      windspeed   3.79\n",
            "3       season_2   3.36\n",
            "5       season_4   2.88\n",
            "9   weathersit_2   2.14\n",
            "12            yr   2.04\n",
            "6         mnth_8   1.86\n",
            "11     weekday_6   1.79\n",
            "8        mnth_10   1.64\n",
            "7         mnth_9   1.50\n",
            "10  weathersit_3   1.20\n"
          ]
        }
      ]
    },
    {
      "cell_type": "markdown",
      "source": [
        "#### Drop the **hum** as which has higher VIF."
      ],
      "metadata": {
        "id": "dd1v-1I4Nyfg"
      }
    },
    {
      "cell_type": "code",
      "source": [
        "X_train_sk.drop('hum',axis=1,inplace=True)"
      ],
      "metadata": {
        "id": "rBl3ky24Np3e"
      },
      "execution_count": 686,
      "outputs": []
    },
    {
      "cell_type": "markdown",
      "source": [
        "## RFE - Model 3"
      ],
      "metadata": {
        "id": "KBMfpIlyOSm9"
      }
    },
    {
      "cell_type": "code",
      "source": [
        "rfe_model3 = linear_model(X_train_sk.columns,X_train_sk)"
      ],
      "metadata": {
        "colab": {
          "base_uri": "https://localhost:8080/"
        },
        "id": "eISmwOIqOTjv",
        "outputId": "5c93e6ed-879f-4f3a-a489-3da8df5642c4"
      },
      "execution_count": 687,
      "outputs": [
        {
          "output_type": "stream",
          "name": "stdout",
          "text": [
            "                            OLS Regression Results                            \n",
            "==============================================================================\n",
            "Dep. Variable:                    cnt   R-squared:                       0.838\n",
            "Model:                            OLS   Adj. R-squared:                  0.834\n",
            "Method:                 Least Squares   F-statistic:                     197.7\n",
            "Date:                Sun, 05 Jun 2022   Prob (F-statistic):          1.41e-186\n",
            "Time:                        01:07:25   Log-Likelihood:                 502.96\n",
            "No. Observations:                 510   AIC:                            -977.9\n",
            "Df Residuals:                     496   BIC:                            -918.6\n",
            "Df Model:                          13                                         \n",
            "Covariance Type:            nonrobust                                         \n",
            "================================================================================\n",
            "                   coef    std err          t      P>|t|      [0.025      0.975]\n",
            "--------------------------------------------------------------------------------\n",
            "const            0.0930      0.019      4.839      0.000       0.055       0.131\n",
            "atemp            0.4573      0.034     13.340      0.000       0.390       0.525\n",
            "windspeed       -0.1346      0.025     -5.354      0.000      -0.184      -0.085\n",
            "season_2         0.1290      0.015      8.598      0.000       0.100       0.158\n",
            "season_3         0.0636      0.022      2.932      0.004       0.021       0.106\n",
            "season_4         0.1394      0.014     10.105      0.000       0.112       0.167\n",
            "mnth_8           0.0478      0.018      2.687      0.007       0.013       0.083\n",
            "mnth_9           0.1051      0.017      6.025      0.000       0.071       0.139\n",
            "mnth_10          0.0456      0.018      2.566      0.011       0.011       0.080\n",
            "weathersit_2    -0.0855      0.009     -9.752      0.000      -0.103      -0.068\n",
            "weathersit_3    -0.2924      0.025    -11.778      0.000      -0.341      -0.244\n",
            "weekday_6        0.0657      0.014      4.587      0.000       0.038       0.094\n",
            "yr               0.2354      0.008     28.743      0.000       0.219       0.252\n",
            "workingday       0.0553      0.011      4.968      0.000       0.033       0.077\n",
            "==============================================================================\n",
            "Omnibus:                       81.361   Durbin-Watson:                   2.030\n",
            "Prob(Omnibus):                  0.000   Jarque-Bera (JB):              242.554\n",
            "Skew:                          -0.752   Prob(JB):                     2.14e-53\n",
            "Kurtosis:                       6.025   Cond. No.                         16.4\n",
            "==============================================================================\n",
            "\n",
            "Warnings:\n",
            "[1] Standard Errors assume that the covariance matrix of the errors is correctly specified.\n"
          ]
        }
      ]
    },
    {
      "cell_type": "code",
      "source": [
        "get_vif(X_train_sk)"
      ],
      "metadata": {
        "colab": {
          "base_uri": "https://localhost:8080/"
        },
        "id": "Ca7MjzkkObA2",
        "outputId": "b1088d0e-c663-4935-831d-090cf8b0816e"
      },
      "execution_count": 688,
      "outputs": [
        {
          "output_type": "stream",
          "name": "stdout",
          "text": [
            "        features    VIF\n",
            "0          atemp  15.27\n",
            "3       season_3   7.27\n",
            "12    workingday   4.13\n",
            "1      windspeed   3.53\n",
            "2       season_2   3.31\n",
            "4       season_4   2.78\n",
            "11            yr   2.04\n",
            "5         mnth_8   1.85\n",
            "10     weekday_6   1.71\n",
            "7        mnth_10   1.63\n",
            "8   weathersit_2   1.54\n",
            "6         mnth_9   1.49\n",
            "9   weathersit_3   1.10\n"
          ]
        }
      ]
    },
    {
      "cell_type": "markdown",
      "source": [
        "#### Drop the **season_3** as which has higher VIF"
      ],
      "metadata": {
        "id": "7dCXV9icOlrk"
      }
    },
    {
      "cell_type": "code",
      "source": [
        "X_train_sk.drop('season_3',axis=1,inplace=True)"
      ],
      "metadata": {
        "id": "EXhN4ROfOa9T"
      },
      "execution_count": 689,
      "outputs": []
    },
    {
      "cell_type": "markdown",
      "source": [
        "## RFE - Model 4"
      ],
      "metadata": {
        "id": "11I9ZvjOO3IQ"
      }
    },
    {
      "cell_type": "code",
      "source": [
        "rfe_model4 = linear_model(X_train_sk.columns,X_train_sk)"
      ],
      "metadata": {
        "colab": {
          "base_uri": "https://localhost:8080/"
        },
        "id": "ENeLnKn7O2pG",
        "outputId": "99360911-41be-4f6f-f99a-27ac82fdb52d"
      },
      "execution_count": 690,
      "outputs": [
        {
          "output_type": "stream",
          "name": "stdout",
          "text": [
            "                            OLS Regression Results                            \n",
            "==============================================================================\n",
            "Dep. Variable:                    cnt   R-squared:                       0.835\n",
            "Model:                            OLS   Adj. R-squared:                  0.831\n",
            "Method:                 Least Squares   F-statistic:                     210.2\n",
            "Date:                Sun, 05 Jun 2022   Prob (F-statistic):          6.63e-186\n",
            "Time:                        01:08:10   Log-Likelihood:                 498.58\n",
            "No. Observations:                 510   AIC:                            -971.2\n",
            "Df Residuals:                     497   BIC:                            -916.1\n",
            "Df Model:                          12                                         \n",
            "Covariance Type:            nonrobust                                         \n",
            "================================================================================\n",
            "                   coef    std err          t      P>|t|      [0.025      0.975]\n",
            "--------------------------------------------------------------------------------\n",
            "const            0.0828      0.019      4.346      0.000       0.045       0.120\n",
            "atemp            0.5309      0.024     22.561      0.000       0.485       0.577\n",
            "windspeed       -0.1365      0.025     -5.393      0.000      -0.186      -0.087\n",
            "season_2         0.0993      0.011      8.897      0.000       0.077       0.121\n",
            "season_4         0.1200      0.012      9.838      0.000       0.096       0.144\n",
            "mnth_8           0.0682      0.017      4.133      0.000       0.036       0.101\n",
            "mnth_9           0.1218      0.017      7.331      0.000       0.089       0.154\n",
            "mnth_10          0.0387      0.018      2.181      0.030       0.004       0.074\n",
            "weathersit_2    -0.0860      0.009     -9.740      0.000      -0.103      -0.069\n",
            "weathersit_3    -0.2876      0.025    -11.521      0.000      -0.337      -0.239\n",
            "weekday_6        0.0656      0.014      4.546      0.000       0.037       0.094\n",
            "yr               0.2339      0.008     28.400      0.000       0.218       0.250\n",
            "workingday       0.0553      0.011      4.932      0.000       0.033       0.077\n",
            "==============================================================================\n",
            "Omnibus:                       67.775   Durbin-Watson:                   2.023\n",
            "Prob(Omnibus):                  0.000   Jarque-Bera (JB):              192.466\n",
            "Skew:                          -0.639   Prob(JB):                     1.61e-42\n",
            "Kurtosis:                       5.724   Cond. No.                         12.3\n",
            "==============================================================================\n",
            "\n",
            "Warnings:\n",
            "[1] Standard Errors assume that the covariance matrix of the errors is correctly specified.\n"
          ]
        }
      ]
    },
    {
      "cell_type": "code",
      "source": [
        "get_vif(X_train_sk)"
      ],
      "metadata": {
        "colab": {
          "base_uri": "https://localhost:8080/"
        },
        "id": "ce1NtzTxO_fY",
        "outputId": "69460907-6f5d-4c31-a7ce-b85734d3291a"
      },
      "execution_count": 691,
      "outputs": [
        {
          "output_type": "stream",
          "name": "stdout",
          "text": [
            "        features   VIF\n",
            "0          atemp  6.18\n",
            "11    workingday  4.09\n",
            "1      windspeed  3.45\n",
            "10            yr  2.02\n",
            "3       season_4  2.00\n",
            "2       season_2  1.83\n",
            "9      weekday_6  1.70\n",
            "6        mnth_10  1.61\n",
            "4         mnth_8  1.55\n",
            "7   weathersit_2  1.54\n",
            "5         mnth_9  1.33\n",
            "8   weathersit_3  1.10\n"
          ]
        }
      ]
    },
    {
      "cell_type": "markdown",
      "source": [
        "#### Let's try to drop mnth_10 and observe statistics."
      ],
      "metadata": {
        "id": "eFaglibDPF8a"
      }
    },
    {
      "cell_type": "code",
      "source": [
        "X_train_sk.drop('mnth_10',axis=1,inplace=True)"
      ],
      "metadata": {
        "id": "uF7iX1BLPcWy"
      },
      "execution_count": 692,
      "outputs": []
    },
    {
      "cell_type": "markdown",
      "source": [
        "## RFE - Model 5"
      ],
      "metadata": {
        "id": "vJrFKS8KPW6-"
      }
    },
    {
      "cell_type": "code",
      "source": [
        "rfe_model5 = linear_model(X_train_sk.columns,X_train_sk)"
      ],
      "metadata": {
        "colab": {
          "base_uri": "https://localhost:8080/"
        },
        "id": "91r3YrfpPU92",
        "outputId": "3c5b4d86-c272-4a4a-b9ba-39abfcd9fc64"
      },
      "execution_count": 693,
      "outputs": [
        {
          "output_type": "stream",
          "name": "stdout",
          "text": [
            "                            OLS Regression Results                            \n",
            "==============================================================================\n",
            "Dep. Variable:                    cnt   R-squared:                       0.834\n",
            "Model:                            OLS   Adj. R-squared:                  0.830\n",
            "Method:                 Least Squares   F-statistic:                     227.2\n",
            "Date:                Sun, 05 Jun 2022   Prob (F-statistic):          4.54e-186\n",
            "Time:                        01:09:17   Log-Likelihood:                 496.15\n",
            "No. Observations:                 510   AIC:                            -968.3\n",
            "Df Residuals:                     498   BIC:                            -917.5\n",
            "Df Model:                          11                                         \n",
            "Covariance Type:            nonrobust                                         \n",
            "================================================================================\n",
            "                   coef    std err          t      P>|t|      [0.025      0.975]\n",
            "--------------------------------------------------------------------------------\n",
            "const            0.0782      0.019      4.117      0.000       0.041       0.116\n",
            "atemp            0.5408      0.023     23.346      0.000       0.495       0.586\n",
            "windspeed       -0.1337      0.025     -5.269      0.000      -0.184      -0.084\n",
            "season_2         0.0975      0.011      8.727      0.000       0.076       0.119\n",
            "season_4         0.1331      0.011     12.496      0.000       0.112       0.154\n",
            "mnth_8           0.0650      0.017      3.939      0.000       0.033       0.097\n",
            "mnth_9           0.1162      0.016      7.052      0.000       0.084       0.149\n",
            "weathersit_2    -0.0850      0.009     -9.603      0.000      -0.102      -0.068\n",
            "weathersit_3    -0.2811      0.025    -11.300      0.000      -0.330      -0.232\n",
            "weekday_6        0.0650      0.014      4.483      0.000       0.036       0.093\n",
            "yr               0.2336      0.008     28.261      0.000       0.217       0.250\n",
            "workingday       0.0546      0.011      4.852      0.000       0.032       0.077\n",
            "==============================================================================\n",
            "Omnibus:                       59.886   Durbin-Watson:                   2.034\n",
            "Prob(Omnibus):                  0.000   Jarque-Bera (JB):              160.013\n",
            "Skew:                          -0.582   Prob(JB):                     1.79e-35\n",
            "Kurtosis:                       5.485   Cond. No.                         12.1\n",
            "==============================================================================\n",
            "\n",
            "Warnings:\n",
            "[1] Standard Errors assume that the covariance matrix of the errors is correctly specified.\n"
          ]
        }
      ]
    },
    {
      "cell_type": "code",
      "source": [
        "get_vif(X_train_sk)"
      ],
      "metadata": {
        "colab": {
          "base_uri": "https://localhost:8080/"
        },
        "id": "nVdQABTSPjlo",
        "outputId": "880592e1-9b36-4399-f4fc-488b1a87740f"
      },
      "execution_count": 694,
      "outputs": [
        {
          "output_type": "stream",
          "name": "stdout",
          "text": [
            "        features   VIF\n",
            "0          atemp  6.02\n",
            "10    workingday  4.06\n",
            "1      windspeed  3.45\n",
            "9             yr  2.02\n",
            "2       season_2  1.82\n",
            "8      weekday_6  1.69\n",
            "4         mnth_8  1.55\n",
            "6   weathersit_2  1.54\n",
            "3       season_4  1.52\n",
            "5         mnth_9  1.30\n",
            "7   weathersit_3  1.08\n"
          ]
        }
      ]
    },
    {
      "cell_type": "markdown",
      "source": [
        "#### This should be our good fit model as all p-values are zero and also VIF values are less."
      ],
      "metadata": {
        "id": "c8N5AL59Rcz4"
      }
    },
    {
      "cell_type": "code",
      "source": [
        "rfe_final_model = linear_model(X_train_sk.columns,X_train_sk)"
      ],
      "metadata": {
        "colab": {
          "base_uri": "https://localhost:8080/"
        },
        "id": "o661JMLHRoNi",
        "outputId": "6233287f-9ccb-4ce1-e4cc-2e140bcefa4a"
      },
      "execution_count": 695,
      "outputs": [
        {
          "output_type": "stream",
          "name": "stdout",
          "text": [
            "                            OLS Regression Results                            \n",
            "==============================================================================\n",
            "Dep. Variable:                    cnt   R-squared:                       0.834\n",
            "Model:                            OLS   Adj. R-squared:                  0.830\n",
            "Method:                 Least Squares   F-statistic:                     227.2\n",
            "Date:                Sun, 05 Jun 2022   Prob (F-statistic):          4.54e-186\n",
            "Time:                        01:09:54   Log-Likelihood:                 496.15\n",
            "No. Observations:                 510   AIC:                            -968.3\n",
            "Df Residuals:                     498   BIC:                            -917.5\n",
            "Df Model:                          11                                         \n",
            "Covariance Type:            nonrobust                                         \n",
            "================================================================================\n",
            "                   coef    std err          t      P>|t|      [0.025      0.975]\n",
            "--------------------------------------------------------------------------------\n",
            "const            0.0782      0.019      4.117      0.000       0.041       0.116\n",
            "atemp            0.5408      0.023     23.346      0.000       0.495       0.586\n",
            "windspeed       -0.1337      0.025     -5.269      0.000      -0.184      -0.084\n",
            "season_2         0.0975      0.011      8.727      0.000       0.076       0.119\n",
            "season_4         0.1331      0.011     12.496      0.000       0.112       0.154\n",
            "mnth_8           0.0650      0.017      3.939      0.000       0.033       0.097\n",
            "mnth_9           0.1162      0.016      7.052      0.000       0.084       0.149\n",
            "weathersit_2    -0.0850      0.009     -9.603      0.000      -0.102      -0.068\n",
            "weathersit_3    -0.2811      0.025    -11.300      0.000      -0.330      -0.232\n",
            "weekday_6        0.0650      0.014      4.483      0.000       0.036       0.093\n",
            "yr               0.2336      0.008     28.261      0.000       0.217       0.250\n",
            "workingday       0.0546      0.011      4.852      0.000       0.032       0.077\n",
            "==============================================================================\n",
            "Omnibus:                       59.886   Durbin-Watson:                   2.034\n",
            "Prob(Omnibus):                  0.000   Jarque-Bera (JB):              160.013\n",
            "Skew:                          -0.582   Prob(JB):                     1.79e-35\n",
            "Kurtosis:                       5.485   Cond. No.                         12.1\n",
            "==============================================================================\n",
            "\n",
            "Warnings:\n",
            "[1] Standard Errors assume that the covariance matrix of the errors is correctly specified.\n"
          ]
        }
      ]
    },
    {
      "cell_type": "code",
      "source": [
        "X_test = X_test[X_train_sk.columns]\n"
      ],
      "metadata": {
        "id": "Q7AVspmuB1C5"
      },
      "execution_count": 696,
      "outputs": []
    },
    {
      "cell_type": "code",
      "source": [
        "X_test_lm = sm.add_constant(X_test)\n",
        "y_pred = rfe_final_model.predict(X_test_lm)"
      ],
      "metadata": {
        "id": "FzoPFgBPKeBs"
      },
      "execution_count": 697,
      "outputs": []
    },
    {
      "cell_type": "code",
      "source": [
        "r2 = r2_score(y_test,y_pred)\n",
        "r2"
      ],
      "metadata": {
        "colab": {
          "base_uri": "https://localhost:8080/"
        },
        "id": "eYBggi_XFA_R",
        "outputId": "a587f9cf-f0f4-4b31-c6ab-77345f6b8264"
      },
      "execution_count": 698,
      "outputs": [
        {
          "output_type": "execute_result",
          "data": {
            "text/plain": [
              "0.7985406332345732"
            ]
          },
          "metadata": {},
          "execution_count": 698
        }
      ]
    },
    {
      "cell_type": "code",
      "source": [
        "fig = plt.figure()\n",
        "plt.scatter(y_test, y_pred)\n",
        "fig.suptitle('y_test vs y_pred')              \n",
        "plt.xlabel('y_test')                         \n",
        "plt.ylabel('y_pred') \n",
        "plt.show()"
      ],
      "metadata": {
        "colab": {
          "base_uri": "https://localhost:8080/",
          "height": 309
        },
        "id": "hS5Hu2zXHYxz",
        "outputId": "14d0faf6-0654-42b9-e63d-4dbc9df3b53a"
      },
      "execution_count": 699,
      "outputs": [
        {
          "output_type": "display_data",
          "data": {
            "text/plain": [
              "<Figure size 432x288 with 1 Axes>"
            ],
            "image/png": "[encoded data removed]"
          },
          "metadata": {
            "needs_background": "light"
          }
        }
      ]
    },
    {
      "cell_type": "markdown",
      "source": [
        "#### Observations\n",
        "\n",
        "\n",
        "*   Our final model using RFE has **R2-Score of 0.834** with train data and with test data predictions we got **0.799**. \n",
        "    F-statistic:                     227.2, \n",
        "    Prob (F-statistic):          4.54e-186\n",
        "*   Our final model using manual elimination  has **R2-Score of 0.835** with train data and with **test data** predictions we got **0.804**\n",
        "F-statistic:                     210.2\n",
        "Prob (F-statistic):          6.63e-186\n",
        "\n",
        "#### More or less both manual and RFE model have same statistics."
      ],
      "metadata": {
        "id": "RAbOkwim-cXm"
      }
    },
    {
      "cell_type": "markdown",
      "source": [
        "## Final Observations\n",
        "\n",
        "\n",
        "*   As per our manual feature elimination model, below are the top3 significant variables with their coefficients to predict the bike share rides count.\n",
        "           \n",
        "\n",
        "1.   **atemp**             :   0.5309\n",
        "2.   **weathersit_3**       :         -0.2876\n",
        "3.   **yr**          :        0.2339\n",
        "\n",
        "\n",
        "*   Our model has **R2-Score** of **0.835** with train data and with **test data** predictions we got **0.804** which is good.\n",
        "*   Error terms are almost normally distrbuted with mean 0- this is one of the assumption for linear regression model\n",
        "*  There is no multicollinearity in our model as VIFs are less than 10.\n",
        "### Intepretations\n",
        "\n",
        "\n",
        "\n",
        "1.   A unit increase in temp variable casues the bike share rides count increase by 0.5309 units\n",
        "2. A unit increase in yr variable casues the bike share rides count increase by 0.2339 units\n",
        "3. A unit increase in weathersit3(Light Snow, Light Rain + Thunderstorm + Scattered clouds, Light Rain + Scattered clouds variable casues the bike share rides count decrease by 0.2876 units\n",
        "4. Equation for Bike share cnt can be expressed as below.\n",
        "\n",
        "cnt = 0.0828+(0.5309*atemp)-(0.1365*windspeed)+(0.0993*season_2)+(0.1200*season_4)+(0.0682*mnth_8)+(mnth_9*0.1218)+(mnth_10*0.0387)-(weathersit_2*0.0860)-(weathersit_3*0.2876)+(weekday_6*0.0656)+(yr*0.2339)+(workingday*0.0553)\n",
        "\n",
        "\n",
        "\n"
      ],
      "metadata": {
        "id": "smw8dWJF_bYt"
      }
    }
  ]
}